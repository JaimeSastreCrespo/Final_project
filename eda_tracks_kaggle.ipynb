{
 "cells": [
  {
   "cell_type": "markdown",
   "metadata": {},
   "source": [
    "Importing libraries"
   ]
  },
  {
   "cell_type": "code",
   "execution_count": 16,
   "metadata": {},
   "outputs": [],
   "source": [
    "from sklearn.preprocessing import MinMaxScaler\n",
    "import seaborn as sns\n",
    "import altair as alt\n",
    "alt.data_transformers.disable_max_rows() # Allows altair to use 5k + datasets\n",
    "import plotly.express as px\n",
    "import matplotlib.pyplot as plt\n",
    "import pandas as pd\n",
    "import numpy as np\n",
    "import warnings\n",
    "warnings.filterwarnings('ignore')"
   ]
  },
  {
   "cell_type": "markdown",
   "metadata": {},
   "source": [
    "# Import dataset and data cleaning"
   ]
  },
  {
   "cell_type": "code",
   "execution_count": 17,
   "metadata": {},
   "outputs": [],
   "source": [
    "df = pd.read_csv('/Users/jaimesastrecrespo/DAFT_1022/Final_project/spotify_App/tracks.csv')"
   ]
  },
  {
   "cell_type": "code",
   "execution_count": 18,
   "metadata": {},
   "outputs": [
    {
     "data": {
      "text/html": [
       "<div>\n",
       "<style scoped>\n",
       "    .dataframe tbody tr th:only-of-type {\n",
       "        vertical-align: middle;\n",
       "    }\n",
       "\n",
       "    .dataframe tbody tr th {\n",
       "        vertical-align: top;\n",
       "    }\n",
       "\n",
       "    .dataframe thead th {\n",
       "        text-align: right;\n",
       "    }\n",
       "</style>\n",
       "<table border=\"1\" class=\"dataframe\">\n",
       "  <thead>\n",
       "    <tr style=\"text-align: right;\">\n",
       "      <th></th>\n",
       "      <th>id</th>\n",
       "      <th>name</th>\n",
       "      <th>popularity</th>\n",
       "      <th>duration_ms</th>\n",
       "      <th>explicit</th>\n",
       "      <th>artists</th>\n",
       "      <th>id_artists</th>\n",
       "      <th>release_date</th>\n",
       "      <th>danceability</th>\n",
       "      <th>energy</th>\n",
       "      <th>key</th>\n",
       "      <th>loudness</th>\n",
       "      <th>mode</th>\n",
       "      <th>speechiness</th>\n",
       "      <th>acousticness</th>\n",
       "      <th>instrumentalness</th>\n",
       "      <th>liveness</th>\n",
       "      <th>valence</th>\n",
       "      <th>tempo</th>\n",
       "      <th>time_signature</th>\n",
       "    </tr>\n",
       "  </thead>\n",
       "  <tbody>\n",
       "    <tr>\n",
       "      <th>0</th>\n",
       "      <td>35iwgR4jXetI318WEWsa1Q</td>\n",
       "      <td>Carve</td>\n",
       "      <td>6</td>\n",
       "      <td>126903</td>\n",
       "      <td>0</td>\n",
       "      <td>['Uli']</td>\n",
       "      <td>['45tIt06XoI0Iio4LBEVpls']</td>\n",
       "      <td>1922-02-22</td>\n",
       "      <td>0.645</td>\n",
       "      <td>0.4450</td>\n",
       "      <td>0</td>\n",
       "      <td>-13.338</td>\n",
       "      <td>1</td>\n",
       "      <td>0.4510</td>\n",
       "      <td>0.674</td>\n",
       "      <td>0.7440</td>\n",
       "      <td>0.151</td>\n",
       "      <td>0.127</td>\n",
       "      <td>104.851</td>\n",
       "      <td>3</td>\n",
       "    </tr>\n",
       "    <tr>\n",
       "      <th>1</th>\n",
       "      <td>021ht4sdgPcrDgSk7JTbKY</td>\n",
       "      <td>Capítulo 2.16 - Banquero Anarquista</td>\n",
       "      <td>0</td>\n",
       "      <td>98200</td>\n",
       "      <td>0</td>\n",
       "      <td>['Fernando Pessoa']</td>\n",
       "      <td>['14jtPCOoNZwquk5wd9DxrY']</td>\n",
       "      <td>1922-06-01</td>\n",
       "      <td>0.695</td>\n",
       "      <td>0.2630</td>\n",
       "      <td>0</td>\n",
       "      <td>-22.136</td>\n",
       "      <td>1</td>\n",
       "      <td>0.9570</td>\n",
       "      <td>0.797</td>\n",
       "      <td>0.0000</td>\n",
       "      <td>0.148</td>\n",
       "      <td>0.655</td>\n",
       "      <td>102.009</td>\n",
       "      <td>1</td>\n",
       "    </tr>\n",
       "    <tr>\n",
       "      <th>2</th>\n",
       "      <td>07A5yehtSnoedViJAZkNnc</td>\n",
       "      <td>Vivo para Quererte - Remasterizado</td>\n",
       "      <td>0</td>\n",
       "      <td>181640</td>\n",
       "      <td>0</td>\n",
       "      <td>['Ignacio Corsini']</td>\n",
       "      <td>['5LiOoJbxVSAMkBS2fUm3X2']</td>\n",
       "      <td>1922-03-21</td>\n",
       "      <td>0.434</td>\n",
       "      <td>0.1770</td>\n",
       "      <td>1</td>\n",
       "      <td>-21.180</td>\n",
       "      <td>1</td>\n",
       "      <td>0.0512</td>\n",
       "      <td>0.994</td>\n",
       "      <td>0.0218</td>\n",
       "      <td>0.212</td>\n",
       "      <td>0.457</td>\n",
       "      <td>130.418</td>\n",
       "      <td>5</td>\n",
       "    </tr>\n",
       "    <tr>\n",
       "      <th>3</th>\n",
       "      <td>08FmqUhxtyLTn6pAh6bk45</td>\n",
       "      <td>El Prisionero - Remasterizado</td>\n",
       "      <td>0</td>\n",
       "      <td>176907</td>\n",
       "      <td>0</td>\n",
       "      <td>['Ignacio Corsini']</td>\n",
       "      <td>['5LiOoJbxVSAMkBS2fUm3X2']</td>\n",
       "      <td>1922-03-21</td>\n",
       "      <td>0.321</td>\n",
       "      <td>0.0946</td>\n",
       "      <td>7</td>\n",
       "      <td>-27.961</td>\n",
       "      <td>1</td>\n",
       "      <td>0.0504</td>\n",
       "      <td>0.995</td>\n",
       "      <td>0.9180</td>\n",
       "      <td>0.104</td>\n",
       "      <td>0.397</td>\n",
       "      <td>169.980</td>\n",
       "      <td>3</td>\n",
       "    </tr>\n",
       "    <tr>\n",
       "      <th>4</th>\n",
       "      <td>08y9GfoqCWfOGsKdwojr5e</td>\n",
       "      <td>Lady of the Evening</td>\n",
       "      <td>0</td>\n",
       "      <td>163080</td>\n",
       "      <td>0</td>\n",
       "      <td>['Dick Haymes']</td>\n",
       "      <td>['3BiJGZsyX9sJchTqcSA7Su']</td>\n",
       "      <td>1922</td>\n",
       "      <td>0.402</td>\n",
       "      <td>0.1580</td>\n",
       "      <td>3</td>\n",
       "      <td>-16.900</td>\n",
       "      <td>0</td>\n",
       "      <td>0.0390</td>\n",
       "      <td>0.989</td>\n",
       "      <td>0.1300</td>\n",
       "      <td>0.311</td>\n",
       "      <td>0.196</td>\n",
       "      <td>103.220</td>\n",
       "      <td>4</td>\n",
       "    </tr>\n",
       "  </tbody>\n",
       "</table>\n",
       "</div>"
      ],
      "text/plain": [
       "                       id                                 name  popularity  \\\n",
       "0  35iwgR4jXetI318WEWsa1Q                                Carve           6   \n",
       "1  021ht4sdgPcrDgSk7JTbKY  Capítulo 2.16 - Banquero Anarquista           0   \n",
       "2  07A5yehtSnoedViJAZkNnc   Vivo para Quererte - Remasterizado           0   \n",
       "3  08FmqUhxtyLTn6pAh6bk45        El Prisionero - Remasterizado           0   \n",
       "4  08y9GfoqCWfOGsKdwojr5e                  Lady of the Evening           0   \n",
       "\n",
       "   duration_ms  explicit              artists                  id_artists  \\\n",
       "0       126903         0              ['Uli']  ['45tIt06XoI0Iio4LBEVpls']   \n",
       "1        98200         0  ['Fernando Pessoa']  ['14jtPCOoNZwquk5wd9DxrY']   \n",
       "2       181640         0  ['Ignacio Corsini']  ['5LiOoJbxVSAMkBS2fUm3X2']   \n",
       "3       176907         0  ['Ignacio Corsini']  ['5LiOoJbxVSAMkBS2fUm3X2']   \n",
       "4       163080         0      ['Dick Haymes']  ['3BiJGZsyX9sJchTqcSA7Su']   \n",
       "\n",
       "  release_date  danceability  energy  key  loudness  mode  speechiness  \\\n",
       "0   1922-02-22         0.645  0.4450    0   -13.338     1       0.4510   \n",
       "1   1922-06-01         0.695  0.2630    0   -22.136     1       0.9570   \n",
       "2   1922-03-21         0.434  0.1770    1   -21.180     1       0.0512   \n",
       "3   1922-03-21         0.321  0.0946    7   -27.961     1       0.0504   \n",
       "4         1922         0.402  0.1580    3   -16.900     0       0.0390   \n",
       "\n",
       "   acousticness  instrumentalness  liveness  valence    tempo  time_signature  \n",
       "0         0.674            0.7440     0.151    0.127  104.851               3  \n",
       "1         0.797            0.0000     0.148    0.655  102.009               1  \n",
       "2         0.994            0.0218     0.212    0.457  130.418               5  \n",
       "3         0.995            0.9180     0.104    0.397  169.980               3  \n",
       "4         0.989            0.1300     0.311    0.196  103.220               4  "
      ]
     },
     "execution_count": 18,
     "metadata": {},
     "output_type": "execute_result"
    }
   ],
   "source": [
    "df.head()"
   ]
  },
  {
   "cell_type": "code",
   "execution_count": 19,
   "metadata": {},
   "outputs": [
    {
     "data": {
      "text/plain": [
       "(586672, 20)"
      ]
     },
     "execution_count": 19,
     "metadata": {},
     "output_type": "execute_result"
    }
   ],
   "source": [
    "df.shape"
   ]
  },
  {
   "cell_type": "code",
   "execution_count": 20,
   "metadata": {},
   "outputs": [
    {
     "data": {
      "text/html": [
       "<div>\n",
       "<style scoped>\n",
       "    .dataframe tbody tr th:only-of-type {\n",
       "        vertical-align: middle;\n",
       "    }\n",
       "\n",
       "    .dataframe tbody tr th {\n",
       "        vertical-align: top;\n",
       "    }\n",
       "\n",
       "    .dataframe thead th {\n",
       "        text-align: right;\n",
       "    }\n",
       "</style>\n",
       "<table border=\"1\" class=\"dataframe\">\n",
       "  <thead>\n",
       "    <tr style=\"text-align: right;\">\n",
       "      <th></th>\n",
       "      <th>popularity</th>\n",
       "      <th>duration_ms</th>\n",
       "      <th>explicit</th>\n",
       "      <th>danceability</th>\n",
       "      <th>energy</th>\n",
       "      <th>key</th>\n",
       "      <th>loudness</th>\n",
       "      <th>mode</th>\n",
       "      <th>speechiness</th>\n",
       "      <th>acousticness</th>\n",
       "      <th>instrumentalness</th>\n",
       "      <th>liveness</th>\n",
       "      <th>valence</th>\n",
       "      <th>tempo</th>\n",
       "      <th>time_signature</th>\n",
       "    </tr>\n",
       "  </thead>\n",
       "  <tbody>\n",
       "    <tr>\n",
       "      <th>count</th>\n",
       "      <td>586672.000000</td>\n",
       "      <td>5.866720e+05</td>\n",
       "      <td>586672.000000</td>\n",
       "      <td>586672.000000</td>\n",
       "      <td>586672.000000</td>\n",
       "      <td>586672.000000</td>\n",
       "      <td>586672.000000</td>\n",
       "      <td>586672.000000</td>\n",
       "      <td>586672.000000</td>\n",
       "      <td>586672.000000</td>\n",
       "      <td>586672.000000</td>\n",
       "      <td>586672.000000</td>\n",
       "      <td>586672.000000</td>\n",
       "      <td>586672.000000</td>\n",
       "      <td>586672.000000</td>\n",
       "    </tr>\n",
       "    <tr>\n",
       "      <th>mean</th>\n",
       "      <td>27.570053</td>\n",
       "      <td>2.300512e+05</td>\n",
       "      <td>0.044086</td>\n",
       "      <td>0.563594</td>\n",
       "      <td>0.542036</td>\n",
       "      <td>5.221603</td>\n",
       "      <td>-10.206067</td>\n",
       "      <td>0.658797</td>\n",
       "      <td>0.104864</td>\n",
       "      <td>0.449863</td>\n",
       "      <td>0.113451</td>\n",
       "      <td>0.213935</td>\n",
       "      <td>0.552292</td>\n",
       "      <td>118.464857</td>\n",
       "      <td>3.873382</td>\n",
       "    </tr>\n",
       "    <tr>\n",
       "      <th>std</th>\n",
       "      <td>18.370642</td>\n",
       "      <td>1.265261e+05</td>\n",
       "      <td>0.205286</td>\n",
       "      <td>0.166103</td>\n",
       "      <td>0.251923</td>\n",
       "      <td>3.519423</td>\n",
       "      <td>5.089328</td>\n",
       "      <td>0.474114</td>\n",
       "      <td>0.179893</td>\n",
       "      <td>0.348837</td>\n",
       "      <td>0.266868</td>\n",
       "      <td>0.184326</td>\n",
       "      <td>0.257671</td>\n",
       "      <td>29.764108</td>\n",
       "      <td>0.473162</td>\n",
       "    </tr>\n",
       "    <tr>\n",
       "      <th>min</th>\n",
       "      <td>0.000000</td>\n",
       "      <td>3.344000e+03</td>\n",
       "      <td>0.000000</td>\n",
       "      <td>0.000000</td>\n",
       "      <td>0.000000</td>\n",
       "      <td>0.000000</td>\n",
       "      <td>-60.000000</td>\n",
       "      <td>0.000000</td>\n",
       "      <td>0.000000</td>\n",
       "      <td>0.000000</td>\n",
       "      <td>0.000000</td>\n",
       "      <td>0.000000</td>\n",
       "      <td>0.000000</td>\n",
       "      <td>0.000000</td>\n",
       "      <td>0.000000</td>\n",
       "    </tr>\n",
       "    <tr>\n",
       "      <th>25%</th>\n",
       "      <td>13.000000</td>\n",
       "      <td>1.750930e+05</td>\n",
       "      <td>0.000000</td>\n",
       "      <td>0.453000</td>\n",
       "      <td>0.343000</td>\n",
       "      <td>2.000000</td>\n",
       "      <td>-12.891000</td>\n",
       "      <td>0.000000</td>\n",
       "      <td>0.034000</td>\n",
       "      <td>0.096900</td>\n",
       "      <td>0.000000</td>\n",
       "      <td>0.098300</td>\n",
       "      <td>0.346000</td>\n",
       "      <td>95.600000</td>\n",
       "      <td>4.000000</td>\n",
       "    </tr>\n",
       "    <tr>\n",
       "      <th>50%</th>\n",
       "      <td>27.000000</td>\n",
       "      <td>2.148930e+05</td>\n",
       "      <td>0.000000</td>\n",
       "      <td>0.577000</td>\n",
       "      <td>0.549000</td>\n",
       "      <td>5.000000</td>\n",
       "      <td>-9.243000</td>\n",
       "      <td>1.000000</td>\n",
       "      <td>0.044300</td>\n",
       "      <td>0.422000</td>\n",
       "      <td>0.000024</td>\n",
       "      <td>0.139000</td>\n",
       "      <td>0.564000</td>\n",
       "      <td>117.384000</td>\n",
       "      <td>4.000000</td>\n",
       "    </tr>\n",
       "    <tr>\n",
       "      <th>75%</th>\n",
       "      <td>41.000000</td>\n",
       "      <td>2.638670e+05</td>\n",
       "      <td>0.000000</td>\n",
       "      <td>0.686000</td>\n",
       "      <td>0.748000</td>\n",
       "      <td>8.000000</td>\n",
       "      <td>-6.482000</td>\n",
       "      <td>1.000000</td>\n",
       "      <td>0.076300</td>\n",
       "      <td>0.785000</td>\n",
       "      <td>0.009550</td>\n",
       "      <td>0.278000</td>\n",
       "      <td>0.769000</td>\n",
       "      <td>136.321000</td>\n",
       "      <td>4.000000</td>\n",
       "    </tr>\n",
       "    <tr>\n",
       "      <th>max</th>\n",
       "      <td>100.000000</td>\n",
       "      <td>5.621218e+06</td>\n",
       "      <td>1.000000</td>\n",
       "      <td>0.991000</td>\n",
       "      <td>1.000000</td>\n",
       "      <td>11.000000</td>\n",
       "      <td>5.376000</td>\n",
       "      <td>1.000000</td>\n",
       "      <td>0.971000</td>\n",
       "      <td>0.996000</td>\n",
       "      <td>1.000000</td>\n",
       "      <td>1.000000</td>\n",
       "      <td>1.000000</td>\n",
       "      <td>246.381000</td>\n",
       "      <td>5.000000</td>\n",
       "    </tr>\n",
       "  </tbody>\n",
       "</table>\n",
       "</div>"
      ],
      "text/plain": [
       "          popularity   duration_ms       explicit   danceability  \\\n",
       "count  586672.000000  5.866720e+05  586672.000000  586672.000000   \n",
       "mean       27.570053  2.300512e+05       0.044086       0.563594   \n",
       "std        18.370642  1.265261e+05       0.205286       0.166103   \n",
       "min         0.000000  3.344000e+03       0.000000       0.000000   \n",
       "25%        13.000000  1.750930e+05       0.000000       0.453000   \n",
       "50%        27.000000  2.148930e+05       0.000000       0.577000   \n",
       "75%        41.000000  2.638670e+05       0.000000       0.686000   \n",
       "max       100.000000  5.621218e+06       1.000000       0.991000   \n",
       "\n",
       "              energy            key       loudness           mode  \\\n",
       "count  586672.000000  586672.000000  586672.000000  586672.000000   \n",
       "mean        0.542036       5.221603     -10.206067       0.658797   \n",
       "std         0.251923       3.519423       5.089328       0.474114   \n",
       "min         0.000000       0.000000     -60.000000       0.000000   \n",
       "25%         0.343000       2.000000     -12.891000       0.000000   \n",
       "50%         0.549000       5.000000      -9.243000       1.000000   \n",
       "75%         0.748000       8.000000      -6.482000       1.000000   \n",
       "max         1.000000      11.000000       5.376000       1.000000   \n",
       "\n",
       "         speechiness   acousticness  instrumentalness       liveness  \\\n",
       "count  586672.000000  586672.000000     586672.000000  586672.000000   \n",
       "mean        0.104864       0.449863          0.113451       0.213935   \n",
       "std         0.179893       0.348837          0.266868       0.184326   \n",
       "min         0.000000       0.000000          0.000000       0.000000   \n",
       "25%         0.034000       0.096900          0.000000       0.098300   \n",
       "50%         0.044300       0.422000          0.000024       0.139000   \n",
       "75%         0.076300       0.785000          0.009550       0.278000   \n",
       "max         0.971000       0.996000          1.000000       1.000000   \n",
       "\n",
       "             valence          tempo  time_signature  \n",
       "count  586672.000000  586672.000000   586672.000000  \n",
       "mean        0.552292     118.464857        3.873382  \n",
       "std         0.257671      29.764108        0.473162  \n",
       "min         0.000000       0.000000        0.000000  \n",
       "25%         0.346000      95.600000        4.000000  \n",
       "50%         0.564000     117.384000        4.000000  \n",
       "75%         0.769000     136.321000        4.000000  \n",
       "max         1.000000     246.381000        5.000000  "
      ]
     },
     "execution_count": 20,
     "metadata": {},
     "output_type": "execute_result"
    }
   ],
   "source": [
    "df.describe()"
   ]
  },
  {
   "cell_type": "code",
   "execution_count": 21,
   "metadata": {},
   "outputs": [
    {
     "data": {
      "text/plain": [
       "id                   0\n",
       "name                71\n",
       "popularity           0\n",
       "duration_ms          0\n",
       "explicit             0\n",
       "artists              0\n",
       "id_artists           0\n",
       "release_date         0\n",
       "danceability         0\n",
       "energy               0\n",
       "key                  0\n",
       "loudness             0\n",
       "mode                 0\n",
       "speechiness          0\n",
       "acousticness         0\n",
       "instrumentalness     0\n",
       "liveness             0\n",
       "valence              0\n",
       "tempo                0\n",
       "time_signature       0\n",
       "dtype: int64"
      ]
     },
     "execution_count": 21,
     "metadata": {},
     "output_type": "execute_result"
    }
   ],
   "source": [
    "df.isnull().sum()"
   ]
  },
  {
   "cell_type": "code",
   "execution_count": 22,
   "metadata": {},
   "outputs": [],
   "source": [
    "df.dropna(inplace=True)"
   ]
  },
  {
   "cell_type": "code",
   "execution_count": 23,
   "metadata": {},
   "outputs": [],
   "source": [
    "# New column in seconds, drop miliseconds\n",
    "df['duration'] = round(df['duration_ms']/1000,0)\n",
    "df.drop(\"duration_ms\",axis=1, inplace=True)"
   ]
  },
  {
   "cell_type": "code",
   "execution_count": 24,
   "metadata": {},
   "outputs": [],
   "source": [
    "#As some songs have more than one artist, I want to know how many artists have each song\n",
    "df['artists_count'] = df['artists'].apply(lambda x: x.count(',') + 1 )"
   ]
  },
  {
   "cell_type": "code",
   "execution_count": 25,
   "metadata": {},
   "outputs": [],
   "source": [
    "#Remove the Square Brackets from the artists\n",
    "\n",
    "df[\"artists\"]=df[\"artists\"].str.replace(\"[\", \"\")\n",
    "df[\"artists\"]=df[\"artists\"].str.replace(\"]\", \"\")\n",
    "df[\"artists\"]=df[\"artists\"].str.replace(\"'\", \"\")"
   ]
  },
  {
   "cell_type": "code",
   "execution_count": 26,
   "metadata": {},
   "outputs": [],
   "source": [
    "# I want to know in which year the song released\n",
    "df['year'] = pd.DatetimeIndex(df['release_date']).year\n",
    "#And for the decade: \n",
    "#                   create a decade column for each track based on the year of its release\n",
    "df['Song_decade'] = None\n",
    "\n",
    "df.loc[(df['year'] >= 1920) & (df['year'] < 1930), 'Song_decade'] = '1920s'\n",
    "df.loc[(df['year'] >= 1930) & (df['year'] < 1940), 'Song_decade'] = '1930s'\n",
    "df.loc[(df['year'] >= 1940) & (df['year'] < 1950), 'Song_decade'] = '1940s'\n",
    "df.loc[(df['year'] >= 1950) & (df['year'] < 1960), 'Song_decade'] = '1950s'\n",
    "df.loc[(df['year'] >= 1960) & (df['year'] < 1970), 'Song_decade'] = '1960s'\n",
    "df.loc[(df['year'] >= 1970) & (df['year'] < 1980) , 'Song_decade'] = '1970s'\n",
    "df.loc[(df['year'] >= 1980) & (df['year'] < 1990) , 'Song_decade'] = '1980s'\n",
    "df.loc[(df['year'] >= 1990) & (df['year'] < 2000) , 'Song_decade'] = '1990s'\n",
    "df.loc[(df['year'] >= 2000) & (df['year'] < 2010) , 'Song_decade'] = '2000s'\n",
    "df.loc[(df['year'] >= 2010) & (df['year'] < 2020) , 'Song_decade'] = '2010s'\n",
    "df.loc[(df['year'] >= 2020) & (df['year'] < 2030) , 'Song_decade'] = '2020s'"
   ]
  },
  {
   "cell_type": "code",
   "execution_count": 27,
   "metadata": {},
   "outputs": [
    {
     "data": {
      "text/plain": [
       "0"
      ]
     },
     "execution_count": 27,
     "metadata": {},
     "output_type": "execute_result"
    }
   ],
   "source": [
    "df.duplicated().any().sum() \n",
    "# no duplicates"
   ]
  },
  {
   "cell_type": "code",
   "execution_count": 28,
   "metadata": {},
   "outputs": [
    {
     "data": {
      "text/html": [
       "<div>\n",
       "<style scoped>\n",
       "    .dataframe tbody tr th:only-of-type {\n",
       "        vertical-align: middle;\n",
       "    }\n",
       "\n",
       "    .dataframe tbody tr th {\n",
       "        vertical-align: top;\n",
       "    }\n",
       "\n",
       "    .dataframe thead th {\n",
       "        text-align: right;\n",
       "    }\n",
       "</style>\n",
       "<table border=\"1\" class=\"dataframe\">\n",
       "  <thead>\n",
       "    <tr style=\"text-align: right;\">\n",
       "      <th></th>\n",
       "      <th>id</th>\n",
       "      <th>name</th>\n",
       "      <th>popularity</th>\n",
       "      <th>explicit</th>\n",
       "      <th>artists</th>\n",
       "      <th>id_artists</th>\n",
       "      <th>release_date</th>\n",
       "      <th>danceability</th>\n",
       "      <th>energy</th>\n",
       "      <th>key</th>\n",
       "      <th>...</th>\n",
       "      <th>acousticness</th>\n",
       "      <th>instrumentalness</th>\n",
       "      <th>liveness</th>\n",
       "      <th>valence</th>\n",
       "      <th>tempo</th>\n",
       "      <th>time_signature</th>\n",
       "      <th>duration</th>\n",
       "      <th>artists_count</th>\n",
       "      <th>year</th>\n",
       "      <th>Song_decade</th>\n",
       "    </tr>\n",
       "  </thead>\n",
       "  <tbody>\n",
       "    <tr>\n",
       "      <th>121</th>\n",
       "      <td>5cUFFY2Atw4QeFitueQCt2</td>\n",
       "      <td>El Huerfano - Remasterizado</td>\n",
       "      <td>0</td>\n",
       "      <td>0</td>\n",
       "      <td>Ignacio Corsini</td>\n",
       "      <td>['5LiOoJbxVSAMkBS2fUm3X2']</td>\n",
       "      <td>1922-03-29</td>\n",
       "      <td>0.366</td>\n",
       "      <td>0.0749</td>\n",
       "      <td>7</td>\n",
       "      <td>...</td>\n",
       "      <td>0.99600</td>\n",
       "      <td>0.924000</td>\n",
       "      <td>0.1170</td>\n",
       "      <td>0.515</td>\n",
       "      <td>90.969</td>\n",
       "      <td>3</td>\n",
       "      <td>160.0</td>\n",
       "      <td>1</td>\n",
       "      <td>1922</td>\n",
       "      <td>1920s</td>\n",
       "    </tr>\n",
       "    <tr>\n",
       "      <th>230</th>\n",
       "      <td>5eXOIVUkW17FqnEoLR2wTX</td>\n",
       "      <td>Stardust</td>\n",
       "      <td>5</td>\n",
       "      <td>0</td>\n",
       "      <td>Louis Armstrong</td>\n",
       "      <td>['19eLuQmk9aCobbVDHc6eek']</td>\n",
       "      <td>1923</td>\n",
       "      <td>0.614</td>\n",
       "      <td>0.2980</td>\n",
       "      <td>3</td>\n",
       "      <td>...</td>\n",
       "      <td>0.97000</td>\n",
       "      <td>0.646000</td>\n",
       "      <td>0.0514</td>\n",
       "      <td>0.772</td>\n",
       "      <td>122.319</td>\n",
       "      <td>4</td>\n",
       "      <td>214.0</td>\n",
       "      <td>1</td>\n",
       "      <td>1923</td>\n",
       "      <td>1920s</td>\n",
       "    </tr>\n",
       "    <tr>\n",
       "      <th>398</th>\n",
       "      <td>2gFUqcLFUDVXcWmeKAOnGd</td>\n",
       "      <td>Pobre Cotorro - Remasterizado</td>\n",
       "      <td>0</td>\n",
       "      <td>0</td>\n",
       "      <td>Ignacio Corsini</td>\n",
       "      <td>['5LiOoJbxVSAMkBS2fUm3X2']</td>\n",
       "      <td>1923-03-29</td>\n",
       "      <td>0.502</td>\n",
       "      <td>0.2980</td>\n",
       "      <td>5</td>\n",
       "      <td>...</td>\n",
       "      <td>0.99500</td>\n",
       "      <td>0.919000</td>\n",
       "      <td>0.2850</td>\n",
       "      <td>0.510</td>\n",
       "      <td>135.238</td>\n",
       "      <td>4</td>\n",
       "      <td>171.0</td>\n",
       "      <td>1</td>\n",
       "      <td>1923</td>\n",
       "      <td>1920s</td>\n",
       "    </tr>\n",
       "    <tr>\n",
       "      <th>511</th>\n",
       "      <td>4Q5I6riVFNV4mJaqSCmB0C</td>\n",
       "      <td>Basin Street Blues - rec. 1928</td>\n",
       "      <td>4</td>\n",
       "      <td>0</td>\n",
       "      <td>Louis Armstrong &amp; His Hot Five</td>\n",
       "      <td>['0t4VVR2T9Sb0z3NdDdEU6S']</td>\n",
       "      <td>1923</td>\n",
       "      <td>0.604</td>\n",
       "      <td>0.2790</td>\n",
       "      <td>10</td>\n",
       "      <td>...</td>\n",
       "      <td>0.98600</td>\n",
       "      <td>0.237000</td>\n",
       "      <td>0.2750</td>\n",
       "      <td>0.594</td>\n",
       "      <td>123.271</td>\n",
       "      <td>4</td>\n",
       "      <td>207.0</td>\n",
       "      <td>1</td>\n",
       "      <td>1923</td>\n",
       "      <td>1920s</td>\n",
       "    </tr>\n",
       "    <tr>\n",
       "      <th>719</th>\n",
       "      <td>0OJgo5mwk8SirgbF8Ht4lA</td>\n",
       "      <td>Juan de los Santos Arena - Remasterizado</td>\n",
       "      <td>0</td>\n",
       "      <td>0</td>\n",
       "      <td>Ignacio Corsini</td>\n",
       "      <td>['5LiOoJbxVSAMkBS2fUm3X2']</td>\n",
       "      <td>1924-03-29</td>\n",
       "      <td>0.408</td>\n",
       "      <td>0.1980</td>\n",
       "      <td>4</td>\n",
       "      <td>...</td>\n",
       "      <td>0.98000</td>\n",
       "      <td>0.900000</td>\n",
       "      <td>0.1140</td>\n",
       "      <td>0.150</td>\n",
       "      <td>120.807</td>\n",
       "      <td>4</td>\n",
       "      <td>144.0</td>\n",
       "      <td>1</td>\n",
       "      <td>1924</td>\n",
       "      <td>1920s</td>\n",
       "    </tr>\n",
       "    <tr>\n",
       "      <th>...</th>\n",
       "      <td>...</td>\n",
       "      <td>...</td>\n",
       "      <td>...</td>\n",
       "      <td>...</td>\n",
       "      <td>...</td>\n",
       "      <td>...</td>\n",
       "      <td>...</td>\n",
       "      <td>...</td>\n",
       "      <td>...</td>\n",
       "      <td>...</td>\n",
       "      <td>...</td>\n",
       "      <td>...</td>\n",
       "      <td>...</td>\n",
       "      <td>...</td>\n",
       "      <td>...</td>\n",
       "      <td>...</td>\n",
       "      <td>...</td>\n",
       "      <td>...</td>\n",
       "      <td>...</td>\n",
       "      <td>...</td>\n",
       "      <td>...</td>\n",
       "    </tr>\n",
       "    <tr>\n",
       "      <th>586602</th>\n",
       "      <td>3fSZR3szZHnFQkpMFzwDNF</td>\n",
       "      <td>我在呢</td>\n",
       "      <td>45</td>\n",
       "      <td>0</td>\n",
       "      <td>TANK 呂建忠</td>\n",
       "      <td>['39LWbzZB6lcrRviPzrAVdZ']</td>\n",
       "      <td>2018-08-02</td>\n",
       "      <td>0.577</td>\n",
       "      <td>0.4470</td>\n",
       "      <td>1</td>\n",
       "      <td>...</td>\n",
       "      <td>0.59200</td>\n",
       "      <td>0.000000</td>\n",
       "      <td>0.1070</td>\n",
       "      <td>0.318</td>\n",
       "      <td>119.905</td>\n",
       "      <td>4</td>\n",
       "      <td>217.0</td>\n",
       "      <td>1</td>\n",
       "      <td>2018</td>\n",
       "      <td>2010s</td>\n",
       "    </tr>\n",
       "    <tr>\n",
       "      <th>586604</th>\n",
       "      <td>11DUHbs4Vu8M7ppePmszse</td>\n",
       "      <td>誰</td>\n",
       "      <td>45</td>\n",
       "      <td>0</td>\n",
       "      <td>Yo Lee</td>\n",
       "      <td>['1D2LuIU6rgg0MGa0l8wYJh']</td>\n",
       "      <td>2018-08-31</td>\n",
       "      <td>0.468</td>\n",
       "      <td>0.2600</td>\n",
       "      <td>1</td>\n",
       "      <td>...</td>\n",
       "      <td>0.69400</td>\n",
       "      <td>0.000000</td>\n",
       "      <td>0.1090</td>\n",
       "      <td>0.214</td>\n",
       "      <td>128.579</td>\n",
       "      <td>4</td>\n",
       "      <td>251.0</td>\n",
       "      <td>1</td>\n",
       "      <td>2018</td>\n",
       "      <td>2010s</td>\n",
       "    </tr>\n",
       "    <tr>\n",
       "      <th>586637</th>\n",
       "      <td>1HpzOCZbNWzxvvXfSGtSrX</td>\n",
       "      <td>Find U Again (feat. Camila Cabello)</td>\n",
       "      <td>64</td>\n",
       "      <td>0</td>\n",
       "      <td>Mark Ronson, Camila Cabello</td>\n",
       "      <td>['3hv9jJF3adDNsBSIQDqcjp', '4nDoRrQiYLoBzwC5Bh...</td>\n",
       "      <td>2019-05-30</td>\n",
       "      <td>0.605</td>\n",
       "      <td>0.6640</td>\n",
       "      <td>8</td>\n",
       "      <td>...</td>\n",
       "      <td>0.00548</td>\n",
       "      <td>0.000003</td>\n",
       "      <td>0.2040</td>\n",
       "      <td>0.164</td>\n",
       "      <td>103.997</td>\n",
       "      <td>4</td>\n",
       "      <td>176.0</td>\n",
       "      <td>2</td>\n",
       "      <td>2019</td>\n",
       "      <td>2010s</td>\n",
       "    </tr>\n",
       "    <tr>\n",
       "      <th>586646</th>\n",
       "      <td>0F2muCxmWhi7NfY9poM0KZ</td>\n",
       "      <td>至少我還記得 - 天堂的微笑插曲</td>\n",
       "      <td>44</td>\n",
       "      <td>0</td>\n",
       "      <td>Eric Chou</td>\n",
       "      <td>['5fEQLwq1BWWQNR8GzhOIvi']</td>\n",
       "      <td>2019-01-10</td>\n",
       "      <td>0.269</td>\n",
       "      <td>0.3680</td>\n",
       "      <td>10</td>\n",
       "      <td>...</td>\n",
       "      <td>0.72400</td>\n",
       "      <td>0.000003</td>\n",
       "      <td>0.1110</td>\n",
       "      <td>0.337</td>\n",
       "      <td>168.803</td>\n",
       "      <td>4</td>\n",
       "      <td>305.0</td>\n",
       "      <td>1</td>\n",
       "      <td>2019</td>\n",
       "      <td>2010s</td>\n",
       "    </tr>\n",
       "    <tr>\n",
       "      <th>586647</th>\n",
       "      <td>0mDsJ6a7qY3DWbCAHancPj</td>\n",
       "      <td>King - Acoustic</td>\n",
       "      <td>2</td>\n",
       "      <td>0</td>\n",
       "      <td>Years &amp; Years</td>\n",
       "      <td>['5vBSrE1xujD2FXYRarbAXc']</td>\n",
       "      <td>2020-06-26</td>\n",
       "      <td>0.451</td>\n",
       "      <td>0.1950</td>\n",
       "      <td>2</td>\n",
       "      <td>...</td>\n",
       "      <td>0.95800</td>\n",
       "      <td>0.000003</td>\n",
       "      <td>0.1040</td>\n",
       "      <td>0.286</td>\n",
       "      <td>93.706</td>\n",
       "      <td>4</td>\n",
       "      <td>244.0</td>\n",
       "      <td>1</td>\n",
       "      <td>2020</td>\n",
       "      <td>2020s</td>\n",
       "    </tr>\n",
       "  </tbody>\n",
       "</table>\n",
       "<p>59998 rows × 23 columns</p>\n",
       "</div>"
      ],
      "text/plain": [
       "                            id                                      name  \\\n",
       "121     5cUFFY2Atw4QeFitueQCt2               El Huerfano - Remasterizado   \n",
       "230     5eXOIVUkW17FqnEoLR2wTX                                  Stardust   \n",
       "398     2gFUqcLFUDVXcWmeKAOnGd             Pobre Cotorro - Remasterizado   \n",
       "511     4Q5I6riVFNV4mJaqSCmB0C            Basin Street Blues - rec. 1928   \n",
       "719     0OJgo5mwk8SirgbF8Ht4lA  Juan de los Santos Arena - Remasterizado   \n",
       "...                        ...                                       ...   \n",
       "586602  3fSZR3szZHnFQkpMFzwDNF                                       我在呢   \n",
       "586604  11DUHbs4Vu8M7ppePmszse                                         誰   \n",
       "586637  1HpzOCZbNWzxvvXfSGtSrX       Find U Again (feat. Camila Cabello)   \n",
       "586646  0F2muCxmWhi7NfY9poM0KZ                          至少我還記得 - 天堂的微笑插曲   \n",
       "586647  0mDsJ6a7qY3DWbCAHancPj                           King - Acoustic   \n",
       "\n",
       "        popularity  explicit                         artists  \\\n",
       "121              0         0                 Ignacio Corsini   \n",
       "230              5         0                 Louis Armstrong   \n",
       "398              0         0                 Ignacio Corsini   \n",
       "511              4         0  Louis Armstrong & His Hot Five   \n",
       "719              0         0                 Ignacio Corsini   \n",
       "...            ...       ...                             ...   \n",
       "586602          45         0                        TANK 呂建忠   \n",
       "586604          45         0                          Yo Lee   \n",
       "586637          64         0     Mark Ronson, Camila Cabello   \n",
       "586646          44         0                       Eric Chou   \n",
       "586647           2         0                   Years & Years   \n",
       "\n",
       "                                               id_artists release_date  \\\n",
       "121                            ['5LiOoJbxVSAMkBS2fUm3X2']   1922-03-29   \n",
       "230                            ['19eLuQmk9aCobbVDHc6eek']         1923   \n",
       "398                            ['5LiOoJbxVSAMkBS2fUm3X2']   1923-03-29   \n",
       "511                            ['0t4VVR2T9Sb0z3NdDdEU6S']         1923   \n",
       "719                            ['5LiOoJbxVSAMkBS2fUm3X2']   1924-03-29   \n",
       "...                                                   ...          ...   \n",
       "586602                         ['39LWbzZB6lcrRviPzrAVdZ']   2018-08-02   \n",
       "586604                         ['1D2LuIU6rgg0MGa0l8wYJh']   2018-08-31   \n",
       "586637  ['3hv9jJF3adDNsBSIQDqcjp', '4nDoRrQiYLoBzwC5Bh...   2019-05-30   \n",
       "586646                         ['5fEQLwq1BWWQNR8GzhOIvi']   2019-01-10   \n",
       "586647                         ['5vBSrE1xujD2FXYRarbAXc']   2020-06-26   \n",
       "\n",
       "        danceability  energy  key  ...  acousticness  instrumentalness  \\\n",
       "121            0.366  0.0749    7  ...       0.99600          0.924000   \n",
       "230            0.614  0.2980    3  ...       0.97000          0.646000   \n",
       "398            0.502  0.2980    5  ...       0.99500          0.919000   \n",
       "511            0.604  0.2790   10  ...       0.98600          0.237000   \n",
       "719            0.408  0.1980    4  ...       0.98000          0.900000   \n",
       "...              ...     ...  ...  ...           ...               ...   \n",
       "586602         0.577  0.4470    1  ...       0.59200          0.000000   \n",
       "586604         0.468  0.2600    1  ...       0.69400          0.000000   \n",
       "586637         0.605  0.6640    8  ...       0.00548          0.000003   \n",
       "586646         0.269  0.3680   10  ...       0.72400          0.000003   \n",
       "586647         0.451  0.1950    2  ...       0.95800          0.000003   \n",
       "\n",
       "        liveness  valence    tempo  time_signature  duration  artists_count  \\\n",
       "121       0.1170    0.515   90.969               3     160.0              1   \n",
       "230       0.0514    0.772  122.319               4     214.0              1   \n",
       "398       0.2850    0.510  135.238               4     171.0              1   \n",
       "511       0.2750    0.594  123.271               4     207.0              1   \n",
       "719       0.1140    0.150  120.807               4     144.0              1   \n",
       "...          ...      ...      ...             ...       ...            ...   \n",
       "586602    0.1070    0.318  119.905               4     217.0              1   \n",
       "586604    0.1090    0.214  128.579               4     251.0              1   \n",
       "586637    0.2040    0.164  103.997               4     176.0              2   \n",
       "586646    0.1110    0.337  168.803               4     305.0              1   \n",
       "586647    0.1040    0.286   93.706               4     244.0              1   \n",
       "\n",
       "        year  Song_decade  \n",
       "121     1922        1920s  \n",
       "230     1923        1920s  \n",
       "398     1923        1920s  \n",
       "511     1923        1920s  \n",
       "719     1924        1920s  \n",
       "...      ...          ...  \n",
       "586602  2018        2010s  \n",
       "586604  2018        2010s  \n",
       "586637  2019        2010s  \n",
       "586646  2019        2010s  \n",
       "586647  2020        2020s  \n",
       "\n",
       "[59998 rows x 23 columns]"
      ]
     },
     "execution_count": 28,
     "metadata": {},
     "output_type": "execute_result"
    }
   ],
   "source": [
    "## lets examine the dataset closely for duplicates\n",
    "## examine the dataset for tracks with same name and artists, we can see that the dataset has some duplicate rows\n",
    "## duplicates were not seen earlier because of a unique id column for each row\n",
    "duplicate_names_artist = df[df.duplicated(['name', 'artists'])] \n",
    "# there are songs with same name and artists\n",
    "duplicate_names_artist"
   ]
  },
  {
   "cell_type": "code",
   "execution_count": 29,
   "metadata": {},
   "outputs": [
    {
     "data": {
      "text/html": [
       "<div>\n",
       "<style scoped>\n",
       "    .dataframe tbody tr th:only-of-type {\n",
       "        vertical-align: middle;\n",
       "    }\n",
       "\n",
       "    .dataframe tbody tr th {\n",
       "        vertical-align: top;\n",
       "    }\n",
       "\n",
       "    .dataframe thead th {\n",
       "        text-align: right;\n",
       "    }\n",
       "</style>\n",
       "<table border=\"1\" class=\"dataframe\">\n",
       "  <thead>\n",
       "    <tr style=\"text-align: right;\">\n",
       "      <th></th>\n",
       "      <th>id</th>\n",
       "      <th>name</th>\n",
       "      <th>popularity</th>\n",
       "      <th>explicit</th>\n",
       "      <th>artists</th>\n",
       "      <th>id_artists</th>\n",
       "      <th>release_date</th>\n",
       "      <th>danceability</th>\n",
       "      <th>energy</th>\n",
       "      <th>key</th>\n",
       "      <th>...</th>\n",
       "      <th>acousticness</th>\n",
       "      <th>instrumentalness</th>\n",
       "      <th>liveness</th>\n",
       "      <th>valence</th>\n",
       "      <th>tempo</th>\n",
       "      <th>time_signature</th>\n",
       "      <th>duration</th>\n",
       "      <th>artists_count</th>\n",
       "      <th>year</th>\n",
       "      <th>Song_decade</th>\n",
       "    </tr>\n",
       "  </thead>\n",
       "  <tbody>\n",
       "    <tr>\n",
       "      <th>0</th>\n",
       "      <td>35iwgR4jXetI318WEWsa1Q</td>\n",
       "      <td>Carve</td>\n",
       "      <td>6</td>\n",
       "      <td>0</td>\n",
       "      <td>Uli</td>\n",
       "      <td>['45tIt06XoI0Iio4LBEVpls']</td>\n",
       "      <td>1922-02-22</td>\n",
       "      <td>0.645</td>\n",
       "      <td>0.4450</td>\n",
       "      <td>0</td>\n",
       "      <td>...</td>\n",
       "      <td>0.674</td>\n",
       "      <td>0.744000</td>\n",
       "      <td>0.1510</td>\n",
       "      <td>0.1270</td>\n",
       "      <td>104.851</td>\n",
       "      <td>3</td>\n",
       "      <td>127.0</td>\n",
       "      <td>1</td>\n",
       "      <td>1922</td>\n",
       "      <td>1920s</td>\n",
       "    </tr>\n",
       "    <tr>\n",
       "      <th>1</th>\n",
       "      <td>021ht4sdgPcrDgSk7JTbKY</td>\n",
       "      <td>Capítulo 2.16 - Banquero Anarquista</td>\n",
       "      <td>0</td>\n",
       "      <td>0</td>\n",
       "      <td>Fernando Pessoa</td>\n",
       "      <td>['14jtPCOoNZwquk5wd9DxrY']</td>\n",
       "      <td>1922-06-01</td>\n",
       "      <td>0.695</td>\n",
       "      <td>0.2630</td>\n",
       "      <td>0</td>\n",
       "      <td>...</td>\n",
       "      <td>0.797</td>\n",
       "      <td>0.000000</td>\n",
       "      <td>0.1480</td>\n",
       "      <td>0.6550</td>\n",
       "      <td>102.009</td>\n",
       "      <td>1</td>\n",
       "      <td>98.0</td>\n",
       "      <td>1</td>\n",
       "      <td>1922</td>\n",
       "      <td>1920s</td>\n",
       "    </tr>\n",
       "    <tr>\n",
       "      <th>2</th>\n",
       "      <td>07A5yehtSnoedViJAZkNnc</td>\n",
       "      <td>Vivo para Quererte - Remasterizado</td>\n",
       "      <td>0</td>\n",
       "      <td>0</td>\n",
       "      <td>Ignacio Corsini</td>\n",
       "      <td>['5LiOoJbxVSAMkBS2fUm3X2']</td>\n",
       "      <td>1922-03-21</td>\n",
       "      <td>0.434</td>\n",
       "      <td>0.1770</td>\n",
       "      <td>1</td>\n",
       "      <td>...</td>\n",
       "      <td>0.994</td>\n",
       "      <td>0.021800</td>\n",
       "      <td>0.2120</td>\n",
       "      <td>0.4570</td>\n",
       "      <td>130.418</td>\n",
       "      <td>5</td>\n",
       "      <td>182.0</td>\n",
       "      <td>1</td>\n",
       "      <td>1922</td>\n",
       "      <td>1920s</td>\n",
       "    </tr>\n",
       "    <tr>\n",
       "      <th>3</th>\n",
       "      <td>08FmqUhxtyLTn6pAh6bk45</td>\n",
       "      <td>El Prisionero - Remasterizado</td>\n",
       "      <td>0</td>\n",
       "      <td>0</td>\n",
       "      <td>Ignacio Corsini</td>\n",
       "      <td>['5LiOoJbxVSAMkBS2fUm3X2']</td>\n",
       "      <td>1922-03-21</td>\n",
       "      <td>0.321</td>\n",
       "      <td>0.0946</td>\n",
       "      <td>7</td>\n",
       "      <td>...</td>\n",
       "      <td>0.995</td>\n",
       "      <td>0.918000</td>\n",
       "      <td>0.1040</td>\n",
       "      <td>0.3970</td>\n",
       "      <td>169.980</td>\n",
       "      <td>3</td>\n",
       "      <td>177.0</td>\n",
       "      <td>1</td>\n",
       "      <td>1922</td>\n",
       "      <td>1920s</td>\n",
       "    </tr>\n",
       "    <tr>\n",
       "      <th>4</th>\n",
       "      <td>08y9GfoqCWfOGsKdwojr5e</td>\n",
       "      <td>Lady of the Evening</td>\n",
       "      <td>0</td>\n",
       "      <td>0</td>\n",
       "      <td>Dick Haymes</td>\n",
       "      <td>['3BiJGZsyX9sJchTqcSA7Su']</td>\n",
       "      <td>1922</td>\n",
       "      <td>0.402</td>\n",
       "      <td>0.1580</td>\n",
       "      <td>3</td>\n",
       "      <td>...</td>\n",
       "      <td>0.989</td>\n",
       "      <td>0.130000</td>\n",
       "      <td>0.3110</td>\n",
       "      <td>0.1960</td>\n",
       "      <td>103.220</td>\n",
       "      <td>4</td>\n",
       "      <td>163.0</td>\n",
       "      <td>1</td>\n",
       "      <td>1922</td>\n",
       "      <td>1920s</td>\n",
       "    </tr>\n",
       "    <tr>\n",
       "      <th>...</th>\n",
       "      <td>...</td>\n",
       "      <td>...</td>\n",
       "      <td>...</td>\n",
       "      <td>...</td>\n",
       "      <td>...</td>\n",
       "      <td>...</td>\n",
       "      <td>...</td>\n",
       "      <td>...</td>\n",
       "      <td>...</td>\n",
       "      <td>...</td>\n",
       "      <td>...</td>\n",
       "      <td>...</td>\n",
       "      <td>...</td>\n",
       "      <td>...</td>\n",
       "      <td>...</td>\n",
       "      <td>...</td>\n",
       "      <td>...</td>\n",
       "      <td>...</td>\n",
       "      <td>...</td>\n",
       "      <td>...</td>\n",
       "      <td>...</td>\n",
       "    </tr>\n",
       "    <tr>\n",
       "      <th>586667</th>\n",
       "      <td>5rgu12WBIHQtvej2MdHSH0</td>\n",
       "      <td>云与海</td>\n",
       "      <td>50</td>\n",
       "      <td>0</td>\n",
       "      <td>阿YueYue</td>\n",
       "      <td>['1QLBXKM5GCpyQQSVMNZqrZ']</td>\n",
       "      <td>2020-09-26</td>\n",
       "      <td>0.560</td>\n",
       "      <td>0.5180</td>\n",
       "      <td>0</td>\n",
       "      <td>...</td>\n",
       "      <td>0.785</td>\n",
       "      <td>0.000000</td>\n",
       "      <td>0.0648</td>\n",
       "      <td>0.2110</td>\n",
       "      <td>131.896</td>\n",
       "      <td>4</td>\n",
       "      <td>258.0</td>\n",
       "      <td>1</td>\n",
       "      <td>2020</td>\n",
       "      <td>2020s</td>\n",
       "    </tr>\n",
       "    <tr>\n",
       "      <th>586668</th>\n",
       "      <td>0NuWgxEp51CutD2pJoF4OM</td>\n",
       "      <td>blind</td>\n",
       "      <td>72</td>\n",
       "      <td>0</td>\n",
       "      <td>ROLE MODEL</td>\n",
       "      <td>['1dy5WNgIKQU6ezkpZs4y8z']</td>\n",
       "      <td>2020-10-21</td>\n",
       "      <td>0.765</td>\n",
       "      <td>0.6630</td>\n",
       "      <td>0</td>\n",
       "      <td>...</td>\n",
       "      <td>0.141</td>\n",
       "      <td>0.000297</td>\n",
       "      <td>0.0924</td>\n",
       "      <td>0.6860</td>\n",
       "      <td>150.091</td>\n",
       "      <td>4</td>\n",
       "      <td>153.0</td>\n",
       "      <td>1</td>\n",
       "      <td>2020</td>\n",
       "      <td>2020s</td>\n",
       "    </tr>\n",
       "    <tr>\n",
       "      <th>586669</th>\n",
       "      <td>27Y1N4Q4U3EfDU5Ubw8ws2</td>\n",
       "      <td>What They'll Say About Us</td>\n",
       "      <td>70</td>\n",
       "      <td>0</td>\n",
       "      <td>FINNEAS</td>\n",
       "      <td>['37M5pPGs6V1fchFJSgCguX']</td>\n",
       "      <td>2020-09-02</td>\n",
       "      <td>0.535</td>\n",
       "      <td>0.3140</td>\n",
       "      <td>7</td>\n",
       "      <td>...</td>\n",
       "      <td>0.895</td>\n",
       "      <td>0.000150</td>\n",
       "      <td>0.0874</td>\n",
       "      <td>0.0663</td>\n",
       "      <td>145.095</td>\n",
       "      <td>4</td>\n",
       "      <td>188.0</td>\n",
       "      <td>1</td>\n",
       "      <td>2020</td>\n",
       "      <td>2020s</td>\n",
       "    </tr>\n",
       "    <tr>\n",
       "      <th>586670</th>\n",
       "      <td>45XJsGpFTyzbzeWK8VzR8S</td>\n",
       "      <td>A Day At A Time</td>\n",
       "      <td>58</td>\n",
       "      <td>0</td>\n",
       "      <td>Gentle Bones, Clara Benin</td>\n",
       "      <td>['4jGPdu95icCKVF31CcFKbS', '5ebPSE9YI5aLeZ1Z2g...</td>\n",
       "      <td>2021-03-05</td>\n",
       "      <td>0.696</td>\n",
       "      <td>0.6150</td>\n",
       "      <td>10</td>\n",
       "      <td>...</td>\n",
       "      <td>0.206</td>\n",
       "      <td>0.000003</td>\n",
       "      <td>0.3050</td>\n",
       "      <td>0.4380</td>\n",
       "      <td>90.029</td>\n",
       "      <td>4</td>\n",
       "      <td>142.0</td>\n",
       "      <td>2</td>\n",
       "      <td>2021</td>\n",
       "      <td>2020s</td>\n",
       "    </tr>\n",
       "    <tr>\n",
       "      <th>586671</th>\n",
       "      <td>5Ocn6dZ3BJFPWh4ylwFXtn</td>\n",
       "      <td>Mar de Emociones</td>\n",
       "      <td>38</td>\n",
       "      <td>0</td>\n",
       "      <td>Afrosound</td>\n",
       "      <td>['0i4Qda0k4nf7jnNHmSNpYv']</td>\n",
       "      <td>2015-07-01</td>\n",
       "      <td>0.686</td>\n",
       "      <td>0.7230</td>\n",
       "      <td>6</td>\n",
       "      <td>...</td>\n",
       "      <td>0.105</td>\n",
       "      <td>0.000000</td>\n",
       "      <td>0.2640</td>\n",
       "      <td>0.9750</td>\n",
       "      <td>112.204</td>\n",
       "      <td>4</td>\n",
       "      <td>214.0</td>\n",
       "      <td>1</td>\n",
       "      <td>2015</td>\n",
       "      <td>2010s</td>\n",
       "    </tr>\n",
       "  </tbody>\n",
       "</table>\n",
       "<p>526603 rows × 23 columns</p>\n",
       "</div>"
      ],
      "text/plain": [
       "                            id                                 name  \\\n",
       "0       35iwgR4jXetI318WEWsa1Q                                Carve   \n",
       "1       021ht4sdgPcrDgSk7JTbKY  Capítulo 2.16 - Banquero Anarquista   \n",
       "2       07A5yehtSnoedViJAZkNnc   Vivo para Quererte - Remasterizado   \n",
       "3       08FmqUhxtyLTn6pAh6bk45        El Prisionero - Remasterizado   \n",
       "4       08y9GfoqCWfOGsKdwojr5e                  Lady of the Evening   \n",
       "...                        ...                                  ...   \n",
       "586667  5rgu12WBIHQtvej2MdHSH0                                  云与海   \n",
       "586668  0NuWgxEp51CutD2pJoF4OM                                blind   \n",
       "586669  27Y1N4Q4U3EfDU5Ubw8ws2            What They'll Say About Us   \n",
       "586670  45XJsGpFTyzbzeWK8VzR8S                      A Day At A Time   \n",
       "586671  5Ocn6dZ3BJFPWh4ylwFXtn                     Mar de Emociones   \n",
       "\n",
       "        popularity  explicit                    artists  \\\n",
       "0                6         0                        Uli   \n",
       "1                0         0            Fernando Pessoa   \n",
       "2                0         0            Ignacio Corsini   \n",
       "3                0         0            Ignacio Corsini   \n",
       "4                0         0                Dick Haymes   \n",
       "...            ...       ...                        ...   \n",
       "586667          50         0                    阿YueYue   \n",
       "586668          72         0                 ROLE MODEL   \n",
       "586669          70         0                    FINNEAS   \n",
       "586670          58         0  Gentle Bones, Clara Benin   \n",
       "586671          38         0                  Afrosound   \n",
       "\n",
       "                                               id_artists release_date  \\\n",
       "0                              ['45tIt06XoI0Iio4LBEVpls']   1922-02-22   \n",
       "1                              ['14jtPCOoNZwquk5wd9DxrY']   1922-06-01   \n",
       "2                              ['5LiOoJbxVSAMkBS2fUm3X2']   1922-03-21   \n",
       "3                              ['5LiOoJbxVSAMkBS2fUm3X2']   1922-03-21   \n",
       "4                              ['3BiJGZsyX9sJchTqcSA7Su']         1922   \n",
       "...                                                   ...          ...   \n",
       "586667                         ['1QLBXKM5GCpyQQSVMNZqrZ']   2020-09-26   \n",
       "586668                         ['1dy5WNgIKQU6ezkpZs4y8z']   2020-10-21   \n",
       "586669                         ['37M5pPGs6V1fchFJSgCguX']   2020-09-02   \n",
       "586670  ['4jGPdu95icCKVF31CcFKbS', '5ebPSE9YI5aLeZ1Z2g...   2021-03-05   \n",
       "586671                         ['0i4Qda0k4nf7jnNHmSNpYv']   2015-07-01   \n",
       "\n",
       "        danceability  energy  key  ...  acousticness  instrumentalness  \\\n",
       "0              0.645  0.4450    0  ...         0.674          0.744000   \n",
       "1              0.695  0.2630    0  ...         0.797          0.000000   \n",
       "2              0.434  0.1770    1  ...         0.994          0.021800   \n",
       "3              0.321  0.0946    7  ...         0.995          0.918000   \n",
       "4              0.402  0.1580    3  ...         0.989          0.130000   \n",
       "...              ...     ...  ...  ...           ...               ...   \n",
       "586667         0.560  0.5180    0  ...         0.785          0.000000   \n",
       "586668         0.765  0.6630    0  ...         0.141          0.000297   \n",
       "586669         0.535  0.3140    7  ...         0.895          0.000150   \n",
       "586670         0.696  0.6150   10  ...         0.206          0.000003   \n",
       "586671         0.686  0.7230    6  ...         0.105          0.000000   \n",
       "\n",
       "        liveness  valence    tempo  time_signature  duration  artists_count  \\\n",
       "0         0.1510   0.1270  104.851               3     127.0              1   \n",
       "1         0.1480   0.6550  102.009               1      98.0              1   \n",
       "2         0.2120   0.4570  130.418               5     182.0              1   \n",
       "3         0.1040   0.3970  169.980               3     177.0              1   \n",
       "4         0.3110   0.1960  103.220               4     163.0              1   \n",
       "...          ...      ...      ...             ...       ...            ...   \n",
       "586667    0.0648   0.2110  131.896               4     258.0              1   \n",
       "586668    0.0924   0.6860  150.091               4     153.0              1   \n",
       "586669    0.0874   0.0663  145.095               4     188.0              1   \n",
       "586670    0.3050   0.4380   90.029               4     142.0              2   \n",
       "586671    0.2640   0.9750  112.204               4     214.0              1   \n",
       "\n",
       "        year  Song_decade  \n",
       "0       1922        1920s  \n",
       "1       1922        1920s  \n",
       "2       1922        1920s  \n",
       "3       1922        1920s  \n",
       "4       1922        1920s  \n",
       "...      ...          ...  \n",
       "586667  2020        2020s  \n",
       "586668  2020        2020s  \n",
       "586669  2020        2020s  \n",
       "586670  2021        2020s  \n",
       "586671  2015        2010s  \n",
       "\n",
       "[526603 rows x 23 columns]"
      ]
     },
     "execution_count": 29,
     "metadata": {},
     "output_type": "execute_result"
    }
   ],
   "source": [
    "#We'll drop duplicates based on two columns and keeping the first element\n",
    "df.drop_duplicates(subset=['name', 'artists'], keep='first')"
   ]
  },
  {
   "cell_type": "code",
   "execution_count": 30,
   "metadata": {},
   "outputs": [],
   "source": [
    "#df.to_csv('tracks_clean_kaggle.csv')"
   ]
  },
  {
   "cell_type": "markdown",
   "metadata": {},
   "source": [
    "# EDA"
   ]
  },
  {
   "cell_type": "code",
   "execution_count": 31,
   "metadata": {},
   "outputs": [
    {
     "data": {
      "text/html": [
       "<div>\n",
       "<style scoped>\n",
       "    .dataframe tbody tr th:only-of-type {\n",
       "        vertical-align: middle;\n",
       "    }\n",
       "\n",
       "    .dataframe tbody tr th {\n",
       "        vertical-align: top;\n",
       "    }\n",
       "\n",
       "    .dataframe thead th {\n",
       "        text-align: right;\n",
       "    }\n",
       "</style>\n",
       "<table border=\"1\" class=\"dataframe\">\n",
       "  <thead>\n",
       "    <tr style=\"text-align: right;\">\n",
       "      <th></th>\n",
       "      <th>popularity</th>\n",
       "      <th>explicit</th>\n",
       "      <th>danceability</th>\n",
       "      <th>energy</th>\n",
       "      <th>key</th>\n",
       "      <th>loudness</th>\n",
       "      <th>mode</th>\n",
       "      <th>speechiness</th>\n",
       "      <th>acousticness</th>\n",
       "      <th>instrumentalness</th>\n",
       "      <th>liveness</th>\n",
       "      <th>valence</th>\n",
       "      <th>tempo</th>\n",
       "      <th>time_signature</th>\n",
       "      <th>duration</th>\n",
       "      <th>artists_count</th>\n",
       "      <th>year</th>\n",
       "    </tr>\n",
       "  </thead>\n",
       "  <tbody>\n",
       "    <tr>\n",
       "      <th>popularity</th>\n",
       "      <td>1.000000</td>\n",
       "      <td>0.211749</td>\n",
       "      <td>0.186878</td>\n",
       "      <td>0.302178</td>\n",
       "      <td>0.015306</td>\n",
       "      <td>0.327001</td>\n",
       "      <td>-0.033652</td>\n",
       "      <td>-0.047415</td>\n",
       "      <td>-0.370723</td>\n",
       "      <td>-0.236403</td>\n",
       "      <td>-0.048735</td>\n",
       "      <td>0.004558</td>\n",
       "      <td>0.071223</td>\n",
       "      <td>0.086713</td>\n",
       "      <td>0.027640</td>\n",
       "      <td>-0.071291</td>\n",
       "      <td>0.590796</td>\n",
       "    </tr>\n",
       "    <tr>\n",
       "      <th>explicit</th>\n",
       "      <td>0.211749</td>\n",
       "      <td>1.000000</td>\n",
       "      <td>0.150216</td>\n",
       "      <td>0.123060</td>\n",
       "      <td>0.010933</td>\n",
       "      <td>0.134598</td>\n",
       "      <td>-0.051757</td>\n",
       "      <td>0.102251</td>\n",
       "      <td>-0.149001</td>\n",
       "      <td>-0.067510</td>\n",
       "      <td>-0.013113</td>\n",
       "      <td>-0.016551</td>\n",
       "      <td>0.005723</td>\n",
       "      <td>0.044442</td>\n",
       "      <td>-0.016748</td>\n",
       "      <td>0.058291</td>\n",
       "      <td>0.208475</td>\n",
       "    </tr>\n",
       "    <tr>\n",
       "      <th>danceability</th>\n",
       "      <td>0.186878</td>\n",
       "      <td>0.150216</td>\n",
       "      <td>1.000000</td>\n",
       "      <td>0.241464</td>\n",
       "      <td>0.018837</td>\n",
       "      <td>0.251394</td>\n",
       "      <td>-0.044726</td>\n",
       "      <td>0.199291</td>\n",
       "      <td>-0.242838</td>\n",
       "      <td>-0.225831</td>\n",
       "      <td>-0.106175</td>\n",
       "      <td>0.528136</td>\n",
       "      <td>-0.040896</td>\n",
       "      <td>0.146166</td>\n",
       "      <td>-0.120408</td>\n",
       "      <td>-0.076408</td>\n",
       "      <td>0.226596</td>\n",
       "    </tr>\n",
       "    <tr>\n",
       "      <th>energy</th>\n",
       "      <td>0.302178</td>\n",
       "      <td>0.123060</td>\n",
       "      <td>0.241464</td>\n",
       "      <td>1.000000</td>\n",
       "      <td>0.036303</td>\n",
       "      <td>0.764744</td>\n",
       "      <td>-0.065238</td>\n",
       "      <td>-0.053560</td>\n",
       "      <td>-0.715366</td>\n",
       "      <td>-0.195727</td>\n",
       "      <td>0.124636</td>\n",
       "      <td>0.372224</td>\n",
       "      <td>0.230006</td>\n",
       "      <td>0.188971</td>\n",
       "      <td>0.024785</td>\n",
       "      <td>-0.124285</td>\n",
       "      <td>0.460131</td>\n",
       "    </tr>\n",
       "    <tr>\n",
       "      <th>key</th>\n",
       "      <td>0.015306</td>\n",
       "      <td>0.010933</td>\n",
       "      <td>0.018837</td>\n",
       "      <td>0.036303</td>\n",
       "      <td>1.000000</td>\n",
       "      <td>0.027106</td>\n",
       "      <td>-0.129495</td>\n",
       "      <td>-0.001034</td>\n",
       "      <td>-0.027427</td>\n",
       "      <td>-0.006788</td>\n",
       "      <td>-0.006763</td>\n",
       "      <td>0.019998</td>\n",
       "      <td>0.004912</td>\n",
       "      <td>0.008871</td>\n",
       "      <td>0.004621</td>\n",
       "      <td>-0.006859</td>\n",
       "      <td>0.023678</td>\n",
       "    </tr>\n",
       "    <tr>\n",
       "      <th>loudness</th>\n",
       "      <td>0.327001</td>\n",
       "      <td>0.134598</td>\n",
       "      <td>0.251394</td>\n",
       "      <td>0.764744</td>\n",
       "      <td>0.027106</td>\n",
       "      <td>1.000000</td>\n",
       "      <td>-0.040456</td>\n",
       "      <td>-0.167140</td>\n",
       "      <td>-0.519423</td>\n",
       "      <td>-0.329255</td>\n",
       "      <td>0.029509</td>\n",
       "      <td>0.275416</td>\n",
       "      <td>0.189252</td>\n",
       "      <td>0.164376</td>\n",
       "      <td>0.000322</td>\n",
       "      <td>-0.143998</td>\n",
       "      <td>0.447057</td>\n",
       "    </tr>\n",
       "    <tr>\n",
       "      <th>mode</th>\n",
       "      <td>-0.033652</td>\n",
       "      <td>-0.051757</td>\n",
       "      <td>-0.044726</td>\n",
       "      <td>-0.065238</td>\n",
       "      <td>-0.129495</td>\n",
       "      <td>-0.040456</td>\n",
       "      <td>1.000000</td>\n",
       "      <td>-0.017992</td>\n",
       "      <td>0.058914</td>\n",
       "      <td>-0.010023</td>\n",
       "      <td>0.007025</td>\n",
       "      <td>0.011494</td>\n",
       "      <td>0.007877</td>\n",
       "      <td>-0.015899</td>\n",
       "      <td>-0.027609</td>\n",
       "      <td>-0.001230</td>\n",
       "      <td>-0.081315</td>\n",
       "    </tr>\n",
       "    <tr>\n",
       "      <th>speechiness</th>\n",
       "      <td>-0.047415</td>\n",
       "      <td>0.102251</td>\n",
       "      <td>0.199291</td>\n",
       "      <td>-0.053560</td>\n",
       "      <td>-0.001034</td>\n",
       "      <td>-0.167140</td>\n",
       "      <td>-0.017992</td>\n",
       "      <td>1.000000</td>\n",
       "      <td>0.069121</td>\n",
       "      <td>-0.102425</td>\n",
       "      <td>0.207062</td>\n",
       "      <td>0.046481</td>\n",
       "      <td>-0.086950</td>\n",
       "      <td>-0.114211</td>\n",
       "      <td>-0.125782</td>\n",
       "      <td>0.041720</td>\n",
       "      <td>-0.081996</td>\n",
       "    </tr>\n",
       "    <tr>\n",
       "      <th>acousticness</th>\n",
       "      <td>-0.370723</td>\n",
       "      <td>-0.149001</td>\n",
       "      <td>-0.242838</td>\n",
       "      <td>-0.715366</td>\n",
       "      <td>-0.027427</td>\n",
       "      <td>-0.519423</td>\n",
       "      <td>0.058914</td>\n",
       "      <td>0.069121</td>\n",
       "      <td>1.000000</td>\n",
       "      <td>0.204312</td>\n",
       "      <td>-0.004742</td>\n",
       "      <td>-0.180878</td>\n",
       "      <td>-0.195117</td>\n",
       "      <td>-0.173920</td>\n",
       "      <td>-0.064395</td>\n",
       "      <td>0.135638</td>\n",
       "      <td>-0.527429</td>\n",
       "    </tr>\n",
       "    <tr>\n",
       "      <th>instrumentalness</th>\n",
       "      <td>-0.236403</td>\n",
       "      <td>-0.067510</td>\n",
       "      <td>-0.225831</td>\n",
       "      <td>-0.195727</td>\n",
       "      <td>-0.006788</td>\n",
       "      <td>-0.329255</td>\n",
       "      <td>-0.010023</td>\n",
       "      <td>-0.102425</td>\n",
       "      <td>0.204312</td>\n",
       "      <td>1.000000</td>\n",
       "      <td>-0.038836</td>\n",
       "      <td>-0.175195</td>\n",
       "      <td>-0.055380</td>\n",
       "      <td>-0.042209</td>\n",
       "      <td>0.069321</td>\n",
       "      <td>0.082916</td>\n",
       "      <td>-0.221888</td>\n",
       "    </tr>\n",
       "    <tr>\n",
       "      <th>liveness</th>\n",
       "      <td>-0.048735</td>\n",
       "      <td>-0.013113</td>\n",
       "      <td>-0.106175</td>\n",
       "      <td>0.124636</td>\n",
       "      <td>-0.006763</td>\n",
       "      <td>0.029509</td>\n",
       "      <td>0.007025</td>\n",
       "      <td>0.207062</td>\n",
       "      <td>-0.004742</td>\n",
       "      <td>-0.038836</td>\n",
       "      <td>1.000000</td>\n",
       "      <td>-0.000052</td>\n",
       "      <td>-0.014923</td>\n",
       "      <td>-0.024171</td>\n",
       "      <td>0.002140</td>\n",
       "      <td>0.016953</td>\n",
       "      <td>-0.020992</td>\n",
       "    </tr>\n",
       "    <tr>\n",
       "      <th>valence</th>\n",
       "      <td>0.004558</td>\n",
       "      <td>-0.016551</td>\n",
       "      <td>0.528136</td>\n",
       "      <td>0.372224</td>\n",
       "      <td>0.019998</td>\n",
       "      <td>0.275416</td>\n",
       "      <td>0.011494</td>\n",
       "      <td>0.046481</td>\n",
       "      <td>-0.180878</td>\n",
       "      <td>-0.175195</td>\n",
       "      <td>-0.000052</td>\n",
       "      <td>1.000000</td>\n",
       "      <td>0.135198</td>\n",
       "      <td>0.105508</td>\n",
       "      <td>-0.163231</td>\n",
       "      <td>-0.111090</td>\n",
       "      <td>-0.024842</td>\n",
       "    </tr>\n",
       "    <tr>\n",
       "      <th>tempo</th>\n",
       "      <td>0.071223</td>\n",
       "      <td>0.005723</td>\n",
       "      <td>-0.040896</td>\n",
       "      <td>0.230006</td>\n",
       "      <td>0.004912</td>\n",
       "      <td>0.189252</td>\n",
       "      <td>0.007877</td>\n",
       "      <td>-0.086950</td>\n",
       "      <td>-0.195117</td>\n",
       "      <td>-0.055380</td>\n",
       "      <td>-0.014923</td>\n",
       "      <td>0.135198</td>\n",
       "      <td>1.000000</td>\n",
       "      <td>0.031861</td>\n",
       "      <td>-0.001248</td>\n",
       "      <td>-0.059779</td>\n",
       "      <td>0.120456</td>\n",
       "    </tr>\n",
       "    <tr>\n",
       "      <th>time_signature</th>\n",
       "      <td>0.086713</td>\n",
       "      <td>0.044442</td>\n",
       "      <td>0.146166</td>\n",
       "      <td>0.188971</td>\n",
       "      <td>0.008871</td>\n",
       "      <td>0.164376</td>\n",
       "      <td>-0.015899</td>\n",
       "      <td>-0.114211</td>\n",
       "      <td>-0.173920</td>\n",
       "      <td>-0.042209</td>\n",
       "      <td>-0.024171</td>\n",
       "      <td>0.105508</td>\n",
       "      <td>0.031861</td>\n",
       "      <td>1.000000</td>\n",
       "      <td>0.037555</td>\n",
       "      <td>-0.035360</td>\n",
       "      <td>0.116377</td>\n",
       "    </tr>\n",
       "    <tr>\n",
       "      <th>duration</th>\n",
       "      <td>0.027640</td>\n",
       "      <td>-0.016748</td>\n",
       "      <td>-0.120408</td>\n",
       "      <td>0.024785</td>\n",
       "      <td>0.004621</td>\n",
       "      <td>0.000322</td>\n",
       "      <td>-0.027609</td>\n",
       "      <td>-0.125782</td>\n",
       "      <td>-0.064395</td>\n",
       "      <td>0.069321</td>\n",
       "      <td>0.002140</td>\n",
       "      <td>-0.163231</td>\n",
       "      <td>-0.001248</td>\n",
       "      <td>0.037555</td>\n",
       "      <td>1.000000</td>\n",
       "      <td>0.073596</td>\n",
       "      <td>0.054090</td>\n",
       "    </tr>\n",
       "    <tr>\n",
       "      <th>artists_count</th>\n",
       "      <td>-0.071291</td>\n",
       "      <td>0.058291</td>\n",
       "      <td>-0.076408</td>\n",
       "      <td>-0.124285</td>\n",
       "      <td>-0.006859</td>\n",
       "      <td>-0.143998</td>\n",
       "      <td>-0.001230</td>\n",
       "      <td>0.041720</td>\n",
       "      <td>0.135638</td>\n",
       "      <td>0.082916</td>\n",
       "      <td>0.016953</td>\n",
       "      <td>-0.111090</td>\n",
       "      <td>-0.059779</td>\n",
       "      <td>-0.035360</td>\n",
       "      <td>0.073596</td>\n",
       "      <td>1.000000</td>\n",
       "      <td>-0.072207</td>\n",
       "    </tr>\n",
       "    <tr>\n",
       "      <th>year</th>\n",
       "      <td>0.590796</td>\n",
       "      <td>0.208475</td>\n",
       "      <td>0.226596</td>\n",
       "      <td>0.460131</td>\n",
       "      <td>0.023678</td>\n",
       "      <td>0.447057</td>\n",
       "      <td>-0.081315</td>\n",
       "      <td>-0.081996</td>\n",
       "      <td>-0.527429</td>\n",
       "      <td>-0.221888</td>\n",
       "      <td>-0.020992</td>\n",
       "      <td>-0.024842</td>\n",
       "      <td>0.120456</td>\n",
       "      <td>0.116377</td>\n",
       "      <td>0.054090</td>\n",
       "      <td>-0.072207</td>\n",
       "      <td>1.000000</td>\n",
       "    </tr>\n",
       "  </tbody>\n",
       "</table>\n",
       "</div>"
      ],
      "text/plain": [
       "                  popularity  explicit  danceability    energy       key  \\\n",
       "popularity          1.000000  0.211749      0.186878  0.302178  0.015306   \n",
       "explicit            0.211749  1.000000      0.150216  0.123060  0.010933   \n",
       "danceability        0.186878  0.150216      1.000000  0.241464  0.018837   \n",
       "energy              0.302178  0.123060      0.241464  1.000000  0.036303   \n",
       "key                 0.015306  0.010933      0.018837  0.036303  1.000000   \n",
       "loudness            0.327001  0.134598      0.251394  0.764744  0.027106   \n",
       "mode               -0.033652 -0.051757     -0.044726 -0.065238 -0.129495   \n",
       "speechiness        -0.047415  0.102251      0.199291 -0.053560 -0.001034   \n",
       "acousticness       -0.370723 -0.149001     -0.242838 -0.715366 -0.027427   \n",
       "instrumentalness   -0.236403 -0.067510     -0.225831 -0.195727 -0.006788   \n",
       "liveness           -0.048735 -0.013113     -0.106175  0.124636 -0.006763   \n",
       "valence             0.004558 -0.016551      0.528136  0.372224  0.019998   \n",
       "tempo               0.071223  0.005723     -0.040896  0.230006  0.004912   \n",
       "time_signature      0.086713  0.044442      0.146166  0.188971  0.008871   \n",
       "duration            0.027640 -0.016748     -0.120408  0.024785  0.004621   \n",
       "artists_count      -0.071291  0.058291     -0.076408 -0.124285 -0.006859   \n",
       "year                0.590796  0.208475      0.226596  0.460131  0.023678   \n",
       "\n",
       "                  loudness      mode  speechiness  acousticness  \\\n",
       "popularity        0.327001 -0.033652    -0.047415     -0.370723   \n",
       "explicit          0.134598 -0.051757     0.102251     -0.149001   \n",
       "danceability      0.251394 -0.044726     0.199291     -0.242838   \n",
       "energy            0.764744 -0.065238    -0.053560     -0.715366   \n",
       "key               0.027106 -0.129495    -0.001034     -0.027427   \n",
       "loudness          1.000000 -0.040456    -0.167140     -0.519423   \n",
       "mode             -0.040456  1.000000    -0.017992      0.058914   \n",
       "speechiness      -0.167140 -0.017992     1.000000      0.069121   \n",
       "acousticness     -0.519423  0.058914     0.069121      1.000000   \n",
       "instrumentalness -0.329255 -0.010023    -0.102425      0.204312   \n",
       "liveness          0.029509  0.007025     0.207062     -0.004742   \n",
       "valence           0.275416  0.011494     0.046481     -0.180878   \n",
       "tempo             0.189252  0.007877    -0.086950     -0.195117   \n",
       "time_signature    0.164376 -0.015899    -0.114211     -0.173920   \n",
       "duration          0.000322 -0.027609    -0.125782     -0.064395   \n",
       "artists_count    -0.143998 -0.001230     0.041720      0.135638   \n",
       "year              0.447057 -0.081315    -0.081996     -0.527429   \n",
       "\n",
       "                  instrumentalness  liveness   valence     tempo  \\\n",
       "popularity               -0.236403 -0.048735  0.004558  0.071223   \n",
       "explicit                 -0.067510 -0.013113 -0.016551  0.005723   \n",
       "danceability             -0.225831 -0.106175  0.528136 -0.040896   \n",
       "energy                   -0.195727  0.124636  0.372224  0.230006   \n",
       "key                      -0.006788 -0.006763  0.019998  0.004912   \n",
       "loudness                 -0.329255  0.029509  0.275416  0.189252   \n",
       "mode                     -0.010023  0.007025  0.011494  0.007877   \n",
       "speechiness              -0.102425  0.207062  0.046481 -0.086950   \n",
       "acousticness              0.204312 -0.004742 -0.180878 -0.195117   \n",
       "instrumentalness          1.000000 -0.038836 -0.175195 -0.055380   \n",
       "liveness                 -0.038836  1.000000 -0.000052 -0.014923   \n",
       "valence                  -0.175195 -0.000052  1.000000  0.135198   \n",
       "tempo                    -0.055380 -0.014923  0.135198  1.000000   \n",
       "time_signature           -0.042209 -0.024171  0.105508  0.031861   \n",
       "duration                  0.069321  0.002140 -0.163231 -0.001248   \n",
       "artists_count             0.082916  0.016953 -0.111090 -0.059779   \n",
       "year                     -0.221888 -0.020992 -0.024842  0.120456   \n",
       "\n",
       "                  time_signature  duration  artists_count      year  \n",
       "popularity              0.086713  0.027640      -0.071291  0.590796  \n",
       "explicit                0.044442 -0.016748       0.058291  0.208475  \n",
       "danceability            0.146166 -0.120408      -0.076408  0.226596  \n",
       "energy                  0.188971  0.024785      -0.124285  0.460131  \n",
       "key                     0.008871  0.004621      -0.006859  0.023678  \n",
       "loudness                0.164376  0.000322      -0.143998  0.447057  \n",
       "mode                   -0.015899 -0.027609      -0.001230 -0.081315  \n",
       "speechiness            -0.114211 -0.125782       0.041720 -0.081996  \n",
       "acousticness           -0.173920 -0.064395       0.135638 -0.527429  \n",
       "instrumentalness       -0.042209  0.069321       0.082916 -0.221888  \n",
       "liveness               -0.024171  0.002140       0.016953 -0.020992  \n",
       "valence                 0.105508 -0.163231      -0.111090 -0.024842  \n",
       "tempo                   0.031861 -0.001248      -0.059779  0.120456  \n",
       "time_signature          1.000000  0.037555      -0.035360  0.116377  \n",
       "duration                0.037555  1.000000       0.073596  0.054090  \n",
       "artists_count          -0.035360  0.073596       1.000000 -0.072207  \n",
       "year                    0.116377  0.054090      -0.072207  1.000000  "
      ]
     },
     "execution_count": 31,
     "metadata": {},
     "output_type": "execute_result"
    }
   ],
   "source": [
    "df.corr()"
   ]
  },
  {
   "cell_type": "code",
   "execution_count": 32,
   "metadata": {},
   "outputs": [
    {
     "data": {
      "image/png": "[encoded data removed]",
      "text/plain": [
       "<Figure size 640x480 with 2 Axes>"
      ]
     },
     "metadata": {},
     "output_type": "display_data"
    }
   ],
   "source": [
    "sns.heatmap(df.corr());"
   ]
  },
  {
   "cell_type": "code",
   "execution_count": 33,
   "metadata": {},
   "outputs": [
    {
     "data": {
      "text/html": [
       "<div>\n",
       "<style scoped>\n",
       "    .dataframe tbody tr th:only-of-type {\n",
       "        vertical-align: middle;\n",
       "    }\n",
       "\n",
       "    .dataframe tbody tr th {\n",
       "        vertical-align: top;\n",
       "    }\n",
       "\n",
       "    .dataframe thead th {\n",
       "        text-align: right;\n",
       "    }\n",
       "</style>\n",
       "<table border=\"1\" class=\"dataframe\">\n",
       "  <thead>\n",
       "    <tr style=\"text-align: right;\">\n",
       "      <th></th>\n",
       "      <th>popularity</th>\n",
       "      <th>explicit</th>\n",
       "      <th>danceability</th>\n",
       "      <th>energy</th>\n",
       "      <th>key</th>\n",
       "      <th>loudness</th>\n",
       "      <th>mode</th>\n",
       "      <th>speechiness</th>\n",
       "      <th>acousticness</th>\n",
       "      <th>instrumentalness</th>\n",
       "      <th>liveness</th>\n",
       "      <th>valence</th>\n",
       "      <th>tempo</th>\n",
       "      <th>time_signature</th>\n",
       "      <th>duration</th>\n",
       "      <th>artists_count</th>\n",
       "    </tr>\n",
       "  </thead>\n",
       "  <tbody>\n",
       "    <tr>\n",
       "      <th>count</th>\n",
       "      <td>10.000000</td>\n",
       "      <td>10.000000</td>\n",
       "      <td>10.000000</td>\n",
       "      <td>10.000000</td>\n",
       "      <td>10.000000</td>\n",
       "      <td>10.000000</td>\n",
       "      <td>10.000000</td>\n",
       "      <td>10.000000</td>\n",
       "      <td>10.000000</td>\n",
       "      <td>10.000000</td>\n",
       "      <td>10.000000</td>\n",
       "      <td>10.000000</td>\n",
       "      <td>10.000000</td>\n",
       "      <td>10.000000</td>\n",
       "      <td>10.000000</td>\n",
       "      <td>10.000000</td>\n",
       "    </tr>\n",
       "    <tr>\n",
       "      <th>mean</th>\n",
       "      <td>0.475928</td>\n",
       "      <td>0.021751</td>\n",
       "      <td>0.898676</td>\n",
       "      <td>0.682385</td>\n",
       "      <td>5.174064</td>\n",
       "      <td>0.793582</td>\n",
       "      <td>0.684169</td>\n",
       "      <td>0.439136</td>\n",
       "      <td>0.663615</td>\n",
       "      <td>0.468723</td>\n",
       "      <td>0.949116</td>\n",
       "      <td>0.922728</td>\n",
       "      <td>0.947938</td>\n",
       "      <td>3.834042</td>\n",
       "      <td>0.917181</td>\n",
       "      <td>1.374634</td>\n",
       "    </tr>\n",
       "    <tr>\n",
       "      <th>std</th>\n",
       "      <td>0.372030</td>\n",
       "      <td>0.037577</td>\n",
       "      <td>0.081554</td>\n",
       "      <td>0.236588</td>\n",
       "      <td>0.110687</td>\n",
       "      <td>0.183035</td>\n",
       "      <td>0.040343</td>\n",
       "      <td>0.229039</td>\n",
       "      <td>0.282600</td>\n",
       "      <td>0.310574</td>\n",
       "      <td>0.029829</td>\n",
       "      <td>0.060940</td>\n",
       "      <td>0.040448</td>\n",
       "      <td>0.066318</td>\n",
       "      <td>0.075741</td>\n",
       "      <td>0.222387</td>\n",
       "    </tr>\n",
       "    <tr>\n",
       "      <th>min</th>\n",
       "      <td>0.029146</td>\n",
       "      <td>0.000719</td>\n",
       "      <td>0.781657</td>\n",
       "      <td>0.406992</td>\n",
       "      <td>4.999473</td>\n",
       "      <td>0.492440</td>\n",
       "      <td>0.603810</td>\n",
       "      <td>0.262032</td>\n",
       "      <td>0.314570</td>\n",
       "      <td>0.147215</td>\n",
       "      <td>0.904807</td>\n",
       "      <td>0.824858</td>\n",
       "      <td>0.876901</td>\n",
       "      <td>3.745408</td>\n",
       "      <td>0.753376</td>\n",
       "      <td>1.153997</td>\n",
       "    </tr>\n",
       "    <tr>\n",
       "      <th>25%</th>\n",
       "      <td>0.093956</td>\n",
       "      <td>0.000937</td>\n",
       "      <td>0.827710</td>\n",
       "      <td>0.456607</td>\n",
       "      <td>5.091876</td>\n",
       "      <td>0.714676</td>\n",
       "      <td>0.666145</td>\n",
       "      <td>0.318264</td>\n",
       "      <td>0.411689</td>\n",
       "      <td>0.218456</td>\n",
       "      <td>0.935089</td>\n",
       "      <td>0.876627</td>\n",
       "      <td>0.924462</td>\n",
       "      <td>3.783318</td>\n",
       "      <td>0.876217</td>\n",
       "      <td>1.197436</td>\n",
       "    </tr>\n",
       "    <tr>\n",
       "      <th>50%</th>\n",
       "      <td>0.536963</td>\n",
       "      <td>0.002420</td>\n",
       "      <td>0.915460</td>\n",
       "      <td>0.688451</td>\n",
       "      <td>5.165479</td>\n",
       "      <td>0.809979</td>\n",
       "      <td>0.697988</td>\n",
       "      <td>0.348363</td>\n",
       "      <td>0.646031</td>\n",
       "      <td>0.342835</td>\n",
       "      <td>0.946820</td>\n",
       "      <td>0.944591</td>\n",
       "      <td>0.948160</td>\n",
       "      <td>3.822374</td>\n",
       "      <td>0.932241</td>\n",
       "      <td>1.332094</td>\n",
       "    </tr>\n",
       "    <tr>\n",
       "      <th>75%</th>\n",
       "      <td>0.727929</td>\n",
       "      <td>0.026076</td>\n",
       "      <td>0.962401</td>\n",
       "      <td>0.863052</td>\n",
       "      <td>5.243436</td>\n",
       "      <td>0.950760</td>\n",
       "      <td>0.707955</td>\n",
       "      <td>0.447964</td>\n",
       "      <td>0.942663</td>\n",
       "      <td>0.699745</td>\n",
       "      <td>0.962481</td>\n",
       "      <td>0.962946</td>\n",
       "      <td>0.978713</td>\n",
       "      <td>3.881793</td>\n",
       "      <td>0.963575</td>\n",
       "      <td>1.460197</td>\n",
       "    </tr>\n",
       "    <tr>\n",
       "      <th>max</th>\n",
       "      <td>1.000000</td>\n",
       "      <td>0.117963</td>\n",
       "      <td>1.000000</td>\n",
       "      <td>1.000000</td>\n",
       "      <td>5.340026</td>\n",
       "      <td>1.000000</td>\n",
       "      <td>0.738145</td>\n",
       "      <td>1.000000</td>\n",
       "      <td>1.000000</td>\n",
       "      <td>1.000000</td>\n",
       "      <td>1.000000</td>\n",
       "      <td>1.000000</td>\n",
       "      <td>1.000000</td>\n",
       "      <td>3.931427</td>\n",
       "      <td>1.000000</td>\n",
       "      <td>1.802760</td>\n",
       "    </tr>\n",
       "  </tbody>\n",
       "</table>\n",
       "</div>"
      ],
      "text/plain": [
       "       popularity   explicit  danceability     energy        key   loudness  \\\n",
       "count   10.000000  10.000000     10.000000  10.000000  10.000000  10.000000   \n",
       "mean     0.475928   0.021751      0.898676   0.682385   5.174064   0.793582   \n",
       "std      0.372030   0.037577      0.081554   0.236588   0.110687   0.183035   \n",
       "min      0.029146   0.000719      0.781657   0.406992   4.999473   0.492440   \n",
       "25%      0.093956   0.000937      0.827710   0.456607   5.091876   0.714676   \n",
       "50%      0.536963   0.002420      0.915460   0.688451   5.165479   0.809979   \n",
       "75%      0.727929   0.026076      0.962401   0.863052   5.243436   0.950760   \n",
       "max      1.000000   0.117963      1.000000   1.000000   5.340026   1.000000   \n",
       "\n",
       "            mode  speechiness  acousticness  instrumentalness   liveness  \\\n",
       "count  10.000000    10.000000     10.000000         10.000000  10.000000   \n",
       "mean    0.684169     0.439136      0.663615          0.468723   0.949116   \n",
       "std     0.040343     0.229039      0.282600          0.310574   0.029829   \n",
       "min     0.603810     0.262032      0.314570          0.147215   0.904807   \n",
       "25%     0.666145     0.318264      0.411689          0.218456   0.935089   \n",
       "50%     0.697988     0.348363      0.646031          0.342835   0.946820   \n",
       "75%     0.707955     0.447964      0.942663          0.699745   0.962481   \n",
       "max     0.738145     1.000000      1.000000          1.000000   1.000000   \n",
       "\n",
       "         valence      tempo  time_signature   duration  artists_count  \n",
       "count  10.000000  10.000000       10.000000  10.000000      10.000000  \n",
       "mean    0.922728   0.947938        3.834042   0.917181       1.374634  \n",
       "std     0.060940   0.040448        0.066318   0.075741       0.222387  \n",
       "min     0.824858   0.876901        3.745408   0.753376       1.153997  \n",
       "25%     0.876627   0.924462        3.783318   0.876217       1.197436  \n",
       "50%     0.944591   0.948160        3.822374   0.932241       1.332094  \n",
       "75%     0.962946   0.978713        3.881793   0.963575       1.460197  \n",
       "max     1.000000   1.000000        3.931427   1.000000       1.802760  "
      ]
     },
     "execution_count": 33,
     "metadata": {},
     "output_type": "execute_result"
    }
   ],
   "source": [
    "df_year_control = df.copy()\n",
    "df_year_control = df_year_control[(df_year_control[\"year\"] >= 1920) & (df_year_control[\"year\"] < 2020)]\n",
    "df_year_control = df_year_control.groupby(\"Song_decade\").mean().reset_index()\n",
    "\n",
    "df_year_control['acousticness'] = df_year_control['acousticness'] / df_year_control['acousticness'].max()\n",
    "df_year_control['danceability'] = df_year_control['danceability'] / df_year_control['danceability'].max()\n",
    "df_year_control['duration'] = df_year_control['duration'] / df_year_control['duration'].max()\n",
    "df_year_control['energy'] = df_year_control['energy'] / df_year_control['energy'].max()\n",
    "df_year_control['instrumentalness'] = df_year_control['instrumentalness'] / df_year_control['instrumentalness'].max()\n",
    "df_year_control['liveness'] = df_year_control['liveness'] / df_year_control['liveness'].max()\n",
    "df_year_control['speechiness'] = df_year_control['speechiness'] / df_year_control['speechiness'].max()\n",
    "df_year_control['tempo'] = df_year_control['tempo'] / df_year_control['tempo'].max()\n",
    "df_year_control['valence'] = df_year_control['valence'] / df_year_control['valence'].max()\n",
    "df_year_control['popularity'] = df_year_control['popularity'] / df_year_control['popularity'].max()\n",
    "df_year_control['loudness'] = df_year_control['loudness'] / df_year_control['loudness'].min()   #min because it is a negative value\n",
    "df_year_control['year'] = df_year_control['year'].astype(str)\n",
    "df_year_control.describe()"
   ]
  },
  {
   "cell_type": "code",
   "execution_count": 34,
   "metadata": {},
   "outputs": [
    {
     "data": {
      "text/html": [
       "<div>\n",
       "<style scoped>\n",
       "    .dataframe tbody tr th:only-of-type {\n",
       "        vertical-align: middle;\n",
       "    }\n",
       "\n",
       "    .dataframe tbody tr th {\n",
       "        vertical-align: top;\n",
       "    }\n",
       "\n",
       "    .dataframe thead th {\n",
       "        text-align: right;\n",
       "    }\n",
       "</style>\n",
       "<table border=\"1\" class=\"dataframe\">\n",
       "  <thead>\n",
       "    <tr style=\"text-align: right;\">\n",
       "      <th></th>\n",
       "      <th>popularity</th>\n",
       "      <th>explicit</th>\n",
       "      <th>danceability</th>\n",
       "      <th>energy</th>\n",
       "      <th>key</th>\n",
       "      <th>loudness</th>\n",
       "      <th>mode</th>\n",
       "      <th>speechiness</th>\n",
       "      <th>acousticness</th>\n",
       "      <th>instrumentalness</th>\n",
       "      <th>liveness</th>\n",
       "      <th>valence</th>\n",
       "      <th>tempo</th>\n",
       "      <th>time_signature</th>\n",
       "      <th>duration</th>\n",
       "      <th>artists_count</th>\n",
       "    </tr>\n",
       "  </thead>\n",
       "  <tbody>\n",
       "    <tr>\n",
       "      <th>count</th>\n",
       "      <td>10.000000</td>\n",
       "      <td>10.000000</td>\n",
       "      <td>10.000000</td>\n",
       "      <td>10.000000</td>\n",
       "      <td>10.000000</td>\n",
       "      <td>10.000000</td>\n",
       "      <td>10.000000</td>\n",
       "      <td>10.000000</td>\n",
       "      <td>10.000000</td>\n",
       "      <td>10.000000</td>\n",
       "      <td>10.000000</td>\n",
       "      <td>10.000000</td>\n",
       "      <td>10.000000</td>\n",
       "      <td>10.000000</td>\n",
       "      <td>10.000000</td>\n",
       "      <td>10.000000</td>\n",
       "    </tr>\n",
       "    <tr>\n",
       "      <th>mean</th>\n",
       "      <td>0.475928</td>\n",
       "      <td>0.021751</td>\n",
       "      <td>0.898676</td>\n",
       "      <td>0.682385</td>\n",
       "      <td>5.174064</td>\n",
       "      <td>0.793582</td>\n",
       "      <td>0.684169</td>\n",
       "      <td>0.439136</td>\n",
       "      <td>0.663615</td>\n",
       "      <td>0.468723</td>\n",
       "      <td>0.949116</td>\n",
       "      <td>0.922728</td>\n",
       "      <td>0.947938</td>\n",
       "      <td>3.834042</td>\n",
       "      <td>0.917181</td>\n",
       "      <td>1.374634</td>\n",
       "    </tr>\n",
       "    <tr>\n",
       "      <th>std</th>\n",
       "      <td>0.372030</td>\n",
       "      <td>0.037577</td>\n",
       "      <td>0.081554</td>\n",
       "      <td>0.236588</td>\n",
       "      <td>0.110687</td>\n",
       "      <td>0.183035</td>\n",
       "      <td>0.040343</td>\n",
       "      <td>0.229039</td>\n",
       "      <td>0.282600</td>\n",
       "      <td>0.310574</td>\n",
       "      <td>0.029829</td>\n",
       "      <td>0.060940</td>\n",
       "      <td>0.040448</td>\n",
       "      <td>0.066318</td>\n",
       "      <td>0.075741</td>\n",
       "      <td>0.222387</td>\n",
       "    </tr>\n",
       "    <tr>\n",
       "      <th>min</th>\n",
       "      <td>0.029146</td>\n",
       "      <td>0.000719</td>\n",
       "      <td>0.781657</td>\n",
       "      <td>0.406992</td>\n",
       "      <td>4.999473</td>\n",
       "      <td>0.492440</td>\n",
       "      <td>0.603810</td>\n",
       "      <td>0.262032</td>\n",
       "      <td>0.314570</td>\n",
       "      <td>0.147215</td>\n",
       "      <td>0.904807</td>\n",
       "      <td>0.824858</td>\n",
       "      <td>0.876901</td>\n",
       "      <td>3.745408</td>\n",
       "      <td>0.753376</td>\n",
       "      <td>1.153997</td>\n",
       "    </tr>\n",
       "    <tr>\n",
       "      <th>25%</th>\n",
       "      <td>0.093956</td>\n",
       "      <td>0.000937</td>\n",
       "      <td>0.827710</td>\n",
       "      <td>0.456607</td>\n",
       "      <td>5.091876</td>\n",
       "      <td>0.714676</td>\n",
       "      <td>0.666145</td>\n",
       "      <td>0.318264</td>\n",
       "      <td>0.411689</td>\n",
       "      <td>0.218456</td>\n",
       "      <td>0.935089</td>\n",
       "      <td>0.876627</td>\n",
       "      <td>0.924462</td>\n",
       "      <td>3.783318</td>\n",
       "      <td>0.876217</td>\n",
       "      <td>1.197436</td>\n",
       "    </tr>\n",
       "    <tr>\n",
       "      <th>50%</th>\n",
       "      <td>0.536963</td>\n",
       "      <td>0.002420</td>\n",
       "      <td>0.915460</td>\n",
       "      <td>0.688451</td>\n",
       "      <td>5.165479</td>\n",
       "      <td>0.809979</td>\n",
       "      <td>0.697988</td>\n",
       "      <td>0.348363</td>\n",
       "      <td>0.646031</td>\n",
       "      <td>0.342835</td>\n",
       "      <td>0.946820</td>\n",
       "      <td>0.944591</td>\n",
       "      <td>0.948160</td>\n",
       "      <td>3.822374</td>\n",
       "      <td>0.932241</td>\n",
       "      <td>1.332094</td>\n",
       "    </tr>\n",
       "    <tr>\n",
       "      <th>75%</th>\n",
       "      <td>0.727929</td>\n",
       "      <td>0.026076</td>\n",
       "      <td>0.962401</td>\n",
       "      <td>0.863052</td>\n",
       "      <td>5.243436</td>\n",
       "      <td>0.950760</td>\n",
       "      <td>0.707955</td>\n",
       "      <td>0.447964</td>\n",
       "      <td>0.942663</td>\n",
       "      <td>0.699745</td>\n",
       "      <td>0.962481</td>\n",
       "      <td>0.962946</td>\n",
       "      <td>0.978713</td>\n",
       "      <td>3.881793</td>\n",
       "      <td>0.963575</td>\n",
       "      <td>1.460197</td>\n",
       "    </tr>\n",
       "    <tr>\n",
       "      <th>max</th>\n",
       "      <td>1.000000</td>\n",
       "      <td>0.117963</td>\n",
       "      <td>1.000000</td>\n",
       "      <td>1.000000</td>\n",
       "      <td>5.340026</td>\n",
       "      <td>1.000000</td>\n",
       "      <td>0.738145</td>\n",
       "      <td>1.000000</td>\n",
       "      <td>1.000000</td>\n",
       "      <td>1.000000</td>\n",
       "      <td>1.000000</td>\n",
       "      <td>1.000000</td>\n",
       "      <td>1.000000</td>\n",
       "      <td>3.931427</td>\n",
       "      <td>1.000000</td>\n",
       "      <td>1.802760</td>\n",
       "    </tr>\n",
       "  </tbody>\n",
       "</table>\n",
       "</div>"
      ],
      "text/plain": [
       "       popularity   explicit  danceability     energy        key   loudness  \\\n",
       "count   10.000000  10.000000     10.000000  10.000000  10.000000  10.000000   \n",
       "mean     0.475928   0.021751      0.898676   0.682385   5.174064   0.793582   \n",
       "std      0.372030   0.037577      0.081554   0.236588   0.110687   0.183035   \n",
       "min      0.029146   0.000719      0.781657   0.406992   4.999473   0.492440   \n",
       "25%      0.093956   0.000937      0.827710   0.456607   5.091876   0.714676   \n",
       "50%      0.536963   0.002420      0.915460   0.688451   5.165479   0.809979   \n",
       "75%      0.727929   0.026076      0.962401   0.863052   5.243436   0.950760   \n",
       "max      1.000000   0.117963      1.000000   1.000000   5.340026   1.000000   \n",
       "\n",
       "            mode  speechiness  acousticness  instrumentalness   liveness  \\\n",
       "count  10.000000    10.000000     10.000000         10.000000  10.000000   \n",
       "mean    0.684169     0.439136      0.663615          0.468723   0.949116   \n",
       "std     0.040343     0.229039      0.282600          0.310574   0.029829   \n",
       "min     0.603810     0.262032      0.314570          0.147215   0.904807   \n",
       "25%     0.666145     0.318264      0.411689          0.218456   0.935089   \n",
       "50%     0.697988     0.348363      0.646031          0.342835   0.946820   \n",
       "75%     0.707955     0.447964      0.942663          0.699745   0.962481   \n",
       "max     0.738145     1.000000      1.000000          1.000000   1.000000   \n",
       "\n",
       "         valence      tempo  time_signature   duration  artists_count  \n",
       "count  10.000000  10.000000       10.000000  10.000000      10.000000  \n",
       "mean    0.922728   0.947938        3.834042   0.917181       1.374634  \n",
       "std     0.060940   0.040448        0.066318   0.075741       0.222387  \n",
       "min     0.824858   0.876901        3.745408   0.753376       1.153997  \n",
       "25%     0.876627   0.924462        3.783318   0.876217       1.197436  \n",
       "50%     0.944591   0.948160        3.822374   0.932241       1.332094  \n",
       "75%     0.962946   0.978713        3.881793   0.963575       1.460197  \n",
       "max     1.000000   1.000000        3.931427   1.000000       1.802760  "
      ]
     },
     "execution_count": 34,
     "metadata": {},
     "output_type": "execute_result"
    }
   ],
   "source": [
    "df_year_control.describe()"
   ]
  },
  {
   "cell_type": "code",
   "execution_count": 35,
   "metadata": {},
   "outputs": [],
   "source": [
    "df_year_control.drop([\"key\",\"mode\",\"year\",\"artists_count\",\"time_signature\"],axis=1,inplace=True)\n",
    "df_year_control = df_year_control.melt(\"Song_decade\")"
   ]
  },
  {
   "cell_type": "code",
   "execution_count": 36,
   "metadata": {},
   "outputs": [
    {
     "data": {
      "text/html": [
       "\n",
       "<div id=\"altair-viz-13771651b54a45d3a583a718fbe3c977\"></div>\n",
       "<script type=\"text/javascript\">\n",
       "  var VEGA_DEBUG = (typeof VEGA_DEBUG == \"undefined\") ? {} : VEGA_DEBUG;\n",
       "  (function(spec, embedOpt){\n",
       "    let outputDiv = document.currentScript.previousElementSibling;\n",
       "    if (outputDiv.id !== \"altair-viz-13771651b54a45d3a583a718fbe3c977\") {\n",
       "      outputDiv = document.getElementById(\"altair-viz-13771651b54a45d3a583a718fbe3c977\");\n",
       "    }\n",
       "    const paths = {\n",
       "      \"vega\": \"https://cdn.jsdelivr.net/npm//vega@5?noext\",\n",
       "      \"vega-lib\": \"https://cdn.jsdelivr.net/npm//vega-lib?noext\",\n",
       "      \"vega-lite\": \"https://cdn.jsdelivr.net/npm//vega-lite@4.17.0?noext\",\n",
       "      \"vega-embed\": \"https://cdn.jsdelivr.net/npm//vega-embed@6?noext\",\n",
       "    };\n",
       "\n",
       "    function maybeLoadScript(lib, version) {\n",
       "      var key = `${lib.replace(\"-\", \"\")}_version`;\n",
       "      return (VEGA_DEBUG[key] == version) ?\n",
       "        Promise.resolve(paths[lib]) :\n",
       "        new Promise(function(resolve, reject) {\n",
       "          var s = document.createElement('script');\n",
       "          document.getElementsByTagName(\"head\")[0].appendChild(s);\n",
       "          s.async = true;\n",
       "          s.onload = () => {\n",
       "            VEGA_DEBUG[key] = version;\n",
       "            return resolve(paths[lib]);\n",
       "          };\n",
       "          s.onerror = () => reject(`Error loading script: ${paths[lib]}`);\n",
       "          s.src = paths[lib];\n",
       "        });\n",
       "    }\n",
       "\n",
       "    function showError(err) {\n",
       "      outputDiv.innerHTML = `<div class=\"error\" style=\"color:red;\">${err}</div>`;\n",
       "      throw err;\n",
       "    }\n",
       "\n",
       "    function displayChart(vegaEmbed) {\n",
       "      vegaEmbed(outputDiv, spec, embedOpt)\n",
       "        .catch(err => showError(`Javascript Error: ${err.message}<br>This usually means there's a typo in your chart specification. See the javascript console for the full traceback.`));\n",
       "    }\n",
       "\n",
       "    if(typeof define === \"function\" && define.amd) {\n",
       "      requirejs.config({paths});\n",
       "      require([\"vega-embed\"], displayChart, err => showError(`Error loading script: ${err.message}`));\n",
       "    } else {\n",
       "      maybeLoadScript(\"vega\", \"5\")\n",
       "        .then(() => maybeLoadScript(\"vega-lite\", \"4.17.0\"))\n",
       "        .then(() => maybeLoadScript(\"vega-embed\", \"6\"))\n",
       "        .catch(showError)\n",
       "        .then(() => displayChart(vegaEmbed));\n",
       "    }\n",
       "  })({\"config\": {\"view\": {\"continuousWidth\": 400, \"continuousHeight\": 300}}, \"data\": {\"name\": \"data-3fabb7d4d6d9b06615e875dcf161de73\"}, \"mark\": \"line\", \"encoding\": {\"color\": {\"field\": \"variable\", \"type\": \"nominal\"}, \"strokeDash\": {\"field\": \"variable\", \"type\": \"nominal\"}, \"x\": {\"field\": \"year\", \"type\": \"quantitative\"}, \"y\": {\"field\": \"value\", \"type\": \"quantitative\"}}, \"width\": 600, \"$schema\": \"https://vega.github.io/schema/vega-lite/v4.17.0.json\", \"datasets\": {\"data-3fabb7d4d6d9b06615e875dcf161de73\": [{\"year\": 1922, \"variable\": \"acousticness\", \"value\": 0.8926739130434782}, {\"year\": 1923, \"variable\": \"acousticness\", \"value\": 0.8599648392694064}, {\"year\": 1924, \"variable\": \"acousticness\", \"value\": 0.8662656666666667}, {\"year\": 1925, \"variable\": \"acousticness\", \"value\": 0.9121696013289037}, {\"year\": 1926, \"variable\": \"acousticness\", \"value\": 0.7857388001407459}, {\"year\": 1927, \"variable\": \"acousticness\", \"value\": 0.9062528041666666}, {\"year\": 1928, \"variable\": \"acousticness\", \"value\": 0.9400751533430232}, {\"year\": 1929, \"variable\": \"acousticness\", \"value\": 0.9544200710479573}, {\"year\": 1930, \"variable\": \"acousticness\", \"value\": 0.9250127892278954}, {\"year\": 1931, \"variable\": \"acousticness\", \"value\": 0.8716665354330708}, {\"year\": 1932, \"variable\": \"acousticness\", \"value\": 0.8217892237442922}, {\"year\": 1933, \"variable\": \"acousticness\", \"value\": 0.9004493161634103}, {\"year\": 1934, \"variable\": \"acousticness\", \"value\": 0.9029309740976645}, {\"year\": 1935, \"variable\": \"acousticness\", \"value\": 0.8840780383795309}, {\"year\": 1936, \"variable\": \"acousticness\", \"value\": 0.6650616777845405}, {\"year\": 1937, \"variable\": \"acousticness\", \"value\": 0.9055227569875776}, {\"year\": 1938, \"variable\": \"acousticness\", \"value\": 0.9320870150851581}, {\"year\": 1939, \"variable\": \"acousticness\", \"value\": 0.9224981294964029}, {\"year\": 1940, \"variable\": \"acousticness\", \"value\": 0.9221893993506493}, {\"year\": 1941, \"variable\": \"acousticness\", \"value\": 0.9173012218045113}, {\"year\": 1942, \"variable\": \"acousticness\", \"value\": 0.8854748135398738}, {\"year\": 1943, \"variable\": \"acousticness\", \"value\": 0.9198777422628952}, {\"year\": 1944, \"variable\": \"acousticness\", \"value\": 0.9295920516499283}, {\"year\": 1945, \"variable\": \"acousticness\", \"value\": 0.9074871134139321}, {\"year\": 1946, \"variable\": \"acousticness\", \"value\": 0.9260712698412699}, {\"year\": 1947, \"variable\": \"acousticness\", \"value\": 0.912802470677452}, {\"year\": 1948, \"variable\": \"acousticness\", \"value\": 0.9397650596877869}, {\"year\": 1949, \"variable\": \"acousticness\", \"value\": 0.8902327644121653}, {\"year\": 1950, \"variable\": \"acousticness\", \"value\": 0.8359165028384993}, {\"year\": 1951, \"variable\": \"acousticness\", \"value\": 0.8680621456571868}, {\"year\": 1952, \"variable\": \"acousticness\", \"value\": 0.8864767246823257}, {\"year\": 1953, \"variable\": \"acousticness\", \"value\": 0.8815235868448099}, {\"year\": 1954, \"variable\": \"acousticness\", \"value\": 0.8680157158836689}, {\"year\": 1955, \"variable\": \"acousticness\", \"value\": 0.8643539812724588}, {\"year\": 1956, \"variable\": \"acousticness\", \"value\": 0.8270108160432766}, {\"year\": 1957, \"variable\": \"acousticness\", \"value\": 0.8152160422163588}, {\"year\": 1958, \"variable\": \"acousticness\", \"value\": 0.8036731753336401}, {\"year\": 1959, \"variable\": \"acousticness\", \"value\": 0.800868667477338}, {\"year\": 1960, \"variable\": \"acousticness\", \"value\": 0.7544517712914834}, {\"year\": 1961, \"variable\": \"acousticness\", \"value\": 0.7821916948653198}, {\"year\": 1962, \"variable\": \"acousticness\", \"value\": 0.7564359539827966}, {\"year\": 1963, \"variable\": \"acousticness\", \"value\": 0.7578583849627456}, {\"year\": 1964, \"variable\": \"acousticness\", \"value\": 0.7341698715771812}, {\"year\": 1965, \"variable\": \"acousticness\", \"value\": 0.6798283360576923}, {\"year\": 1966, \"variable\": \"acousticness\", \"value\": 0.6273811091329041}, {\"year\": 1967, \"variable\": \"acousticness\", \"value\": 0.5980728476868686}, {\"year\": 1968, \"variable\": \"acousticness\", \"value\": 0.5754022902849493}, {\"year\": 1969, \"variable\": \"acousticness\", \"value\": 0.5540641553854875}, {\"year\": 1970, \"variable\": \"acousticness\", \"value\": 0.5414014471829726}, {\"year\": 1971, \"variable\": \"acousticness\", \"value\": 0.5389232012910324}, {\"year\": 1972, \"variable\": \"acousticness\", \"value\": 0.554532875966989}, {\"year\": 1973, \"variable\": \"acousticness\", \"value\": 0.5126312783213723}, {\"year\": 1974, \"variable\": \"acousticness\", \"value\": 0.5224617334542587}, {\"year\": 1975, \"variable\": \"acousticness\", \"value\": 0.5047588170123792}, {\"year\": 1976, \"variable\": \"acousticness\", \"value\": 0.48418391479210826}, {\"year\": 1977, \"variable\": \"acousticness\", \"value\": 0.48078499862042917}, {\"year\": 1978, \"variable\": \"acousticness\", \"value\": 0.4541028518785549}, {\"year\": 1979, \"variable\": \"acousticness\", \"value\": 0.4303901799664967}, {\"year\": 1980, \"variable\": \"acousticness\", \"value\": 0.4281689340380219}, {\"year\": 1981, \"variable\": \"acousticness\", \"value\": 0.4138205165246373}, {\"year\": 1982, \"variable\": \"acousticness\", \"value\": 0.4201211879430086}, {\"year\": 1983, \"variable\": \"acousticness\", \"value\": 0.424740009791141}, {\"year\": 1984, \"variable\": \"acousticness\", \"value\": 0.40783863635360534}, {\"year\": 1985, \"variable\": \"acousticness\", \"value\": 0.39702361506904854}, {\"year\": 1986, \"variable\": \"acousticness\", \"value\": 0.41357625887718513}, {\"year\": 1987, \"variable\": \"acousticness\", \"value\": 0.3759619030439967}, {\"year\": 1988, \"variable\": \"acousticness\", \"value\": 0.3985056056639051}, {\"year\": 1989, \"variable\": \"acousticness\", \"value\": 0.3938303409732335}, {\"year\": 1990, \"variable\": \"acousticness\", \"value\": 0.39204014803391163}, {\"year\": 1991, \"variable\": \"acousticness\", \"value\": 0.3964306410482244}, {\"year\": 1992, \"variable\": \"acousticness\", \"value\": 0.38263361594524636}, {\"year\": 1993, \"variable\": \"acousticness\", \"value\": 0.3805972414775313}, {\"year\": 1994, \"variable\": \"acousticness\", \"value\": 0.37479681499673356}, {\"year\": 1995, \"variable\": \"acousticness\", \"value\": 0.3655088942455353}, {\"year\": 1996, \"variable\": \"acousticness\", \"value\": 0.36208014058716204}, {\"year\": 1997, \"variable\": \"acousticness\", \"value\": 0.35687834903150056}, {\"year\": 1998, \"variable\": \"acousticness\", \"value\": 0.34217548056396696}, {\"year\": 1999, \"variable\": \"acousticness\", \"value\": 0.3338404011558795}, {\"year\": 2000, \"variable\": \"acousticness\", \"value\": 0.3201818341193595}, {\"year\": 2001, \"variable\": \"acousticness\", \"value\": 0.3171812316737843}, {\"year\": 2002, \"variable\": \"acousticness\", \"value\": 0.3325319747494087}, {\"year\": 2003, \"variable\": \"acousticness\", \"value\": 0.3181189207917174}, {\"year\": 2004, \"variable\": \"acousticness\", \"value\": 0.3023944540903686}, {\"year\": 2005, \"variable\": \"acousticness\", \"value\": 0.30686704229423056}, {\"year\": 2006, \"variable\": \"acousticness\", \"value\": 0.30609261670894755}, {\"year\": 2007, \"variable\": \"acousticness\", \"value\": 0.3102540075610034}, {\"year\": 2008, \"variable\": \"acousticness\", \"value\": 0.31143235977866995}, {\"year\": 2009, \"variable\": \"acousticness\", \"value\": 0.3078526036599604}, {\"year\": 2010, \"variable\": \"acousticness\", \"value\": 0.30521958100135455}, {\"year\": 2011, \"variable\": \"acousticness\", \"value\": 0.30403254513675304}, {\"year\": 2012, \"variable\": \"acousticness\", \"value\": 0.27849941241995074}, {\"year\": 2013, \"variable\": \"acousticness\", \"value\": 0.27293760742919393}, {\"year\": 2014, \"variable\": \"acousticness\", \"value\": 0.28685187889975117}, {\"year\": 2015, \"variable\": \"acousticness\", \"value\": 0.3003047799990558}, {\"year\": 2016, \"variable\": \"acousticness\", \"value\": 0.28066873096724715}, {\"year\": 2017, \"variable\": \"acousticness\", \"value\": 0.27854671498533723}, {\"year\": 2018, \"variable\": \"acousticness\", \"value\": 0.2784463947759693}, {\"year\": 2019, \"variable\": \"acousticness\", \"value\": 0.293901519377677}, {\"year\": 2020, \"variable\": \"acousticness\", \"value\": 0.2717496021137978}, {\"year\": 1922, \"variable\": \"danceability\", \"value\": 0.5412065217391304}, {\"year\": 1923, \"variable\": \"danceability\", \"value\": 0.6373318112633181}, {\"year\": 1924, \"variable\": \"danceability\", \"value\": 0.5933443917851501}, {\"year\": 1925, \"variable\": \"danceability\", \"value\": 0.6173909191583611}, {\"year\": 1926, \"variable\": \"danceability\", \"value\": 0.6221133004926108}, {\"year\": 1927, \"variable\": \"danceability\", \"value\": 0.650711}, {\"year\": 1928, \"variable\": \"danceability\", \"value\": 0.5422420058139535}, {\"year\": 1929, \"variable\": \"danceability\", \"value\": 0.6032430728241563}, {\"year\": 1930, \"variable\": \"danceability\", \"value\": 0.5301384806973849}, {\"year\": 1931, \"variable\": \"danceability\", \"value\": 0.5456340551181103}, {\"year\": 1932, \"variable\": \"danceability\", \"value\": 0.5878218264840183}, {\"year\": 1933, \"variable\": \"danceability\", \"value\": 0.5729984014209591}, {\"year\": 1934, \"variable\": \"danceability\", \"value\": 0.5456401273885351}, {\"year\": 1935, \"variable\": \"danceability\", \"value\": 0.5260398720682303}, {\"year\": 1936, \"variable\": \"danceability\", \"value\": 0.6150648204503957}, {\"year\": 1937, \"variable\": \"danceability\", \"value\": 0.548664052795031}, {\"year\": 1938, \"variable\": \"danceability\", \"value\": 0.5056226277372262}, {\"year\": 1939, \"variable\": \"danceability\", \"value\": 0.5311755395683453}, {\"year\": 1940, \"variable\": \"danceability\", \"value\": 0.5056798701298701}, {\"year\": 1941, \"variable\": \"danceability\", \"value\": 0.4973546992481203}, {\"year\": 1942, \"variable\": \"danceability\", \"value\": 0.4671991967871486}, {\"year\": 1943, \"variable\": \"danceability\", \"value\": 0.4877773710482529}, {\"year\": 1944, \"variable\": \"danceability\", \"value\": 0.517421018651363}, {\"year\": 1945, \"variable\": \"danceability\", \"value\": 0.4757537708693149}, {\"year\": 1946, \"variable\": \"danceability\", \"value\": 0.44362885154061626}, {\"year\": 1947, \"variable\": \"danceability\", \"value\": 0.48648554095045504}, {\"year\": 1948, \"variable\": \"danceability\", \"value\": 0.4451139577594123}, {\"year\": 1949, \"variable\": \"danceability\", \"value\": 0.460109169314571}, {\"year\": 1950, \"variable\": \"danceability\", \"value\": 0.5124668189233279}, {\"year\": 1951, \"variable\": \"danceability\", \"value\": 0.48043431975403533}, {\"year\": 1952, \"variable\": \"danceability\", \"value\": 0.4569385444743935}, {\"year\": 1953, \"variable\": \"danceability\", \"value\": 0.4521624871531346}, {\"year\": 1954, \"variable\": \"danceability\", \"value\": 0.46377016219239375}, {\"year\": 1955, \"variable\": \"danceability\", \"value\": 0.4863872754122569}, {\"year\": 1956, \"variable\": \"danceability\", \"value\": 0.4987624162802679}, {\"year\": 1957, \"variable\": \"danceability\", \"value\": 0.4977632981530343}, {\"year\": 1958, \"variable\": \"danceability\", \"value\": 0.48609284399447766}, {\"year\": 1959, \"variable\": \"danceability\", \"value\": 0.47996803006853855}, {\"year\": 1960, \"variable\": \"danceability\", \"value\": 0.49840943622550976}, {\"year\": 1961, \"variable\": \"danceability\", \"value\": 0.4928736111111111}, {\"year\": 1962, \"variable\": \"danceability\", \"value\": 0.489429125825165}, {\"year\": 1963, \"variable\": \"danceability\", \"value\": 0.49221072476857075}, {\"year\": 1964, \"variable\": \"danceability\", \"value\": 0.4987953229865772}, {\"year\": 1965, \"variable\": \"danceability\", \"value\": 0.4978930192307693}, {\"year\": 1966, \"variable\": \"danceability\", \"value\": 0.5038351382052253}, {\"year\": 1967, \"variable\": \"danceability\", \"value\": 0.5057336565656566}, {\"year\": 1968, \"variable\": \"danceability\", \"value\": 0.5038809141327213}, {\"year\": 1969, \"variable\": \"danceability\", \"value\": 0.48996156462585033}, {\"year\": 1970, \"variable\": \"danceability\", \"value\": 0.5002095510642104}, {\"year\": 1971, \"variable\": \"danceability\", \"value\": 0.5011479919310472}, {\"year\": 1972, \"variable\": \"danceability\", \"value\": 0.5137843281093698}, {\"year\": 1973, \"variable\": \"danceability\", \"value\": 0.5161078067565202}, {\"year\": 1974, \"variable\": \"danceability\", \"value\": 0.5151631703470032}, {\"year\": 1975, \"variable\": \"danceability\", \"value\": 0.5213626056763285}, {\"year\": 1976, \"variable\": \"danceability\", \"value\": 0.523397554214903}, {\"year\": 1977, \"variable\": \"danceability\", \"value\": 0.5348406467210638}, {\"year\": 1978, \"variable\": \"danceability\", \"value\": 0.535889623366641}, {\"year\": 1979, \"variable\": \"danceability\", \"value\": 0.5639335469774217}, {\"year\": 1980, \"variable\": \"danceability\", \"value\": 0.5590156659848393}, {\"year\": 1981, \"variable\": \"danceability\", \"value\": 0.5589433145993988}, {\"year\": 1982, \"variable\": \"danceability\", \"value\": 0.5740020675944334}, {\"year\": 1983, \"variable\": \"danceability\", \"value\": 0.5663981216708719}, {\"year\": 1984, \"variable\": \"danceability\", \"value\": 0.575877970233513}, {\"year\": 1985, \"variable\": \"danceability\", \"value\": 0.5656437602939313}, {\"year\": 1986, \"variable\": \"danceability\", \"value\": 0.5661260085163604}, {\"year\": 1987, \"variable\": \"danceability\", \"value\": 0.5597731369977346}, {\"year\": 1988, \"variable\": \"danceability\", \"value\": 0.54871328929691}, {\"year\": 1989, \"variable\": \"danceability\", \"value\": 0.561413496051687}, {\"year\": 1990, \"variable\": \"danceability\", \"value\": 0.5575939331569146}, {\"year\": 1991, \"variable\": \"danceability\", \"value\": 0.562795560936239}, {\"year\": 1992, \"variable\": \"danceability\", \"value\": 0.5644971727227477}, {\"year\": 1993, \"variable\": \"danceability\", \"value\": 0.5755312997724688}, {\"year\": 1994, \"variable\": \"danceability\", \"value\": 0.5683148856742883}, {\"year\": 1995, \"variable\": \"danceability\", \"value\": 0.5682943663186956}, {\"year\": 1996, \"variable\": \"danceability\", \"value\": 0.575762871122906}, {\"year\": 1997, \"variable\": \"danceability\", \"value\": 0.5776256943882095}, {\"year\": 1998, \"variable\": \"danceability\", \"value\": 0.5823463430265161}, {\"year\": 1999, \"variable\": \"danceability\", \"value\": 0.5829888977891702}, {\"year\": 2000, \"variable\": \"danceability\", \"value\": 0.5899806272330289}, {\"year\": 2001, \"variable\": \"danceability\", \"value\": 0.5889921339027415}, {\"year\": 2002, \"variable\": \"danceability\", \"value\": 0.5889617186620114}, {\"year\": 2003, \"variable\": \"danceability\", \"value\": 0.5921084287454325}, {\"year\": 2004, \"variable\": \"danceability\", \"value\": 0.5858579613014809}, {\"year\": 2005, \"variable\": \"danceability\", \"value\": 0.5903582251326635}, {\"year\": 2006, \"variable\": \"danceability\", \"value\": 0.5911914638327048}, {\"year\": 2007, \"variable\": \"danceability\", \"value\": 0.5906108893956671}, {\"year\": 2008, \"variable\": \"danceability\", \"value\": 0.589765873996294}, {\"year\": 2009, \"variable\": \"danceability\", \"value\": 0.5939536120087563}, {\"year\": 2010, \"variable\": \"danceability\", \"value\": 0.5980775659060122}, {\"year\": 2011, \"variable\": \"danceability\", \"value\": 0.5882430281762824}, {\"year\": 2012, \"variable\": \"danceability\", \"value\": 0.5919740147783251}, {\"year\": 2013, \"variable\": \"danceability\", \"value\": 0.5910192384200057}, {\"year\": 2014, \"variable\": \"danceability\", \"value\": 0.5988878865979381}, {\"year\": 2015, \"variable\": \"danceability\", \"value\": 0.5957923803229156}, {\"year\": 2016, \"variable\": \"danceability\", \"value\": 0.6041403681313724}, {\"year\": 2017, \"variable\": \"danceability\", \"value\": 0.624972181211447}, {\"year\": 2018, \"variable\": \"danceability\", \"value\": 0.6345097476225311}, {\"year\": 2019, \"variable\": \"danceability\", \"value\": 0.6497241034685479}, {\"year\": 2020, \"variable\": \"danceability\", \"value\": 0.6571294754968788}, {\"year\": 1922, \"variable\": \"energy\", \"value\": 0.3290829347826087}, {\"year\": 1923, \"variable\": \"energy\", \"value\": 0.26697671232876713}, {\"year\": 1924, \"variable\": \"energy\", \"value\": 0.35672496050552926}, {\"year\": 1925, \"variable\": \"energy\", \"value\": 0.263749169435216}, {\"year\": 1926, \"variable\": \"energy\", \"value\": 0.26307512315270937}, {\"year\": 1927, \"variable\": \"energy\", \"value\": 0.28046346666666666}, {\"year\": 1928, \"variable\": \"energy\", \"value\": 0.2444614534883721}, {\"year\": 1929, \"variable\": \"energy\", \"value\": 0.3190175843694494}, {\"year\": 1930, \"variable\": \"energy\", \"value\": 0.3317167870485679}, {\"year\": 1931, \"variable\": \"energy\", \"value\": 0.2827495994094488}, {\"year\": 1932, \"variable\": \"energy\", \"value\": 0.2989957077625571}, {\"year\": 1933, \"variable\": \"energy\", \"value\": 0.3274575843694494}, {\"year\": 1934, \"variable\": \"energy\", \"value\": 0.3203371549893843}, {\"year\": 1935, \"variable\": \"energy\", \"value\": 0.2731281947405828}, {\"year\": 1936, \"variable\": \"energy\", \"value\": 0.2925930249543518}, {\"year\": 1937, \"variable\": \"energy\", \"value\": 0.32683946428571425}, {\"year\": 1938, \"variable\": \"energy\", \"value\": 0.29895379562043795}, {\"year\": 1939, \"variable\": \"energy\", \"value\": 0.31114268585131893}, {\"year\": 1940, \"variable\": \"energy\", \"value\": 0.3367555627705628}, {\"year\": 1941, \"variable\": \"energy\", \"value\": 0.2712775626566416}, {\"year\": 1942, \"variable\": \"energy\", \"value\": 0.2541288410786001}, {\"year\": 1943, \"variable\": \"energy\", \"value\": 0.2780105906821963}, {\"year\": 1944, \"variable\": \"energy\", \"value\": 0.2588097769010043}, {\"year\": 1945, \"variable\": \"energy\", \"value\": 0.25893066263673}, {\"year\": 1946, \"variable\": \"energy\", \"value\": 0.24067154995331466}, {\"year\": 1947, \"variable\": \"energy\", \"value\": 0.27613087967644084}, {\"year\": 1948, \"variable\": \"energy\", \"value\": 0.24572359412304864}, {\"year\": 1949, \"variable\": \"energy\", \"value\": 0.2676600726282342}, {\"year\": 1950, \"variable\": \"energy\", \"value\": 0.2993683752039152}, {\"year\": 1951, \"variable\": \"energy\", \"value\": 0.28717864335126825}, {\"year\": 1952, \"variable\": \"energy\", \"value\": 0.26820326530612243}, {\"year\": 1953, \"variable\": \"energy\", \"value\": 0.27043019527235357}, {\"year\": 1954, \"variable\": \"energy\", \"value\": 0.26663687080536913}, {\"year\": 1955, \"variable\": \"energy\", \"value\": 0.2926855820822053}, {\"year\": 1956, \"variable\": \"energy\", \"value\": 0.3180981581658939}, {\"year\": 1957, \"variable\": \"energy\", \"value\": 0.30789479947229553}, {\"year\": 1958, \"variable\": \"energy\", \"value\": 0.31440513115508517}, {\"year\": 1959, \"variable\": \"energy\", \"value\": 0.33214513376077826}, {\"year\": 1960, \"variable\": \"energy\", \"value\": 0.351134756097561}, {\"year\": 1961, \"variable\": \"energy\", \"value\": 0.346748010942761}, {\"year\": 1962, \"variable\": \"energy\", \"value\": 0.3672397379475895}, {\"year\": 1963, \"variable\": \"energy\", \"value\": 0.3685381440505757}, {\"year\": 1964, \"variable\": \"energy\", \"value\": 0.3927445994127517}, {\"year\": 1965, \"variable\": \"energy\", \"value\": 0.4329324128846154}, {\"year\": 1966, \"variable\": \"energy\", \"value\": 0.43638468761832644}, {\"year\": 1967, \"variable\": \"energy\", \"value\": 0.4410364545454546}, {\"year\": 1968, \"variable\": \"energy\", \"value\": 0.45494006693440425}, {\"year\": 1969, \"variable\": \"energy\", \"value\": 0.4561679648526077}, {\"year\": 1970, \"variable\": \"energy\", \"value\": 0.46887385262028264}, {\"year\": 1971, \"variable\": \"energy\", \"value\": 0.47743526499174765}, {\"year\": 1972, \"variable\": \"energy\", \"value\": 0.4771930626875625}, {\"year\": 1973, \"variable\": \"energy\", \"value\": 0.5053289305093646}, {\"year\": 1974, \"variable\": \"energy\", \"value\": 0.4931268312302839}, {\"year\": 1975, \"variable\": \"energy\", \"value\": 0.49406209993961353}, {\"year\": 1976, \"variable\": \"energy\", \"value\": 0.5111463541496821}, {\"year\": 1977, \"variable\": \"energy\", \"value\": 0.5065593363553944}, {\"year\": 1978, \"variable\": \"energy\", \"value\": 0.5276719907763259}, {\"year\": 1979, \"variable\": \"energy\", \"value\": 0.5463534770575382}, {\"year\": 1980, \"variable\": \"energy\", \"value\": 0.5344170833834677}, {\"year\": 1981, \"variable\": \"energy\", \"value\": 0.54495275454189}, {\"year\": 1982, \"variable\": \"energy\", \"value\": 0.5418244477137177}, {\"year\": 1983, \"variable\": \"energy\", \"value\": 0.5266164087468461}, {\"year\": 1984, \"variable\": \"energy\", \"value\": 0.5544932371054657}, {\"year\": 1985, \"variable\": \"energy\", \"value\": 0.5586533406816167}, {\"year\": 1986, \"variable\": \"energy\", \"value\": 0.5534627140295831}, {\"year\": 1987, \"variable\": \"energy\", \"value\": 0.5647363145343985}, {\"year\": 1988, \"variable\": \"energy\", \"value\": 0.5550928851321093}, {\"year\": 1989, \"variable\": \"energy\", \"value\": 0.5598199876935699}, {\"year\": 1990, \"variable\": \"energy\", \"value\": 0.5556691208468097}, {\"year\": 1991, \"variable\": \"energy\", \"value\": 0.5404195641646489}, {\"year\": 1992, \"variable\": \"energy\", \"value\": 0.5517760318566451}, {\"year\": 1993, \"variable\": \"energy\", \"value\": 0.5518776734926053}, {\"year\": 1994, \"variable\": \"energy\", \"value\": 0.5543547961082594}, {\"year\": 1995, \"variable\": \"energy\", \"value\": 0.5667365033474248}, {\"year\": 1996, \"variable\": \"energy\", \"value\": 0.5724527210150937}, {\"year\": 1997, \"variable\": \"energy\", \"value\": 0.5931561929872864}, {\"year\": 1998, \"variable\": \"energy\", \"value\": 0.6086392329568213}, {\"year\": 1999, \"variable\": \"energy\", \"value\": 0.6208414363184876}, {\"year\": 2000, \"variable\": \"energy\", \"value\": 0.631703286529046}, {\"year\": 2001, \"variable\": \"energy\", \"value\": 0.6412745364788538}, {\"year\": 2002, \"variable\": \"energy\", \"value\": 0.6290093817547021}, {\"year\": 2003, \"variable\": \"energy\", \"value\": 0.6386026967478685}, {\"year\": 2004, \"variable\": \"energy\", \"value\": 0.654525805891255}, {\"year\": 2005, \"variable\": \"energy\", \"value\": 0.6490119455797675}, {\"year\": 2006, \"variable\": \"energy\", \"value\": 0.6582046451834076}, {\"year\": 2007, \"variable\": \"energy\", \"value\": 0.65824419327252}, {\"year\": 2008, \"variable\": \"energy\", \"value\": 0.6607789812023883}, {\"year\": 2009, \"variable\": \"energy\", \"value\": 0.6636646286458876}, {\"year\": 2010, \"variable\": \"energy\", \"value\": 0.651993475544441}, {\"year\": 2011, \"variable\": \"energy\", \"value\": 0.6584195078955517}, {\"year\": 2012, \"variable\": \"energy\", \"value\": 0.6753453920258621}, {\"year\": 2013, \"variable\": \"energy\", \"value\": 0.677662807521076}, {\"year\": 2014, \"variable\": \"energy\", \"value\": 0.6697733570654106}, {\"year\": 2015, \"variable\": \"energy\", \"value\": 0.6460786407799074}, {\"year\": 2016, \"variable\": \"energy\", \"value\": 0.6594370378507625}, {\"year\": 2017, \"variable\": \"energy\", \"value\": 0.6597300142178177}, {\"year\": 2018, \"variable\": \"energy\", \"value\": 0.6522020264356254}, {\"year\": 2019, \"variable\": \"energy\", \"value\": 0.6370655286386159}, {\"year\": 2020, \"variable\": \"energy\", \"value\": 0.6396687736672169}, {\"year\": 1922, \"variable\": \"valence\", \"value\": 0.5723873188405797}, {\"year\": 1923, \"variable\": \"valence\", \"value\": 0.6719666666666667}, {\"year\": 1924, \"variable\": \"valence\", \"value\": 0.5549353870458136}, {\"year\": 1925, \"variable\": \"valence\", \"value\": 0.6351962347729789}, {\"year\": 1926, \"variable\": \"valence\", \"value\": 0.5397016959887403}, {\"year\": 1927, \"variable\": \"valence\", \"value\": 0.6801019166666666}, {\"year\": 1928, \"variable\": \"valence\", \"value\": 0.5240544331395348}, {\"year\": 1929, \"variable\": \"valence\", \"value\": 0.645756838365897}, {\"year\": 1930, \"variable\": \"valence\", \"value\": 0.594140597758406}, {\"year\": 1931, \"variable\": \"valence\", \"value\": 0.5660640748031496}, {\"year\": 1932, \"variable\": \"valence\", \"value\": 0.5841237442922375}, {\"year\": 1933, \"variable\": \"valence\", \"value\": 0.5903865008880995}, {\"year\": 1934, \"variable\": \"valence\", \"value\": 0.5689469214437367}, {\"year\": 1935, \"variable\": \"valence\", \"value\": 0.5094961620469083}, {\"year\": 1936, \"variable\": \"valence\", \"value\": 0.5746437005477785}, {\"year\": 1937, \"variable\": \"valence\", \"value\": 0.58994650621118}, {\"year\": 1938, \"variable\": \"valence\", \"value\": 0.5409455636658556}, {\"year\": 1939, \"variable\": \"valence\", \"value\": 0.5866712230215827}, {\"year\": 1940, \"variable\": \"valence\", \"value\": 0.5922676623376624}, {\"year\": 1941, \"variable\": \"valence\", \"value\": 0.5105498120300752}, {\"year\": 1942, \"variable\": \"valence\", \"value\": 0.4813953528399311}, {\"year\": 1943, \"variable\": \"valence\", \"value\": 0.5497902662229617}, {\"year\": 1944, \"variable\": \"valence\", \"value\": 0.5613802008608321}, {\"year\": 1945, \"variable\": \"valence\", \"value\": 0.49192469775474956}, {\"year\": 1946, \"variable\": \"valence\", \"value\": 0.4443087301587301}, {\"year\": 1947, \"variable\": \"valence\", \"value\": 0.5228328109201213}, {\"year\": 1948, \"variable\": \"valence\", \"value\": 0.44747621671258037}, {\"year\": 1949, \"variable\": \"valence\", \"value\": 0.46548379482523833}, {\"year\": 1950, \"variable\": \"valence\", \"value\": 0.5402868841761826}, {\"year\": 1951, \"variable\": \"valence\", \"value\": 0.4780724442736357}, {\"year\": 1952, \"variable\": \"valence\", \"value\": 0.4554068787447054}, {\"year\": 1953, \"variable\": \"valence\", \"value\": 0.43782219938335043}, {\"year\": 1954, \"variable\": \"valence\", \"value\": 0.4470331375838926}, {\"year\": 1955, \"variable\": \"valence\", \"value\": 0.480005931577652}, {\"year\": 1956, \"variable\": \"valence\", \"value\": 0.5307262493560021}, {\"year\": 1957, \"variable\": \"valence\", \"value\": 0.5338522955145119}, {\"year\": 1958, \"variable\": \"valence\", \"value\": 0.5142488725264611}, {\"year\": 1959, \"variable\": \"valence\", \"value\": 0.5030141941189477}, {\"year\": 1960, \"variable\": \"valence\", \"value\": 0.5375965213914434}, {\"year\": 1961, \"variable\": \"valence\", \"value\": 0.5384468223905724}, {\"year\": 1962, \"variable\": \"valence\", \"value\": 0.548528425685137}, {\"year\": 1963, \"variable\": \"valence\", \"value\": 0.5573987356062317}, {\"year\": 1964, \"variable\": \"valence\", \"value\": 0.5764163800335571}, {\"year\": 1965, \"variable\": \"valence\", \"value\": 0.5830723846153846}, {\"year\": 1966, \"variable\": \"valence\", \"value\": 0.58215365391897}, {\"year\": 1967, \"variable\": \"valence\", \"value\": 0.5665252323232323}, {\"year\": 1968, \"variable\": \"valence\", \"value\": 0.5742213233887933}, {\"year\": 1969, \"variable\": \"valence\", \"value\": 0.5579982558578988}, {\"year\": 1970, \"variable\": \"valence\", \"value\": 0.5700703988553031}, {\"year\": 1971, \"variable\": \"valence\", \"value\": 0.568006235099945}, {\"year\": 1972, \"variable\": \"valence\", \"value\": 0.5759125208402801}, {\"year\": 1973, \"variable\": \"valence\", \"value\": 0.5747140906704009}, {\"year\": 1974, \"variable\": \"valence\", \"value\": 0.5786827728706624}, {\"year\": 1975, \"variable\": \"valence\", \"value\": 0.572334329710145}, {\"year\": 1976, \"variable\": \"valence\", \"value\": 0.5782939996738953}, {\"year\": 1977, \"variable\": \"valence\", \"value\": 0.5792834542157752}, {\"year\": 1978, \"variable\": \"valence\", \"value\": 0.5888093620292083}, {\"year\": 1979, \"variable\": \"valence\", \"value\": 0.6106360815731974}, {\"year\": 1980, \"variable\": \"valence\", \"value\": 0.5937795211165925}, {\"year\": 1981, \"variable\": \"valence\", \"value\": 0.5944268984446478}, {\"year\": 1982, \"variable\": \"valence\", \"value\": 0.5914195228628231}, {\"year\": 1983, \"variable\": \"valence\", \"value\": 0.5807327726380712}, {\"year\": 1984, \"variable\": \"valence\", \"value\": 0.5765418308955607}, {\"year\": 1985, \"variable\": \"valence\", \"value\": 0.5796174965159002}, {\"year\": 1986, \"variable\": \"valence\", \"value\": 0.5821053675481846}, {\"year\": 1987, \"variable\": \"valence\", \"value\": 0.5703841421247169}, {\"year\": 1988, \"variable\": \"valence\", \"value\": 0.5627285613524406}, {\"year\": 1989, \"variable\": \"valence\", \"value\": 0.5736758568351964}, {\"year\": 1990, \"variable\": \"valence\", \"value\": 0.5708561991571107}, {\"year\": 1991, \"variable\": \"valence\", \"value\": 0.5668603611783697}, {\"year\": 1992, \"variable\": \"valence\", \"value\": 0.570251368840219}, {\"year\": 1993, \"variable\": \"valence\", \"value\": 0.5844718572241182}, {\"year\": 1994, \"variable\": \"valence\", \"value\": 0.5643586672888474}, {\"year\": 1995, \"variable\": \"valence\", \"value\": 0.567794159261496}, {\"year\": 1996, \"variable\": \"valence\", \"value\": 0.5667887427434068}, {\"year\": 1997, \"variable\": \"valence\", \"value\": 0.5702954247307475}, {\"year\": 1998, \"variable\": \"valence\", \"value\": 0.5704900104141633}, {\"year\": 1999, \"variable\": \"valence\", \"value\": 0.5682534444088433}, {\"year\": 2000, \"variable\": \"valence\", \"value\": 0.5739872700807198}, {\"year\": 2001, \"variable\": \"valence\", \"value\": 0.5712075216972036}, {\"year\": 2002, \"variable\": \"valence\", \"value\": 0.5625876010812028}, {\"year\": 2003, \"variable\": \"valence\", \"value\": 0.5661565773447015}, {\"year\": 2004, \"variable\": \"valence\", \"value\": 0.5617982596476057}, {\"year\": 2005, \"variable\": \"valence\", \"value\": 0.5591676301230665}, {\"year\": 2006, \"variable\": \"valence\", \"value\": 0.5653642555136555}, {\"year\": 2007, \"variable\": \"valence\", \"value\": 0.5575755803876853}, {\"year\": 2008, \"variable\": \"valence\", \"value\": 0.5676340961498868}, {\"year\": 2009, \"variable\": \"valence\", \"value\": 0.5586468685499844}, {\"year\": 2010, \"variable\": \"valence\", \"value\": 0.5531518818380744}, {\"year\": 2011, \"variable\": \"valence\", \"value\": 0.5408134193415213}, {\"year\": 2012, \"variable\": \"valence\", \"value\": 0.5388953858784894}, {\"year\": 2013, \"variable\": \"valence\", \"value\": 0.5163033996400492}, {\"year\": 2014, \"variable\": \"valence\", \"value\": 0.5279076626377533}, {\"year\": 2015, \"variable\": \"valence\", \"value\": 0.5086672580492871}, {\"year\": 2016, \"variable\": \"valence\", \"value\": 0.4949543363710187}, {\"year\": 2017, \"variable\": \"valence\", \"value\": 0.4939654941854586}, {\"year\": 2018, \"variable\": \"valence\", \"value\": 0.4832510205742501}, {\"year\": 2019, \"variable\": \"valence\", \"value\": 0.4942116603678508}, {\"year\": 2020, \"variable\": \"valence\", \"value\": 0.5017124524646625}]}}, {\"mode\": \"vega-lite\"});\n",
       "</script>"
      ],
      "text/plain": [
       "alt.Chart(...)"
      ]
     },
     "execution_count": 36,
     "metadata": {},
     "output_type": "execute_result"
    }
   ],
   "source": [
    "x =df.groupby(\"year\")[\"acousticness\",\"danceability\",\"energy\",\"valence\"].mean().reset_index()\n",
    "x = x[(x[\"year\"] >= 1920) & (x[\"year\"] <= 2020)]\n",
    "x = pd.melt(x,id_vars=[\"year\"])\n",
    "\n",
    "alt.Chart(x).mark_line().encode(\n",
    "    x='year',\n",
    "    y='value',\n",
    "    color='variable',\n",
    "    strokeDash='variable',\n",
    ").properties(width = 600)"
   ]
  },
  {
   "cell_type": "code",
   "execution_count": 37,
   "metadata": {},
   "outputs": [
    {
     "data": {
      "text/html": [
       "\n",
       "<div id=\"altair-viz-f75785b631d1473bbb105dcbb4da235f\"></div>\n",
       "<script type=\"text/javascript\">\n",
       "  var VEGA_DEBUG = (typeof VEGA_DEBUG == \"undefined\") ? {} : VEGA_DEBUG;\n",
       "  (function(spec, embedOpt){\n",
       "    let outputDiv = document.currentScript.previousElementSibling;\n",
       "    if (outputDiv.id !== \"altair-viz-f75785b631d1473bbb105dcbb4da235f\") {\n",
       "      outputDiv = document.getElementById(\"altair-viz-f75785b631d1473bbb105dcbb4da235f\");\n",
       "    }\n",
       "    const paths = {\n",
       "      \"vega\": \"https://cdn.jsdelivr.net/npm//vega@5?noext\",\n",
       "      \"vega-lib\": \"https://cdn.jsdelivr.net/npm//vega-lib?noext\",\n",
       "      \"vega-lite\": \"https://cdn.jsdelivr.net/npm//vega-lite@4.17.0?noext\",\n",
       "      \"vega-embed\": \"https://cdn.jsdelivr.net/npm//vega-embed@6?noext\",\n",
       "    };\n",
       "\n",
       "    function maybeLoadScript(lib, version) {\n",
       "      var key = `${lib.replace(\"-\", \"\")}_version`;\n",
       "      return (VEGA_DEBUG[key] == version) ?\n",
       "        Promise.resolve(paths[lib]) :\n",
       "        new Promise(function(resolve, reject) {\n",
       "          var s = document.createElement('script');\n",
       "          document.getElementsByTagName(\"head\")[0].appendChild(s);\n",
       "          s.async = true;\n",
       "          s.onload = () => {\n",
       "            VEGA_DEBUG[key] = version;\n",
       "            return resolve(paths[lib]);\n",
       "          };\n",
       "          s.onerror = () => reject(`Error loading script: ${paths[lib]}`);\n",
       "          s.src = paths[lib];\n",
       "        });\n",
       "    }\n",
       "\n",
       "    function showError(err) {\n",
       "      outputDiv.innerHTML = `<div class=\"error\" style=\"color:red;\">${err}</div>`;\n",
       "      throw err;\n",
       "    }\n",
       "\n",
       "    function displayChart(vegaEmbed) {\n",
       "      vegaEmbed(outputDiv, spec, embedOpt)\n",
       "        .catch(err => showError(`Javascript Error: ${err.message}<br>This usually means there's a typo in your chart specification. See the javascript console for the full traceback.`));\n",
       "    }\n",
       "\n",
       "    if(typeof define === \"function\" && define.amd) {\n",
       "      requirejs.config({paths});\n",
       "      require([\"vega-embed\"], displayChart, err => showError(`Error loading script: ${err.message}`));\n",
       "    } else {\n",
       "      maybeLoadScript(\"vega\", \"5\")\n",
       "        .then(() => maybeLoadScript(\"vega-lite\", \"4.17.0\"))\n",
       "        .then(() => maybeLoadScript(\"vega-embed\", \"6\"))\n",
       "        .catch(showError)\n",
       "        .then(() => displayChart(vegaEmbed));\n",
       "    }\n",
       "  })({\"config\": {\"view\": {\"continuousWidth\": 400, \"continuousHeight\": 300}}, \"data\": {\"name\": \"data-663ef95c5b27b72b5987002f9fa5024d\"}, \"mark\": \"bar\", \"encoding\": {\"color\": {\"value\": \"steelblue\"}, \"x\": {\"field\": \"Song_decade\", \"type\": \"ordinal\"}, \"y\": {\"field\": \"name\", \"title\": \"Number of songs\", \"type\": \"quantitative\"}}, \"width\": 600, \"$schema\": \"https://vega.github.io/schema/vega-lite/v4.17.0.json\", \"datasets\": {\"data-663ef95c5b27b72b5987002f9fa5024d\": [{\"Song_decade\": \"1920s\", \"name\": 7592}, {\"Song_decade\": \"1930s\", \"name\": 13024}, {\"Song_decade\": \"1940s\", \"name\": 18021}, {\"Song_decade\": \"1950s\", \"name\": 35363}, {\"Song_decade\": \"1960s\", \"name\": 47262}, {\"Song_decade\": \"1970s\", \"name\": 61840}, {\"Song_decade\": \"1980s\", \"name\": 82322}, {\"Song_decade\": \"1990s\", \"name\": 108872}, {\"Song_decade\": \"2000s\", \"name\": 86841}, {\"Song_decade\": \"2010s\", \"name\": 105245}]}}, {\"mode\": \"vega-lite\"});\n",
       "</script>"
      ],
      "text/plain": [
       "alt.Chart(...)"
      ]
     },
     "execution_count": 37,
     "metadata": {},
     "output_type": "execute_result"
    }
   ],
   "source": [
    "decade = df[(df[\"year\"] < 2020) & (df[\"year\"] >= 1920)].groupby(\"Song_decade\")[\"name\"].count().reset_index()\n",
    "alt.Chart(decade).mark_bar().encode(\n",
    "    x = \"Song_decade:O\",\n",
    "    \n",
    "    y = alt.Y(\"name:Q\",title=\"Number of songs\"),\n",
    "    color = alt.value(\"steelblue\")\n",
    ").properties(width = 600)"
   ]
  },
  {
   "cell_type": "code",
   "execution_count": 38,
   "metadata": {},
   "outputs": [
    {
     "data": {
      "application/vnd.plotly.v1+json": {
       "config": {
        "plotlyServerURL": "https://plot.ly"
       },
       "data": [
        {
         "fill": "toself",
         "hovertemplate": "Song_decade=1920s<br>value=%{r}<br>variable=%{theta}<extra></extra>",
         "legendgroup": "",
         "line": {
          "color": "#636efa",
          "dash": "solid"
         },
         "marker": {
          "symbol": "circle"
         },
         "mode": "lines",
         "name": "",
         "r": [
          0.029145583273500426,
          0.003029504741833509,
          0.9937949897588555,
          0.42731211695428,
          1,
          1,
          0.9726569129509324,
          0.8566739598273765,
          0.9048072762886855,
          1,
          0.9268554012241306,
          0.7533757792086863,
          0.029145583273500426
         ],
         "showlegend": false,
         "subplot": "polar",
         "theta": [
          "popularity",
          "explicit",
          "danceability",
          "energy",
          "loudness",
          "speechiness",
          "acousticness",
          "instrumentalness",
          "liveness",
          "valence",
          "tempo",
          "duration",
          "popularity"
         ],
         "type": "scatterpolar"
        }
       ],
       "frames": [
        {
         "data": [
          {
           "hovertemplate": "Song_decade=1920s<br>value=%{r}<br>variable=%{theta}<extra></extra>",
           "legendgroup": "",
           "line": {
            "color": "#636efa",
            "dash": "solid"
           },
           "marker": {
            "symbol": "circle"
           },
           "mode": "lines",
           "name": "",
           "r": [
            0.029145583273500426,
            0.003029504741833509,
            0.9937949897588555,
            0.42731211695428,
            1,
            1,
            0.9726569129509324,
            0.8566739598273765,
            0.9048072762886855,
            1,
            0.9268554012241306,
            0.7533757792086863,
            0.029145583273500426
           ],
           "showlegend": false,
           "subplot": "polar",
           "theta": [
            "popularity",
            "explicit",
            "danceability",
            "energy",
            "loudness",
            "speechiness",
            "acousticness",
            "instrumentalness",
            "liveness",
            "valence",
            "tempo",
            "duration",
            "popularity"
           ],
           "type": "scatterpolar"
          }
         ],
         "name": "1920s"
        },
        {
         "data": [
          {
           "hovertemplate": "Song_decade=1930s<br>value=%{r}<br>variable=%{theta}<extra></extra>",
           "legendgroup": "",
           "line": {
            "color": "#636efa",
            "dash": "solid"
           },
           "marker": {
            "symbol": "circle"
           },
           "mode": "lines",
           "name": "",
           "r": [
            0.05386198921884205,
            0.0014588452088452088,
            0.9053298645324979,
            0.4654274768782553,
            0.9147876932780832,
            0.6633900446978788,
            0.9505945481050274,
            0.7206702562475766,
            0.9633430188906645,
            0.951504890218627,
            0.9236639115884349,
            0.857025743491052,
            0.05386198921884205
           ],
           "showlegend": false,
           "subplot": "polar",
           "theta": [
            "popularity",
            "explicit",
            "danceability",
            "energy",
            "loudness",
            "speechiness",
            "acousticness",
            "instrumentalness",
            "liveness",
            "valence",
            "tempo",
            "duration",
            "popularity"
           ],
           "type": "scatterpolar"
          }
         ],
         "name": "1930s"
        },
        {
         "data": [
          {
           "hovertemplate": "Song_decade=1940s<br>value=%{r}<br>variable=%{theta}<extra></extra>",
           "legendgroup": "",
           "line": {
            "color": "#636efa",
            "dash": "solid"
           },
           "marker": {
            "symbol": "circle"
           },
           "mode": "lines",
           "name": "",
           "r": [
            0.04551650627849859,
            0.0007213806115087953,
            0.7816568451667232,
            0.40699162110598375,
            0.962750299822242,
            0.3422016615438785,
            1,
            1,
            0.9484471607749548,
            0.8352750353384978,
            0.8769011692809099,
            0.9052873006348829,
            0.04551650627849859
           ],
           "showlegend": false,
           "subplot": "polar",
           "theta": [
            "popularity",
            "explicit",
            "danceability",
            "energy",
            "loudness",
            "speechiness",
            "acousticness",
            "instrumentalness",
            "liveness",
            "valence",
            "tempo",
            "duration",
            "popularity"
           ],
           "type": "scatterpolar"
          }
         ],
         "name": "1940s"
        },
        {
         "data": [
          {
           "hovertemplate": "Song_decade=1950s<br>value=%{r}<br>variable=%{theta}<extra></extra>",
           "legendgroup": "",
           "line": {
            "color": "#636efa",
            "dash": "solid"
           },
           "marker": {
            "symbol": "circle"
           },
           "mode": "lines",
           "name": "",
           "r": [
            0.2142368202899309,
            0.0007635098832112661,
            0.7931234812691731,
            0.45366668001900506,
            0.9720357902128741,
            0.3677700347754754,
            0.9188677911301958,
            0.636968461867866,
            0.9401906605496521,
            0.8248576012438047,
            0.9069832752807411,
            0.9209363272548128,
            0.2142368202899309
           ],
           "showlegend": false,
           "subplot": "polar",
           "theta": [
            "popularity",
            "explicit",
            "danceability",
            "energy",
            "loudness",
            "speechiness",
            "acousticness",
            "instrumentalness",
            "liveness",
            "valence",
            "tempo",
            "duration",
            "popularity"
           ],
           "type": "scatterpolar"
          }
         ],
         "name": "1950s"
        },
        {
         "data": [
          {
           "hovertemplate": "Song_decade=1960s<br>value=%{r}<br>variable=%{theta}<extra></extra>",
           "legendgroup": "",
           "line": {
            "color": "#636efa",
            "dash": "solid"
           },
           "marker": {
            "symbol": "circle"
           },
           "mode": "lines",
           "name": "",
           "r": [
            0.45698796338962866,
            0.0007193940163344759,
            0.8167511263615987,
            0.6145308619056922,
            0.8464679159682154,
            0.26203188520153187,
            0.7452399854432881,
            0.4202851895827164,
            0.9451926771453745,
            0.9357060025274819,
            0.9346868847676424,
            0.8665264176989758,
            0.45698796338962866
           ],
           "showlegend": false,
           "subplot": "polar",
           "theta": [
            "popularity",
            "explicit",
            "danceability",
            "energy",
            "loudness",
            "speechiness",
            "acousticness",
            "instrumentalness",
            "liveness",
            "valence",
            "tempo",
            "duration",
            "popularity"
           ],
           "type": "scatterpolar"
          }
         ],
         "name": "1960s"
        },
        {
         "data": [
          {
           "hovertemplate": "Song_decade=1970s<br>value=%{r}<br>variable=%{theta}<extra></extra>",
           "legendgroup": "",
           "line": {
            "color": "#636efa",
            "dash": "solid"
           },
           "marker": {
            "symbol": "circle"
           },
           "mode": "lines",
           "name": "",
           "r": [
            0.6169382780216911,
            0.0018111254851228978,
            0.8605862501280627,
            0.7623715430584788,
            0.7734899763807964,
            0.3545252180571209,
            0.5468226710757651,
            0.26538396071696807,
            0.9853042346423778,
            0.9670624811338688,
            0.9616323816665951,
            0.9620343032544747,
            0.6169382780216911
           ],
           "showlegend": false,
           "subplot": "polar",
           "theta": [
            "popularity",
            "explicit",
            "danceability",
            "energy",
            "loudness",
            "speechiness",
            "acousticness",
            "instrumentalness",
            "liveness",
            "valence",
            "tempo",
            "duration",
            "popularity"
           ],
           "type": "scatterpolar"
          }
         ],
         "name": "1970s"
        },
        {
         "data": [
          {
           "hovertemplate": "Song_decade=1980s<br>value=%{r}<br>variable=%{theta}<extra></extra>",
           "legendgroup": "",
           "line": {
            "color": "#636efa",
            "dash": "solid"
           },
           "marker": {
            "symbol": "circle"
           },
           "mode": "lines",
           "name": "",
           "r": [
            0.6554868545566759,
            0.010616846043584947,
            0.9255909283856931,
            0.835312984139373,
            0.7650323679916653,
            0.47469577292697873,
            0.4445543678935362,
            0.21329435321417214,
            1,
            0.9667592399227978,
            0.9736373320078506,
            0.9435451337355216,
            0.6554868545566759
           ],
           "showlegend": false,
           "subplot": "polar",
           "theta": [
            "popularity",
            "explicit",
            "danceability",
            "energy",
            "loudness",
            "speechiness",
            "acousticness",
            "instrumentalness",
            "liveness",
            "valence",
            "tempo",
            "duration",
            "popularity"
           ],
           "type": "scatterpolar"
          }
         ],
         "name": "1980s"
        },
        {
         "data": [
          {
           "hovertemplate": "Song_decade=1990s<br>value=%{r}<br>variable=%{theta}<extra></extra>",
           "legendgroup": "",
           "line": {
            "color": "#636efa",
            "dash": "solid"
           },
           "marker": {
            "symbol": "circle"
           },
           "mode": "lines",
           "name": "",
           "r": [
            0.7520760009208832,
            0.031229333529282092,
            0.9400899830145465,
            0.8722978801372526,
            0.6978907877428339,
            0.34046522695968234,
            0.4007341076582817,
            0.19279404670471953,
            0.9598957243910331,
            0.9490815396689544,
            0.9804051413148467,
            0.9989865666716639,
            0.7520760009208832
           ],
           "showlegend": false,
           "subplot": "polar",
           "theta": [
            "popularity",
            "explicit",
            "danceability",
            "energy",
            "loudness",
            "speechiness",
            "acousticness",
            "instrumentalness",
            "liveness",
            "valence",
            "tempo",
            "duration",
            "popularity"
           ],
           "type": "scatterpolar"
          }
         ],
         "name": "1990s"
        },
        {
         "data": [
          {
           "hovertemplate": "Song_decade=2000s<br>value=%{r}<br>variable=%{theta}<extra></extra>",
           "legendgroup": "",
           "line": {
            "color": "#636efa",
            "dash": "solid"
           },
           "marker": {
            "symbol": "circle"
           },
           "mode": "lines",
           "name": "",
           "r": [
            0.9350317830655234,
            0.04919335336995198,
            0.9698378511685926,
            0.9859363661521164,
            0.5109267787260375,
            0.2754142139383414,
            0.3421117763346739,
            0.1472151207720755,
            0.9333886647652611,
            0.9401013903680671,
            0.9946176940979888,
            1,
            0.9350317830655234
           ],
           "showlegend": false,
           "subplot": "polar",
           "theta": [
            "popularity",
            "explicit",
            "danceability",
            "energy",
            "loudness",
            "speechiness",
            "acousticness",
            "instrumentalness",
            "liveness",
            "valence",
            "tempo",
            "duration",
            "popularity"
           ],
           "type": "scatterpolar"
          }
         ],
         "name": "2000s"
        },
        {
         "data": [
          {
           "hovertemplate": "Song_decade=2010s<br>value=%{r}<br>variable=%{theta}<extra></extra>",
           "legendgroup": "",
           "line": {
            "color": "#636efa",
            "dash": "solid"
           },
           "marker": {
            "symbol": "circle"
           },
           "mode": "lines",
           "name": "",
           "r": [
            1,
            0.11796284859138201,
            1,
            1,
            0.49244020003022027,
            0.3108633947539264,
            0.3145697836585158,
            0.2339415127117669,
            0.9105894876402558,
            0.8569338564966231,
            1,
            0.9640882900309786,
            1
           ],
           "showlegend": false,
           "subplot": "polar",
           "theta": [
            "popularity",
            "explicit",
            "danceability",
            "energy",
            "loudness",
            "speechiness",
            "acousticness",
            "instrumentalness",
            "liveness",
            "valence",
            "tempo",
            "duration",
            "popularity"
           ],
           "type": "scatterpolar"
          }
         ],
         "name": "2010s"
        }
       ],
       "layout": {
        "font": {
         "size": 15
        },
        "legend": {
         "tracegroupgap": 0
        },
        "margin": {
         "t": 60
        },
        "polar": {
         "angularaxis": {
          "direction": "clockwise",
          "rotation": 90
         },
         "domain": {
          "x": [
           0,
           1
          ],
          "y": [
           0,
           1
          ]
         },
         "radialaxis": {
          "range": [
           0,
           1
          ]
         }
        },
        "sliders": [
         {
          "active": 0,
          "currentvalue": {
           "prefix": "Song_decade="
          },
          "len": 0.9,
          "pad": {
           "b": 10,
           "t": 60
          },
          "steps": [
           {
            "args": [
             [
              "1920s"
             ],
             {
              "frame": {
               "duration": 0,
               "redraw": true
              },
              "fromcurrent": true,
              "mode": "immediate",
              "transition": {
               "duration": 0,
               "easing": "linear"
              }
             }
            ],
            "label": "1920s",
            "method": "animate"
           },
           {
            "args": [
             [
              "1930s"
             ],
             {
              "frame": {
               "duration": 0,
               "redraw": true
              },
              "fromcurrent": true,
              "mode": "immediate",
              "transition": {
               "duration": 0,
               "easing": "linear"
              }
             }
            ],
            "label": "1930s",
            "method": "animate"
           },
           {
            "args": [
             [
              "1940s"
             ],
             {
              "frame": {
               "duration": 0,
               "redraw": true
              },
              "fromcurrent": true,
              "mode": "immediate",
              "transition": {
               "duration": 0,
               "easing": "linear"
              }
             }
            ],
            "label": "1940s",
            "method": "animate"
           },
           {
            "args": [
             [
              "1950s"
             ],
             {
              "frame": {
               "duration": 0,
               "redraw": true
              },
              "fromcurrent": true,
              "mode": "immediate",
              "transition": {
               "duration": 0,
               "easing": "linear"
              }
             }
            ],
            "label": "1950s",
            "method": "animate"
           },
           {
            "args": [
             [
              "1960s"
             ],
             {
              "frame": {
               "duration": 0,
               "redraw": true
              },
              "fromcurrent": true,
              "mode": "immediate",
              "transition": {
               "duration": 0,
               "easing": "linear"
              }
             }
            ],
            "label": "1960s",
            "method": "animate"
           },
           {
            "args": [
             [
              "1970s"
             ],
             {
              "frame": {
               "duration": 0,
               "redraw": true
              },
              "fromcurrent": true,
              "mode": "immediate",
              "transition": {
               "duration": 0,
               "easing": "linear"
              }
             }
            ],
            "label": "1970s",
            "method": "animate"
           },
           {
            "args": [
             [
              "1980s"
             ],
             {
              "frame": {
               "duration": 0,
               "redraw": true
              },
              "fromcurrent": true,
              "mode": "immediate",
              "transition": {
               "duration": 0,
               "easing": "linear"
              }
             }
            ],
            "label": "1980s",
            "method": "animate"
           },
           {
            "args": [
             [
              "1990s"
             ],
             {
              "frame": {
               "duration": 0,
               "redraw": true
              },
              "fromcurrent": true,
              "mode": "immediate",
              "transition": {
               "duration": 0,
               "easing": "linear"
              }
             }
            ],
            "label": "1990s",
            "method": "animate"
           },
           {
            "args": [
             [
              "2000s"
             ],
             {
              "frame": {
               "duration": 0,
               "redraw": true
              },
              "fromcurrent": true,
              "mode": "immediate",
              "transition": {
               "duration": 0,
               "easing": "linear"
              }
             }
            ],
            "label": "2000s",
            "method": "animate"
           },
           {
            "args": [
             [
              "2010s"
             ],
             {
              "frame": {
               "duration": 0,
               "redraw": true
              },
              "fromcurrent": true,
              "mode": "immediate",
              "transition": {
               "duration": 0,
               "easing": "linear"
              }
             }
            ],
            "label": "2010s",
            "method": "animate"
           }
          ],
          "x": 0.1,
          "xanchor": "left",
          "y": 0,
          "yanchor": "top"
         }
        ],
        "template": {
         "data": {
          "bar": [
           {
            "error_x": {
             "color": "#f2f5fa"
            },
            "error_y": {
             "color": "#f2f5fa"
            },
            "marker": {
             "line": {
              "color": "rgb(17,17,17)",
              "width": 0.5
             },
             "pattern": {
              "fillmode": "overlay",
              "size": 10,
              "solidity": 0.2
             }
            },
            "type": "bar"
           }
          ],
          "barpolar": [
           {
            "marker": {
             "line": {
              "color": "rgb(17,17,17)",
              "width": 0.5
             },
             "pattern": {
              "fillmode": "overlay",
              "size": 10,
              "solidity": 0.2
             }
            },
            "type": "barpolar"
           }
          ],
          "carpet": [
           {
            "aaxis": {
             "endlinecolor": "#A2B1C6",
             "gridcolor": "#506784",
             "linecolor": "#506784",
             "minorgridcolor": "#506784",
             "startlinecolor": "#A2B1C6"
            },
            "baxis": {
             "endlinecolor": "#A2B1C6",
             "gridcolor": "#506784",
             "linecolor": "#506784",
             "minorgridcolor": "#506784",
             "startlinecolor": "#A2B1C6"
            },
            "type": "carpet"
           }
          ],
          "choropleth": [
           {
            "colorbar": {
             "outlinewidth": 0,
             "ticks": ""
            },
            "type": "choropleth"
           }
          ],
          "contour": [
           {
            "colorbar": {
             "outlinewidth": 0,
             "ticks": ""
            },
            "colorscale": [
             [
              0,
              "#0d0887"
             ],
             [
              0.1111111111111111,
              "#46039f"
             ],
             [
              0.2222222222222222,
              "#7201a8"
             ],
             [
              0.3333333333333333,
              "#9c179e"
             ],
             [
              0.4444444444444444,
              "#bd3786"
             ],
             [
              0.5555555555555556,
              "#d8576b"
             ],
             [
              0.6666666666666666,
              "#ed7953"
             ],
             [
              0.7777777777777778,
              "#fb9f3a"
             ],
             [
              0.8888888888888888,
              "#fdca26"
             ],
             [
              1,
              "#f0f921"
             ]
            ],
            "type": "contour"
           }
          ],
          "contourcarpet": [
           {
            "colorbar": {
             "outlinewidth": 0,
             "ticks": ""
            },
            "type": "contourcarpet"
           }
          ],
          "heatmap": [
           {
            "colorbar": {
             "outlinewidth": 0,
             "ticks": ""
            },
            "colorscale": [
             [
              0,
              "#0d0887"
             ],
             [
              0.1111111111111111,
              "#46039f"
             ],
             [
              0.2222222222222222,
              "#7201a8"
             ],
             [
              0.3333333333333333,
              "#9c179e"
             ],
             [
              0.4444444444444444,
              "#bd3786"
             ],
             [
              0.5555555555555556,
              "#d8576b"
             ],
             [
              0.6666666666666666,
              "#ed7953"
             ],
             [
              0.7777777777777778,
              "#fb9f3a"
             ],
             [
              0.8888888888888888,
              "#fdca26"
             ],
             [
              1,
              "#f0f921"
             ]
            ],
            "type": "heatmap"
           }
          ],
          "heatmapgl": [
           {
            "colorbar": {
             "outlinewidth": 0,
             "ticks": ""
            },
            "colorscale": [
             [
              0,
              "#0d0887"
             ],
             [
              0.1111111111111111,
              "#46039f"
             ],
             [
              0.2222222222222222,
              "#7201a8"
             ],
             [
              0.3333333333333333,
              "#9c179e"
             ],
             [
              0.4444444444444444,
              "#bd3786"
             ],
             [
              0.5555555555555556,
              "#d8576b"
             ],
             [
              0.6666666666666666,
              "#ed7953"
             ],
             [
              0.7777777777777778,
              "#fb9f3a"
             ],
             [
              0.8888888888888888,
              "#fdca26"
             ],
             [
              1,
              "#f0f921"
             ]
            ],
            "type": "heatmapgl"
           }
          ],
          "histogram": [
           {
            "marker": {
             "pattern": {
              "fillmode": "overlay",
              "size": 10,
              "solidity": 0.2
             }
            },
            "type": "histogram"
           }
          ],
          "histogram2d": [
           {
            "colorbar": {
             "outlinewidth": 0,
             "ticks": ""
            },
            "colorscale": [
             [
              0,
              "#0d0887"
             ],
             [
              0.1111111111111111,
              "#46039f"
             ],
             [
              0.2222222222222222,
              "#7201a8"
             ],
             [
              0.3333333333333333,
              "#9c179e"
             ],
             [
              0.4444444444444444,
              "#bd3786"
             ],
             [
              0.5555555555555556,
              "#d8576b"
             ],
             [
              0.6666666666666666,
              "#ed7953"
             ],
             [
              0.7777777777777778,
              "#fb9f3a"
             ],
             [
              0.8888888888888888,
              "#fdca26"
             ],
             [
              1,
              "#f0f921"
             ]
            ],
            "type": "histogram2d"
           }
          ],
          "histogram2dcontour": [
           {
            "colorbar": {
             "outlinewidth": 0,
             "ticks": ""
            },
            "colorscale": [
             [
              0,
              "#0d0887"
             ],
             [
              0.1111111111111111,
              "#46039f"
             ],
             [
              0.2222222222222222,
              "#7201a8"
             ],
             [
              0.3333333333333333,
              "#9c179e"
             ],
             [
              0.4444444444444444,
              "#bd3786"
             ],
             [
              0.5555555555555556,
              "#d8576b"
             ],
             [
              0.6666666666666666,
              "#ed7953"
             ],
             [
              0.7777777777777778,
              "#fb9f3a"
             ],
             [
              0.8888888888888888,
              "#fdca26"
             ],
             [
              1,
              "#f0f921"
             ]
            ],
            "type": "histogram2dcontour"
           }
          ],
          "mesh3d": [
           {
            "colorbar": {
             "outlinewidth": 0,
             "ticks": ""
            },
            "type": "mesh3d"
           }
          ],
          "parcoords": [
           {
            "line": {
             "colorbar": {
              "outlinewidth": 0,
              "ticks": ""
             }
            },
            "type": "parcoords"
           }
          ],
          "pie": [
           {
            "automargin": true,
            "type": "pie"
           }
          ],
          "scatter": [
           {
            "marker": {
             "line": {
              "color": "#283442"
             }
            },
            "type": "scatter"
           }
          ],
          "scatter3d": [
           {
            "line": {
             "colorbar": {
              "outlinewidth": 0,
              "ticks": ""
             }
            },
            "marker": {
             "colorbar": {
              "outlinewidth": 0,
              "ticks": ""
             }
            },
            "type": "scatter3d"
           }
          ],
          "scattercarpet": [
           {
            "marker": {
             "colorbar": {
              "outlinewidth": 0,
              "ticks": ""
             }
            },
            "type": "scattercarpet"
           }
          ],
          "scattergeo": [
           {
            "marker": {
             "colorbar": {
              "outlinewidth": 0,
              "ticks": ""
             }
            },
            "type": "scattergeo"
           }
          ],
          "scattergl": [
           {
            "marker": {
             "line": {
              "color": "#283442"
             }
            },
            "type": "scattergl"
           }
          ],
          "scattermapbox": [
           {
            "marker": {
             "colorbar": {
              "outlinewidth": 0,
              "ticks": ""
             }
            },
            "type": "scattermapbox"
           }
          ],
          "scatterpolar": [
           {
            "marker": {
             "colorbar": {
              "outlinewidth": 0,
              "ticks": ""
             }
            },
            "type": "scatterpolar"
           }
          ],
          "scatterpolargl": [
           {
            "marker": {
             "colorbar": {
              "outlinewidth": 0,
              "ticks": ""
             }
            },
            "type": "scatterpolargl"
           }
          ],
          "scatterternary": [
           {
            "marker": {
             "colorbar": {
              "outlinewidth": 0,
              "ticks": ""
             }
            },
            "type": "scatterternary"
           }
          ],
          "surface": [
           {
            "colorbar": {
             "outlinewidth": 0,
             "ticks": ""
            },
            "colorscale": [
             [
              0,
              "#0d0887"
             ],
             [
              0.1111111111111111,
              "#46039f"
             ],
             [
              0.2222222222222222,
              "#7201a8"
             ],
             [
              0.3333333333333333,
              "#9c179e"
             ],
             [
              0.4444444444444444,
              "#bd3786"
             ],
             [
              0.5555555555555556,
              "#d8576b"
             ],
             [
              0.6666666666666666,
              "#ed7953"
             ],
             [
              0.7777777777777778,
              "#fb9f3a"
             ],
             [
              0.8888888888888888,
              "#fdca26"
             ],
             [
              1,
              "#f0f921"
             ]
            ],
            "type": "surface"
           }
          ],
          "table": [
           {
            "cells": {
             "fill": {
              "color": "#506784"
             },
             "line": {
              "color": "rgb(17,17,17)"
             }
            },
            "header": {
             "fill": {
              "color": "#2a3f5f"
             },
             "line": {
              "color": "rgb(17,17,17)"
             }
            },
            "type": "table"
           }
          ]
         },
         "layout": {
          "annotationdefaults": {
           "arrowcolor": "#f2f5fa",
           "arrowhead": 0,
           "arrowwidth": 1
          },
          "autotypenumbers": "strict",
          "coloraxis": {
           "colorbar": {
            "outlinewidth": 0,
            "ticks": ""
           }
          },
          "colorscale": {
           "diverging": [
            [
             0,
             "#8e0152"
            ],
            [
             0.1,
             "#c51b7d"
            ],
            [
             0.2,
             "#de77ae"
            ],
            [
             0.3,
             "#f1b6da"
            ],
            [
             0.4,
             "#fde0ef"
            ],
            [
             0.5,
             "#f7f7f7"
            ],
            [
             0.6,
             "#e6f5d0"
            ],
            [
             0.7,
             "#b8e186"
            ],
            [
             0.8,
             "#7fbc41"
            ],
            [
             0.9,
             "#4d9221"
            ],
            [
             1,
             "#276419"
            ]
           ],
           "sequential": [
            [
             0,
             "#0d0887"
            ],
            [
             0.1111111111111111,
             "#46039f"
            ],
            [
             0.2222222222222222,
             "#7201a8"
            ],
            [
             0.3333333333333333,
             "#9c179e"
            ],
            [
             0.4444444444444444,
             "#bd3786"
            ],
            [
             0.5555555555555556,
             "#d8576b"
            ],
            [
             0.6666666666666666,
             "#ed7953"
            ],
            [
             0.7777777777777778,
             "#fb9f3a"
            ],
            [
             0.8888888888888888,
             "#fdca26"
            ],
            [
             1,
             "#f0f921"
            ]
           ],
           "sequentialminus": [
            [
             0,
             "#0d0887"
            ],
            [
             0.1111111111111111,
             "#46039f"
            ],
            [
             0.2222222222222222,
             "#7201a8"
            ],
            [
             0.3333333333333333,
             "#9c179e"
            ],
            [
             0.4444444444444444,
             "#bd3786"
            ],
            [
             0.5555555555555556,
             "#d8576b"
            ],
            [
             0.6666666666666666,
             "#ed7953"
            ],
            [
             0.7777777777777778,
             "#fb9f3a"
            ],
            [
             0.8888888888888888,
             "#fdca26"
            ],
            [
             1,
             "#f0f921"
            ]
           ]
          },
          "colorway": [
           "#636efa",
           "#EF553B",
           "#00cc96",
           "#ab63fa",
           "#FFA15A",
           "#19d3f3",
           "#FF6692",
           "#B6E880",
           "#FF97FF",
           "#FECB52"
          ],
          "font": {
           "color": "#f2f5fa"
          },
          "geo": {
           "bgcolor": "rgb(17,17,17)",
           "lakecolor": "rgb(17,17,17)",
           "landcolor": "rgb(17,17,17)",
           "showlakes": true,
           "showland": true,
           "subunitcolor": "#506784"
          },
          "hoverlabel": {
           "align": "left"
          },
          "hovermode": "closest",
          "mapbox": {
           "style": "dark"
          },
          "paper_bgcolor": "rgb(17,17,17)",
          "plot_bgcolor": "rgb(17,17,17)",
          "polar": {
           "angularaxis": {
            "gridcolor": "#506784",
            "linecolor": "#506784",
            "ticks": ""
           },
           "bgcolor": "rgb(17,17,17)",
           "radialaxis": {
            "gridcolor": "#506784",
            "linecolor": "#506784",
            "ticks": ""
           }
          },
          "scene": {
           "xaxis": {
            "backgroundcolor": "rgb(17,17,17)",
            "gridcolor": "#506784",
            "gridwidth": 2,
            "linecolor": "#506784",
            "showbackground": true,
            "ticks": "",
            "zerolinecolor": "#C8D4E3"
           },
           "yaxis": {
            "backgroundcolor": "rgb(17,17,17)",
            "gridcolor": "#506784",
            "gridwidth": 2,
            "linecolor": "#506784",
            "showbackground": true,
            "ticks": "",
            "zerolinecolor": "#C8D4E3"
           },
           "zaxis": {
            "backgroundcolor": "rgb(17,17,17)",
            "gridcolor": "#506784",
            "gridwidth": 2,
            "linecolor": "#506784",
            "showbackground": true,
            "ticks": "",
            "zerolinecolor": "#C8D4E3"
           }
          },
          "shapedefaults": {
           "line": {
            "color": "#f2f5fa"
           }
          },
          "sliderdefaults": {
           "bgcolor": "#C8D4E3",
           "bordercolor": "rgb(17,17,17)",
           "borderwidth": 1,
           "tickwidth": 0
          },
          "ternary": {
           "aaxis": {
            "gridcolor": "#506784",
            "linecolor": "#506784",
            "ticks": ""
           },
           "baxis": {
            "gridcolor": "#506784",
            "linecolor": "#506784",
            "ticks": ""
           },
           "bgcolor": "rgb(17,17,17)",
           "caxis": {
            "gridcolor": "#506784",
            "linecolor": "#506784",
            "ticks": ""
           }
          },
          "title": {
           "x": 0.05
          },
          "updatemenudefaults": {
           "bgcolor": "#506784",
           "borderwidth": 0
          },
          "xaxis": {
           "automargin": true,
           "gridcolor": "#283442",
           "linecolor": "#506784",
           "ticks": "",
           "title": {
            "standoff": 15
           },
           "zerolinecolor": "#283442",
           "zerolinewidth": 2
          },
          "yaxis": {
           "automargin": true,
           "gridcolor": "#283442",
           "linecolor": "#506784",
           "ticks": "",
           "title": {
            "standoff": 15
           },
           "zerolinecolor": "#283442",
           "zerolinewidth": 2
          }
         }
        },
        "updatemenus": [
         {
          "buttons": [
           {
            "args": [
             null,
             {
              "frame": {
               "duration": 500,
               "redraw": true
              },
              "fromcurrent": true,
              "mode": "immediate",
              "transition": {
               "duration": 500,
               "easing": "linear"
              }
             }
            ],
            "label": "&#9654;",
            "method": "animate"
           },
           {
            "args": [
             [
              null
             ],
             {
              "frame": {
               "duration": 0,
               "redraw": true
              },
              "fromcurrent": true,
              "mode": "immediate",
              "transition": {
               "duration": 0,
               "easing": "linear"
              }
             }
            ],
            "label": "&#9724;",
            "method": "animate"
           }
          ],
          "direction": "left",
          "pad": {
           "r": 10,
           "t": 70
          },
          "showactive": false,
          "type": "buttons",
          "x": 0.1,
          "xanchor": "right",
          "y": 0,
          "yanchor": "top"
         }
        ]
       }
      }
     },
     "metadata": {},
     "output_type": "display_data"
    }
   ],
   "source": [
    "fig = px.line_polar(df_year_control, r=\"value\",theta=\"variable\",line_close=True,\n",
    "             animation_frame=\"Song_decade\",template=\"plotly_dark\",range_r = (0,1))\n",
    "fig.update_traces(fill='toself')\n",
    "fig.update_layout(font_size=15)\n",
    "fig.show()"
   ]
  },
  {
   "cell_type": "code",
   "execution_count": null,
   "metadata": {},
   "outputs": [],
   "source": []
  },
  {
   "cell_type": "code",
   "execution_count": null,
   "metadata": {},
   "outputs": [],
   "source": []
  }
 ],
 "metadata": {
  "kernelspec": {
   "display_name": "Python 3.9.12 ('base')",
   "language": "python",
   "name": "python3"
  },
  "language_info": {
   "codemirror_mode": {
    "name": "ipython",
    "version": 3
   },
   "file_extension": ".py",
   "mimetype": "text/x-python",
   "name": "python",
   "nbconvert_exporter": "python",
   "pygments_lexer": "ipython3",
   "version": "3.9.12"
  },
  "orig_nbformat": 4,
  "vscode": {
   "interpreter": {
    "hash": "a3f3c9539b2b0d529c07b7548750098ae30aba30b940b3b3dd0f70005c5624b6"
   }
  }
 },
 "nbformat": 4,
 "nbformat_minor": 2
}
