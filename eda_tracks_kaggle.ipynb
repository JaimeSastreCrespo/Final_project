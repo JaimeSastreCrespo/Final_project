{
 "cells": [
  {
   "cell_type": "markdown",
   "metadata": {},
   "source": [
    "Importing libraries"
   ]
  },
  {
   "cell_type": "code",
   "execution_count": 1,
   "metadata": {},
   "outputs": [],
   "source": [
    "from sklearn.preprocessing import MinMaxScaler\n",
    "import seaborn as sns\n",
    "import altair as alt\n",
    "alt.data_transformers.disable_max_rows() # Allows altair to use 5k + datasets\n",
    "import plotly.express as px\n",
    "import matplotlib.pyplot as plt\n",
    "import pandas as pd\n",
    "import numpy as np\n",
    "import warnings\n",
    "warnings.filterwarnings('ignore')"
   ]
  },
  {
   "cell_type": "markdown",
   "metadata": {},
   "source": [
    "# Import dataset and data cleaning"
   ]
  },
  {
   "cell_type": "code",
   "execution_count": 2,
   "metadata": {},
   "outputs": [],
   "source": [
    "df = pd.read_csv('/Users/jaimesastrecrespo/Desktop/my saved of sunday night/tracks.csv')"
   ]
  },
  {
   "cell_type": "code",
   "execution_count": 3,
   "metadata": {},
   "outputs": [
    {
     "data": {
      "text/html": [
       "<div>\n",
       "<style scoped>\n",
       "    .dataframe tbody tr th:only-of-type {\n",
       "        vertical-align: middle;\n",
       "    }\n",
       "\n",
       "    .dataframe tbody tr th {\n",
       "        vertical-align: top;\n",
       "    }\n",
       "\n",
       "    .dataframe thead th {\n",
       "        text-align: right;\n",
       "    }\n",
       "</style>\n",
       "<table border=\"1\" class=\"dataframe\">\n",
       "  <thead>\n",
       "    <tr style=\"text-align: right;\">\n",
       "      <th></th>\n",
       "      <th>id</th>\n",
       "      <th>name</th>\n",
       "      <th>popularity</th>\n",
       "      <th>duration_ms</th>\n",
       "      <th>explicit</th>\n",
       "      <th>artists</th>\n",
       "      <th>id_artists</th>\n",
       "      <th>release_date</th>\n",
       "      <th>danceability</th>\n",
       "      <th>energy</th>\n",
       "      <th>key</th>\n",
       "      <th>loudness</th>\n",
       "      <th>mode</th>\n",
       "      <th>speechiness</th>\n",
       "      <th>acousticness</th>\n",
       "      <th>instrumentalness</th>\n",
       "      <th>liveness</th>\n",
       "      <th>valence</th>\n",
       "      <th>tempo</th>\n",
       "      <th>time_signature</th>\n",
       "    </tr>\n",
       "  </thead>\n",
       "  <tbody>\n",
       "    <tr>\n",
       "      <th>0</th>\n",
       "      <td>35iwgR4jXetI318WEWsa1Q</td>\n",
       "      <td>Carve</td>\n",
       "      <td>6</td>\n",
       "      <td>126903</td>\n",
       "      <td>0</td>\n",
       "      <td>['Uli']</td>\n",
       "      <td>['45tIt06XoI0Iio4LBEVpls']</td>\n",
       "      <td>1922-02-22</td>\n",
       "      <td>0.645</td>\n",
       "      <td>0.4450</td>\n",
       "      <td>0</td>\n",
       "      <td>-13.338</td>\n",
       "      <td>1</td>\n",
       "      <td>0.4510</td>\n",
       "      <td>0.674</td>\n",
       "      <td>0.7440</td>\n",
       "      <td>0.151</td>\n",
       "      <td>0.127</td>\n",
       "      <td>104.851</td>\n",
       "      <td>3</td>\n",
       "    </tr>\n",
       "    <tr>\n",
       "      <th>1</th>\n",
       "      <td>021ht4sdgPcrDgSk7JTbKY</td>\n",
       "      <td>Capítulo 2.16 - Banquero Anarquista</td>\n",
       "      <td>0</td>\n",
       "      <td>98200</td>\n",
       "      <td>0</td>\n",
       "      <td>['Fernando Pessoa']</td>\n",
       "      <td>['14jtPCOoNZwquk5wd9DxrY']</td>\n",
       "      <td>1922-06-01</td>\n",
       "      <td>0.695</td>\n",
       "      <td>0.2630</td>\n",
       "      <td>0</td>\n",
       "      <td>-22.136</td>\n",
       "      <td>1</td>\n",
       "      <td>0.9570</td>\n",
       "      <td>0.797</td>\n",
       "      <td>0.0000</td>\n",
       "      <td>0.148</td>\n",
       "      <td>0.655</td>\n",
       "      <td>102.009</td>\n",
       "      <td>1</td>\n",
       "    </tr>\n",
       "    <tr>\n",
       "      <th>2</th>\n",
       "      <td>07A5yehtSnoedViJAZkNnc</td>\n",
       "      <td>Vivo para Quererte - Remasterizado</td>\n",
       "      <td>0</td>\n",
       "      <td>181640</td>\n",
       "      <td>0</td>\n",
       "      <td>['Ignacio Corsini']</td>\n",
       "      <td>['5LiOoJbxVSAMkBS2fUm3X2']</td>\n",
       "      <td>1922-03-21</td>\n",
       "      <td>0.434</td>\n",
       "      <td>0.1770</td>\n",
       "      <td>1</td>\n",
       "      <td>-21.180</td>\n",
       "      <td>1</td>\n",
       "      <td>0.0512</td>\n",
       "      <td>0.994</td>\n",
       "      <td>0.0218</td>\n",
       "      <td>0.212</td>\n",
       "      <td>0.457</td>\n",
       "      <td>130.418</td>\n",
       "      <td>5</td>\n",
       "    </tr>\n",
       "    <tr>\n",
       "      <th>3</th>\n",
       "      <td>08FmqUhxtyLTn6pAh6bk45</td>\n",
       "      <td>El Prisionero - Remasterizado</td>\n",
       "      <td>0</td>\n",
       "      <td>176907</td>\n",
       "      <td>0</td>\n",
       "      <td>['Ignacio Corsini']</td>\n",
       "      <td>['5LiOoJbxVSAMkBS2fUm3X2']</td>\n",
       "      <td>1922-03-21</td>\n",
       "      <td>0.321</td>\n",
       "      <td>0.0946</td>\n",
       "      <td>7</td>\n",
       "      <td>-27.961</td>\n",
       "      <td>1</td>\n",
       "      <td>0.0504</td>\n",
       "      <td>0.995</td>\n",
       "      <td>0.9180</td>\n",
       "      <td>0.104</td>\n",
       "      <td>0.397</td>\n",
       "      <td>169.980</td>\n",
       "      <td>3</td>\n",
       "    </tr>\n",
       "    <tr>\n",
       "      <th>4</th>\n",
       "      <td>08y9GfoqCWfOGsKdwojr5e</td>\n",
       "      <td>Lady of the Evening</td>\n",
       "      <td>0</td>\n",
       "      <td>163080</td>\n",
       "      <td>0</td>\n",
       "      <td>['Dick Haymes']</td>\n",
       "      <td>['3BiJGZsyX9sJchTqcSA7Su']</td>\n",
       "      <td>1922</td>\n",
       "      <td>0.402</td>\n",
       "      <td>0.1580</td>\n",
       "      <td>3</td>\n",
       "      <td>-16.900</td>\n",
       "      <td>0</td>\n",
       "      <td>0.0390</td>\n",
       "      <td>0.989</td>\n",
       "      <td>0.1300</td>\n",
       "      <td>0.311</td>\n",
       "      <td>0.196</td>\n",
       "      <td>103.220</td>\n",
       "      <td>4</td>\n",
       "    </tr>\n",
       "    <tr>\n",
       "      <th>...</th>\n",
       "      <td>...</td>\n",
       "      <td>...</td>\n",
       "      <td>...</td>\n",
       "      <td>...</td>\n",
       "      <td>...</td>\n",
       "      <td>...</td>\n",
       "      <td>...</td>\n",
       "      <td>...</td>\n",
       "      <td>...</td>\n",
       "      <td>...</td>\n",
       "      <td>...</td>\n",
       "      <td>...</td>\n",
       "      <td>...</td>\n",
       "      <td>...</td>\n",
       "      <td>...</td>\n",
       "      <td>...</td>\n",
       "      <td>...</td>\n",
       "      <td>...</td>\n",
       "      <td>...</td>\n",
       "      <td>...</td>\n",
       "    </tr>\n",
       "    <tr>\n",
       "      <th>268</th>\n",
       "      <td>0WBUzUenwyBGqeenzqhEG0</td>\n",
       "      <td>Chapter 1.18 - Król Maciuś Pierwszy</td>\n",
       "      <td>0</td>\n",
       "      <td>136500</td>\n",
       "      <td>0</td>\n",
       "      <td>['Janusz Korczak']</td>\n",
       "      <td>['4hLtcEEpjCmBtTnDdzRV4J']</td>\n",
       "      <td>1923-12-27</td>\n",
       "      <td>0.757</td>\n",
       "      <td>0.2700</td>\n",
       "      <td>1</td>\n",
       "      <td>-19.441</td>\n",
       "      <td>1</td>\n",
       "      <td>0.9390</td>\n",
       "      <td>0.795</td>\n",
       "      <td>0.0000</td>\n",
       "      <td>0.132</td>\n",
       "      <td>0.819</td>\n",
       "      <td>103.760</td>\n",
       "      <td>4</td>\n",
       "    </tr>\n",
       "    <tr>\n",
       "      <th>269</th>\n",
       "      <td>0Wi1XhlXoxuZHVhulDK4La</td>\n",
       "      <td>Chapter 6.20 &amp; Chapter 7.1 - Król Maciuś Pierwszy</td>\n",
       "      <td>0</td>\n",
       "      <td>134200</td>\n",
       "      <td>0</td>\n",
       "      <td>['Janusz Korczak']</td>\n",
       "      <td>['4hLtcEEpjCmBtTnDdzRV4J']</td>\n",
       "      <td>1923-12-27</td>\n",
       "      <td>0.624</td>\n",
       "      <td>0.2500</td>\n",
       "      <td>5</td>\n",
       "      <td>-21.041</td>\n",
       "      <td>0</td>\n",
       "      <td>0.9520</td>\n",
       "      <td>0.767</td>\n",
       "      <td>0.0000</td>\n",
       "      <td>0.361</td>\n",
       "      <td>0.602</td>\n",
       "      <td>81.702</td>\n",
       "      <td>1</td>\n",
       "    </tr>\n",
       "    <tr>\n",
       "      <th>270</th>\n",
       "      <td>0Y9Sd7SkWFrmMvxJXagqo8</td>\n",
       "      <td>Chapter 2.12 - Król Maciuś Pierwszy</td>\n",
       "      <td>0</td>\n",
       "      <td>133400</td>\n",
       "      <td>0</td>\n",
       "      <td>['Janusz Korczak']</td>\n",
       "      <td>['4hLtcEEpjCmBtTnDdzRV4J']</td>\n",
       "      <td>1923-12-27</td>\n",
       "      <td>0.734</td>\n",
       "      <td>0.2730</td>\n",
       "      <td>5</td>\n",
       "      <td>-16.869</td>\n",
       "      <td>0</td>\n",
       "      <td>0.9550</td>\n",
       "      <td>0.766</td>\n",
       "      <td>0.0000</td>\n",
       "      <td>0.126</td>\n",
       "      <td>0.791</td>\n",
       "      <td>91.951</td>\n",
       "      <td>4</td>\n",
       "    </tr>\n",
       "    <tr>\n",
       "      <th>271</th>\n",
       "      <td>0YIo0uq3o867nFkE9I9hf2</td>\n",
       "      <td>Pleadin' for the Blues</td>\n",
       "      <td>4</td>\n",
       "      <td>178707</td>\n",
       "      <td>0</td>\n",
       "      <td>['Bertha \"Chippie\" Hill', 'Louis Armstrong']</td>\n",
       "      <td>['1sPDyROEgOvKQlReOg874E', '19eLuQmk9aCobbVDHc...</td>\n",
       "      <td>1923</td>\n",
       "      <td>0.661</td>\n",
       "      <td>0.1340</td>\n",
       "      <td>2</td>\n",
       "      <td>-12.610</td>\n",
       "      <td>1</td>\n",
       "      <td>0.0763</td>\n",
       "      <td>0.996</td>\n",
       "      <td>0.0011</td>\n",
       "      <td>0.119</td>\n",
       "      <td>0.575</td>\n",
       "      <td>71.497</td>\n",
       "      <td>4</td>\n",
       "    </tr>\n",
       "    <tr>\n",
       "      <th>272</th>\n",
       "      <td>0YSsZU8Ho1rfH6mhj1plVb</td>\n",
       "      <td>Chapter 2.19 - Król Maciuś na wyspie bezludnej</td>\n",
       "      <td>0</td>\n",
       "      <td>132900</td>\n",
       "      <td>0</td>\n",
       "      <td>['Janusz Korczak']</td>\n",
       "      <td>['4hLtcEEpjCmBtTnDdzRV4J']</td>\n",
       "      <td>1923-12-27</td>\n",
       "      <td>0.699</td>\n",
       "      <td>0.2610</td>\n",
       "      <td>5</td>\n",
       "      <td>-18.666</td>\n",
       "      <td>0</td>\n",
       "      <td>0.9560</td>\n",
       "      <td>0.919</td>\n",
       "      <td>0.0000</td>\n",
       "      <td>0.152</td>\n",
       "      <td>0.689</td>\n",
       "      <td>54.428</td>\n",
       "      <td>4</td>\n",
       "    </tr>\n",
       "  </tbody>\n",
       "</table>\n",
       "<p>273 rows × 20 columns</p>\n",
       "</div>"
      ],
      "text/plain": [
       "                         id  \\\n",
       "0    35iwgR4jXetI318WEWsa1Q   \n",
       "1    021ht4sdgPcrDgSk7JTbKY   \n",
       "2    07A5yehtSnoedViJAZkNnc   \n",
       "3    08FmqUhxtyLTn6pAh6bk45   \n",
       "4    08y9GfoqCWfOGsKdwojr5e   \n",
       "..                      ...   \n",
       "268  0WBUzUenwyBGqeenzqhEG0   \n",
       "269  0Wi1XhlXoxuZHVhulDK4La   \n",
       "270  0Y9Sd7SkWFrmMvxJXagqo8   \n",
       "271  0YIo0uq3o867nFkE9I9hf2   \n",
       "272  0YSsZU8Ho1rfH6mhj1plVb   \n",
       "\n",
       "                                                  name  popularity  \\\n",
       "0                                                Carve           6   \n",
       "1                  Capítulo 2.16 - Banquero Anarquista           0   \n",
       "2                   Vivo para Quererte - Remasterizado           0   \n",
       "3                        El Prisionero - Remasterizado           0   \n",
       "4                                  Lady of the Evening           0   \n",
       "..                                                 ...         ...   \n",
       "268                Chapter 1.18 - Król Maciuś Pierwszy           0   \n",
       "269  Chapter 6.20 & Chapter 7.1 - Król Maciuś Pierwszy           0   \n",
       "270                Chapter 2.12 - Król Maciuś Pierwszy           0   \n",
       "271                             Pleadin' for the Blues           4   \n",
       "272     Chapter 2.19 - Król Maciuś na wyspie bezludnej           0   \n",
       "\n",
       "     duration_ms  explicit                                       artists  \\\n",
       "0         126903         0                                       ['Uli']   \n",
       "1          98200         0                           ['Fernando Pessoa']   \n",
       "2         181640         0                           ['Ignacio Corsini']   \n",
       "3         176907         0                           ['Ignacio Corsini']   \n",
       "4         163080         0                               ['Dick Haymes']   \n",
       "..           ...       ...                                           ...   \n",
       "268       136500         0                            ['Janusz Korczak']   \n",
       "269       134200         0                            ['Janusz Korczak']   \n",
       "270       133400         0                            ['Janusz Korczak']   \n",
       "271       178707         0  ['Bertha \"Chippie\" Hill', 'Louis Armstrong']   \n",
       "272       132900         0                            ['Janusz Korczak']   \n",
       "\n",
       "                                            id_artists release_date  \\\n",
       "0                           ['45tIt06XoI0Iio4LBEVpls']   1922-02-22   \n",
       "1                           ['14jtPCOoNZwquk5wd9DxrY']   1922-06-01   \n",
       "2                           ['5LiOoJbxVSAMkBS2fUm3X2']   1922-03-21   \n",
       "3                           ['5LiOoJbxVSAMkBS2fUm3X2']   1922-03-21   \n",
       "4                           ['3BiJGZsyX9sJchTqcSA7Su']         1922   \n",
       "..                                                 ...          ...   \n",
       "268                         ['4hLtcEEpjCmBtTnDdzRV4J']   1923-12-27   \n",
       "269                         ['4hLtcEEpjCmBtTnDdzRV4J']   1923-12-27   \n",
       "270                         ['4hLtcEEpjCmBtTnDdzRV4J']   1923-12-27   \n",
       "271  ['1sPDyROEgOvKQlReOg874E', '19eLuQmk9aCobbVDHc...         1923   \n",
       "272                         ['4hLtcEEpjCmBtTnDdzRV4J']   1923-12-27   \n",
       "\n",
       "     danceability  energy  key  loudness  mode  speechiness  acousticness  \\\n",
       "0           0.645  0.4450    0   -13.338     1       0.4510         0.674   \n",
       "1           0.695  0.2630    0   -22.136     1       0.9570         0.797   \n",
       "2           0.434  0.1770    1   -21.180     1       0.0512         0.994   \n",
       "3           0.321  0.0946    7   -27.961     1       0.0504         0.995   \n",
       "4           0.402  0.1580    3   -16.900     0       0.0390         0.989   \n",
       "..            ...     ...  ...       ...   ...          ...           ...   \n",
       "268         0.757  0.2700    1   -19.441     1       0.9390         0.795   \n",
       "269         0.624  0.2500    5   -21.041     0       0.9520         0.767   \n",
       "270         0.734  0.2730    5   -16.869     0       0.9550         0.766   \n",
       "271         0.661  0.1340    2   -12.610     1       0.0763         0.996   \n",
       "272         0.699  0.2610    5   -18.666     0       0.9560         0.919   \n",
       "\n",
       "     instrumentalness  liveness  valence    tempo  time_signature  \n",
       "0              0.7440     0.151    0.127  104.851               3  \n",
       "1              0.0000     0.148    0.655  102.009               1  \n",
       "2              0.0218     0.212    0.457  130.418               5  \n",
       "3              0.9180     0.104    0.397  169.980               3  \n",
       "4              0.1300     0.311    0.196  103.220               4  \n",
       "..                ...       ...      ...      ...             ...  \n",
       "268            0.0000     0.132    0.819  103.760               4  \n",
       "269            0.0000     0.361    0.602   81.702               1  \n",
       "270            0.0000     0.126    0.791   91.951               4  \n",
       "271            0.0011     0.119    0.575   71.497               4  \n",
       "272            0.0000     0.152    0.689   54.428               4  \n",
       "\n",
       "[273 rows x 20 columns]"
      ]
     },
     "execution_count": 3,
     "metadata": {},
     "output_type": "execute_result"
    }
   ],
   "source": [
    "df.head(273)"
   ]
  },
  {
   "cell_type": "code",
   "execution_count": 4,
   "metadata": {},
   "outputs": [
    {
     "data": {
      "text/plain": [
       "(586672, 20)"
      ]
     },
     "execution_count": 4,
     "metadata": {},
     "output_type": "execute_result"
    }
   ],
   "source": [
    "df.shape"
   ]
  },
  {
   "cell_type": "code",
   "execution_count": 5,
   "metadata": {},
   "outputs": [
    {
     "data": {
      "text/html": [
       "<div>\n",
       "<style scoped>\n",
       "    .dataframe tbody tr th:only-of-type {\n",
       "        vertical-align: middle;\n",
       "    }\n",
       "\n",
       "    .dataframe tbody tr th {\n",
       "        vertical-align: top;\n",
       "    }\n",
       "\n",
       "    .dataframe thead th {\n",
       "        text-align: right;\n",
       "    }\n",
       "</style>\n",
       "<table border=\"1\" class=\"dataframe\">\n",
       "  <thead>\n",
       "    <tr style=\"text-align: right;\">\n",
       "      <th></th>\n",
       "      <th>popularity</th>\n",
       "      <th>duration_ms</th>\n",
       "      <th>explicit</th>\n",
       "      <th>danceability</th>\n",
       "      <th>energy</th>\n",
       "      <th>key</th>\n",
       "      <th>loudness</th>\n",
       "      <th>mode</th>\n",
       "      <th>speechiness</th>\n",
       "      <th>acousticness</th>\n",
       "      <th>instrumentalness</th>\n",
       "      <th>liveness</th>\n",
       "      <th>valence</th>\n",
       "      <th>tempo</th>\n",
       "      <th>time_signature</th>\n",
       "    </tr>\n",
       "  </thead>\n",
       "  <tbody>\n",
       "    <tr>\n",
       "      <th>count</th>\n",
       "      <td>586672.000000</td>\n",
       "      <td>5.866720e+05</td>\n",
       "      <td>586672.000000</td>\n",
       "      <td>586672.000000</td>\n",
       "      <td>586672.000000</td>\n",
       "      <td>586672.000000</td>\n",
       "      <td>586672.000000</td>\n",
       "      <td>586672.000000</td>\n",
       "      <td>586672.000000</td>\n",
       "      <td>586672.000000</td>\n",
       "      <td>586672.000000</td>\n",
       "      <td>586672.000000</td>\n",
       "      <td>586672.000000</td>\n",
       "      <td>586672.000000</td>\n",
       "      <td>586672.000000</td>\n",
       "    </tr>\n",
       "    <tr>\n",
       "      <th>mean</th>\n",
       "      <td>27.570053</td>\n",
       "      <td>2.300512e+05</td>\n",
       "      <td>0.044086</td>\n",
       "      <td>0.563594</td>\n",
       "      <td>0.542036</td>\n",
       "      <td>5.221603</td>\n",
       "      <td>-10.206067</td>\n",
       "      <td>0.658797</td>\n",
       "      <td>0.104864</td>\n",
       "      <td>0.449863</td>\n",
       "      <td>0.113451</td>\n",
       "      <td>0.213935</td>\n",
       "      <td>0.552292</td>\n",
       "      <td>118.464857</td>\n",
       "      <td>3.873382</td>\n",
       "    </tr>\n",
       "    <tr>\n",
       "      <th>std</th>\n",
       "      <td>18.370642</td>\n",
       "      <td>1.265261e+05</td>\n",
       "      <td>0.205286</td>\n",
       "      <td>0.166103</td>\n",
       "      <td>0.251923</td>\n",
       "      <td>3.519423</td>\n",
       "      <td>5.089328</td>\n",
       "      <td>0.474114</td>\n",
       "      <td>0.179893</td>\n",
       "      <td>0.348837</td>\n",
       "      <td>0.266868</td>\n",
       "      <td>0.184326</td>\n",
       "      <td>0.257671</td>\n",
       "      <td>29.764108</td>\n",
       "      <td>0.473162</td>\n",
       "    </tr>\n",
       "    <tr>\n",
       "      <th>min</th>\n",
       "      <td>0.000000</td>\n",
       "      <td>3.344000e+03</td>\n",
       "      <td>0.000000</td>\n",
       "      <td>0.000000</td>\n",
       "      <td>0.000000</td>\n",
       "      <td>0.000000</td>\n",
       "      <td>-60.000000</td>\n",
       "      <td>0.000000</td>\n",
       "      <td>0.000000</td>\n",
       "      <td>0.000000</td>\n",
       "      <td>0.000000</td>\n",
       "      <td>0.000000</td>\n",
       "      <td>0.000000</td>\n",
       "      <td>0.000000</td>\n",
       "      <td>0.000000</td>\n",
       "    </tr>\n",
       "    <tr>\n",
       "      <th>25%</th>\n",
       "      <td>13.000000</td>\n",
       "      <td>1.750930e+05</td>\n",
       "      <td>0.000000</td>\n",
       "      <td>0.453000</td>\n",
       "      <td>0.343000</td>\n",
       "      <td>2.000000</td>\n",
       "      <td>-12.891000</td>\n",
       "      <td>0.000000</td>\n",
       "      <td>0.034000</td>\n",
       "      <td>0.096900</td>\n",
       "      <td>0.000000</td>\n",
       "      <td>0.098300</td>\n",
       "      <td>0.346000</td>\n",
       "      <td>95.600000</td>\n",
       "      <td>4.000000</td>\n",
       "    </tr>\n",
       "    <tr>\n",
       "      <th>50%</th>\n",
       "      <td>27.000000</td>\n",
       "      <td>2.148930e+05</td>\n",
       "      <td>0.000000</td>\n",
       "      <td>0.577000</td>\n",
       "      <td>0.549000</td>\n",
       "      <td>5.000000</td>\n",
       "      <td>-9.243000</td>\n",
       "      <td>1.000000</td>\n",
       "      <td>0.044300</td>\n",
       "      <td>0.422000</td>\n",
       "      <td>0.000024</td>\n",
       "      <td>0.139000</td>\n",
       "      <td>0.564000</td>\n",
       "      <td>117.384000</td>\n",
       "      <td>4.000000</td>\n",
       "    </tr>\n",
       "    <tr>\n",
       "      <th>75%</th>\n",
       "      <td>41.000000</td>\n",
       "      <td>2.638670e+05</td>\n",
       "      <td>0.000000</td>\n",
       "      <td>0.686000</td>\n",
       "      <td>0.748000</td>\n",
       "      <td>8.000000</td>\n",
       "      <td>-6.482000</td>\n",
       "      <td>1.000000</td>\n",
       "      <td>0.076300</td>\n",
       "      <td>0.785000</td>\n",
       "      <td>0.009550</td>\n",
       "      <td>0.278000</td>\n",
       "      <td>0.769000</td>\n",
       "      <td>136.321000</td>\n",
       "      <td>4.000000</td>\n",
       "    </tr>\n",
       "    <tr>\n",
       "      <th>max</th>\n",
       "      <td>100.000000</td>\n",
       "      <td>5.621218e+06</td>\n",
       "      <td>1.000000</td>\n",
       "      <td>0.991000</td>\n",
       "      <td>1.000000</td>\n",
       "      <td>11.000000</td>\n",
       "      <td>5.376000</td>\n",
       "      <td>1.000000</td>\n",
       "      <td>0.971000</td>\n",
       "      <td>0.996000</td>\n",
       "      <td>1.000000</td>\n",
       "      <td>1.000000</td>\n",
       "      <td>1.000000</td>\n",
       "      <td>246.381000</td>\n",
       "      <td>5.000000</td>\n",
       "    </tr>\n",
       "  </tbody>\n",
       "</table>\n",
       "</div>"
      ],
      "text/plain": [
       "          popularity   duration_ms       explicit   danceability  \\\n",
       "count  586672.000000  5.866720e+05  586672.000000  586672.000000   \n",
       "mean       27.570053  2.300512e+05       0.044086       0.563594   \n",
       "std        18.370642  1.265261e+05       0.205286       0.166103   \n",
       "min         0.000000  3.344000e+03       0.000000       0.000000   \n",
       "25%        13.000000  1.750930e+05       0.000000       0.453000   \n",
       "50%        27.000000  2.148930e+05       0.000000       0.577000   \n",
       "75%        41.000000  2.638670e+05       0.000000       0.686000   \n",
       "max       100.000000  5.621218e+06       1.000000       0.991000   \n",
       "\n",
       "              energy            key       loudness           mode  \\\n",
       "count  586672.000000  586672.000000  586672.000000  586672.000000   \n",
       "mean        0.542036       5.221603     -10.206067       0.658797   \n",
       "std         0.251923       3.519423       5.089328       0.474114   \n",
       "min         0.000000       0.000000     -60.000000       0.000000   \n",
       "25%         0.343000       2.000000     -12.891000       0.000000   \n",
       "50%         0.549000       5.000000      -9.243000       1.000000   \n",
       "75%         0.748000       8.000000      -6.482000       1.000000   \n",
       "max         1.000000      11.000000       5.376000       1.000000   \n",
       "\n",
       "         speechiness   acousticness  instrumentalness       liveness  \\\n",
       "count  586672.000000  586672.000000     586672.000000  586672.000000   \n",
       "mean        0.104864       0.449863          0.113451       0.213935   \n",
       "std         0.179893       0.348837          0.266868       0.184326   \n",
       "min         0.000000       0.000000          0.000000       0.000000   \n",
       "25%         0.034000       0.096900          0.000000       0.098300   \n",
       "50%         0.044300       0.422000          0.000024       0.139000   \n",
       "75%         0.076300       0.785000          0.009550       0.278000   \n",
       "max         0.971000       0.996000          1.000000       1.000000   \n",
       "\n",
       "             valence          tempo  time_signature  \n",
       "count  586672.000000  586672.000000   586672.000000  \n",
       "mean        0.552292     118.464857        3.873382  \n",
       "std         0.257671      29.764108        0.473162  \n",
       "min         0.000000       0.000000        0.000000  \n",
       "25%         0.346000      95.600000        4.000000  \n",
       "50%         0.564000     117.384000        4.000000  \n",
       "75%         0.769000     136.321000        4.000000  \n",
       "max         1.000000     246.381000        5.000000  "
      ]
     },
     "execution_count": 5,
     "metadata": {},
     "output_type": "execute_result"
    }
   ],
   "source": [
    "df.describe()"
   ]
  },
  {
   "cell_type": "code",
   "execution_count": 6,
   "metadata": {},
   "outputs": [
    {
     "data": {
      "text/plain": [
       "id                   0\n",
       "name                71\n",
       "popularity           0\n",
       "duration_ms          0\n",
       "explicit             0\n",
       "artists              0\n",
       "id_artists           0\n",
       "release_date         0\n",
       "danceability         0\n",
       "energy               0\n",
       "key                  0\n",
       "loudness             0\n",
       "mode                 0\n",
       "speechiness          0\n",
       "acousticness         0\n",
       "instrumentalness     0\n",
       "liveness             0\n",
       "valence              0\n",
       "tempo                0\n",
       "time_signature       0\n",
       "dtype: int64"
      ]
     },
     "execution_count": 6,
     "metadata": {},
     "output_type": "execute_result"
    }
   ],
   "source": [
    "df.isnull().sum()"
   ]
  },
  {
   "cell_type": "code",
   "execution_count": 7,
   "metadata": {},
   "outputs": [],
   "source": [
    "df.dropna(inplace=True)"
   ]
  },
  {
   "cell_type": "code",
   "execution_count": 8,
   "metadata": {},
   "outputs": [],
   "source": [
    "# New column in seconds, drop miliseconds\n",
    "df['duration'] = round(df['duration_ms']/1000,0)\n",
    "df.drop(\"duration_ms\",axis=1, inplace=True)"
   ]
  },
  {
   "cell_type": "code",
   "execution_count": 9,
   "metadata": {},
   "outputs": [],
   "source": [
    "#As some songs have more than one artist, I want to know how many artists have each song\n",
    "df['artists_count'] = df['artists'].apply(lambda x: x.count(',') + 1 )"
   ]
  },
  {
   "cell_type": "code",
   "execution_count": 10,
   "metadata": {},
   "outputs": [],
   "source": [
    "#Remove the Square Brackets from the artists\n",
    "\n",
    "df[\"artists\"]=df[\"artists\"].str.replace(\"[\", \"\")\n",
    "df[\"artists\"]=df[\"artists\"].str.replace(\"]\", \"\")\n",
    "df[\"artists\"]=df[\"artists\"].str.replace(\"'\", \"\")"
   ]
  },
  {
   "cell_type": "code",
   "execution_count": 11,
   "metadata": {},
   "outputs": [],
   "source": [
    "# I want to know in which year the song released\n",
    "df['year'] = pd.DatetimeIndex(df['release_date']).year\n",
    "#And for the decade: \n",
    "#                   create a decade column for each track based on the year of its release\n",
    "df['Song_decade'] = None\n",
    "\n",
    "df.loc[(df['year'] >= 1920) & (df['year'] < 1930), 'Song_decade'] = '1920s'\n",
    "df.loc[(df['year'] >= 1930) & (df['year'] < 1940), 'Song_decade'] = '1930s'\n",
    "df.loc[(df['year'] >= 1940) & (df['year'] < 1950), 'Song_decade'] = '1940s'\n",
    "df.loc[(df['year'] >= 1950) & (df['year'] < 1960), 'Song_decade'] = '1950s'\n",
    "df.loc[(df['year'] >= 1960) & (df['year'] < 1970), 'Song_decade'] = '1960s'\n",
    "df.loc[(df['year'] >= 1970) & (df['year'] < 1980) , 'Song_decade'] = '1970s'\n",
    "df.loc[(df['year'] >= 1980) & (df['year'] < 1990) , 'Song_decade'] = '1980s'\n",
    "df.loc[(df['year'] >= 1990) & (df['year'] < 2000) , 'Song_decade'] = '1990s'\n",
    "df.loc[(df['year'] >= 2000) & (df['year'] < 2010) , 'Song_decade'] = '2000s'\n",
    "df.loc[(df['year'] >= 2010) & (df['year'] < 2020) , 'Song_decade'] = '2010s'\n",
    "df.loc[(df['year'] >= 2020) & (df['year'] < 2030) , 'Song_decade'] = '2020s'"
   ]
  },
  {
   "cell_type": "code",
   "execution_count": 12,
   "metadata": {},
   "outputs": [
    {
     "data": {
      "text/html": [
       "<div>\n",
       "<style scoped>\n",
       "    .dataframe tbody tr th:only-of-type {\n",
       "        vertical-align: middle;\n",
       "    }\n",
       "\n",
       "    .dataframe tbody tr th {\n",
       "        vertical-align: top;\n",
       "    }\n",
       "\n",
       "    .dataframe thead th {\n",
       "        text-align: right;\n",
       "    }\n",
       "</style>\n",
       "<table border=\"1\" class=\"dataframe\">\n",
       "  <thead>\n",
       "    <tr style=\"text-align: right;\">\n",
       "      <th></th>\n",
       "      <th>id</th>\n",
       "      <th>name</th>\n",
       "      <th>popularity</th>\n",
       "      <th>explicit</th>\n",
       "      <th>artists</th>\n",
       "      <th>id_artists</th>\n",
       "      <th>release_date</th>\n",
       "      <th>danceability</th>\n",
       "      <th>energy</th>\n",
       "      <th>key</th>\n",
       "      <th>...</th>\n",
       "      <th>acousticness</th>\n",
       "      <th>instrumentalness</th>\n",
       "      <th>liveness</th>\n",
       "      <th>valence</th>\n",
       "      <th>tempo</th>\n",
       "      <th>time_signature</th>\n",
       "      <th>duration</th>\n",
       "      <th>artists_count</th>\n",
       "      <th>year</th>\n",
       "      <th>Song_decade</th>\n",
       "    </tr>\n",
       "  </thead>\n",
       "  <tbody>\n",
       "    <tr>\n",
       "      <th>0</th>\n",
       "      <td>35iwgR4jXetI318WEWsa1Q</td>\n",
       "      <td>Carve</td>\n",
       "      <td>6</td>\n",
       "      <td>0</td>\n",
       "      <td>Uli</td>\n",
       "      <td>['45tIt06XoI0Iio4LBEVpls']</td>\n",
       "      <td>1922-02-22</td>\n",
       "      <td>0.645</td>\n",
       "      <td>0.4450</td>\n",
       "      <td>0</td>\n",
       "      <td>...</td>\n",
       "      <td>0.674</td>\n",
       "      <td>0.7440</td>\n",
       "      <td>0.151</td>\n",
       "      <td>0.127</td>\n",
       "      <td>104.851</td>\n",
       "      <td>3</td>\n",
       "      <td>127.0</td>\n",
       "      <td>1</td>\n",
       "      <td>1922</td>\n",
       "      <td>1920s</td>\n",
       "    </tr>\n",
       "    <tr>\n",
       "      <th>1</th>\n",
       "      <td>021ht4sdgPcrDgSk7JTbKY</td>\n",
       "      <td>Capítulo 2.16 - Banquero Anarquista</td>\n",
       "      <td>0</td>\n",
       "      <td>0</td>\n",
       "      <td>Fernando Pessoa</td>\n",
       "      <td>['14jtPCOoNZwquk5wd9DxrY']</td>\n",
       "      <td>1922-06-01</td>\n",
       "      <td>0.695</td>\n",
       "      <td>0.2630</td>\n",
       "      <td>0</td>\n",
       "      <td>...</td>\n",
       "      <td>0.797</td>\n",
       "      <td>0.0000</td>\n",
       "      <td>0.148</td>\n",
       "      <td>0.655</td>\n",
       "      <td>102.009</td>\n",
       "      <td>1</td>\n",
       "      <td>98.0</td>\n",
       "      <td>1</td>\n",
       "      <td>1922</td>\n",
       "      <td>1920s</td>\n",
       "    </tr>\n",
       "    <tr>\n",
       "      <th>2</th>\n",
       "      <td>07A5yehtSnoedViJAZkNnc</td>\n",
       "      <td>Vivo para Quererte - Remasterizado</td>\n",
       "      <td>0</td>\n",
       "      <td>0</td>\n",
       "      <td>Ignacio Corsini</td>\n",
       "      <td>['5LiOoJbxVSAMkBS2fUm3X2']</td>\n",
       "      <td>1922-03-21</td>\n",
       "      <td>0.434</td>\n",
       "      <td>0.1770</td>\n",
       "      <td>1</td>\n",
       "      <td>...</td>\n",
       "      <td>0.994</td>\n",
       "      <td>0.0218</td>\n",
       "      <td>0.212</td>\n",
       "      <td>0.457</td>\n",
       "      <td>130.418</td>\n",
       "      <td>5</td>\n",
       "      <td>182.0</td>\n",
       "      <td>1</td>\n",
       "      <td>1922</td>\n",
       "      <td>1920s</td>\n",
       "    </tr>\n",
       "    <tr>\n",
       "      <th>3</th>\n",
       "      <td>08FmqUhxtyLTn6pAh6bk45</td>\n",
       "      <td>El Prisionero - Remasterizado</td>\n",
       "      <td>0</td>\n",
       "      <td>0</td>\n",
       "      <td>Ignacio Corsini</td>\n",
       "      <td>['5LiOoJbxVSAMkBS2fUm3X2']</td>\n",
       "      <td>1922-03-21</td>\n",
       "      <td>0.321</td>\n",
       "      <td>0.0946</td>\n",
       "      <td>7</td>\n",
       "      <td>...</td>\n",
       "      <td>0.995</td>\n",
       "      <td>0.9180</td>\n",
       "      <td>0.104</td>\n",
       "      <td>0.397</td>\n",
       "      <td>169.980</td>\n",
       "      <td>3</td>\n",
       "      <td>177.0</td>\n",
       "      <td>1</td>\n",
       "      <td>1922</td>\n",
       "      <td>1920s</td>\n",
       "    </tr>\n",
       "    <tr>\n",
       "      <th>4</th>\n",
       "      <td>08y9GfoqCWfOGsKdwojr5e</td>\n",
       "      <td>Lady of the Evening</td>\n",
       "      <td>0</td>\n",
       "      <td>0</td>\n",
       "      <td>Dick Haymes</td>\n",
       "      <td>['3BiJGZsyX9sJchTqcSA7Su']</td>\n",
       "      <td>1922</td>\n",
       "      <td>0.402</td>\n",
       "      <td>0.1580</td>\n",
       "      <td>3</td>\n",
       "      <td>...</td>\n",
       "      <td>0.989</td>\n",
       "      <td>0.1300</td>\n",
       "      <td>0.311</td>\n",
       "      <td>0.196</td>\n",
       "      <td>103.220</td>\n",
       "      <td>4</td>\n",
       "      <td>163.0</td>\n",
       "      <td>1</td>\n",
       "      <td>1922</td>\n",
       "      <td>1920s</td>\n",
       "    </tr>\n",
       "    <tr>\n",
       "      <th>...</th>\n",
       "      <td>...</td>\n",
       "      <td>...</td>\n",
       "      <td>...</td>\n",
       "      <td>...</td>\n",
       "      <td>...</td>\n",
       "      <td>...</td>\n",
       "      <td>...</td>\n",
       "      <td>...</td>\n",
       "      <td>...</td>\n",
       "      <td>...</td>\n",
       "      <td>...</td>\n",
       "      <td>...</td>\n",
       "      <td>...</td>\n",
       "      <td>...</td>\n",
       "      <td>...</td>\n",
       "      <td>...</td>\n",
       "      <td>...</td>\n",
       "      <td>...</td>\n",
       "      <td>...</td>\n",
       "      <td>...</td>\n",
       "      <td>...</td>\n",
       "    </tr>\n",
       "    <tr>\n",
       "      <th>270</th>\n",
       "      <td>0Y9Sd7SkWFrmMvxJXagqo8</td>\n",
       "      <td>Chapter 2.12 - Król Maciuś Pierwszy</td>\n",
       "      <td>0</td>\n",
       "      <td>0</td>\n",
       "      <td>Janusz Korczak</td>\n",
       "      <td>['4hLtcEEpjCmBtTnDdzRV4J']</td>\n",
       "      <td>1923-12-27</td>\n",
       "      <td>0.734</td>\n",
       "      <td>0.2730</td>\n",
       "      <td>5</td>\n",
       "      <td>...</td>\n",
       "      <td>0.766</td>\n",
       "      <td>0.0000</td>\n",
       "      <td>0.126</td>\n",
       "      <td>0.791</td>\n",
       "      <td>91.951</td>\n",
       "      <td>4</td>\n",
       "      <td>133.0</td>\n",
       "      <td>1</td>\n",
       "      <td>1923</td>\n",
       "      <td>1920s</td>\n",
       "    </tr>\n",
       "    <tr>\n",
       "      <th>271</th>\n",
       "      <td>0YIo0uq3o867nFkE9I9hf2</td>\n",
       "      <td>Pleadin' for the Blues</td>\n",
       "      <td>4</td>\n",
       "      <td>0</td>\n",
       "      <td>Bertha \"Chippie\" Hill, Louis Armstrong</td>\n",
       "      <td>['1sPDyROEgOvKQlReOg874E', '19eLuQmk9aCobbVDHc...</td>\n",
       "      <td>1923</td>\n",
       "      <td>0.661</td>\n",
       "      <td>0.1340</td>\n",
       "      <td>2</td>\n",
       "      <td>...</td>\n",
       "      <td>0.996</td>\n",
       "      <td>0.0011</td>\n",
       "      <td>0.119</td>\n",
       "      <td>0.575</td>\n",
       "      <td>71.497</td>\n",
       "      <td>4</td>\n",
       "      <td>179.0</td>\n",
       "      <td>2</td>\n",
       "      <td>1923</td>\n",
       "      <td>1920s</td>\n",
       "    </tr>\n",
       "    <tr>\n",
       "      <th>272</th>\n",
       "      <td>0YSsZU8Ho1rfH6mhj1plVb</td>\n",
       "      <td>Chapter 2.19 - Król Maciuś na wyspie bezludnej</td>\n",
       "      <td>0</td>\n",
       "      <td>0</td>\n",
       "      <td>Janusz Korczak</td>\n",
       "      <td>['4hLtcEEpjCmBtTnDdzRV4J']</td>\n",
       "      <td>1923-12-27</td>\n",
       "      <td>0.699</td>\n",
       "      <td>0.2610</td>\n",
       "      <td>5</td>\n",
       "      <td>...</td>\n",
       "      <td>0.919</td>\n",
       "      <td>0.0000</td>\n",
       "      <td>0.152</td>\n",
       "      <td>0.689</td>\n",
       "      <td>54.428</td>\n",
       "      <td>4</td>\n",
       "      <td>133.0</td>\n",
       "      <td>1</td>\n",
       "      <td>1923</td>\n",
       "      <td>1920s</td>\n",
       "    </tr>\n",
       "    <tr>\n",
       "      <th>273</th>\n",
       "      <td>0ZLFySfiageV9HiIi5gta0</td>\n",
       "      <td>Chapter 5.13 - Król Maciuś Pierwszy</td>\n",
       "      <td>0</td>\n",
       "      <td>0</td>\n",
       "      <td>Janusz Korczak</td>\n",
       "      <td>['4hLtcEEpjCmBtTnDdzRV4J']</td>\n",
       "      <td>1923-12-27</td>\n",
       "      <td>0.630</td>\n",
       "      <td>0.2620</td>\n",
       "      <td>1</td>\n",
       "      <td>...</td>\n",
       "      <td>0.788</td>\n",
       "      <td>0.0000</td>\n",
       "      <td>0.236</td>\n",
       "      <td>0.787</td>\n",
       "      <td>167.846</td>\n",
       "      <td>5</td>\n",
       "      <td>142.0</td>\n",
       "      <td>1</td>\n",
       "      <td>1923</td>\n",
       "      <td>1920s</td>\n",
       "    </tr>\n",
       "    <tr>\n",
       "      <th>274</th>\n",
       "      <td>0ZRoSs5icoW5QJvZq0Y73w</td>\n",
       "      <td>Demasiado tarde - en vivo</td>\n",
       "      <td>0</td>\n",
       "      <td>0</td>\n",
       "      <td>Yiyo y Los Chicos 10</td>\n",
       "      <td>['6JXytsNesnjzxv4tHWbe9I']</td>\n",
       "      <td>1923</td>\n",
       "      <td>0.583</td>\n",
       "      <td>0.7150</td>\n",
       "      <td>11</td>\n",
       "      <td>...</td>\n",
       "      <td>0.839</td>\n",
       "      <td>0.0000</td>\n",
       "      <td>0.363</td>\n",
       "      <td>0.772</td>\n",
       "      <td>104.346</td>\n",
       "      <td>4</td>\n",
       "      <td>185.0</td>\n",
       "      <td>1</td>\n",
       "      <td>1923</td>\n",
       "      <td>1920s</td>\n",
       "    </tr>\n",
       "  </tbody>\n",
       "</table>\n",
       "<p>275 rows × 23 columns</p>\n",
       "</div>"
      ],
      "text/plain": [
       "                         id                                            name  \\\n",
       "0    35iwgR4jXetI318WEWsa1Q                                           Carve   \n",
       "1    021ht4sdgPcrDgSk7JTbKY             Capítulo 2.16 - Banquero Anarquista   \n",
       "2    07A5yehtSnoedViJAZkNnc              Vivo para Quererte - Remasterizado   \n",
       "3    08FmqUhxtyLTn6pAh6bk45                   El Prisionero - Remasterizado   \n",
       "4    08y9GfoqCWfOGsKdwojr5e                             Lady of the Evening   \n",
       "..                      ...                                             ...   \n",
       "270  0Y9Sd7SkWFrmMvxJXagqo8             Chapter 2.12 - Król Maciuś Pierwszy   \n",
       "271  0YIo0uq3o867nFkE9I9hf2                          Pleadin' for the Blues   \n",
       "272  0YSsZU8Ho1rfH6mhj1plVb  Chapter 2.19 - Król Maciuś na wyspie bezludnej   \n",
       "273  0ZLFySfiageV9HiIi5gta0             Chapter 5.13 - Król Maciuś Pierwszy   \n",
       "274  0ZRoSs5icoW5QJvZq0Y73w                       Demasiado tarde - en vivo   \n",
       "\n",
       "     popularity  explicit                                 artists  \\\n",
       "0             6         0                                     Uli   \n",
       "1             0         0                         Fernando Pessoa   \n",
       "2             0         0                         Ignacio Corsini   \n",
       "3             0         0                         Ignacio Corsini   \n",
       "4             0         0                             Dick Haymes   \n",
       "..          ...       ...                                     ...   \n",
       "270           0         0                          Janusz Korczak   \n",
       "271           4         0  Bertha \"Chippie\" Hill, Louis Armstrong   \n",
       "272           0         0                          Janusz Korczak   \n",
       "273           0         0                          Janusz Korczak   \n",
       "274           0         0                    Yiyo y Los Chicos 10   \n",
       "\n",
       "                                            id_artists release_date  \\\n",
       "0                           ['45tIt06XoI0Iio4LBEVpls']   1922-02-22   \n",
       "1                           ['14jtPCOoNZwquk5wd9DxrY']   1922-06-01   \n",
       "2                           ['5LiOoJbxVSAMkBS2fUm3X2']   1922-03-21   \n",
       "3                           ['5LiOoJbxVSAMkBS2fUm3X2']   1922-03-21   \n",
       "4                           ['3BiJGZsyX9sJchTqcSA7Su']         1922   \n",
       "..                                                 ...          ...   \n",
       "270                         ['4hLtcEEpjCmBtTnDdzRV4J']   1923-12-27   \n",
       "271  ['1sPDyROEgOvKQlReOg874E', '19eLuQmk9aCobbVDHc...         1923   \n",
       "272                         ['4hLtcEEpjCmBtTnDdzRV4J']   1923-12-27   \n",
       "273                         ['4hLtcEEpjCmBtTnDdzRV4J']   1923-12-27   \n",
       "274                         ['6JXytsNesnjzxv4tHWbe9I']         1923   \n",
       "\n",
       "     danceability  energy  key  ...  acousticness  instrumentalness  liveness  \\\n",
       "0           0.645  0.4450    0  ...         0.674            0.7440     0.151   \n",
       "1           0.695  0.2630    0  ...         0.797            0.0000     0.148   \n",
       "2           0.434  0.1770    1  ...         0.994            0.0218     0.212   \n",
       "3           0.321  0.0946    7  ...         0.995            0.9180     0.104   \n",
       "4           0.402  0.1580    3  ...         0.989            0.1300     0.311   \n",
       "..            ...     ...  ...  ...           ...               ...       ...   \n",
       "270         0.734  0.2730    5  ...         0.766            0.0000     0.126   \n",
       "271         0.661  0.1340    2  ...         0.996            0.0011     0.119   \n",
       "272         0.699  0.2610    5  ...         0.919            0.0000     0.152   \n",
       "273         0.630  0.2620    1  ...         0.788            0.0000     0.236   \n",
       "274         0.583  0.7150   11  ...         0.839            0.0000     0.363   \n",
       "\n",
       "     valence    tempo  time_signature  duration  artists_count  year  \\\n",
       "0      0.127  104.851               3     127.0              1  1922   \n",
       "1      0.655  102.009               1      98.0              1  1922   \n",
       "2      0.457  130.418               5     182.0              1  1922   \n",
       "3      0.397  169.980               3     177.0              1  1922   \n",
       "4      0.196  103.220               4     163.0              1  1922   \n",
       "..       ...      ...             ...       ...            ...   ...   \n",
       "270    0.791   91.951               4     133.0              1  1923   \n",
       "271    0.575   71.497               4     179.0              2  1923   \n",
       "272    0.689   54.428               4     133.0              1  1923   \n",
       "273    0.787  167.846               5     142.0              1  1923   \n",
       "274    0.772  104.346               4     185.0              1  1923   \n",
       "\n",
       "     Song_decade  \n",
       "0          1920s  \n",
       "1          1920s  \n",
       "2          1920s  \n",
       "3          1920s  \n",
       "4          1920s  \n",
       "..           ...  \n",
       "270        1920s  \n",
       "271        1920s  \n",
       "272        1920s  \n",
       "273        1920s  \n",
       "274        1920s  \n",
       "\n",
       "[275 rows x 23 columns]"
      ]
     },
     "execution_count": 12,
     "metadata": {},
     "output_type": "execute_result"
    }
   ],
   "source": [
    "df.head(275)"
   ]
  },
  {
   "cell_type": "code",
   "execution_count": 13,
   "metadata": {},
   "outputs": [
    {
     "data": {
      "text/plain": [
       "0"
      ]
     },
     "execution_count": 13,
     "metadata": {},
     "output_type": "execute_result"
    }
   ],
   "source": [
    "df.duplicated().any().sum() \n",
    "# no duplicates"
   ]
  },
  {
   "cell_type": "code",
   "execution_count": 14,
   "metadata": {},
   "outputs": [
    {
     "data": {
      "text/html": [
       "<div>\n",
       "<style scoped>\n",
       "    .dataframe tbody tr th:only-of-type {\n",
       "        vertical-align: middle;\n",
       "    }\n",
       "\n",
       "    .dataframe tbody tr th {\n",
       "        vertical-align: top;\n",
       "    }\n",
       "\n",
       "    .dataframe thead th {\n",
       "        text-align: right;\n",
       "    }\n",
       "</style>\n",
       "<table border=\"1\" class=\"dataframe\">\n",
       "  <thead>\n",
       "    <tr style=\"text-align: right;\">\n",
       "      <th></th>\n",
       "      <th>id</th>\n",
       "      <th>name</th>\n",
       "      <th>popularity</th>\n",
       "      <th>explicit</th>\n",
       "      <th>artists</th>\n",
       "      <th>id_artists</th>\n",
       "      <th>release_date</th>\n",
       "      <th>danceability</th>\n",
       "      <th>energy</th>\n",
       "      <th>key</th>\n",
       "      <th>...</th>\n",
       "      <th>acousticness</th>\n",
       "      <th>instrumentalness</th>\n",
       "      <th>liveness</th>\n",
       "      <th>valence</th>\n",
       "      <th>tempo</th>\n",
       "      <th>time_signature</th>\n",
       "      <th>duration</th>\n",
       "      <th>artists_count</th>\n",
       "      <th>year</th>\n",
       "      <th>Song_decade</th>\n",
       "    </tr>\n",
       "  </thead>\n",
       "  <tbody>\n",
       "    <tr>\n",
       "      <th>121</th>\n",
       "      <td>5cUFFY2Atw4QeFitueQCt2</td>\n",
       "      <td>El Huerfano - Remasterizado</td>\n",
       "      <td>0</td>\n",
       "      <td>0</td>\n",
       "      <td>Ignacio Corsini</td>\n",
       "      <td>['5LiOoJbxVSAMkBS2fUm3X2']</td>\n",
       "      <td>1922-03-29</td>\n",
       "      <td>0.366</td>\n",
       "      <td>0.0749</td>\n",
       "      <td>7</td>\n",
       "      <td>...</td>\n",
       "      <td>0.99600</td>\n",
       "      <td>0.924000</td>\n",
       "      <td>0.1170</td>\n",
       "      <td>0.515</td>\n",
       "      <td>90.969</td>\n",
       "      <td>3</td>\n",
       "      <td>160.0</td>\n",
       "      <td>1</td>\n",
       "      <td>1922</td>\n",
       "      <td>1920s</td>\n",
       "    </tr>\n",
       "    <tr>\n",
       "      <th>230</th>\n",
       "      <td>5eXOIVUkW17FqnEoLR2wTX</td>\n",
       "      <td>Stardust</td>\n",
       "      <td>5</td>\n",
       "      <td>0</td>\n",
       "      <td>Louis Armstrong</td>\n",
       "      <td>['19eLuQmk9aCobbVDHc6eek']</td>\n",
       "      <td>1923</td>\n",
       "      <td>0.614</td>\n",
       "      <td>0.2980</td>\n",
       "      <td>3</td>\n",
       "      <td>...</td>\n",
       "      <td>0.97000</td>\n",
       "      <td>0.646000</td>\n",
       "      <td>0.0514</td>\n",
       "      <td>0.772</td>\n",
       "      <td>122.319</td>\n",
       "      <td>4</td>\n",
       "      <td>214.0</td>\n",
       "      <td>1</td>\n",
       "      <td>1923</td>\n",
       "      <td>1920s</td>\n",
       "    </tr>\n",
       "    <tr>\n",
       "      <th>398</th>\n",
       "      <td>2gFUqcLFUDVXcWmeKAOnGd</td>\n",
       "      <td>Pobre Cotorro - Remasterizado</td>\n",
       "      <td>0</td>\n",
       "      <td>0</td>\n",
       "      <td>Ignacio Corsini</td>\n",
       "      <td>['5LiOoJbxVSAMkBS2fUm3X2']</td>\n",
       "      <td>1923-03-29</td>\n",
       "      <td>0.502</td>\n",
       "      <td>0.2980</td>\n",
       "      <td>5</td>\n",
       "      <td>...</td>\n",
       "      <td>0.99500</td>\n",
       "      <td>0.919000</td>\n",
       "      <td>0.2850</td>\n",
       "      <td>0.510</td>\n",
       "      <td>135.238</td>\n",
       "      <td>4</td>\n",
       "      <td>171.0</td>\n",
       "      <td>1</td>\n",
       "      <td>1923</td>\n",
       "      <td>1920s</td>\n",
       "    </tr>\n",
       "    <tr>\n",
       "      <th>511</th>\n",
       "      <td>4Q5I6riVFNV4mJaqSCmB0C</td>\n",
       "      <td>Basin Street Blues - rec. 1928</td>\n",
       "      <td>4</td>\n",
       "      <td>0</td>\n",
       "      <td>Louis Armstrong &amp; His Hot Five</td>\n",
       "      <td>['0t4VVR2T9Sb0z3NdDdEU6S']</td>\n",
       "      <td>1923</td>\n",
       "      <td>0.604</td>\n",
       "      <td>0.2790</td>\n",
       "      <td>10</td>\n",
       "      <td>...</td>\n",
       "      <td>0.98600</td>\n",
       "      <td>0.237000</td>\n",
       "      <td>0.2750</td>\n",
       "      <td>0.594</td>\n",
       "      <td>123.271</td>\n",
       "      <td>4</td>\n",
       "      <td>207.0</td>\n",
       "      <td>1</td>\n",
       "      <td>1923</td>\n",
       "      <td>1920s</td>\n",
       "    </tr>\n",
       "    <tr>\n",
       "      <th>719</th>\n",
       "      <td>0OJgo5mwk8SirgbF8Ht4lA</td>\n",
       "      <td>Juan de los Santos Arena - Remasterizado</td>\n",
       "      <td>0</td>\n",
       "      <td>0</td>\n",
       "      <td>Ignacio Corsini</td>\n",
       "      <td>['5LiOoJbxVSAMkBS2fUm3X2']</td>\n",
       "      <td>1924-03-29</td>\n",
       "      <td>0.408</td>\n",
       "      <td>0.1980</td>\n",
       "      <td>4</td>\n",
       "      <td>...</td>\n",
       "      <td>0.98000</td>\n",
       "      <td>0.900000</td>\n",
       "      <td>0.1140</td>\n",
       "      <td>0.150</td>\n",
       "      <td>120.807</td>\n",
       "      <td>4</td>\n",
       "      <td>144.0</td>\n",
       "      <td>1</td>\n",
       "      <td>1924</td>\n",
       "      <td>1920s</td>\n",
       "    </tr>\n",
       "    <tr>\n",
       "      <th>...</th>\n",
       "      <td>...</td>\n",
       "      <td>...</td>\n",
       "      <td>...</td>\n",
       "      <td>...</td>\n",
       "      <td>...</td>\n",
       "      <td>...</td>\n",
       "      <td>...</td>\n",
       "      <td>...</td>\n",
       "      <td>...</td>\n",
       "      <td>...</td>\n",
       "      <td>...</td>\n",
       "      <td>...</td>\n",
       "      <td>...</td>\n",
       "      <td>...</td>\n",
       "      <td>...</td>\n",
       "      <td>...</td>\n",
       "      <td>...</td>\n",
       "      <td>...</td>\n",
       "      <td>...</td>\n",
       "      <td>...</td>\n",
       "      <td>...</td>\n",
       "    </tr>\n",
       "    <tr>\n",
       "      <th>586602</th>\n",
       "      <td>3fSZR3szZHnFQkpMFzwDNF</td>\n",
       "      <td>我在呢</td>\n",
       "      <td>45</td>\n",
       "      <td>0</td>\n",
       "      <td>TANK 呂建忠</td>\n",
       "      <td>['39LWbzZB6lcrRviPzrAVdZ']</td>\n",
       "      <td>2018-08-02</td>\n",
       "      <td>0.577</td>\n",
       "      <td>0.4470</td>\n",
       "      <td>1</td>\n",
       "      <td>...</td>\n",
       "      <td>0.59200</td>\n",
       "      <td>0.000000</td>\n",
       "      <td>0.1070</td>\n",
       "      <td>0.318</td>\n",
       "      <td>119.905</td>\n",
       "      <td>4</td>\n",
       "      <td>217.0</td>\n",
       "      <td>1</td>\n",
       "      <td>2018</td>\n",
       "      <td>2010s</td>\n",
       "    </tr>\n",
       "    <tr>\n",
       "      <th>586604</th>\n",
       "      <td>11DUHbs4Vu8M7ppePmszse</td>\n",
       "      <td>誰</td>\n",
       "      <td>45</td>\n",
       "      <td>0</td>\n",
       "      <td>Yo Lee</td>\n",
       "      <td>['1D2LuIU6rgg0MGa0l8wYJh']</td>\n",
       "      <td>2018-08-31</td>\n",
       "      <td>0.468</td>\n",
       "      <td>0.2600</td>\n",
       "      <td>1</td>\n",
       "      <td>...</td>\n",
       "      <td>0.69400</td>\n",
       "      <td>0.000000</td>\n",
       "      <td>0.1090</td>\n",
       "      <td>0.214</td>\n",
       "      <td>128.579</td>\n",
       "      <td>4</td>\n",
       "      <td>251.0</td>\n",
       "      <td>1</td>\n",
       "      <td>2018</td>\n",
       "      <td>2010s</td>\n",
       "    </tr>\n",
       "    <tr>\n",
       "      <th>586637</th>\n",
       "      <td>1HpzOCZbNWzxvvXfSGtSrX</td>\n",
       "      <td>Find U Again (feat. Camila Cabello)</td>\n",
       "      <td>64</td>\n",
       "      <td>0</td>\n",
       "      <td>Mark Ronson, Camila Cabello</td>\n",
       "      <td>['3hv9jJF3adDNsBSIQDqcjp', '4nDoRrQiYLoBzwC5Bh...</td>\n",
       "      <td>2019-05-30</td>\n",
       "      <td>0.605</td>\n",
       "      <td>0.6640</td>\n",
       "      <td>8</td>\n",
       "      <td>...</td>\n",
       "      <td>0.00548</td>\n",
       "      <td>0.000003</td>\n",
       "      <td>0.2040</td>\n",
       "      <td>0.164</td>\n",
       "      <td>103.997</td>\n",
       "      <td>4</td>\n",
       "      <td>176.0</td>\n",
       "      <td>2</td>\n",
       "      <td>2019</td>\n",
       "      <td>2010s</td>\n",
       "    </tr>\n",
       "    <tr>\n",
       "      <th>586646</th>\n",
       "      <td>0F2muCxmWhi7NfY9poM0KZ</td>\n",
       "      <td>至少我還記得 - 天堂的微笑插曲</td>\n",
       "      <td>44</td>\n",
       "      <td>0</td>\n",
       "      <td>Eric Chou</td>\n",
       "      <td>['5fEQLwq1BWWQNR8GzhOIvi']</td>\n",
       "      <td>2019-01-10</td>\n",
       "      <td>0.269</td>\n",
       "      <td>0.3680</td>\n",
       "      <td>10</td>\n",
       "      <td>...</td>\n",
       "      <td>0.72400</td>\n",
       "      <td>0.000003</td>\n",
       "      <td>0.1110</td>\n",
       "      <td>0.337</td>\n",
       "      <td>168.803</td>\n",
       "      <td>4</td>\n",
       "      <td>305.0</td>\n",
       "      <td>1</td>\n",
       "      <td>2019</td>\n",
       "      <td>2010s</td>\n",
       "    </tr>\n",
       "    <tr>\n",
       "      <th>586647</th>\n",
       "      <td>0mDsJ6a7qY3DWbCAHancPj</td>\n",
       "      <td>King - Acoustic</td>\n",
       "      <td>2</td>\n",
       "      <td>0</td>\n",
       "      <td>Years &amp; Years</td>\n",
       "      <td>['5vBSrE1xujD2FXYRarbAXc']</td>\n",
       "      <td>2020-06-26</td>\n",
       "      <td>0.451</td>\n",
       "      <td>0.1950</td>\n",
       "      <td>2</td>\n",
       "      <td>...</td>\n",
       "      <td>0.95800</td>\n",
       "      <td>0.000003</td>\n",
       "      <td>0.1040</td>\n",
       "      <td>0.286</td>\n",
       "      <td>93.706</td>\n",
       "      <td>4</td>\n",
       "      <td>244.0</td>\n",
       "      <td>1</td>\n",
       "      <td>2020</td>\n",
       "      <td>2020s</td>\n",
       "    </tr>\n",
       "  </tbody>\n",
       "</table>\n",
       "<p>59998 rows × 23 columns</p>\n",
       "</div>"
      ],
      "text/plain": [
       "                            id                                      name  \\\n",
       "121     5cUFFY2Atw4QeFitueQCt2               El Huerfano - Remasterizado   \n",
       "230     5eXOIVUkW17FqnEoLR2wTX                                  Stardust   \n",
       "398     2gFUqcLFUDVXcWmeKAOnGd             Pobre Cotorro - Remasterizado   \n",
       "511     4Q5I6riVFNV4mJaqSCmB0C            Basin Street Blues - rec. 1928   \n",
       "719     0OJgo5mwk8SirgbF8Ht4lA  Juan de los Santos Arena - Remasterizado   \n",
       "...                        ...                                       ...   \n",
       "586602  3fSZR3szZHnFQkpMFzwDNF                                       我在呢   \n",
       "586604  11DUHbs4Vu8M7ppePmszse                                         誰   \n",
       "586637  1HpzOCZbNWzxvvXfSGtSrX       Find U Again (feat. Camila Cabello)   \n",
       "586646  0F2muCxmWhi7NfY9poM0KZ                          至少我還記得 - 天堂的微笑插曲   \n",
       "586647  0mDsJ6a7qY3DWbCAHancPj                           King - Acoustic   \n",
       "\n",
       "        popularity  explicit                         artists  \\\n",
       "121              0         0                 Ignacio Corsini   \n",
       "230              5         0                 Louis Armstrong   \n",
       "398              0         0                 Ignacio Corsini   \n",
       "511              4         0  Louis Armstrong & His Hot Five   \n",
       "719              0         0                 Ignacio Corsini   \n",
       "...            ...       ...                             ...   \n",
       "586602          45         0                        TANK 呂建忠   \n",
       "586604          45         0                          Yo Lee   \n",
       "586637          64         0     Mark Ronson, Camila Cabello   \n",
       "586646          44         0                       Eric Chou   \n",
       "586647           2         0                   Years & Years   \n",
       "\n",
       "                                               id_artists release_date  \\\n",
       "121                            ['5LiOoJbxVSAMkBS2fUm3X2']   1922-03-29   \n",
       "230                            ['19eLuQmk9aCobbVDHc6eek']         1923   \n",
       "398                            ['5LiOoJbxVSAMkBS2fUm3X2']   1923-03-29   \n",
       "511                            ['0t4VVR2T9Sb0z3NdDdEU6S']         1923   \n",
       "719                            ['5LiOoJbxVSAMkBS2fUm3X2']   1924-03-29   \n",
       "...                                                   ...          ...   \n",
       "586602                         ['39LWbzZB6lcrRviPzrAVdZ']   2018-08-02   \n",
       "586604                         ['1D2LuIU6rgg0MGa0l8wYJh']   2018-08-31   \n",
       "586637  ['3hv9jJF3adDNsBSIQDqcjp', '4nDoRrQiYLoBzwC5Bh...   2019-05-30   \n",
       "586646                         ['5fEQLwq1BWWQNR8GzhOIvi']   2019-01-10   \n",
       "586647                         ['5vBSrE1xujD2FXYRarbAXc']   2020-06-26   \n",
       "\n",
       "        danceability  energy  key  ...  acousticness  instrumentalness  \\\n",
       "121            0.366  0.0749    7  ...       0.99600          0.924000   \n",
       "230            0.614  0.2980    3  ...       0.97000          0.646000   \n",
       "398            0.502  0.2980    5  ...       0.99500          0.919000   \n",
       "511            0.604  0.2790   10  ...       0.98600          0.237000   \n",
       "719            0.408  0.1980    4  ...       0.98000          0.900000   \n",
       "...              ...     ...  ...  ...           ...               ...   \n",
       "586602         0.577  0.4470    1  ...       0.59200          0.000000   \n",
       "586604         0.468  0.2600    1  ...       0.69400          0.000000   \n",
       "586637         0.605  0.6640    8  ...       0.00548          0.000003   \n",
       "586646         0.269  0.3680   10  ...       0.72400          0.000003   \n",
       "586647         0.451  0.1950    2  ...       0.95800          0.000003   \n",
       "\n",
       "        liveness  valence    tempo  time_signature  duration  artists_count  \\\n",
       "121       0.1170    0.515   90.969               3     160.0              1   \n",
       "230       0.0514    0.772  122.319               4     214.0              1   \n",
       "398       0.2850    0.510  135.238               4     171.0              1   \n",
       "511       0.2750    0.594  123.271               4     207.0              1   \n",
       "719       0.1140    0.150  120.807               4     144.0              1   \n",
       "...          ...      ...      ...             ...       ...            ...   \n",
       "586602    0.1070    0.318  119.905               4     217.0              1   \n",
       "586604    0.1090    0.214  128.579               4     251.0              1   \n",
       "586637    0.2040    0.164  103.997               4     176.0              2   \n",
       "586646    0.1110    0.337  168.803               4     305.0              1   \n",
       "586647    0.1040    0.286   93.706               4     244.0              1   \n",
       "\n",
       "        year  Song_decade  \n",
       "121     1922        1920s  \n",
       "230     1923        1920s  \n",
       "398     1923        1920s  \n",
       "511     1923        1920s  \n",
       "719     1924        1920s  \n",
       "...      ...          ...  \n",
       "586602  2018        2010s  \n",
       "586604  2018        2010s  \n",
       "586637  2019        2010s  \n",
       "586646  2019        2010s  \n",
       "586647  2020        2020s  \n",
       "\n",
       "[59998 rows x 23 columns]"
      ]
     },
     "execution_count": 14,
     "metadata": {},
     "output_type": "execute_result"
    }
   ],
   "source": [
    "## lets examine the dataset closely for duplicates\n",
    "## examine the dataset for tracks with same name and artists, we can see that the dataset has some duplicate rows\n",
    "## duplicates were not seen earlier because of a unique id column for each row\n",
    "duplicate_names_artist = df[df.duplicated(['name', 'artists'])] \n",
    "# there are songs with same name and artists\n",
    "duplicate_names_artist"
   ]
  },
  {
   "cell_type": "code",
   "execution_count": 15,
   "metadata": {},
   "outputs": [],
   "source": [
    "#We'll drop duplicates based on two columns and keeping the first element\n",
    "df.drop_duplicates(subset=['name', 'artists'], keep='first', inplace=True)"
   ]
  },
  {
   "cell_type": "code",
   "execution_count": 16,
   "metadata": {},
   "outputs": [],
   "source": [
    "df.to_csv('tracks_clean_kaggle.csv')"
   ]
  },
  {
   "cell_type": "markdown",
   "metadata": {},
   "source": [
    "# EDA"
   ]
  },
  {
   "cell_type": "code",
   "execution_count": 17,
   "metadata": {},
   "outputs": [
    {
     "data": {
      "text/html": [
       "<div>\n",
       "<style scoped>\n",
       "    .dataframe tbody tr th:only-of-type {\n",
       "        vertical-align: middle;\n",
       "    }\n",
       "\n",
       "    .dataframe tbody tr th {\n",
       "        vertical-align: top;\n",
       "    }\n",
       "\n",
       "    .dataframe thead th {\n",
       "        text-align: right;\n",
       "    }\n",
       "</style>\n",
       "<table border=\"1\" class=\"dataframe\">\n",
       "  <thead>\n",
       "    <tr style=\"text-align: right;\">\n",
       "      <th></th>\n",
       "      <th>popularity</th>\n",
       "      <th>explicit</th>\n",
       "      <th>danceability</th>\n",
       "      <th>energy</th>\n",
       "      <th>key</th>\n",
       "      <th>loudness</th>\n",
       "      <th>mode</th>\n",
       "      <th>speechiness</th>\n",
       "      <th>acousticness</th>\n",
       "      <th>instrumentalness</th>\n",
       "      <th>liveness</th>\n",
       "      <th>valence</th>\n",
       "      <th>tempo</th>\n",
       "      <th>time_signature</th>\n",
       "      <th>duration</th>\n",
       "      <th>artists_count</th>\n",
       "      <th>year</th>\n",
       "    </tr>\n",
       "  </thead>\n",
       "  <tbody>\n",
       "    <tr>\n",
       "      <th>popularity</th>\n",
       "      <td>1.000000</td>\n",
       "      <td>0.218072</td>\n",
       "      <td>0.188015</td>\n",
       "      <td>0.300279</td>\n",
       "      <td>0.016574</td>\n",
       "      <td>0.325545</td>\n",
       "      <td>-0.038195</td>\n",
       "      <td>-0.048010</td>\n",
       "      <td>-0.367835</td>\n",
       "      <td>-0.225770</td>\n",
       "      <td>-0.045251</td>\n",
       "      <td>0.001140</td>\n",
       "      <td>0.068951</td>\n",
       "      <td>0.085689</td>\n",
       "      <td>0.025617</td>\n",
       "      <td>-0.067011</td>\n",
       "      <td>0.597496</td>\n",
       "    </tr>\n",
       "    <tr>\n",
       "      <th>explicit</th>\n",
       "      <td>0.218072</td>\n",
       "      <td>1.000000</td>\n",
       "      <td>0.152588</td>\n",
       "      <td>0.124583</td>\n",
       "      <td>0.011638</td>\n",
       "      <td>0.136111</td>\n",
       "      <td>-0.051707</td>\n",
       "      <td>0.097406</td>\n",
       "      <td>-0.150452</td>\n",
       "      <td>-0.068409</td>\n",
       "      <td>-0.013802</td>\n",
       "      <td>-0.017498</td>\n",
       "      <td>0.006504</td>\n",
       "      <td>0.045275</td>\n",
       "      <td>-0.016813</td>\n",
       "      <td>0.057402</td>\n",
       "      <td>0.214077</td>\n",
       "    </tr>\n",
       "    <tr>\n",
       "      <th>danceability</th>\n",
       "      <td>0.188015</td>\n",
       "      <td>0.152588</td>\n",
       "      <td>1.000000</td>\n",
       "      <td>0.239546</td>\n",
       "      <td>0.018049</td>\n",
       "      <td>0.247517</td>\n",
       "      <td>-0.044366</td>\n",
       "      <td>0.204539</td>\n",
       "      <td>-0.240132</td>\n",
       "      <td>-0.225291</td>\n",
       "      <td>-0.102563</td>\n",
       "      <td>0.527969</td>\n",
       "      <td>-0.040825</td>\n",
       "      <td>0.143167</td>\n",
       "      <td>-0.120353</td>\n",
       "      <td>-0.075630</td>\n",
       "      <td>0.223482</td>\n",
       "    </tr>\n",
       "    <tr>\n",
       "      <th>energy</th>\n",
       "      <td>0.300279</td>\n",
       "      <td>0.124583</td>\n",
       "      <td>0.239546</td>\n",
       "      <td>1.000000</td>\n",
       "      <td>0.036860</td>\n",
       "      <td>0.764564</td>\n",
       "      <td>-0.065930</td>\n",
       "      <td>-0.058809</td>\n",
       "      <td>-0.711486</td>\n",
       "      <td>-0.190010</td>\n",
       "      <td>0.126162</td>\n",
       "      <td>0.374261</td>\n",
       "      <td>0.228422</td>\n",
       "      <td>0.187610</td>\n",
       "      <td>0.027024</td>\n",
       "      <td>-0.123999</td>\n",
       "      <td>0.453658</td>\n",
       "    </tr>\n",
       "    <tr>\n",
       "      <th>key</th>\n",
       "      <td>0.016574</td>\n",
       "      <td>0.011638</td>\n",
       "      <td>0.018049</td>\n",
       "      <td>0.036860</td>\n",
       "      <td>1.000000</td>\n",
       "      <td>0.026990</td>\n",
       "      <td>-0.131259</td>\n",
       "      <td>-0.002053</td>\n",
       "      <td>-0.028255</td>\n",
       "      <td>-0.007047</td>\n",
       "      <td>-0.007099</td>\n",
       "      <td>0.018544</td>\n",
       "      <td>0.005294</td>\n",
       "      <td>0.008997</td>\n",
       "      <td>0.005792</td>\n",
       "      <td>-0.006990</td>\n",
       "      <td>0.024193</td>\n",
       "    </tr>\n",
       "    <tr>\n",
       "      <th>loudness</th>\n",
       "      <td>0.325545</td>\n",
       "      <td>0.136111</td>\n",
       "      <td>0.247517</td>\n",
       "      <td>0.764564</td>\n",
       "      <td>0.026990</td>\n",
       "      <td>1.000000</td>\n",
       "      <td>-0.041621</td>\n",
       "      <td>-0.176345</td>\n",
       "      <td>-0.515712</td>\n",
       "      <td>-0.322586</td>\n",
       "      <td>0.028992</td>\n",
       "      <td>0.278138</td>\n",
       "      <td>0.189358</td>\n",
       "      <td>0.162997</td>\n",
       "      <td>0.002688</td>\n",
       "      <td>-0.141663</td>\n",
       "      <td>0.441203</td>\n",
       "    </tr>\n",
       "    <tr>\n",
       "      <th>mode</th>\n",
       "      <td>-0.038195</td>\n",
       "      <td>-0.051707</td>\n",
       "      <td>-0.044366</td>\n",
       "      <td>-0.065930</td>\n",
       "      <td>-0.131259</td>\n",
       "      <td>-0.041621</td>\n",
       "      <td>1.000000</td>\n",
       "      <td>-0.016855</td>\n",
       "      <td>0.059094</td>\n",
       "      <td>-0.010453</td>\n",
       "      <td>0.008361</td>\n",
       "      <td>0.011441</td>\n",
       "      <td>0.006785</td>\n",
       "      <td>-0.016461</td>\n",
       "      <td>-0.027581</td>\n",
       "      <td>0.000230</td>\n",
       "      <td>-0.083401</td>\n",
       "    </tr>\n",
       "    <tr>\n",
       "      <th>speechiness</th>\n",
       "      <td>-0.048010</td>\n",
       "      <td>0.097406</td>\n",
       "      <td>0.204539</td>\n",
       "      <td>-0.058809</td>\n",
       "      <td>-0.002053</td>\n",
       "      <td>-0.176345</td>\n",
       "      <td>-0.016855</td>\n",
       "      <td>1.000000</td>\n",
       "      <td>0.072514</td>\n",
       "      <td>-0.108308</td>\n",
       "      <td>0.214686</td>\n",
       "      <td>0.044785</td>\n",
       "      <td>-0.094675</td>\n",
       "      <td>-0.118813</td>\n",
       "      <td>-0.128515</td>\n",
       "      <td>0.039060</td>\n",
       "      <td>-0.086312</td>\n",
       "    </tr>\n",
       "    <tr>\n",
       "      <th>acousticness</th>\n",
       "      <td>-0.367835</td>\n",
       "      <td>-0.150452</td>\n",
       "      <td>-0.240132</td>\n",
       "      <td>-0.711486</td>\n",
       "      <td>-0.028255</td>\n",
       "      <td>-0.515712</td>\n",
       "      <td>0.059094</td>\n",
       "      <td>0.072514</td>\n",
       "      <td>1.000000</td>\n",
       "      <td>0.196621</td>\n",
       "      <td>-0.005281</td>\n",
       "      <td>-0.182170</td>\n",
       "      <td>-0.194486</td>\n",
       "      <td>-0.172061</td>\n",
       "      <td>-0.065743</td>\n",
       "      <td>0.135144</td>\n",
       "      <td>-0.520270</td>\n",
       "    </tr>\n",
       "    <tr>\n",
       "      <th>instrumentalness</th>\n",
       "      <td>-0.225770</td>\n",
       "      <td>-0.068409</td>\n",
       "      <td>-0.225291</td>\n",
       "      <td>-0.190010</td>\n",
       "      <td>-0.007047</td>\n",
       "      <td>-0.322586</td>\n",
       "      <td>-0.010453</td>\n",
       "      <td>-0.108308</td>\n",
       "      <td>0.196621</td>\n",
       "      <td>1.000000</td>\n",
       "      <td>-0.043857</td>\n",
       "      <td>-0.175088</td>\n",
       "      <td>-0.051939</td>\n",
       "      <td>-0.039653</td>\n",
       "      <td>0.070450</td>\n",
       "      <td>0.075550</td>\n",
       "      <td>-0.209556</td>\n",
       "    </tr>\n",
       "    <tr>\n",
       "      <th>liveness</th>\n",
       "      <td>-0.045251</td>\n",
       "      <td>-0.013802</td>\n",
       "      <td>-0.102563</td>\n",
       "      <td>0.126162</td>\n",
       "      <td>-0.007099</td>\n",
       "      <td>0.028992</td>\n",
       "      <td>0.008361</td>\n",
       "      <td>0.214686</td>\n",
       "      <td>-0.005281</td>\n",
       "      <td>-0.043857</td>\n",
       "      <td>1.000000</td>\n",
       "      <td>0.000687</td>\n",
       "      <td>-0.018477</td>\n",
       "      <td>-0.025967</td>\n",
       "      <td>-0.000695</td>\n",
       "      <td>0.016696</td>\n",
       "      <td>-0.021453</td>\n",
       "    </tr>\n",
       "    <tr>\n",
       "      <th>valence</th>\n",
       "      <td>0.001140</td>\n",
       "      <td>-0.017498</td>\n",
       "      <td>0.527969</td>\n",
       "      <td>0.374261</td>\n",
       "      <td>0.018544</td>\n",
       "      <td>0.278138</td>\n",
       "      <td>0.011441</td>\n",
       "      <td>0.044785</td>\n",
       "      <td>-0.182170</td>\n",
       "      <td>-0.175088</td>\n",
       "      <td>0.000687</td>\n",
       "      <td>1.000000</td>\n",
       "      <td>0.136283</td>\n",
       "      <td>0.105509</td>\n",
       "      <td>-0.160370</td>\n",
       "      <td>-0.111184</td>\n",
       "      <td>-0.026904</td>\n",
       "    </tr>\n",
       "    <tr>\n",
       "      <th>tempo</th>\n",
       "      <td>0.068951</td>\n",
       "      <td>0.006504</td>\n",
       "      <td>-0.040825</td>\n",
       "      <td>0.228422</td>\n",
       "      <td>0.005294</td>\n",
       "      <td>0.189358</td>\n",
       "      <td>0.006785</td>\n",
       "      <td>-0.094675</td>\n",
       "      <td>-0.194486</td>\n",
       "      <td>-0.051939</td>\n",
       "      <td>-0.018477</td>\n",
       "      <td>0.136283</td>\n",
       "      <td>1.000000</td>\n",
       "      <td>0.033018</td>\n",
       "      <td>0.000594</td>\n",
       "      <td>-0.059195</td>\n",
       "      <td>0.118211</td>\n",
       "    </tr>\n",
       "    <tr>\n",
       "      <th>time_signature</th>\n",
       "      <td>0.085689</td>\n",
       "      <td>0.045275</td>\n",
       "      <td>0.143167</td>\n",
       "      <td>0.187610</td>\n",
       "      <td>0.008997</td>\n",
       "      <td>0.162997</td>\n",
       "      <td>-0.016461</td>\n",
       "      <td>-0.118813</td>\n",
       "      <td>-0.172061</td>\n",
       "      <td>-0.039653</td>\n",
       "      <td>-0.025967</td>\n",
       "      <td>0.105509</td>\n",
       "      <td>0.033018</td>\n",
       "      <td>1.000000</td>\n",
       "      <td>0.037303</td>\n",
       "      <td>-0.034685</td>\n",
       "      <td>0.113706</td>\n",
       "    </tr>\n",
       "    <tr>\n",
       "      <th>duration</th>\n",
       "      <td>0.025617</td>\n",
       "      <td>-0.016813</td>\n",
       "      <td>-0.120353</td>\n",
       "      <td>0.027024</td>\n",
       "      <td>0.005792</td>\n",
       "      <td>0.002688</td>\n",
       "      <td>-0.027581</td>\n",
       "      <td>-0.128515</td>\n",
       "      <td>-0.065743</td>\n",
       "      <td>0.070450</td>\n",
       "      <td>-0.000695</td>\n",
       "      <td>-0.160370</td>\n",
       "      <td>0.000594</td>\n",
       "      <td>0.037303</td>\n",
       "      <td>1.000000</td>\n",
       "      <td>0.073914</td>\n",
       "      <td>0.056264</td>\n",
       "    </tr>\n",
       "    <tr>\n",
       "      <th>artists_count</th>\n",
       "      <td>-0.067011</td>\n",
       "      <td>0.057402</td>\n",
       "      <td>-0.075630</td>\n",
       "      <td>-0.123999</td>\n",
       "      <td>-0.006990</td>\n",
       "      <td>-0.141663</td>\n",
       "      <td>0.000230</td>\n",
       "      <td>0.039060</td>\n",
       "      <td>0.135144</td>\n",
       "      <td>0.075550</td>\n",
       "      <td>0.016696</td>\n",
       "      <td>-0.111184</td>\n",
       "      <td>-0.059195</td>\n",
       "      <td>-0.034685</td>\n",
       "      <td>0.073914</td>\n",
       "      <td>1.000000</td>\n",
       "      <td>-0.071673</td>\n",
       "    </tr>\n",
       "    <tr>\n",
       "      <th>year</th>\n",
       "      <td>0.597496</td>\n",
       "      <td>0.214077</td>\n",
       "      <td>0.223482</td>\n",
       "      <td>0.453658</td>\n",
       "      <td>0.024193</td>\n",
       "      <td>0.441203</td>\n",
       "      <td>-0.083401</td>\n",
       "      <td>-0.086312</td>\n",
       "      <td>-0.520270</td>\n",
       "      <td>-0.209556</td>\n",
       "      <td>-0.021453</td>\n",
       "      <td>-0.026904</td>\n",
       "      <td>0.118211</td>\n",
       "      <td>0.113706</td>\n",
       "      <td>0.056264</td>\n",
       "      <td>-0.071673</td>\n",
       "      <td>1.000000</td>\n",
       "    </tr>\n",
       "  </tbody>\n",
       "</table>\n",
       "</div>"
      ],
      "text/plain": [
       "                  popularity  explicit  danceability    energy       key  \\\n",
       "popularity          1.000000  0.218072      0.188015  0.300279  0.016574   \n",
       "explicit            0.218072  1.000000      0.152588  0.124583  0.011638   \n",
       "danceability        0.188015  0.152588      1.000000  0.239546  0.018049   \n",
       "energy              0.300279  0.124583      0.239546  1.000000  0.036860   \n",
       "key                 0.016574  0.011638      0.018049  0.036860  1.000000   \n",
       "loudness            0.325545  0.136111      0.247517  0.764564  0.026990   \n",
       "mode               -0.038195 -0.051707     -0.044366 -0.065930 -0.131259   \n",
       "speechiness        -0.048010  0.097406      0.204539 -0.058809 -0.002053   \n",
       "acousticness       -0.367835 -0.150452     -0.240132 -0.711486 -0.028255   \n",
       "instrumentalness   -0.225770 -0.068409     -0.225291 -0.190010 -0.007047   \n",
       "liveness           -0.045251 -0.013802     -0.102563  0.126162 -0.007099   \n",
       "valence             0.001140 -0.017498      0.527969  0.374261  0.018544   \n",
       "tempo               0.068951  0.006504     -0.040825  0.228422  0.005294   \n",
       "time_signature      0.085689  0.045275      0.143167  0.187610  0.008997   \n",
       "duration            0.025617 -0.016813     -0.120353  0.027024  0.005792   \n",
       "artists_count      -0.067011  0.057402     -0.075630 -0.123999 -0.006990   \n",
       "year                0.597496  0.214077      0.223482  0.453658  0.024193   \n",
       "\n",
       "                  loudness      mode  speechiness  acousticness  \\\n",
       "popularity        0.325545 -0.038195    -0.048010     -0.367835   \n",
       "explicit          0.136111 -0.051707     0.097406     -0.150452   \n",
       "danceability      0.247517 -0.044366     0.204539     -0.240132   \n",
       "energy            0.764564 -0.065930    -0.058809     -0.711486   \n",
       "key               0.026990 -0.131259    -0.002053     -0.028255   \n",
       "loudness          1.000000 -0.041621    -0.176345     -0.515712   \n",
       "mode             -0.041621  1.000000    -0.016855      0.059094   \n",
       "speechiness      -0.176345 -0.016855     1.000000      0.072514   \n",
       "acousticness     -0.515712  0.059094     0.072514      1.000000   \n",
       "instrumentalness -0.322586 -0.010453    -0.108308      0.196621   \n",
       "liveness          0.028992  0.008361     0.214686     -0.005281   \n",
       "valence           0.278138  0.011441     0.044785     -0.182170   \n",
       "tempo             0.189358  0.006785    -0.094675     -0.194486   \n",
       "time_signature    0.162997 -0.016461    -0.118813     -0.172061   \n",
       "duration          0.002688 -0.027581    -0.128515     -0.065743   \n",
       "artists_count    -0.141663  0.000230     0.039060      0.135144   \n",
       "year              0.441203 -0.083401    -0.086312     -0.520270   \n",
       "\n",
       "                  instrumentalness  liveness   valence     tempo  \\\n",
       "popularity               -0.225770 -0.045251  0.001140  0.068951   \n",
       "explicit                 -0.068409 -0.013802 -0.017498  0.006504   \n",
       "danceability             -0.225291 -0.102563  0.527969 -0.040825   \n",
       "energy                   -0.190010  0.126162  0.374261  0.228422   \n",
       "key                      -0.007047 -0.007099  0.018544  0.005294   \n",
       "loudness                 -0.322586  0.028992  0.278138  0.189358   \n",
       "mode                     -0.010453  0.008361  0.011441  0.006785   \n",
       "speechiness              -0.108308  0.214686  0.044785 -0.094675   \n",
       "acousticness              0.196621 -0.005281 -0.182170 -0.194486   \n",
       "instrumentalness          1.000000 -0.043857 -0.175088 -0.051939   \n",
       "liveness                 -0.043857  1.000000  0.000687 -0.018477   \n",
       "valence                  -0.175088  0.000687  1.000000  0.136283   \n",
       "tempo                    -0.051939 -0.018477  0.136283  1.000000   \n",
       "time_signature           -0.039653 -0.025967  0.105509  0.033018   \n",
       "duration                  0.070450 -0.000695 -0.160370  0.000594   \n",
       "artists_count             0.075550  0.016696 -0.111184 -0.059195   \n",
       "year                     -0.209556 -0.021453 -0.026904  0.118211   \n",
       "\n",
       "                  time_signature  duration  artists_count      year  \n",
       "popularity              0.085689  0.025617      -0.067011  0.597496  \n",
       "explicit                0.045275 -0.016813       0.057402  0.214077  \n",
       "danceability            0.143167 -0.120353      -0.075630  0.223482  \n",
       "energy                  0.187610  0.027024      -0.123999  0.453658  \n",
       "key                     0.008997  0.005792      -0.006990  0.024193  \n",
       "loudness                0.162997  0.002688      -0.141663  0.441203  \n",
       "mode                   -0.016461 -0.027581       0.000230 -0.083401  \n",
       "speechiness            -0.118813 -0.128515       0.039060 -0.086312  \n",
       "acousticness           -0.172061 -0.065743       0.135144 -0.520270  \n",
       "instrumentalness       -0.039653  0.070450       0.075550 -0.209556  \n",
       "liveness               -0.025967 -0.000695       0.016696 -0.021453  \n",
       "valence                 0.105509 -0.160370      -0.111184 -0.026904  \n",
       "tempo                   0.033018  0.000594      -0.059195  0.118211  \n",
       "time_signature          1.000000  0.037303      -0.034685  0.113706  \n",
       "duration                0.037303  1.000000       0.073914  0.056264  \n",
       "artists_count          -0.034685  0.073914       1.000000 -0.071673  \n",
       "year                    0.113706  0.056264      -0.071673  1.000000  "
      ]
     },
     "execution_count": 17,
     "metadata": {},
     "output_type": "execute_result"
    }
   ],
   "source": [
    "df.corr()"
   ]
  },
  {
   "cell_type": "code",
   "execution_count": 18,
   "metadata": {},
   "outputs": [
    {
     "data": {
      "image/png": "[encoded data removed]",
      "text/plain": [
       "<Figure size 640x480 with 2 Axes>"
      ]
     },
     "metadata": {},
     "output_type": "display_data"
    }
   ],
   "source": [
    "sns.heatmap(df.corr());"
   ]
  },
  {
   "cell_type": "code",
   "execution_count": 19,
   "metadata": {},
   "outputs": [],
   "source": [
    "# (alt.\n",
    "#   Chart(df).\n",
    "#   mark_line().\n",
    "#   encode(x='year', y='duration').\n",
    "#   properties(height=300, width=600))"
   ]
  },
  {
   "cell_type": "code",
   "execution_count": 20,
   "metadata": {},
   "outputs": [
    {
     "data": {
      "text/html": [
       "<div>\n",
       "<style scoped>\n",
       "    .dataframe tbody tr th:only-of-type {\n",
       "        vertical-align: middle;\n",
       "    }\n",
       "\n",
       "    .dataframe tbody tr th {\n",
       "        vertical-align: top;\n",
       "    }\n",
       "\n",
       "    .dataframe thead th {\n",
       "        text-align: right;\n",
       "    }\n",
       "</style>\n",
       "<table border=\"1\" class=\"dataframe\">\n",
       "  <thead>\n",
       "    <tr style=\"text-align: right;\">\n",
       "      <th></th>\n",
       "      <th>popularity</th>\n",
       "      <th>explicit</th>\n",
       "      <th>danceability</th>\n",
       "      <th>energy</th>\n",
       "      <th>key</th>\n",
       "      <th>loudness</th>\n",
       "      <th>mode</th>\n",
       "      <th>speechiness</th>\n",
       "      <th>acousticness</th>\n",
       "      <th>instrumentalness</th>\n",
       "      <th>liveness</th>\n",
       "      <th>valence</th>\n",
       "      <th>tempo</th>\n",
       "      <th>time_signature</th>\n",
       "      <th>duration</th>\n",
       "      <th>artists_count</th>\n",
       "    </tr>\n",
       "  </thead>\n",
       "  <tbody>\n",
       "    <tr>\n",
       "      <th>count</th>\n",
       "      <td>10.000000</td>\n",
       "      <td>10.000000</td>\n",
       "      <td>10.000000</td>\n",
       "      <td>10.000000</td>\n",
       "      <td>10.000000</td>\n",
       "      <td>10.000000</td>\n",
       "      <td>10.000000</td>\n",
       "      <td>10.000000</td>\n",
       "      <td>10.000000</td>\n",
       "      <td>10.000000</td>\n",
       "      <td>10.000000</td>\n",
       "      <td>10.000000</td>\n",
       "      <td>10.000000</td>\n",
       "      <td>10.000000</td>\n",
       "      <td>10.000000</td>\n",
       "      <td>10.000000</td>\n",
       "    </tr>\n",
       "    <tr>\n",
       "      <th>mean</th>\n",
       "      <td>0.471816</td>\n",
       "      <td>0.022367</td>\n",
       "      <td>0.897901</td>\n",
       "      <td>0.684965</td>\n",
       "      <td>5.170438</td>\n",
       "      <td>0.792116</td>\n",
       "      <td>0.682686</td>\n",
       "      <td>0.422311</td>\n",
       "      <td>0.667429</td>\n",
       "      <td>0.467375</td>\n",
       "      <td>0.942874</td>\n",
       "      <td>0.920926</td>\n",
       "      <td>0.948764</td>\n",
       "      <td>3.830910</td>\n",
       "      <td>0.912935</td>\n",
       "      <td>1.385277</td>\n",
       "    </tr>\n",
       "    <tr>\n",
       "      <th>std</th>\n",
       "      <td>0.369530</td>\n",
       "      <td>0.039253</td>\n",
       "      <td>0.082146</td>\n",
       "      <td>0.234615</td>\n",
       "      <td>0.111961</td>\n",
       "      <td>0.182099</td>\n",
       "      <td>0.041511</td>\n",
       "      <td>0.233625</td>\n",
       "      <td>0.280077</td>\n",
       "      <td>0.303768</td>\n",
       "      <td>0.031226</td>\n",
       "      <td>0.061941</td>\n",
       "      <td>0.039247</td>\n",
       "      <td>0.066217</td>\n",
       "      <td>0.078273</td>\n",
       "      <td>0.228799</td>\n",
       "    </tr>\n",
       "    <tr>\n",
       "      <th>min</th>\n",
       "      <td>0.024861</td>\n",
       "      <td>0.000789</td>\n",
       "      <td>0.779824</td>\n",
       "      <td>0.416601</td>\n",
       "      <td>5.005198</td>\n",
       "      <td>0.492514</td>\n",
       "      <td>0.599638</td>\n",
       "      <td>0.245655</td>\n",
       "      <td>0.320789</td>\n",
       "      <td>0.156536</td>\n",
       "      <td>0.896075</td>\n",
       "      <td>0.821159</td>\n",
       "      <td>0.881638</td>\n",
       "      <td>3.748476</td>\n",
       "      <td>0.741020</td>\n",
       "      <td>1.160573</td>\n",
       "    </tr>\n",
       "    <tr>\n",
       "      <th>25%</th>\n",
       "      <td>0.090826</td>\n",
       "      <td>0.001026</td>\n",
       "      <td>0.827174</td>\n",
       "      <td>0.458723</td>\n",
       "      <td>5.098541</td>\n",
       "      <td>0.713785</td>\n",
       "      <td>0.665257</td>\n",
       "      <td>0.297733</td>\n",
       "      <td>0.416915</td>\n",
       "      <td>0.218739</td>\n",
       "      <td>0.930222</td>\n",
       "      <td>0.875418</td>\n",
       "      <td>0.926671</td>\n",
       "      <td>3.775047</td>\n",
       "      <td>0.871901</td>\n",
       "      <td>1.203361</td>\n",
       "    </tr>\n",
       "    <tr>\n",
       "      <th>50%</th>\n",
       "      <td>0.533321</td>\n",
       "      <td>0.002629</td>\n",
       "      <td>0.914841</td>\n",
       "      <td>0.689309</td>\n",
       "      <td>5.156149</td>\n",
       "      <td>0.807217</td>\n",
       "      <td>0.698056</td>\n",
       "      <td>0.331439</td>\n",
       "      <td>0.650708</td>\n",
       "      <td>0.344790</td>\n",
       "      <td>0.937870</td>\n",
       "      <td>0.942361</td>\n",
       "      <td>0.948332</td>\n",
       "      <td>3.821216</td>\n",
       "      <td>0.924839</td>\n",
       "      <td>1.334890</td>\n",
       "    </tr>\n",
       "    <tr>\n",
       "      <th>75%</th>\n",
       "      <td>0.721444</td>\n",
       "      <td>0.026144</td>\n",
       "      <td>0.960122</td>\n",
       "      <td>0.864336</td>\n",
       "      <td>5.241749</td>\n",
       "      <td>0.945569</td>\n",
       "      <td>0.707936</td>\n",
       "      <td>0.430402</td>\n",
       "      <td>0.945444</td>\n",
       "      <td>0.702231</td>\n",
       "      <td>0.952096</td>\n",
       "      <td>0.961596</td>\n",
       "      <td>0.978735</td>\n",
       "      <td>3.878636</td>\n",
       "      <td>0.960405</td>\n",
       "      <td>1.481134</td>\n",
       "    </tr>\n",
       "    <tr>\n",
       "      <th>max</th>\n",
       "      <td>1.000000</td>\n",
       "      <td>0.123994</td>\n",
       "      <td>1.000000</td>\n",
       "      <td>1.000000</td>\n",
       "      <td>5.338898</td>\n",
       "      <td>1.000000</td>\n",
       "      <td>0.733888</td>\n",
       "      <td>1.000000</td>\n",
       "      <td>1.000000</td>\n",
       "      <td>1.000000</td>\n",
       "      <td>1.000000</td>\n",
       "      <td>1.000000</td>\n",
       "      <td>1.000000</td>\n",
       "      <td>3.929211</td>\n",
       "      <td>1.000000</td>\n",
       "      <td>1.828150</td>\n",
       "    </tr>\n",
       "  </tbody>\n",
       "</table>\n",
       "</div>"
      ],
      "text/plain": [
       "       popularity   explicit  danceability     energy        key   loudness  \\\n",
       "count   10.000000  10.000000     10.000000  10.000000  10.000000  10.000000   \n",
       "mean     0.471816   0.022367      0.897901   0.684965   5.170438   0.792116   \n",
       "std      0.369530   0.039253      0.082146   0.234615   0.111961   0.182099   \n",
       "min      0.024861   0.000789      0.779824   0.416601   5.005198   0.492514   \n",
       "25%      0.090826   0.001026      0.827174   0.458723   5.098541   0.713785   \n",
       "50%      0.533321   0.002629      0.914841   0.689309   5.156149   0.807217   \n",
       "75%      0.721444   0.026144      0.960122   0.864336   5.241749   0.945569   \n",
       "max      1.000000   0.123994      1.000000   1.000000   5.338898   1.000000   \n",
       "\n",
       "            mode  speechiness  acousticness  instrumentalness   liveness  \\\n",
       "count  10.000000    10.000000     10.000000         10.000000  10.000000   \n",
       "mean    0.682686     0.422311      0.667429          0.467375   0.942874   \n",
       "std     0.041511     0.233625      0.280077          0.303768   0.031226   \n",
       "min     0.599638     0.245655      0.320789          0.156536   0.896075   \n",
       "25%     0.665257     0.297733      0.416915          0.218739   0.930222   \n",
       "50%     0.698056     0.331439      0.650708          0.344790   0.937870   \n",
       "75%     0.707936     0.430402      0.945444          0.702231   0.952096   \n",
       "max     0.733888     1.000000      1.000000          1.000000   1.000000   \n",
       "\n",
       "         valence      tempo  time_signature   duration  artists_count  \n",
       "count  10.000000  10.000000       10.000000  10.000000      10.000000  \n",
       "mean    0.920926   0.948764        3.830910   0.912935       1.385277  \n",
       "std     0.061941   0.039247        0.066217   0.078273       0.228799  \n",
       "min     0.821159   0.881638        3.748476   0.741020       1.160573  \n",
       "25%     0.875418   0.926671        3.775047   0.871901       1.203361  \n",
       "50%     0.942361   0.948332        3.821216   0.924839       1.334890  \n",
       "75%     0.961596   0.978735        3.878636   0.960405       1.481134  \n",
       "max     1.000000   1.000000        3.929211   1.000000       1.828150  "
      ]
     },
     "execution_count": 20,
     "metadata": {},
     "output_type": "execute_result"
    }
   ],
   "source": [
    "df_year_control = df.copy()\n",
    "df_year_control = df_year_control[(df_year_control[\"year\"] >= 1920) & (df_year_control[\"year\"] < 2020)]\n",
    "df_year_control = df_year_control.groupby(\"Song_decade\").mean().reset_index()\n",
    "\n",
    "df_year_control['acousticness'] = df_year_control['acousticness'] / df_year_control['acousticness'].max()\n",
    "df_year_control['danceability'] = df_year_control['danceability'] / df_year_control['danceability'].max()\n",
    "df_year_control['duration'] = df_year_control['duration'] / df_year_control['duration'].max()\n",
    "df_year_control['energy'] = df_year_control['energy'] / df_year_control['energy'].max()\n",
    "df_year_control['instrumentalness'] = df_year_control['instrumentalness'] / df_year_control['instrumentalness'].max()\n",
    "df_year_control['liveness'] = df_year_control['liveness'] / df_year_control['liveness'].max()\n",
    "df_year_control['speechiness'] = df_year_control['speechiness'] / df_year_control['speechiness'].max()\n",
    "df_year_control['tempo'] = df_year_control['tempo'] / df_year_control['tempo'].max()\n",
    "df_year_control['valence'] = df_year_control['valence'] / df_year_control['valence'].max()\n",
    "df_year_control['popularity'] = df_year_control['popularity'] / df_year_control['popularity'].max()\n",
    "df_year_control['loudness'] = df_year_control['loudness'] / df_year_control['loudness'].min()   #min because it is a negative value\n",
    "df_year_control['year'] = df_year_control['year'].astype(str)\n",
    "df_year_control.describe()"
   ]
  },
  {
   "cell_type": "code",
   "execution_count": 21,
   "metadata": {},
   "outputs": [
    {
     "data": {
      "text/html": [
       "<div>\n",
       "<style scoped>\n",
       "    .dataframe tbody tr th:only-of-type {\n",
       "        vertical-align: middle;\n",
       "    }\n",
       "\n",
       "    .dataframe tbody tr th {\n",
       "        vertical-align: top;\n",
       "    }\n",
       "\n",
       "    .dataframe thead th {\n",
       "        text-align: right;\n",
       "    }\n",
       "</style>\n",
       "<table border=\"1\" class=\"dataframe\">\n",
       "  <thead>\n",
       "    <tr style=\"text-align: right;\">\n",
       "      <th></th>\n",
       "      <th>popularity</th>\n",
       "      <th>explicit</th>\n",
       "      <th>danceability</th>\n",
       "      <th>energy</th>\n",
       "      <th>key</th>\n",
       "      <th>loudness</th>\n",
       "      <th>mode</th>\n",
       "      <th>speechiness</th>\n",
       "      <th>acousticness</th>\n",
       "      <th>instrumentalness</th>\n",
       "      <th>liveness</th>\n",
       "      <th>valence</th>\n",
       "      <th>tempo</th>\n",
       "      <th>time_signature</th>\n",
       "      <th>duration</th>\n",
       "      <th>artists_count</th>\n",
       "    </tr>\n",
       "  </thead>\n",
       "  <tbody>\n",
       "    <tr>\n",
       "      <th>count</th>\n",
       "      <td>10.000000</td>\n",
       "      <td>10.000000</td>\n",
       "      <td>10.000000</td>\n",
       "      <td>10.000000</td>\n",
       "      <td>10.000000</td>\n",
       "      <td>10.000000</td>\n",
       "      <td>10.000000</td>\n",
       "      <td>10.000000</td>\n",
       "      <td>10.000000</td>\n",
       "      <td>10.000000</td>\n",
       "      <td>10.000000</td>\n",
       "      <td>10.000000</td>\n",
       "      <td>10.000000</td>\n",
       "      <td>10.000000</td>\n",
       "      <td>10.000000</td>\n",
       "      <td>10.000000</td>\n",
       "    </tr>\n",
       "    <tr>\n",
       "      <th>mean</th>\n",
       "      <td>0.471816</td>\n",
       "      <td>0.022367</td>\n",
       "      <td>0.897901</td>\n",
       "      <td>0.684965</td>\n",
       "      <td>5.170438</td>\n",
       "      <td>0.792116</td>\n",
       "      <td>0.682686</td>\n",
       "      <td>0.422311</td>\n",
       "      <td>0.667429</td>\n",
       "      <td>0.467375</td>\n",
       "      <td>0.942874</td>\n",
       "      <td>0.920926</td>\n",
       "      <td>0.948764</td>\n",
       "      <td>3.830910</td>\n",
       "      <td>0.912935</td>\n",
       "      <td>1.385277</td>\n",
       "    </tr>\n",
       "    <tr>\n",
       "      <th>std</th>\n",
       "      <td>0.369530</td>\n",
       "      <td>0.039253</td>\n",
       "      <td>0.082146</td>\n",
       "      <td>0.234615</td>\n",
       "      <td>0.111961</td>\n",
       "      <td>0.182099</td>\n",
       "      <td>0.041511</td>\n",
       "      <td>0.233625</td>\n",
       "      <td>0.280077</td>\n",
       "      <td>0.303768</td>\n",
       "      <td>0.031226</td>\n",
       "      <td>0.061941</td>\n",
       "      <td>0.039247</td>\n",
       "      <td>0.066217</td>\n",
       "      <td>0.078273</td>\n",
       "      <td>0.228799</td>\n",
       "    </tr>\n",
       "    <tr>\n",
       "      <th>min</th>\n",
       "      <td>0.024861</td>\n",
       "      <td>0.000789</td>\n",
       "      <td>0.779824</td>\n",
       "      <td>0.416601</td>\n",
       "      <td>5.005198</td>\n",
       "      <td>0.492514</td>\n",
       "      <td>0.599638</td>\n",
       "      <td>0.245655</td>\n",
       "      <td>0.320789</td>\n",
       "      <td>0.156536</td>\n",
       "      <td>0.896075</td>\n",
       "      <td>0.821159</td>\n",
       "      <td>0.881638</td>\n",
       "      <td>3.748476</td>\n",
       "      <td>0.741020</td>\n",
       "      <td>1.160573</td>\n",
       "    </tr>\n",
       "    <tr>\n",
       "      <th>25%</th>\n",
       "      <td>0.090826</td>\n",
       "      <td>0.001026</td>\n",
       "      <td>0.827174</td>\n",
       "      <td>0.458723</td>\n",
       "      <td>5.098541</td>\n",
       "      <td>0.713785</td>\n",
       "      <td>0.665257</td>\n",
       "      <td>0.297733</td>\n",
       "      <td>0.416915</td>\n",
       "      <td>0.218739</td>\n",
       "      <td>0.930222</td>\n",
       "      <td>0.875418</td>\n",
       "      <td>0.926671</td>\n",
       "      <td>3.775047</td>\n",
       "      <td>0.871901</td>\n",
       "      <td>1.203361</td>\n",
       "    </tr>\n",
       "    <tr>\n",
       "      <th>50%</th>\n",
       "      <td>0.533321</td>\n",
       "      <td>0.002629</td>\n",
       "      <td>0.914841</td>\n",
       "      <td>0.689309</td>\n",
       "      <td>5.156149</td>\n",
       "      <td>0.807217</td>\n",
       "      <td>0.698056</td>\n",
       "      <td>0.331439</td>\n",
       "      <td>0.650708</td>\n",
       "      <td>0.344790</td>\n",
       "      <td>0.937870</td>\n",
       "      <td>0.942361</td>\n",
       "      <td>0.948332</td>\n",
       "      <td>3.821216</td>\n",
       "      <td>0.924839</td>\n",
       "      <td>1.334890</td>\n",
       "    </tr>\n",
       "    <tr>\n",
       "      <th>75%</th>\n",
       "      <td>0.721444</td>\n",
       "      <td>0.026144</td>\n",
       "      <td>0.960122</td>\n",
       "      <td>0.864336</td>\n",
       "      <td>5.241749</td>\n",
       "      <td>0.945569</td>\n",
       "      <td>0.707936</td>\n",
       "      <td>0.430402</td>\n",
       "      <td>0.945444</td>\n",
       "      <td>0.702231</td>\n",
       "      <td>0.952096</td>\n",
       "      <td>0.961596</td>\n",
       "      <td>0.978735</td>\n",
       "      <td>3.878636</td>\n",
       "      <td>0.960405</td>\n",
       "      <td>1.481134</td>\n",
       "    </tr>\n",
       "    <tr>\n",
       "      <th>max</th>\n",
       "      <td>1.000000</td>\n",
       "      <td>0.123994</td>\n",
       "      <td>1.000000</td>\n",
       "      <td>1.000000</td>\n",
       "      <td>5.338898</td>\n",
       "      <td>1.000000</td>\n",
       "      <td>0.733888</td>\n",
       "      <td>1.000000</td>\n",
       "      <td>1.000000</td>\n",
       "      <td>1.000000</td>\n",
       "      <td>1.000000</td>\n",
       "      <td>1.000000</td>\n",
       "      <td>1.000000</td>\n",
       "      <td>3.929211</td>\n",
       "      <td>1.000000</td>\n",
       "      <td>1.828150</td>\n",
       "    </tr>\n",
       "  </tbody>\n",
       "</table>\n",
       "</div>"
      ],
      "text/plain": [
       "       popularity   explicit  danceability     energy        key   loudness  \\\n",
       "count   10.000000  10.000000     10.000000  10.000000  10.000000  10.000000   \n",
       "mean     0.471816   0.022367      0.897901   0.684965   5.170438   0.792116   \n",
       "std      0.369530   0.039253      0.082146   0.234615   0.111961   0.182099   \n",
       "min      0.024861   0.000789      0.779824   0.416601   5.005198   0.492514   \n",
       "25%      0.090826   0.001026      0.827174   0.458723   5.098541   0.713785   \n",
       "50%      0.533321   0.002629      0.914841   0.689309   5.156149   0.807217   \n",
       "75%      0.721444   0.026144      0.960122   0.864336   5.241749   0.945569   \n",
       "max      1.000000   0.123994      1.000000   1.000000   5.338898   1.000000   \n",
       "\n",
       "            mode  speechiness  acousticness  instrumentalness   liveness  \\\n",
       "count  10.000000    10.000000     10.000000         10.000000  10.000000   \n",
       "mean    0.682686     0.422311      0.667429          0.467375   0.942874   \n",
       "std     0.041511     0.233625      0.280077          0.303768   0.031226   \n",
       "min     0.599638     0.245655      0.320789          0.156536   0.896075   \n",
       "25%     0.665257     0.297733      0.416915          0.218739   0.930222   \n",
       "50%     0.698056     0.331439      0.650708          0.344790   0.937870   \n",
       "75%     0.707936     0.430402      0.945444          0.702231   0.952096   \n",
       "max     0.733888     1.000000      1.000000          1.000000   1.000000   \n",
       "\n",
       "         valence      tempo  time_signature   duration  artists_count  \n",
       "count  10.000000  10.000000       10.000000  10.000000      10.000000  \n",
       "mean    0.920926   0.948764        3.830910   0.912935       1.385277  \n",
       "std     0.061941   0.039247        0.066217   0.078273       0.228799  \n",
       "min     0.821159   0.881638        3.748476   0.741020       1.160573  \n",
       "25%     0.875418   0.926671        3.775047   0.871901       1.203361  \n",
       "50%     0.942361   0.948332        3.821216   0.924839       1.334890  \n",
       "75%     0.961596   0.978735        3.878636   0.960405       1.481134  \n",
       "max     1.000000   1.000000        3.929211   1.000000       1.828150  "
      ]
     },
     "execution_count": 21,
     "metadata": {},
     "output_type": "execute_result"
    }
   ],
   "source": [
    "df_year_control.describe()"
   ]
  },
  {
   "cell_type": "code",
   "execution_count": 22,
   "metadata": {},
   "outputs": [],
   "source": [
    "df_year_control.drop([\"key\",\"mode\",\"year\",\"artists_count\",\"time_signature\"],axis=1,inplace=True)\n",
    "df_year_control = df_year_control.melt(\"Song_decade\")"
   ]
  },
  {
   "cell_type": "code",
   "execution_count": 23,
   "metadata": {},
   "outputs": [
    {
     "data": {
      "text/html": [
       "\n",
       "<div id=\"altair-viz-847926f517ad4b2fb4d9b771ea115c49\"></div>\n",
       "<script type=\"text/javascript\">\n",
       "  var VEGA_DEBUG = (typeof VEGA_DEBUG == \"undefined\") ? {} : VEGA_DEBUG;\n",
       "  (function(spec, embedOpt){\n",
       "    let outputDiv = document.currentScript.previousElementSibling;\n",
       "    if (outputDiv.id !== \"altair-viz-847926f517ad4b2fb4d9b771ea115c49\") {\n",
       "      outputDiv = document.getElementById(\"altair-viz-847926f517ad4b2fb4d9b771ea115c49\");\n",
       "    }\n",
       "    const paths = {\n",
       "      \"vega\": \"https://cdn.jsdelivr.net/npm//vega@5?noext\",\n",
       "      \"vega-lib\": \"https://cdn.jsdelivr.net/npm//vega-lib?noext\",\n",
       "      \"vega-lite\": \"https://cdn.jsdelivr.net/npm//vega-lite@4.17.0?noext\",\n",
       "      \"vega-embed\": \"https://cdn.jsdelivr.net/npm//vega-embed@6?noext\",\n",
       "    };\n",
       "\n",
       "    function maybeLoadScript(lib, version) {\n",
       "      var key = `${lib.replace(\"-\", \"\")}_version`;\n",
       "      return (VEGA_DEBUG[key] == version) ?\n",
       "        Promise.resolve(paths[lib]) :\n",
       "        new Promise(function(resolve, reject) {\n",
       "          var s = document.createElement('script');\n",
       "          document.getElementsByTagName(\"head\")[0].appendChild(s);\n",
       "          s.async = true;\n",
       "          s.onload = () => {\n",
       "            VEGA_DEBUG[key] = version;\n",
       "            return resolve(paths[lib]);\n",
       "          };\n",
       "          s.onerror = () => reject(`Error loading script: ${paths[lib]}`);\n",
       "          s.src = paths[lib];\n",
       "        });\n",
       "    }\n",
       "\n",
       "    function showError(err) {\n",
       "      outputDiv.innerHTML = `<div class=\"error\" style=\"color:red;\">${err}</div>`;\n",
       "      throw err;\n",
       "    }\n",
       "\n",
       "    function displayChart(vegaEmbed) {\n",
       "      vegaEmbed(outputDiv, spec, embedOpt)\n",
       "        .catch(err => showError(`Javascript Error: ${err.message}<br>This usually means there's a typo in your chart specification. See the javascript console for the full traceback.`));\n",
       "    }\n",
       "\n",
       "    if(typeof define === \"function\" && define.amd) {\n",
       "      requirejs.config({paths});\n",
       "      require([\"vega-embed\"], displayChart, err => showError(`Error loading script: ${err.message}`));\n",
       "    } else {\n",
       "      maybeLoadScript(\"vega\", \"5\")\n",
       "        .then(() => maybeLoadScript(\"vega-lite\", \"4.17.0\"))\n",
       "        .then(() => maybeLoadScript(\"vega-embed\", \"6\"))\n",
       "        .catch(showError)\n",
       "        .then(() => displayChart(vegaEmbed));\n",
       "    }\n",
       "  })({\"config\": {\"view\": {\"continuousWidth\": 400, \"continuousHeight\": 300}}, \"data\": {\"name\": \"data-46c89dc32d7bfaf67fcdf8ab00333ae7\"}, \"mark\": \"line\", \"encoding\": {\"color\": {\"field\": \"variable\", \"type\": \"nominal\"}, \"strokeDash\": {\"field\": \"variable\", \"type\": \"nominal\"}, \"x\": {\"field\": \"year\", \"type\": \"quantitative\"}, \"y\": {\"field\": \"value\", \"type\": \"quantitative\"}}, \"width\": 600, \"$schema\": \"https://vega.github.io/schema/vega-lite/v4.17.0.json\", \"datasets\": {\"data-46c89dc32d7bfaf67fcdf8ab00333ae7\": [{\"year\": 1922, \"variable\": \"acousticness\", \"value\": 0.8875019157088123}, {\"year\": 1923, \"variable\": \"acousticness\", \"value\": 0.8593973996941895}, {\"year\": 1924, \"variable\": \"acousticness\", \"value\": 0.8636357532258064}, {\"year\": 1925, \"variable\": \"acousticness\", \"value\": 0.9207874074074074}, {\"year\": 1926, \"variable\": \"acousticness\", \"value\": 0.7483815152838428}, {\"year\": 1927, \"variable\": \"acousticness\", \"value\": 0.9042919835069445}, {\"year\": 1928, \"variable\": \"acousticness\", \"value\": 0.9316459745614035}, {\"year\": 1929, \"variable\": \"acousticness\", \"value\": 0.9564481132075472}, {\"year\": 1930, \"variable\": \"acousticness\", \"value\": 0.9277277983552632}, {\"year\": 1931, \"variable\": \"acousticness\", \"value\": 0.896774025974026}, {\"year\": 1932, \"variable\": \"acousticness\", \"value\": 0.8163130518234165}, {\"year\": 1933, \"variable\": \"acousticness\", \"value\": 0.907181004784689}, {\"year\": 1934, \"variable\": \"acousticness\", \"value\": 0.8996209419354838}, {\"year\": 1935, \"variable\": \"acousticness\", \"value\": 0.8826807692307692}, {\"year\": 1936, \"variable\": \"acousticness\", \"value\": 0.6354331767188564}, {\"year\": 1937, \"variable\": \"acousticness\", \"value\": 0.897907369825207}, {\"year\": 1938, \"variable\": \"acousticness\", \"value\": 0.931904187142857}, {\"year\": 1939, \"variable\": \"acousticness\", \"value\": 0.9173179722222222}, {\"year\": 1940, \"variable\": \"acousticness\", \"value\": 0.9192251990493167}, {\"year\": 1941, \"variable\": \"acousticness\", \"value\": 0.9098542402826855}, {\"year\": 1942, \"variable\": \"acousticness\", \"value\": 0.8764497643097643}, {\"year\": 1943, \"variable\": \"acousticness\", \"value\": 0.9112455372745492}, {\"year\": 1944, \"variable\": \"acousticness\", \"value\": 0.9194092932862191}, {\"year\": 1945, \"variable\": \"acousticness\", \"value\": 0.9010688617780661}, {\"year\": 1946, \"variable\": \"acousticness\", \"value\": 0.9204467169811321}, {\"year\": 1947, \"variable\": \"acousticness\", \"value\": 0.909421453567384}, {\"year\": 1948, \"variable\": \"acousticness\", \"value\": 0.9387356904231625}, {\"year\": 1949, \"variable\": \"acousticness\", \"value\": 0.886195172774869}, {\"year\": 1950, \"variable\": \"acousticness\", \"value\": 0.8331076047702561}, {\"year\": 1951, \"variable\": \"acousticness\", \"value\": 0.8611724046066928}, {\"year\": 1952, \"variable\": \"acousticness\", \"value\": 0.8861397372072853}, {\"year\": 1953, \"variable\": \"acousticness\", \"value\": 0.8803864740522634}, {\"year\": 1954, \"variable\": \"acousticness\", \"value\": 0.8682449371069183}, {\"year\": 1955, \"variable\": \"acousticness\", \"value\": 0.8635511806522925}, {\"year\": 1956, \"variable\": \"acousticness\", \"value\": 0.8259482048936171}, {\"year\": 1957, \"variable\": \"acousticness\", \"value\": 0.8110687333923827}, {\"year\": 1958, \"variable\": \"acousticness\", \"value\": 0.8007820741109176}, {\"year\": 1959, \"variable\": \"acousticness\", \"value\": 0.7985287683163512}, {\"year\": 1960, \"variable\": \"acousticness\", \"value\": 0.7502315779049296}, {\"year\": 1961, \"variable\": \"acousticness\", \"value\": 0.7784521036388761}, {\"year\": 1962, \"variable\": \"acousticness\", \"value\": 0.7510272094580844}, {\"year\": 1963, \"variable\": \"acousticness\", \"value\": 0.7500606994767007}, {\"year\": 1964, \"variable\": \"acousticness\", \"value\": 0.7294787149733364}, {\"year\": 1965, \"variable\": \"acousticness\", \"value\": 0.6761777263102725}, {\"year\": 1966, \"variable\": \"acousticness\", \"value\": 0.621328268747927}, {\"year\": 1967, \"variable\": \"acousticness\", \"value\": 0.6012976063588275}, {\"year\": 1968, \"variable\": \"acousticness\", \"value\": 0.5729721517064145}, {\"year\": 1969, \"variable\": \"acousticness\", \"value\": 0.5557493938116216}, {\"year\": 1970, \"variable\": \"acousticness\", \"value\": 0.5458030840261283}, {\"year\": 1971, \"variable\": \"acousticness\", \"value\": 0.5399136032536838}, {\"year\": 1972, \"variable\": \"acousticness\", \"value\": 0.5569075052664975}, {\"year\": 1973, \"variable\": \"acousticness\", \"value\": 0.5196788594277401}, {\"year\": 1974, \"variable\": \"acousticness\", \"value\": 0.526701525495896}, {\"year\": 1975, \"variable\": \"acousticness\", \"value\": 0.5084638050428618}, {\"year\": 1976, \"variable\": \"acousticness\", \"value\": 0.48829853589346767}, {\"year\": 1977, \"variable\": \"acousticness\", \"value\": 0.48927421711798513}, {\"year\": 1978, \"variable\": \"acousticness\", \"value\": 0.45854864280675356}, {\"year\": 1979, \"variable\": \"acousticness\", \"value\": 0.4361231169234419}, {\"year\": 1980, \"variable\": \"acousticness\", \"value\": 0.4291091469675618}, {\"year\": 1981, \"variable\": \"acousticness\", \"value\": 0.41510339541631264}, {\"year\": 1982, \"variable\": \"acousticness\", \"value\": 0.42559679199079403}, {\"year\": 1983, \"variable\": \"acousticness\", \"value\": 0.42783724006301876}, {\"year\": 1984, \"variable\": \"acousticness\", \"value\": 0.41620734532799336}, {\"year\": 1985, \"variable\": \"acousticness\", \"value\": 0.40158090496182147}, {\"year\": 1986, \"variable\": \"acousticness\", \"value\": 0.4194327011999031}, {\"year\": 1987, \"variable\": \"acousticness\", \"value\": 0.3819067075341207}, {\"year\": 1988, \"variable\": \"acousticness\", \"value\": 0.40341027860815276}, {\"year\": 1989, \"variable\": \"acousticness\", \"value\": 0.3970633646071753}, {\"year\": 1990, \"variable\": \"acousticness\", \"value\": 0.3944409042554578}, {\"year\": 1991, \"variable\": \"acousticness\", \"value\": 0.4020495326714478}, {\"year\": 1992, \"variable\": \"acousticness\", \"value\": 0.38450435257859567}, {\"year\": 1993, \"variable\": \"acousticness\", \"value\": 0.3795756965012524}, {\"year\": 1994, \"variable\": \"acousticness\", \"value\": 0.37463398981493035}, {\"year\": 1995, \"variable\": \"acousticness\", \"value\": 0.3689411957615451}, {\"year\": 1996, \"variable\": \"acousticness\", \"value\": 0.3625373210368875}, {\"year\": 1997, \"variable\": \"acousticness\", \"value\": 0.3581658971900227}, {\"year\": 1998, \"variable\": \"acousticness\", \"value\": 0.34555163528797694}, {\"year\": 1999, \"variable\": \"acousticness\", \"value\": 0.33322735285956456}, {\"year\": 2000, \"variable\": \"acousticness\", \"value\": 0.3205026001088091}, {\"year\": 2001, \"variable\": \"acousticness\", \"value\": 0.31798186763269803}, {\"year\": 2002, \"variable\": \"acousticness\", \"value\": 0.3323331709628874}, {\"year\": 2003, \"variable\": \"acousticness\", \"value\": 0.3185397308496552}, {\"year\": 2004, \"variable\": \"acousticness\", \"value\": 0.30773165246899803}, {\"year\": 2005, \"variable\": \"acousticness\", \"value\": 0.3076326717508505}, {\"year\": 2006, \"variable\": \"acousticness\", \"value\": 0.3085733230837122}, {\"year\": 2007, \"variable\": \"acousticness\", \"value\": 0.31630386625283674}, {\"year\": 2008, \"variable\": \"acousticness\", \"value\": 0.3178990064520727}, {\"year\": 2009, \"variable\": \"acousticness\", \"value\": 0.3151019076536515}, {\"year\": 2010, \"variable\": \"acousticness\", \"value\": 0.31197097040389293}, {\"year\": 2011, \"variable\": \"acousticness\", \"value\": 0.3035243118490566}, {\"year\": 2012, \"variable\": \"acousticness\", \"value\": 0.28296731134104186}, {\"year\": 2013, \"variable\": \"acousticness\", \"value\": 0.2772455173652953}, {\"year\": 2014, \"variable\": \"acousticness\", \"value\": 0.2905962587276022}, {\"year\": 2015, \"variable\": \"acousticness\", \"value\": 0.3061263066995902}, {\"year\": 2016, \"variable\": \"acousticness\", \"value\": 0.2885455582949583}, {\"year\": 2017, \"variable\": \"acousticness\", \"value\": 0.28036488406845333}, {\"year\": 2018, \"variable\": \"acousticness\", \"value\": 0.2803664175815534}, {\"year\": 2019, \"variable\": \"acousticness\", \"value\": 0.29757419104599875}, {\"year\": 2020, \"variable\": \"acousticness\", \"value\": 0.27450735786881436}, {\"year\": 1922, \"variable\": \"danceability\", \"value\": 0.5462950191570881}, {\"year\": 1923, \"variable\": \"danceability\", \"value\": 0.6376253822629969}, {\"year\": 1924, \"variable\": \"danceability\", \"value\": 0.5954112903225806}, {\"year\": 1925, \"variable\": \"danceability\", \"value\": 0.6145128205128205}, {\"year\": 1926, \"variable\": \"danceability\", \"value\": 0.612143231441048}, {\"year\": 1927, \"variable\": \"danceability\", \"value\": 0.6523300347222222}, {\"year\": 1928, \"variable\": \"danceability\", \"value\": 0.5641622807017543}, {\"year\": 1929, \"variable\": \"danceability\", \"value\": 0.6050553773584906}, {\"year\": 1930, \"variable\": \"danceability\", \"value\": 0.5309397368421053}, {\"year\": 1931, \"variable\": \"danceability\", \"value\": 0.5549504329004329}, {\"year\": 1932, \"variable\": \"danceability\", \"value\": 0.5902657389635317}, {\"year\": 1933, \"variable\": \"danceability\", \"value\": 0.5691102392344497}, {\"year\": 1934, \"variable\": \"danceability\", \"value\": 0.5463018433179724}, {\"year\": 1935, \"variable\": \"danceability\", \"value\": 0.5249889792899408}, {\"year\": 1936, \"variable\": \"danceability\", \"value\": 0.6211156569094622}, {\"year\": 1937, \"variable\": \"danceability\", \"value\": 0.5436571297148114}, {\"year\": 1938, \"variable\": \"danceability\", \"value\": 0.5052452678571429}, {\"year\": 1939, \"variable\": \"danceability\", \"value\": 0.5331533333333334}, {\"year\": 1940, \"variable\": \"danceability\", \"value\": 0.5064500297088532}, {\"year\": 1941, \"variable\": \"danceability\", \"value\": 0.49478734982332157}, {\"year\": 1942, \"variable\": \"danceability\", \"value\": 0.4685960942760942}, {\"year\": 1943, \"variable\": \"danceability\", \"value\": 0.48137314629258515}, {\"year\": 1944, \"variable\": \"danceability\", \"value\": 0.5176827738515901}, {\"year\": 1945, \"variable\": \"danceability\", \"value\": 0.48181914341336796}, {\"year\": 1946, \"variable\": \"danceability\", \"value\": 0.44077622641509434}, {\"year\": 1947, \"variable\": \"danceability\", \"value\": 0.4861893544733862}, {\"year\": 1948, \"variable\": \"danceability\", \"value\": 0.4473966035634744}, {\"year\": 1949, \"variable\": \"danceability\", \"value\": 0.46106900523560207}, {\"year\": 1950, \"variable\": \"danceability\", \"value\": 0.5130567520168362}, {\"year\": 1951, \"variable\": \"danceability\", \"value\": 0.4830091699261191}, {\"year\": 1952, \"variable\": \"danceability\", \"value\": 0.4553813529921943}, {\"year\": 1953, \"variable\": \"danceability\", \"value\": 0.4526565697460434}, {\"year\": 1954, \"variable\": \"danceability\", \"value\": 0.4633924213836478}, {\"year\": 1955, \"variable\": \"danceability\", \"value\": 0.48567606441048033}, {\"year\": 1956, \"variable\": \"danceability\", \"value\": 0.49853437849944005}, {\"year\": 1957, \"variable\": \"danceability\", \"value\": 0.4996432240921169}, {\"year\": 1958, \"variable\": \"danceability\", \"value\": 0.48778883362347675}, {\"year\": 1959, \"variable\": \"danceability\", \"value\": 0.4813947113051916}, {\"year\": 1960, \"variable\": \"danceability\", \"value\": 0.4985543794014084}, {\"year\": 1961, \"variable\": \"danceability\", \"value\": 0.49545290188853064}, {\"year\": 1962, \"variable\": \"danceability\", \"value\": 0.4931737668657377}, {\"year\": 1963, \"variable\": \"danceability\", \"value\": 0.49231779217542987}, {\"year\": 1964, \"variable\": \"danceability\", \"value\": 0.5006158358451195}, {\"year\": 1965, \"variable\": \"danceability\", \"value\": 0.5005607337526206}, {\"year\": 1966, \"variable\": \"danceability\", \"value\": 0.5052556384742952}, {\"year\": 1967, \"variable\": \"danceability\", \"value\": 0.5069461318051576}, {\"year\": 1968, \"variable\": \"danceability\", \"value\": 0.5042841899671052}, {\"year\": 1969, \"variable\": \"danceability\", \"value\": 0.48930956576463186}, {\"year\": 1970, \"variable\": \"danceability\", \"value\": 0.5003876880443389}, {\"year\": 1971, \"variable\": \"danceability\", \"value\": 0.5024914376742334}, {\"year\": 1972, \"variable\": \"danceability\", \"value\": 0.5127877810007252}, {\"year\": 1973, \"variable\": \"danceability\", \"value\": 0.517470009699321}, {\"year\": 1974, \"variable\": \"danceability\", \"value\": 0.51725042749658}, {\"year\": 1975, \"variable\": \"danceability\", \"value\": 0.5221064787339268}, {\"year\": 1976, \"variable\": \"danceability\", \"value\": 0.5228684901925499}, {\"year\": 1977, \"variable\": \"danceability\", \"value\": 0.5390933400946585}, {\"year\": 1978, \"variable\": \"danceability\", \"value\": 0.5375293714476763}, {\"year\": 1979, \"variable\": \"danceability\", \"value\": 0.56334922492882}, {\"year\": 1980, \"variable\": \"danceability\", \"value\": 0.5653235575644775}, {\"year\": 1981, \"variable\": \"danceability\", \"value\": 0.5607104644576607}, {\"year\": 1982, \"variable\": \"danceability\", \"value\": 0.5743552359033371}, {\"year\": 1983, \"variable\": \"danceability\", \"value\": 0.5706091300338149}, {\"year\": 1984, \"variable\": \"danceability\", \"value\": 0.5760683469134098}, {\"year\": 1985, \"variable\": \"danceability\", \"value\": 0.5645150492850202}, {\"year\": 1986, \"variable\": \"danceability\", \"value\": 0.5673895507930743}, {\"year\": 1987, \"variable\": \"danceability\", \"value\": 0.5606522703412073}, {\"year\": 1988, \"variable\": \"danceability\", \"value\": 0.5503753703023626}, {\"year\": 1989, \"variable\": \"danceability\", \"value\": 0.5630058015440509}, {\"year\": 1990, \"variable\": \"danceability\", \"value\": 0.5571083088954056}, {\"year\": 1991, \"variable\": \"danceability\", \"value\": 0.5629612953832362}, {\"year\": 1992, \"variable\": \"danceability\", \"value\": 0.5644708511337496}, {\"year\": 1993, \"variable\": \"danceability\", \"value\": 0.5753912179085786}, {\"year\": 1994, \"variable\": \"danceability\", \"value\": 0.5676403202328966}, {\"year\": 1995, \"variable\": \"danceability\", \"value\": 0.5685834496605794}, {\"year\": 1996, \"variable\": \"danceability\", \"value\": 0.5758557808772252}, {\"year\": 1997, \"variable\": \"danceability\", \"value\": 0.5793022222222222}, {\"year\": 1998, \"variable\": \"danceability\", \"value\": 0.5840419186465083}, {\"year\": 1999, \"variable\": \"danceability\", \"value\": 0.583456227694504}, {\"year\": 2000, \"variable\": \"danceability\", \"value\": 0.5911850201222238}, {\"year\": 2001, \"variable\": \"danceability\", \"value\": 0.5892664829106946}, {\"year\": 2002, \"variable\": \"danceability\", \"value\": 0.5899166305318199}, {\"year\": 2003, \"variable\": \"danceability\", \"value\": 0.5922694206896552}, {\"year\": 2004, \"variable\": \"danceability\", \"value\": 0.5883208085317461}, {\"year\": 2005, \"variable\": \"danceability\", \"value\": 0.5902321120125621}, {\"year\": 2006, \"variable\": \"danceability\", \"value\": 0.5924322679860925}, {\"year\": 2007, \"variable\": \"danceability\", \"value\": 0.591763676411694}, {\"year\": 2008, \"variable\": \"danceability\", \"value\": 0.58927493764105}, {\"year\": 2009, \"variable\": \"danceability\", \"value\": 0.5925438659918053}, {\"year\": 2010, \"variable\": \"danceability\", \"value\": 0.5985094160583941}, {\"year\": 2011, \"variable\": \"danceability\", \"value\": 0.5898354363207547}, {\"year\": 2012, \"variable\": \"danceability\", \"value\": 0.594218238169031}, {\"year\": 2013, \"variable\": \"danceability\", \"value\": 0.5922260123096857}, {\"year\": 2014, \"variable\": \"danceability\", \"value\": 0.6001304107106905}, {\"year\": 2015, \"variable\": \"danceability\", \"value\": 0.5967624251339708}, {\"year\": 2016, \"variable\": \"danceability\", \"value\": 0.6077693231441048}, {\"year\": 2017, \"variable\": \"danceability\", \"value\": 0.6260264664729308}, {\"year\": 2018, \"variable\": \"danceability\", \"value\": 0.6347345242718446}, {\"year\": 2019, \"variable\": \"danceability\", \"value\": 0.650621469079125}, {\"year\": 2020, \"variable\": \"danceability\", \"value\": 0.6563139859056765}, {\"year\": 1922, \"variable\": \"energy\", \"value\": 0.33315704980842914}, {\"year\": 1923, \"variable\": \"energy\", \"value\": 0.26686345565749237}, {\"year\": 1924, \"variable\": \"energy\", \"value\": 0.35941870967741935}, {\"year\": 1925, \"variable\": \"energy\", \"value\": 0.26254017094017096}, {\"year\": 1926, \"variable\": \"energy\", \"value\": 0.24824013100436684}, {\"year\": 1927, \"variable\": \"energy\", \"value\": 0.27582921875}, {\"year\": 1928, \"variable\": \"energy\", \"value\": 0.25594216666666664}, {\"year\": 1929, \"variable\": \"energy\", \"value\": 0.3228791509433962}, {\"year\": 1930, \"variable\": \"energy\", \"value\": 0.3325508289473684}, {\"year\": 1931, \"variable\": \"energy\", \"value\": 0.28121384523809523}, {\"year\": 1932, \"variable\": \"energy\", \"value\": 0.2999651631477927}, {\"year\": 1933, \"variable\": \"energy\", \"value\": 0.32064759808612436}, {\"year\": 1934, \"variable\": \"energy\", \"value\": 0.32259781105990787}, {\"year\": 1935, \"variable\": \"energy\", \"value\": 0.275650125739645}, {\"year\": 1936, \"variable\": \"energy\", \"value\": 0.28995714091218516}, {\"year\": 1937, \"variable\": \"energy\", \"value\": 0.34630195952161913}, {\"year\": 1938, \"variable\": \"energy\", \"value\": 0.30325975892857143}, {\"year\": 1939, \"variable\": \"energy\", \"value\": 0.31781472222222223}, {\"year\": 1940, \"variable\": \"energy\", \"value\": 0.3439295900178253}, {\"year\": 1941, \"variable\": \"energy\", \"value\": 0.27807540636042405}, {\"year\": 1942, \"variable\": \"energy\", \"value\": 0.2587104579124579}, {\"year\": 1943, \"variable\": \"energy\", \"value\": 0.2819905110220441}, {\"year\": 1944, \"variable\": \"energy\", \"value\": 0.2657164567137809}, {\"year\": 1945, \"variable\": \"energy\", \"value\": 0.26491225243348476}, {\"year\": 1946, \"variable\": \"energy\", \"value\": 0.2462082371967655}, {\"year\": 1947, \"variable\": \"energy\", \"value\": 0.27618637599094}, {\"year\": 1948, \"variable\": \"energy\", \"value\": 0.2521565222717149}, {\"year\": 1949, \"variable\": \"energy\", \"value\": 0.26950140837696335}, {\"year\": 1950, \"variable\": \"energy\", \"value\": 0.2996593791652052}, {\"year\": 1951, \"variable\": \"energy\", \"value\": 0.2916847848761408}, {\"year\": 1952, \"variable\": \"energy\", \"value\": 0.26818151777970517}, {\"year\": 1953, \"variable\": \"energy\", \"value\": 0.2682688774383511}, {\"year\": 1954, \"variable\": \"energy\", \"value\": 0.26466155974842764}, {\"year\": 1955, \"variable\": \"energy\", \"value\": 0.28799776746724887}, {\"year\": 1956, \"variable\": \"energy\", \"value\": 0.31659753359462484}, {\"year\": 1957, \"variable\": \"energy\", \"value\": 0.3090243755535872}, {\"year\": 1958, \"variable\": \"energy\", \"value\": 0.3121320293459338}, {\"year\": 1959, \"variable\": \"energy\", \"value\": 0.3350940659873848}, {\"year\": 1960, \"variable\": \"energy\", \"value\": 0.3465830875880282}, {\"year\": 1961, \"variable\": \"energy\", \"value\": 0.3477821206817135}, {\"year\": 1962, \"variable\": \"energy\", \"value\": 0.3689424574209246}, {\"year\": 1963, \"variable\": \"energy\", \"value\": 0.3733083428856217}, {\"year\": 1964, \"variable\": \"energy\", \"value\": 0.39327881520983077}, {\"year\": 1965, \"variable\": \"energy\", \"value\": 0.433154349475891}, {\"year\": 1966, \"variable\": \"energy\", \"value\": 0.436346604477612}, {\"year\": 1967, \"variable\": \"energy\", \"value\": 0.4387417346264051}, {\"year\": 1968, \"variable\": \"energy\", \"value\": 0.4548783326480263}, {\"year\": 1969, \"variable\": \"energy\", \"value\": 0.45549672120830714}, {\"year\": 1970, \"variable\": \"energy\", \"value\": 0.46765667260490895}, {\"year\": 1971, \"variable\": \"energy\", \"value\": 0.47563010752688173}, {\"year\": 1972, \"variable\": \"energy\", \"value\": 0.47381363125453224}, {\"year\": 1973, \"variable\": \"energy\", \"value\": 0.5016975518913677}, {\"year\": 1974, \"variable\": \"energy\", \"value\": 0.4908095263337893}, {\"year\": 1975, \"variable\": \"energy\", \"value\": 0.4924170161556215}, {\"year\": 1976, \"variable\": \"energy\", \"value\": 0.5104241839121828}, {\"year\": 1977, \"variable\": \"energy\", \"value\": 0.5030544435429344}, {\"year\": 1978, \"variable\": \"energy\", \"value\": 0.5265572383818121}, {\"year\": 1979, \"variable\": \"energy\", \"value\": 0.5431155330591585}, {\"year\": 1980, \"variable\": \"energy\", \"value\": 0.5354646822653549}, {\"year\": 1981, \"variable\": \"energy\", \"value\": 0.5451430734919286}, {\"year\": 1982, \"variable\": \"energy\", \"value\": 0.5403125658803222}, {\"year\": 1983, \"variable\": \"energy\", \"value\": 0.5238740946818322}, {\"year\": 1984, \"variable\": \"energy\", \"value\": 0.5518087101229112}, {\"year\": 1985, \"variable\": \"energy\", \"value\": 0.5581433858114674}, {\"year\": 1986, \"variable\": \"energy\", \"value\": 0.5509931904588933}, {\"year\": 1987, \"variable\": \"energy\", \"value\": 0.5642163792650918}, {\"year\": 1988, \"variable\": \"energy\", \"value\": 0.5538740996449995}, {\"year\": 1989, \"variable\": \"energy\", \"value\": 0.5586843823796548}, {\"year\": 1990, \"variable\": \"energy\", \"value\": 0.5533403334419463}, {\"year\": 1991, \"variable\": \"energy\", \"value\": 0.5374219206633797}, {\"year\": 1992, \"variable\": \"energy\", \"value\": 0.5514557235184577}, {\"year\": 1993, \"variable\": \"energy\", \"value\": 0.5511988760175328}, {\"year\": 1994, \"variable\": \"energy\", \"value\": 0.5527412705656062}, {\"year\": 1995, \"variable\": \"energy\", \"value\": 0.5639857328903337}, {\"year\": 1996, \"variable\": \"energy\", \"value\": 0.5719701697559185}, {\"year\": 1997, \"variable\": \"energy\", \"value\": 0.593813188861678}, {\"year\": 1998, \"variable\": \"energy\", \"value\": 0.6071707023938084}, {\"year\": 1999, \"variable\": \"energy\", \"value\": 0.6216822440221271}, {\"year\": 2000, \"variable\": \"energy\", \"value\": 0.6327336020718438}, {\"year\": 2001, \"variable\": \"energy\", \"value\": 0.6421285809261301}, {\"year\": 2002, \"variable\": \"energy\", \"value\": 0.6307663946690473}, {\"year\": 2003, \"variable\": \"energy\", \"value\": 0.6401670359034484}, {\"year\": 2004, \"variable\": \"energy\", \"value\": 0.6509679229042659}, {\"year\": 2005, \"variable\": \"energy\", \"value\": 0.65104879638838}, {\"year\": 2006, \"variable\": \"energy\", \"value\": 0.6561768587857716}, {\"year\": 2007, \"variable\": \"energy\", \"value\": 0.6556002102523028}, {\"year\": 2008, \"variable\": \"energy\", \"value\": 0.6566375369283762}, {\"year\": 2009, \"variable\": \"energy\", \"value\": 0.6603369104121475}, {\"year\": 2010, \"variable\": \"energy\", \"value\": 0.6491024799026764}, {\"year\": 2011, \"variable\": \"energy\", \"value\": 0.6594430438679245}, {\"year\": 2012, \"variable\": \"energy\", \"value\": 0.6747233806055549}, {\"year\": 2013, \"variable\": \"energy\", \"value\": 0.6753287397689234}, {\"year\": 2014, \"variable\": \"energy\", \"value\": 0.6677621332293134}, {\"year\": 2015, \"variable\": \"energy\", \"value\": 0.642086275559525}, {\"year\": 2016, \"variable\": \"energy\", \"value\": 0.6543811026697103}, {\"year\": 2017, \"variable\": \"energy\", \"value\": 0.6585734700893338}, {\"year\": 2018, \"variable\": \"energy\", \"value\": 0.6508668991359223}, {\"year\": 2019, \"variable\": \"energy\", \"value\": 0.6348657943559276}, {\"year\": 2020, \"variable\": \"energy\", \"value\": 0.6377691937272516}, {\"year\": 1922, \"variable\": \"valence\", \"value\": 0.5762371647509579}, {\"year\": 1923, \"variable\": \"valence\", \"value\": 0.6721805810397554}, {\"year\": 1924, \"variable\": \"valence\", \"value\": 0.5536646774193549}, {\"year\": 1925, \"variable\": \"valence\", \"value\": 0.6199717948717949}, {\"year\": 1926, \"variable\": \"valence\", \"value\": 0.49697066375545856}, {\"year\": 1927, \"variable\": \"valence\", \"value\": 0.6817155381944445}, {\"year\": 1928, \"variable\": \"valence\", \"value\": 0.5595686842105264}, {\"year\": 1929, \"variable\": \"valence\", \"value\": 0.6514983018867925}, {\"year\": 1930, \"variable\": \"valence\", \"value\": 0.6004003289473685}, {\"year\": 1931, \"variable\": \"valence\", \"value\": 0.57556829004329}, {\"year\": 1932, \"variable\": \"valence\", \"value\": 0.5864640115163148}, {\"year\": 1933, \"variable\": \"valence\", \"value\": 0.588317894736842}, {\"year\": 1934, \"variable\": \"valence\", \"value\": 0.5684274193548386}, {\"year\": 1935, \"variable\": \"valence\", \"value\": 0.5108653106508876}, {\"year\": 1936, \"variable\": \"valence\", \"value\": 0.5742952348536419}, {\"year\": 1937, \"variable\": \"valence\", \"value\": 0.5961289788408464}, {\"year\": 1938, \"variable\": \"valence\", \"value\": 0.5397990892857143}, {\"year\": 1939, \"variable\": \"valence\", \"value\": 0.5883706944444445}, {\"year\": 1940, \"variable\": \"valence\", \"value\": 0.6009639572192513}, {\"year\": 1941, \"variable\": \"valence\", \"value\": 0.5004520141342756}, {\"year\": 1942, \"variable\": \"valence\", \"value\": 0.47431670033670037}, {\"year\": 1943, \"variable\": \"valence\", \"value\": 0.5328786573146292}, {\"year\": 1944, \"variable\": \"valence\", \"value\": 0.5554556537102473}, {\"year\": 1945, \"variable\": \"valence\", \"value\": 0.5023990914990266}, {\"year\": 1946, \"variable\": \"valence\", \"value\": 0.44291035040431265}, {\"year\": 1947, \"variable\": \"valence\", \"value\": 0.5170518686296716}, {\"year\": 1948, \"variable\": \"valence\", \"value\": 0.451188140311804}, {\"year\": 1949, \"variable\": \"valence\", \"value\": 0.463963664921466}, {\"year\": 1950, \"variable\": \"valence\", \"value\": 0.5401152928796913}, {\"year\": 1951, \"variable\": \"valence\", \"value\": 0.4844447196870926}, {\"year\": 1952, \"variable\": \"valence\", \"value\": 0.4533456479184736}, {\"year\": 1953, \"variable\": \"valence\", \"value\": 0.4337051895472948}, {\"year\": 1954, \"variable\": \"valence\", \"value\": 0.44205657232704404}, {\"year\": 1955, \"variable\": \"valence\", \"value\": 0.47525646834061136}, {\"year\": 1956, \"variable\": \"valence\", \"value\": 0.5301793673012318}, {\"year\": 1957, \"variable\": \"valence\", \"value\": 0.5297309123117803}, {\"year\": 1958, \"variable\": \"valence\", \"value\": 0.5132891817955733}, {\"year\": 1959, \"variable\": \"valence\", \"value\": 0.507378723920427}, {\"year\": 1960, \"variable\": \"valence\", \"value\": 0.5319912852112676}, {\"year\": 1961, \"variable\": \"valence\", \"value\": 0.541062160294795}, {\"year\": 1962, \"variable\": \"valence\", \"value\": 0.5500753815527538}, {\"year\": 1963, \"variable\": \"valence\", \"value\": 0.5593503613256915}, {\"year\": 1964, \"variable\": \"valence\", \"value\": 0.5759905865986553}, {\"year\": 1965, \"variable\": \"valence\", \"value\": 0.584401467505241}, {\"year\": 1966, \"variable\": \"valence\", \"value\": 0.5852623134328359}, {\"year\": 1967, \"variable\": \"valence\", \"value\": 0.5693499889795018}, {\"year\": 1968, \"variable\": \"valence\", \"value\": 0.572333634868421}, {\"year\": 1969, \"variable\": \"valence\", \"value\": 0.5583129368575624}, {\"year\": 1970, \"variable\": \"valence\", \"value\": 0.5705029097387173}, {\"year\": 1971, \"variable\": \"valence\", \"value\": 0.5687448825169256}, {\"year\": 1972, \"variable\": \"valence\", \"value\": 0.5722501631617114}, {\"year\": 1973, \"variable\": \"valence\", \"value\": 0.572670203685742}, {\"year\": 1974, \"variable\": \"valence\", \"value\": 0.5801625820793433}, {\"year\": 1975, \"variable\": \"valence\", \"value\": 0.5727296241345203}, {\"year\": 1976, \"variable\": \"valence\", \"value\": 0.5775127046967788}, {\"year\": 1977, \"variable\": \"valence\", \"value\": 0.5827814063556457}, {\"year\": 1978, \"variable\": \"valence\", \"value\": 0.5902591775325978}, {\"year\": 1979, \"variable\": \"valence\", \"value\": 0.6097006485289466}, {\"year\": 1980, \"variable\": \"valence\", \"value\": 0.6018210848178676}, {\"year\": 1981, \"variable\": \"valence\", \"value\": 0.5925764231096007}, {\"year\": 1982, \"variable\": \"valence\", \"value\": 0.5903025604142693}, {\"year\": 1983, \"variable\": \"valence\", \"value\": 0.5844430064555795}, {\"year\": 1984, \"variable\": \"valence\", \"value\": 0.5754620673940064}, {\"year\": 1985, \"variable\": \"valence\", \"value\": 0.5791279050395669}, {\"year\": 1986, \"variable\": \"valence\", \"value\": 0.5835732170965008}, {\"year\": 1987, \"variable\": \"valence\", \"value\": 0.5703039501312336}, {\"year\": 1988, \"variable\": \"valence\", \"value\": 0.5635168576325131}, {\"year\": 1989, \"variable\": \"valence\", \"value\": 0.5723627361489555}, {\"year\": 1990, \"variable\": \"valence\", \"value\": 0.5686396546106224}, {\"year\": 1991, \"variable\": \"valence\", \"value\": 0.5672728148812192}, {\"year\": 1992, \"variable\": \"valence\", \"value\": 0.568877938437945}, {\"year\": 1993, \"variable\": \"valence\", \"value\": 0.5840414840325611}, {\"year\": 1994, \"variable\": \"valence\", \"value\": 0.563945416926596}, {\"year\": 1995, \"variable\": \"valence\", \"value\": 0.5677058418586863}, {\"year\": 1996, \"variable\": \"valence\", \"value\": 0.5658185777206827}, {\"year\": 1997, \"variable\": \"valence\", \"value\": 0.5729601904761904}, {\"year\": 1998, \"variable\": \"valence\", \"value\": 0.5711772948164147}, {\"year\": 1999, \"variable\": \"valence\", \"value\": 0.5680575838686652}, {\"year\": 2000, \"variable\": \"valence\", \"value\": 0.5731790132657624}, {\"year\": 2001, \"variable\": \"valence\", \"value\": 0.5722449362104268}, {\"year\": 2002, \"variable\": \"valence\", \"value\": 0.5635984836117842}, {\"year\": 2003, \"variable\": \"valence\", \"value\": 0.5686207034482759}, {\"year\": 2004, \"variable\": \"valence\", \"value\": 0.5629359623015873}, {\"year\": 2005, \"variable\": \"valence\", \"value\": 0.559507498037163}, {\"year\": 2006, \"variable\": \"valence\", \"value\": 0.565097526076491}, {\"year\": 2007, \"variable\": \"valence\", \"value\": 0.5577486103323989}, {\"year\": 2008, \"variable\": \"valence\", \"value\": 0.5685287825157382}, {\"year\": 2009, \"variable\": \"valence\", \"value\": 0.5566309966256929}, {\"year\": 2010, \"variable\": \"valence\", \"value\": 0.552977300486618}, {\"year\": 2011, \"variable\": \"valence\", \"value\": 0.5429512523584906}, {\"year\": 2012, \"variable\": \"valence\", \"value\": 0.5418221766599117}, {\"year\": 2013, \"variable\": \"valence\", \"value\": 0.5216090152251376}, {\"year\": 2014, \"variable\": \"valence\", \"value\": 0.5308183531306624}, {\"year\": 2015, \"variable\": \"valence\", \"value\": 0.5071301492066829}, {\"year\": 2016, \"variable\": \"valence\", \"value\": 0.49788704545454543}, {\"year\": 2017, \"variable\": \"valence\", \"value\": 0.4942149361747928}, {\"year\": 2018, \"variable\": \"valence\", \"value\": 0.4834590447572815}, {\"year\": 2019, \"variable\": \"valence\", \"value\": 0.49386340804752904}, {\"year\": 2020, \"variable\": \"valence\", \"value\": 0.4976291760241617}]}}, {\"mode\": \"vega-lite\"});\n",
       "</script>"
      ],
      "text/plain": [
       "alt.Chart(...)"
      ]
     },
     "execution_count": 23,
     "metadata": {},
     "output_type": "execute_result"
    }
   ],
   "source": [
    "x =df.groupby(\"year\")[\"acousticness\",\"danceability\",\"energy\",\"valence\"].mean().reset_index()\n",
    "x = x[(x[\"year\"] >= 1920) & (x[\"year\"] <= 2020)]\n",
    "x = pd.melt(x,id_vars=[\"year\"])\n",
    "\n",
    "alt.Chart(x).mark_line().encode(\n",
    "    x='year',\n",
    "    y='value',\n",
    "    color='variable',\n",
    "    strokeDash='variable',\n",
    ").properties(width = 600)"
   ]
  },
  {
   "cell_type": "code",
   "execution_count": 24,
   "metadata": {},
   "outputs": [
    {
     "data": {
      "text/html": [
       "\n",
       "<div id=\"altair-viz-39936533a0cc4ca6b77c026b15f841f8\"></div>\n",
       "<script type=\"text/javascript\">\n",
       "  var VEGA_DEBUG = (typeof VEGA_DEBUG == \"undefined\") ? {} : VEGA_DEBUG;\n",
       "  (function(spec, embedOpt){\n",
       "    let outputDiv = document.currentScript.previousElementSibling;\n",
       "    if (outputDiv.id !== \"altair-viz-39936533a0cc4ca6b77c026b15f841f8\") {\n",
       "      outputDiv = document.getElementById(\"altair-viz-39936533a0cc4ca6b77c026b15f841f8\");\n",
       "    }\n",
       "    const paths = {\n",
       "      \"vega\": \"https://cdn.jsdelivr.net/npm//vega@5?noext\",\n",
       "      \"vega-lib\": \"https://cdn.jsdelivr.net/npm//vega-lib?noext\",\n",
       "      \"vega-lite\": \"https://cdn.jsdelivr.net/npm//vega-lite@4.17.0?noext\",\n",
       "      \"vega-embed\": \"https://cdn.jsdelivr.net/npm//vega-embed@6?noext\",\n",
       "    };\n",
       "\n",
       "    function maybeLoadScript(lib, version) {\n",
       "      var key = `${lib.replace(\"-\", \"\")}_version`;\n",
       "      return (VEGA_DEBUG[key] == version) ?\n",
       "        Promise.resolve(paths[lib]) :\n",
       "        new Promise(function(resolve, reject) {\n",
       "          var s = document.createElement('script');\n",
       "          document.getElementsByTagName(\"head\")[0].appendChild(s);\n",
       "          s.async = true;\n",
       "          s.onload = () => {\n",
       "            VEGA_DEBUG[key] = version;\n",
       "            return resolve(paths[lib]);\n",
       "          };\n",
       "          s.onerror = () => reject(`Error loading script: ${paths[lib]}`);\n",
       "          s.src = paths[lib];\n",
       "        });\n",
       "    }\n",
       "\n",
       "    function showError(err) {\n",
       "      outputDiv.innerHTML = `<div class=\"error\" style=\"color:red;\">${err}</div>`;\n",
       "      throw err;\n",
       "    }\n",
       "\n",
       "    function displayChart(vegaEmbed) {\n",
       "      vegaEmbed(outputDiv, spec, embedOpt)\n",
       "        .catch(err => showError(`Javascript Error: ${err.message}<br>This usually means there's a typo in your chart specification. See the javascript console for the full traceback.`));\n",
       "    }\n",
       "\n",
       "    if(typeof define === \"function\" && define.amd) {\n",
       "      requirejs.config({paths});\n",
       "      require([\"vega-embed\"], displayChart, err => showError(`Error loading script: ${err.message}`));\n",
       "    } else {\n",
       "      maybeLoadScript(\"vega\", \"5\")\n",
       "        .then(() => maybeLoadScript(\"vega-lite\", \"4.17.0\"))\n",
       "        .then(() => maybeLoadScript(\"vega-embed\", \"6\"))\n",
       "        .catch(showError)\n",
       "        .then(() => displayChart(vegaEmbed));\n",
       "    }\n",
       "  })({\"config\": {\"view\": {\"continuousWidth\": 400, \"continuousHeight\": 300}}, \"data\": {\"name\": \"data-782c70c8b1880121b30f664e5cb21ea0\"}, \"mark\": \"bar\", \"encoding\": {\"color\": {\"value\": \"steelblue\"}, \"x\": {\"field\": \"Song_decade\", \"type\": \"ordinal\"}, \"y\": {\"field\": \"name\", \"title\": \"Number of songs\", \"type\": \"quantitative\"}}, \"width\": 600, \"$schema\": \"https://vega.github.io/schema/vega-lite/v4.17.0.json\", \"datasets\": {\"data-782c70c8b1880121b30f664e5cb21ea0\": [{\"Song_decade\": \"1920s\", \"name\": 6734}, {\"Song_decade\": \"1930s\", \"name\": 11867}, {\"Song_decade\": \"1940s\", \"name\": 15581}, {\"Song_decade\": \"1950s\", \"name\": 32121}, {\"Song_decade\": \"1960s\", \"name\": 43083}, {\"Song_decade\": \"1970s\", \"name\": 56436}, {\"Song_decade\": \"1980s\", \"name\": 75342}, {\"Song_decade\": \"1990s\", \"name\": 97968}, {\"Song_decade\": \"2000s\", \"name\": 75541}, {\"Song_decade\": \"2010s\", \"name\": 94577}]}}, {\"mode\": \"vega-lite\"});\n",
       "</script>"
      ],
      "text/plain": [
       "alt.Chart(...)"
      ]
     },
     "execution_count": 24,
     "metadata": {},
     "output_type": "execute_result"
    }
   ],
   "source": [
    "decade = df[(df[\"year\"] < 2020) & (df[\"year\"] >= 1920)].groupby(\"Song_decade\")[\"name\"].count().reset_index()\n",
    "alt.Chart(decade).mark_bar().encode(\n",
    "    x = \"Song_decade:O\",\n",
    "    \n",
    "    y = alt.Y(\"name:Q\",title=\"Number of songs\"),\n",
    "    color = alt.value(\"steelblue\")\n",
    ").properties(width = 600)"
   ]
  },
  {
   "cell_type": "code",
   "execution_count": 31,
   "metadata": {},
   "outputs": [
    {
     "data": {
      "application/vnd.plotly.v1+json": {
       "config": {
        "plotlyServerURL": "https://plot.ly"
       },
       "data": [
        {
         "fill": "toself",
         "hovertemplate": "Song_decade=1920s<br>value=%{r}<br>variable=%{theta}<extra></extra>",
         "legendgroup": "",
         "line": {
          "color": "#636efa",
          "dash": "solid"
         },
         "marker": {
          "symbol": "circle"
         },
         "mode": "lines",
         "name": "",
         "r": [
          0.029145583273500426,
          0.003029504741833509,
          0.9937949897588555,
          0.42731211695428,
          1,
          1,
          0.9726569129509324,
          0.8566739598273765,
          0.9048072762886855,
          1,
          0.9268554012241306,
          0.7533757792086863,
          0.029145583273500426
         ],
         "showlegend": false,
         "subplot": "polar",
         "theta": [
          "popularity",
          "explicit",
          "danceability",
          "energy",
          "loudness",
          "speechiness",
          "acousticness",
          "instrumentalness",
          "liveness",
          "valence",
          "tempo",
          "duration",
          "popularity"
         ],
         "type": "scatterpolar"
        }
       ],
       "frames": [
        {
         "data": [
          {
           "hovertemplate": "Song_decade=1920s<br>value=%{r}<br>variable=%{theta}<extra></extra>",
           "legendgroup": "",
           "line": {
            "color": "#636efa",
            "dash": "solid"
           },
           "marker": {
            "symbol": "circle"
           },
           "mode": "lines",
           "name": "",
           "r": [
            0.029145583273500426,
            0.003029504741833509,
            0.9937949897588555,
            0.42731211695428,
            1,
            1,
            0.9726569129509324,
            0.8566739598273765,
            0.9048072762886855,
            1,
            0.9268554012241306,
            0.7533757792086863,
            0.029145583273500426
           ],
           "showlegend": false,
           "subplot": "polar",
           "theta": [
            "popularity",
            "explicit",
            "danceability",
            "energy",
            "loudness",
            "speechiness",
            "acousticness",
            "instrumentalness",
            "liveness",
            "valence",
            "tempo",
            "duration",
            "popularity"
           ],
           "type": "scatterpolar"
          }
         ],
         "name": "1920s"
        },
        {
         "data": [
          {
           "hovertemplate": "Song_decade=1930s<br>value=%{r}<br>variable=%{theta}<extra></extra>",
           "legendgroup": "",
           "line": {
            "color": "#636efa",
            "dash": "solid"
           },
           "marker": {
            "symbol": "circle"
           },
           "mode": "lines",
           "name": "",
           "r": [
            0.05386198921884205,
            0.0014588452088452088,
            0.9053298645324979,
            0.4654274768782553,
            0.9147876932780832,
            0.6633900446978788,
            0.9505945481050274,
            0.7206702562475766,
            0.9633430188906645,
            0.951504890218627,
            0.9236639115884349,
            0.857025743491052,
            0.05386198921884205
           ],
           "showlegend": false,
           "subplot": "polar",
           "theta": [
            "popularity",
            "explicit",
            "danceability",
            "energy",
            "loudness",
            "speechiness",
            "acousticness",
            "instrumentalness",
            "liveness",
            "valence",
            "tempo",
            "duration",
            "popularity"
           ],
           "type": "scatterpolar"
          }
         ],
         "name": "1930s"
        },
        {
         "data": [
          {
           "hovertemplate": "Song_decade=1940s<br>value=%{r}<br>variable=%{theta}<extra></extra>",
           "legendgroup": "",
           "line": {
            "color": "#636efa",
            "dash": "solid"
           },
           "marker": {
            "symbol": "circle"
           },
           "mode": "lines",
           "name": "",
           "r": [
            0.04551650627849859,
            0.0007213806115087953,
            0.7816568451667232,
            0.40699162110598375,
            0.962750299822242,
            0.3422016615438785,
            1,
            1,
            0.9484471607749548,
            0.8352750353384978,
            0.8769011692809099,
            0.9052873006348829,
            0.04551650627849859
           ],
           "showlegend": false,
           "subplot": "polar",
           "theta": [
            "popularity",
            "explicit",
            "danceability",
            "energy",
            "loudness",
            "speechiness",
            "acousticness",
            "instrumentalness",
            "liveness",
            "valence",
            "tempo",
            "duration",
            "popularity"
           ],
           "type": "scatterpolar"
          }
         ],
         "name": "1940s"
        },
        {
         "data": [
          {
           "hovertemplate": "Song_decade=1950s<br>value=%{r}<br>variable=%{theta}<extra></extra>",
           "legendgroup": "",
           "line": {
            "color": "#636efa",
            "dash": "solid"
           },
           "marker": {
            "symbol": "circle"
           },
           "mode": "lines",
           "name": "",
           "r": [
            0.2142368202899309,
            0.0007635098832112661,
            0.7931234812691731,
            0.45366668001900506,
            0.9720357902128741,
            0.3677700347754754,
            0.9188677911301958,
            0.636968461867866,
            0.9401906605496521,
            0.8248576012438047,
            0.9069832752807411,
            0.9209363272548128,
            0.2142368202899309
           ],
           "showlegend": false,
           "subplot": "polar",
           "theta": [
            "popularity",
            "explicit",
            "danceability",
            "energy",
            "loudness",
            "speechiness",
            "acousticness",
            "instrumentalness",
            "liveness",
            "valence",
            "tempo",
            "duration",
            "popularity"
           ],
           "type": "scatterpolar"
          }
         ],
         "name": "1950s"
        },
        {
         "data": [
          {
           "hovertemplate": "Song_decade=1960s<br>value=%{r}<br>variable=%{theta}<extra></extra>",
           "legendgroup": "",
           "line": {
            "color": "#636efa",
            "dash": "solid"
           },
           "marker": {
            "symbol": "circle"
           },
           "mode": "lines",
           "name": "",
           "r": [
            0.45698796338962866,
            0.0007193940163344759,
            0.8167511263615987,
            0.6145308619056922,
            0.8464679159682154,
            0.26203188520153187,
            0.7452399854432881,
            0.4202851895827164,
            0.9451926771453745,
            0.9357060025274819,
            0.9346868847676424,
            0.8665264176989758,
            0.45698796338962866
           ],
           "showlegend": false,
           "subplot": "polar",
           "theta": [
            "popularity",
            "explicit",
            "danceability",
            "energy",
            "loudness",
            "speechiness",
            "acousticness",
            "instrumentalness",
            "liveness",
            "valence",
            "tempo",
            "duration",
            "popularity"
           ],
           "type": "scatterpolar"
          }
         ],
         "name": "1960s"
        },
        {
         "data": [
          {
           "hovertemplate": "Song_decade=1970s<br>value=%{r}<br>variable=%{theta}<extra></extra>",
           "legendgroup": "",
           "line": {
            "color": "#636efa",
            "dash": "solid"
           },
           "marker": {
            "symbol": "circle"
           },
           "mode": "lines",
           "name": "",
           "r": [
            0.6169382780216911,
            0.0018111254851228978,
            0.8605862501280627,
            0.7623715430584788,
            0.7734899763807964,
            0.3545252180571209,
            0.5468226710757651,
            0.26538396071696807,
            0.9853042346423778,
            0.9670624811338688,
            0.9616323816665951,
            0.9620343032544747,
            0.6169382780216911
           ],
           "showlegend": false,
           "subplot": "polar",
           "theta": [
            "popularity",
            "explicit",
            "danceability",
            "energy",
            "loudness",
            "speechiness",
            "acousticness",
            "instrumentalness",
            "liveness",
            "valence",
            "tempo",
            "duration",
            "popularity"
           ],
           "type": "scatterpolar"
          }
         ],
         "name": "1970s"
        },
        {
         "data": [
          {
           "hovertemplate": "Song_decade=1980s<br>value=%{r}<br>variable=%{theta}<extra></extra>",
           "legendgroup": "",
           "line": {
            "color": "#636efa",
            "dash": "solid"
           },
           "marker": {
            "symbol": "circle"
           },
           "mode": "lines",
           "name": "",
           "r": [
            0.6554868545566759,
            0.010616846043584947,
            0.9255909283856931,
            0.835312984139373,
            0.7650323679916653,
            0.47469577292697873,
            0.4445543678935362,
            0.21329435321417214,
            1,
            0.9667592399227978,
            0.9736373320078506,
            0.9435451337355216,
            0.6554868545566759
           ],
           "showlegend": false,
           "subplot": "polar",
           "theta": [
            "popularity",
            "explicit",
            "danceability",
            "energy",
            "loudness",
            "speechiness",
            "acousticness",
            "instrumentalness",
            "liveness",
            "valence",
            "tempo",
            "duration",
            "popularity"
           ],
           "type": "scatterpolar"
          }
         ],
         "name": "1980s"
        },
        {
         "data": [
          {
           "hovertemplate": "Song_decade=1990s<br>value=%{r}<br>variable=%{theta}<extra></extra>",
           "legendgroup": "",
           "line": {
            "color": "#636efa",
            "dash": "solid"
           },
           "marker": {
            "symbol": "circle"
           },
           "mode": "lines",
           "name": "",
           "r": [
            0.7520760009208832,
            0.031229333529282092,
            0.9400899830145465,
            0.8722978801372526,
            0.6978907877428339,
            0.34046522695968234,
            0.4007341076582817,
            0.19279404670471953,
            0.9598957243910331,
            0.9490815396689544,
            0.9804051413148467,
            0.9989865666716639,
            0.7520760009208832
           ],
           "showlegend": false,
           "subplot": "polar",
           "theta": [
            "popularity",
            "explicit",
            "danceability",
            "energy",
            "loudness",
            "speechiness",
            "acousticness",
            "instrumentalness",
            "liveness",
            "valence",
            "tempo",
            "duration",
            "popularity"
           ],
           "type": "scatterpolar"
          }
         ],
         "name": "1990s"
        },
        {
         "data": [
          {
           "hovertemplate": "Song_decade=2000s<br>value=%{r}<br>variable=%{theta}<extra></extra>",
           "legendgroup": "",
           "line": {
            "color": "#636efa",
            "dash": "solid"
           },
           "marker": {
            "symbol": "circle"
           },
           "mode": "lines",
           "name": "",
           "r": [
            0.9350317830655234,
            0.04919335336995198,
            0.9698378511685926,
            0.9859363661521164,
            0.5109267787260375,
            0.2754142139383414,
            0.3421117763346739,
            0.1472151207720755,
            0.9333886647652611,
            0.9401013903680671,
            0.9946176940979888,
            1,
            0.9350317830655234
           ],
           "showlegend": false,
           "subplot": "polar",
           "theta": [
            "popularity",
            "explicit",
            "danceability",
            "energy",
            "loudness",
            "speechiness",
            "acousticness",
            "instrumentalness",
            "liveness",
            "valence",
            "tempo",
            "duration",
            "popularity"
           ],
           "type": "scatterpolar"
          }
         ],
         "name": "2000s"
        },
        {
         "data": [
          {
           "hovertemplate": "Song_decade=2010s<br>value=%{r}<br>variable=%{theta}<extra></extra>",
           "legendgroup": "",
           "line": {
            "color": "#636efa",
            "dash": "solid"
           },
           "marker": {
            "symbol": "circle"
           },
           "mode": "lines",
           "name": "",
           "r": [
            1,
            0.11796284859138201,
            1,
            1,
            0.49244020003022027,
            0.3108633947539264,
            0.3145697836585158,
            0.2339415127117669,
            0.9105894876402558,
            0.8569338564966231,
            1,
            0.9640882900309786,
            1
           ],
           "showlegend": false,
           "subplot": "polar",
           "theta": [
            "popularity",
            "explicit",
            "danceability",
            "energy",
            "loudness",
            "speechiness",
            "acousticness",
            "instrumentalness",
            "liveness",
            "valence",
            "tempo",
            "duration",
            "popularity"
           ],
           "type": "scatterpolar"
          }
         ],
         "name": "2010s"
        }
       ],
       "layout": {
        "font": {
         "size": 15
        },
        "legend": {
         "tracegroupgap": 0
        },
        "margin": {
         "t": 60
        },
        "polar": {
         "angularaxis": {
          "direction": "clockwise",
          "rotation": 90
         },
         "domain": {
          "x": [
           0,
           1
          ],
          "y": [
           0,
           1
          ]
         },
         "radialaxis": {
          "range": [
           0,
           1
          ]
         }
        },
        "sliders": [
         {
          "active": 0,
          "currentvalue": {
           "prefix": "Song_decade="
          },
          "len": 0.9,
          "pad": {
           "b": 10,
           "t": 60
          },
          "steps": [
           {
            "args": [
             [
              "1920s"
             ],
             {
              "frame": {
               "duration": 0,
               "redraw": true
              },
              "fromcurrent": true,
              "mode": "immediate",
              "transition": {
               "duration": 0,
               "easing": "linear"
              }
             }
            ],
            "label": "1920s",
            "method": "animate"
           },
           {
            "args": [
             [
              "1930s"
             ],
             {
              "frame": {
               "duration": 0,
               "redraw": true
              },
              "fromcurrent": true,
              "mode": "immediate",
              "transition": {
               "duration": 0,
               "easing": "linear"
              }
             }
            ],
            "label": "1930s",
            "method": "animate"
           },
           {
            "args": [
             [
              "1940s"
             ],
             {
              "frame": {
               "duration": 0,
               "redraw": true
              },
              "fromcurrent": true,
              "mode": "immediate",
              "transition": {
               "duration": 0,
               "easing": "linear"
              }
             }
            ],
            "label": "1940s",
            "method": "animate"
           },
           {
            "args": [
             [
              "1950s"
             ],
             {
              "frame": {
               "duration": 0,
               "redraw": true
              },
              "fromcurrent": true,
              "mode": "immediate",
              "transition": {
               "duration": 0,
               "easing": "linear"
              }
             }
            ],
            "label": "1950s",
            "method": "animate"
           },
           {
            "args": [
             [
              "1960s"
             ],
             {
              "frame": {
               "duration": 0,
               "redraw": true
              },
              "fromcurrent": true,
              "mode": "immediate",
              "transition": {
               "duration": 0,
               "easing": "linear"
              }
             }
            ],
            "label": "1960s",
            "method": "animate"
           },
           {
            "args": [
             [
              "1970s"
             ],
             {
              "frame": {
               "duration": 0,
               "redraw": true
              },
              "fromcurrent": true,
              "mode": "immediate",
              "transition": {
               "duration": 0,
               "easing": "linear"
              }
             }
            ],
            "label": "1970s",
            "method": "animate"
           },
           {
            "args": [
             [
              "1980s"
             ],
             {
              "frame": {
               "duration": 0,
               "redraw": true
              },
              "fromcurrent": true,
              "mode": "immediate",
              "transition": {
               "duration": 0,
               "easing": "linear"
              }
             }
            ],
            "label": "1980s",
            "method": "animate"
           },
           {
            "args": [
             [
              "1990s"
             ],
             {
              "frame": {
               "duration": 0,
               "redraw": true
              },
              "fromcurrent": true,
              "mode": "immediate",
              "transition": {
               "duration": 0,
               "easing": "linear"
              }
             }
            ],
            "label": "1990s",
            "method": "animate"
           },
           {
            "args": [
             [
              "2000s"
             ],
             {
              "frame": {
               "duration": 0,
               "redraw": true
              },
              "fromcurrent": true,
              "mode": "immediate",
              "transition": {
               "duration": 0,
               "easing": "linear"
              }
             }
            ],
            "label": "2000s",
            "method": "animate"
           },
           {
            "args": [
             [
              "2010s"
             ],
             {
              "frame": {
               "duration": 0,
               "redraw": true
              },
              "fromcurrent": true,
              "mode": "immediate",
              "transition": {
               "duration": 0,
               "easing": "linear"
              }
             }
            ],
            "label": "2010s",
            "method": "animate"
           }
          ],
          "x": 0.1,
          "xanchor": "left",
          "y": 0,
          "yanchor": "top"
         }
        ],
        "template": {
         "data": {
          "bar": [
           {
            "error_x": {
             "color": "#f2f5fa"
            },
            "error_y": {
             "color": "#f2f5fa"
            },
            "marker": {
             "line": {
              "color": "rgb(17,17,17)",
              "width": 0.5
             },
             "pattern": {
              "fillmode": "overlay",
              "size": 10,
              "solidity": 0.2
             }
            },
            "type": "bar"
           }
          ],
          "barpolar": [
           {
            "marker": {
             "line": {
              "color": "rgb(17,17,17)",
              "width": 0.5
             },
             "pattern": {
              "fillmode": "overlay",
              "size": 10,
              "solidity": 0.2
             }
            },
            "type": "barpolar"
           }
          ],
          "carpet": [
           {
            "aaxis": {
             "endlinecolor": "#A2B1C6",
             "gridcolor": "#506784",
             "linecolor": "#506784",
             "minorgridcolor": "#506784",
             "startlinecolor": "#A2B1C6"
            },
            "baxis": {
             "endlinecolor": "#A2B1C6",
             "gridcolor": "#506784",
             "linecolor": "#506784",
             "minorgridcolor": "#506784",
             "startlinecolor": "#A2B1C6"
            },
            "type": "carpet"
           }
          ],
          "choropleth": [
           {
            "colorbar": {
             "outlinewidth": 0,
             "ticks": ""
            },
            "type": "choropleth"
           }
          ],
          "contour": [
           {
            "colorbar": {
             "outlinewidth": 0,
             "ticks": ""
            },
            "colorscale": [
             [
              0,
              "#0d0887"
             ],
             [
              0.1111111111111111,
              "#46039f"
             ],
             [
              0.2222222222222222,
              "#7201a8"
             ],
             [
              0.3333333333333333,
              "#9c179e"
             ],
             [
              0.4444444444444444,
              "#bd3786"
             ],
             [
              0.5555555555555556,
              "#d8576b"
             ],
             [
              0.6666666666666666,
              "#ed7953"
             ],
             [
              0.7777777777777778,
              "#fb9f3a"
             ],
             [
              0.8888888888888888,
              "#fdca26"
             ],
             [
              1,
              "#f0f921"
             ]
            ],
            "type": "contour"
           }
          ],
          "contourcarpet": [
           {
            "colorbar": {
             "outlinewidth": 0,
             "ticks": ""
            },
            "type": "contourcarpet"
           }
          ],
          "heatmap": [
           {
            "colorbar": {
             "outlinewidth": 0,
             "ticks": ""
            },
            "colorscale": [
             [
              0,
              "#0d0887"
             ],
             [
              0.1111111111111111,
              "#46039f"
             ],
             [
              0.2222222222222222,
              "#7201a8"
             ],
             [
              0.3333333333333333,
              "#9c179e"
             ],
             [
              0.4444444444444444,
              "#bd3786"
             ],
             [
              0.5555555555555556,
              "#d8576b"
             ],
             [
              0.6666666666666666,
              "#ed7953"
             ],
             [
              0.7777777777777778,
              "#fb9f3a"
             ],
             [
              0.8888888888888888,
              "#fdca26"
             ],
             [
              1,
              "#f0f921"
             ]
            ],
            "type": "heatmap"
           }
          ],
          "heatmapgl": [
           {
            "colorbar": {
             "outlinewidth": 0,
             "ticks": ""
            },
            "colorscale": [
             [
              0,
              "#0d0887"
             ],
             [
              0.1111111111111111,
              "#46039f"
             ],
             [
              0.2222222222222222,
              "#7201a8"
             ],
             [
              0.3333333333333333,
              "#9c179e"
             ],
             [
              0.4444444444444444,
              "#bd3786"
             ],
             [
              0.5555555555555556,
              "#d8576b"
             ],
             [
              0.6666666666666666,
              "#ed7953"
             ],
             [
              0.7777777777777778,
              "#fb9f3a"
             ],
             [
              0.8888888888888888,
              "#fdca26"
             ],
             [
              1,
              "#f0f921"
             ]
            ],
            "type": "heatmapgl"
           }
          ],
          "histogram": [
           {
            "marker": {
             "pattern": {
              "fillmode": "overlay",
              "size": 10,
              "solidity": 0.2
             }
            },
            "type": "histogram"
           }
          ],
          "histogram2d": [
           {
            "colorbar": {
             "outlinewidth": 0,
             "ticks": ""
            },
            "colorscale": [
             [
              0,
              "#0d0887"
             ],
             [
              0.1111111111111111,
              "#46039f"
             ],
             [
              0.2222222222222222,
              "#7201a8"
             ],
             [
              0.3333333333333333,
              "#9c179e"
             ],
             [
              0.4444444444444444,
              "#bd3786"
             ],
             [
              0.5555555555555556,
              "#d8576b"
             ],
             [
              0.6666666666666666,
              "#ed7953"
             ],
             [
              0.7777777777777778,
              "#fb9f3a"
             ],
             [
              0.8888888888888888,
              "#fdca26"
             ],
             [
              1,
              "#f0f921"
             ]
            ],
            "type": "histogram2d"
           }
          ],
          "histogram2dcontour": [
           {
            "colorbar": {
             "outlinewidth": 0,
             "ticks": ""
            },
            "colorscale": [
             [
              0,
              "#0d0887"
             ],
             [
              0.1111111111111111,
              "#46039f"
             ],
             [
              0.2222222222222222,
              "#7201a8"
             ],
             [
              0.3333333333333333,
              "#9c179e"
             ],
             [
              0.4444444444444444,
              "#bd3786"
             ],
             [
              0.5555555555555556,
              "#d8576b"
             ],
             [
              0.6666666666666666,
              "#ed7953"
             ],
             [
              0.7777777777777778,
              "#fb9f3a"
             ],
             [
              0.8888888888888888,
              "#fdca26"
             ],
             [
              1,
              "#f0f921"
             ]
            ],
            "type": "histogram2dcontour"
           }
          ],
          "mesh3d": [
           {
            "colorbar": {
             "outlinewidth": 0,
             "ticks": ""
            },
            "type": "mesh3d"
           }
          ],
          "parcoords": [
           {
            "line": {
             "colorbar": {
              "outlinewidth": 0,
              "ticks": ""
             }
            },
            "type": "parcoords"
           }
          ],
          "pie": [
           {
            "automargin": true,
            "type": "pie"
           }
          ],
          "scatter": [
           {
            "marker": {
             "line": {
              "color": "#283442"
             }
            },
            "type": "scatter"
           }
          ],
          "scatter3d": [
           {
            "line": {
             "colorbar": {
              "outlinewidth": 0,
              "ticks": ""
             }
            },
            "marker": {
             "colorbar": {
              "outlinewidth": 0,
              "ticks": ""
             }
            },
            "type": "scatter3d"
           }
          ],
          "scattercarpet": [
           {
            "marker": {
             "colorbar": {
              "outlinewidth": 0,
              "ticks": ""
             }
            },
            "type": "scattercarpet"
           }
          ],
          "scattergeo": [
           {
            "marker": {
             "colorbar": {
              "outlinewidth": 0,
              "ticks": ""
             }
            },
            "type": "scattergeo"
           }
          ],
          "scattergl": [
           {
            "marker": {
             "line": {
              "color": "#283442"
             }
            },
            "type": "scattergl"
           }
          ],
          "scattermapbox": [
           {
            "marker": {
             "colorbar": {
              "outlinewidth": 0,
              "ticks": ""
             }
            },
            "type": "scattermapbox"
           }
          ],
          "scatterpolar": [
           {
            "marker": {
             "colorbar": {
              "outlinewidth": 0,
              "ticks": ""
             }
            },
            "type": "scatterpolar"
           }
          ],
          "scatterpolargl": [
           {
            "marker": {
             "colorbar": {
              "outlinewidth": 0,
              "ticks": ""
             }
            },
            "type": "scatterpolargl"
           }
          ],
          "scatterternary": [
           {
            "marker": {
             "colorbar": {
              "outlinewidth": 0,
              "ticks": ""
             }
            },
            "type": "scatterternary"
           }
          ],
          "surface": [
           {
            "colorbar": {
             "outlinewidth": 0,
             "ticks": ""
            },
            "colorscale": [
             [
              0,
              "#0d0887"
             ],
             [
              0.1111111111111111,
              "#46039f"
             ],
             [
              0.2222222222222222,
              "#7201a8"
             ],
             [
              0.3333333333333333,
              "#9c179e"
             ],
             [
              0.4444444444444444,
              "#bd3786"
             ],
             [
              0.5555555555555556,
              "#d8576b"
             ],
             [
              0.6666666666666666,
              "#ed7953"
             ],
             [
              0.7777777777777778,
              "#fb9f3a"
             ],
             [
              0.8888888888888888,
              "#fdca26"
             ],
             [
              1,
              "#f0f921"
             ]
            ],
            "type": "surface"
           }
          ],
          "table": [
           {
            "cells": {
             "fill": {
              "color": "#506784"
             },
             "line": {
              "color": "rgb(17,17,17)"
             }
            },
            "header": {
             "fill": {
              "color": "#2a3f5f"
             },
             "line": {
              "color": "rgb(17,17,17)"
             }
            },
            "type": "table"
           }
          ]
         },
         "layout": {
          "annotationdefaults": {
           "arrowcolor": "#f2f5fa",
           "arrowhead": 0,
           "arrowwidth": 1
          },
          "autotypenumbers": "strict",
          "coloraxis": {
           "colorbar": {
            "outlinewidth": 0,
            "ticks": ""
           }
          },
          "colorscale": {
           "diverging": [
            [
             0,
             "#8e0152"
            ],
            [
             0.1,
             "#c51b7d"
            ],
            [
             0.2,
             "#de77ae"
            ],
            [
             0.3,
             "#f1b6da"
            ],
            [
             0.4,
             "#fde0ef"
            ],
            [
             0.5,
             "#f7f7f7"
            ],
            [
             0.6,
             "#e6f5d0"
            ],
            [
             0.7,
             "#b8e186"
            ],
            [
             0.8,
             "#7fbc41"
            ],
            [
             0.9,
             "#4d9221"
            ],
            [
             1,
             "#276419"
            ]
           ],
           "sequential": [
            [
             0,
             "#0d0887"
            ],
            [
             0.1111111111111111,
             "#46039f"
            ],
            [
             0.2222222222222222,
             "#7201a8"
            ],
            [
             0.3333333333333333,
             "#9c179e"
            ],
            [
             0.4444444444444444,
             "#bd3786"
            ],
            [
             0.5555555555555556,
             "#d8576b"
            ],
            [
             0.6666666666666666,
             "#ed7953"
            ],
            [
             0.7777777777777778,
             "#fb9f3a"
            ],
            [
             0.8888888888888888,
             "#fdca26"
            ],
            [
             1,
             "#f0f921"
            ]
           ],
           "sequentialminus": [
            [
             0,
             "#0d0887"
            ],
            [
             0.1111111111111111,
             "#46039f"
            ],
            [
             0.2222222222222222,
             "#7201a8"
            ],
            [
             0.3333333333333333,
             "#9c179e"
            ],
            [
             0.4444444444444444,
             "#bd3786"
            ],
            [
             0.5555555555555556,
             "#d8576b"
            ],
            [
             0.6666666666666666,
             "#ed7953"
            ],
            [
             0.7777777777777778,
             "#fb9f3a"
            ],
            [
             0.8888888888888888,
             "#fdca26"
            ],
            [
             1,
             "#f0f921"
            ]
           ]
          },
          "colorway": [
           "#636efa",
           "#EF553B",
           "#00cc96",
           "#ab63fa",
           "#FFA15A",
           "#19d3f3",
           "#FF6692",
           "#B6E880",
           "#FF97FF",
           "#FECB52"
          ],
          "font": {
           "color": "#f2f5fa"
          },
          "geo": {
           "bgcolor": "rgb(17,17,17)",
           "lakecolor": "rgb(17,17,17)",
           "landcolor": "rgb(17,17,17)",
           "showlakes": true,
           "showland": true,
           "subunitcolor": "#506784"
          },
          "hoverlabel": {
           "align": "left"
          },
          "hovermode": "closest",
          "mapbox": {
           "style": "dark"
          },
          "paper_bgcolor": "rgb(17,17,17)",
          "plot_bgcolor": "rgb(17,17,17)",
          "polar": {
           "angularaxis": {
            "gridcolor": "#506784",
            "linecolor": "#506784",
            "ticks": ""
           },
           "bgcolor": "rgb(17,17,17)",
           "radialaxis": {
            "gridcolor": "#506784",
            "linecolor": "#506784",
            "ticks": ""
           }
          },
          "scene": {
           "xaxis": {
            "backgroundcolor": "rgb(17,17,17)",
            "gridcolor": "#506784",
            "gridwidth": 2,
            "linecolor": "#506784",
            "showbackground": true,
            "ticks": "",
            "zerolinecolor": "#C8D4E3"
           },
           "yaxis": {
            "backgroundcolor": "rgb(17,17,17)",
            "gridcolor": "#506784",
            "gridwidth": 2,
            "linecolor": "#506784",
            "showbackground": true,
            "ticks": "",
            "zerolinecolor": "#C8D4E3"
           },
           "zaxis": {
            "backgroundcolor": "rgb(17,17,17)",
            "gridcolor": "#506784",
            "gridwidth": 2,
            "linecolor": "#506784",
            "showbackground": true,
            "ticks": "",
            "zerolinecolor": "#C8D4E3"
           }
          },
          "shapedefaults": {
           "line": {
            "color": "#f2f5fa"
           }
          },
          "sliderdefaults": {
           "bgcolor": "#C8D4E3",
           "bordercolor": "rgb(17,17,17)",
           "borderwidth": 1,
           "tickwidth": 0
          },
          "ternary": {
           "aaxis": {
            "gridcolor": "#506784",
            "linecolor": "#506784",
            "ticks": ""
           },
           "baxis": {
            "gridcolor": "#506784",
            "linecolor": "#506784",
            "ticks": ""
           },
           "bgcolor": "rgb(17,17,17)",
           "caxis": {
            "gridcolor": "#506784",
            "linecolor": "#506784",
            "ticks": ""
           }
          },
          "title": {
           "x": 0.05
          },
          "updatemenudefaults": {
           "bgcolor": "#506784",
           "borderwidth": 0
          },
          "xaxis": {
           "automargin": true,
           "gridcolor": "#283442",
           "linecolor": "#506784",
           "ticks": "",
           "title": {
            "standoff": 15
           },
           "zerolinecolor": "#283442",
           "zerolinewidth": 2
          },
          "yaxis": {
           "automargin": true,
           "gridcolor": "#283442",
           "linecolor": "#506784",
           "ticks": "",
           "title": {
            "standoff": 15
           },
           "zerolinecolor": "#283442",
           "zerolinewidth": 2
          }
         }
        },
        "updatemenus": [
         {
          "buttons": [
           {
            "args": [
             null,
             {
              "frame": {
               "duration": 500,
               "redraw": true
              },
              "fromcurrent": true,
              "mode": "immediate",
              "transition": {
               "duration": 500,
               "easing": "linear"
              }
             }
            ],
            "label": "&#9654;",
            "method": "animate"
           },
           {
            "args": [
             [
              null
             ],
             {
              "frame": {
               "duration": 0,
               "redraw": true
              },
              "fromcurrent": true,
              "mode": "immediate",
              "transition": {
               "duration": 0,
               "easing": "linear"
              }
             }
            ],
            "label": "&#9724;",
            "method": "animate"
           }
          ],
          "direction": "left",
          "pad": {
           "r": 10,
           "t": 70
          },
          "showactive": false,
          "type": "buttons",
          "x": 0.1,
          "xanchor": "right",
          "y": 0,
          "yanchor": "top"
         }
        ]
       }
      }
     },
     "metadata": {},
     "output_type": "display_data"
    }
   ],
   "source": [
    "fig = px.line_polar(df_year_control, r=\"value\",theta=\"variable\",line_close=True,\n",
    "             animation_frame=\"Song_decade\",template=\"plotly_dark\",range_r = (0,1))\n",
    "fig.update_traces(fill='toself')\n",
    "fig.update_layout(font_size=15)\n",
    "fig.show()"
   ]
  },
  {
   "cell_type": "code",
   "execution_count": 43,
   "metadata": {},
   "outputs": [
    {
     "data": {
      "text/html": [
       "<div>\n",
       "<style scoped>\n",
       "    .dataframe tbody tr th:only-of-type {\n",
       "        vertical-align: middle;\n",
       "    }\n",
       "\n",
       "    .dataframe tbody tr th {\n",
       "        vertical-align: top;\n",
       "    }\n",
       "\n",
       "    .dataframe thead th {\n",
       "        text-align: right;\n",
       "    }\n",
       "</style>\n",
       "<table border=\"1\" class=\"dataframe\">\n",
       "  <thead>\n",
       "    <tr style=\"text-align: right;\">\n",
       "      <th></th>\n",
       "      <th>Song_decade</th>\n",
       "      <th>variable</th>\n",
       "      <th>value</th>\n",
       "    </tr>\n",
       "  </thead>\n",
       "  <tbody>\n",
       "    <tr>\n",
       "      <th>0</th>\n",
       "      <td>1920s</td>\n",
       "      <td>popularity</td>\n",
       "      <td>0.029146</td>\n",
       "    </tr>\n",
       "    <tr>\n",
       "      <th>1</th>\n",
       "      <td>1930s</td>\n",
       "      <td>popularity</td>\n",
       "      <td>0.053862</td>\n",
       "    </tr>\n",
       "    <tr>\n",
       "      <th>2</th>\n",
       "      <td>1940s</td>\n",
       "      <td>popularity</td>\n",
       "      <td>0.045517</td>\n",
       "    </tr>\n",
       "    <tr>\n",
       "      <th>3</th>\n",
       "      <td>1950s</td>\n",
       "      <td>popularity</td>\n",
       "      <td>0.214237</td>\n",
       "    </tr>\n",
       "    <tr>\n",
       "      <th>4</th>\n",
       "      <td>1960s</td>\n",
       "      <td>popularity</td>\n",
       "      <td>0.456988</td>\n",
       "    </tr>\n",
       "    <tr>\n",
       "      <th>...</th>\n",
       "      <td>...</td>\n",
       "      <td>...</td>\n",
       "      <td>...</td>\n",
       "    </tr>\n",
       "    <tr>\n",
       "      <th>115</th>\n",
       "      <td>1970s</td>\n",
       "      <td>duration</td>\n",
       "      <td>0.962034</td>\n",
       "    </tr>\n",
       "    <tr>\n",
       "      <th>116</th>\n",
       "      <td>1980s</td>\n",
       "      <td>duration</td>\n",
       "      <td>0.943545</td>\n",
       "    </tr>\n",
       "    <tr>\n",
       "      <th>117</th>\n",
       "      <td>1990s</td>\n",
       "      <td>duration</td>\n",
       "      <td>0.998987</td>\n",
       "    </tr>\n",
       "    <tr>\n",
       "      <th>118</th>\n",
       "      <td>2000s</td>\n",
       "      <td>duration</td>\n",
       "      <td>1.000000</td>\n",
       "    </tr>\n",
       "    <tr>\n",
       "      <th>119</th>\n",
       "      <td>2010s</td>\n",
       "      <td>duration</td>\n",
       "      <td>0.964088</td>\n",
       "    </tr>\n",
       "  </tbody>\n",
       "</table>\n",
       "<p>120 rows × 3 columns</p>\n",
       "</div>"
      ],
      "text/plain": [
       "    Song_decade    variable     value\n",
       "0         1920s  popularity  0.029146\n",
       "1         1930s  popularity  0.053862\n",
       "2         1940s  popularity  0.045517\n",
       "3         1950s  popularity  0.214237\n",
       "4         1960s  popularity  0.456988\n",
       "..          ...         ...       ...\n",
       "115       1970s    duration  0.962034\n",
       "116       1980s    duration  0.943545\n",
       "117       1990s    duration  0.998987\n",
       "118       2000s    duration  1.000000\n",
       "119       2010s    duration  0.964088\n",
       "\n",
       "[120 rows x 3 columns]"
      ]
     },
     "execution_count": 43,
     "metadata": {},
     "output_type": "execute_result"
    }
   ],
   "source": [
    "df_year_control"
   ]
  },
  {
   "cell_type": "code",
   "execution_count": null,
   "metadata": {},
   "outputs": [],
   "source": []
  }
 ],
 "metadata": {
  "kernelspec": {
   "display_name": "Python 3.9.12 ('base')",
   "language": "python",
   "name": "python3"
  },
  "language_info": {
   "codemirror_mode": {
    "name": "ipython",
    "version": 3
   },
   "file_extension": ".py",
   "mimetype": "text/x-python",
   "name": "python",
   "nbconvert_exporter": "python",
   "pygments_lexer": "ipython3",
   "version": "3.9.12"
  },
  "orig_nbformat": 4,
  "vscode": {
   "interpreter": {
    "hash": "a3f3c9539b2b0d529c07b7548750098ae30aba30b940b3b3dd0f70005c5624b6"
   }
  }
 },
 "nbformat": 4,
 "nbformat_minor": 2
}
