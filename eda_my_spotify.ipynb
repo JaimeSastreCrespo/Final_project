{
 "cells": [
  {
   "cell_type": "code",
   "execution_count": 1,
   "metadata": {},
   "outputs": [],
   "source": [
    "import pandas as pd\n",
    "import seaborn as sns\n",
    "import numpy as np\n",
    "import matplotlib.pyplot as plt\n",
    "import plotly.express as px\n",
    "import altair as alt\n",
    "import plotly.graph_objects as go"
   ]
  },
  {
   "cell_type": "markdown",
   "metadata": {},
   "source": [
    "# Import dataset and cleaning"
   ]
  },
  {
   "cell_type": "code",
   "execution_count": 2,
   "metadata": {},
   "outputs": [],
   "source": [
    "df2018 = pd.read_csv('/Users/jaimesastrecrespo/DAFT_1022/Final_project_Spotify/my_spotify_2018.csv')\n",
    "df2019 = pd.read_csv('/Users/jaimesastrecrespo/DAFT_1022/Final_project_Spotify/my_spotify_2019.csv')\n",
    "df2020 = pd.read_csv('/Users/jaimesastrecrespo/DAFT_1022/Final_project_Spotify/my_spotify_2020.csv')\n",
    "df2021 = pd.read_csv('/Users/jaimesastrecrespo/DAFT_1022/Final_project_Spotify/my_spotify_2021.csv')\n",
    "df2022 = pd.read_csv('/Users/jaimesastrecrespo/DAFT_1022/Final_project_Spotify/my_spotify_2022.csv')"
   ]
  },
  {
   "cell_type": "code",
   "execution_count": 3,
   "metadata": {},
   "outputs": [],
   "source": [
    "df2018['year_playlist'] = 2018\n",
    "df2019['year_playlist'] = 2019\n",
    "df2020['year_playlist'] = 2020\n",
    "df2021['year_playlist'] = 2021\n",
    "df2022['year_playlist'] = 2022\n"
   ]
  },
  {
   "cell_type": "code",
   "execution_count": 4,
   "metadata": {},
   "outputs": [],
   "source": [
    "list_years = [df2018  ,df2019 , df2020 , df2021 , df2022]"
   ]
  },
  {
   "cell_type": "code",
   "execution_count": 5,
   "metadata": {},
   "outputs": [],
   "source": [
    "df_historical = pd.concat(list_years, ignore_index=True )"
   ]
  },
  {
   "cell_type": "code",
   "execution_count": 6,
   "metadata": {},
   "outputs": [],
   "source": [
    "del df_historical['Unnamed: 0']"
   ]
  },
  {
   "cell_type": "code",
   "execution_count": 7,
   "metadata": {},
   "outputs": [
    {
     "data": {
      "text/html": [
       "<div>\n",
       "<style scoped>\n",
       "    .dataframe tbody tr th:only-of-type {\n",
       "        vertical-align: middle;\n",
       "    }\n",
       "\n",
       "    .dataframe tbody tr th {\n",
       "        vertical-align: top;\n",
       "    }\n",
       "\n",
       "    .dataframe thead th {\n",
       "        text-align: right;\n",
       "    }\n",
       "</style>\n",
       "<table border=\"1\" class=\"dataframe\">\n",
       "  <thead>\n",
       "    <tr style=\"text-align: right;\">\n",
       "      <th></th>\n",
       "      <th>track_name</th>\n",
       "      <th>album</th>\n",
       "      <th>track_id</th>\n",
       "      <th>artist</th>\n",
       "      <th>duration</th>\n",
       "      <th>popularity</th>\n",
       "      <th>danceability</th>\n",
       "      <th>energy</th>\n",
       "      <th>key</th>\n",
       "      <th>loudness</th>\n",
       "      <th>mode</th>\n",
       "      <th>speechiness</th>\n",
       "      <th>acousticness</th>\n",
       "      <th>instrumentalness</th>\n",
       "      <th>liveness</th>\n",
       "      <th>valence</th>\n",
       "      <th>tempo</th>\n",
       "      <th>year_playlist</th>\n",
       "      <th>Timeframe</th>\n",
       "    </tr>\n",
       "  </thead>\n",
       "  <tbody>\n",
       "    <tr>\n",
       "      <th>0</th>\n",
       "      <td>Fresas con nata</td>\n",
       "      <td>Fresas con nata</td>\n",
       "      <td>48sq0JdNEbXhQTdAorTzC9</td>\n",
       "      <td>Ayax y Prok</td>\n",
       "      <td>210000</td>\n",
       "      <td>0</td>\n",
       "      <td>0.824</td>\n",
       "      <td>0.617</td>\n",
       "      <td>8</td>\n",
       "      <td>-10.429</td>\n",
       "      <td>1</td>\n",
       "      <td>0.4370</td>\n",
       "      <td>0.126000</td>\n",
       "      <td>0.000000</td>\n",
       "      <td>0.1050</td>\n",
       "      <td>0.814</td>\n",
       "      <td>115.899</td>\n",
       "      <td>2018</td>\n",
       "      <td>NaN</td>\n",
       "    </tr>\n",
       "    <tr>\n",
       "      <th>1</th>\n",
       "      <td>Amén</td>\n",
       "      <td>Pa'l Coche</td>\n",
       "      <td>1PLxoOKyLKqicE5ErhrzkF</td>\n",
       "      <td>Cruz Cafuné</td>\n",
       "      <td>191478</td>\n",
       "      <td>42</td>\n",
       "      <td>0.685</td>\n",
       "      <td>0.480</td>\n",
       "      <td>2</td>\n",
       "      <td>-10.174</td>\n",
       "      <td>0</td>\n",
       "      <td>0.3350</td>\n",
       "      <td>0.130000</td>\n",
       "      <td>0.000000</td>\n",
       "      <td>0.1190</td>\n",
       "      <td>0.440</td>\n",
       "      <td>183.973</td>\n",
       "      <td>2018</td>\n",
       "      <td>NaN</td>\n",
       "    </tr>\n",
       "    <tr>\n",
       "      <th>2</th>\n",
       "      <td>Llórame - Acústico</td>\n",
       "      <td>Llórame (Acústico)</td>\n",
       "      <td>1eFx4b7oW6VGtxGBz6aTrW</td>\n",
       "      <td>Zetazen</td>\n",
       "      <td>233453</td>\n",
       "      <td>45</td>\n",
       "      <td>0.537</td>\n",
       "      <td>0.468</td>\n",
       "      <td>6</td>\n",
       "      <td>-8.551</td>\n",
       "      <td>1</td>\n",
       "      <td>0.0606</td>\n",
       "      <td>0.946000</td>\n",
       "      <td>0.000000</td>\n",
       "      <td>0.0980</td>\n",
       "      <td>0.306</td>\n",
       "      <td>102.725</td>\n",
       "      <td>2018</td>\n",
       "      <td>NaN</td>\n",
       "    </tr>\n",
       "    <tr>\n",
       "      <th>3</th>\n",
       "      <td>Nit salvatge</td>\n",
       "      <td>Nit salvatge</td>\n",
       "      <td>3TwSlfvFPPoz0K1yL1Ujxn</td>\n",
       "      <td>Smoking Souls</td>\n",
       "      <td>259833</td>\n",
       "      <td>40</td>\n",
       "      <td>0.587</td>\n",
       "      <td>0.675</td>\n",
       "      <td>10</td>\n",
       "      <td>-6.734</td>\n",
       "      <td>1</td>\n",
       "      <td>0.0313</td>\n",
       "      <td>0.000089</td>\n",
       "      <td>0.000030</td>\n",
       "      <td>0.0984</td>\n",
       "      <td>0.382</td>\n",
       "      <td>109.978</td>\n",
       "      <td>2018</td>\n",
       "      <td>NaN</td>\n",
       "    </tr>\n",
       "    <tr>\n",
       "      <th>4</th>\n",
       "      <td>Amorfoda</td>\n",
       "      <td>Amorfoda</td>\n",
       "      <td>3ITvHA9zhZZdBJsOsAUegF</td>\n",
       "      <td>Bad Bunny</td>\n",
       "      <td>155675</td>\n",
       "      <td>0</td>\n",
       "      <td>0.742</td>\n",
       "      <td>0.432</td>\n",
       "      <td>9</td>\n",
       "      <td>-7.539</td>\n",
       "      <td>0</td>\n",
       "      <td>0.0615</td>\n",
       "      <td>0.984000</td>\n",
       "      <td>0.000058</td>\n",
       "      <td>0.0796</td>\n",
       "      <td>0.252</td>\n",
       "      <td>148.005</td>\n",
       "      <td>2018</td>\n",
       "      <td>NaN</td>\n",
       "    </tr>\n",
       "    <tr>\n",
       "      <th>...</th>\n",
       "      <td>...</td>\n",
       "      <td>...</td>\n",
       "      <td>...</td>\n",
       "      <td>...</td>\n",
       "      <td>...</td>\n",
       "      <td>...</td>\n",
       "      <td>...</td>\n",
       "      <td>...</td>\n",
       "      <td>...</td>\n",
       "      <td>...</td>\n",
       "      <td>...</td>\n",
       "      <td>...</td>\n",
       "      <td>...</td>\n",
       "      <td>...</td>\n",
       "      <td>...</td>\n",
       "      <td>...</td>\n",
       "      <td>...</td>\n",
       "      <td>...</td>\n",
       "      <td>...</td>\n",
       "    </tr>\n",
       "    <tr>\n",
       "      <th>545</th>\n",
       "      <td>Rockadown Subway Session</td>\n",
       "      <td>Rockadown Subway Session</td>\n",
       "      <td>3bdhZxL276JwNlNsQgu51s</td>\n",
       "      <td>Vanupié</td>\n",
       "      <td>214041</td>\n",
       "      <td>0</td>\n",
       "      <td>0.650</td>\n",
       "      <td>0.648</td>\n",
       "      <td>6</td>\n",
       "      <td>-6.694</td>\n",
       "      <td>0</td>\n",
       "      <td>0.3390</td>\n",
       "      <td>0.525000</td>\n",
       "      <td>0.000000</td>\n",
       "      <td>0.6830</td>\n",
       "      <td>0.792</td>\n",
       "      <td>140.607</td>\n",
       "      <td>2022</td>\n",
       "      <td>long term</td>\n",
       "    </tr>\n",
       "    <tr>\n",
       "      <th>546</th>\n",
       "      <td>Je veux</td>\n",
       "      <td>Zaz</td>\n",
       "      <td>734dz1YaFITwawPpM25fSt</td>\n",
       "      <td>Zaz</td>\n",
       "      <td>215933</td>\n",
       "      <td>68</td>\n",
       "      <td>0.525</td>\n",
       "      <td>0.807</td>\n",
       "      <td>2</td>\n",
       "      <td>-6.366</td>\n",
       "      <td>0</td>\n",
       "      <td>0.0725</td>\n",
       "      <td>0.251000</td>\n",
       "      <td>0.000000</td>\n",
       "      <td>0.0504</td>\n",
       "      <td>0.741</td>\n",
       "      <td>155.397</td>\n",
       "      <td>2022</td>\n",
       "      <td>long term</td>\n",
       "    </tr>\n",
       "    <tr>\n",
       "      <th>547</th>\n",
       "      <td>Redemption Song</td>\n",
       "      <td>Uprising</td>\n",
       "      <td>26PwuMotZqcczKLHi4Htz3</td>\n",
       "      <td>Bob Marley &amp; The Wailers</td>\n",
       "      <td>233560</td>\n",
       "      <td>69</td>\n",
       "      <td>0.671</td>\n",
       "      <td>0.256</td>\n",
       "      <td>7</td>\n",
       "      <td>-10.743</td>\n",
       "      <td>1</td>\n",
       "      <td>0.0387</td>\n",
       "      <td>0.608000</td>\n",
       "      <td>0.000000</td>\n",
       "      <td>0.0737</td>\n",
       "      <td>0.694</td>\n",
       "      <td>115.871</td>\n",
       "      <td>2022</td>\n",
       "      <td>long term</td>\n",
       "    </tr>\n",
       "    <tr>\n",
       "      <th>548</th>\n",
       "      <td>Last Kiss</td>\n",
       "      <td>Last Kiss</td>\n",
       "      <td>0QnONzv3TvHAWk294h6DaQ</td>\n",
       "      <td>Pearl Jam</td>\n",
       "      <td>195466</td>\n",
       "      <td>71</td>\n",
       "      <td>0.622</td>\n",
       "      <td>0.692</td>\n",
       "      <td>7</td>\n",
       "      <td>-6.970</td>\n",
       "      <td>1</td>\n",
       "      <td>0.0276</td>\n",
       "      <td>0.363000</td>\n",
       "      <td>0.000158</td>\n",
       "      <td>0.1930</td>\n",
       "      <td>0.774</td>\n",
       "      <td>112.053</td>\n",
       "      <td>2022</td>\n",
       "      <td>long term</td>\n",
       "    </tr>\n",
       "    <tr>\n",
       "      <th>549</th>\n",
       "      <td>Zinedine</td>\n",
       "      <td>Zinedine</td>\n",
       "      <td>6DYrsZsQMqzA0ZaHmBKUjW</td>\n",
       "      <td>Ayax y Prok</td>\n",
       "      <td>127252</td>\n",
       "      <td>0</td>\n",
       "      <td>0.818</td>\n",
       "      <td>0.630</td>\n",
       "      <td>6</td>\n",
       "      <td>-8.743</td>\n",
       "      <td>0</td>\n",
       "      <td>0.4660</td>\n",
       "      <td>0.025700</td>\n",
       "      <td>0.000000</td>\n",
       "      <td>0.1250</td>\n",
       "      <td>0.846</td>\n",
       "      <td>95.984</td>\n",
       "      <td>2022</td>\n",
       "      <td>long term</td>\n",
       "    </tr>\n",
       "  </tbody>\n",
       "</table>\n",
       "<p>550 rows × 19 columns</p>\n",
       "</div>"
      ],
      "text/plain": [
       "                   track_name                     album  \\\n",
       "0             Fresas con nata           Fresas con nata   \n",
       "1                        Amén                Pa'l Coche   \n",
       "2          Llórame - Acústico        Llórame (Acústico)   \n",
       "3                Nit salvatge              Nit salvatge   \n",
       "4                    Amorfoda                  Amorfoda   \n",
       "..                        ...                       ...   \n",
       "545  Rockadown Subway Session  Rockadown Subway Session   \n",
       "546                   Je veux                       Zaz   \n",
       "547           Redemption Song                  Uprising   \n",
       "548                 Last Kiss                 Last Kiss   \n",
       "549                  Zinedine                  Zinedine   \n",
       "\n",
       "                   track_id                    artist  duration  popularity  \\\n",
       "0    48sq0JdNEbXhQTdAorTzC9               Ayax y Prok    210000           0   \n",
       "1    1PLxoOKyLKqicE5ErhrzkF               Cruz Cafuné    191478          42   \n",
       "2    1eFx4b7oW6VGtxGBz6aTrW                   Zetazen    233453          45   \n",
       "3    3TwSlfvFPPoz0K1yL1Ujxn             Smoking Souls    259833          40   \n",
       "4    3ITvHA9zhZZdBJsOsAUegF                 Bad Bunny    155675           0   \n",
       "..                      ...                       ...       ...         ...   \n",
       "545  3bdhZxL276JwNlNsQgu51s                   Vanupié    214041           0   \n",
       "546  734dz1YaFITwawPpM25fSt                       Zaz    215933          68   \n",
       "547  26PwuMotZqcczKLHi4Htz3  Bob Marley & The Wailers    233560          69   \n",
       "548  0QnONzv3TvHAWk294h6DaQ                 Pearl Jam    195466          71   \n",
       "549  6DYrsZsQMqzA0ZaHmBKUjW               Ayax y Prok    127252           0   \n",
       "\n",
       "     danceability  energy  key  loudness  mode  speechiness  acousticness  \\\n",
       "0           0.824   0.617    8   -10.429     1       0.4370      0.126000   \n",
       "1           0.685   0.480    2   -10.174     0       0.3350      0.130000   \n",
       "2           0.537   0.468    6    -8.551     1       0.0606      0.946000   \n",
       "3           0.587   0.675   10    -6.734     1       0.0313      0.000089   \n",
       "4           0.742   0.432    9    -7.539     0       0.0615      0.984000   \n",
       "..            ...     ...  ...       ...   ...          ...           ...   \n",
       "545         0.650   0.648    6    -6.694     0       0.3390      0.525000   \n",
       "546         0.525   0.807    2    -6.366     0       0.0725      0.251000   \n",
       "547         0.671   0.256    7   -10.743     1       0.0387      0.608000   \n",
       "548         0.622   0.692    7    -6.970     1       0.0276      0.363000   \n",
       "549         0.818   0.630    6    -8.743     0       0.4660      0.025700   \n",
       "\n",
       "     instrumentalness  liveness  valence    tempo  year_playlist  Timeframe  \n",
       "0            0.000000    0.1050    0.814  115.899           2018        NaN  \n",
       "1            0.000000    0.1190    0.440  183.973           2018        NaN  \n",
       "2            0.000000    0.0980    0.306  102.725           2018        NaN  \n",
       "3            0.000030    0.0984    0.382  109.978           2018        NaN  \n",
       "4            0.000058    0.0796    0.252  148.005           2018        NaN  \n",
       "..                ...       ...      ...      ...            ...        ...  \n",
       "545          0.000000    0.6830    0.792  140.607           2022  long term  \n",
       "546          0.000000    0.0504    0.741  155.397           2022  long term  \n",
       "547          0.000000    0.0737    0.694  115.871           2022  long term  \n",
       "548          0.000158    0.1930    0.774  112.053           2022  long term  \n",
       "549          0.000000    0.1250    0.846   95.984           2022  long term  \n",
       "\n",
       "[550 rows x 19 columns]"
      ]
     },
     "execution_count": 7,
     "metadata": {},
     "output_type": "execute_result"
    }
   ],
   "source": [
    "df_historical"
   ]
  },
  {
   "cell_type": "code",
   "execution_count": 8,
   "metadata": {},
   "outputs": [],
   "source": [
    "# New column in seconds, drop miliseconds\n",
    "df_historical['duration_ms'] = round(df_historical['duration']/1000,0)\n",
    "df_historical.drop(\"duration\",axis=1, inplace=True)"
   ]
  },
  {
   "cell_type": "code",
   "execution_count": 9,
   "metadata": {},
   "outputs": [
    {
     "data": {
      "text/html": [
       "<div>\n",
       "<style scoped>\n",
       "    .dataframe tbody tr th:only-of-type {\n",
       "        vertical-align: middle;\n",
       "    }\n",
       "\n",
       "    .dataframe tbody tr th {\n",
       "        vertical-align: top;\n",
       "    }\n",
       "\n",
       "    .dataframe thead th {\n",
       "        text-align: right;\n",
       "    }\n",
       "</style>\n",
       "<table border=\"1\" class=\"dataframe\">\n",
       "  <thead>\n",
       "    <tr style=\"text-align: right;\">\n",
       "      <th></th>\n",
       "      <th>track_name</th>\n",
       "      <th>album</th>\n",
       "      <th>track_id</th>\n",
       "      <th>artist</th>\n",
       "      <th>popularity</th>\n",
       "      <th>danceability</th>\n",
       "      <th>energy</th>\n",
       "      <th>key</th>\n",
       "      <th>loudness</th>\n",
       "      <th>mode</th>\n",
       "      <th>speechiness</th>\n",
       "      <th>acousticness</th>\n",
       "      <th>instrumentalness</th>\n",
       "      <th>liveness</th>\n",
       "      <th>valence</th>\n",
       "      <th>tempo</th>\n",
       "      <th>year_playlist</th>\n",
       "      <th>Timeframe</th>\n",
       "      <th>duration_ms</th>\n",
       "    </tr>\n",
       "  </thead>\n",
       "  <tbody>\n",
       "    <tr>\n",
       "      <th>0</th>\n",
       "      <td>Fresas con nata</td>\n",
       "      <td>Fresas con nata</td>\n",
       "      <td>48sq0JdNEbXhQTdAorTzC9</td>\n",
       "      <td>Ayax y Prok</td>\n",
       "      <td>0</td>\n",
       "      <td>0.824</td>\n",
       "      <td>0.617</td>\n",
       "      <td>8</td>\n",
       "      <td>-10.429</td>\n",
       "      <td>1</td>\n",
       "      <td>0.4370</td>\n",
       "      <td>0.126000</td>\n",
       "      <td>0.000000</td>\n",
       "      <td>0.1050</td>\n",
       "      <td>0.814</td>\n",
       "      <td>115.899</td>\n",
       "      <td>2018</td>\n",
       "      <td>NaN</td>\n",
       "      <td>210.0</td>\n",
       "    </tr>\n",
       "    <tr>\n",
       "      <th>1</th>\n",
       "      <td>Amén</td>\n",
       "      <td>Pa'l Coche</td>\n",
       "      <td>1PLxoOKyLKqicE5ErhrzkF</td>\n",
       "      <td>Cruz Cafuné</td>\n",
       "      <td>42</td>\n",
       "      <td>0.685</td>\n",
       "      <td>0.480</td>\n",
       "      <td>2</td>\n",
       "      <td>-10.174</td>\n",
       "      <td>0</td>\n",
       "      <td>0.3350</td>\n",
       "      <td>0.130000</td>\n",
       "      <td>0.000000</td>\n",
       "      <td>0.1190</td>\n",
       "      <td>0.440</td>\n",
       "      <td>183.973</td>\n",
       "      <td>2018</td>\n",
       "      <td>NaN</td>\n",
       "      <td>191.0</td>\n",
       "    </tr>\n",
       "    <tr>\n",
       "      <th>2</th>\n",
       "      <td>Llórame - Acústico</td>\n",
       "      <td>Llórame (Acústico)</td>\n",
       "      <td>1eFx4b7oW6VGtxGBz6aTrW</td>\n",
       "      <td>Zetazen</td>\n",
       "      <td>45</td>\n",
       "      <td>0.537</td>\n",
       "      <td>0.468</td>\n",
       "      <td>6</td>\n",
       "      <td>-8.551</td>\n",
       "      <td>1</td>\n",
       "      <td>0.0606</td>\n",
       "      <td>0.946000</td>\n",
       "      <td>0.000000</td>\n",
       "      <td>0.0980</td>\n",
       "      <td>0.306</td>\n",
       "      <td>102.725</td>\n",
       "      <td>2018</td>\n",
       "      <td>NaN</td>\n",
       "      <td>233.0</td>\n",
       "    </tr>\n",
       "    <tr>\n",
       "      <th>3</th>\n",
       "      <td>Nit salvatge</td>\n",
       "      <td>Nit salvatge</td>\n",
       "      <td>3TwSlfvFPPoz0K1yL1Ujxn</td>\n",
       "      <td>Smoking Souls</td>\n",
       "      <td>40</td>\n",
       "      <td>0.587</td>\n",
       "      <td>0.675</td>\n",
       "      <td>10</td>\n",
       "      <td>-6.734</td>\n",
       "      <td>1</td>\n",
       "      <td>0.0313</td>\n",
       "      <td>0.000089</td>\n",
       "      <td>0.000030</td>\n",
       "      <td>0.0984</td>\n",
       "      <td>0.382</td>\n",
       "      <td>109.978</td>\n",
       "      <td>2018</td>\n",
       "      <td>NaN</td>\n",
       "      <td>260.0</td>\n",
       "    </tr>\n",
       "    <tr>\n",
       "      <th>4</th>\n",
       "      <td>Amorfoda</td>\n",
       "      <td>Amorfoda</td>\n",
       "      <td>3ITvHA9zhZZdBJsOsAUegF</td>\n",
       "      <td>Bad Bunny</td>\n",
       "      <td>0</td>\n",
       "      <td>0.742</td>\n",
       "      <td>0.432</td>\n",
       "      <td>9</td>\n",
       "      <td>-7.539</td>\n",
       "      <td>0</td>\n",
       "      <td>0.0615</td>\n",
       "      <td>0.984000</td>\n",
       "      <td>0.000058</td>\n",
       "      <td>0.0796</td>\n",
       "      <td>0.252</td>\n",
       "      <td>148.005</td>\n",
       "      <td>2018</td>\n",
       "      <td>NaN</td>\n",
       "      <td>156.0</td>\n",
       "    </tr>\n",
       "  </tbody>\n",
       "</table>\n",
       "</div>"
      ],
      "text/plain": [
       "           track_name               album                track_id  \\\n",
       "0     Fresas con nata     Fresas con nata  48sq0JdNEbXhQTdAorTzC9   \n",
       "1                Amén          Pa'l Coche  1PLxoOKyLKqicE5ErhrzkF   \n",
       "2  Llórame - Acústico  Llórame (Acústico)  1eFx4b7oW6VGtxGBz6aTrW   \n",
       "3        Nit salvatge        Nit salvatge  3TwSlfvFPPoz0K1yL1Ujxn   \n",
       "4            Amorfoda            Amorfoda  3ITvHA9zhZZdBJsOsAUegF   \n",
       "\n",
       "          artist  popularity  danceability  energy  key  loudness  mode  \\\n",
       "0    Ayax y Prok           0         0.824   0.617    8   -10.429     1   \n",
       "1    Cruz Cafuné          42         0.685   0.480    2   -10.174     0   \n",
       "2        Zetazen          45         0.537   0.468    6    -8.551     1   \n",
       "3  Smoking Souls          40         0.587   0.675   10    -6.734     1   \n",
       "4      Bad Bunny           0         0.742   0.432    9    -7.539     0   \n",
       "\n",
       "   speechiness  acousticness  instrumentalness  liveness  valence    tempo  \\\n",
       "0       0.4370      0.126000          0.000000    0.1050    0.814  115.899   \n",
       "1       0.3350      0.130000          0.000000    0.1190    0.440  183.973   \n",
       "2       0.0606      0.946000          0.000000    0.0980    0.306  102.725   \n",
       "3       0.0313      0.000089          0.000030    0.0984    0.382  109.978   \n",
       "4       0.0615      0.984000          0.000058    0.0796    0.252  148.005   \n",
       "\n",
       "   year_playlist Timeframe  duration_ms  \n",
       "0           2018       NaN        210.0  \n",
       "1           2018       NaN        191.0  \n",
       "2           2018       NaN        233.0  \n",
       "3           2018       NaN        260.0  \n",
       "4           2018       NaN        156.0  "
      ]
     },
     "execution_count": 9,
     "metadata": {},
     "output_type": "execute_result"
    }
   ],
   "source": [
    "df_historical.head()"
   ]
  },
  {
   "cell_type": "code",
   "execution_count": 10,
   "metadata": {},
   "outputs": [
    {
     "data": {
      "text/plain": [
       "track_name            0\n",
       "album                 0\n",
       "track_id              0\n",
       "artist                0\n",
       "popularity            0\n",
       "danceability          0\n",
       "energy                0\n",
       "key                   0\n",
       "loudness              0\n",
       "mode                  0\n",
       "speechiness           0\n",
       "acousticness          0\n",
       "instrumentalness      0\n",
       "liveness              0\n",
       "valence               0\n",
       "tempo                 0\n",
       "year_playlist         0\n",
       "Timeframe           400\n",
       "duration_ms           0\n",
       "dtype: int64"
      ]
     },
     "execution_count": 10,
     "metadata": {},
     "output_type": "execute_result"
    }
   ],
   "source": [
    "df_historical.isna().sum()"
   ]
  },
  {
   "cell_type": "code",
   "execution_count": 11,
   "metadata": {},
   "outputs": [
    {
     "data": {
      "text/plain": [
       "Index(['track_name', 'album', 'track_id', 'artist', 'popularity',\n",
       "       'danceability', 'energy', 'key', 'loudness', 'mode', 'speechiness',\n",
       "       'acousticness', 'instrumentalness', 'liveness', 'valence', 'tempo',\n",
       "       'year_playlist', 'Timeframe', 'duration_ms'],\n",
       "      dtype='object')"
      ]
     },
     "execution_count": 11,
     "metadata": {},
     "output_type": "execute_result"
    }
   ],
   "source": [
    "df_historical.columns"
   ]
  },
  {
   "cell_type": "code",
   "execution_count": 12,
   "metadata": {},
   "outputs": [],
   "source": [
    "del df_historical['Timeframe']"
   ]
  },
  {
   "cell_type": "code",
   "execution_count": 13,
   "metadata": {},
   "outputs": [],
   "source": [
    "df_duplic = df_historical[df_historical.duplicated()]"
   ]
  },
  {
   "cell_type": "code",
   "execution_count": 14,
   "metadata": {},
   "outputs": [
    {
     "name": "stdout",
     "output_type": "stream",
     "text": [
      "                                      track_name  \\\n",
      "450                             No Me digas Nada   \n",
      "451        Quevedo: Bzrp Music Sessions, Vol. 52   \n",
      "453                              Ahora y Siempre   \n",
      "455                                      Nonstop   \n",
      "460                                 Buenos Genes   \n",
      "462                            Los mismos clavos   \n",
      "467                             Wild Irish Roses   \n",
      "472                               Duerme Conmigo   \n",
      "480                     Won't Bite (feat. Smino)   \n",
      "485                                     Everlong   \n",
      "486                                      My Hero   \n",
      "498                              MAN ON THE MOON   \n",
      "508                             No Me digas Nada   \n",
      "512        Quevedo: Bzrp Music Sessions, Vol. 52   \n",
      "538  Livin It Up (with Post Malone & A$AP Rocky)   \n",
      "539                              Ahora y Siempre   \n",
      "\n",
      "                                     album                track_id  \\\n",
      "450                       No Me digas Nada  15wMJJiVpt2ABQw032Rywi   \n",
      "451  Quevedo: Bzrp Music Sessions, Vol. 52  2tTmW7RDtMQtBk7m2rYeSw   \n",
      "453                        Ahora y Siempre  4iaNmAvcZ6sPGvgZ6vQQdx   \n",
      "455                                Nonstop  7ANJlQ67bYtNz0rNUFL0E2   \n",
      "460                      Flakk Daniel's Lp  76NtMPMpA6fuUH4euMYZoD   \n",
      "462      Las aceras estan llenas de piojos  61K7dM7FIxTRf0vLM5rZBP   \n",
      "467                                 blkswn  6efkcs2aUBMFKxl0cl2JWQ   \n",
      "472                               Revolcón  5LcXfZNKemUkLyAXT0jSQM   \n",
      "480                               Hot Pink  7k51pIqTGEHHZOnpI11Qq2   \n",
      "485               The Colour And The Shape  5UWwZ5lm5PKu6eKsHAGxOk   \n",
      "486               The Colour And The Shape  4dVbhS6OiYvFikshyaQaCN   \n",
      "498                                     TM  3UdquFlgsSBKueNRHgjOiG   \n",
      "508                       No Me digas Nada  15wMJJiVpt2ABQw032Rywi   \n",
      "512  Quevedo: Bzrp Music Sessions, Vol. 52  2tTmW7RDtMQtBk7m2rYeSw   \n",
      "538                                   Punk  7zjEyeBsaw9gV0jofJLfOM   \n",
      "539                        Ahora y Siempre  4iaNmAvcZ6sPGvgZ6vQQdx   \n",
      "\n",
      "           artist  popularity  danceability  energy  key  loudness  mode  \\\n",
      "450       Quevedo          78         0.490   0.692    7    -4.291     1   \n",
      "451      Bizarrap          97         0.621   0.782    2    -5.548     1   \n",
      "453       Quevedo          76         0.659   0.629    4    -7.860     1   \n",
      "455       Quevedo          64         0.733   0.578    9    -8.175     1   \n",
      "460        Rels B          71         0.804   0.535    4    -8.603     0   \n",
      "462         Marea          51         0.629   0.488    9   -10.248     0   \n",
      "467         Smino          68         0.639   0.295    0   -11.237     0   \n",
      "472         Marea          45         0.471   0.951    1    -4.173     0   \n",
      "480      Doja Cat          66         0.807   0.783    5    -3.115     1   \n",
      "485  Foo Fighters          83         0.413   0.881   11    -5.541     0   \n",
      "486  Foo Fighters          75         0.398   0.927    9    -4.212     1   \n",
      "498  BROCKHAMPTON          64         0.736   0.737    7    -7.726     1   \n",
      "508       Quevedo          78         0.490   0.692    7    -4.291     1   \n",
      "512      Bizarrap          97         0.621   0.782    2    -5.548     1   \n",
      "538    Young Thug          73         0.767   0.313    7   -12.059     1   \n",
      "539       Quevedo          76         0.659   0.629    4    -7.860     1   \n",
      "\n",
      "     speechiness  acousticness  instrumentalness  liveness  valence    tempo  \\\n",
      "450       0.2740      0.336000          0.000000    0.6590    0.484  102.160   \n",
      "451       0.0440      0.012500          0.033000    0.2300    0.550  128.033   \n",
      "453       0.0825      0.716000          0.000000    0.4220    0.416  118.964   \n",
      "455       0.0889      0.110000          0.000000    0.4560    0.293  139.045   \n",
      "460       0.1430      0.486000          0.000000    0.1080    0.628  151.957   \n",
      "462       0.0373      0.847000          0.005050    0.1020    0.801  101.724   \n",
      "467       0.5440      0.554000          0.000031    0.3000    0.634   86.947   \n",
      "472       0.1220      0.001600          0.000005    0.2880    0.556   90.522   \n",
      "480       0.0964      0.351000          0.000000    0.1400    0.592  127.996   \n",
      "485       0.0367      0.000060          0.000308    0.0805    0.364  158.066   \n",
      "486       0.0567      0.000062          0.000177    0.0575    0.311   77.106   \n",
      "498       0.0437      0.073200          0.631000    0.1090    0.534  145.006   \n",
      "508       0.2740      0.336000          0.000000    0.6590    0.484  102.160   \n",
      "512       0.0440      0.012500          0.033000    0.2300    0.550  128.033   \n",
      "538       0.0798      0.838000          0.000000    0.1050    0.765   82.582   \n",
      "539       0.0825      0.716000          0.000000    0.4220    0.416  118.964   \n",
      "\n",
      "     year_playlist  duration_ms  \n",
      "450           2022        148.0  \n",
      "451           2022        199.0  \n",
      "453           2022        149.0  \n",
      "455           2022        230.0  \n",
      "460           2022        245.0  \n",
      "462           2022        154.0  \n",
      "467           2022        169.0  \n",
      "472           2022        218.0  \n",
      "480           2022        195.0  \n",
      "485           2022        251.0  \n",
      "486           2022        260.0  \n",
      "498           2022        241.0  \n",
      "508           2022        148.0  \n",
      "512           2022        199.0  \n",
      "538           2022        211.0  \n",
      "539           2022        149.0  \n"
     ]
    }
   ],
   "source": [
    "print(df_duplic)\n",
    "#make sense to have duplicates in some of the last rows because the last 150 songs are wrapped from my short,mid and long term of songs that I'm currently listening. (API of spotify)"
   ]
  },
  {
   "cell_type": "code",
   "execution_count": 15,
   "metadata": {},
   "outputs": [],
   "source": [
    "df_historical.drop_duplicates(inplace=True)"
   ]
  },
  {
   "cell_type": "code",
   "execution_count": 16,
   "metadata": {},
   "outputs": [
    {
     "data": {
      "text/plain": [
       "(534, 18)"
      ]
     },
     "execution_count": 16,
     "metadata": {},
     "output_type": "execute_result"
    }
   ],
   "source": [
    "df_historical.shape"
   ]
  },
  {
   "cell_type": "code",
   "execution_count": 17,
   "metadata": {},
   "outputs": [
    {
     "data": {
      "text/plain": [
       "Text(0, 0.5, 'Number of songs')"
      ]
     },
     "execution_count": 17,
     "metadata": {},
     "output_type": "execute_result"
    },
    {
     "data": {
      "image/png": "[encoded data removed]",
      "text/plain": [
       "<Figure size 640x480 with 1 Axes>"
      ]
     },
     "metadata": {},
     "output_type": "display_data"
    }
   ],
   "source": [
    "plt.hist(df_historical['duration_ms'], color = 'green')\n",
    "plt.xlabel('Time in seconds')\n",
    "plt.ylabel('Number of songs')"
   ]
  },
  {
   "cell_type": "code",
   "execution_count": 18,
   "metadata": {},
   "outputs": [
    {
     "data": {
      "text/plain": [
       "Text(0, 0.5, 'Number of songs')"
      ]
     },
     "execution_count": 18,
     "metadata": {},
     "output_type": "execute_result"
    },
    {
     "data": {
      "image/png": "[encoded data removed]",
      "text/plain": [
       "<Figure size 640x480 with 1 Axes>"
      ]
     },
     "metadata": {},
     "output_type": "display_data"
    }
   ],
   "source": [
    "plt.plot(df_historical['duration_ms'], color = 'green')\n",
    "  \n",
    "plt.xlabel('Time in seconds')\n",
    "plt.ylabel('Number of songs')"
   ]
  },
  {
   "cell_type": "code",
   "execution_count": 19,
   "metadata": {},
   "outputs": [],
   "source": [
    "#df_historical.to_csv('my_historic_spotify.csv')"
   ]
  },
  {
   "cell_type": "markdown",
   "metadata": {},
   "source": [
    "# EDA"
   ]
  },
  {
   "cell_type": "code",
   "execution_count": 20,
   "metadata": {},
   "outputs": [],
   "source": [
    "#df_historical= pd.read_csv('/Users/jaimesastrecrespo/DAFT_1022/Final_project/spotify_App/my_historic_spotify.csv')"
   ]
  },
  {
   "cell_type": "code",
   "execution_count": 21,
   "metadata": {},
   "outputs": [
    {
     "data": {
      "image/png": "[encoded data removed]",
      "text/plain": [
       "<Figure size 640x480 with 2 Axes>"
      ]
     },
     "metadata": {},
     "output_type": "display_data"
    }
   ],
   "source": [
    "sns.heatmap(df_historical.corr());"
   ]
  },
  {
   "cell_type": "code",
   "execution_count": 22,
   "metadata": {},
   "outputs": [
    {
     "data": {
      "text/html": [
       "\n",
       "<div id=\"altair-viz-7819d01d011b40dd984af5adcba8c567\"></div>\n",
       "<script type=\"text/javascript\">\n",
       "  var VEGA_DEBUG = (typeof VEGA_DEBUG == \"undefined\") ? {} : VEGA_DEBUG;\n",
       "  (function(spec, embedOpt){\n",
       "    let outputDiv = document.currentScript.previousElementSibling;\n",
       "    if (outputDiv.id !== \"altair-viz-7819d01d011b40dd984af5adcba8c567\") {\n",
       "      outputDiv = document.getElementById(\"altair-viz-7819d01d011b40dd984af5adcba8c567\");\n",
       "    }\n",
       "    const paths = {\n",
       "      \"vega\": \"https://cdn.jsdelivr.net/npm//vega@5?noext\",\n",
       "      \"vega-lib\": \"https://cdn.jsdelivr.net/npm//vega-lib?noext\",\n",
       "      \"vega-lite\": \"https://cdn.jsdelivr.net/npm//vega-lite@4.17.0?noext\",\n",
       "      \"vega-embed\": \"https://cdn.jsdelivr.net/npm//vega-embed@6?noext\",\n",
       "    };\n",
       "\n",
       "    function maybeLoadScript(lib, version) {\n",
       "      var key = `${lib.replace(\"-\", \"\")}_version`;\n",
       "      return (VEGA_DEBUG[key] == version) ?\n",
       "        Promise.resolve(paths[lib]) :\n",
       "        new Promise(function(resolve, reject) {\n",
       "          var s = document.createElement('script');\n",
       "          document.getElementsByTagName(\"head\")[0].appendChild(s);\n",
       "          s.async = true;\n",
       "          s.onload = () => {\n",
       "            VEGA_DEBUG[key] = version;\n",
       "            return resolve(paths[lib]);\n",
       "          };\n",
       "          s.onerror = () => reject(`Error loading script: ${paths[lib]}`);\n",
       "          s.src = paths[lib];\n",
       "        });\n",
       "    }\n",
       "\n",
       "    function showError(err) {\n",
       "      outputDiv.innerHTML = `<div class=\"error\" style=\"color:red;\">${err}</div>`;\n",
       "      throw err;\n",
       "    }\n",
       "\n",
       "    function displayChart(vegaEmbed) {\n",
       "      vegaEmbed(outputDiv, spec, embedOpt)\n",
       "        .catch(err => showError(`Javascript Error: ${err.message}<br>This usually means there's a typo in your chart specification. See the javascript console for the full traceback.`));\n",
       "    }\n",
       "\n",
       "    if(typeof define === \"function\" && define.amd) {\n",
       "      requirejs.config({paths});\n",
       "      require([\"vega-embed\"], displayChart, err => showError(`Error loading script: ${err.message}`));\n",
       "    } else {\n",
       "      maybeLoadScript(\"vega\", \"5\")\n",
       "        .then(() => maybeLoadScript(\"vega-lite\", \"4.17.0\"))\n",
       "        .then(() => maybeLoadScript(\"vega-embed\", \"6\"))\n",
       "        .catch(showError)\n",
       "        .then(() => displayChart(vegaEmbed));\n",
       "    }\n",
       "  })({\"config\": {\"view\": {\"continuousWidth\": 400, \"continuousHeight\": 300}, \"mark\": {\"color\": \"green\", \"opacity\": 0.2}}, \"data\": {\"name\": \"data-9c329185a06287408959b5670ecf8750\"}, \"mark\": \"bar\", \"encoding\": {\"x\": {\"bin\": true, \"field\": \"tempo\", \"type\": \"quantitative\"}, \"y\": {\"aggregate\": \"count\", \"type\": \"quantitative\"}}, \"height\": 300, \"width\": 400, \"$schema\": \"https://vega.github.io/schema/vega-lite/v4.17.0.json\", \"datasets\": {\"data-9c329185a06287408959b5670ecf8750\": [{\"track_name\": \"Fresas con nata\", \"album\": \"Fresas con nata\", \"track_id\": \"48sq0JdNEbXhQTdAorTzC9\", \"artist\": \"Ayax y Prok\", \"popularity\": 0, \"danceability\": 0.824, \"energy\": 0.617, \"key\": 8, \"loudness\": -10.429, \"mode\": 1, \"speechiness\": 0.437, \"acousticness\": 0.126, \"instrumentalness\": 0.0, \"liveness\": 0.105, \"valence\": 0.814, \"tempo\": 115.899, \"year_playlist\": 2018, \"duration_ms\": 210.0}, {\"track_name\": \"Am\\u00e9n\", \"album\": \"Pa'l Coche\", \"track_id\": \"1PLxoOKyLKqicE5ErhrzkF\", \"artist\": \"Cruz Cafun\\u00e9\", \"popularity\": 42, \"danceability\": 0.685, \"energy\": 0.48, \"key\": 2, \"loudness\": -10.174, \"mode\": 0, \"speechiness\": 0.335, \"acousticness\": 0.13, \"instrumentalness\": 0.0, \"liveness\": 0.119, \"valence\": 0.44, \"tempo\": 183.973, \"year_playlist\": 2018, \"duration_ms\": 191.0}, {\"track_name\": \"Ll\\u00f3rame - Ac\\u00fastico\", \"album\": \"Ll\\u00f3rame (Ac\\u00fastico)\", \"track_id\": \"1eFx4b7oW6VGtxGBz6aTrW\", \"artist\": \"Zetazen\", \"popularity\": 45, \"danceability\": 0.537, \"energy\": 0.468, \"key\": 6, \"loudness\": -8.551, \"mode\": 1, \"speechiness\": 0.0606, \"acousticness\": 0.946, \"instrumentalness\": 0.0, \"liveness\": 0.098, \"valence\": 0.306, \"tempo\": 102.725, \"year_playlist\": 2018, \"duration_ms\": 233.0}, {\"track_name\": \"Nit salvatge\", \"album\": \"Nit salvatge\", \"track_id\": \"3TwSlfvFPPoz0K1yL1Ujxn\", \"artist\": \"Smoking Souls\", \"popularity\": 40, \"danceability\": 0.587, \"energy\": 0.675, \"key\": 10, \"loudness\": -6.734, \"mode\": 1, \"speechiness\": 0.0313, \"acousticness\": 8.93e-05, \"instrumentalness\": 3e-05, \"liveness\": 0.0984, \"valence\": 0.382, \"tempo\": 109.978, \"year_playlist\": 2018, \"duration_ms\": 260.0}, {\"track_name\": \"Amorfoda\", \"album\": \"Amorfoda\", \"track_id\": \"3ITvHA9zhZZdBJsOsAUegF\", \"artist\": \"Bad Bunny\", \"popularity\": 0, \"danceability\": 0.742, \"energy\": 0.432, \"key\": 9, \"loudness\": -7.539, \"mode\": 0, \"speechiness\": 0.0615, \"acousticness\": 0.984, \"instrumentalness\": 5.78e-05, \"liveness\": 0.0796, \"valence\": 0.252, \"tempo\": 148.005, \"year_playlist\": 2018, \"duration_ms\": 156.0}, {\"track_name\": \"Ermita\\u00f1o\", \"album\": \"Astola & Raton: El Hombre Caracol\", \"track_id\": \"3lzFbNgtkFbxFCFnNR2RpY\", \"artist\": \"Astola\", \"popularity\": 37, \"danceability\": 0.756, \"energy\": 0.543, \"key\": 4, \"loudness\": -7.488, \"mode\": 0, \"speechiness\": 0.133, \"acousticness\": 0.782, \"instrumentalness\": 0.0, \"liveness\": 0.286, \"valence\": 0.572, \"tempo\": 99.947, \"year_playlist\": 2018, \"duration_ms\": 212.0}, {\"track_name\": \"C\\u00f3seme\", \"album\": \"C\\u00f3seme\", \"track_id\": \"5sCsByfBo3PGK4IHnNDaHk\", \"artist\": \"Beret\", \"popularity\": 0, \"danceability\": 0.572, \"energy\": 0.0434, \"key\": 9, \"loudness\": -31.042, \"mode\": 1, \"speechiness\": 0.093, \"acousticness\": 0.852, \"instrumentalness\": 0.0, \"liveness\": 0.086, \"valence\": 0.628, \"tempo\": 155.833, \"year_playlist\": 2018, \"duration_ms\": 199.0}, {\"track_name\": \"HUMBLE.\", \"album\": \"DAMN.\", \"track_id\": \"7ujx3NYtwO2LkmKGz59mXp\", \"artist\": \"Kendrick Lamar\", \"popularity\": 0, \"danceability\": 0.906, \"energy\": 0.625, \"key\": 1, \"loudness\": -6.779, \"mode\": 0, \"speechiness\": 0.0903, \"acousticness\": 0.000243, \"instrumentalness\": 3.23e-05, \"liveness\": 0.0975, \"valence\": 0.423, \"tempo\": 150.018, \"year_playlist\": 2018, \"duration_ms\": 177.0}, {\"track_name\": \"180\", \"album\": \"Temerario\", \"track_id\": \"2UiSGcM0uHDtrCkDKhrIFe\", \"artist\": \"Itaca Band\", \"popularity\": 38, \"danceability\": 0.702, \"energy\": 0.722, \"key\": 10, \"loudness\": -6.406, \"mode\": 0, \"speechiness\": 0.0445, \"acousticness\": 0.0187, \"instrumentalness\": 0.0, \"liveness\": 0.335, \"valence\": 0.722, \"tempo\": 101.976, \"year_playlist\": 2018, \"duration_ms\": 226.0}, {\"track_name\": \"Underground Kings\", \"album\": \"Underground Kings\", \"track_id\": \"4SYXip1osWjtyHYgLB0YPB\", \"artist\": \"Natos y Waor\", \"popularity\": 0, \"danceability\": 0.793, \"energy\": 0.812, \"key\": 10, \"loudness\": -6.989, \"mode\": 0, \"speechiness\": 0.188, \"acousticness\": 0.0651, \"instrumentalness\": 2.55e-05, \"liveness\": 0.106, \"valence\": 0.404, \"tempo\": 119.97, \"year_playlist\": 2018, \"duration_ms\": 162.0}, {\"track_name\": \"Comiendote a Besos\", \"album\": \"Con Derecho A...\", \"track_id\": \"02FKjeU8CrA2ckppBa5RJg\", \"artist\": \"Rozal\\u00e9n\", \"popularity\": 58, \"danceability\": 0.585, \"energy\": 0.539, \"key\": 0, \"loudness\": -5.105, \"mode\": 1, \"speechiness\": 0.039, \"acousticness\": 0.603, \"instrumentalness\": 0.0, \"liveness\": 0.229, \"valence\": 0.5, \"tempo\": 120.095, \"year_playlist\": 2018, \"duration_ms\": 242.0}, {\"track_name\": \"Desahucio\", \"album\": \"Cara y cruz\", \"track_id\": \"5BruCMljVpEoMoOZkISuVF\", \"artist\": \"Ayax y Prok\", \"popularity\": 0, \"danceability\": 0.846, \"energy\": 0.847, \"key\": 1, \"loudness\": -4.42, \"mode\": 1, \"speechiness\": 0.248, \"acousticness\": 0.135, \"instrumentalness\": 0.0, \"liveness\": 0.0889, \"valence\": 0.788, \"tempo\": 93.034, \"year_playlist\": 2018, \"duration_ms\": 205.0}, {\"track_name\": \"Un Fleje - Wayne Chiquitito Skit\", \"album\": \"Maracucho Bueno Muere Chiquito\", \"track_id\": \"53uSDlON1m3xjFNtU7lHWS\", \"artist\": \"Cruz Cafun\\u00e9\", \"popularity\": 29, \"danceability\": 0.664, \"energy\": 0.822, \"key\": 8, \"loudness\": -5.459, \"mode\": 1, \"speechiness\": 0.451, \"acousticness\": 0.0508, \"instrumentalness\": 0.000541, \"liveness\": 0.468, \"valence\": 0.535, \"tempo\": 152.117, \"year_playlist\": 2018, \"duration_ms\": 97.0}, {\"track_name\": \"Ya Ver\\u00e1s (with Andr\\u00e9s Su\\u00e1rez)\", \"album\": \"Dual\", \"track_id\": \"2kqpy5UXO6qhJ3KXSYkq0V\", \"artist\": \"Funambulista\", \"popularity\": 45, \"danceability\": 0.567, \"energy\": 0.625, \"key\": 10, \"loudness\": -5.55, \"mode\": 1, \"speechiness\": 0.0301, \"acousticness\": 0.167, \"instrumentalness\": 0.0, \"liveness\": 0.203, \"valence\": 0.309, \"tempo\": 138.956, \"year_playlist\": 2018, \"duration_ms\": 247.0}, {\"track_name\": \"Eterna for\\u00e7a\", \"album\": \"Cendra i or\", \"track_id\": \"4spTl4KIfouK44y8U2xhts\", \"artist\": \"Smoking Souls\", \"popularity\": 33, \"danceability\": 0.623, \"energy\": 0.561, \"key\": 9, \"loudness\": -7.22, \"mode\": 1, \"speechiness\": 0.0393, \"acousticness\": 0.0121, \"instrumentalness\": 0.0, \"liveness\": 0.102, \"valence\": 0.257, \"tempo\": 101.999, \"year_playlist\": 2018, \"duration_ms\": 227.0}, {\"track_name\": \"Cuarteles de Invierno (#magasingle)\", \"album\": \"Cuarteles de Invierno (#magasingle)\", \"track_id\": \"7eUvn1e7wXWfPOGNjifItz\", \"artist\": \"Vetusta Morla\", \"popularity\": 25, \"danceability\": 0.472, \"energy\": 0.74, \"key\": 9, \"loudness\": -5.675, \"mode\": 1, \"speechiness\": 0.0341, \"acousticness\": 0.659, \"instrumentalness\": 3.95e-05, \"liveness\": 0.104, \"valence\": 0.424, \"tempo\": 169.879, \"year_playlist\": 2018, \"duration_ms\": 239.0}, {\"track_name\": \"Guerrera\", \"album\": \"Guerrera\", \"track_id\": \"3Q6zROQvMXRtR9NYfDpNWL\", \"artist\": \"DELLAFUENTE\", \"popularity\": 61, \"danceability\": 0.76, \"energy\": 0.605, \"key\": 6, \"loudness\": -6.122, \"mode\": 1, \"speechiness\": 0.052, \"acousticness\": 0.165, \"instrumentalness\": 0.0, \"liveness\": 0.185, \"valence\": 0.644, \"tempo\": 115.09, \"year_playlist\": 2018, \"duration_ms\": 209.0}, {\"track_name\": \"Capit\\u00e1n Cobarde\", \"album\": \"Palabras Del Capit\\u00e1n Cobarde\", \"track_id\": \"4bO6qABw4zTcA9mp37Q5uI\", \"artist\": \"Albertucho\", \"popularity\": 36, \"danceability\": 0.587, \"energy\": 0.512, \"key\": 0, \"loudness\": -6.658, \"mode\": 1, \"speechiness\": 0.0386, \"acousticness\": 0.435, \"instrumentalness\": 2.51e-06, \"liveness\": 0.155, \"valence\": 0.267, \"tempo\": 119.948, \"year_playlist\": 2018, \"duration_ms\": 240.0}, {\"track_name\": \"SAD!\", \"album\": \"?\", \"track_id\": \"3ee8Jmje8o58CHK66QrVC2\", \"artist\": \"XXXTENTACION\", \"popularity\": 83, \"danceability\": 0.74, \"energy\": 0.613, \"key\": 8, \"loudness\": -4.88, \"mode\": 1, \"speechiness\": 0.145, \"acousticness\": 0.258, \"instrumentalness\": 0.00372, \"liveness\": 0.123, \"valence\": 0.473, \"tempo\": 75.023, \"year_playlist\": 2018, \"duration_ms\": 167.0}, {\"track_name\": \"El Tren Hurac\\u00e1n\", \"album\": \"El Tren Hurac\\u00e1n\", \"track_id\": \"0CouSp6wkZKvAhvY6aLFGe\", \"artist\": \"La Ra\\u00edz\", \"popularity\": 48, \"danceability\": 0.704, \"energy\": 0.792, \"key\": 2, \"loudness\": -8.732, \"mode\": 1, \"speechiness\": 0.0513, \"acousticness\": 0.0483, \"instrumentalness\": 0.0, \"liveness\": 0.0691, \"valence\": 0.58, \"tempo\": 120.031, \"year_playlist\": 2018, \"duration_ms\": 252.0}, {\"track_name\": \"Dime Quien Ama de Verdad\", \"album\": \"In\\u00e9ditos\", \"track_id\": \"0GeUyDNaZe5LSvyaYS1boH\", \"artist\": \"Beret\", \"popularity\": 0, \"danceability\": 0.762, \"energy\": 0.407, \"key\": 1, \"loudness\": -9.658, \"mode\": 1, \"speechiness\": 0.425, \"acousticness\": 0.51, \"instrumentalness\": 0.0, \"liveness\": 0.135, \"valence\": 0.633, \"tempo\": 82.062, \"year_playlist\": 2018, \"duration_ms\": 178.0}, {\"track_name\": \"La prueba\", \"album\": \"Anclas\", \"track_id\": \"1nFGiBwxm86hI93MO3wsLI\", \"artist\": \"Gata Cattana\", \"popularity\": 0, \"danceability\": 0.357, \"energy\": 0.66, \"key\": 7, \"loudness\": -11.227, \"mode\": 0, \"speechiness\": 0.134, \"acousticness\": 0.0553, \"instrumentalness\": 0.0316, \"liveness\": 0.104, \"valence\": 0.236, \"tempo\": 139.771, \"year_playlist\": 2018, \"duration_ms\": 296.0}, {\"track_name\": \"Rude Girl\", \"album\": \"Dol\\u00e7 Atac (Studio)\", \"track_id\": \"4WEpx43cE3iz2uzjVOkxkH\", \"artist\": \"Auxili\", \"popularity\": 42, \"danceability\": 0.858, \"energy\": 0.888, \"key\": 0, \"loudness\": -5.069, \"mode\": 1, \"speechiness\": 0.0417, \"acousticness\": 0.212, \"instrumentalness\": 2.63e-06, \"liveness\": 0.0378, \"valence\": 0.843, \"tempo\": 137.978, \"year_playlist\": 2018, \"duration_ms\": 167.0}, {\"track_name\": \"Cuenta Conmigo\", \"album\": \"Maracucho Bueno Muere Chiquito\", \"track_id\": \"09mher1pkrrvgc5PKBbvxS\", \"artist\": \"Cruz Cafun\\u00e9\", \"popularity\": 43, \"danceability\": 0.807, \"energy\": 0.451, \"key\": 6, \"loudness\": -7.177, \"mode\": 0, \"speechiness\": 0.0416, \"acousticness\": 0.155, \"instrumentalness\": 0.0, \"liveness\": 0.107, \"valence\": 0.364, \"tempo\": 120.06, \"year_playlist\": 2018, \"duration_ms\": 213.0}, {\"track_name\": \"Temerario\", \"album\": \"Temerario\", \"track_id\": \"1nO2vGrP18kP5ok92k3MOH\", \"artist\": \"Itaca Band\", \"popularity\": 42, \"danceability\": 0.65, \"energy\": 0.804, \"key\": 2, \"loudness\": -8.147, \"mode\": 0, \"speechiness\": 0.0575, \"acousticness\": 0.0167, \"instrumentalness\": 0.0, \"liveness\": 0.0976, \"valence\": 0.879, \"tempo\": 150.028, \"year_playlist\": 2018, \"duration_ms\": 202.0}, {\"track_name\": \"Ese cosquilleo\", \"album\": \"Cara y cruz\", \"track_id\": \"6Zcyvk9QmBpdyk93LmsqzL\", \"artist\": \"Ayax y Prok\", \"popularity\": 0, \"danceability\": 0.691, \"energy\": 0.817, \"key\": 1, \"loudness\": -5.573, \"mode\": 1, \"speechiness\": 0.32, \"acousticness\": 0.504, \"instrumentalness\": 0.0, \"liveness\": 0.368, \"valence\": 0.421, \"tempo\": 89.963, \"year_playlist\": 2018, \"duration_ms\": 207.0}, {\"track_name\": \"Addictes\", \"album\": \"N\\u00f2mades\", \"track_id\": \"5CJ0PVqWFnqRaAylK6Z4Dl\", \"artist\": \"Smoking Souls\", \"popularity\": 19, \"danceability\": 0.402, \"energy\": 0.934, \"key\": 5, \"loudness\": -5.085, \"mode\": 0, \"speechiness\": 0.238, \"acousticness\": 6.75e-05, \"instrumentalness\": 0.0, \"liveness\": 0.275, \"valence\": 0.623, \"tempo\": 181.037, \"year_playlist\": 2018, \"duration_ms\": 231.0}, {\"track_name\": \"Hopeless Romantic (feat. Swae Lee)\", \"album\": \"Rolling Papers 2\", \"track_id\": \"7IBSffWIu7P2MC7kMwy2FM\", \"artist\": \"Wiz Khalifa\", \"popularity\": 67, \"danceability\": 0.877, \"energy\": 0.477, \"key\": 9, \"loudness\": -7.379, \"mode\": 0, \"speechiness\": 0.0587, \"acousticness\": 0.307, \"instrumentalness\": 0.0, \"liveness\": 0.0929, \"valence\": 0.552, \"tempo\": 127.023, \"year_playlist\": 2018, \"duration_ms\": 227.0}, {\"track_name\": \"Carretera\", \"album\": \"Carretera\", \"track_id\": \"6iNJ8Zdt3Kb2E7JuvTj6B5\", \"artist\": \"Natos y Waor\", \"popularity\": 11, \"danceability\": 0.673, \"energy\": 0.753, \"key\": 4, \"loudness\": -6.632, \"mode\": 0, \"speechiness\": 0.0549, \"acousticness\": 0.734, \"instrumentalness\": 0.0, \"liveness\": 0.111, \"valence\": 0.592, \"tempo\": 84.96, \"year_playlist\": 2018, \"duration_ms\": 215.0}, {\"track_name\": \"Contigo\", \"album\": \"Pa'fuera y Pa'dentro\", \"track_id\": \"4pesB5Dew0MP6mwvyfj4sX\", \"artist\": \"La Otra\", \"popularity\": 0, \"danceability\": 0.699, \"energy\": 0.275, \"key\": 3, \"loudness\": -11.898, \"mode\": 1, \"speechiness\": 0.0457, \"acousticness\": 0.62, \"instrumentalness\": 9.55e-06, \"liveness\": 0.101, \"valence\": 0.559, \"tempo\": 120.305, \"year_playlist\": 2018, \"duration_ms\": 200.0}, {\"track_name\": \"Quan camin\\u00e0vem\", \"album\": \"Ess\\u00e8ncia\", \"track_id\": \"3dx71UjqkLL9RuMCSQciFa\", \"artist\": \"Aspencat\", \"popularity\": 0, \"danceability\": 0.705, \"energy\": 0.805, \"key\": 7, \"loudness\": -6.28, \"mode\": 1, \"speechiness\": 0.0507, \"acousticness\": 0.0251, \"instrumentalness\": 0.0, \"liveness\": 0.187, \"valence\": 0.828, \"tempo\": 95.042, \"year_playlist\": 2018, \"duration_ms\": 235.0}, {\"track_name\": \"Estiu\", \"album\": \"Tempestes V\\u00e9nen del Sud\", \"track_id\": \"6R9Q6q4KaS9EuwDmHa8pCn\", \"artist\": \"ZOO\", \"popularity\": 0, \"danceability\": 0.644, \"energy\": 0.671, \"key\": 1, \"loudness\": -6.395, \"mode\": 1, \"speechiness\": 0.389, \"acousticness\": 0.0452, \"instrumentalness\": 0.0, \"liveness\": 0.0824, \"valence\": 0.966, \"tempo\": 88.015, \"year_playlist\": 2018, \"duration_ms\": 216.0}, {\"track_name\": \"Llorando en la Limo (feat. Alizzz)\", \"album\": \"Llorando en la Limo (feat. Alizzz)\", \"track_id\": \"0Umt5FqtUbnP4iR1QejfzB\", \"artist\": \"C. Tangana\", \"popularity\": 47, \"danceability\": 0.779, \"energy\": 0.371, \"key\": 9, \"loudness\": -8.89, \"mode\": 0, \"speechiness\": 0.163, \"acousticness\": 0.036, \"instrumentalness\": 1.32e-05, \"liveness\": 0.26, \"valence\": 0.365, \"tempo\": 155.087, \"year_playlist\": 2018, \"duration_ms\": 139.0}, {\"track_name\": \"the remedy for a broken heart (why am I so in love)\", \"album\": \"?\", \"track_id\": \"4UKCKdYiLN6IMA5ZESUTL7\", \"artist\": \"XXXTENTACION\", \"popularity\": 79, \"danceability\": 0.699, \"energy\": 0.304, \"key\": 1, \"loudness\": -11.192, \"mode\": 1, \"speechiness\": 0.0993, \"acousticness\": 0.779, \"instrumentalness\": 0.000993, \"liveness\": 0.137, \"valence\": 0.271, \"tempo\": 119.705, \"year_playlist\": 2018, \"duration_ms\": 160.0}, {\"track_name\": \"Coquito la Pieza\", \"album\": \"Maracucho Bueno Muere Chiquito\", \"track_id\": \"3MK6pVyk4dexZGlR7NokJr\", \"artist\": \"Cruz Cafun\\u00e9\", \"popularity\": 46, \"danceability\": 0.757, \"energy\": 0.789, \"key\": 7, \"loudness\": -6.207, \"mode\": 0, \"speechiness\": 0.132, \"acousticness\": 0.0734, \"instrumentalness\": 0.0, \"liveness\": 0.236, \"valence\": 0.513, \"tempo\": 90.004, \"year_playlist\": 2018, \"duration_ms\": 188.0}, {\"track_name\": \"Perogrullo\", \"album\": \"Perogrullo\", \"track_id\": \"6mQWvPfyRtrTuKDm5DJeFK\", \"artist\": \"Bejo\", \"popularity\": 0, \"danceability\": 0.795, \"energy\": 0.693, \"key\": 6, \"loudness\": -8.005, \"mode\": 1, \"speechiness\": 0.352, \"acousticness\": 0.912, \"instrumentalness\": 0.00217, \"liveness\": 0.117, \"valence\": 0.833, \"tempo\": 102.009, \"year_playlist\": 2018, \"duration_ms\": 221.0}, {\"track_name\": \"Canela en Rama\", \"album\": \"Lo Mal Que Estoy y Lo Poco Que Me Quejo\", \"track_id\": \"0UMdgDWdsU486W6MErT2Zr\", \"artist\": \"El Kanka\", \"popularity\": 0, \"danceability\": 0.79, \"energy\": 0.487, \"key\": 0, \"loudness\": -7.239, \"mode\": 1, \"speechiness\": 0.0567, \"acousticness\": 0.733, \"instrumentalness\": 0.0, \"liveness\": 0.107, \"valence\": 0.642, \"tempo\": 103.036, \"year_playlist\": 2018, \"duration_ms\": 200.0}, {\"track_name\": \"Guarda'm l'aire\", \"album\": \"Cendra i or\", \"track_id\": \"6LnYlWJ7fwIWFwPQptJ5TX\", \"artist\": \"Smoking Souls\", \"popularity\": 30, \"danceability\": 0.318, \"energy\": 0.623, \"key\": 0, \"loudness\": -6.488, \"mode\": 1, \"speechiness\": 0.0369, \"acousticness\": 0.00239, \"instrumentalness\": 1.71e-06, \"liveness\": 0.258, \"valence\": 0.294, \"tempo\": 88.026, \"year_playlist\": 2018, \"duration_ms\": 330.0}, {\"track_name\": \"Mira t\\u00fa qu\\u00e9 ritmo\", \"album\": \"Mira t\\u00fa qu\\u00e9 ritmo\", \"track_id\": \"7uGFZKYUSEXa9JydFyfDgZ\", \"artist\": \"Ayax y Prok\", \"popularity\": 0, \"danceability\": 0.922, \"energy\": 0.829, \"key\": 0, \"loudness\": -6.027, \"mode\": 1, \"speechiness\": 0.308, \"acousticness\": 0.321, \"instrumentalness\": 0.0, \"liveness\": 0.341, \"valence\": 0.88, \"tempo\": 125.725, \"year_playlist\": 2018, \"duration_ms\": 158.0}, {\"track_name\": \"Cojo el saco y me retiro\", \"album\": \"Rockallano\", \"track_id\": \"70MAtVBITOe87jTUlRhzd8\", \"artist\": \"Astola\", \"popularity\": 29, \"danceability\": 0.884, \"energy\": 0.574, \"key\": 9, \"loudness\": -7.567, \"mode\": 0, \"speechiness\": 0.0639, \"acousticness\": 0.181, \"instrumentalness\": 0.000373, \"liveness\": 0.0653, \"valence\": 0.834, \"tempo\": 128.018, \"year_playlist\": 2018, \"duration_ms\": 287.0}, {\"track_name\": \"Bella - Remix\", \"album\": \"Bella (Remix)\", \"track_id\": \"0SaYeGhSXN0dDWstyNTQ56\", \"artist\": \"Wolfine\", \"popularity\": 0, \"danceability\": 0.917, \"energy\": 0.476, \"key\": 3, \"loudness\": -6.621, \"mode\": 1, \"speechiness\": 0.0655, \"acousticness\": 0.304, \"instrumentalness\": 0.0, \"liveness\": 0.103, \"valence\": 0.87, \"tempo\": 93.987, \"year_playlist\": 2018, \"duration_ms\": 218.0}, {\"track_name\": \"Cicatrices\", \"album\": \"Cicatrices\", \"track_id\": \"19OsDvOm2hw28Bqg7wo4Ox\", \"artist\": \"Natos y Waor\", \"popularity\": 21, \"danceability\": 0.718, \"energy\": 0.814, \"key\": 8, \"loudness\": -5.467, \"mode\": 1, \"speechiness\": 0.345, \"acousticness\": 0.695, \"instrumentalness\": 0.0, \"liveness\": 0.125, \"valence\": 0.27, \"tempo\": 120.04, \"year_playlist\": 2018, \"duration_ms\": 180.0}, {\"track_name\": \"Lo siento\", \"album\": \"Lo siento\", \"track_id\": \"7HNJNqsBZ7qc6UmYEq8bie\", \"artist\": \"Beret\", \"popularity\": 0, \"danceability\": 0.419, \"energy\": 0.407, \"key\": 11, \"loudness\": -9.011, \"mode\": 0, \"speechiness\": 0.0446, \"acousticness\": 0.576, \"instrumentalness\": 0.0, \"liveness\": 0.138, \"valence\": 0.309, \"tempo\": 79.839, \"year_playlist\": 2018, \"duration_ms\": 230.0}, {\"track_name\": \"Nosotros Lo Hicimos\", \"album\": \"21 Centimetros\", \"track_id\": \"65mRD6goKQX50reMDICnEx\", \"artist\": \"Duo Kie\", \"popularity\": 30, \"danceability\": 0.726, \"energy\": 0.932, \"key\": 1, \"loudness\": -3.125, \"mode\": 1, \"speechiness\": 0.209, \"acousticness\": 0.122, \"instrumentalness\": 0.0, \"liveness\": 0.322, \"valence\": 0.885, \"tempo\": 90.917, \"year_playlist\": 2018, \"duration_ms\": 253.0}, {\"track_name\": \"Hoy\", \"album\": \"Surrealismo\", \"track_id\": \"5jUijZoowytMVFyBa76YL3\", \"artist\": \"Los De Marras\", \"popularity\": 0, \"danceability\": 0.68, \"energy\": 0.934, \"key\": 11, \"loudness\": -4.787, \"mode\": 1, \"speechiness\": 0.0396, \"acousticness\": 0.0277, \"instrumentalness\": 1.9e-05, \"liveness\": 0.106, \"valence\": 0.899, \"tempo\": 102.509, \"year_playlist\": 2018, \"duration_ms\": 203.0}, {\"track_name\": \"Mi Casa\", \"album\": \"Pa'l Coche\", \"track_id\": \"3sdbjDa8Rvmfn8k7pz7znc\", \"artist\": \"Cruz Cafun\\u00e9\", \"popularity\": 53, \"danceability\": 0.888, \"energy\": 0.563, \"key\": 1, \"loudness\": -7.432, \"mode\": 1, \"speechiness\": 0.142, \"acousticness\": 0.138, \"instrumentalness\": 8.13e-06, \"liveness\": 0.116, \"valence\": 0.444, \"tempo\": 99.481, \"year_playlist\": 2018, \"duration_ms\": 166.0}, {\"track_name\": \"Torna'm\", \"album\": \"Temerario\", \"track_id\": \"1NzY8ZgJxVKpqUXTfGFhH0\", \"artist\": \"Itaca Band\", \"popularity\": 35, \"danceability\": 0.587, \"energy\": 0.743, \"key\": 0, \"loudness\": -6.648, \"mode\": 0, \"speechiness\": 0.0936, \"acousticness\": 0.0207, \"instrumentalness\": 0.0, \"liveness\": 0.0815, \"valence\": 0.863, \"tempo\": 175.895, \"year_playlist\": 2018, \"duration_ms\": 207.0}, {\"track_name\": \"Ni\\u00f1a voladora\", \"album\": \"Las canciones que escrib\\u00ed mientras volaba\", \"track_id\": \"6t9ot6JHFylOIfKRRvxIS8\", \"artist\": \"Juanito Makand\\u00e9\", \"popularity\": 0, \"danceability\": 0.75, \"energy\": 0.416, \"key\": 9, \"loudness\": -8.205, \"mode\": 1, \"speechiness\": 0.0996, \"acousticness\": 0.744, \"instrumentalness\": 4.2e-05, \"liveness\": 0.156, \"valence\": 0.729, \"tempo\": 145.135, \"year_playlist\": 2018, \"duration_ms\": 223.0}, {\"track_name\": \"Camina\", \"album\": \"Camina\", \"track_id\": \"6BQEZ7bLf5ZnNbZ2Ac6FxY\", \"artist\": \"AMBKOR\", \"popularity\": 0, \"danceability\": 0.667, \"energy\": 0.835, \"key\": 9, \"loudness\": -7.923, \"mode\": 0, \"speechiness\": 0.348, \"acousticness\": 0.889, \"instrumentalness\": 0.0, \"liveness\": 0.0907, \"valence\": 0.278, \"tempo\": 83.866, \"year_playlist\": 2018, \"duration_ms\": 236.0}, {\"track_name\": \"A veces se me pasa, a veces paso\", \"album\": \"Cara y cruz\", \"track_id\": \"1Xet933o3e612B2HPY63pV\", \"artist\": \"Ayax y Prok\", \"popularity\": 0, \"danceability\": 0.717, \"energy\": 0.953, \"key\": 9, \"loudness\": -4.333, \"mode\": 1, \"speechiness\": 0.314, \"acousticness\": 0.104, \"instrumentalness\": 0.0, \"liveness\": 0.21, \"valence\": 0.667, \"tempo\": 93.06, \"year_playlist\": 2018, \"duration_ms\": 158.0}, {\"track_name\": \"Llueve en Semana Santa\", \"album\": \"As\\u00ed en el Cielo Como en la Selva\", \"track_id\": \"1VrwBgWyGqro52jYSWS5YY\", \"artist\": \"La Ra\\u00edz\", \"popularity\": 36, \"danceability\": 0.754, \"energy\": 0.879, \"key\": 9, \"loudness\": -4.51, \"mode\": 1, \"speechiness\": 0.038, \"acousticness\": 0.0214, \"instrumentalness\": 0.0, \"liveness\": 0.498, \"valence\": 0.799, \"tempo\": 111.48, \"year_playlist\": 2018, \"duration_ms\": 271.0}, {\"track_name\": \"Me Inventar\\u00e9 (with Dani Martin)\", \"album\": \"Dual\", \"track_id\": \"3KRIjXjUYoiweWF8x8Eg6v\", \"artist\": \"Funambulista\", \"popularity\": 43, \"danceability\": 0.51, \"energy\": 0.618, \"key\": 4, \"loudness\": -6.27, \"mode\": 1, \"speechiness\": 0.0299, \"acousticness\": 0.171, \"instrumentalness\": 0.0, \"liveness\": 0.0983, \"valence\": 0.321, \"tempo\": 136.191, \"year_playlist\": 2018, \"duration_ms\": 257.0}, {\"track_name\": \"Revoltes\", \"album\": \"Dol\\u00e7 Atac (Studio)\", \"track_id\": \"11UpB14DFQCDRiVpWk4X2m\", \"artist\": \"Auxili\", \"popularity\": 24, \"danceability\": 0.668, \"energy\": 0.807, \"key\": 0, \"loudness\": -6.112, \"mode\": 0, \"speechiness\": 0.0314, \"acousticness\": 0.0905, \"instrumentalness\": 0.0, \"liveness\": 0.118, \"valence\": 0.938, \"tempo\": 163.848, \"year_playlist\": 2018, \"duration_ms\": 184.0}, {\"track_name\": \"Vuelve\", \"album\": \"Vuelve\", \"track_id\": \"3jMwSd2zqGOwJStCatpjAr\", \"artist\": \"Beret\", \"popularity\": 0, \"danceability\": 0.689, \"energy\": 0.456, \"key\": 11, \"loudness\": -10.033, \"mode\": 1, \"speechiness\": 0.094, \"acousticness\": 0.546, \"instrumentalness\": 0.0, \"liveness\": 0.104, \"valence\": 0.474, \"tempo\": 77.426, \"year_playlist\": 2018, \"duration_ms\": 149.0}, {\"track_name\": \"Alcohol i sal\", \"album\": \"Cendra i or\", \"track_id\": \"4bMiGBTBwGNT5MZBjRVEyI\", \"artist\": \"Smoking Souls\", \"popularity\": 20, \"danceability\": 0.624, \"energy\": 0.639, \"key\": 5, \"loudness\": -5.838, \"mode\": 0, \"speechiness\": 0.0401, \"acousticness\": 0.0088, \"instrumentalness\": 0.0, \"liveness\": 0.156, \"valence\": 0.302, \"tempo\": 102.479, \"year_playlist\": 2018, \"duration_ms\": 256.0}, {\"track_name\": \"Esbarzers\", \"album\": \"La Polseguera\", \"track_id\": \"7tiu52iT5YeFY7QhOCpmOs\", \"artist\": \"La Gossa Sorda\", \"popularity\": 44, \"danceability\": 0.816, \"energy\": 0.804, \"key\": 6, \"loudness\": -5.914, \"mode\": 0, \"speechiness\": 0.0365, \"acousticness\": 0.0474, \"instrumentalness\": 0.0, \"liveness\": 0.0838, \"valence\": 0.963, \"tempo\": 143.97, \"year_playlist\": 2018, \"duration_ms\": 265.0}, {\"track_name\": \"Mi\\u00e9nteme\", \"album\": \"Mi\\u00e9nteme\", \"track_id\": \"3d0CVvh3V9XOesXzkrD21j\", \"artist\": \"Cruz Cafun\\u00e9\", \"popularity\": 44, \"danceability\": 0.886, \"energy\": 0.382, \"key\": 3, \"loudness\": -8.493, \"mode\": 0, \"speechiness\": 0.418, \"acousticness\": 0.261, \"instrumentalness\": 0.0, \"liveness\": 0.109, \"valence\": 0.326, \"tempo\": 130.59, \"year_playlist\": 2018, \"duration_ms\": 167.0}, {\"track_name\": \"R U Mine?\", \"album\": \"AM\", \"track_id\": \"2AT8iROs4FQueDv2c8q2KE\", \"artist\": \"Arctic Monkeys\", \"popularity\": 82, \"danceability\": 0.288, \"energy\": 0.758, \"key\": 6, \"loudness\": -5.692, \"mode\": 0, \"speechiness\": 0.0371, \"acousticness\": 0.00616, \"instrumentalness\": 0.0, \"liveness\": 0.303, \"valence\": 0.619, \"tempo\": 97.094, \"year_playlist\": 2018, \"duration_ms\": 202.0}, {\"track_name\": \"Que Bello Es Vivir\", \"album\": \"Lo Mal Que Estoy y Lo Poco Que Me Quejo\", \"track_id\": \"08SzJ36bldPrL8WiT0blvB\", \"artist\": \"El Kanka\", \"popularity\": 0, \"danceability\": 0.582, \"energy\": 0.649, \"key\": 9, \"loudness\": -5.114, \"mode\": 1, \"speechiness\": 0.0687, \"acousticness\": 0.7, \"instrumentalness\": 0.0, \"liveness\": 0.118, \"valence\": 0.833, \"tempo\": 104.575, \"year_playlist\": 2018, \"duration_ms\": 237.0}, {\"track_name\": \"Pausa\", \"album\": \"Pausa\", \"track_id\": \"3gwdBvSZDtLqjCSvFYLbpK\", \"artist\": \"IZAL\", \"popularity\": 28, \"danceability\": 0.503, \"energy\": 0.311, \"key\": 11, \"loudness\": -11.379, \"mode\": 0, \"speechiness\": 0.028, \"acousticness\": 0.862, \"instrumentalness\": 0.00225, \"liveness\": 0.0969, \"valence\": 0.0832, \"tempo\": 81.937, \"year_playlist\": 2018, \"duration_ms\": 173.0}, {\"track_name\": \"Salgo a la Calle (Bonus Track)\", \"album\": \"Boikotea!!! (Live)\", \"track_id\": \"496O2EfJmGm6LQpWjt9bGj\", \"artist\": \"Boikot\", \"popularity\": 37, \"danceability\": 0.669, \"energy\": 0.898, \"key\": 1, \"loudness\": -4.988, \"mode\": 1, \"speechiness\": 0.0882, \"acousticness\": 0.00423, \"instrumentalness\": 0.000301, \"liveness\": 0.0918, \"valence\": 0.786, \"tempo\": 107.516, \"year_playlist\": 2018, \"duration_ms\": 208.0}, {\"track_name\": \"Elegir\\u00e9\", \"album\": \"As\\u00ed en el Cielo Como en la Selva\", \"track_id\": \"718HCXN1Jntgf0cywbSZch\", \"artist\": \"La Ra\\u00edz\", \"popularity\": 40, \"danceability\": 0.616, \"energy\": 0.692, \"key\": 2, \"loudness\": -5.31, \"mode\": 0, \"speechiness\": 0.0577, \"acousticness\": 0.00583, \"instrumentalness\": 0.0, \"liveness\": 0.0901, \"valence\": 0.793, \"tempo\": 171.951, \"year_playlist\": 2018, \"duration_ms\": 277.0}, {\"track_name\": \"El roce de tu cuerpo\", \"album\": \"Muy Deficiente\", \"track_id\": \"3EPd9riN2R8Zjl6GkrxxGl\", \"artist\": \"Platero Y Tu\", \"popularity\": 56, \"danceability\": 0.457, \"energy\": 0.904, \"key\": 7, \"loudness\": -4.67, \"mode\": 1, \"speechiness\": 0.0659, \"acousticness\": 0.015, \"instrumentalness\": 5.01e-05, \"liveness\": 0.2, \"valence\": 0.237, \"tempo\": 171.633, \"year_playlist\": 2018, \"duration_ms\": 250.0}, {\"track_name\": \"Si tu vols\", \"album\": \"Tresors\", \"track_id\": \"0XTiC5IuEnmChnWyoZSBSl\", \"artist\": \"Auxili\", \"popularity\": 33, \"danceability\": 0.749, \"energy\": 0.72, \"key\": 3, \"loudness\": -7.923, \"mode\": 0, \"speechiness\": 0.0357, \"acousticness\": 0.0135, \"instrumentalness\": 0.0, \"liveness\": 0.0698, \"valence\": 0.667, \"tempo\": 142.007, \"year_playlist\": 2018, \"duration_ms\": 235.0}, {\"track_name\": \"Esto es rojo y negro\", \"album\": \"Esto es rojo y negro\", \"track_id\": \"4tNc2wkHPDtsljEt3aODpX\", \"artist\": \"Ayax y Prok\", \"popularity\": 0, \"danceability\": 0.72, \"energy\": 0.647, \"key\": 7, \"loudness\": -10.538, \"mode\": 1, \"speechiness\": 0.586, \"acousticness\": 0.34, \"instrumentalness\": 0.0, \"liveness\": 0.0793, \"valence\": 0.696, \"tempo\": 95.286, \"year_playlist\": 2018, \"duration_ms\": 121.0}, {\"track_name\": \"Moonlight\", \"album\": \"?\", \"track_id\": \"0JP9xo3adEtGSdUEISiszL\", \"artist\": \"XXXTENTACION\", \"popularity\": 82, \"danceability\": 0.921, \"energy\": 0.537, \"key\": 9, \"loudness\": -5.723, \"mode\": 0, \"speechiness\": 0.0804, \"acousticness\": 0.556, \"instrumentalness\": 0.00404, \"liveness\": 0.102, \"valence\": 0.711, \"tempo\": 128.009, \"year_playlist\": 2018, \"duration_ms\": 135.0}, {\"track_name\": \"Calavera no chilla\", \"album\": \"Calavera no chilla\", \"track_id\": \"5dgA6aIoYJvTz48qAI0rPf\", \"artist\": \"Natos y Waor\", \"popularity\": 8, \"danceability\": 0.668, \"energy\": 0.736, \"key\": 3, \"loudness\": -4.883, \"mode\": 0, \"speechiness\": 0.043, \"acousticness\": 0.326, \"instrumentalness\": 9.88e-06, \"liveness\": 0.113, \"valence\": 0.366, \"tempo\": 84.033, \"year_playlist\": 2018, \"duration_ms\": 211.0}, {\"track_name\": \"Mango\", \"album\": \"Pa'l Coche\", \"track_id\": \"0NvTKlWvcMAAnk6R5YEuqT\", \"artist\": \"Cruz Cafun\\u00e9\", \"popularity\": 40, \"danceability\": 0.81, \"energy\": 0.397, \"key\": 3, \"loudness\": -10.389, \"mode\": 0, \"speechiness\": 0.175, \"acousticness\": 0.34, \"instrumentalness\": 2.77e-06, \"liveness\": 0.181, \"valence\": 0.866, \"tempo\": 88.021, \"year_playlist\": 2018, \"duration_ms\": 177.0}, {\"track_name\": \"Ah\\u00ed Va la Ni\\u00f1a\", \"album\": \"Desde una Ventana\", \"track_id\": \"0S97fTj264zDbSQ5yWQWqB\", \"artist\": \"Andr\\u00e9s Su\\u00e1rez\", \"popularity\": 42, \"danceability\": 0.781, \"energy\": 0.511, \"key\": 3, \"loudness\": -5.934, \"mode\": 1, \"speechiness\": 0.0547, \"acousticness\": 0.468, \"instrumentalness\": 0.0, \"liveness\": 0.11, \"valence\": 0.894, \"tempo\": 122.852, \"year_playlist\": 2018, \"duration_ms\": 181.0}, {\"track_name\": \"No me beses en la boca\", \"album\": \"No soy de nadie\", \"track_id\": \"1exduosuXG0m9eDk1j6KTW\", \"artist\": \"Kutxi Romero\", \"popularity\": 0, \"danceability\": 0.705, \"energy\": 0.304, \"key\": 9, \"loudness\": -13.212, \"mode\": 0, \"speechiness\": 0.0296, \"acousticness\": 0.831, \"instrumentalness\": 0.164, \"liveness\": 0.0674, \"valence\": 0.507, \"tempo\": 113.916, \"year_playlist\": 2018, \"duration_ms\": 229.0}, {\"track_name\": \"C\\u00e1llate\", \"album\": \"Un a\\u00f1o bajo la lluvia\", \"track_id\": \"1deQQ1I4Q559MH6DHDzuXD\", \"artist\": \"AMBKOR\", \"popularity\": 0, \"danceability\": 0.627, \"energy\": 0.891, \"key\": 1, \"loudness\": -5.096, \"mode\": 1, \"speechiness\": 0.302, \"acousticness\": 0.317, \"instrumentalness\": 0.0, \"liveness\": 0.125, \"valence\": 0.728, \"tempo\": 167.926, \"year_playlist\": 2018, \"duration_ms\": 181.0}, {\"track_name\": \"Monstruos\", \"album\": \"Monstruos\", \"track_id\": \"2zQSoFnkWXzQwyh77xuQ0t\", \"artist\": \"Leiva\", \"popularity\": 47, \"danceability\": 0.419, \"energy\": 0.44, \"key\": 2, \"loudness\": -8.023, \"mode\": 1, \"speechiness\": 0.025, \"acousticness\": 0.109, \"instrumentalness\": 0.000311, \"liveness\": 0.347, \"valence\": 0.163, \"tempo\": 78.737, \"year_playlist\": 2018, \"duration_ms\": 244.0}, {\"track_name\": \"Malos pelos\", \"album\": \"Astola & Raton: El Hombre Caracol\", \"track_id\": \"4IgnPB9WdKDxdQFKcb8hYP\", \"artist\": \"Astola\", \"popularity\": 15, \"danceability\": 0.663, \"energy\": 0.788, \"key\": 8, \"loudness\": -6.642, \"mode\": 1, \"speechiness\": 0.158, \"acousticness\": 0.322, \"instrumentalness\": 0.0, \"liveness\": 0.579, \"valence\": 0.961, \"tempo\": 138.166, \"year_playlist\": 2018, \"duration_ms\": 216.0}, {\"track_name\": \"Diez Mil Porqu\\u00e9s\", \"album\": \"In\\u00e9ditos\", \"track_id\": \"6e8VRfJBGDJzS6EDcfokIq\", \"artist\": \"Beret\", \"popularity\": 0, \"danceability\": 0.718, \"energy\": 0.611, \"key\": 7, \"loudness\": -7.502, \"mode\": 0, \"speechiness\": 0.083, \"acousticness\": 0.319, \"instrumentalness\": 0.0, \"liveness\": 0.132, \"valence\": 0.597, \"tempo\": 139.917, \"year_playlist\": 2018, \"duration_ms\": 210.0}, {\"track_name\": \"Hui la liem\", \"album\": \"Tresors\", \"track_id\": \"0cpToG2pZPh9TK3snKAVHO\", \"artist\": \"Auxili\", \"popularity\": 37, \"danceability\": 0.823, \"energy\": 0.817, \"key\": 6, \"loudness\": -7.088, \"mode\": 0, \"speechiness\": 0.0547, \"acousticness\": 0.0116, \"instrumentalness\": 2.55e-06, \"liveness\": 0.07, \"valence\": 0.605, \"tempo\": 103.526, \"year_playlist\": 2018, \"duration_ms\": 227.0}, {\"track_name\": \"Zapatillas\", \"album\": \"Zapatillas\", \"track_id\": \"42VgiRyg0YjtRVLiPFNxPJ\", \"artist\": \"El Canto Del Loco\", \"popularity\": 63, \"danceability\": 0.428, \"energy\": 0.956, \"key\": 8, \"loudness\": -2.382, \"mode\": 0, \"speechiness\": 0.178, \"acousticness\": 0.0281, \"instrumentalness\": 0.0, \"liveness\": 0.58, \"valence\": 0.686, \"tempo\": 198.076, \"year_playlist\": 2018, \"duration_ms\": 173.0}, {\"track_name\": \"Antes de Morirme (feat. Rosal\\u00eda)\", \"album\": \"Antes de Morirme (feat. Rosal\\u00eda)\", \"track_id\": \"7aFBy1CBLGnZE1Iv6TvEZE\", \"artist\": \"C. Tangana\", \"popularity\": 0, \"danceability\": 0.865, \"energy\": 0.498, \"key\": 8, \"loudness\": -8.882, \"mode\": 0, \"speechiness\": 0.168, \"acousticness\": 0.0718, \"instrumentalness\": 0.00312, \"liveness\": 0.108, \"valence\": 0.131, \"tempo\": 97.921, \"year_playlist\": 2018, \"duration_ms\": 200.0}, {\"track_name\": \"Si No Te Tengo\", \"album\": \"Hijos de la Tierra\", \"track_id\": \"13nYJZLxyzNGxyGaHTKM4F\", \"artist\": \"Green Valley\", \"popularity\": 0, \"danceability\": 0.755, \"energy\": 0.595, \"key\": 11, \"loudness\": -9.078, \"mode\": 0, \"speechiness\": 0.0917, \"acousticness\": 0.0522, \"instrumentalness\": 1.27e-05, \"liveness\": 0.106, \"valence\": 0.406, \"tempo\": 129.954, \"year_playlist\": 2018, \"duration_ms\": 327.0}, {\"track_name\": \"Ventiladors\", \"album\": \"Raval\", \"track_id\": \"2bYdFvFow6fNIJL3XpvDbo\", \"artist\": \"ZOO\", \"popularity\": 0, \"danceability\": 0.839, \"energy\": 0.834, \"key\": 6, \"loudness\": -3.705, \"mode\": 0, \"speechiness\": 0.125, \"acousticness\": 0.0439, \"instrumentalness\": 0.0, \"liveness\": 0.12, \"valence\": 0.961, \"tempo\": 120.023, \"year_playlist\": 2018, \"duration_ms\": 214.0}, {\"track_name\": \"Voy a Celebrarlo\", \"album\": \"Si uno no se rinde\", \"track_id\": \"7Dd5p5mFpkZlEllO4Y7pCI\", \"artist\": \"L\\u00e1grimas De Sangre\", \"popularity\": 52, \"danceability\": 0.665, \"energy\": 0.718, \"key\": 7, \"loudness\": -8.06, \"mode\": 1, \"speechiness\": 0.238, \"acousticness\": 0.354, \"instrumentalness\": 0.0, \"liveness\": 0.584, \"valence\": 0.782, \"tempo\": 95.065, \"year_playlist\": 2018, \"duration_ms\": 393.0}, {\"track_name\": \"Copenhague\", \"album\": \"Un D\\u00eda en el Mundo\", \"track_id\": \"4bZEZhCq2kqUxnMacXVl5x\", \"artist\": \"Vetusta Morla\", \"popularity\": 60, \"danceability\": 0.559, \"energy\": 0.742, \"key\": 9, \"loudness\": -3.945, \"mode\": 1, \"speechiness\": 0.0243, \"acousticness\": 0.411, \"instrumentalness\": 0.0107, \"liveness\": 0.133, \"valence\": 0.482, \"tempo\": 92.959, \"year_playlist\": 2018, \"duration_ms\": 304.0}, {\"track_name\": \"La vereda de la puerta de atr\\u00e1s\", \"album\": \"Yo, Minor\\u00eda Absoluta\", \"track_id\": \"4kJP8Z888wREJ8bRMWNMuk\", \"artist\": \"Extremoduro\", \"popularity\": 63, \"danceability\": 0.403, \"energy\": 0.893, \"key\": 9, \"loudness\": -2.735, \"mode\": 0, \"speechiness\": 0.0474, \"acousticness\": 0.437, \"instrumentalness\": 0.000173, \"liveness\": 0.11, \"valence\": 0.527, \"tempo\": 141.194, \"year_playlist\": 2018, \"duration_ms\": 243.0}, {\"track_name\": \"Mardy Bum\", \"album\": \"Whatever People Say I Am, That's What I'm Not\", \"track_id\": \"2fyIS6GXMgUcSv4oejx63f\", \"artist\": \"Arctic Monkeys\", \"popularity\": 73, \"danceability\": 0.634, \"energy\": 0.599, \"key\": 2, \"loudness\": -5.447, \"mode\": 1, \"speechiness\": 0.0365, \"acousticness\": 0.0288, \"instrumentalness\": 0.0, \"liveness\": 0.197, \"valence\": 0.312, \"tempo\": 112.215, \"year_playlist\": 2018, \"duration_ms\": 175.0}, {\"track_name\": \"Como Sol\\u00eda\", \"album\": \"Como Sol\\u00eda\", \"track_id\": \"57kf0CZiA4NRhI4dKl4LPe\", \"artist\": \"Cruz Cafun\\u00e9\", \"popularity\": 38, \"danceability\": 0.878, \"energy\": 0.543, \"key\": 10, \"loudness\": -4.707, \"mode\": 0, \"speechiness\": 0.0441, \"acousticness\": 0.205, \"instrumentalness\": 3.81e-06, \"liveness\": 0.095, \"valence\": 0.33, \"tempo\": 119.942, \"year_playlist\": 2018, \"duration_ms\": 200.0}, {\"track_name\": \"Ojal\\u00e1\", \"album\": \"Ojal\\u00e1\", \"track_id\": \"1bKLec07c65Zt7RV5Xt5yo\", \"artist\": \"Beret\", \"popularity\": 0, \"danceability\": 0.503, \"energy\": 0.615, \"key\": 5, \"loudness\": -9.128, \"mode\": 1, \"speechiness\": 0.137, \"acousticness\": 0.661, \"instrumentalness\": 0.0, \"liveness\": 0.122, \"valence\": 0.318, \"tempo\": 153.478, \"year_playlist\": 2018, \"duration_ms\": 221.0}, {\"track_name\": \"Borracha y Callejera\", \"album\": \"As\\u00ed en el Cielo Como en la Selva\", \"track_id\": \"6zPiKClLU2ixBsuNAjWFp1\", \"artist\": \"La Ra\\u00edz\", \"popularity\": 38, \"danceability\": 0.733, \"energy\": 0.65, \"key\": 6, \"loudness\": -5.953, \"mode\": 0, \"speechiness\": 0.0312, \"acousticness\": 0.00223, \"instrumentalness\": 0.0, \"liveness\": 0.118, \"valence\": 0.628, \"tempo\": 119.013, \"year_playlist\": 2018, \"duration_ms\": 243.0}, {\"track_name\": \"Caminar\\u00e9\", \"album\": \"Caminar\\u00e9\", \"track_id\": \"3NTUGxmDIRf40iS5gZOhBu\", \"artist\": \"Natos y Waor\", \"popularity\": 7, \"danceability\": 0.709, \"energy\": 0.55, \"key\": 7, \"loudness\": -5.518, \"mode\": 0, \"speechiness\": 0.0872, \"acousticness\": 0.329, \"instrumentalness\": 2.09e-05, \"liveness\": 0.0939, \"valence\": 0.284, \"tempo\": 140.081, \"year_playlist\": 2018, \"duration_ms\": 276.0}, {\"track_name\": \"Te Doy Media Noche\", \"album\": \"Mi Peque\\u00f1a Historia\", \"track_id\": \"6iSRWMtQCP8tdxtSTKbcUj\", \"artist\": \"Andr\\u00e9s Su\\u00e1rez\", \"popularity\": 41, \"danceability\": 0.527, \"energy\": 0.338, \"key\": 5, \"loudness\": -9.63, \"mode\": 1, \"speechiness\": 0.0366, \"acousticness\": 0.688, \"instrumentalness\": 0.0, \"liveness\": 0.116, \"valence\": 0.321, \"tempo\": 70.554, \"year_playlist\": 2018, \"duration_ms\": 173.0}, {\"track_name\": \"Same Love (feat. Mary Lambert)\", \"album\": \"The Heist\", \"track_id\": \"6IFa4RUo2iM5L33Hkx82lr\", \"artist\": \"Macklemore & Ryan Lewis\", \"popularity\": 0, \"danceability\": 0.56, \"energy\": 0.475, \"key\": 8, \"loudness\": -9.05, \"mode\": 1, \"speechiness\": 0.173, \"acousticness\": 0.718, \"instrumentalness\": 2.18e-05, \"liveness\": 0.0994, \"valence\": 0.308, \"tempo\": 84.899, \"year_playlist\": 2018, \"duration_ms\": 320.0}, {\"track_name\": \"Com Camot\", \"album\": \"Tresors\", \"track_id\": \"3WbWnTN9MaSSoQfpuAca1w\", \"artist\": \"Auxili\", \"popularity\": 33, \"danceability\": 0.803, \"energy\": 0.799, \"key\": 4, \"loudness\": -5.785, \"mode\": 0, \"speechiness\": 0.0563, \"acousticness\": 0.0416, \"instrumentalness\": 0.0, \"liveness\": 0.1, \"valence\": 0.842, \"tempo\": 97.012, \"year_playlist\": 2018, \"duration_ms\": 205.0}, {\"track_name\": \"Qu\\u00edmica\", \"album\": \"Qu\\u00edmica\", \"track_id\": \"1tx7guRmiWaI8t5Qc4mqcF\", \"artist\": \"Juancho Marqu\\u00e9s\", \"popularity\": 0, \"danceability\": 0.272, \"energy\": 0.542, \"key\": 9, \"loudness\": -10.671, \"mode\": 1, \"speechiness\": 0.0615, \"acousticness\": 0.0861, \"instrumentalness\": 0.000767, \"liveness\": 0.102, \"valence\": 0.262, \"tempo\": 86.817, \"year_playlist\": 2018, \"duration_ms\": 227.0}, {\"track_name\": \"Vasos Vac\\u00edos\", \"album\": \"\\u00bfQui\\u00e9n Nos Va a Salvar?\", \"track_id\": \"0fZgVsd0Bk64cAUOcUnQ0X\", \"artist\": \"La Maravillosa Orquesta del Alcohol\", \"popularity\": 49, \"danceability\": 0.516, \"energy\": 0.537, \"key\": 9, \"loudness\": -12.513, \"mode\": 0, \"speechiness\": 0.0411, \"acousticness\": 0.0512, \"instrumentalness\": 0.0, \"liveness\": 0.0787, \"valence\": 0.367, \"tempo\": 144.887, \"year_playlist\": 2018, \"duration_ms\": 189.0}, {\"track_name\": \"Free Tibet - Vini Vici Remix\", \"album\": \"Free Tibet (Vini Vici Remix)\", \"track_id\": \"1Ic75bJnvNE3zpE7qZg7aA\", \"artist\": \"Hilight Tribe\", \"popularity\": 0, \"danceability\": 0.383, \"energy\": 0.947, \"key\": 1, \"loudness\": -5.93, \"mode\": 1, \"speechiness\": 0.0654, \"acousticness\": 0.0131, \"instrumentalness\": 0.697, \"liveness\": 0.143, \"valence\": 0.0741, \"tempo\": 103.512, \"year_playlist\": 2018, \"duration_ms\": 475.0}, {\"track_name\": \"Corazon de mimbre\", \"album\": \"Coces al Aire 1997-2007\", \"track_id\": \"6ScI1xf3RszISXvLGmitY3\", \"artist\": \"Marea\", \"popularity\": 55, \"danceability\": 0.521, \"energy\": 0.928, \"key\": 9, \"loudness\": -3.548, \"mode\": 0, \"speechiness\": 0.0837, \"acousticness\": 0.0235, \"instrumentalness\": 0.0, \"liveness\": 0.0961, \"valence\": 0.323, \"tempo\": 90.555, \"year_playlist\": 2018, \"duration_ms\": 338.0}, {\"track_name\": \"Eterna for\\u00e7a (ParatgesPreferits) - Live\", \"album\": \"Eterna for\\u00e7a (ParatgesPreferits) [Live]\", \"track_id\": \"4laP22Dp48tNCZIGBJNqsh\", \"artist\": \"Smoking Souls\", \"popularity\": 0, \"danceability\": 0.513, \"energy\": 0.465, \"key\": 9, \"loudness\": -6.318, \"mode\": 1, \"speechiness\": 0.0593, \"acousticness\": 0.858, \"instrumentalness\": 0.0, \"liveness\": 0.36, \"valence\": 0.208, \"tempo\": 95.859, \"year_playlist\": 2018, \"duration_ms\": 238.0}, {\"track_name\": \"Do I Wanna Know?\", \"album\": \"AM\", \"track_id\": \"5FVd6KXrgO9B3JPmC8OPst\", \"artist\": \"Arctic Monkeys\", \"popularity\": 87, \"danceability\": 0.548, \"energy\": 0.532, \"key\": 5, \"loudness\": -7.596, \"mode\": 1, \"speechiness\": 0.0323, \"acousticness\": 0.186, \"instrumentalness\": 0.000263, \"liveness\": 0.217, \"valence\": 0.405, \"tempo\": 85.03, \"year_playlist\": 2018, \"duration_ms\": 272.0}, {\"track_name\": \"Gin and Drugs (feat. Problem)\", \"album\": \"Rolling Papers 2\", \"track_id\": \"1NX3nkD48kz4BLgxUhtt5s\", \"artist\": \"Wiz Khalifa\", \"popularity\": 45, \"danceability\": 0.829, \"energy\": 0.803, \"key\": 9, \"loudness\": -4.153, \"mode\": 1, \"speechiness\": 0.258, \"acousticness\": 0.131, \"instrumentalness\": 0.0, \"liveness\": 0.636, \"valence\": 0.766, \"tempo\": 98.968, \"year_playlist\": 2018, \"duration_ms\": 154.0}, {\"track_name\": \"Generaci\\u00f3n perdida\", \"album\": \"Cicatrices\", \"track_id\": \"4yGusLC2fJbi1N3hcJNbAP\", \"artist\": \"Natos y Waor\", \"popularity\": 9, \"danceability\": 0.679, \"energy\": 0.752, \"key\": 11, \"loudness\": -4.726, \"mode\": 1, \"speechiness\": 0.309, \"acousticness\": 0.355, \"instrumentalness\": 1.09e-06, \"liveness\": 0.0985, \"valence\": 0.372, \"tempo\": 89.903, \"year_playlist\": 2018, \"duration_ms\": 184.0}, {\"track_name\": \"Ama, ama, ama y ensancha el alma - Versi\\u00f3n 2004\", \"album\": \"Grandes exitos y fracasos (Episodio 1\\u00ba)\", \"track_id\": \"06LdeHlnBLBDUb87cgBef0\", \"artist\": \"Extremoduro\", \"popularity\": 43, \"danceability\": 0.482, \"energy\": 0.858, \"key\": 9, \"loudness\": -3.946, \"mode\": 1, \"speechiness\": 0.0682, \"acousticness\": 0.128, \"instrumentalness\": 0.00564, \"liveness\": 0.0991, \"valence\": 0.613, \"tempo\": 165.876, \"year_playlist\": 2018, \"duration_ms\": 168.0}, {\"track_name\": \"De Mar en Mar\", \"album\": \"El Lado de los Rebeldes\", \"track_id\": \"5tA30UTCxd4n5Fzaz4p6WK\", \"artist\": \"La Ra\\u00edz\", \"popularity\": 39, \"danceability\": 0.748, \"energy\": 0.884, \"key\": 7, \"loudness\": -5.471, \"mode\": 1, \"speechiness\": 0.0393, \"acousticness\": 0.088, \"instrumentalness\": 0.0, \"liveness\": 0.0528, \"valence\": 0.956, \"tempo\": 99.024, \"year_playlist\": 2018, \"duration_ms\": 296.0}, {\"track_name\": \"Narcolepsia\", \"album\": \"Yipiyou\", \"track_id\": \"6tnl0gz73FCRz2kzWwdUUq\", \"artist\": \"FERNANDOCOSTA\", \"popularity\": 0, \"danceability\": 0.776, \"energy\": 0.607, \"key\": 2, \"loudness\": -8.35, \"mode\": 1, \"speechiness\": 0.367, \"acousticness\": 0.308, \"instrumentalness\": 0.0, \"liveness\": 0.11, \"valence\": 0.771, \"tempo\": 93.85, \"year_playlist\": 2019, \"duration_ms\": 150.0}, {\"track_name\": \"Ansiedad y recuerdos (feat. Prok)\", \"album\": \"Ansiedad y recuerdos (feat. Prok)\", \"track_id\": \"2xfyNgTzByyuTok5bNNkgH\", \"artist\": \"Denom\", \"popularity\": 0, \"danceability\": 0.7, \"energy\": 0.68, \"key\": 10, \"loudness\": -5.783, \"mode\": 0, \"speechiness\": 0.316, \"acousticness\": 0.315, \"instrumentalness\": 0.0, \"liveness\": 0.12, \"valence\": 0.359, \"tempo\": 89.976, \"year_playlist\": 2019, \"duration_ms\": 169.0}, {\"track_name\": \"#RapSinCorte XXII\", \"album\": \"#RapSinCorte, Vol. 2\", \"track_id\": \"1ZAM0FSr3tPynTDaGf9e1x\", \"artist\": \"Foyone\", \"popularity\": 0, \"danceability\": 0.755, \"energy\": 0.689, \"key\": 10, \"loudness\": -10.986, \"mode\": 0, \"speechiness\": 0.354, \"acousticness\": 0.0465, \"instrumentalness\": 0.0, \"liveness\": 0.145, \"valence\": 0.799, \"tempo\": 95.845, \"year_playlist\": 2019, \"duration_ms\": 147.0}, {\"track_name\": \"Da Vinci\", \"album\": \"Da Vinci\", \"track_id\": \"0R8jT6yhr9S7J649gc8i21\", \"artist\": \"Ayax y Prok\", \"popularity\": 0, \"danceability\": 0.619, \"energy\": 0.818, \"key\": 1, \"loudness\": -6.014, \"mode\": 0, \"speechiness\": 0.387, \"acousticness\": 0.504, \"instrumentalness\": 0.0, \"liveness\": 0.266, \"valence\": 0.609, \"tempo\": 127.247, \"year_playlist\": 2019, \"duration_ms\": 133.0}, {\"track_name\": \"Malamanera\", \"album\": \"Malamanera\", \"track_id\": \"4YePGWYi0BlfbMMjcN1dr7\", \"artist\": \"FERNANDOCOSTA\", \"popularity\": 0, \"danceability\": 0.829, \"energy\": 0.589, \"key\": 7, \"loudness\": -6.824, \"mode\": 1, \"speechiness\": 0.255, \"acousticness\": 0.522, \"instrumentalness\": 0.0, \"liveness\": 0.12, \"valence\": 0.376, \"tempo\": 91.988, \"year_playlist\": 2019, \"duration_ms\": 182.0}, {\"track_name\": \"Modo Turbio\", \"album\": \"Modo Turbio\", \"track_id\": \"0prUbzY7PrJujuukMXCWbB\", \"artist\": \"Kaze\", \"popularity\": 52, \"danceability\": 0.815, \"energy\": 0.79, \"key\": 5, \"loudness\": -8.31, \"mode\": 0, \"speechiness\": 0.205, \"acousticness\": 0.0697, \"instrumentalness\": 0.0, \"liveness\": 0.122, \"valence\": 0.553, \"tempo\": 127.918, \"year_playlist\": 2019, \"duration_ms\": 228.0}, {\"track_name\": \"Lo Que en Silencio Guardo\", \"album\": \"Recopilatorio de Temas In\\u00e9ditos\", \"track_id\": \"5ZSHDuhxImgtzSglqEPWJ3\", \"artist\": \"Kaze\", \"popularity\": 50, \"danceability\": 0.778, \"energy\": 0.718, \"key\": 7, \"loudness\": -7.264, \"mode\": 0, \"speechiness\": 0.303, \"acousticness\": 0.58, \"instrumentalness\": 0.0, \"liveness\": 0.12, \"valence\": 0.965, \"tempo\": 93.207, \"year_playlist\": 2019, \"duration_ms\": 165.0}, {\"track_name\": \"Criminal\", \"album\": \"Rojo y Negro\", \"track_id\": \"3QnMBrc2k76OwyZdjbBSwO\", \"artist\": \"Ayax y Prok\", \"popularity\": 0, \"danceability\": 0.774, \"energy\": 0.86, \"key\": 10, \"loudness\": -4.484, \"mode\": 0, \"speechiness\": 0.325, \"acousticness\": 0.387, \"instrumentalness\": 0.0, \"liveness\": 0.237, \"valence\": 0.759, \"tempo\": 91.96, \"year_playlist\": 2019, \"duration_ms\": 193.0}, {\"track_name\": \"#RapSinCorte VII\", \"album\": \"#RapSinCorte, Vol. 1\", \"track_id\": \"2lnXyKWNAdmegHJamDmEpX\", \"artist\": \"Foyone\", \"popularity\": 0, \"danceability\": 0.552, \"energy\": 0.866, \"key\": 10, \"loudness\": -9.619, \"mode\": 0, \"speechiness\": 0.323, \"acousticness\": 0.0321, \"instrumentalness\": 4.65e-06, \"liveness\": 0.347, \"valence\": 0.42, \"tempo\": 87.891, \"year_playlist\": 2019, \"duration_ms\": 164.0}, {\"track_name\": \"Disasters\", \"album\": \"La Mazeta\", \"track_id\": \"26vUrzxwKJ84IgzefUKYif\", \"artist\": \"Kulto Kultibo\", \"popularity\": 32, \"danceability\": 0.752, \"energy\": 0.765, \"key\": 7, \"loudness\": -6.595, \"mode\": 1, \"speechiness\": 0.259, \"acousticness\": 0.148, \"instrumentalness\": 0.0, \"liveness\": 0.0662, \"valence\": 0.732, \"tempo\": 97.024, \"year_playlist\": 2019, \"duration_ms\": 276.0}, {\"track_name\": \"Qu\\u00e9date\", \"album\": \"Qu\\u00e9date\", \"track_id\": \"2q3pG1FiSmLqVM3DJkLaGJ\", \"artist\": \"Luisaker\", \"popularity\": 0, \"danceability\": 0.798, \"energy\": 0.572, \"key\": 0, \"loudness\": -10.863, \"mode\": 0, \"speechiness\": 0.225, \"acousticness\": 0.514, \"instrumentalness\": 0.0, \"liveness\": 0.0859, \"valence\": 0.543, \"tempo\": 140.05, \"year_playlist\": 2019, \"duration_ms\": 146.0}, {\"track_name\": \"Cada Vez\", \"album\": \"Miseria, Sangre y Plomo\", \"track_id\": \"0cvlErFQaOzeyiX8FXDtfR\", \"artist\": \"Desakato\", \"popularity\": 0, \"danceability\": 0.453, \"energy\": 0.9, \"key\": 7, \"loudness\": -4.655, \"mode\": 0, \"speechiness\": 0.043, \"acousticness\": 0.000477, \"instrumentalness\": 3.05e-05, \"liveness\": 0.2, \"valence\": 0.256, \"tempo\": 179.917, \"year_playlist\": 2019, \"duration_ms\": 332.0}, {\"track_name\": \"Cristales Rotos\", \"album\": \"Azul/Rojo\", \"track_id\": \"2v7exGU90YFXvlxUJ9dFvQ\", \"artist\": \"Sons of Aguirre\", \"popularity\": 46, \"danceability\": 0.531, \"energy\": 0.687, \"key\": 0, \"loudness\": -7.4, \"mode\": 1, \"speechiness\": 0.0462, \"acousticness\": 0.407, \"instrumentalness\": 0.0, \"liveness\": 0.0875, \"valence\": 0.943, \"tempo\": 82.562, \"year_playlist\": 2019, \"duration_ms\": 162.0}, {\"track_name\": \"Danger\", \"album\": \"Yipiyou\", \"track_id\": \"0rNAhrPDcqtWNJXbcsF2t4\", \"artist\": \"FERNANDOCOSTA\", \"popularity\": 0, \"danceability\": 0.65, \"energy\": 0.521, \"key\": 1, \"loudness\": -7.102, \"mode\": 1, \"speechiness\": 0.0537, \"acousticness\": 0.668, \"instrumentalness\": 1.33e-05, \"liveness\": 0.135, \"valence\": 0.214, \"tempo\": 170.129, \"year_playlist\": 2019, \"duration_ms\": 224.0}, {\"track_name\": \"Nuestros Mejores Momentos\", \"album\": \"La Hora Del Baile\", \"track_id\": \"285ZTlhTlkRtrC0EfCONXX\", \"artist\": \"Kaos Urbano\", \"popularity\": 0, \"danceability\": 0.563, \"energy\": 0.939, \"key\": 11, \"loudness\": -4.258, \"mode\": 0, \"speechiness\": 0.0413, \"acousticness\": 0.00404, \"instrumentalness\": 0.000215, \"liveness\": 0.188, \"valence\": 0.585, \"tempo\": 94.996, \"year_playlist\": 2019, \"duration_ms\": 212.0}, {\"track_name\": \"Octubres rotos\", \"album\": \"Con el Viento de Cara\", \"track_id\": \"096dO4loq3XcU3TBDCjvfW\", \"artist\": \"Desakato\", \"popularity\": 0, \"danceability\": 0.583, \"energy\": 0.88, \"key\": 2, \"loudness\": -5.188, \"mode\": 1, \"speechiness\": 0.0361, \"acousticness\": 0.00016, \"instrumentalness\": 0.000406, \"liveness\": 0.182, \"valence\": 0.301, \"tempo\": 134.973, \"year_playlist\": 2019, \"duration_ms\": 201.0}, {\"track_name\": \"Verborrea (with Roberto Iniesta & I\\u00f1aki Ant\\u00f3n)\", \"album\": \"Caballo de Oro\", \"track_id\": \"3i8T2Jk8HeN8LLQl6jSCqm\", \"artist\": \"Poncho K\", \"popularity\": 45, \"danceability\": 0.547, \"energy\": 0.681, \"key\": 4, \"loudness\": -5.582, \"mode\": 0, \"speechiness\": 0.0387, \"acousticness\": 0.0343, \"instrumentalness\": 1.23e-06, \"liveness\": 0.106, \"valence\": 0.348, \"tempo\": 155.969, \"year_playlist\": 2019, \"duration_ms\": 244.0}, {\"track_name\": \"Por la calle abajo\", \"album\": \"Yipiyou\", \"track_id\": \"7xOXRdYFrQdfUyJXU9uDTV\", \"artist\": \"FERNANDOCOSTA\", \"popularity\": 0, \"danceability\": 0.867, \"energy\": 0.487, \"key\": 11, \"loudness\": -7.697, \"mode\": 1, \"speechiness\": 0.297, \"acousticness\": 0.524, \"instrumentalness\": 0.0, \"liveness\": 0.12, \"valence\": 0.757, \"tempo\": 90.029, \"year_playlist\": 2019, \"duration_ms\": 155.0}, {\"track_name\": \"Chispa y Ox\\u00edgeno\", \"album\": \"V\\u00e9rtigo\", \"track_id\": \"5SBqoQ1GNWw3SraFBAasbL\", \"artist\": \"L\\u00e1grimas De Sangre\", \"popularity\": 46, \"danceability\": 0.606, \"energy\": 0.663, \"key\": 7, \"loudness\": -7.037, \"mode\": 1, \"speechiness\": 0.317, \"acousticness\": 0.7, \"instrumentalness\": 0.0, \"liveness\": 0.306, \"valence\": 0.586, \"tempo\": 169.977, \"year_playlist\": 2019, \"duration_ms\": 344.0}, {\"track_name\": \"God's Plan\", \"album\": \"Scorpion\", \"track_id\": \"6DCZcSspjsKoFjzjrWoCdn\", \"artist\": \"Drake\", \"popularity\": 84, \"danceability\": 0.754, \"energy\": 0.449, \"key\": 7, \"loudness\": -9.211, \"mode\": 1, \"speechiness\": 0.109, \"acousticness\": 0.0332, \"instrumentalness\": 8.29e-05, \"liveness\": 0.552, \"valence\": 0.357, \"tempo\": 77.169, \"year_playlist\": 2019, \"duration_ms\": 199.0}, {\"track_name\": \"En venta? \\u00a1No!\", \"album\": \"Ahora o Nunca\", \"track_id\": \"0Vckgr7ep0bqYysR8ZQbvu\", \"artist\": \"Kulto Kultibo\", \"popularity\": 39, \"danceability\": 0.716, \"energy\": 0.841, \"key\": 1, \"loudness\": -5.445, \"mode\": 1, \"speechiness\": 0.171, \"acousticness\": 0.209, \"instrumentalness\": 0.0, \"liveness\": 0.0869, \"valence\": 0.778, \"tempo\": 97.152, \"year_playlist\": 2019, \"duration_ms\": 212.0}, {\"track_name\": \"Dinamo\", \"album\": \"Yipiyou\", \"track_id\": \"0madpsS4UWtL72r3i9W9xH\", \"artist\": \"FERNANDOCOSTA\", \"popularity\": 0, \"danceability\": 0.693, \"energy\": 0.672, \"key\": 1, \"loudness\": -7.724, \"mode\": 0, \"speechiness\": 0.288, \"acousticness\": 0.788, \"instrumentalness\": 0.0, \"liveness\": 0.109, \"valence\": 0.688, \"tempo\": 92.223, \"year_playlist\": 2019, \"duration_ms\": 157.0}, {\"track_name\": \"Lutte\", \"album\": \"Amores\", \"track_id\": \"4eKyWOSMun3lO7qmftopQO\", \"artist\": \"AYAX\", \"popularity\": 0, \"danceability\": 0.725, \"energy\": 0.784, \"key\": 7, \"loudness\": -7.86, \"mode\": 1, \"speechiness\": 0.392, \"acousticness\": 0.15, \"instrumentalness\": 0.0, \"liveness\": 0.564, \"valence\": 0.651, \"tempo\": 94.75, \"year_playlist\": 2019, \"duration_ms\": 245.0}, {\"track_name\": \"Te conozco bien\", \"album\": \"La Real M\\u00fasica Expl\\u00edcita\", \"track_id\": \"1XXnNib1BeiT0kX64m2SNT\", \"artist\": \"L\\u00e1grimas De Sangre\", \"popularity\": 38, \"danceability\": 0.622, \"energy\": 0.786, \"key\": 7, \"loudness\": -6.595, \"mode\": 1, \"speechiness\": 0.256, \"acousticness\": 0.318, \"instrumentalness\": 0.0, \"liveness\": 0.138, \"valence\": 0.711, \"tempo\": 178.217, \"year_playlist\": 2019, \"duration_ms\": 307.0}, {\"track_name\": \"Que se joda el viento\", \"album\": \"28.000 pu\\u00f1aladas\", \"track_id\": \"35RZlC2of95tgErjy8BtVx\", \"artist\": \"Marea\", \"popularity\": 55, \"danceability\": 0.669, \"energy\": 0.739, \"key\": 9, \"loudness\": -5.872, \"mode\": 0, \"speechiness\": 0.0329, \"acousticness\": 0.0138, \"instrumentalness\": 8.84e-06, \"liveness\": 0.136, \"valence\": 0.764, \"tempo\": 118.04, \"year_playlist\": 2019, \"duration_ms\": 305.0}, {\"track_name\": \"Pa que lo gocen\", \"album\": \"Yipiyou\", \"track_id\": \"7BMdZsDXxPH6Db3Ug6A2q2\", \"artist\": \"FERNANDOCOSTA\", \"popularity\": 0, \"danceability\": 0.678, \"energy\": 0.625, \"key\": 6, \"loudness\": -7.29, \"mode\": 0, \"speechiness\": 0.109, \"acousticness\": 0.349, \"instrumentalness\": 0.0, \"liveness\": 0.116, \"valence\": 0.277, \"tempo\": 89.982, \"year_playlist\": 2019, \"duration_ms\": 221.0}, {\"track_name\": \"Manolito Caramierda\", \"album\": \"Una Historia Con Las Manos\", \"track_id\": \"0cMAspOC4MvMC1kRAWUzoA\", \"artist\": \"Poncho K\", \"popularity\": 43, \"danceability\": 0.674, \"energy\": 0.851, \"key\": 4, \"loudness\": -5.019, \"mode\": 1, \"speechiness\": 0.0375, \"acousticness\": 0.0141, \"instrumentalness\": 0.0, \"liveness\": 0.0464, \"valence\": 0.914, \"tempo\": 140.0, \"year_playlist\": 2019, \"duration_ms\": 190.0}, {\"track_name\": \"Si Vienes\", \"album\": \"Si Vienes\", \"track_id\": \"0SxZYeCnWCOFLDSR9pD0Li\", \"artist\": \"Nikone\", \"popularity\": 31, \"danceability\": 0.712, \"energy\": 0.626, \"key\": 8, \"loudness\": -11.836, \"mode\": 1, \"speechiness\": 0.165, \"acousticness\": 0.457, \"instrumentalness\": 0.0, \"liveness\": 0.0967, \"valence\": 0.917, \"tempo\": 89.859, \"year_playlist\": 2019, \"duration_ms\": 160.0}, {\"track_name\": \"Contando Lunares (feat. Cruz Cafun\\u00e9)\", \"album\": \"La Dura Vida del Joven Rapero\", \"track_id\": \"6Cs7b9bu3fy5XhMwBA9Tz4\", \"artist\": \"Don Patricio\", \"popularity\": 0, \"danceability\": 0.856, \"energy\": 0.523, \"key\": 4, \"loudness\": -10.481, \"mode\": 0, \"speechiness\": 0.131, \"acousticness\": 0.444, \"instrumentalness\": 0.0, \"liveness\": 0.0537, \"valence\": 0.709, \"tempo\": 105.935, \"year_playlist\": 2019, \"duration_ms\": 220.0}, {\"track_name\": \"Cowboys\", \"album\": \"Yipiyou\", \"track_id\": \"0EoPKG7oCySL1iJivxQzqD\", \"artist\": \"FERNANDOCOSTA\", \"popularity\": 0, \"danceability\": 0.676, \"energy\": 0.765, \"key\": 10, \"loudness\": -5.81, \"mode\": 0, \"speechiness\": 0.358, \"acousticness\": 0.772, \"instrumentalness\": 0.0, \"liveness\": 0.0501, \"valence\": 0.851, \"tempo\": 190.631, \"year_playlist\": 2019, \"duration_ms\": 139.0}, {\"track_name\": \"Intro\", \"album\": \"Un perro andaluz\", \"track_id\": \"3zcRDV0iBJGJXXunsq5K8i\", \"artist\": \"Delaossa\", \"popularity\": 0, \"danceability\": 0.488, \"energy\": 0.743, \"key\": 2, \"loudness\": -8.058, \"mode\": 1, \"speechiness\": 0.436, \"acousticness\": 0.143, \"instrumentalness\": 0.0, \"liveness\": 0.131, \"valence\": 0.395, \"tempo\": 164.45, \"year_playlist\": 2019, \"duration_ms\": 120.0}, {\"track_name\": \"Le voy a cobrar a tus labios tus miradas\", \"album\": \"Esta noche se merece otra ronda\", \"track_id\": \"2EIyK5s2Ni7ZX0qyN00Qh1\", \"artist\": \"Sinkope\", \"popularity\": 40, \"danceability\": 0.288, \"energy\": 0.504, \"key\": 7, \"loudness\": -6.07, \"mode\": 1, \"speechiness\": 0.0383, \"acousticness\": 0.112, \"instrumentalness\": 1.41e-06, \"liveness\": 0.117, \"valence\": 0.31, \"tempo\": 71.782, \"year_playlist\": 2019, \"duration_ms\": 325.0}, {\"track_name\": \"Welcome To Jamrock\", \"album\": \"Welcome to Jamrock\", \"track_id\": \"22AbXxQbMdVqEz7xJjhccG\", \"artist\": \"Damian Marley\", \"popularity\": 68, \"danceability\": 0.836, \"energy\": 0.661, \"key\": 7, \"loudness\": -6.502, \"mode\": 0, \"speechiness\": 0.338, \"acousticness\": 0.0208, \"instrumentalness\": 0.0, \"liveness\": 0.449, \"valence\": 0.753, \"tempo\": 76.71, \"year_playlist\": 2019, \"duration_ms\": 213.0}, {\"track_name\": \"Gusanos de seda\", \"album\": \"Yipiyou\", \"track_id\": \"5mFXhYVrl2dYGKvfAB82QF\", \"artist\": \"FERNANDOCOSTA\", \"popularity\": 0, \"danceability\": 0.545, \"energy\": 0.904, \"key\": 8, \"loudness\": -5.474, \"mode\": 0, \"speechiness\": 0.165, \"acousticness\": 0.738, \"instrumentalness\": 0.0, \"liveness\": 0.204, \"valence\": 0.447, \"tempo\": 87.933, \"year_playlist\": 2019, \"duration_ms\": 203.0}, {\"track_name\": \"Bambino\", \"album\": \"Bambino\", \"track_id\": \"4VMMc4Yb50aH9qK2j2M1Ba\", \"artist\": \"Recycled J\", \"popularity\": 0, \"danceability\": 0.667, \"energy\": 0.772, \"key\": 4, \"loudness\": -6.193, \"mode\": 1, \"speechiness\": 0.298, \"acousticness\": 0.357, \"instrumentalness\": 0.0, \"liveness\": 0.0763, \"valence\": 0.294, \"tempo\": 179.918, \"year_playlist\": 2019, \"duration_ms\": 156.0}, {\"track_name\": \"Sin Prisa\", \"album\": \"Sin Prisa\", \"track_id\": \"1LuccEv4YdpWldk4B5SAUt\", \"artist\": \"Nikone\", \"popularity\": 44, \"danceability\": 0.652, \"energy\": 0.442, \"key\": 9, \"loudness\": -13.698, \"mode\": 1, \"speechiness\": 0.0861, \"acousticness\": 0.84, \"instrumentalness\": 5.39e-05, \"liveness\": 0.107, \"valence\": 0.146, \"tempo\": 99.863, \"year_playlist\": 2019, \"duration_ms\": 165.0}, {\"track_name\": \"Macetas de colores (feat. Los Delinq\\u00fcentes) - C\\u00e1ceres 2016\", \"album\": \"Eres buena gente\", \"track_id\": \"6dWQXXZR1IQZc20Hkjk2Dq\", \"artist\": \"El Desv\\u00e1n Del Duende\", \"popularity\": 0, \"danceability\": 0.748, \"energy\": 0.675, \"key\": 4, \"loudness\": -6.999, \"mode\": 1, \"speechiness\": 0.063, \"acousticness\": 0.38, \"instrumentalness\": 0.0, \"liveness\": 0.0904, \"valence\": 0.697, \"tempo\": 102.108, \"year_playlist\": 2019, \"duration_ms\": 245.0}, {\"track_name\": \"Qu\\u00e9 m\\u00e1s da\", \"album\": \"Yipiyou\", \"track_id\": \"716r0sw9uxfBPUePZep4FE\", \"artist\": \"FERNANDOCOSTA\", \"popularity\": 0, \"danceability\": 0.692, \"energy\": 0.576, \"key\": 10, \"loudness\": -8.975, \"mode\": 1, \"speechiness\": 0.0821, \"acousticness\": 0.683, \"instrumentalness\": 3.33e-06, \"liveness\": 0.0938, \"valence\": 0.173, \"tempo\": 114.891, \"year_playlist\": 2019, \"duration_ms\": 206.0}, {\"track_name\": \"Carretera\", \"album\": \"Carretera\", \"track_id\": \"6iNJ8Zdt3Kb2E7JuvTj6B5\", \"artist\": \"Natos y Waor\", \"popularity\": 11, \"danceability\": 0.673, \"energy\": 0.753, \"key\": 4, \"loudness\": -6.632, \"mode\": 0, \"speechiness\": 0.0549, \"acousticness\": 0.734, \"instrumentalness\": 0.0, \"liveness\": 0.111, \"valence\": 0.592, \"tempo\": 84.96, \"year_playlist\": 2019, \"duration_ms\": 215.0}, {\"track_name\": \"Birra, Humo y Reflexiones\", \"album\": \"Kaos Nomada\", \"track_id\": \"0ZrDom12tnntosy9CLL1RK\", \"artist\": \"Hard GZ\", \"popularity\": 45, \"danceability\": 0.673, \"energy\": 0.857, \"key\": 1, \"loudness\": -7.271, \"mode\": 1, \"speechiness\": 0.305, \"acousticness\": 0.453, \"instrumentalness\": 0.0, \"liveness\": 0.136, \"valence\": 0.81, \"tempo\": 92.107, \"year_playlist\": 2019, \"duration_ms\": 221.0}, {\"track_name\": \"En Paz\", \"album\": \"En Paz\", \"track_id\": \"7CdXFdt8SJvPrEUcEfUQU5\", \"artist\": \"Walls\", \"popularity\": 0, \"danceability\": 0.766, \"energy\": 0.359, \"key\": 10, \"loudness\": -10.956, \"mode\": 0, \"speechiness\": 0.114, \"acousticness\": 0.754, \"instrumentalness\": 0.0, \"liveness\": 0.0865, \"valence\": 0.525, \"tempo\": 93.998, \"year_playlist\": 2019, \"duration_ms\": 219.0}, {\"track_name\": \"Australia Street\", \"album\": \"Caress Your Soul\", \"track_id\": \"0O0M44llUQuPdJAkROQRch\", \"artist\": \"Sticky Fingers\", \"popularity\": 0, \"danceability\": 0.472, \"energy\": 0.69, \"key\": 9, \"loudness\": -8.092, \"mode\": 0, \"speechiness\": 0.0443, \"acousticness\": 0.0219, \"instrumentalness\": 0.0, \"liveness\": 0.0992, \"valence\": 0.512, \"tempo\": 77.478, \"year_playlist\": 2019, \"duration_ms\": 219.0}, {\"track_name\": \"Orgullo Banderillero\", \"album\": \"Sin Miedo a Vivir (Extended Version)\", \"track_id\": \"0TVQ4e2Z0Cmd7Fiixj4Ofd\", \"artist\": \"SFDK\", \"popularity\": 52, \"danceability\": 0.774, \"energy\": 0.54, \"key\": 6, \"loudness\": -6.58, \"mode\": 0, \"speechiness\": 0.406, \"acousticness\": 0.0996, \"instrumentalness\": 0.0, \"liveness\": 0.14, \"valence\": 0.613, \"tempo\": 83.956, \"year_playlist\": 2019, \"duration_ms\": 268.0}, {\"track_name\": \"Monfrero\", \"album\": \"Yipiyou\", \"track_id\": \"6aw9BOVHK14u1yzceAo9jw\", \"artist\": \"FERNANDOCOSTA\", \"popularity\": 0, \"danceability\": 0.789, \"energy\": 0.71, \"key\": 10, \"loudness\": -7.004, \"mode\": 0, \"speechiness\": 0.264, \"acousticness\": 0.684, \"instrumentalness\": 0.0, \"liveness\": 0.065, \"valence\": 0.581, \"tempo\": 92.973, \"year_playlist\": 2019, \"duration_ms\": 144.0}, {\"track_name\": \"Gotta Go Get It\", \"album\": \"Gotta Go Get It\", \"track_id\": \"4u4UHvBQhalTiGy9G76OtM\", \"artist\": \"Chicolisto\", \"popularity\": 0, \"danceability\": 0.731, \"energy\": 0.691, \"key\": 6, \"loudness\": -10.112, \"mode\": 1, \"speechiness\": 0.21, \"acousticness\": 0.344, \"instrumentalness\": 0.0603, \"liveness\": 0.101, \"valence\": 0.254, \"tempo\": 80.977, \"year_playlist\": 2019, \"duration_ms\": 134.0}, {\"track_name\": \"Voy a Celebrarlo\", \"album\": \"Si uno no se rinde\", \"track_id\": \"7Dd5p5mFpkZlEllO4Y7pCI\", \"artist\": \"L\\u00e1grimas De Sangre\", \"popularity\": 52, \"danceability\": 0.665, \"energy\": 0.718, \"key\": 7, \"loudness\": -8.06, \"mode\": 1, \"speechiness\": 0.238, \"acousticness\": 0.354, \"instrumentalness\": 0.0, \"liveness\": 0.584, \"valence\": 0.782, \"tempo\": 95.065, \"year_playlist\": 2019, \"duration_ms\": 393.0}, {\"track_name\": \"Ermita\\u00f1o\", \"album\": \"Astola & Raton: El Hombre Caracol\", \"track_id\": \"3lzFbNgtkFbxFCFnNR2RpY\", \"artist\": \"Astola\", \"popularity\": 37, \"danceability\": 0.756, \"energy\": 0.543, \"key\": 4, \"loudness\": -7.488, \"mode\": 0, \"speechiness\": 0.133, \"acousticness\": 0.782, \"instrumentalness\": 0.0, \"liveness\": 0.286, \"valence\": 0.572, \"tempo\": 99.947, \"year_playlist\": 2019, \"duration_ms\": 212.0}, {\"track_name\": \"Ready to Fight\", \"album\": \"Ready to Fight\", \"track_id\": \"3vaCe6uWWFd3PKwVC6zepK\", \"artist\": \"FERNANDOCOSTA\", \"popularity\": 0, \"danceability\": 0.732, \"energy\": 0.795, \"key\": 8, \"loudness\": -6.945, \"mode\": 1, \"speechiness\": 0.371, \"acousticness\": 0.261, \"instrumentalness\": 0.0, \"liveness\": 0.281, \"valence\": 0.683, \"tempo\": 97.507, \"year_playlist\": 2019, \"duration_ms\": 142.0}, {\"track_name\": \"Maldici\\u00f3n\", \"album\": \"Maldici\\u00f3n\", \"track_id\": \"63ap8n5SQhAMdP3MGwsWGP\", \"artist\": \"Walls\", \"popularity\": 0, \"danceability\": 0.638, \"energy\": 0.751, \"key\": 0, \"loudness\": -12.638, \"mode\": 0, \"speechiness\": 0.162, \"acousticness\": 0.922, \"instrumentalness\": 0.0, \"liveness\": 0.169, \"valence\": 0.529, \"tempo\": 102.568, \"year_playlist\": 2019, \"duration_ms\": 167.0}, {\"track_name\": \"Hou hou hou\", \"album\": \"Cara y cruz\", \"track_id\": \"2p23Yl77TuNv1OpHPtZaz1\", \"artist\": \"Ayax y Prok\", \"popularity\": 0, \"danceability\": 0.774, \"energy\": 0.673, \"key\": 1, \"loudness\": -4.082, \"mode\": 1, \"speechiness\": 0.284, \"acousticness\": 0.0283, \"instrumentalness\": 0.0, \"liveness\": 0.0902, \"valence\": 0.305, \"tempo\": 98.671, \"year_playlist\": 2019, \"duration_ms\": 126.0}, {\"track_name\": \"Kualqiier Dia\", \"album\": \"Tus Problemas Crecen\", \"track_id\": \"1XbkYc0szlepSM3Na5EcG5\", \"artist\": \"Boikot\", \"popularity\": 48, \"danceability\": 0.593, \"energy\": 0.977, \"key\": 11, \"loudness\": -4.015, \"mode\": 0, \"speechiness\": 0.159, \"acousticness\": 0.00228, \"instrumentalness\": 3.79e-06, \"liveness\": 0.0873, \"valence\": 0.213, \"tempo\": 107.535, \"year_playlist\": 2019, \"duration_ms\": 210.0}, {\"track_name\": \"Lento\", \"album\": \"Lento\", \"track_id\": \"03EKwyFCVEnEYPvF8tOUwY\", \"artist\": \"FERNANDOCOSTA\", \"popularity\": 0, \"danceability\": 0.702, \"energy\": 0.884, \"key\": 10, \"loudness\": -5.668, \"mode\": 0, \"speechiness\": 0.291, \"acousticness\": 0.463, \"instrumentalness\": 0.0, \"liveness\": 0.0946, \"valence\": 0.865, \"tempo\": 87.838, \"year_playlist\": 2019, \"duration_ms\": 207.0}, {\"track_name\": \"Lengua de Serpiente\", \"album\": \"Lengua de Serpiente\", \"track_id\": \"3dIxQaqs099K1uAtaHRmdS\", \"artist\": \"Blake\", \"popularity\": 0, \"danceability\": 0.809, \"energy\": 0.618, \"key\": 7, \"loudness\": -11.823, \"mode\": 0, \"speechiness\": 0.107, \"acousticness\": 0.408, \"instrumentalness\": 0.0, \"liveness\": 0.147, \"valence\": 0.941, \"tempo\": 102.055, \"year_playlist\": 2019, \"duration_ms\": 226.0}, {\"track_name\": \"Modo Vacil\\u00f3n\", \"album\": \"Modo Vacilon\", \"track_id\": \"4opU7chKB8wzoBF9VgeUqs\", \"artist\": \"Kream\", \"popularity\": 41, \"danceability\": 0.838, \"energy\": 0.871, \"key\": 0, \"loudness\": -4.559, \"mode\": 1, \"speechiness\": 0.315, \"acousticness\": 0.334, \"instrumentalness\": 0.0, \"liveness\": 0.137, \"valence\": 0.839, \"tempo\": 131.996, \"year_playlist\": 2019, \"duration_ms\": 223.0}, {\"track_name\": \"Rizando el rizo\", \"album\": \"Rizando el rizo\", \"track_id\": \"7945rq3tD057jfrZaR08Aw\", \"artist\": \"Ayax y Prok\", \"popularity\": 0, \"danceability\": 0.635, \"energy\": 0.718, \"key\": 0, \"loudness\": -7.071, \"mode\": 1, \"speechiness\": 0.36, \"acousticness\": 0.154, \"instrumentalness\": 0.0, \"liveness\": 0.133, \"valence\": 0.212, \"tempo\": 87.935, \"year_playlist\": 2019, \"duration_ms\": 127.0}, {\"track_name\": \"Avisos parentales\", \"album\": \"Yipiyou\", \"track_id\": \"4kDKLSXAakfdeZ428EQh9T\", \"artist\": \"FERNANDOCOSTA\", \"popularity\": 0, \"danceability\": 0.817, \"energy\": 0.703, \"key\": 2, \"loudness\": -7.614, \"mode\": 1, \"speechiness\": 0.269, \"acousticness\": 0.357, \"instrumentalness\": 0.0, \"liveness\": 0.0664, \"valence\": 0.875, \"tempo\": 95.0, \"year_playlist\": 2019, \"duration_ms\": 193.0}, {\"track_name\": \"23 de Junio\", \"album\": \"Mismo Sitio, Distinto Lugar\", \"track_id\": \"3NolL8Ds5qRrYQSVUBKicn\", \"artist\": \"Vetusta Morla\", \"popularity\": 57, \"danceability\": 0.442, \"energy\": 0.473, \"key\": 9, \"loudness\": -8.63, \"mode\": 0, \"speechiness\": 0.0394, \"acousticness\": 0.616, \"instrumentalness\": 1.17e-06, \"liveness\": 0.0693, \"valence\": 0.547, \"tempo\": 172.879, \"year_playlist\": 2019, \"duration_ms\": 207.0}, {\"track_name\": \"Ando a Tientas\", \"album\": \"Ando a Tientas\", \"track_id\": \"6GVtxYW0RvCkci90UnfBGh\", \"artist\": \"SWIT EME\", \"popularity\": 22, \"danceability\": 0.659, \"energy\": 0.786, \"key\": 4, \"loudness\": -5.851, \"mode\": 1, \"speechiness\": 0.28, \"acousticness\": 0.101, \"instrumentalness\": 0.0, \"liveness\": 0.134, \"valence\": 0.741, \"tempo\": 94.126, \"year_playlist\": 2019, \"duration_ms\": 210.0}, {\"track_name\": \"El prota\", \"album\": \"Especies en extinci\\u00f3n\", \"track_id\": \"148LxUZbZf4B1zZZnhBCbF\", \"artist\": \"Rulo y la contrabanda\", \"popularity\": 28, \"danceability\": 0.48, \"energy\": 0.735, \"key\": 9, \"loudness\": -6.713, \"mode\": 0, \"speechiness\": 0.0399, \"acousticness\": 0.00941, \"instrumentalness\": 1.78e-06, \"liveness\": 0.302, \"valence\": 0.425, \"tempo\": 158.759, \"year_playlist\": 2019, \"duration_ms\": 206.0}, {\"track_name\": \"Reina\", \"album\": \"Yipiyou\", \"track_id\": \"4ezJPRiq2TqcpxOeZhzf7X\", \"artist\": \"FERNANDOCOSTA\", \"popularity\": 0, \"danceability\": 0.739, \"energy\": 0.915, \"key\": 2, \"loudness\": -5.604, \"mode\": 1, \"speechiness\": 0.249, \"acousticness\": 0.234, \"instrumentalness\": 0.0, \"liveness\": 0.35, \"valence\": 0.604, \"tempo\": 91.985, \"year_playlist\": 2019, \"duration_ms\": 172.0}, {\"track_name\": \"El sol pegaba\", \"album\": \"Rojo y Negro\", \"track_id\": \"4agb4LQBYCKp5Y2tPfHV02\", \"artist\": \"Ayax y Prok\", \"popularity\": 0, \"danceability\": 0.559, \"energy\": 0.825, \"key\": 7, \"loudness\": -5.621, \"mode\": 1, \"speechiness\": 0.446, \"acousticness\": 0.383, \"instrumentalness\": 0.0, \"liveness\": 0.247, \"valence\": 0.748, \"tempo\": 179.907, \"year_playlist\": 2019, \"duration_ms\": 142.0}, {\"track_name\": \"Guerrero\", \"album\": \"Guerrero\", \"track_id\": \"0JN2B8T3X0wKaILK5inMnq\", \"artist\": \"Edoby\", \"popularity\": 46, \"danceability\": 0.565, \"energy\": 0.81, \"key\": 11, \"loudness\": -4.078, \"mode\": 1, \"speechiness\": 0.188, \"acousticness\": 0.794, \"instrumentalness\": 0.0, \"liveness\": 0.0918, \"valence\": 0.529, \"tempo\": 173.946, \"year_playlist\": 2019, \"duration_ms\": 182.0}, {\"track_name\": \"#RapSinCorte XXXIII\", \"album\": \"#RapSinCorte, Vol. 3\", \"track_id\": \"2IBruv8ukHbM00wDFppdF0\", \"artist\": \"Foyone\", \"popularity\": 0, \"danceability\": 0.631, \"energy\": 0.805, \"key\": 5, \"loudness\": -10.543, \"mode\": 0, \"speechiness\": 0.156, \"acousticness\": 0.402, \"instrumentalness\": 0.0, \"liveness\": 0.81, \"valence\": 0.815, \"tempo\": 79.037, \"year_playlist\": 2019, \"duration_ms\": 176.0}, {\"track_name\": \"How To Fly\", \"album\": \"Caress Your Soul\", \"track_id\": \"3jAoLij05OiNndX2XlSRdS\", \"artist\": \"Sticky Fingers\", \"popularity\": 1, \"danceability\": 0.676, \"energy\": 0.645, \"key\": 8, \"loudness\": -9.335, \"mode\": 0, \"speechiness\": 0.0992, \"acousticness\": 0.159, \"instrumentalness\": 0.00172, \"liveness\": 0.106, \"valence\": 0.537, \"tempo\": 151.058, \"year_playlist\": 2019, \"duration_ms\": 202.0}, {\"track_name\": \"Roxanne\", \"album\": \"Rojo y Negro\", \"track_id\": \"1Zm7cu7k8nsgZWmSs9nvkC\", \"artist\": \"Ayax y Prok\", \"popularity\": 0, \"danceability\": 0.752, \"energy\": 0.791, \"key\": 9, \"loudness\": -8.134, \"mode\": 0, \"speechiness\": 0.199, \"acousticness\": 0.492, \"instrumentalness\": 0.0, \"liveness\": 0.063, \"valence\": 0.66, \"tempo\": 94.03, \"year_playlist\": 2019, \"duration_ms\": 162.0}, {\"track_name\": \"Masculino singular\", \"album\": \"Veo Veo Mamoneo\", \"track_id\": \"52QD2RqoYu47mKA1gs4I3M\", \"artist\": \"Rosendo\", \"popularity\": 49, \"danceability\": 0.588, \"energy\": 0.915, \"key\": 2, \"loudness\": -5.11, \"mode\": 1, \"speechiness\": 0.0352, \"acousticness\": 0.00252, \"instrumentalness\": 0.0, \"liveness\": 0.238, \"valence\": 0.735, \"tempo\": 123.034, \"year_playlist\": 2019, \"duration_ms\": 243.0}, {\"track_name\": \"Something New (feat. Ty Dolla $ign)\", \"album\": \"Something New (feat. Ty Dolla $ign)\", \"track_id\": \"33z5crv3IO5U2BOi8xod92\", \"artist\": \"Wiz Khalifa\", \"popularity\": 48, \"danceability\": 0.814, \"energy\": 0.635, \"key\": 7, \"loudness\": -6.609, \"mode\": 0, \"speechiness\": 0.0809, \"acousticness\": 0.0935, \"instrumentalness\": 0.0, \"liveness\": 0.0892, \"valence\": 0.784, \"tempo\": 87.581, \"year_playlist\": 2019, \"duration_ms\": 201.0}, {\"track_name\": \"Aquellas Cosas Que Sol\\u00edamos Hacer\", \"album\": \"Sin Trampa Ni Cart\\u00f3n\", \"track_id\": \"1CrN92KYQTOePdubueHipL\", \"artist\": \"Benito Kamelas\", \"popularity\": 0, \"danceability\": 0.554, \"energy\": 0.844, \"key\": 0, \"loudness\": -6.103, \"mode\": 1, \"speechiness\": 0.0563, \"acousticness\": 0.0337, \"instrumentalness\": 1.72e-06, \"liveness\": 0.069, \"valence\": 0.618, \"tempo\": 167.994, \"year_playlist\": 2019, \"duration_ms\": 290.0}, {\"track_name\": \"Esto es rojo y negro\", \"album\": \"Rojo y Negro\", \"track_id\": \"4OSMvPP7qPNcEPBSFBFZMo\", \"artist\": \"Ayax y Prok\", \"popularity\": 0, \"danceability\": 0.72, \"energy\": 0.647, \"key\": 7, \"loudness\": -10.538, \"mode\": 1, \"speechiness\": 0.586, \"acousticness\": 0.34, \"instrumentalness\": 0.0, \"liveness\": 0.0793, \"valence\": 0.696, \"tempo\": 95.286, \"year_playlist\": 2019, \"duration_ms\": 121.0}, {\"track_name\": \"Por Partes\", \"album\": \"Por Partes\", \"track_id\": \"70U7ykdqCVLAtMePYvXvnJ\", \"artist\": \"Walls\", \"popularity\": 0, \"danceability\": 0.898, \"energy\": 0.641, \"key\": 1, \"loudness\": -7.823, \"mode\": 1, \"speechiness\": 0.117, \"acousticness\": 0.423, \"instrumentalness\": 0.0, \"liveness\": 0.123, \"valence\": 0.916, \"tempo\": 105.019, \"year_playlist\": 2019, \"duration_ms\": 184.0}, {\"track_name\": \"Por verte sonre\\u00edr\", \"album\": \"Mira\", \"track_id\": \"6tGUkobti5ztrb9aQ0UDEx\", \"artist\": \"La Fuga\", \"popularity\": 50, \"danceability\": 0.398, \"energy\": 0.825, \"key\": 7, \"loudness\": -2.961, \"mode\": 1, \"speechiness\": 0.0641, \"acousticness\": 0.508, \"instrumentalness\": 0.0, \"liveness\": 0.301, \"valence\": 0.299, \"tempo\": 132.414, \"year_playlist\": 2019, \"duration_ms\": 400.0}, {\"track_name\": \"Road To Zion\", \"album\": \"Welcome to Jamrock\", \"track_id\": \"6Ja1mjO9WcJFX3LsH22gRk\", \"artist\": \"Damian Marley\", \"popularity\": 62, \"danceability\": 0.724, \"energy\": 0.696, \"key\": 1, \"loudness\": -6.326, \"mode\": 1, \"speechiness\": 0.201, \"acousticness\": 0.123, \"instrumentalness\": 0.0, \"liveness\": 0.106, \"valence\": 0.433, \"tempo\": 93.607, \"year_playlist\": 2019, \"duration_ms\": 317.0}, {\"track_name\": \"A veces se me pasa, a veces paso\", \"album\": \"Cara y cruz\", \"track_id\": \"1Xet933o3e612B2HPY63pV\", \"artist\": \"Ayax y Prok\", \"popularity\": 0, \"danceability\": 0.717, \"energy\": 0.953, \"key\": 9, \"loudness\": -4.333, \"mode\": 1, \"speechiness\": 0.314, \"acousticness\": 0.104, \"instrumentalness\": 0.0, \"liveness\": 0.21, \"valence\": 0.667, \"tempo\": 93.06, \"year_playlist\": 2019, \"duration_ms\": 158.0}, {\"track_name\": \"Chacho\", \"album\": \"Chacho\", \"track_id\": \"2GYmLDGiihlndEgCItmJCJ\", \"artist\": \"Dollar Selmouni\", \"popularity\": 0, \"danceability\": 0.687, \"energy\": 0.575, \"key\": 1, \"loudness\": -7.726, \"mode\": 1, \"speechiness\": 0.307, \"acousticness\": 0.64, \"instrumentalness\": 5.43e-06, \"liveness\": 0.691, \"valence\": 0.616, \"tempo\": 91.907, \"year_playlist\": 2019, \"duration_ms\": 151.0}, {\"track_name\": \"Otra Noche\", \"album\": \"Mundo Kaotiko\", \"track_id\": \"2JXn1MQeFqowxtRxgmefuk\", \"artist\": \"Kaotiko\", \"popularity\": 55, \"danceability\": 0.552, \"energy\": 0.932, \"key\": 8, \"loudness\": -5.418, \"mode\": 1, \"speechiness\": 0.0488, \"acousticness\": 0.0234, \"instrumentalness\": 0.0, \"liveness\": 0.104, \"valence\": 0.538, \"tempo\": 112.031, \"year_playlist\": 2019, \"duration_ms\": 191.0}, {\"track_name\": \"Apocalypse\", \"album\": \"Cigarettes After Sex\", \"track_id\": \"7McZS9J6h0SKoZBR6cfcFe\", \"artist\": \"Cigarettes After Sex\", \"popularity\": 0, \"danceability\": 0.369, \"energy\": 0.465, \"key\": 5, \"loudness\": -9.017, \"mode\": 1, \"speechiness\": 0.0277, \"acousticness\": 0.0211, \"instrumentalness\": 0.6, \"liveness\": 0.109, \"valence\": 0.177, \"tempo\": 94.435, \"year_playlist\": 2019, \"duration_ms\": 291.0}, {\"track_name\": \"Obedece\", \"album\": \"Nuestro Tiempo\", \"track_id\": \"7wNPcsOIpuVoFiSLvgI88X\", \"artist\": \"Novus Ordo\", \"popularity\": 0, \"danceability\": 0.635, \"energy\": 0.752, \"key\": 7, \"loudness\": -9.577, \"mode\": 1, \"speechiness\": 0.0433, \"acousticness\": 0.0164, \"instrumentalness\": 3.71e-06, \"liveness\": 0.227, \"valence\": 0.589, \"tempo\": 87.481, \"year_playlist\": 2019, \"duration_ms\": 259.0}, {\"track_name\": \"Kambelleh\", \"album\": \"F.y.a.h.\", \"track_id\": \"32SHwvOWV0SDAgX0efdK2c\", \"artist\": \"Fyahbwoy\", \"popularity\": 39, \"danceability\": 0.833, \"energy\": 0.85, \"key\": 11, \"loudness\": -2.757, \"mode\": 1, \"speechiness\": 0.0871, \"acousticness\": 0.446, \"instrumentalness\": 0.0, \"liveness\": 0.546, \"valence\": 0.844, \"tempo\": 103.012, \"year_playlist\": 2019, \"duration_ms\": 209.0}, {\"track_name\": \"Diversity\", \"album\": \"Soul Pirate\", \"track_id\": \"2aUKZnUQDtyVS1CMU1xk9p\", \"artist\": \"Alborosie\", \"popularity\": 42, \"danceability\": 0.715, \"energy\": 0.512, \"key\": 7, \"loudness\": -6.826, \"mode\": 1, \"speechiness\": 0.199, \"acousticness\": 0.0373, \"instrumentalness\": 0.0, \"liveness\": 0.289, \"valence\": 0.707, \"tempo\": 133.944, \"year_playlist\": 2019, \"duration_ms\": 250.0}, {\"track_name\": \"Green Morning\", \"album\": \"Green Morning\", \"track_id\": \"2NmB2IrvrYIN8Tz7uxNyju\", \"artist\": \"Astola\", \"popularity\": 38, \"danceability\": 0.75, \"energy\": 0.653, \"key\": 6, \"loudness\": -6.178, \"mode\": 0, \"speechiness\": 0.0686, \"acousticness\": 0.706, \"instrumentalness\": 0.0, \"liveness\": 0.0588, \"valence\": 0.947, \"tempo\": 142.773, \"year_playlist\": 2019, \"duration_ms\": 187.0}, {\"track_name\": \"Si Quiere Estar Conmigo\", \"album\": \"Si Quiere Estar Conmigo\", \"track_id\": \"5RfvHDLXCeyeEBCFBlEZ3h\", \"artist\": \"Dollar Selmouni\", \"popularity\": 0, \"danceability\": 0.732, \"energy\": 0.787, \"key\": 6, \"loudness\": -6.053, \"mode\": 0, \"speechiness\": 0.0402, \"acousticness\": 0.293, \"instrumentalness\": 0.0434, \"liveness\": 0.531, \"valence\": 0.296, \"tempo\": 100.038, \"year_playlist\": 2019, \"duration_ms\": 211.0}, {\"track_name\": \"Cadenas de Oro\", \"album\": \"F.y.a.h.\", \"track_id\": \"31aSfmxBwO7IJXzjZR4Y5H\", \"artist\": \"Fyahbwoy\", \"popularity\": 37, \"danceability\": 0.594, \"energy\": 0.718, \"key\": 1, \"loudness\": -3.984, \"mode\": 0, \"speechiness\": 0.0433, \"acousticness\": 0.415, \"instrumentalness\": 0.0, \"liveness\": 0.161, \"valence\": 0.41, \"tempo\": 87.537, \"year_playlist\": 2019, \"duration_ms\": 180.0}, {\"track_name\": \"Last Resort\", \"album\": \"Infest\", \"track_id\": \"5W8YXBz9MTIDyrpYaCg2Ky\", \"artist\": \"Papa Roach\", \"popularity\": 80, \"danceability\": 0.589, \"energy\": 0.89, \"key\": 4, \"loudness\": -3.719, \"mode\": 0, \"speechiness\": 0.0603, \"acousticness\": 0.000481, \"instrumentalness\": 0.00082, \"liveness\": 0.201, \"valence\": 0.692, \"tempo\": 90.598, \"year_playlist\": 2019, \"duration_ms\": 200.0}, {\"track_name\": \"Natural\", \"album\": \"Natural\", \"track_id\": \"6aH9fMlmoSe6bs8PDoXFxA\", \"artist\": \"Suu\", \"popularity\": 0, \"danceability\": 0.592, \"energy\": 0.678, \"key\": 0, \"loudness\": -5.579, \"mode\": 1, \"speechiness\": 0.0362, \"acousticness\": 0.371, \"instrumentalness\": 8.74e-05, \"liveness\": 0.162, \"valence\": 0.68, \"tempo\": 96.892, \"year_playlist\": 2019, \"duration_ms\": 242.0}, {\"track_name\": \"De Golpe y Porrazo\", \"album\": \"De Golpe y Porrazo\", \"track_id\": \"04dt4L2848gdqKzNxphaH8\", \"artist\": \"SWIT EME\", \"popularity\": 31, \"danceability\": 0.717, \"energy\": 0.617, \"key\": 3, \"loudness\": -13.524, \"mode\": 1, \"speechiness\": 0.395, \"acousticness\": 0.452, \"instrumentalness\": 1.87e-05, \"liveness\": 0.362, \"valence\": 0.922, \"tempo\": 85.93, \"year_playlist\": 2019, \"duration_ms\": 200.0}, {\"track_name\": \"Cicatrices\", \"album\": \"Cicatrices\", \"track_id\": \"19OsDvOm2hw28Bqg7wo4Ox\", \"artist\": \"Natos y Waor\", \"popularity\": 21, \"danceability\": 0.718, \"energy\": 0.814, \"key\": 8, \"loudness\": -5.467, \"mode\": 1, \"speechiness\": 0.345, \"acousticness\": 0.695, \"instrumentalness\": 0.0, \"liveness\": 0.125, \"valence\": 0.27, \"tempo\": 120.04, \"year_playlist\": 2019, \"duration_ms\": 180.0}, {\"track_name\": \"Mil en multas\", \"album\": \"Un perro andaluz\", \"track_id\": \"5gFcjdrW7lc5IdlbqgutS5\", \"artist\": \"Delaossa\", \"popularity\": 0, \"danceability\": 0.619, \"energy\": 0.698, \"key\": 0, \"loudness\": -6.929, \"mode\": 0, \"speechiness\": 0.399, \"acousticness\": 0.495, \"instrumentalness\": 0.0, \"liveness\": 0.106, \"valence\": 0.677, \"tempo\": 126.118, \"year_playlist\": 2019, \"duration_ms\": 184.0}, {\"track_name\": \"Agua Pas\\u00e1\", \"album\": \"Redenci\\u00f3n (Versi\\u00f3n Exclusiva Spotify)\", \"track_id\": \"4QXiKcZwVr6MmgBXjsdGdU\", \"artist\": \"SFDK\", \"popularity\": 57, \"danceability\": 0.692, \"energy\": 0.847, \"key\": 5, \"loudness\": -4.408, \"mode\": 0, \"speechiness\": 0.187, \"acousticness\": 0.423, \"instrumentalness\": 0.0, \"liveness\": 0.0768, \"valence\": 0.449, \"tempo\": 139.773, \"year_playlist\": 2019, \"duration_ms\": 179.0}, {\"track_name\": \"Desahucio\", \"album\": \"Cara y cruz\", \"track_id\": \"5BruCMljVpEoMoOZkISuVF\", \"artist\": \"Ayax y Prok\", \"popularity\": 0, \"danceability\": 0.846, \"energy\": 0.847, \"key\": 1, \"loudness\": -4.42, \"mode\": 1, \"speechiness\": 0.248, \"acousticness\": 0.135, \"instrumentalness\": 0.0, \"liveness\": 0.0889, \"valence\": 0.788, \"tempo\": 93.034, \"year_playlist\": 2019, \"duration_ms\": 205.0}, {\"track_name\": \"Dale\", \"album\": \"Yipiyou\", \"track_id\": \"0QVTR3bmGkgIbJnlbaR4EG\", \"artist\": \"FERNANDOCOSTA\", \"popularity\": 0, \"danceability\": 0.536, \"energy\": 0.887, \"key\": 5, \"loudness\": -6.0, \"mode\": 0, \"speechiness\": 0.221, \"acousticness\": 0.439, \"instrumentalness\": 0.0, \"liveness\": 0.285, \"valence\": 0.912, \"tempo\": 188.116, \"year_playlist\": 2019, \"duration_ms\": 181.0}, {\"track_name\": \"Patata\", \"album\": \"Patata\", \"track_id\": \"4ZKR6PMUbyXS8Mb6tZpM7j\", \"artist\": \"Luisaker\", \"popularity\": 0, \"danceability\": 0.588, \"energy\": 0.507, \"key\": 6, \"loudness\": -11.836, \"mode\": 1, \"speechiness\": 0.428, \"acousticness\": 0.487, \"instrumentalness\": 0.0, \"liveness\": 0.108, \"valence\": 0.556, \"tempo\": 169.082, \"year_playlist\": 2019, \"duration_ms\": 182.0}, {\"track_name\": \"El aire de la calle\", \"album\": \"El Sentimiento Garrapatero Que Nos Traen Las Flores\", \"track_id\": \"2PaETSKl3w3IdtLIbDnQXJ\", \"artist\": \"Los Delinquentes\", \"popularity\": 61, \"danceability\": 0.755, \"energy\": 0.614, \"key\": 3, \"loudness\": -9.841, \"mode\": 0, \"speechiness\": 0.0458, \"acousticness\": 0.526, \"instrumentalness\": 0.0, \"liveness\": 0.113, \"valence\": 0.887, \"tempo\": 99.99, \"year_playlist\": 2019, \"duration_ms\": 187.0}, {\"track_name\": \"Ese cosquilleo\", \"album\": \"Cara y cruz\", \"track_id\": \"6Zcyvk9QmBpdyk93LmsqzL\", \"artist\": \"Ayax y Prok\", \"popularity\": 0, \"danceability\": 0.691, \"energy\": 0.817, \"key\": 1, \"loudness\": -5.573, \"mode\": 1, \"speechiness\": 0.32, \"acousticness\": 0.504, \"instrumentalness\": 0.0, \"liveness\": 0.368, \"valence\": 0.421, \"tempo\": 89.963, \"year_playlist\": 2019, \"duration_ms\": 207.0}, {\"track_name\": \"Ouh\\u00a1 Gyal\", \"album\": \"Vuela\", \"track_id\": \"05G5IBqgK4jMNyBfMm6fuG\", \"artist\": \"Mad Division\", \"popularity\": 40, \"danceability\": 0.698, \"energy\": 0.864, \"key\": 11, \"loudness\": -4.164, \"mode\": 0, \"speechiness\": 0.273, \"acousticness\": 0.329, \"instrumentalness\": 0.0, \"liveness\": 0.0701, \"valence\": 0.806, \"tempo\": 87.927, \"year_playlist\": 2019, \"duration_ms\": 204.0}, {\"track_name\": \"Volar Sin Alas\", \"album\": \"Manual de Jaleo\", \"track_id\": \"39tZa2WbpIk300pO0WvnXH\", \"artist\": \"El Canijo de Jerez\", \"popularity\": 42, \"danceability\": 0.494, \"energy\": 0.83, \"key\": 4, \"loudness\": -6.607, \"mode\": 1, \"speechiness\": 0.12, \"acousticness\": 0.165, \"instrumentalness\": 2.82e-05, \"liveness\": 0.0965, \"valence\": 0.303, \"tempo\": 153.509, \"year_playlist\": 2019, \"duration_ms\": 236.0}, {\"track_name\": \"Lo Tierno y la Corteza\", \"album\": \"11 Palos\", \"track_id\": \"1o7q2Rqdl2Ugzm4z2xa52z\", \"artist\": \"Poncho K\", \"popularity\": 0, \"danceability\": 0.528, \"energy\": 0.819, \"key\": 11, \"loudness\": -5.22, \"mode\": 0, \"speechiness\": 0.0305, \"acousticness\": 0.00783, \"instrumentalness\": 1.35e-06, \"liveness\": 0.248, \"valence\": 0.732, \"tempo\": 170.102, \"year_playlist\": 2019, \"duration_ms\": 190.0}, {\"track_name\": \"Cuaderno de bit\\u00e1cora\", \"album\": \"Cuaderno de bit\\u00e1cora\", \"track_id\": \"4i8tyhs7dkrXn7EhQPmjzk\", \"artist\": \"Ayax y Prok\", \"popularity\": 0, \"danceability\": 0.759, \"energy\": 0.555, \"key\": 11, \"loudness\": -12.895, \"mode\": 1, \"speechiness\": 0.877, \"acousticness\": 0.461, \"instrumentalness\": 0.0, \"liveness\": 0.0831, \"valence\": 0.593, \"tempo\": 94.039, \"year_playlist\": 2019, \"duration_ms\": 174.0}, {\"track_name\": \"Phantom Limb\", \"album\": \"Phantom Limb\", \"track_id\": \"7BgGeRpjz3REs2oYPbhhh1\", \"artist\": \"Melo Moreno\", \"popularity\": 35, \"danceability\": 0.797, \"energy\": 0.477, \"key\": 11, \"loudness\": -7.872, \"mode\": 0, \"speechiness\": 0.0371, \"acousticness\": 0.252, \"instrumentalness\": 1.46e-06, \"liveness\": 0.267, \"valence\": 0.587, \"tempo\": 124.112, \"year_playlist\": 2019, \"duration_ms\": 234.0}, {\"track_name\": \"\\u00a1Ay! Dolores\", \"album\": \"Y Ahora Qu\\u00e9?\", \"track_id\": \"2gDwJLEw8MTn0AoJzdpBWQ\", \"artist\": \"Reincidentes\", \"popularity\": 46, \"danceability\": 0.525, \"energy\": 0.851, \"key\": 2, \"loudness\": -5.581, \"mode\": 0, \"speechiness\": 0.0643, \"acousticness\": 0.0151, \"instrumentalness\": 0.0, \"liveness\": 0.656, \"valence\": 0.541, \"tempo\": 100.026, \"year_playlist\": 2019, \"duration_ms\": 248.0}, {\"track_name\": \"Easy\", \"album\": \"Easy\", \"track_id\": \"4uenWVEGaut8MKIRCcnND0\", \"artist\": \"Luisaker\", \"popularity\": 0, \"danceability\": 0.744, \"energy\": 0.544, \"key\": 11, \"loudness\": -3.911, \"mode\": 0, \"speechiness\": 0.312, \"acousticness\": 0.279, \"instrumentalness\": 0.0, \"liveness\": 0.088, \"valence\": 0.476, \"tempo\": 78.986, \"year_playlist\": 2019, \"duration_ms\": 164.0}, {\"track_name\": \"A las Cosas por Su Nombre\", \"album\": \"Vivir para Contarlo\", \"track_id\": \"0avEVorPMJyPPolMbeonBB\", \"artist\": \"Violadores Del Verso\", \"popularity\": 46, \"danceability\": 0.885, \"energy\": 0.877, \"key\": 2, \"loudness\": -5.269, \"mode\": 1, \"speechiness\": 0.171, \"acousticness\": 0.214, \"instrumentalness\": 1.44e-06, \"liveness\": 0.116, \"valence\": 0.89, \"tempo\": 91.985, \"year_playlist\": 2020, \"duration_ms\": 260.0}, {\"track_name\": \"Good News\", \"album\": \"Good News\", \"track_id\": \"3ClBKQkKoaUQ6UOhe2xlJK\", \"artist\": \"Mac Miller\", \"popularity\": 55, \"danceability\": 0.794, \"energy\": 0.32, \"key\": 1, \"loudness\": -12.92, \"mode\": 0, \"speechiness\": 0.173, \"acousticness\": 0.853, \"instrumentalness\": 0.134, \"liveness\": 0.112, \"valence\": 0.241, \"tempo\": 174.088, \"year_playlist\": 2020, \"duration_ms\": 342.0}, {\"track_name\": \"Dani Ribba: Bzrp Freestyle Sessions, Vol. 7\", \"album\": \"Dani Ribba: Bzrp Freestyle Sessions, Vol. 7\", \"track_id\": \"1jKq6jcjPAd2awwuYiPswp\", \"artist\": \"Bizarrap\", \"popularity\": 54, \"danceability\": 0.924, \"energy\": 0.622, \"key\": 0, \"loudness\": -6.824, \"mode\": 1, \"speechiness\": 0.233, \"acousticness\": 0.0995, \"instrumentalness\": 0.0, \"liveness\": 0.0971, \"valence\": 0.74, \"tempo\": 130.063, \"year_playlist\": 2020, \"duration_ms\": 137.0}, {\"track_name\": \"En tu agujero\", \"album\": \"Besos de Perro\", \"track_id\": \"2ncjn6hRXJvtWWKlmUuNmw\", \"artist\": \"Marea\", \"popularity\": 50, \"danceability\": 0.561, \"energy\": 0.861, \"key\": 5, \"loudness\": -4.791, \"mode\": 1, \"speechiness\": 0.0672, \"acousticness\": 0.212, \"instrumentalness\": 0.0088, \"liveness\": 0.0841, \"valence\": 0.346, \"tempo\": 92.894, \"year_playlist\": 2020, \"duration_ms\": 304.0}, {\"track_name\": \"Como el Sol 2011\", \"album\": \"Kase.O Jazz Magnetism\", \"track_id\": \"3NkIrWA31m4VO4Z9BW61yo\", \"artist\": \"Kase.O\", \"popularity\": 51, \"danceability\": 0.812, \"energy\": 0.579, \"key\": 2, \"loudness\": -8.124, \"mode\": 1, \"speechiness\": 0.187, \"acousticness\": 0.176, \"instrumentalness\": 0.0, \"liveness\": 0.219, \"valence\": 0.737, \"tempo\": 93.004, \"year_playlist\": 2020, \"duration_ms\": 284.0}, {\"track_name\": \"Solsticio de Invierno\", \"album\": \"Solsticio de Invierno\", \"track_id\": \"2W2NpGW58cqI1n8rNEEamO\", \"artist\": \"TribuTrip\", \"popularity\": 0, \"danceability\": 0.719, \"energy\": 0.602, \"key\": 9, \"loudness\": -13.107, \"mode\": 1, \"speechiness\": 0.0839, \"acousticness\": 0.554, \"instrumentalness\": 0.0, \"liveness\": 0.115, \"valence\": 0.663, \"tempo\": 95.02, \"year_playlist\": 2020, \"duration_ms\": 104.0}, {\"track_name\": \"Tarde\", \"album\": \"Tarde\", \"track_id\": \"1E1y2OMo7uCdDR8CyctL9B\", \"artist\": \"Luisaker\", \"popularity\": 0, \"danceability\": 0.837, \"energy\": 0.659, \"key\": 4, \"loudness\": -8.202, \"mode\": 0, \"speechiness\": 0.141, \"acousticness\": 0.55, \"instrumentalness\": 0.0, \"liveness\": 0.107, \"valence\": 0.966, \"tempo\": 135.832, \"year_playlist\": 2020, \"duration_ms\": 226.0}, {\"track_name\": \"High Today (feat. Logic)\", \"album\": \"The Saga of Wiz Khalifa\", \"track_id\": \"6TkwBmyNs21ihKTi8Bp0eo\", \"artist\": \"Wiz Khalifa\", \"popularity\": 57, \"danceability\": 0.775, \"energy\": 0.629, \"key\": 8, \"loudness\": -5.315, \"mode\": 1, \"speechiness\": 0.0669, \"acousticness\": 0.269, \"instrumentalness\": 0.0, \"liveness\": 0.111, \"valence\": 0.278, \"tempo\": 112.835, \"year_playlist\": 2020, \"duration_ms\": 200.0}, {\"track_name\": \"Si T\\u00fa Supieras\", \"album\": \"Hueso y Carne\", \"track_id\": \"7gJcw2AISLuYda00yodaoF\", \"artist\": \"Iratxo\", \"popularity\": 8, \"danceability\": 0.433, \"energy\": 0.579, \"key\": 2, \"loudness\": -4.333, \"mode\": 0, \"speechiness\": 0.0901, \"acousticness\": 0.857, \"instrumentalness\": 4.35e-06, \"liveness\": 0.102, \"valence\": 0.452, \"tempo\": 80.021, \"year_playlist\": 2020, \"duration_ms\": 295.0}, {\"track_name\": \"Ladders\", \"album\": \"Swimming\", \"track_id\": \"39NDBdU5Xkm5pCFGa5kZtI\", \"artist\": \"Mac Miller\", \"popularity\": 71, \"danceability\": 0.802, \"energy\": 0.463, \"key\": 8, \"loudness\": -8.379, \"mode\": 1, \"speechiness\": 0.162, \"acousticness\": 0.236, \"instrumentalness\": 0.00531, \"liveness\": 0.105, \"valence\": 0.291, \"tempo\": 103.961, \"year_playlist\": 2020, \"duration_ms\": 287.0}, {\"track_name\": \"Vive\", \"album\": \"Vive\", \"track_id\": \"765oF6lDaO3PONcaPdmpHd\", \"artist\": \"Luisaker\", \"popularity\": 0, \"danceability\": 0.685, \"energy\": 0.737, \"key\": 6, \"loudness\": -7.08, \"mode\": 0, \"speechiness\": 0.227, \"acousticness\": 0.186, \"instrumentalness\": 0.0, \"liveness\": 0.0705, \"valence\": 0.461, \"tempo\": 184.076, \"year_playlist\": 2020, \"duration_ms\": 194.0}, {\"track_name\": \"Dani Ribba: Bzrp Music Sessions, Vol. 24\", \"album\": \"Dani Ribba: Bzrp Music Sessions, Vol. 24\", \"track_id\": \"6TNuRFdNazLbbVQTRE8pZg\", \"artist\": \"Bizarrap\", \"popularity\": 46, \"danceability\": 0.913, \"energy\": 0.689, \"key\": 11, \"loudness\": -7.74, \"mode\": 1, \"speechiness\": 0.349, \"acousticness\": 0.287, \"instrumentalness\": 0.0, \"liveness\": 0.104, \"valence\": 0.851, \"tempo\": 129.889, \"year_playlist\": 2020, \"duration_ms\": 173.0}, {\"track_name\": \"Con mi voz\", \"album\": \"Buenos dias\", \"track_id\": \"0jPod8hBi7nspUTs2mmWos\", \"artist\": \"M\\u00e4bu\", \"popularity\": 36, \"danceability\": 0.752, \"energy\": 0.627, \"key\": 1, \"loudness\": -4.997, \"mode\": 0, \"speechiness\": 0.042, \"acousticness\": 0.39, \"instrumentalness\": 0.00334, \"liveness\": 0.127, \"valence\": 0.938, \"tempo\": 129.848, \"year_playlist\": 2020, \"duration_ms\": 186.0}, {\"track_name\": \"Radioactive\", \"album\": \"Radioactive\", \"track_id\": \"69yfbpvmkIaB10msnKT7Q5\", \"artist\": \"Imagine Dragons\", \"popularity\": 65, \"danceability\": 0.483, \"energy\": 0.894, \"key\": 9, \"loudness\": -3.9, \"mode\": 1, \"speechiness\": 0.223, \"acousticness\": 0.0407, \"instrumentalness\": 0.0, \"liveness\": 0.282, \"valence\": 0.278, \"tempo\": 139.858, \"year_playlist\": 2020, \"duration_ms\": 276.0}, {\"track_name\": \"Seat Blanco\", \"album\": \"Lo Primero Es Lo Segundo\", \"track_id\": \"6oujfNf6UZx002YtjnBSmU\", \"artist\": \"Grupo Viral\", \"popularity\": 0, \"danceability\": 0.621, \"energy\": 0.462, \"key\": 3, \"loudness\": -6.58, \"mode\": 1, \"speechiness\": 0.0242, \"acousticness\": 0.41, \"instrumentalness\": 2.97e-05, \"liveness\": 0.277, \"valence\": 0.289, \"tempo\": 99.867, \"year_playlist\": 2020, \"duration_ms\": 254.0}, {\"track_name\": \"Bejo: Bzrp Music Sessions, Vol. 27\", \"album\": \"Bejo: Bzrp Music Sessions, Vol. 27\", \"track_id\": \"2e3WiB8E5tf96JObVIFqWB\", \"artist\": \"Bizarrap\", \"popularity\": 43, \"danceability\": 0.78, \"energy\": 0.695, \"key\": 0, \"loudness\": -6.716, \"mode\": 1, \"speechiness\": 0.474, \"acousticness\": 0.291, \"instrumentalness\": 0.0, \"liveness\": 0.089, \"valence\": 0.729, \"tempo\": 80.196, \"year_playlist\": 2020, \"duration_ms\": 175.0}, {\"track_name\": \"Segundo movimiento: lo de fuera\", \"album\": \"La ley innata\", \"track_id\": \"5anSoPoSIy7NzsauFNY0pT\", \"artist\": \"Extremoduro\", \"popularity\": 50, \"danceability\": 0.257, \"energy\": 0.86, \"key\": 4, \"loudness\": -4.476, \"mode\": 0, \"speechiness\": 0.0789, \"acousticness\": 0.156, \"instrumentalness\": 0.11, \"liveness\": 0.53, \"valence\": 0.471, \"tempo\": 174.701, \"year_playlist\": 2020, \"duration_ms\": 703.0}, {\"track_name\": \"Demons\", \"album\": \"Night Visions\", \"track_id\": \"5qaEfEh1AtSdrdrByCP7qR\", \"artist\": \"Imagine Dragons\", \"popularity\": 84, \"danceability\": 0.505, \"energy\": 0.71, \"key\": 3, \"loudness\": -3.015, \"mode\": 1, \"speechiness\": 0.0321, \"acousticness\": 0.19, \"instrumentalness\": 0.00025, \"liveness\": 0.269, \"valence\": 0.428, \"tempo\": 89.938, \"year_playlist\": 2020, \"duration_ms\": 178.0}, {\"track_name\": \"Lluvias de Abril\", \"album\": \"Niebla Y Holl\\u00edn\", \"track_id\": \"6izqNLymT6DQfKkw3HTyq0\", \"artist\": \"Exceso\", \"popularity\": 34, \"danceability\": 0.258, \"energy\": 0.914, \"key\": 9, \"loudness\": -4.505, \"mode\": 0, \"speechiness\": 0.217, \"acousticness\": 0.00789, \"instrumentalness\": 0.0, \"liveness\": 0.0684, \"valence\": 0.355, \"tempo\": 191.959, \"year_playlist\": 2020, \"duration_ms\": 162.0}, {\"track_name\": \"Los Buenos\", \"album\": \"Los R\\u00edos de Alice (Original Game Soundtrack)\", \"track_id\": \"3FzuQ398ughVa456X6PCV6\", \"artist\": \"Vetusta Morla\", \"popularity\": 49, \"danceability\": 0.665, \"energy\": 0.489, \"key\": 7, \"loudness\": -8.572, \"mode\": 1, \"speechiness\": 0.0285, \"acousticness\": 0.7, \"instrumentalness\": 0.0489, \"liveness\": 0.683, \"valence\": 0.577, \"tempo\": 117.292, \"year_playlist\": 2020, \"duration_ms\": 255.0}, {\"track_name\": \"N\\u00edtido\", \"album\": \"N\\u00edtido\", \"track_id\": \"5gEcJjcrveT2gRuyPyPeDt\", \"artist\": \"Luisaker\", \"popularity\": 0, \"danceability\": 0.723, \"energy\": 0.539, \"key\": 6, \"loudness\": -10.094, \"mode\": 1, \"speechiness\": 0.417, \"acousticness\": 0.808, \"instrumentalness\": 0.0, \"liveness\": 0.283, \"valence\": 0.802, \"tempo\": 80.11, \"year_playlist\": 2020, \"duration_ms\": 246.0}, {\"track_name\": \"Ciego\", \"album\": \"A Versos y a Bocaos\", \"track_id\": \"55EdPIrh2UXqw9gtNECw8e\", \"artist\": \"Iratxo\", \"popularity\": 23, \"danceability\": 0.586, \"energy\": 0.385, \"key\": 0, \"loudness\": -9.409, \"mode\": 1, \"speechiness\": 0.061, \"acousticness\": 0.856, \"instrumentalness\": 7.82e-05, \"liveness\": 0.1, \"valence\": 0.329, \"tempo\": 91.175, \"year_playlist\": 2020, \"duration_ms\": 257.0}, {\"track_name\": \"Intocable\", \"album\": \"R.I.P.R.O 3\", \"track_id\": \"1R9XkJQA2mNMfyquA8UdSN\", \"artist\": \"Lacrim\", \"popularity\": 47, \"danceability\": 0.787, \"energy\": 0.78, \"key\": 9, \"loudness\": -7.419, \"mode\": 0, \"speechiness\": 0.296, \"acousticness\": 0.489, \"instrumentalness\": 0.0, \"liveness\": 0.0845, \"valence\": 0.608, \"tempo\": 92.044, \"year_playlist\": 2020, \"duration_ms\": 224.0}, {\"track_name\": \"Natural\", \"album\": \"Origins (Deluxe)\", \"track_id\": \"2FY7b99s15jUprqC0M5NCT\", \"artist\": \"Imagine Dragons\", \"popularity\": 81, \"danceability\": 0.704, \"energy\": 0.611, \"key\": 2, \"loudness\": -6.112, \"mode\": 1, \"speechiness\": 0.0409, \"acousticness\": 0.217, \"instrumentalness\": 0.0, \"liveness\": 0.0812, \"valence\": 0.22, \"tempo\": 100.0, \"year_playlist\": 2020, \"duration_ms\": 189.0}, {\"track_name\": \"Vientos de octubre\", \"album\": \"Recopilaci\\u00f3n, Vol. II\", \"track_id\": \"6oIL7sZpCgiyQgij3pi1si\", \"artist\": \"D\\u00eda Sexto\", \"popularity\": 18, \"danceability\": 0.46, \"energy\": 0.354, \"key\": 0, \"loudness\": -13.205, \"mode\": 1, \"speechiness\": 0.119, \"acousticness\": 0.86, \"instrumentalness\": 1.01e-06, \"liveness\": 0.112, \"valence\": 0.72, \"tempo\": 91.992, \"year_playlist\": 2020, \"duration_ms\": 428.0}, {\"track_name\": \"Lost Stars\", \"album\": \"V (Deluxe)\", \"track_id\": \"1ejtHfSXQwvaAU7F82FXww\", \"artist\": \"Adam Levine\", \"popularity\": 58, \"danceability\": 0.494, \"energy\": 0.582, \"key\": 0, \"loudness\": -4.769, \"mode\": 1, \"speechiness\": 0.0266, \"acousticness\": 0.102, \"instrumentalness\": 0.0, \"liveness\": 0.0798, \"valence\": 0.416, \"tempo\": 82.025, \"year_playlist\": 2020, \"duration_ms\": 268.0}, {\"track_name\": \"#RapSinCorte XXXVIII\", \"album\": \"#RapSinCorte XXXVIII\", \"track_id\": \"13fKxlakRPZCNf1iH6qQY7\", \"artist\": \"Foyone\", \"popularity\": 0, \"danceability\": 0.753, \"energy\": 0.807, \"key\": 8, \"loudness\": -6.049, \"mode\": 1, \"speechiness\": 0.194, \"acousticness\": 0.312, \"instrumentalness\": 0.0, \"liveness\": 0.099, \"valence\": 0.399, \"tempo\": 105.95, \"year_playlist\": 2020, \"duration_ms\": 143.0}, {\"track_name\": \"Thunder\", \"album\": \"Evolve\", \"track_id\": \"1zB4vmk8tFRmM9UULNzbLB\", \"artist\": \"Imagine Dragons\", \"popularity\": 84, \"danceability\": 0.605, \"energy\": 0.822, \"key\": 0, \"loudness\": -4.833, \"mode\": 1, \"speechiness\": 0.0438, \"acousticness\": 0.00671, \"instrumentalness\": 0.134, \"liveness\": 0.147, \"valence\": 0.288, \"tempo\": 167.997, \"year_playlist\": 2020, \"duration_ms\": 187.0}, {\"track_name\": \"Las Leyes\", \"album\": \"Explosiva\", \"track_id\": \"0eE5DpZFQI8Fvpbef7BlOE\", \"artist\": \"Itaca Band\", \"popularity\": 0, \"danceability\": 0.575, \"energy\": 0.413, \"key\": 5, \"loudness\": -8.615, \"mode\": 1, \"speechiness\": 0.0343, \"acousticness\": 0.823, \"instrumentalness\": 0.0, \"liveness\": 0.12, \"valence\": 0.225, \"tempo\": 78.907, \"year_playlist\": 2020, \"duration_ms\": 230.0}, {\"track_name\": \"Soy un pringao\", \"album\": \"Soy un pringao\", \"track_id\": \"1FeCQhO1BNOHOuwEnz1rCd\", \"artist\": \"Santiuve\", \"popularity\": 29, \"danceability\": 0.907, \"energy\": 0.244, \"key\": 5, \"loudness\": -9.178, \"mode\": 1, \"speechiness\": 0.292, \"acousticness\": 0.958, \"instrumentalness\": 4.25e-06, \"liveness\": 0.0981, \"valence\": 0.824, \"tempo\": 139.84, \"year_playlist\": 2020, \"duration_ms\": 181.0}, {\"track_name\": \"Take Me To Church\", \"album\": \"Hozier\", \"track_id\": \"3dYD57lRAUcMHufyqn9GcI\", \"artist\": \"Hozier\", \"popularity\": 83, \"danceability\": 0.566, \"energy\": 0.664, \"key\": 4, \"loudness\": -5.303, \"mode\": 0, \"speechiness\": 0.0464, \"acousticness\": 0.634, \"instrumentalness\": 0.0, \"liveness\": 0.116, \"valence\": 0.437, \"tempo\": 128.945, \"year_playlist\": 2020, \"duration_ms\": 242.0}, {\"track_name\": \"Believer\", \"album\": \"Evolve\", \"track_id\": \"0pqnGHJpmpxLKifKRmU6WP\", \"artist\": \"Imagine Dragons\", \"popularity\": 88, \"danceability\": 0.776, \"energy\": 0.78, \"key\": 10, \"loudness\": -4.374, \"mode\": 0, \"speechiness\": 0.128, \"acousticness\": 0.0622, \"instrumentalness\": 0.0, \"liveness\": 0.081, \"valence\": 0.666, \"tempo\": 124.949, \"year_playlist\": 2020, \"duration_ms\": 204.0}, {\"track_name\": \"Suelo so\\u00f1ar\", \"album\": \"Producto Infinito Version 0.4\", \"track_id\": \"3bUZA8syssxjVdvJDExkRi\", \"artist\": \"Zenit\", \"popularity\": 43, \"danceability\": 0.937, \"energy\": 0.644, \"key\": 10, \"loudness\": -4.682, \"mode\": 0, \"speechiness\": 0.215, \"acousticness\": 0.0499, \"instrumentalness\": 0.0, \"liveness\": 0.0705, \"valence\": 0.484, \"tempo\": 97.003, \"year_playlist\": 2020, \"duration_ms\": 299.0}, {\"track_name\": \"Jesucristo Garc\\u00eda - Acoustic\", \"album\": \"Lo Que Hicimos en Youtube Pero Bien Grabao\", \"track_id\": \"6yn3fz23CoxIMqXkEubEIz\", \"artist\": \"El Ni\\u00f1o de la Hipoteca\", \"popularity\": 29, \"danceability\": 0.631, \"energy\": 0.501, \"key\": 0, \"loudness\": -7.006, \"mode\": 1, \"speechiness\": 0.154, \"acousticness\": 0.698, \"instrumentalness\": 0.0, \"liveness\": 0.102, \"valence\": 0.275, \"tempo\": 144.028, \"year_playlist\": 2020, \"duration_ms\": 251.0}, {\"track_name\": \"Si T\\u00fa Supieras\", \"album\": \"La \\u00faltima Bala\", \"track_id\": \"1mwUXkWgoC5ujERM6ixphc\", \"artist\": \"Iratxo\", \"popularity\": 35, \"danceability\": 0.465, \"energy\": 0.647, \"key\": 5, \"loudness\": -7.909, \"mode\": 1, \"speechiness\": 0.0627, \"acousticness\": 0.035, \"instrumentalness\": 0.0, \"liveness\": 0.107, \"valence\": 0.46, \"tempo\": 172.336, \"year_playlist\": 2020, \"duration_ms\": 300.0}, {\"track_name\": \"Tengo Un Trato - Remastered 2015\", \"album\": \"Lujo Ib\\u00e9rico (Edici\\u00f3n 15 Aniversario)\", \"track_id\": \"13crLwJf5aEt3R8MKcisou\", \"artist\": \"Mala Rodr\\u00edguez\", \"popularity\": 52, \"danceability\": 0.917, \"energy\": 0.638, \"key\": 2, \"loudness\": -5.483, \"mode\": 1, \"speechiness\": 0.132, \"acousticness\": 0.018, \"instrumentalness\": 0.0, \"liveness\": 0.0561, \"valence\": 0.835, \"tempo\": 93.016, \"year_playlist\": 2020, \"duration_ms\": 168.0}, {\"track_name\": \"Contra Todos\", \"album\": \"995\", \"track_id\": \"13FbVnmgiKZdKMHPly1ekQ\", \"artist\": \"995\", \"popularity\": 46, \"danceability\": 0.756, \"energy\": 0.728, \"key\": 2, \"loudness\": -5.104, \"mode\": 1, \"speechiness\": 0.481, \"acousticness\": 0.373, \"instrumentalness\": 0.0, \"liveness\": 0.167, \"valence\": 0.965, \"tempo\": 88.98, \"year_playlist\": 2020, \"duration_ms\": 320.0}, {\"track_name\": \"Pieces\", \"album\": \"Chuck\", \"track_id\": \"1ibeKVCiXORhvUpMmtsQWq\", \"artist\": \"Sum 41\", \"popularity\": 68, \"danceability\": 0.457, \"energy\": 0.83, \"key\": 5, \"loudness\": -5.262, \"mode\": 1, \"speechiness\": 0.0321, \"acousticness\": 0.00682, \"instrumentalness\": 0.00337, \"liveness\": 0.166, \"valence\": 0.602, \"tempo\": 99.93, \"year_playlist\": 2020, \"duration_ms\": 182.0}, {\"track_name\": \"El Blues De Aranjuez\", \"album\": \"Oi! Baldorba\", \"track_id\": \"6YL526UdMtdi6MQRgpFaFm\", \"artist\": \"Rotten XIII\", \"popularity\": 45, \"danceability\": 0.624, \"energy\": 0.855, \"key\": 7, \"loudness\": -2.681, \"mode\": 1, \"speechiness\": 0.0335, \"acousticness\": 0.0132, \"instrumentalness\": 0.000219, \"liveness\": 0.267, \"valence\": 0.727, \"tempo\": 134.034, \"year_playlist\": 2020, \"duration_ms\": 243.0}, {\"track_name\": \"Everybody\", \"album\": \"Circles (Deluxe)\", \"track_id\": \"50ZbunKRxPbTa9sVu1iukc\", \"artist\": \"Mac Miller\", \"popularity\": 49, \"danceability\": 0.875, \"energy\": 0.599, \"key\": 9, \"loudness\": -9.077, \"mode\": 0, \"speechiness\": 0.138, \"acousticness\": 0.0333, \"instrumentalness\": 0.0143, \"liveness\": 0.113, \"valence\": 0.112, \"tempo\": 152.061, \"year_playlist\": 2020, \"duration_ms\": 257.0}, {\"track_name\": \"Nico and the Niners\", \"album\": \"Trench\", \"track_id\": \"5SehvGGC53A7SZKCLXQcyt\", \"artist\": \"Twenty One Pilots\", \"popularity\": 66, \"danceability\": 0.728, \"energy\": 0.602, \"key\": 9, \"loudness\": -7.748, \"mode\": 0, \"speechiness\": 0.185, \"acousticness\": 0.0699, \"instrumentalness\": 7.01e-06, \"liveness\": 0.318, \"valence\": 0.328, \"tempo\": 140.081, \"year_playlist\": 2020, \"duration_ms\": 225.0}, {\"track_name\": \"Viejos Ciegos (con Xhelazz y Sho-hai)\", \"album\": \"El C\\u00edrculo (Versi\\u00f3n Exclusiva de Spotify)\", \"track_id\": \"5o2gwaRb8YwAbcsn1VNc66\", \"artist\": \"Kase.O\", \"popularity\": 48, \"danceability\": 0.736, \"energy\": 0.815, \"key\": 0, \"loudness\": -6.277, \"mode\": 1, \"speechiness\": 0.37, \"acousticness\": 0.0736, \"instrumentalness\": 0.0, \"liveness\": 0.84, \"valence\": 0.871, \"tempo\": 180.034, \"year_playlist\": 2020, \"duration_ms\": 315.0}, {\"track_name\": \"She Will Be Loved\", \"album\": \"Songs About Jane\", \"track_id\": \"7sapKrjDij2fpDVj0GxP66\", \"artist\": \"Maroon 5\", \"popularity\": 73, \"danceability\": 0.706, \"energy\": 0.713, \"key\": 0, \"loudness\": -5.512, \"mode\": 0, \"speechiness\": 0.0301, \"acousticness\": 0.0596, \"instrumentalness\": 0.0, \"liveness\": 0.132, \"valence\": 0.544, \"tempo\": 102.037, \"year_playlist\": 2020, \"duration_ms\": 257.0}, {\"track_name\": \"Para Siempre\", \"album\": \"El Rinc\\u00f3n de Mi Cabeza\", \"track_id\": \"7D5rcxwCBQI0LYE5fsS4wD\", \"artist\": \"Benito Kamelas\", \"popularity\": 36, \"danceability\": 0.564, \"energy\": 0.846, \"key\": 0, \"loudness\": -3.617, \"mode\": 1, \"speechiness\": 0.0701, \"acousticness\": 0.00153, \"instrumentalness\": 1.48e-05, \"liveness\": 0.17, \"valence\": 0.428, \"tempo\": 174.933, \"year_playlist\": 2020, \"duration_ms\": 230.0}, {\"track_name\": \"Self Care\", \"album\": \"Swimming\", \"track_id\": \"5bJ1DrEM4hNCafcDd1oxHx\", \"artist\": \"Mac Miller\", \"popularity\": 79, \"danceability\": 0.52, \"energy\": 0.538, \"key\": 1, \"loudness\": -8.109, \"mode\": 1, \"speechiness\": 0.206, \"acousticness\": 0.367, \"instrumentalness\": 0.00187, \"liveness\": 0.119, \"valence\": 0.177, \"tempo\": 141.894, \"year_playlist\": 2020, \"duration_ms\": 345.0}, {\"track_name\": \"L'enfant terrible\", \"album\": \"L'enfant terrible\", \"track_id\": \"20h9nDIOqGbg54vH70eVf5\", \"artist\": \"Ayax y Prok\", \"popularity\": 0, \"danceability\": 0.764, \"energy\": 0.877, \"key\": 1, \"loudness\": -5.683, \"mode\": 1, \"speechiness\": 0.549, \"acousticness\": 0.174, \"instrumentalness\": 0.0, \"liveness\": 0.237, \"valence\": 0.415, \"tempo\": 92.048, \"year_playlist\": 2020, \"duration_ms\": 180.0}, {\"track_name\": \"Machine\", \"album\": \"Origins (Deluxe)\", \"track_id\": \"4uGY9CqDtGtaTTLg1cgsWD\", \"artist\": \"Imagine Dragons\", \"popularity\": 65, \"danceability\": 0.638, \"energy\": 0.679, \"key\": 4, \"loudness\": -5.278, \"mode\": 1, \"speechiness\": 0.0425, \"acousticness\": 0.0016, \"instrumentalness\": 0.00655, \"liveness\": 0.121, \"valence\": 0.596, \"tempo\": 81.045, \"year_playlist\": 2020, \"duration_ms\": 182.0}, {\"track_name\": \"Lane Boy\", \"album\": \"Blurryface\", \"track_id\": \"2P61EK6DMGyVyssLWS4fKy\", \"artist\": \"Twenty One Pilots\", \"popularity\": 66, \"danceability\": 0.616, \"energy\": 0.811, \"key\": 7, \"loudness\": -4.804, \"mode\": 1, \"speechiness\": 0.0626, \"acousticness\": 0.0573, \"instrumentalness\": 1.57e-05, \"liveness\": 0.0566, \"valence\": 0.913, \"tempo\": 159.929, \"year_playlist\": 2020, \"duration_ms\": 253.0}, {\"track_name\": \"Last Kiss\", \"album\": \"Last Kiss\", \"track_id\": \"0QnONzv3TvHAWk294h6DaQ\", \"artist\": \"Pearl Jam\", \"popularity\": 71, \"danceability\": 0.622, \"energy\": 0.692, \"key\": 7, \"loudness\": -6.97, \"mode\": 1, \"speechiness\": 0.0276, \"acousticness\": 0.363, \"instrumentalness\": 0.000158, \"liveness\": 0.193, \"valence\": 0.774, \"tempo\": 112.053, \"year_playlist\": 2020, \"duration_ms\": 195.0}, {\"track_name\": \"Surf\", \"album\": \"Circles (Deluxe)\", \"track_id\": \"3m9St7c9tpJwNYN2adNESk\", \"artist\": \"Mac Miller\", \"popularity\": 52, \"danceability\": 0.828, \"energy\": 0.182, \"key\": 1, \"loudness\": -13.066, \"mode\": 0, \"speechiness\": 0.166, \"acousticness\": 0.754, \"instrumentalness\": 0.0706, \"liveness\": 0.15, \"valence\": 0.231, \"tempo\": 147.279, \"year_playlist\": 2020, \"duration_ms\": 331.0}, {\"track_name\": \"Adam Lallana\", \"album\": \"Adam Lallana\", \"track_id\": \"6My4eAH9nneZrFxJdGDwuY\", \"artist\": \"Kemalio\", \"popularity\": 0, \"danceability\": 0.704, \"energy\": 0.808, \"key\": 0, \"loudness\": -5.37, \"mode\": 1, \"speechiness\": 0.171, \"acousticness\": 0.778, \"instrumentalness\": 0.0138, \"liveness\": 0.408, \"valence\": 0.785, \"tempo\": 90.026, \"year_playlist\": 2020, \"duration_ms\": 181.0}, {\"track_name\": \"La Canci\\u00f3n del Pensador\", \"album\": \"La Canci\\u00f3n del Pensador\", \"track_id\": \"6Fy4Wt2S1edN002zerXhlQ\", \"artist\": \"Ciudad Jara\", \"popularity\": 26, \"danceability\": 0.565, \"energy\": 0.474, \"key\": 1, \"loudness\": -8.541, \"mode\": 0, \"speechiness\": 0.0265, \"acousticness\": 0.112, \"instrumentalness\": 2.04e-06, \"liveness\": 0.132, \"valence\": 0.138, \"tempo\": 92.02, \"year_playlist\": 2020, \"duration_ms\": 265.0}, {\"track_name\": \"Sour Patch Kids\", \"album\": \"Lazy Fair\", \"track_id\": \"5DJNyvuMmZfsfvdTpMMmUq\", \"artist\": \"Bryce Vine\", \"popularity\": 65, \"danceability\": 0.523, \"energy\": 0.783, \"key\": 9, \"loudness\": -5.084, \"mode\": 1, \"speechiness\": 0.0545, \"acousticness\": 0.0144, \"instrumentalness\": 1.71e-05, \"liveness\": 0.219, \"valence\": 0.581, \"tempo\": 76.588, \"year_playlist\": 2020, \"duration_ms\": 253.0}, {\"track_name\": \"Cojo el saco y me retiro\", \"album\": \"Rockallano\", \"track_id\": \"70MAtVBITOe87jTUlRhzd8\", \"artist\": \"Astola\", \"popularity\": 29, \"danceability\": 0.884, \"energy\": 0.574, \"key\": 9, \"loudness\": -7.567, \"mode\": 0, \"speechiness\": 0.0639, \"acousticness\": 0.181, \"instrumentalness\": 0.000373, \"liveness\": 0.0653, \"valence\": 0.834, \"tempo\": 128.018, \"year_playlist\": 2020, \"duration_ms\": 287.0}, {\"track_name\": \"Home\", \"album\": \"Wanderlust\", \"track_id\": \"4fPQ3n56NbnONBtlaPMa82\", \"artist\": \"Hollow Coves\", \"popularity\": 1, \"danceability\": 0.517, \"energy\": 0.496, \"key\": 1, \"loudness\": -11.858, \"mode\": 1, \"speechiness\": 0.0251, \"acousticness\": 0.86, \"instrumentalness\": 0.00471, \"liveness\": 0.117, \"valence\": 0.262, \"tempo\": 84.993, \"year_playlist\": 2020, \"duration_ms\": 202.0}, {\"track_name\": \"Walk On the Wild Side\", \"album\": \"Transformer\", \"track_id\": \"5p3JunprHCxClJjOmcLV8G\", \"artist\": \"Lou Reed\", \"popularity\": 72, \"danceability\": 0.575, \"energy\": 0.318, \"key\": 0, \"loudness\": -16.729, \"mode\": 1, \"speechiness\": 0.109, \"acousticness\": 0.683, \"instrumentalness\": 0.000202, \"liveness\": 0.0934, \"valence\": 0.385, \"tempo\": 104.522, \"year_playlist\": 2020, \"duration_ms\": 254.0}, {\"track_name\": \"Rise Up\", \"album\": \"Evolve\", \"track_id\": \"3zT2616WcD9Df5m21OsCX0\", \"artist\": \"Imagine Dragons\", \"popularity\": 67, \"danceability\": 0.447, \"energy\": 0.74, \"key\": 3, \"loudness\": -6.607, \"mode\": 1, \"speechiness\": 0.0475, \"acousticness\": 0.0122, \"instrumentalness\": 0.000228, \"liveness\": 0.0958, \"valence\": 0.102, \"tempo\": 93.759, \"year_playlist\": 2020, \"duration_ms\": 232.0}, {\"track_name\": \"Cum Laude\", \"album\": \"Esto No Es un Disco Vol.1\", \"track_id\": \"5lsQpCUKFaqaBGUAl9rZPR\", \"artist\": \"El Ni\\u00f1o de la Hipoteca\", \"popularity\": 38, \"danceability\": 0.666, \"energy\": 0.829, \"key\": 2, \"loudness\": -5.463, \"mode\": 1, \"speechiness\": 0.0587, \"acousticness\": 0.206, \"instrumentalness\": 0.0, \"liveness\": 0.193, \"valence\": 0.575, \"tempo\": 147.979, \"year_playlist\": 2020, \"duration_ms\": 210.0}, {\"track_name\": \"#RapSinCorte XLI\", \"album\": \"#RapSinCorte XLI\", \"track_id\": \"65EYAToF65dNtHrvnr1CKF\", \"artist\": \"Foyone\", \"popularity\": 4, \"danceability\": 0.656, \"energy\": 0.939, \"key\": 11, \"loudness\": -6.494, \"mode\": 1, \"speechiness\": 0.484, \"acousticness\": 0.449, \"instrumentalness\": 0.0, \"liveness\": 0.692, \"valence\": 0.653, \"tempo\": 79.57, \"year_playlist\": 2020, \"duration_ms\": 132.0}, {\"track_name\": \"Ceremonia\", \"album\": \"Car\\u00e1cter\", \"track_id\": \"25TwtpGaEuHyRZomdiPL9z\", \"artist\": \"Mala Reputaci\\u00f3n\", \"popularity\": 0, \"danceability\": 0.724, \"energy\": 0.551, \"key\": 6, \"loudness\": -6.906, \"mode\": 1, \"speechiness\": 0.0468, \"acousticness\": 0.285, \"instrumentalness\": 0.0, \"liveness\": 0.585, \"valence\": 0.582, \"tempo\": 114.964, \"year_playlist\": 2020, \"duration_ms\": 230.0}, {\"track_name\": \"Coastline\", \"album\": \"Wanderlust\", \"track_id\": \"2KCqAdd2ad0hpJc5ySoTE8\", \"artist\": \"Hollow Coves\", \"popularity\": 3, \"danceability\": 0.67, \"energy\": 0.496, \"key\": 2, \"loudness\": -11.23, \"mode\": 1, \"speechiness\": 0.0277, \"acousticness\": 0.627, \"instrumentalness\": 0.00325, \"liveness\": 0.0584, \"valence\": 0.427, \"tempo\": 100.17, \"year_playlist\": 2020, \"duration_ms\": 234.0}, {\"track_name\": \"Cuando Salga el Sol\", \"album\": \"Inercia\", \"track_id\": \"4tnn3fGft1w1NrMvp9JMgy\", \"artist\": \"Desakato\", \"popularity\": 0, \"danceability\": 0.509, \"energy\": 0.973, \"key\": 9, \"loudness\": -3.851, \"mode\": 0, \"speechiness\": 0.0935, \"acousticness\": 0.000158, \"instrumentalness\": 4.47e-05, \"liveness\": 0.104, \"valence\": 0.29, \"tempo\": 150.059, \"year_playlist\": 2020, \"duration_ms\": 200.0}, {\"track_name\": \"BIMBI PER STRADA (CHILDREN)\", \"album\": \"BIMBI PER STRADA (CHILDREN)\", \"track_id\": \"6KF78W66DcQ9m5YqR0r5Ig\", \"artist\": \"Fedez\", \"popularity\": 53, \"danceability\": 0.642, \"energy\": 0.806, \"key\": 5, \"loudness\": -5.451, \"mode\": 0, \"speechiness\": 0.176, \"acousticness\": 0.0206, \"instrumentalness\": 0.0, \"liveness\": 0.11, \"valence\": 0.562, \"tempo\": 134.002, \"year_playlist\": 2020, \"duration_ms\": 201.0}, {\"track_name\": \"Lo Que en Silencio Guardo\", \"album\": \"Recopilatorio de Temas In\\u00e9ditos\", \"track_id\": \"5ZSHDuhxImgtzSglqEPWJ3\", \"artist\": \"Kaze\", \"popularity\": 50, \"danceability\": 0.778, \"energy\": 0.718, \"key\": 7, \"loudness\": -7.264, \"mode\": 0, \"speechiness\": 0.303, \"acousticness\": 0.58, \"instrumentalness\": 0.0, \"liveness\": 0.12, \"valence\": 0.965, \"tempo\": 93.207, \"year_playlist\": 2020, \"duration_ms\": 165.0}, {\"track_name\": \"Still Waiting\", \"album\": \"Does This Look Infected?\", \"track_id\": \"0jqK7sGTLsHPkQrrcrGuKD\", \"artist\": \"Sum 41\", \"popularity\": 71, \"danceability\": 0.431, \"energy\": 0.95, \"key\": 7, \"loudness\": -4.918, \"mode\": 1, \"speechiness\": 0.26, \"acousticness\": 0.00105, \"instrumentalness\": 3.63e-05, \"liveness\": 0.272, \"valence\": 0.56, \"tempo\": 191.936, \"year_playlist\": 2020, \"duration_ms\": 159.0}, {\"track_name\": \"El villancico de los pobres / Blanca Navidad\", \"album\": \"El villancico de los pobres / Blanca Navidad\", \"track_id\": \"1lcvyue2bnQ5MAKxMuHC4P\", \"artist\": \"Foyone\", \"popularity\": 0, \"danceability\": 0.668, \"energy\": 0.653, \"key\": 0, \"loudness\": -12.213, \"mode\": 1, \"speechiness\": 0.334, \"acousticness\": 0.0776, \"instrumentalness\": 0.0, \"liveness\": 0.0671, \"valence\": 0.936, \"tempo\": 85.022, \"year_playlist\": 2020, \"duration_ms\": 158.0}, {\"track_name\": \"\\u00bfD\\u00f3nde te has quedado?\", \"album\": \"Maldito\", \"track_id\": \"7xPNsbc3z1OUzLQupEhj4b\", \"artist\": \"Gritando en Silencio\", \"popularity\": 37, \"danceability\": 0.5, \"energy\": 0.817, \"key\": 11, \"loudness\": -6.758, \"mode\": 1, \"speechiness\": 0.0603, \"acousticness\": 0.00751, \"instrumentalness\": 0.0, \"liveness\": 0.11, \"valence\": 0.826, \"tempo\": 184.085, \"year_playlist\": 2020, \"duration_ms\": 299.0}, {\"track_name\": \"That's Life (feat. Mac Miller & Sia)\", \"album\": \"That's Life (feat. Mac Miller & Sia)\", \"track_id\": \"5h0Jgt873QtgL6nJRBGfT6\", \"artist\": \"88-Keys\", \"popularity\": 64, \"danceability\": 0.525, \"energy\": 0.774, \"key\": 9, \"loudness\": -4.532, \"mode\": 1, \"speechiness\": 0.241, \"acousticness\": 0.24, \"instrumentalness\": 1.07e-06, \"liveness\": 0.495, \"valence\": 0.526, \"tempo\": 154.192, \"year_playlist\": 2020, \"duration_ms\": 202.0}, {\"track_name\": \"Aquellos Tipos de Largo\", \"album\": \"Lo Primero Es Lo Segundo\", \"track_id\": \"5emOCPdalJbwu2kiZnlDMJ\", \"artist\": \"Grupo Viral\", \"popularity\": 0, \"danceability\": 0.506, \"energy\": 0.861, \"key\": 3, \"loudness\": -5.202, \"mode\": 1, \"speechiness\": 0.0368, \"acousticness\": 0.00514, \"instrumentalness\": 0.00434, \"liveness\": 0.319, \"valence\": 0.812, \"tempo\": 160.048, \"year_playlist\": 2020, \"duration_ms\": 251.0}, {\"track_name\": \"The Woods - Acoustic\", \"album\": \"The Woods (Acoustic)\", \"track_id\": \"6uaIMhUZXMuT2Zz0vxrFiR\", \"artist\": \"Hollow Coves\", \"popularity\": 0, \"danceability\": 0.568, \"energy\": 0.558, \"key\": 9, \"loudness\": -8.553, \"mode\": 1, \"speechiness\": 0.0278, \"acousticness\": 0.724, \"instrumentalness\": 0.000331, \"liveness\": 0.116, \"valence\": 0.287, \"tempo\": 104.991, \"year_playlist\": 2020, \"duration_ms\": 240.0}, {\"track_name\": \"Cypher #1 (Reggae Cypher)\", \"album\": \"Cypher #1 (Reggae Cypher)\", \"track_id\": \"0p6r91oEfG3dAmNm2nwfRx\", \"artist\": \"4 Elementos\", \"popularity\": 0, \"danceability\": 0.691, \"energy\": 0.785, \"key\": 10, \"loudness\": -4.403, \"mode\": 0, \"speechiness\": 0.308, \"acousticness\": 0.254, \"instrumentalness\": 0.0, \"liveness\": 0.0646, \"valence\": 0.813, \"tempo\": 89.86, \"year_playlist\": 2020, \"duration_ms\": 228.0}, {\"track_name\": \"Papa Trabaja\", \"album\": \"Force & Honneur\", \"track_id\": \"7t6Sur23gWgExZG4hx5K4n\", \"artist\": \"Lacrim\", \"popularity\": 40, \"danceability\": 0.81, \"energy\": 0.772, \"key\": 7, \"loudness\": -4.365, \"mode\": 1, \"speechiness\": 0.112, \"acousticness\": 0.0312, \"instrumentalness\": 5.42e-06, \"liveness\": 0.3, \"valence\": 0.624, \"tempo\": 119.989, \"year_playlist\": 2020, \"duration_ms\": 214.0}, {\"track_name\": \"Weekend (feat. Miguel)\", \"album\": \"GO:OD AM\", \"track_id\": \"6GnhWMhgJb7uyiiPEiEkDA\", \"artist\": \"Mac Miller\", \"popularity\": 77, \"danceability\": 0.843, \"energy\": 0.435, \"key\": 8, \"loudness\": -8.442, \"mode\": 1, \"speechiness\": 0.178, \"acousticness\": 0.47, \"instrumentalness\": 0.0, \"liveness\": 0.147, \"valence\": 0.19, \"tempo\": 120.058, \"year_playlist\": 2020, \"duration_ms\": 208.0}, {\"track_name\": \"Carretera\", \"album\": \"Carretera\", \"track_id\": \"6iNJ8Zdt3Kb2E7JuvTj6B5\", \"artist\": \"Natos y Waor\", \"popularity\": 11, \"danceability\": 0.673, \"energy\": 0.753, \"key\": 4, \"loudness\": -6.632, \"mode\": 0, \"speechiness\": 0.0549, \"acousticness\": 0.734, \"instrumentalness\": 0.0, \"liveness\": 0.111, \"valence\": 0.592, \"tempo\": 84.96, \"year_playlist\": 2020, \"duration_ms\": 215.0}, {\"track_name\": \"From Afar\", \"album\": \"Dream Your Life Away\", \"track_id\": \"0xLoYaRyQxTDR7kNIo69B3\", \"artist\": \"Vance Joy\", \"popularity\": 41, \"danceability\": 0.327, \"energy\": 0.412, \"key\": 0, \"loudness\": -8.511, \"mode\": 1, \"speechiness\": 0.029, \"acousticness\": 0.489, \"instrumentalness\": 7.72e-06, \"liveness\": 0.308, \"valence\": 0.173, \"tempo\": 86.419, \"year_playlist\": 2020, \"duration_ms\": 262.0}, {\"track_name\": \"Little Talks\", \"album\": \"My Head Is An Animal\", \"track_id\": \"2ihCaVdNZmnHZWt0fvAM7B\", \"artist\": \"Of Monsters and Men\", \"popularity\": 79, \"danceability\": 0.457, \"energy\": 0.757, \"key\": 1, \"loudness\": -5.177, \"mode\": 1, \"speechiness\": 0.032, \"acousticness\": 0.0206, \"instrumentalness\": 0.0, \"liveness\": 0.146, \"valence\": 0.417, \"tempo\": 102.961, \"year_playlist\": 2020, \"duration_ms\": 267.0}, {\"track_name\": \"Here with You\", \"album\": \"Here with You\", \"track_id\": \"7fLNdannkvEtTnQiFFHHpw\", \"artist\": \"Urbanites\", \"popularity\": 4, \"danceability\": 0.291, \"energy\": 0.541, \"key\": 7, \"loudness\": -8.455, \"mode\": 0, \"speechiness\": 0.0302, \"acousticness\": 0.0244, \"instrumentalness\": 0.0, \"liveness\": 0.0841, \"valence\": 0.0809, \"tempo\": 89.052, \"year_playlist\": 2020, \"duration_ms\": 244.0}, {\"track_name\": \"Que Te Vaya Bien\", \"album\": \"Operaci\\u00f3n Guitarra Sessions\", \"track_id\": \"2ehuqGxwDZqiSOqEVXS3AD\", \"artist\": \"El Ni\\u00f1o de la Hipoteca\", \"popularity\": 45, \"danceability\": 0.697, \"energy\": 0.662, \"key\": 9, \"loudness\": -12.558, \"mode\": 1, \"speechiness\": 0.0957, \"acousticness\": 0.28, \"instrumentalness\": 0.0, \"liveness\": 0.148, \"valence\": 0.638, \"tempo\": 115.329, \"year_playlist\": 2020, \"duration_ms\": 190.0}, {\"track_name\": \"Cinderella\", \"album\": \"Cinderella\", \"track_id\": \"48LCnGeww8DfeXVc5V3tAR\", \"artist\": \"Ayax y Prok\", \"popularity\": 0, \"danceability\": 0.69, \"energy\": 0.847, \"key\": 6, \"loudness\": -5.631, \"mode\": 0, \"speechiness\": 0.214, \"acousticness\": 0.127, \"instrumentalness\": 0.0, \"liveness\": 0.0818, \"valence\": 0.49, \"tempo\": 94.017, \"year_playlist\": 2020, \"duration_ms\": 163.0}, {\"track_name\": \"Magia Pura\", \"album\": \"11 Palos\", \"track_id\": \"0XHRdoVTZD5Sb1wEVLxNYs\", \"artist\": \"Poncho K\", \"popularity\": 40, \"danceability\": 0.473, \"energy\": 0.438, \"key\": 4, \"loudness\": -9.609, \"mode\": 0, \"speechiness\": 0.0911, \"acousticness\": 0.73, \"instrumentalness\": 0.0, \"liveness\": 0.121, \"valence\": 0.685, \"tempo\": 186.421, \"year_playlist\": 2020, \"duration_ms\": 218.0}, {\"track_name\": \"Sexo en la Calle\", \"album\": \"Precede\", \"track_id\": \"3IXBQvaHN62rF4QwqO41hD\", \"artist\": \"Los De Marras\", \"popularity\": 0, \"danceability\": 0.42, \"energy\": 0.905, \"key\": 0, \"loudness\": -4.501, \"mode\": 1, \"speechiness\": 0.079, \"acousticness\": 0.0971, \"instrumentalness\": 0.0, \"liveness\": 0.172, \"valence\": 0.71, \"tempo\": 140.05, \"year_playlist\": 2020, \"duration_ms\": 241.0}, {\"track_name\": \"Yonki\", \"album\": \"Yonki\", \"track_id\": \"1oxhplrhy5Krs1SnGIWMQn\", \"artist\": \"El Ni\\u00f1o de la Hipoteca\", \"popularity\": 17, \"danceability\": 0.587, \"energy\": 0.89, \"key\": 7, \"loudness\": -4.928, \"mode\": 1, \"speechiness\": 0.075, \"acousticness\": 0.19, \"instrumentalness\": 0.0, \"liveness\": 0.136, \"valence\": 0.617, \"tempo\": 115.629, \"year_playlist\": 2020, \"duration_ms\": 261.0}, {\"track_name\": \"Our Love Is Our Love\", \"album\": \"Weird Kid\", \"track_id\": \"17yOK7gmxYIhgmp6egnuVl\", \"artist\": \"Chris Malinchak\", \"popularity\": 37, \"danceability\": 0.788, \"energy\": 0.519, \"key\": 7, \"loudness\": -10.826, \"mode\": 0, \"speechiness\": 0.0593, \"acousticness\": 0.0286, \"instrumentalness\": 0.0107, \"liveness\": 0.0906, \"valence\": 0.576, \"tempo\": 97.008, \"year_playlist\": 2020, \"duration_ms\": 210.0}, {\"track_name\": \"Lucha De Gigantes\", \"album\": \"Lucha De Gigantes\", \"track_id\": \"1ozbWlTQASs311dSO5R6vp\", \"artist\": \"Love of Lesbian\", \"popularity\": 55, \"danceability\": 0.729, \"energy\": 0.482, \"key\": 4, \"loudness\": -6.5, \"mode\": 0, \"speechiness\": 0.0301, \"acousticness\": 0.339, \"instrumentalness\": 4.38e-05, \"liveness\": 0.159, \"valence\": 0.361, \"tempo\": 108.133, \"year_playlist\": 2020, \"duration_ms\": 207.0}, {\"track_name\": \"Spirits\", \"album\": \"Hope\", \"track_id\": \"7GJ572zvnU94VZVrj5XRtb\", \"artist\": \"The Strumbellas\", \"popularity\": 53, \"danceability\": 0.556, \"energy\": 0.658, \"key\": 0, \"loudness\": -6.075, \"mode\": 1, \"speechiness\": 0.0265, \"acousticness\": 0.164, \"instrumentalness\": 0.0, \"liveness\": 0.113, \"valence\": 0.787, \"tempo\": 80.529, \"year_playlist\": 2020, \"duration_ms\": 204.0}, {\"track_name\": \"A un Palmo de la Gloria\", \"album\": \"Operaci\\u00f3n Guitarra Sessions\", \"track_id\": \"3bxTMZlxWO02pNNm4j1Vt1\", \"artist\": \"El Ni\\u00f1o de la Hipoteca\", \"popularity\": 44, \"danceability\": 0.751, \"energy\": 0.347, \"key\": 0, \"loudness\": -10.379, \"mode\": 1, \"speechiness\": 0.475, \"acousticness\": 0.809, \"instrumentalness\": 0.0, \"liveness\": 0.101, \"valence\": 0.751, \"tempo\": 73.977, \"year_playlist\": 2020, \"duration_ms\": 210.0}, {\"track_name\": \"Never There\", \"album\": \"Order In Decline\", \"track_id\": \"3ujzd7pcdAhILCnS3oGbaU\", \"artist\": \"Sum 41\", \"popularity\": 53, \"danceability\": 0.516, \"energy\": 0.561, \"key\": 2, \"loudness\": -5.364, \"mode\": 1, \"speechiness\": 0.0351, \"acousticness\": 0.00264, \"instrumentalness\": 0.0, \"liveness\": 0.556, \"valence\": 0.141, \"tempo\": 139.95, \"year_playlist\": 2020, \"duration_ms\": 260.0}, {\"track_name\": \"A Tu Vera\", \"album\": \"Oscuridad\", \"track_id\": \"7uj6MDoC3Ga3LIOBiLFsUH\", \"artist\": \"Los De Marras\", \"popularity\": 0, \"danceability\": 0.574, \"energy\": 0.865, \"key\": 11, \"loudness\": -4.023, \"mode\": 0, \"speechiness\": 0.0552, \"acousticness\": 0.0126, \"instrumentalness\": 0.0, \"liveness\": 0.175, \"valence\": 0.555, \"tempo\": 89.902, \"year_playlist\": 2020, \"duration_ms\": 217.0}, {\"track_name\": \"Cherry Wine - Live\", \"album\": \"Hozier\", \"track_id\": \"4Q66chx9WzqWcLItXoZ5r4\", \"artist\": \"Hozier\", \"popularity\": 66, \"danceability\": 0.418, \"energy\": 0.111, \"key\": 1, \"loudness\": -14.848, \"mode\": 1, \"speechiness\": 0.0389, \"acousticness\": 0.953, \"instrumentalness\": 0.00342, \"liveness\": 0.0982, \"valence\": 0.228, \"tempo\": 82.508, \"year_playlist\": 2020, \"duration_ms\": 240.0}, {\"track_name\": \"Smells Like Teen Spirit\", \"album\": \"Nevermind (Deluxe Edition)\", \"track_id\": \"1f3yAtsJtY87CTmM8RLnxf\", \"artist\": \"Nirvana\", \"popularity\": 10, \"danceability\": 0.502, \"energy\": 0.912, \"key\": 1, \"loudness\": -4.556, \"mode\": 1, \"speechiness\": 0.0564, \"acousticness\": 2.55e-05, \"instrumentalness\": 0.000173, \"liveness\": 0.106, \"valence\": 0.72, \"tempo\": 116.761, \"year_playlist\": 2020, \"duration_ms\": 302.0}, {\"track_name\": \"With Me\", \"album\": \"Underclass Hero\", \"track_id\": \"1OTvWduKQV0MQd2gnGM9He\", \"artist\": \"Sum 41\", \"popularity\": 62, \"danceability\": 0.167, \"energy\": 0.851, \"key\": 4, \"loudness\": -4.039, \"mode\": 1, \"speechiness\": 0.0421, \"acousticness\": 0.0127, \"instrumentalness\": 0.0, \"liveness\": 0.172, \"valence\": 0.11, \"tempo\": 175.426, \"year_playlist\": 2020, \"duration_ms\": 291.0}, {\"track_name\": \"No Eres Feo Ni N\\u00e1\", \"album\": \"2005\", \"track_id\": \"2sJptj7MmQA7FjcpbzXXrz\", \"artist\": \"SFDK\", \"popularity\": 42, \"danceability\": 0.505, \"energy\": 0.809, \"key\": 1, \"loudness\": -4.683, \"mode\": 0, \"speechiness\": 0.431, \"acousticness\": 0.0851, \"instrumentalness\": 0.0, \"liveness\": 0.353, \"valence\": 0.76, \"tempo\": 174.052, \"year_playlist\": 2020, \"duration_ms\": 260.0}, {\"track_name\": \"El marinero (feat. La Maravillosa Orquesta del Alcohol)\", \"album\": \"Capit\\u00e1n Cobarde\", \"track_id\": \"10ianFjBPEeVoEIBob7Eie\", \"artist\": \"Capit\\u00e1n Cobarde\", \"popularity\": 39, \"danceability\": 0.361, \"energy\": 0.852, \"key\": 2, \"loudness\": -4.971, \"mode\": 1, \"speechiness\": 0.0451, \"acousticness\": 0.221, \"instrumentalness\": 0.0, \"liveness\": 0.52, \"valence\": 0.579, \"tempo\": 125.132, \"year_playlist\": 2020, \"duration_ms\": 218.0}, {\"track_name\": \"Estoy enfermo (con Melendi)\", \"album\": \"Cuestion de directo\", \"track_id\": \"3H4gp39BIC4t3guLhjJBZr\", \"artist\": \"Pignoise\", \"popularity\": 55, \"danceability\": 0.569, \"energy\": 0.831, \"key\": 11, \"loudness\": -3.177, \"mode\": 1, \"speechiness\": 0.0454, \"acousticness\": 0.0178, \"instrumentalness\": 0.0, \"liveness\": 0.0603, \"valence\": 0.824, \"tempo\": 100.022, \"year_playlist\": 2020, \"duration_ms\": 154.0}, {\"track_name\": \"Rap Largo\", \"album\": \"Rap Largo\", \"track_id\": \"1di8fdW8IFrgYWZSWlsVxD\", \"artist\": \"Bejo\", \"popularity\": 0, \"danceability\": 0.711, \"energy\": 0.677, \"key\": 6, \"loudness\": -6.951, \"mode\": 1, \"speechiness\": 0.504, \"acousticness\": 0.0305, \"instrumentalness\": 0.0, \"liveness\": 0.0958, \"valence\": 0.609, \"tempo\": 78.387, \"year_playlist\": 2020, \"duration_ms\": 476.0}, {\"track_name\": \"Naive\", \"album\": \"Inside In / Inside Out\", \"track_id\": \"7BHPGtpuuWWsvE7cCaMuEU\", \"artist\": \"The Kooks\", \"popularity\": 74, \"danceability\": 0.391, \"energy\": 0.808, \"key\": 8, \"loudness\": -6.209, \"mode\": 0, \"speechiness\": 0.0892, \"acousticness\": 0.0759, \"instrumentalness\": 0.0, \"liveness\": 0.149, \"valence\": 0.737, \"tempo\": 100.304, \"year_playlist\": 2020, \"duration_ms\": 204.0}, {\"track_name\": \"Time\", \"album\": \"Time\", \"track_id\": \"05v5mPkLAOoa7M5tnXXOwq\", \"artist\": \"Free Nationals\", \"popularity\": 52, \"danceability\": 0.46, \"energy\": 0.771, \"key\": 9, \"loudness\": -7.088, \"mode\": 0, \"speechiness\": 0.328, \"acousticness\": 0.518, \"instrumentalness\": 0.000197, \"liveness\": 0.0774, \"valence\": 0.296, \"tempo\": 88.83, \"year_playlist\": 2020, \"duration_ms\": 210.0}, {\"track_name\": \"Quick Escape\", \"album\": \"Quick Escape\", \"track_id\": \"3FoykAESe8MNT69DpM6B4c\", \"artist\": \"Pearl Jam\", \"popularity\": 38, \"danceability\": 0.417, \"energy\": 0.932, \"key\": 9, \"loudness\": -5.482, \"mode\": 1, \"speechiness\": 0.055, \"acousticness\": 0.000187, \"instrumentalness\": 0.00121, \"liveness\": 0.326, \"valence\": 0.436, \"tempo\": 163.527, \"year_playlist\": 2020, \"duration_ms\": 287.0}, {\"track_name\": \"Tear in My Heart\", \"album\": \"Blurryface\", \"track_id\": \"3bnVBN67NBEzedqQuWrpP4\", \"artist\": \"Twenty One Pilots\", \"popularity\": 74, \"danceability\": 0.655, \"energy\": 0.632, \"key\": 2, \"loudness\": -4.802, \"mode\": 1, \"speechiness\": 0.0489, \"acousticness\": 0.0189, \"instrumentalness\": 0.0, \"liveness\": 0.0722, \"valence\": 0.447, \"tempo\": 120.113, \"year_playlist\": 2020, \"duration_ms\": 188.0}, {\"track_name\": \"Medley:Javat y Kamel/Amberes/Reunion/Kieres - Live\", \"album\": \"Gira 06/07 - Presente (Live)\", \"track_id\": \"3cF5Ov7VKlIQ8p30nKY7XA\", \"artist\": \"Violadores Del Verso\", \"popularity\": 31, \"danceability\": 0.51, \"energy\": 0.949, \"key\": 7, \"loudness\": -3.365, \"mode\": 0, \"speechiness\": 0.433, \"acousticness\": 0.0536, \"instrumentalness\": 0.0, \"liveness\": 0.396, \"valence\": 0.689, \"tempo\": 184.23, \"year_playlist\": 2020, \"duration_ms\": 763.0}, {\"track_name\": \"El Gordo Que la Pisa Bien\", \"album\": \"Divertimentos (Vol.1)\", \"track_id\": \"3geFUUwPEbPsT6Tbj0lRb8\", \"artist\": \"Kase.O\", \"popularity\": 49, \"danceability\": 0.78, \"energy\": 0.803, \"key\": 11, \"loudness\": -4.472, \"mode\": 0, \"speechiness\": 0.368, \"acousticness\": 0.0584, \"instrumentalness\": 0.0, \"liveness\": 0.336, \"valence\": 0.737, \"tempo\": 82.267, \"year_playlist\": 2021, \"duration_ms\": 283.0}, {\"track_name\": \"Tiranosaurius Rex\", \"album\": \"Divertimentos (Vol.1)\", \"track_id\": \"6fKCqK8OB2MVnYCHD9moHj\", \"artist\": \"Kase.O\", \"popularity\": 53, \"danceability\": 0.842, \"energy\": 0.757, \"key\": 5, \"loudness\": -6.339, \"mode\": 0, \"speechiness\": 0.281, \"acousticness\": 0.06, \"instrumentalness\": 0.0, \"liveness\": 0.0628, \"valence\": 0.578, \"tempo\": 111.938, \"year_playlist\": 2021, \"duration_ms\": 184.0}, {\"track_name\": \"Ringui Dingui (con SFDK)\", \"album\": \"Divertimentos (Vol.2)\", \"track_id\": \"7zrmKJCfEHluOWJy8LFnTs\", \"artist\": \"Kase.O\", \"popularity\": 56, \"danceability\": 0.877, \"energy\": 0.792, \"key\": 7, \"loudness\": -5.866, \"mode\": 1, \"speechiness\": 0.0888, \"acousticness\": 0.287, \"instrumentalness\": 0.0, \"liveness\": 0.0804, \"valence\": 0.899, \"tempo\": 119.933, \"year_playlist\": 2021, \"duration_ms\": 205.0}, {\"track_name\": \"Tranquil\\u00edsimo\", \"album\": \"Tranquil\\u00edsimo\", \"track_id\": \"3znlxKwQTRVrrerCcZPus2\", \"artist\": \"Israel B\", \"popularity\": 33, \"danceability\": 0.828, \"energy\": 0.714, \"key\": 10, \"loudness\": -6.852, \"mode\": 0, \"speechiness\": 0.108, \"acousticness\": 0.185, \"instrumentalness\": 3.15e-06, \"liveness\": 0.244, \"valence\": 0.407, \"tempo\": 95.967, \"year_playlist\": 2021, \"duration_ms\": 143.0}, {\"track_name\": \"En Bajo Perfil\", \"album\": \"Moonlight922\", \"track_id\": \"1f53Xa0KL3Fw1gEnuHnprI\", \"artist\": \"Cruz Cafun\\u00e9\", \"popularity\": 46, \"danceability\": 0.501, \"energy\": 0.461, \"key\": 11, \"loudness\": -10.381, \"mode\": 0, \"speechiness\": 0.337, \"acousticness\": 0.228, \"instrumentalness\": 0.0, \"liveness\": 0.153, \"valence\": 0.257, \"tempo\": 95.278, \"year_playlist\": 2021, \"duration_ms\": 253.0}, {\"track_name\": \"Alitas de mar (feat. Juanito Makand\\u00e9)\", \"album\": \"Crema\", \"track_id\": \"7ikoui4eGrHzzcOEaXtdZQ\", \"artist\": \"Tu Otra Bonita\", \"popularity\": 51, \"danceability\": 0.653, \"energy\": 0.605, \"key\": 7, \"loudness\": -6.371, \"mode\": 1, \"speechiness\": 0.0368, \"acousticness\": 0.581, \"instrumentalness\": 0.0, \"liveness\": 0.101, \"valence\": 0.531, \"tempo\": 157.838, \"year_playlist\": 2021, \"duration_ms\": 194.0}, {\"track_name\": \"El S\\u00edndrome Anuel\", \"album\": \"El S\\u00edndrome Anuel\", \"track_id\": \"6Io9NpbpcUli1GihajZTUy\", \"artist\": \"Foyone\", \"popularity\": 20, \"danceability\": 0.801, \"energy\": 0.933, \"key\": 11, \"loudness\": -6.335, \"mode\": 0, \"speechiness\": 0.408, \"acousticness\": 0.214, \"instrumentalness\": 0.0, \"liveness\": 0.282, \"valence\": 0.393, \"tempo\": 92.141, \"year_playlist\": 2021, \"duration_ms\": 365.0}, {\"track_name\": \"CAMBIA!\", \"album\": \"El Madrile\\u00f1o\", \"track_id\": \"5cNJO43VKHxD0XGbkhboZu\", \"artist\": \"C. Tangana\", \"popularity\": 66, \"danceability\": 0.557, \"energy\": 0.687, \"key\": 2, \"loudness\": -4.721, \"mode\": 1, \"speechiness\": 0.0814, \"acousticness\": 0.551, \"instrumentalness\": 5.28e-05, \"liveness\": 0.0975, \"valence\": 0.638, \"tempo\": 105.508, \"year_playlist\": 2021, \"duration_ms\": 188.0}, {\"track_name\": \"Este Verano\", \"album\": \"\\u2609c\\u00e1ncer \\u2191capricornio \\u263evirgo\", \"track_id\": \"5570VMVvXhONghMCBbzZZE\", \"artist\": \"Cruz Cafun\\u00e9\", \"popularity\": 46, \"danceability\": 0.736, \"energy\": 0.557, \"key\": 1, \"loudness\": -9.36, \"mode\": 1, \"speechiness\": 0.104, \"acousticness\": 0.112, \"instrumentalness\": 0.0966, \"liveness\": 0.0969, \"valence\": 0.475, \"tempo\": 85.998, \"year_playlist\": 2021, \"duration_ms\": 176.0}, {\"track_name\": \"Alegr\\u00eda de Vivir\", \"album\": \"Alegr\\u00eda de Vivir\", \"track_id\": \"4sJtmGdpGZKr8XMfiyJj3E\", \"artist\": \"Tu Otra Bonita\", \"popularity\": 57, \"danceability\": 0.76, \"energy\": 0.527, \"key\": 9, \"loudness\": -7.946, \"mode\": 0, \"speechiness\": 0.0579, \"acousticness\": 0.552, \"instrumentalness\": 4.32e-06, \"liveness\": 0.1, \"valence\": 0.7, \"tempo\": 132.096, \"year_playlist\": 2021, \"duration_ms\": 204.0}, {\"track_name\": \"La Placita\", \"album\": \"La Placita\", \"track_id\": \"74OHxW9pnL556uodW2m6SQ\", \"artist\": \"Delaossa\", \"popularity\": 0, \"danceability\": 0.563, \"energy\": 0.534, \"key\": 4, \"loudness\": -8.055, \"mode\": 0, \"speechiness\": 0.342, \"acousticness\": 0.774, \"instrumentalness\": 0.0, \"liveness\": 0.13, \"valence\": 0.659, \"tempo\": 81.737, \"year_playlist\": 2021, \"duration_ms\": 228.0}, {\"track_name\": \"Hong Kong\", \"album\": \"El Madrile\\u00f1o\", \"track_id\": \"4kD4ZzJ1rZIVfJ9qw85CVT\", \"artist\": \"C. Tangana\", \"popularity\": 59, \"danceability\": 0.649, \"energy\": 0.376, \"key\": 4, \"loudness\": -7.528, \"mode\": 1, \"speechiness\": 0.039, \"acousticness\": 0.0626, \"instrumentalness\": 2.72e-05, \"liveness\": 0.0911, \"valence\": 0.434, \"tempo\": 97.848, \"year_playlist\": 2021, \"duration_ms\": 204.0}, {\"track_name\": \"Foxy Eyes\", \"album\": \"\\u2609c\\u00e1ncer \\u2191capricornio \\u263evirgo\", \"track_id\": \"6N6q3sjuenff6vQpalPHuH\", \"artist\": \"Cruz Cafun\\u00e9\", \"popularity\": 43, \"danceability\": 0.751, \"energy\": 0.287, \"key\": 9, \"loudness\": -13.868, \"mode\": 1, \"speechiness\": 0.188, \"acousticness\": 0.143, \"instrumentalness\": 0.000983, \"liveness\": 0.0804, \"valence\": 0.349, \"tempo\": 135.958, \"year_playlist\": 2021, \"duration_ms\": 260.0}, {\"track_name\": \"Cuando te empec\\u00e9 a querer\", \"album\": \"Muerte a los p\\u00e1jaros negros\", \"track_id\": \"4moRbcZVVx9MlMpfNFD3Pl\", \"artist\": \"Juanito Makand\\u00e9\", \"popularity\": 0, \"danceability\": 0.689, \"energy\": 0.651, \"key\": 6, \"loudness\": -8.769, \"mode\": 0, \"speechiness\": 0.0439, \"acousticness\": 0.448, \"instrumentalness\": 2.27e-06, \"liveness\": 0.331, \"valence\": 0.792, \"tempo\": 99.956, \"year_playlist\": 2021, \"duration_ms\": 225.0}, {\"track_name\": \"Zoo Funk\", \"album\": \"Funk Experience\", \"track_id\": \"1m57M3GAKCBkiyzXsrizeo\", \"artist\": \"R De Rumba\", \"popularity\": 34, \"danceability\": 0.848, \"energy\": 0.832, \"key\": 0, \"loudness\": -4.352, \"mode\": 1, \"speechiness\": 0.192, \"acousticness\": 0.287, \"instrumentalness\": 0.0, \"liveness\": 0.239, \"valence\": 0.832, \"tempo\": 101.984, \"year_playlist\": 2021, \"duration_ms\": 248.0}, {\"track_name\": \"Muriendo De Envidia\", \"album\": \"El Madrile\\u00f1o\", \"track_id\": \"740uwCK09xVPNPr4hFpcWW\", \"artist\": \"C. Tangana\", \"popularity\": 61, \"danceability\": 0.845, \"energy\": 0.717, \"key\": 0, \"loudness\": -6.773, \"mode\": 1, \"speechiness\": 0.359, \"acousticness\": 0.428, \"instrumentalness\": 0.0023, \"liveness\": 0.0822, \"valence\": 0.255, \"tempo\": 93.997, \"year_playlist\": 2021, \"duration_ms\": 183.0}, {\"track_name\": \"Mina el Hammani\", \"album\": \"Moonlight922\", \"track_id\": \"09Ae1id448lmrfETbExaRc\", \"artist\": \"Cruz Cafun\\u00e9\", \"popularity\": 51, \"danceability\": 0.851, \"energy\": 0.476, \"key\": 11, \"loudness\": -10.8, \"mode\": 0, \"speechiness\": 0.288, \"acousticness\": 0.162, \"instrumentalness\": 1.05e-05, \"liveness\": 0.168, \"valence\": 0.223, \"tempo\": 124.992, \"year_playlist\": 2021, \"duration_ms\": 197.0}, {\"track_name\": \"ENEMIGOS INVISIBLES\", \"album\": \"Tripi Hapa\", \"track_id\": \"1T8137xobJzWoGYd8ecYtu\", \"artist\": \"Bejo\", \"popularity\": 0, \"danceability\": 0.518, \"energy\": 0.73, \"key\": 11, \"loudness\": -3.666, \"mode\": 1, \"speechiness\": 0.0996, \"acousticness\": 0.00885, \"instrumentalness\": 0.0, \"liveness\": 0.11, \"valence\": 0.801, \"tempo\": 169.483, \"year_playlist\": 2021, \"duration_ms\": 147.0}, {\"track_name\": \"5 de la Tarde\", \"album\": \"5 de la Tarde\", \"track_id\": \"3mlvmh76YzIOkUhmJlQodB\", \"artist\": \"Cheti\", \"popularity\": 42, \"danceability\": 0.604, \"energy\": 0.411, \"key\": 1, \"loudness\": -15.157, \"mode\": 1, \"speechiness\": 0.0993, \"acousticness\": 0.664, \"instrumentalness\": 3.83e-05, \"liveness\": 0.0357, \"valence\": 0.537, \"tempo\": 108.136, \"year_playlist\": 2021, \"duration_ms\": 218.0}, {\"track_name\": \"Los Tontos\", \"album\": \"El Madrile\\u00f1o\", \"track_id\": \"4DoEHKWh8k6vYDleECQkJx\", \"artist\": \"C. Tangana\", \"popularity\": 64, \"danceability\": 0.798, \"energy\": 0.715, \"key\": 9, \"loudness\": -5.712, \"mode\": 0, \"speechiness\": 0.187, \"acousticness\": 0.365, \"instrumentalness\": 2.08e-06, \"liveness\": 0.142, \"valence\": 0.895, \"tempo\": 105.995, \"year_playlist\": 2021, \"duration_ms\": 193.0}, {\"track_name\": \"Nmout 3lik\", \"album\": \"\\u2609c\\u00e1ncer \\u2191capricornio \\u263evirgo\", \"track_id\": \"05ZKGe9Di06EQvEYkLJnbk\", \"artist\": \"Cruz Cafun\\u00e9\", \"popularity\": 52, \"danceability\": 0.79, \"energy\": 0.529, \"key\": 7, \"loudness\": -9.391, \"mode\": 1, \"speechiness\": 0.153, \"acousticness\": 0.157, \"instrumentalness\": 0.332, \"liveness\": 0.435, \"valence\": 0.555, \"tempo\": 129.029, \"year_playlist\": 2021, \"duration_ms\": 172.0}, {\"track_name\": \"Maan!\", \"album\": \"28 Grams (Trap Wiz)\", \"track_id\": \"5v6baPGiSF9PJ3YpNtbIzT\", \"artist\": \"Wiz Khalifa\", \"popularity\": 36, \"danceability\": 0.775, \"energy\": 0.778, \"key\": 10, \"loudness\": -5.166, \"mode\": 1, \"speechiness\": 0.0879, \"acousticness\": 0.274, \"instrumentalness\": 0.0, \"liveness\": 0.0629, \"valence\": 0.427, \"tempo\": 112.175, \"year_playlist\": 2021, \"duration_ms\": 250.0}, {\"track_name\": \"Es \\u00c9pico\", \"album\": \"Muerte\", \"track_id\": \"2kd0T6zgABT8P0s2h9QU5O\", \"artist\": \"Canserbero\", \"popularity\": 71, \"danceability\": 0.665, \"energy\": 0.816, \"key\": 0, \"loudness\": -6.753, \"mode\": 1, \"speechiness\": 0.266, \"acousticness\": 0.448, \"instrumentalness\": 0.0, \"liveness\": 0.297, \"valence\": 0.745, \"tempo\": 93.37, \"year_playlist\": 2021, \"duration_ms\": 362.0}, {\"track_name\": \"Cu\\u00e1ndo Olvidar\\u00e9\", \"album\": \"El Madrile\\u00f1o\", \"track_id\": \"4NdjM90OrP4wuHsecOMXlg\", \"artist\": \"C. Tangana\", \"popularity\": 57, \"danceability\": 0.726, \"energy\": 0.323, \"key\": 5, \"loudness\": -9.322, \"mode\": 0, \"speechiness\": 0.185, \"acousticness\": 0.818, \"instrumentalness\": 1.03e-06, \"liveness\": 0.0999, \"valence\": 0.461, \"tempo\": 95.803, \"year_playlist\": 2021, \"duration_ms\": 190.0}, {\"track_name\": \"Fyah Fyah\", \"album\": \"Chachichacho\", \"track_id\": \"4ptx37L95KsPwAbhpw8DN5\", \"artist\": \"Bejo\", \"popularity\": 0, \"danceability\": 0.799, \"energy\": 0.808, \"key\": 11, \"loudness\": -5.438, \"mode\": 0, \"speechiness\": 0.251, \"acousticness\": 0.0877, \"instrumentalness\": 0.0, \"liveness\": 0.0986, \"valence\": 0.703, \"tempo\": 103.186, \"year_playlist\": 2021, \"duration_ms\": 182.0}, {\"track_name\": \"Mi Casa\", \"album\": \"Pa'l Coche\", \"track_id\": \"3sdbjDa8Rvmfn8k7pz7znc\", \"artist\": \"Cruz Cafun\\u00e9\", \"popularity\": 53, \"danceability\": 0.888, \"energy\": 0.563, \"key\": 1, \"loudness\": -7.432, \"mode\": 1, \"speechiness\": 0.142, \"acousticness\": 0.138, \"instrumentalness\": 8.13e-06, \"liveness\": 0.116, \"valence\": 0.444, \"tempo\": 99.481, \"year_playlist\": 2021, \"duration_ms\": 166.0}, {\"track_name\": \"Rockadown Subway Session\", \"album\": \"Rockadown Subway Session\", \"track_id\": \"3bdhZxL276JwNlNsQgu51s\", \"artist\": \"Vanupi\\u00e9\", \"popularity\": 0, \"danceability\": 0.65, \"energy\": 0.648, \"key\": 6, \"loudness\": -6.694, \"mode\": 0, \"speechiness\": 0.339, \"acousticness\": 0.525, \"instrumentalness\": 0.0, \"liveness\": 0.683, \"valence\": 0.792, \"tempo\": 140.607, \"year_playlist\": 2021, \"duration_ms\": 214.0}, {\"track_name\": \"Me Maten - Live at NPR's Tiny Desk\", \"album\": \"El Madrile\\u00f1o (Live at NPR's Tiny Desk)\", \"track_id\": \"5py3FJrHEuR67BjR7wm8uj\", \"artist\": \"C. Tangana\", \"popularity\": 63, \"danceability\": 0.614, \"energy\": 0.583, \"key\": 7, \"loudness\": -10.012, \"mode\": 1, \"speechiness\": 0.523, \"acousticness\": 0.526, \"instrumentalness\": 0.0, \"liveness\": 0.718, \"valence\": 0.794, \"tempo\": 79.04, \"year_playlist\": 2021, \"duration_ms\": 242.0}, {\"track_name\": \"Cypher #2 (Reggae Cypher)\", \"album\": \"Cypher #2 (Reggae Cypher)\", \"track_id\": \"6DxQg3crCwvNYQsZw1bjsd\", \"artist\": \"Pure Negga\", \"popularity\": 9, \"danceability\": 0.814, \"energy\": 0.763, \"key\": 11, \"loudness\": -1.817, \"mode\": 0, \"speechiness\": 0.262, \"acousticness\": 0.24, \"instrumentalness\": 0.0, \"liveness\": 0.321, \"valence\": 0.79, \"tempo\": 90.035, \"year_playlist\": 2021, \"duration_ms\": 337.0}, {\"track_name\": \"Segundo movimiento: Mierda de filosof\\u00eda\", \"album\": \"May\\u00e9utica\", \"track_id\": \"63Zg2q0NxOIoVu7olYHl9t\", \"artist\": \"Robe\", \"popularity\": 49, \"danceability\": 0.489, \"energy\": 0.708, \"key\": 11, \"loudness\": -12.788, \"mode\": 0, \"speechiness\": 0.107, \"acousticness\": 0.0128, \"instrumentalness\": 2.84e-05, \"liveness\": 0.469, \"valence\": 0.31, \"tempo\": 122.016, \"year_playlist\": 2021, \"duration_ms\": 286.0}, {\"track_name\": \"Redemption Song\", \"album\": \"Uprising\", \"track_id\": \"26PwuMotZqcczKLHi4Htz3\", \"artist\": \"Bob Marley & The Wailers\", \"popularity\": 69, \"danceability\": 0.671, \"energy\": 0.256, \"key\": 7, \"loudness\": -10.743, \"mode\": 1, \"speechiness\": 0.0387, \"acousticness\": 0.608, \"instrumentalness\": 0.0, \"liveness\": 0.0737, \"valence\": 0.694, \"tempo\": 115.871, \"year_playlist\": 2021, \"duration_ms\": 234.0}, {\"track_name\": \"Demasiadas Mujeres\", \"album\": \"El Madrile\\u00f1o\", \"track_id\": \"3GaGWoU1KfVqgl7vnRHP55\", \"artist\": \"C. Tangana\", \"popularity\": 79, \"danceability\": 0.658, \"energy\": 0.453, \"key\": 9, \"loudness\": -7.378, \"mode\": 0, \"speechiness\": 0.39, \"acousticness\": 0.131, \"instrumentalness\": 0.0002, \"liveness\": 0.0848, \"valence\": 0.358, \"tempo\": 126.043, \"year_playlist\": 2021, \"duration_ms\": 154.0}, {\"track_name\": \"Rara Bien\", \"album\": \"Directo en Sdma\", \"track_id\": \"4lSs7nqYqxXjWiiNehh3Ji\", \"artist\": \"Rupatrupa\", \"popularity\": 55, \"danceability\": 0.489, \"energy\": 0.464, \"key\": 9, \"loudness\": -7.537, \"mode\": 0, \"speechiness\": 0.0512, \"acousticness\": 0.381, \"instrumentalness\": 0.0, \"liveness\": 0.122, \"valence\": 0.56, \"tempo\": 118.286, \"year_playlist\": 2021, \"duration_ms\": 336.0}, {\"track_name\": \"Trappin\", \"album\": \"Trappin\", \"track_id\": \"2BgrVmdbY3gfSCNRsWPEKl\", \"artist\": \"Yung Sarria\", \"popularity\": 39, \"danceability\": 0.863, \"energy\": 0.479, \"key\": 1, \"loudness\": -9.769, \"mode\": 0, \"speechiness\": 0.137, \"acousticness\": 0.0102, \"instrumentalness\": 0.000127, \"liveness\": 0.125, \"valence\": 0.546, \"tempo\": 135.999, \"year_playlist\": 2021, \"duration_ms\": 144.0}, {\"track_name\": \"Breezeblocks\", \"album\": \"An Awesome Wave\", \"track_id\": \"3Wu6MhnZuLuzfH5wFC2g9i\", \"artist\": \"alt-J\", \"popularity\": 11, \"danceability\": 0.611, \"energy\": 0.643, \"key\": 5, \"loudness\": -7.372, \"mode\": 1, \"speechiness\": 0.037, \"acousticness\": 0.117, \"instrumentalness\": 0.00101, \"liveness\": 0.131, \"valence\": 0.258, \"tempo\": 74.991, \"year_playlist\": 2021, \"duration_ms\": 227.0}, {\"track_name\": \"Nunca Estoy\", \"album\": \"El Madrile\\u00f1o\", \"track_id\": \"6N4ioa3XSbvjmwdVEERl8F\", \"artist\": \"C. Tangana\", \"popularity\": 67, \"danceability\": 0.913, \"energy\": 0.369, \"key\": 2, \"loudness\": -5.299, \"mode\": 1, \"speechiness\": 0.12, \"acousticness\": 0.476, \"instrumentalness\": 0.00609, \"liveness\": 0.309, \"valence\": 0.436, \"tempo\": 135.019, \"year_playlist\": 2021, \"duration_ms\": 162.0}, {\"track_name\": \"El Carro de la Vida - Versi\\u00f3n Ac\\u00fastica\", \"album\": \"El Carro de la Vida\", \"track_id\": \"2rbKYumh9CLEcXhv1IVzg3\", \"artist\": \"Sinkope\", \"popularity\": 0, \"danceability\": 0.441, \"energy\": 0.815, \"key\": 2, \"loudness\": -8.467, \"mode\": 1, \"speechiness\": 0.114, \"acousticness\": 0.0496, \"instrumentalness\": 1.01e-05, \"liveness\": 0.0854, \"valence\": 0.328, \"tempo\": 154.995, \"year_playlist\": 2021, \"duration_ms\": 288.0}, {\"track_name\": \"Pan duro (feat. Fito y Fitipaldis)\", \"album\": \"Fitograf\\u00eda\", \"track_id\": \"76ruU3fgd1IuX98ugW9PMZ\", \"artist\": \"Marea\", \"popularity\": 44, \"danceability\": 0.475, \"energy\": 0.561, \"key\": 4, \"loudness\": -9.24, \"mode\": 0, \"speechiness\": 0.0305, \"acousticness\": 0.545, \"instrumentalness\": 0.000179, \"liveness\": 0.104, \"valence\": 0.627, \"tempo\": 145.465, \"year_playlist\": 2021, \"duration_ms\": 222.0}, {\"track_name\": \"Mon Amour - Remix\", \"album\": \"Mon Amour (Remix)\", \"track_id\": \"5TMLavqGRKNxgzMBrVpC9R\", \"artist\": \"zzoilo\", \"popularity\": 83, \"danceability\": 0.748, \"energy\": 0.761, \"key\": 2, \"loudness\": -6.621, \"mode\": 1, \"speechiness\": 0.102, \"acousticness\": 0.122, \"instrumentalness\": 6.56e-06, \"liveness\": 0.0984, \"valence\": 0.362, \"tempo\": 116.041, \"year_playlist\": 2021, \"duration_ms\": 180.0}, {\"track_name\": \"P\\u00e1rteme La Cara\", \"album\": \"El Madrile\\u00f1o\", \"track_id\": \"5gEUDNQvoQjdjklrwPdGwD\", \"artist\": \"C. Tangana\", \"popularity\": 70, \"danceability\": 0.761, \"energy\": 0.296, \"key\": 0, \"loudness\": -10.22, \"mode\": 1, \"speechiness\": 0.0484, \"acousticness\": 0.551, \"instrumentalness\": 0.000492, \"liveness\": 0.134, \"valence\": 0.579, \"tempo\": 127.938, \"year_playlist\": 2021, \"duration_ms\": 168.0}, {\"track_name\": \"Sunday Best\", \"album\": \"Where the Light Is\", \"track_id\": \"1Cv1YLb4q0RzL6pybtaMLo\", \"artist\": \"Surfaces\", \"popularity\": 75, \"danceability\": 0.878, \"energy\": 0.525, \"key\": 5, \"loudness\": -6.832, \"mode\": 1, \"speechiness\": 0.0578, \"acousticness\": 0.183, \"instrumentalness\": 0.0, \"liveness\": 0.0714, \"valence\": 0.694, \"tempo\": 112.022, \"year_playlist\": 2021, \"duration_ms\": 159.0}, {\"track_name\": \"No Hay Manera\", \"album\": \"No Hay Manera\", \"track_id\": \"5Qn3vK8wlpxGTIrCUKVzE2\", \"artist\": \"ToteKing\", \"popularity\": 41, \"danceability\": 0.594, \"energy\": 0.88, \"key\": 3, \"loudness\": -3.56, \"mode\": 0, \"speechiness\": 0.173, \"acousticness\": 0.157, \"instrumentalness\": 0.0, \"liveness\": 0.158, \"valence\": 0.738, \"tempo\": 92.035, \"year_playlist\": 2021, \"duration_ms\": 292.0}, {\"track_name\": \"Cora\\u00e7on\", \"album\": \"Rockallano\", \"track_id\": \"4hr7mgbCDRQ7x1Bvw5AawC\", \"artist\": \"Astola\", \"popularity\": 17, \"danceability\": 0.523, \"energy\": 0.271, \"key\": 0, \"loudness\": -9.992, \"mode\": 1, \"speechiness\": 0.0476, \"acousticness\": 0.867, \"instrumentalness\": 1.12e-06, \"liveness\": 0.117, \"valence\": 0.688, \"tempo\": 159.871, \"year_playlist\": 2021, \"duration_ms\": 235.0}, {\"track_name\": \"Finisterre\", \"album\": \"Finisterre\", \"track_id\": \"4G7nC3kXEW7TLUG2Fiv527\", \"artist\": \"Vetusta Morla\", \"popularity\": 50, \"danceability\": 0.673, \"energy\": 0.833, \"key\": 0, \"loudness\": -6.875, \"mode\": 0, \"speechiness\": 0.0961, \"acousticness\": 0.157, \"instrumentalness\": 0.0, \"liveness\": 0.101, \"valence\": 0.38, \"tempo\": 127.63, \"year_playlist\": 2021, \"duration_ms\": 196.0}, {\"track_name\": \"Renacimiento\", \"album\": \"Kase.O Jazz Magnetism\", \"track_id\": \"5MFqzWaYBe7Es4CHk66Iy3\", \"artist\": \"Kase.O\", \"popularity\": 53, \"danceability\": 0.773, \"energy\": 0.536, \"key\": 1, \"loudness\": -9.654, \"mode\": 1, \"speechiness\": 0.0692, \"acousticness\": 0.163, \"instrumentalness\": 0.0, \"liveness\": 0.218, \"valence\": 0.744, \"tempo\": 98.034, \"year_playlist\": 2021, \"duration_ms\": 261.0}, {\"track_name\": \"No puedo vivir sin ti (feat. Anni B Sweet)\", \"album\": \"Mujeres\", \"track_id\": \"0Xfv1QCPBEPdmSbxsuaX6a\", \"artist\": \"Coque Malla\", \"popularity\": 56, \"danceability\": 0.549, \"energy\": 0.257, \"key\": 3, \"loudness\": -14.91, \"mode\": 1, \"speechiness\": 0.0768, \"acousticness\": 0.742, \"instrumentalness\": 1.71e-06, \"liveness\": 0.0944, \"valence\": 0.197, \"tempo\": 120.7, \"year_playlist\": 2021, \"duration_ms\": 216.0}, {\"track_name\": \"Declaraci\\u00f3 De Principis\", \"album\": \"Les Ratlles Del Banyador\", \"track_id\": \"5Fyer3Bfi1oRz43IZ81atV\", \"artist\": \"La iaia\", \"popularity\": 34, \"danceability\": 0.741, \"energy\": 0.866, \"key\": 1, \"loudness\": -6.824, \"mode\": 1, \"speechiness\": 0.0526, \"acousticness\": 0.617, \"instrumentalness\": 0.127, \"liveness\": 0.131, \"valence\": 0.589, \"tempo\": 132.03, \"year_playlist\": 2021, \"duration_ms\": 281.0}, {\"track_name\": \"20 de abril\", \"album\": \"Cuentame Un Cuento\", \"track_id\": \"7ifOnwJC0oH7cfbJQbUye1\", \"artist\": \"Celtas Cortos\", \"popularity\": 56, \"danceability\": 0.611, \"energy\": 0.866, \"key\": 0, \"loudness\": -5.135, \"mode\": 1, \"speechiness\": 0.0285, \"acousticness\": 0.0274, \"instrumentalness\": 2.89e-05, \"liveness\": 0.278, \"valence\": 0.826, \"tempo\": 114.016, \"year_playlist\": 2021, \"duration_ms\": 235.0}, {\"track_name\": \"Para Quedarte\", \"album\": \"De Pana y Rub\\u00ed\", \"track_id\": \"4a4ixrdj73Zpan02jBrmn3\", \"artist\": \"El Kanka\", \"popularity\": 46, \"danceability\": 0.82, \"energy\": 0.339, \"key\": 0, \"loudness\": -10.739, \"mode\": 1, \"speechiness\": 0.0544, \"acousticness\": 0.848, \"instrumentalness\": 0.0, \"liveness\": 0.349, \"valence\": 0.744, \"tempo\": 124.42, \"year_playlist\": 2021, \"duration_ms\": 277.0}, {\"track_name\": \"Boogaloo A.K.A. Tarantula\", \"album\": \"Kase.O Jazz Magnetism\", \"track_id\": \"4wFASs8o9DQlnGXlK6Hgxw\", \"artist\": \"Kase.O\", \"popularity\": 48, \"danceability\": 0.815, \"energy\": 0.538, \"key\": 5, \"loudness\": -11.888, \"mode\": 0, \"speechiness\": 0.0918, \"acousticness\": 0.676, \"instrumentalness\": 0.0, \"liveness\": 0.156, \"valence\": 0.716, \"tempo\": 111.673, \"year_playlist\": 2021, \"duration_ms\": 222.0}, {\"track_name\": \"Coraz\\u00f3n de Goma\", \"album\": \"Hemos Visto Cosas Que Har\\u00edan Vomitar a un Murci\\u00e9lago\", \"track_id\": \"3oKiGwe2vFD8raLa9dHVy1\", \"artist\": \"Estricnina\", \"popularity\": 32, \"danceability\": 0.791, \"energy\": 0.716, \"key\": 11, \"loudness\": -7.531, \"mode\": 0, \"speechiness\": 0.169, \"acousticness\": 0.386, \"instrumentalness\": 0.0, \"liveness\": 0.131, \"valence\": 0.804, \"tempo\": 94.157, \"year_playlist\": 2021, \"duration_ms\": 249.0}, {\"track_name\": \"Bambino\", \"album\": \"Bambino\", \"track_id\": \"0k4RVdTt7e9nfUUh4CWva7\", \"artist\": \"Recycled J\", \"popularity\": 43, \"danceability\": 0.66, \"energy\": 0.773, \"key\": 4, \"loudness\": -6.193, \"mode\": 1, \"speechiness\": 0.321, \"acousticness\": 0.354, \"instrumentalness\": 0.0, \"liveness\": 0.0763, \"valence\": 0.288, \"tempo\": 179.94, \"year_playlist\": 2021, \"duration_ms\": 156.0}, {\"track_name\": \"Stupid Love Story\", \"album\": \"Apa y Can\", \"track_id\": \"1VIQPJc3fGfX23S6SD651l\", \"artist\": \"Canserbero\", \"popularity\": 70, \"danceability\": 0.747, \"energy\": 0.534, \"key\": 8, \"loudness\": -8.635, \"mode\": 1, \"speechiness\": 0.386, \"acousticness\": 0.504, \"instrumentalness\": 0.0, \"liveness\": 0.615, \"valence\": 0.569, \"tempo\": 93.477, \"year_playlist\": 2021, \"duration_ms\": 283.0}, {\"track_name\": \"Javat y Kamel 2011\", \"album\": \"Kase.O Jazz Magnetism\", \"track_id\": \"0PVV3eRcBaQsXJaR0uy446\", \"artist\": \"Kase.O\", \"popularity\": 40, \"danceability\": 0.586, \"energy\": 0.64, \"key\": 7, \"loudness\": -9.055, \"mode\": 0, \"speechiness\": 0.28, \"acousticness\": 0.329, \"instrumentalness\": 0.0, \"liveness\": 0.101, \"valence\": 0.927, \"tempo\": 90.799, \"year_playlist\": 2021, \"duration_ms\": 386.0}, {\"track_name\": \"He Visto el Futuro\", \"album\": \"Barroco\", \"track_id\": \"0M3koNAo1Uf8h5V1Q5fVJW\", \"artist\": \"Duo Kie\", \"popularity\": 0, \"danceability\": 0.573, \"energy\": 0.895, \"key\": 10, \"loudness\": -4.797, \"mode\": 0, \"speechiness\": 0.376, \"acousticness\": 0.188, \"instrumentalness\": 3.54e-05, \"liveness\": 0.41, \"valence\": 0.961, \"tempo\": 182.62, \"year_playlist\": 2021, \"duration_ms\": 192.0}, {\"track_name\": \"Otra Vez en Tus Manos\", \"album\": \"Mar Et\\u00edlico\", \"track_id\": \"2mVyekEG6ftebCLJ7oioB1\", \"artist\": \"G\\u00e9rmenes\", \"popularity\": 42, \"danceability\": 0.638, \"energy\": 0.803, \"key\": 8, \"loudness\": -10.754, \"mode\": 1, \"speechiness\": 0.0686, \"acousticness\": 0.00961, \"instrumentalness\": 0.000294, \"liveness\": 0.426, \"valence\": 0.871, \"tempo\": 93.935, \"year_playlist\": 2021, \"duration_ms\": 153.0}, {\"track_name\": \"Los Tontos - Live at NPR's Tiny Desk\", \"album\": \"El Madrile\\u00f1o (Live at NPR's Tiny Desk)\", \"track_id\": \"7s3ww2P0ShTAFLaVNVd7Rg\", \"artist\": \"C. Tangana\", \"popularity\": 53, \"danceability\": 0.628, \"energy\": 0.683, \"key\": 9, \"loudness\": -8.615, \"mode\": 0, \"speechiness\": 0.282, \"acousticness\": 0.558, \"instrumentalness\": 0.0, \"liveness\": 0.337, \"valence\": 0.396, \"tempo\": 107.596, \"year_playlist\": 2021, \"duration_ms\": 252.0}, {\"track_name\": \"Tributo a Mr. Scarface 2011\", \"album\": \"Kase.O Jazz Magnetism\", \"track_id\": \"5s6TZgmQfxhtCHezhK8nJ1\", \"artist\": \"Kase.O\", \"popularity\": 37, \"danceability\": 0.54, \"energy\": 0.485, \"key\": 1, \"loudness\": -10.207, \"mode\": 1, \"speechiness\": 0.363, \"acousticness\": 0.424, \"instrumentalness\": 1.5e-06, \"liveness\": 0.154, \"valence\": 0.626, \"tempo\": 105.388, \"year_playlist\": 2021, \"duration_ms\": 227.0}, {\"track_name\": \"Cypher #1 (Reggae Cypher)\", \"album\": \"Cypher #1 (Reggae Cypher)\", \"track_id\": \"7dTfsmUdPP1zZwWyXIOfXh\", \"artist\": \"Pure Negga\", \"popularity\": 9, \"danceability\": 0.605, \"energy\": 0.788, \"key\": 10, \"loudness\": -4.468, \"mode\": 0, \"speechiness\": 0.32, \"acousticness\": 0.262, \"instrumentalness\": 0.0, \"liveness\": 0.0725, \"valence\": 0.821, \"tempo\": 89.014, \"year_playlist\": 2021, \"duration_ms\": 228.0}, {\"track_name\": \"It's All About\", \"album\": \"It's All About\", \"track_id\": \"0XO3RZYuYKsz0cORoVlQOB\", \"artist\": \"Rooftime\", \"popularity\": 57, \"danceability\": 0.894, \"energy\": 0.409, \"key\": 5, \"loudness\": -7.609, \"mode\": 0, \"speechiness\": 0.0477, \"acousticness\": 0.0914, \"instrumentalness\": 0.0125, \"liveness\": 0.313, \"valence\": 0.69, \"tempo\": 124.007, \"year_playlist\": 2021, \"duration_ms\": 195.0}, {\"track_name\": \"Hello\", \"album\": \"The Cat Empire\", \"track_id\": \"1pXtUVmSS3Aky3j6nQ4sQT\", \"artist\": \"The Cat Empire\", \"popularity\": 51, \"danceability\": 0.716, \"energy\": 0.748, \"key\": 9, \"loudness\": -6.426, \"mode\": 1, \"speechiness\": 0.151, \"acousticness\": 0.333, \"instrumentalness\": 6.54e-06, \"liveness\": 0.0899, \"valence\": 0.76, \"tempo\": 110.015, \"year_playlist\": 2021, \"duration_ms\": 224.0}, {\"track_name\": \"Mood (feat. iann dior)\", \"album\": \"Mood (feat. iann dior)\", \"track_id\": \"3tjFYV6RSFtuktYl3ZtYcq\", \"artist\": \"24kGoldn\", \"popularity\": 13, \"danceability\": 0.7, \"energy\": 0.722, \"key\": 7, \"loudness\": -3.558, \"mode\": 0, \"speechiness\": 0.0369, \"acousticness\": 0.221, \"instrumentalness\": 0.0, \"liveness\": 0.272, \"valence\": 0.756, \"tempo\": 90.989, \"year_playlist\": 2021, \"duration_ms\": 141.0}, {\"track_name\": \"CAMBIAR EL MUNDO\", \"album\": \"Tripi Hapa\", \"track_id\": \"7EXYXATwUW1KeqlcOgnqqH\", \"artist\": \"Bejo\", \"popularity\": 0, \"danceability\": 0.674, \"energy\": 0.841, \"key\": 2, \"loudness\": -5.253, \"mode\": 1, \"speechiness\": 0.197, \"acousticness\": 0.565, \"instrumentalness\": 0.0, \"liveness\": 0.119, \"valence\": 0.753, \"tempo\": 82.911, \"year_playlist\": 2021, \"duration_ms\": 168.0}, {\"track_name\": \"Primer movimiento: Despu\\u00e9s de la catarsis\", \"album\": \"May\\u00e9utica\", \"track_id\": \"5WWxj79hWjVq0wIBDCIw7T\", \"artist\": \"Robe\", \"popularity\": 50, \"danceability\": 0.373, \"energy\": 0.486, \"key\": 11, \"loudness\": -14.838, \"mode\": 0, \"speechiness\": 0.0731, \"acousticness\": 0.0806, \"instrumentalness\": 0.00124, \"liveness\": 0.16, \"valence\": 0.236, \"tempo\": 116.792, \"year_playlist\": 2021, \"duration_ms\": 537.0}, {\"track_name\": \"Stop The Clocks\", \"album\": \"Heavenly Hell\", \"track_id\": \"0iM4pwkaMrJAGKHVcavitw\", \"artist\": \"L.A.\", \"popularity\": 56, \"danceability\": 0.339, \"energy\": 0.516, \"key\": 1, \"loudness\": -7.102, \"mode\": 1, \"speechiness\": 0.033, \"acousticness\": 0.00343, \"instrumentalness\": 0.0161, \"liveness\": 0.0843, \"valence\": 0.178, \"tempo\": 203.599, \"year_playlist\": 2021, \"duration_ms\": 200.0}, {\"track_name\": \"Volviendo a casa\", \"album\": \"Material inflamable\", \"track_id\": \"1HcEZlTASPN1lpz4EUTH60\", \"artist\": \"Gritando en Silencio\", \"popularity\": 17, \"danceability\": 0.461, \"energy\": 0.891, \"key\": 6, \"loudness\": -4.122, \"mode\": 1, \"speechiness\": 0.0475, \"acousticness\": 0.00034, \"instrumentalness\": 0.0, \"liveness\": 0.112, \"valence\": 0.397, \"tempo\": 153.962, \"year_playlist\": 2021, \"duration_ms\": 216.0}, {\"track_name\": \"Senderos a Roma\", \"album\": \"Viridarquia\", \"track_id\": \"5e52T2IWnMrcInh5CpW2Po\", \"artist\": \"L\\u00e1grimas De Sangre\", \"popularity\": 42, \"danceability\": 0.562, \"energy\": 0.815, \"key\": 7, \"loudness\": -6.205, \"mode\": 1, \"speechiness\": 0.248, \"acousticness\": 0.218, \"instrumentalness\": 0.0, \"liveness\": 0.103, \"valence\": 0.618, \"tempo\": 189.783, \"year_playlist\": 2021, \"duration_ms\": 294.0}, {\"track_name\": \"HIP\\u00d3CRITA\", \"album\": \"Tripi Hapa\", \"track_id\": \"3pTm2OqNHA1rJIsKVWfZEl\", \"artist\": \"Bejo\", \"popularity\": 0, \"danceability\": 0.66, \"energy\": 0.955, \"key\": 7, \"loudness\": -3.537, \"mode\": 1, \"speechiness\": 0.23, \"acousticness\": 0.00493, \"instrumentalness\": 0.0, \"liveness\": 0.207, \"valence\": 0.523, \"tempo\": 94.62, \"year_playlist\": 2021, \"duration_ms\": 134.0}, {\"track_name\": \"T\\u00fa Me Dejaste De Querer\", \"album\": \"El Madrile\\u00f1o\", \"track_id\": \"5ddFjrPG8NgQQ6xlOQIVd2\", \"artist\": \"C. Tangana\", \"popularity\": 74, \"danceability\": 0.823, \"energy\": 0.723, \"key\": 4, \"loudness\": -4.778, \"mode\": 0, \"speechiness\": 0.229, \"acousticness\": 0.311, \"instrumentalness\": 0.00315, \"liveness\": 0.0998, \"valence\": 0.505, \"tempo\": 83.97, \"year_playlist\": 2021, \"duration_ms\": 198.0}, {\"track_name\": \"A la luz de una sonrisa\", \"album\": \"Contratiempo\", \"track_id\": \"5Fronw7eoL0huzCEYSZe80\", \"artist\": \"Gritando en Silencio\", \"popularity\": 42, \"danceability\": 0.65, \"energy\": 0.883, \"key\": 3, \"loudness\": -4.6, \"mode\": 1, \"speechiness\": 0.0803, \"acousticness\": 0.133, \"instrumentalness\": 0.0, \"liveness\": 0.0787, \"valence\": 0.693, \"tempo\": 89.945, \"year_playlist\": 2021, \"duration_ms\": 227.0}, {\"track_name\": \"La v\\u00e9nus du m\\u00e9lo\", \"album\": \"Raconte-moi... (Bonus Edition)\", \"track_id\": \"7tk8lPTwBw2CYefi2QWR2d\", \"artist\": \"Stacey Kent\", \"popularity\": 55, \"danceability\": 0.798, \"energy\": 0.345, \"key\": 2, \"loudness\": -12.805, \"mode\": 1, \"speechiness\": 0.0484, \"acousticness\": 0.763, \"instrumentalness\": 1.65e-06, \"liveness\": 0.115, \"valence\": 0.486, \"tempo\": 124.164, \"year_playlist\": 2021, \"duration_ms\": 227.0}, {\"track_name\": \"EL GENUINO\", \"album\": \"Tripi Hapa\", \"track_id\": \"5jqcyx6mD9ZtFhKL2g2uYE\", \"artist\": \"Bejo\", \"popularity\": 0, \"danceability\": 0.661, \"energy\": 0.91, \"key\": 1, \"loudness\": -3.496, \"mode\": 1, \"speechiness\": 0.329, \"acousticness\": 0.232, \"instrumentalness\": 0.0, \"liveness\": 0.265, \"valence\": 0.716, \"tempo\": 97.845, \"year_playlist\": 2021, \"duration_ms\": 64.0}, {\"track_name\": \"Interludio\", \"album\": \"May\\u00e9utica\", \"track_id\": \"4smdWRLMv9hhhZbLnJ63ds\", \"artist\": \"Robe\", \"popularity\": 50, \"danceability\": 0.648, \"energy\": 0.226, \"key\": 7, \"loudness\": -17.069, \"mode\": 1, \"speechiness\": 0.0395, \"acousticness\": 0.189, \"instrumentalness\": 0.000166, \"liveness\": 0.172, \"valence\": 0.496, \"tempo\": 114.092, \"year_playlist\": 2021, \"duration_ms\": 192.0}, {\"track_name\": \"JOVEN PARA SIEMPRE\", \"album\": \"JOVEN PARA SIEMPRE\", \"track_id\": \"2hSBhzE4hbWRWl4PLMiJsu\", \"artist\": \"Funzo & Baby Loud\", \"popularity\": 55, \"danceability\": 0.537, \"energy\": 0.904, \"key\": 5, \"loudness\": -5.868, \"mode\": 1, \"speechiness\": 0.106, \"acousticness\": 0.0399, \"instrumentalness\": 0.0, \"liveness\": 0.393, \"valence\": 0.75, \"tempo\": 179.961, \"year_playlist\": 2021, \"duration_ms\": 169.0}, {\"track_name\": \"Al filo\", \"album\": \"Al filo\", \"track_id\": \"1zEEcd2XToLY6WnbSATEYE\", \"artist\": \"FERNANDOCOSTA\", \"popularity\": 0, \"danceability\": 0.703, \"energy\": 0.721, \"key\": 2, \"loudness\": -7.802, \"mode\": 1, \"speechiness\": 0.362, \"acousticness\": 0.106, \"instrumentalness\": 0.0, \"liveness\": 0.0953, \"valence\": 0.484, \"tempo\": 90.899, \"year_playlist\": 2021, \"duration_ms\": 256.0}, {\"track_name\": \"Bloom\", \"album\": \"Horizons\", \"track_id\": \"6fpIcWxRGGqa681gUHJonh\", \"artist\": \"Surfaces\", \"popularity\": 48, \"danceability\": 0.872, \"energy\": 0.561, \"key\": 1, \"loudness\": -6.673, \"mode\": 1, \"speechiness\": 0.0328, \"acousticness\": 0.242, \"instrumentalness\": 8.01e-06, \"liveness\": 0.0452, \"valence\": 0.68, \"tempo\": 114.94, \"year_playlist\": 2021, \"duration_ms\": 184.0}, {\"track_name\": \"\\u00a1Qu\\u00e9 borde era mi valle!\", \"album\": \"Para todos los p\\u00fablicos\", \"track_id\": \"7LCUy5LoikLKEBeyVqCd3s\", \"artist\": \"Extremoduro\", \"popularity\": 35, \"danceability\": 0.562, \"energy\": 0.902, \"key\": 4, \"loudness\": -7.528, \"mode\": 0, \"speechiness\": 0.0536, \"acousticness\": 0.0121, \"instrumentalness\": 0.136, \"liveness\": 0.415, \"valence\": 0.544, \"tempo\": 111.127, \"year_playlist\": 2021, \"duration_ms\": 234.0}, {\"track_name\": \"Comerte Entera\", \"album\": \"El Madrile\\u00f1o\", \"track_id\": \"6RUr6r5OexrMOYDtgu1QtS\", \"artist\": \"C. Tangana\", \"popularity\": 63, \"danceability\": 0.824, \"energy\": 0.399, \"key\": 2, \"loudness\": -7.299, \"mode\": 0, \"speechiness\": 0.106, \"acousticness\": 0.516, \"instrumentalness\": 1.91e-06, \"liveness\": 0.243, \"valence\": 0.345, \"tempo\": 124.085, \"year_playlist\": 2021, \"duration_ms\": 174.0}, {\"track_name\": \"Still Young\", \"album\": \"Steal the Light\", \"track_id\": \"4q7klA9ggWknZDhHhz9XYp\", \"artist\": \"The Cat Empire\", \"popularity\": 49, \"danceability\": 0.613, \"energy\": 0.762, \"key\": 11, \"loudness\": -4.679, \"mode\": 1, \"speechiness\": 0.0359, \"acousticness\": 0.00727, \"instrumentalness\": 0.0, \"liveness\": 0.188, \"valence\": 0.743, \"tempo\": 149.225, \"year_playlist\": 2021, \"duration_ms\": 259.0}, {\"track_name\": \"Loving\", \"album\": \"Surf\", \"track_id\": \"24mEcNnglAOmHEvzQmrZaY\", \"artist\": \"Surfaces\", \"popularity\": 49, \"danceability\": 0.493, \"energy\": 0.589, \"key\": 9, \"loudness\": -6.478, \"mode\": 1, \"speechiness\": 0.178, \"acousticness\": 0.544, \"instrumentalness\": 0.0, \"liveness\": 0.277, \"valence\": 0.21, \"tempo\": 161.884, \"year_playlist\": 2021, \"duration_ms\": 254.0}, {\"track_name\": \"Paseo\", \"album\": \"Voces de Ultrarumba\", \"track_id\": \"6pWeJvzpQR1ihiUSJklOzD\", \"artist\": \"Estopa\", \"popularity\": 60, \"danceability\": 0.726, \"energy\": 0.55, \"key\": 0, \"loudness\": -9.676, \"mode\": 1, \"speechiness\": 0.0445, \"acousticness\": 0.432, \"instrumentalness\": 0.0, \"liveness\": 0.155, \"valence\": 0.84, \"tempo\": 102.021, \"year_playlist\": 2021, \"duration_ms\": 216.0}, {\"track_name\": \"WITHOUT YOU\", \"album\": \"F*CK LOVE (SAVAGE)\", \"track_id\": \"27OeeYzk6klgBh83TSvGMA\", \"artist\": \"The Kid LAROI\", \"popularity\": 79, \"danceability\": 0.662, \"energy\": 0.413, \"key\": 0, \"loudness\": -7.357, \"mode\": 1, \"speechiness\": 0.0299, \"acousticness\": 0.213, \"instrumentalness\": 0.0, \"liveness\": 0.134, \"valence\": 0.467, \"tempo\": 93.005, \"year_playlist\": 2021, \"duration_ms\": 161.0}, {\"track_name\": \"Tercer movimiento: Un instante de luz\", \"album\": \"May\\u00e9utica\", \"track_id\": \"3jwMdFuOiSCznlA8qrFvt3\", \"artist\": \"Robe\", \"popularity\": 50, \"danceability\": 0.511, \"energy\": 0.732, \"key\": 2, \"loudness\": -13.384, \"mode\": 1, \"speechiness\": 0.0841, \"acousticness\": 0.022, \"instrumentalness\": 5.85e-05, \"liveness\": 0.278, \"valence\": 0.288, \"tempo\": 92.458, \"year_playlist\": 2021, \"duration_ms\": 634.0}, {\"track_name\": \"B\\u00e9cquer (Con Ara Malikian)\", \"album\": \"Divertimentos (Vol.2)\", \"track_id\": \"5Qrp8hUGZiEyLGxNj5t1dK\", \"artist\": \"Kase.O\", \"popularity\": 40, \"danceability\": 0.509, \"energy\": 0.653, \"key\": 0, \"loudness\": -7.763, \"mode\": 0, \"speechiness\": 0.312, \"acousticness\": 0.213, \"instrumentalness\": 0.0, \"liveness\": 0.203, \"valence\": 0.243, \"tempo\": 85.477, \"year_playlist\": 2021, \"duration_ms\": 240.0}, {\"track_name\": \"Matilda\", \"album\": \"An Awesome Wave\", \"track_id\": \"1bsAHy2mQkv9uLVJkqD7sf\", \"artist\": \"alt-J\", \"popularity\": 3, \"danceability\": 0.58, \"energy\": 0.666, \"key\": 2, \"loudness\": -9.204, \"mode\": 1, \"speechiness\": 0.0298, \"acousticness\": 0.788, \"instrumentalness\": 0.385, \"liveness\": 0.116, \"valence\": 0.279, \"tempo\": 147.975, \"year_playlist\": 2021, \"duration_ms\": 229.0}, {\"track_name\": \"La Verdad\", \"album\": \"La Verdad\", \"track_id\": \"5DrikCrFK2V1F7NtEBqSXO\", \"artist\": \"Silo\\u00e9\", \"popularity\": 58, \"danceability\": 0.611, \"energy\": 0.624, \"key\": 9, \"loudness\": -4.349, \"mode\": 1, \"speechiness\": 0.0349, \"acousticness\": 0.734, \"instrumentalness\": 0.0, \"liveness\": 0.0629, \"valence\": 0.523, \"tempo\": 117.143, \"year_playlist\": 2021, \"duration_ms\": 158.0}, {\"track_name\": \"No Woman, No Cry - Live At The Lyceum, London/1975\", \"album\": \"Legend - The Best Of Bob Marley And The Wailers\", \"track_id\": \"5rPnv4gceOGKCqbN06F2aJ\", \"artist\": \"Bob Marley & The Wailers\", \"popularity\": 58, \"danceability\": 0.641, \"energy\": 0.657, \"key\": 1, \"loudness\": -9.354, \"mode\": 1, \"speechiness\": 0.0604, \"acousticness\": 0.276, \"instrumentalness\": 0.0261, \"liveness\": 0.713, \"valence\": 0.602, \"tempo\": 78.132, \"year_playlist\": 2021, \"duration_ms\": 428.0}, {\"track_name\": \"A Solas Con un Ritmo 2011\", \"album\": \"Kase.O Jazz Magnetism\", \"track_id\": \"3aQTKiafwWf1wRx5ggiHv7\", \"artist\": \"Kase.O\", \"popularity\": 43, \"danceability\": 0.548, \"energy\": 0.63, \"key\": 4, \"loudness\": -9.937, \"mode\": 0, \"speechiness\": 0.124, \"acousticness\": 0.325, \"instrumentalness\": 0.0, \"liveness\": 0.122, \"valence\": 0.532, \"tempo\": 93.538, \"year_playlist\": 2021, \"duration_ms\": 336.0}, {\"track_name\": \"Small Worlds\", \"album\": \"Swimming\", \"track_id\": \"4gT3mNJA8lnlkYFqGZ8IA2\", \"artist\": \"Mac Miller\", \"popularity\": 77, \"danceability\": 0.516, \"energy\": 0.546, \"key\": 5, \"loudness\": -9.105, \"mode\": 1, \"speechiness\": 0.249, \"acousticness\": 0.814, \"instrumentalness\": 4.5e-06, \"liveness\": 0.0995, \"valence\": 0.515, \"tempo\": 78.267, \"year_playlist\": 2021, \"duration_ms\": 272.0}, {\"track_name\": \"GUAGUAGUA\", \"album\": \"Tripi Hapa\", \"track_id\": \"40tPsEIv5jBw3ZCJSMnAoP\", \"artist\": \"Bejo\", \"popularity\": 0, \"danceability\": 0.689, \"energy\": 0.935, \"key\": 10, \"loudness\": -1.46, \"mode\": 0, \"speechiness\": 0.236, \"acousticness\": 0.0762, \"instrumentalness\": 0.0, \"liveness\": 0.348, \"valence\": 0.644, \"tempo\": 90.102, \"year_playlist\": 2021, \"duration_ms\": 197.0}, {\"track_name\": \"Cuarto movimiento: Yo no soy el due\\u00f1o de mis emociones\", \"album\": \"May\\u00e9utica\", \"track_id\": \"6byvMlUkFmNZIl8aprXRhL\", \"artist\": \"Robe\", \"popularity\": 49, \"danceability\": 0.535, \"energy\": 0.704, \"key\": 2, \"loudness\": -13.44, \"mode\": 1, \"speechiness\": 0.0465, \"acousticness\": 0.00906, \"instrumentalness\": 0.00195, \"liveness\": 0.112, \"valence\": 0.554, \"tempo\": 97.017, \"year_playlist\": 2021, \"duration_ms\": 891.0}, {\"track_name\": \"Mc Escandaloso Xposito\", \"album\": \"Kase.O Jazz Magnetism\", \"track_id\": \"3xl7FVmcIyZHQEISkNnnEB\", \"artist\": \"Kase.O\", \"popularity\": 40, \"danceability\": 0.726, \"energy\": 0.482, \"key\": 6, \"loudness\": -11.024, \"mode\": 0, \"speechiness\": 0.22, \"acousticness\": 0.0585, \"instrumentalness\": 0.0, \"liveness\": 0.0421, \"valence\": 0.929, \"tempo\": 177.968, \"year_playlist\": 2021, \"duration_ms\": 141.0}, {\"track_name\": \"Chapter 7 (feat. Ty)\", \"album\": \"Chapter 7\", \"track_id\": \"04fnzAJxtQZFVbn8N3XrQm\", \"artist\": \"Ezra Collective\", \"popularity\": 46, \"danceability\": 0.787, \"energy\": 0.523, \"key\": 7, \"loudness\": -8.628, \"mode\": 0, \"speechiness\": 0.0603, \"acousticness\": 0.205, \"instrumentalness\": 0.0492, \"liveness\": 0.115, \"valence\": 0.803, \"tempo\": 105.041, \"year_playlist\": 2021, \"duration_ms\": 287.0}, {\"track_name\": \"CINCUENTA ESTRELLAS MICHEL\\u00cdN\", \"album\": \"Tripi Hapa\", \"track_id\": \"30pLcJ8aS1foFCFT68Z0HA\", \"artist\": \"Bejo\", \"popularity\": 0, \"danceability\": 0.404, \"energy\": 0.846, \"key\": 6, \"loudness\": -6.548, \"mode\": 0, \"speechiness\": 0.133, \"acousticness\": 0.767, \"instrumentalness\": 0.000882, \"liveness\": 0.159, \"valence\": 0.792, \"tempo\": 137.627, \"year_playlist\": 2021, \"duration_ms\": 219.0}, {\"track_name\": \"The Scientist\", \"album\": \"A Rush of Blood to the Head\", \"track_id\": \"75JFxkI2RXiU7L9VXzMkle\", \"artist\": \"Coldplay\", \"popularity\": 85, \"danceability\": 0.557, \"energy\": 0.442, \"key\": 5, \"loudness\": -7.224, \"mode\": 1, \"speechiness\": 0.0243, \"acousticness\": 0.731, \"instrumentalness\": 1.46e-05, \"liveness\": 0.11, \"valence\": 0.213, \"tempo\": 146.277, \"year_playlist\": 2021, \"duration_ms\": 310.0}, {\"track_name\": \"Quieres 2011 Con Kami\", \"album\": \"Kase.O Jazz Magnetism\", \"track_id\": \"4BeT1FiBrhwXP0g8xSnUWL\", \"artist\": \"Kase.O\", \"popularity\": 39, \"danceability\": 0.66, \"energy\": 0.464, \"key\": 1, \"loudness\": -9.829, \"mode\": 1, \"speechiness\": 0.16, \"acousticness\": 0.741, \"instrumentalness\": 0.0, \"liveness\": 0.205, \"valence\": 0.711, \"tempo\": 90.962, \"year_playlist\": 2021, \"duration_ms\": 253.0}, {\"track_name\": \"The Lost Song\", \"album\": \"The Cat Empire\", \"track_id\": \"72fkIO8SD7tKZ9jiiF0Jyu\", \"artist\": \"The Cat Empire\", \"popularity\": 49, \"danceability\": 0.622, \"energy\": 0.525, \"key\": 2, \"loudness\": -9.854, \"mode\": 0, \"speechiness\": 0.0392, \"acousticness\": 0.171, \"instrumentalness\": 0.00144, \"liveness\": 0.0855, \"valence\": 0.304, \"tempo\": 78.446, \"year_playlist\": 2021, \"duration_ms\": 196.0}, {\"track_name\": \"Respect da Woman - Acoustic\", \"album\": \"Way Of My Life\", \"track_id\": \"5DT3cFIhE6hE8kGVjgFqSB\", \"artist\": \"Lidiop\", \"popularity\": 0, \"danceability\": 0.763, \"energy\": 0.471, \"key\": 7, \"loudness\": -7.282, \"mode\": 1, \"speechiness\": 0.165, \"acousticness\": 0.799, \"instrumentalness\": 0.0, \"liveness\": 0.12, \"valence\": 0.833, \"tempo\": 81.622, \"year_playlist\": 2021, \"duration_ms\": 252.0}, {\"track_name\": \"Filosof\\u00eda y Letras\", \"album\": \"Vivir para Contarlo\", \"track_id\": \"5ZEYoO7GqDlHHD08aYUkHj\", \"artist\": \"Violadores Del Verso\", \"popularity\": 44, \"danceability\": 0.892, \"energy\": 0.87, \"key\": 1, \"loudness\": -5.378, \"mode\": 1, \"speechiness\": 0.208, \"acousticness\": 0.198, \"instrumentalness\": 0.0, \"liveness\": 0.199, \"valence\": 0.925, \"tempo\": 93.009, \"year_playlist\": 2021, \"duration_ms\": 319.0}, {\"track_name\": \"MIERDA\", \"album\": \"Tripi Hapa\", \"track_id\": \"3ofAA4Af9EdvSLEtzFjvXt\", \"artist\": \"Bejo\", \"popularity\": 0, \"danceability\": 0.626, \"energy\": 0.936, \"key\": 0, \"loudness\": -2.346, \"mode\": 0, \"speechiness\": 0.248, \"acousticness\": 0.475, \"instrumentalness\": 0.0, \"liveness\": 0.125, \"valence\": 0.848, \"tempo\": 167.978, \"year_playlist\": 2021, \"duration_ms\": 230.0}, {\"track_name\": \"My Hero\", \"album\": \"The Colour And The Shape\", \"track_id\": \"4dVbhS6OiYvFikshyaQaCN\", \"artist\": \"Foo Fighters\", \"popularity\": 75, \"danceability\": 0.398, \"energy\": 0.927, \"key\": 9, \"loudness\": -4.212, \"mode\": 1, \"speechiness\": 0.0567, \"acousticness\": 6.2e-05, \"instrumentalness\": 0.000177, \"liveness\": 0.0575, \"valence\": 0.311, \"tempo\": 77.106, \"year_playlist\": 2022, \"duration_ms\": 260.0}, {\"track_name\": \"Everlong\", \"album\": \"The Colour And The Shape\", \"track_id\": \"5UWwZ5lm5PKu6eKsHAGxOk\", \"artist\": \"Foo Fighters\", \"popularity\": 83, \"danceability\": 0.413, \"energy\": 0.881, \"key\": 11, \"loudness\": -5.541, \"mode\": 0, \"speechiness\": 0.0367, \"acousticness\": 5.99e-05, \"instrumentalness\": 0.000308, \"liveness\": 0.0805, \"valence\": 0.364, \"tempo\": 158.066, \"year_playlist\": 2022, \"duration_ms\": 251.0}, {\"track_name\": \"MAN ON THE MOON\", \"album\": \"TM\", \"track_id\": \"3UdquFlgsSBKueNRHgjOiG\", \"artist\": \"BROCKHAMPTON\", \"popularity\": 64, \"danceability\": 0.736, \"energy\": 0.737, \"key\": 7, \"loudness\": -7.726, \"mode\": 1, \"speechiness\": 0.0437, \"acousticness\": 0.0732, \"instrumentalness\": 0.631, \"liveness\": 0.109, \"valence\": 0.534, \"tempo\": 145.006, \"year_playlist\": 2022, \"duration_ms\": 241.0}, {\"track_name\": \"Best of You\", \"album\": \"In Your Honor\", \"track_id\": \"5FZxsHWIvUsmSK1IAvm2pp\", \"artist\": \"Foo Fighters\", \"popularity\": 75, \"danceability\": 0.366, \"energy\": 0.94, \"key\": 1, \"loudness\": -5.119, \"mode\": 0, \"speechiness\": 0.0696, \"acousticness\": 0.000769, \"instrumentalness\": 9.42e-05, \"liveness\": 0.188, \"valence\": 0.369, \"tempo\": 130.198, \"year_playlist\": 2022, \"duration_ms\": 256.0}, {\"track_name\": \"No L's\", \"album\": \"Luv 4 Rent\", \"track_id\": \"12CNybio0Bxean3F3uYugU\", \"artist\": \"Smino\", \"popularity\": 68, \"danceability\": 0.786, \"energy\": 0.65, \"key\": 1, \"loudness\": -6.472, \"mode\": 1, \"speechiness\": 0.31, \"acousticness\": 0.156, \"instrumentalness\": 0.0, \"liveness\": 0.127, \"valence\": 0.492, \"tempo\": 130.993, \"year_playlist\": 2022, \"duration_ms\": 175.0}, {\"track_name\": \"No me calientes que me hundo - Versi\\u00f3n 2004\", \"album\": \"Grandes exitos y fracasos (Episodio 1\\u00ba)\", \"track_id\": \"0Iwnl26lJCOtbyAnsIfDNW\", \"artist\": \"Extremoduro\", \"popularity\": 39, \"danceability\": 0.472, \"energy\": 0.879, \"key\": 7, \"loudness\": -4.06, \"mode\": 1, \"speechiness\": 0.0461, \"acousticness\": 0.0533, \"instrumentalness\": 0.00335, \"liveness\": 0.131, \"valence\": 0.573, \"tempo\": 137.688, \"year_playlist\": 2022, \"duration_ms\": 172.0}, {\"track_name\": \"FMG\", \"album\": \"TM\", \"track_id\": \"3Tlkud5UiGv7FCc3RcYbhG\", \"artist\": \"BROCKHAMPTON\", \"popularity\": 63, \"danceability\": 0.755, \"energy\": 0.472, \"key\": 11, \"loudness\": -9.286, \"mode\": 1, \"speechiness\": 0.342, \"acousticness\": 0.0481, \"instrumentalness\": 0.0, \"liveness\": 0.198, \"valence\": 0.463, \"tempo\": 150.078, \"year_playlist\": 2022, \"duration_ms\": 151.0}, {\"track_name\": \"Paprika\", \"album\": \"Halfway Off the Porch\", \"track_id\": \"1g1gyDrAS54nt2vV7YlJ7t\", \"artist\": \"AG Club\", \"popularity\": 28, \"danceability\": 0.506, \"energy\": 0.449, \"key\": 9, \"loudness\": -8.553, \"mode\": 1, \"speechiness\": 0.138, \"acousticness\": 0.92, \"instrumentalness\": 0.0, \"liveness\": 0.123, \"valence\": 0.289, \"tempo\": 148.577, \"year_playlist\": 2022, \"duration_ms\": 168.0}, {\"track_name\": \"Are You Gonna Be My Girl\", \"album\": \"Get Born\", \"track_id\": \"305WCRhhS10XUcH6AEwZk6\", \"artist\": \"Jet\", \"popularity\": 75, \"danceability\": 0.613, \"energy\": 0.953, \"key\": 2, \"loudness\": -3.435, \"mode\": 1, \"speechiness\": 0.0855, \"acousticness\": 0.00148, \"instrumentalness\": 0.000582, \"liveness\": 0.152, \"valence\": 0.537, \"tempo\": 105.046, \"year_playlist\": 2022, \"duration_ms\": 214.0}, {\"track_name\": \"Wild Irish Roses\", \"album\": \"blkswn\", \"track_id\": \"6efkcs2aUBMFKxl0cl2JWQ\", \"artist\": \"Smino\", \"popularity\": 68, \"danceability\": 0.639, \"energy\": 0.295, \"key\": 0, \"loudness\": -11.237, \"mode\": 0, \"speechiness\": 0.544, \"acousticness\": 0.554, \"instrumentalness\": 3.09e-05, \"liveness\": 0.3, \"valence\": 0.634, \"tempo\": 86.947, \"year_playlist\": 2022, \"duration_ms\": 169.0}, {\"track_name\": \"Good Wine\", \"album\": \"Good Wine\", \"track_id\": \"16QxSt81FZSUynjfopa8pv\", \"artist\": \"Katori Walker\", \"popularity\": 45, \"danceability\": 0.636, \"energy\": 0.687, \"key\": 8, \"loudness\": -5.887, \"mode\": 1, \"speechiness\": 0.308, \"acousticness\": 0.365, \"instrumentalness\": 4.89e-06, \"liveness\": 0.176, \"valence\": 0.531, \"tempo\": 77.147, \"year_playlist\": 2022, \"duration_ms\": 126.0}, {\"track_name\": \"No Me digas Nada\", \"album\": \"No Me digas Nada\", \"track_id\": \"15wMJJiVpt2ABQw032Rywi\", \"artist\": \"Quevedo\", \"popularity\": 78, \"danceability\": 0.49, \"energy\": 0.692, \"key\": 7, \"loudness\": -4.291, \"mode\": 1, \"speechiness\": 0.274, \"acousticness\": 0.336, \"instrumentalness\": 0.0, \"liveness\": 0.659, \"valence\": 0.484, \"tempo\": 102.16, \"year_playlist\": 2022, \"duration_ms\": 148.0}, {\"track_name\": \"Somethin Wrong In Heaven\", \"album\": \"While We're Here\", \"track_id\": \"73ekBE1ZHp8ySUaX0YdCtR\", \"artist\": \"Marlon Craft\", \"popularity\": 64, \"danceability\": 0.674, \"energy\": 0.734, \"key\": 1, \"loudness\": -7.204, \"mode\": 1, \"speechiness\": 0.351, \"acousticness\": 0.0409, \"instrumentalness\": 0.0, \"liveness\": 0.166, \"valence\": 0.492, \"tempo\": 93.242, \"year_playlist\": 2022, \"duration_ms\": 166.0}, {\"track_name\": \"Smells Like Teen Spirit\", \"album\": \"Nevermind (Remastered)\", \"track_id\": \"4CeeEOM32jQcH3eN9Q2dGj\", \"artist\": \"Nirvana\", \"popularity\": 82, \"danceability\": 0.502, \"energy\": 0.912, \"key\": 1, \"loudness\": -4.556, \"mode\": 1, \"speechiness\": 0.0564, \"acousticness\": 2.55e-05, \"instrumentalness\": 0.000173, \"liveness\": 0.106, \"valence\": 0.72, \"tempo\": 116.761, \"year_playlist\": 2022, \"duration_ms\": 302.0}, {\"track_name\": \"Los mismos clavos\", \"album\": \"Las aceras estan llenas de piojos\", \"track_id\": \"61K7dM7FIxTRf0vLM5rZBP\", \"artist\": \"Marea\", \"popularity\": 51, \"danceability\": 0.629, \"energy\": 0.488, \"key\": 9, \"loudness\": -10.248, \"mode\": 0, \"speechiness\": 0.0373, \"acousticness\": 0.847, \"instrumentalness\": 0.00505, \"liveness\": 0.102, \"valence\": 0.801, \"tempo\": 101.724, \"year_playlist\": 2022, \"duration_ms\": 154.0}, {\"track_name\": \"Won't Bite (feat. Smino)\", \"album\": \"Hot Pink\", \"track_id\": \"7k51pIqTGEHHZOnpI11Qq2\", \"artist\": \"Doja Cat\", \"popularity\": 66, \"danceability\": 0.807, \"energy\": 0.783, \"key\": 5, \"loudness\": -3.115, \"mode\": 1, \"speechiness\": 0.0964, \"acousticness\": 0.351, \"instrumentalness\": 0.0, \"liveness\": 0.14, \"valence\": 0.592, \"tempo\": 127.996, \"year_playlist\": 2022, \"duration_ms\": 195.0}, {\"track_name\": \"Ahora y Siempre\", \"album\": \"Ahora y Siempre\", \"track_id\": \"4iaNmAvcZ6sPGvgZ6vQQdx\", \"artist\": \"Quevedo\", \"popularity\": 76, \"danceability\": 0.659, \"energy\": 0.629, \"key\": 4, \"loudness\": -7.86, \"mode\": 1, \"speechiness\": 0.0825, \"acousticness\": 0.716, \"instrumentalness\": 0.0, \"liveness\": 0.422, \"valence\": 0.416, \"tempo\": 118.964, \"year_playlist\": 2022, \"duration_ms\": 149.0}, {\"track_name\": \"Sacrifices (with EARTHGANG & J. Cole feat. Smino & Saba)\", \"album\": \"Revenge Of The Dreamers III\", \"track_id\": \"7wTA0NKIm6T7nP2kaymU2a\", \"artist\": \"Dreamville\", \"popularity\": 67, \"danceability\": 0.825, \"energy\": 0.672, \"key\": 0, \"loudness\": -7.108, \"mode\": 1, \"speechiness\": 0.418, \"acousticness\": 0.0858, \"instrumentalness\": 0.0, \"liveness\": 0.123, \"valence\": 0.246, \"tempo\": 147.01, \"year_playlist\": 2022, \"duration_ms\": 382.0}, {\"track_name\": \"ANIMAL\", \"album\": \"TM\", \"track_id\": \"0dTCvZga5dOD59rVW6rtof\", \"artist\": \"BROCKHAMPTON\", \"popularity\": 61, \"danceability\": 0.686, \"energy\": 0.448, \"key\": 5, \"loudness\": -8.396, \"mode\": 1, \"speechiness\": 0.0396, \"acousticness\": 0.0515, \"instrumentalness\": 0.0229, \"liveness\": 0.113, \"valence\": 0.312, \"tempo\": 125.002, \"year_playlist\": 2022, \"duration_ms\": 263.0}, {\"track_name\": \"LISTERINE\", \"album\": \"TM\", \"track_id\": \"4wO7V8MuYSJ3BnSdj1CCiy\", \"artist\": \"BROCKHAMPTON\", \"popularity\": 60, \"danceability\": 0.734, \"energy\": 0.461, \"key\": 7, \"loudness\": -8.019, \"mode\": 0, \"speechiness\": 0.233, \"acousticness\": 0.101, \"instrumentalness\": 8.21e-06, \"liveness\": 0.105, \"valence\": 0.36, \"tempo\": 145.031, \"year_playlist\": 2022, \"duration_ms\": 186.0}, {\"track_name\": \"Learn to Fly\", \"album\": \"There Is Nothing Left To Lose\", \"track_id\": \"5OQsiBsky2k2kDKy2bX2eT\", \"artist\": \"Foo Fighters\", \"popularity\": 76, \"danceability\": 0.465, \"energy\": 0.919, \"key\": 4, \"loudness\": -4.025, \"mode\": 1, \"speechiness\": 0.0408, \"acousticness\": 1.83e-05, \"instrumentalness\": 2.07e-05, \"liveness\": 0.262, \"valence\": 0.537, \"tempo\": 135.997, \"year_playlist\": 2022, \"duration_ms\": 235.0}, {\"track_name\": \"The Pretender\", \"album\": \"Echoes, Silence, Patience & Grace\", \"track_id\": \"7x8dCjCr0x6x2lXKujYD34\", \"artist\": \"Foo Fighters\", \"popularity\": 78, \"danceability\": 0.433, \"energy\": 0.959, \"key\": 9, \"loudness\": -4.04, \"mode\": 1, \"speechiness\": 0.0431, \"acousticness\": 0.000917, \"instrumentalness\": 0.0, \"liveness\": 0.028, \"valence\": 0.365, \"tempo\": 172.984, \"year_playlist\": 2022, \"duration_ms\": 269.0}, {\"track_name\": \"KEEP IT SOUTHERN\", \"album\": \"TM\", \"track_id\": \"1sNBHeUSm0zmol4taxYhzY\", \"artist\": \"BROCKHAMPTON\", \"popularity\": 62, \"danceability\": 0.699, \"energy\": 0.713, \"key\": 11, \"loudness\": -7.129, \"mode\": 1, \"speechiness\": 0.192, \"acousticness\": 0.0953, \"instrumentalness\": 0.0, \"liveness\": 0.224, \"valence\": 0.75, \"tempo\": 83.085, \"year_playlist\": 2022, \"duration_ms\": 117.0}, {\"track_name\": \"You're So Real\", \"album\": \"Fever\", \"track_id\": \"2P4SwarBghj39VmdlYX0hY\", \"artist\": \"Balthazar\", \"popularity\": 37, \"danceability\": 0.694, \"energy\": 0.553, \"key\": 5, \"loudness\": -7.887, \"mode\": 0, \"speechiness\": 0.0309, \"acousticness\": 0.0238, \"instrumentalness\": 0.627, \"liveness\": 0.177, \"valence\": 0.503, \"tempo\": 135.967, \"year_playlist\": 2022, \"duration_ms\": 247.0}, {\"track_name\": \"Hngover\", \"album\": \"Halfway Off the Porch\", \"track_id\": \"5nMRM1LEUEpzlUkvjTZVpQ\", \"artist\": \"AG Club\", \"popularity\": 50, \"danceability\": 0.55, \"energy\": 0.665, \"key\": 1, \"loudness\": -8.688, \"mode\": 0, \"speechiness\": 0.269, \"acousticness\": 0.462, \"instrumentalness\": 2.63e-05, \"liveness\": 0.158, \"valence\": 0.146, \"tempo\": 79.845, \"year_playlist\": 2022, \"duration_ms\": 269.0}, {\"track_name\": \"Kathleen\", \"album\": \"The Balcony\", \"track_id\": \"1MHYAqWWdDRePmnqORynrq\", \"artist\": \"Catfish and the Bottlemen\", \"popularity\": 66, \"danceability\": 0.489, \"energy\": 0.892, \"key\": 11, \"loudness\": -4.757, \"mode\": 0, \"speechiness\": 0.0786, \"acousticness\": 0.000369, \"instrumentalness\": 0.00293, \"liveness\": 0.411, \"valence\": 0.598, \"tempo\": 137.93, \"year_playlist\": 2022, \"duration_ms\": 161.0}, {\"track_name\": \"NEW SHOES\", \"album\": \"TM\", \"track_id\": \"4Cy0RmJ3wVnlfdDlzqoZ1H\", \"artist\": \"BROCKHAMPTON\", \"popularity\": 65, \"danceability\": 0.809, \"energy\": 0.557, \"key\": 6, \"loudness\": -9.645, \"mode\": 0, \"speechiness\": 0.247, \"acousticness\": 0.175, \"instrumentalness\": 4.41e-06, \"liveness\": 0.122, \"valence\": 0.734, \"tempo\": 158.048, \"year_playlist\": 2022, \"duration_ms\": 198.0}, {\"track_name\": \"GOODBYE\", \"album\": \"TM\", \"track_id\": \"7G4yUa1qawOeOImIjDnjcf\", \"artist\": \"BROCKHAMPTON\", \"popularity\": 58, \"danceability\": 0.772, \"energy\": 0.677, \"key\": 9, \"loudness\": -9.09, \"mode\": 1, \"speechiness\": 0.0847, \"acousticness\": 0.14, \"instrumentalness\": 0.0838, \"liveness\": 0.105, \"valence\": 0.327, \"tempo\": 128.067, \"year_playlist\": 2022, \"duration_ms\": 169.0}, {\"track_name\": \"Times Like These\", \"album\": \"One By One (Expanded Edition)\", \"track_id\": \"67vYdAAM3oGsEImCRfbtsF\", \"artist\": \"Foo Fighters\", \"popularity\": 70, \"danceability\": 0.376, \"energy\": 0.908, \"key\": 4, \"loudness\": -3.793, \"mode\": 0, \"speechiness\": 0.0879, \"acousticness\": 1.4e-05, \"instrumentalness\": 1.4e-05, \"liveness\": 0.241, \"valence\": 0.266, \"tempo\": 144.581, \"year_playlist\": 2022, \"duration_ms\": 266.0}, {\"track_name\": \"I Like You (A Happier Song) (with Doja Cat)\", \"album\": \"Twelve Carat Toothache\", \"track_id\": \"0O6u0VJ46W86TxN9wgyqDj\", \"artist\": \"Post Malone\", \"popularity\": 89, \"danceability\": 0.733, \"energy\": 0.67, \"key\": 5, \"loudness\": -6.009, \"mode\": 1, \"speechiness\": 0.0751, \"acousticness\": 0.121, \"instrumentalness\": 0.0, \"liveness\": 0.121, \"valence\": 0.472, \"tempo\": 100.964, \"year_playlist\": 2022, \"duration_ms\": 193.0}, {\"track_name\": \"BETTER THINGS\", \"album\": \"TM\", \"track_id\": \"3EM6K9XRPJvZjkDftfSe1u\", \"artist\": \"BROCKHAMPTON\", \"popularity\": 60, \"danceability\": 0.42, \"energy\": 0.161, \"key\": 2, \"loudness\": -14.746, \"mode\": 1, \"speechiness\": 0.0478, \"acousticness\": 0.926, \"instrumentalness\": 0.000847, \"liveness\": 0.123, \"valence\": 0.309, \"tempo\": 123.576, \"year_playlist\": 2022, \"duration_ms\": 173.0}, {\"track_name\": \"Amphetamine\", \"album\": \"blkswn\", \"track_id\": \"3Zau3JcrZcBfw8aVjKGkSX\", \"artist\": \"Smino\", \"popularity\": 63, \"danceability\": 0.619, \"energy\": 0.532, \"key\": 5, \"loudness\": -9.554, \"mode\": 1, \"speechiness\": 0.515, \"acousticness\": 0.715, \"instrumentalness\": 1.33e-05, \"liveness\": 0.0953, \"valence\": 0.401, \"tempo\": 120.019, \"year_playlist\": 2022, \"duration_ms\": 470.0}, {\"track_name\": \"All My Life\", \"album\": \"One By One (Expanded Edition)\", \"track_id\": \"6tsojOQ5wHaIjKqIryLZK6\", \"artist\": \"Foo Fighters\", \"popularity\": 73, \"danceability\": 0.577, \"energy\": 0.604, \"key\": 5, \"loudness\": -5.703, \"mode\": 1, \"speechiness\": 0.0495, \"acousticness\": 0.000218, \"instrumentalness\": 0.000579, \"liveness\": 0.477, \"valence\": 0.637, \"tempo\": 167.719, \"year_playlist\": 2022, \"duration_ms\": 263.0}, {\"track_name\": \"Drugs on M, Pt. 2\", \"album\": \"DopeBoy\", \"track_id\": \"1xhe1Vf7AY0AMxBpLAmcyi\", \"artist\": \"Matty Wood$\", \"popularity\": 55, \"danceability\": 0.761, \"energy\": 0.502, \"key\": 9, \"loudness\": -10.928, \"mode\": 1, \"speechiness\": 0.316, \"acousticness\": 0.617, \"instrumentalness\": 0.0, \"liveness\": 0.162, \"valence\": 0.918, \"tempo\": 72.026, \"year_playlist\": 2022, \"duration_ms\": 110.0}, {\"track_name\": \"Duerme Conmigo\", \"album\": \"Revolc\\u00f3n\", \"track_id\": \"5LcXfZNKemUkLyAXT0jSQM\", \"artist\": \"Marea\", \"popularity\": 45, \"danceability\": 0.471, \"energy\": 0.951, \"key\": 1, \"loudness\": -4.173, \"mode\": 0, \"speechiness\": 0.122, \"acousticness\": 0.0016, \"instrumentalness\": 4.68e-06, \"liveness\": 0.288, \"valence\": 0.556, \"tempo\": 90.522, \"year_playlist\": 2022, \"duration_ms\": 218.0}, {\"track_name\": \"Monkey Wrench\", \"album\": \"The Colour And The Shape\", \"track_id\": \"44wXefe8WB9Fd6xwtmAwbR\", \"artist\": \"Foo Fighters\", \"popularity\": 69, \"danceability\": 0.401, \"energy\": 0.953, \"key\": 4, \"loudness\": -4.276, \"mode\": 1, \"speechiness\": 0.0752, \"acousticness\": 1.83e-05, \"instrumentalness\": 2.56e-05, \"liveness\": 0.149, \"valence\": 0.555, \"tempo\": 174.217, \"year_playlist\": 2022, \"duration_ms\": 231.0}, {\"track_name\": \"Walk\", \"album\": \"Wasting Light\", \"track_id\": \"76Je5Wklky23mVoxiRszcN\", \"artist\": \"Foo Fighters\", \"popularity\": 69, \"danceability\": 0.234, \"energy\": 0.865, \"key\": 9, \"loudness\": -5.131, \"mode\": 1, \"speechiness\": 0.0516, \"acousticness\": 3.62e-05, \"instrumentalness\": 0.000532, \"liveness\": 0.289, \"valence\": 0.194, \"tempo\": 137.107, \"year_playlist\": 2022, \"duration_ms\": 256.0}, {\"track_name\": \"Cocoon\", \"album\": \"The Balcony\", \"track_id\": \"1B241LRKmK6qDDTZfUajmm\", \"artist\": \"Catfish and the Bottlemen\", \"popularity\": 65, \"danceability\": 0.446, \"energy\": 0.91, \"key\": 7, \"loudness\": -4.481, \"mode\": 0, \"speechiness\": 0.0652, \"acousticness\": 0.000254, \"instrumentalness\": 9.76e-05, \"liveness\": 0.077, \"valence\": 0.325, \"tempo\": 133.053, \"year_playlist\": 2022, \"duration_ms\": 237.0}, {\"track_name\": \"Nikes On\", \"album\": \"Tungsten\", \"track_id\": \"5b31aX22XfycZp4LcpaG8p\", \"artist\": \"Healy\", \"popularity\": 56, \"danceability\": 0.825, \"energy\": 0.313, \"key\": 9, \"loudness\": -9.564, \"mode\": 1, \"speechiness\": 0.218, \"acousticness\": 0.635, \"instrumentalness\": 0.000166, \"liveness\": 0.107, \"valence\": 0.242, \"tempo\": 83.014, \"year_playlist\": 2022, \"duration_ms\": 162.0}, {\"track_name\": \"Innamission\", \"album\": \"blkswn\", \"track_id\": \"7svLpna6i9NbCVBciVCUWG\", \"artist\": \"Smino\", \"popularity\": 48, \"danceability\": 0.741, \"energy\": 0.512, \"key\": 0, \"loudness\": -8.388, \"mode\": 1, \"speechiness\": 0.315, \"acousticness\": 0.82, \"instrumentalness\": 0.0, \"liveness\": 0.383, \"valence\": 0.399, \"tempo\": 114.249, \"year_playlist\": 2022, \"duration_ms\": 135.0}, {\"track_name\": \"Big Me\", \"album\": \"Foo Fighters\", \"track_id\": \"6pb5BBnIM5IM7R1cqag6rE\", \"artist\": \"Foo Fighters\", \"popularity\": 64, \"danceability\": 0.579, \"energy\": 0.708, \"key\": 0, \"loudness\": -10.419, \"mode\": 1, \"speechiness\": 0.0374, \"acousticness\": 0.442, \"instrumentalness\": 0.0, \"liveness\": 0.11, \"valence\": 0.846, \"tempo\": 130.97, \"year_playlist\": 2022, \"duration_ms\": 133.0}, {\"track_name\": \"Nonstop\", \"album\": \"Nonstop\", \"track_id\": \"7ANJlQ67bYtNz0rNUFL0E2\", \"artist\": \"Quevedo\", \"popularity\": 64, \"danceability\": 0.733, \"energy\": 0.578, \"key\": 9, \"loudness\": -8.175, \"mode\": 1, \"speechiness\": 0.0889, \"acousticness\": 0.11, \"instrumentalness\": 0.0, \"liveness\": 0.456, \"valence\": 0.293, \"tempo\": 139.045, \"year_playlist\": 2022, \"duration_ms\": 230.0}, {\"track_name\": \"CRUCIFY ME\", \"album\": \"TM\", \"track_id\": \"5IcCUx9Zl1VfdSlo5B4Dkt\", \"artist\": \"BROCKHAMPTON\", \"popularity\": 59, \"danceability\": 0.594, \"energy\": 0.648, \"key\": 2, \"loudness\": -9.87, \"mode\": 1, \"speechiness\": 0.0928, \"acousticness\": 0.228, \"instrumentalness\": 0.000103, \"liveness\": 0.161, \"valence\": 0.288, \"tempo\": 132.099, \"year_playlist\": 2022, \"duration_ms\": 262.0}, {\"track_name\": \"First Class\", \"album\": \"Come Home The Kids Miss You\", \"track_id\": \"0wHFktze2PHC5jDt3B17DC\", \"artist\": \"Jack Harlow\", \"popularity\": 84, \"danceability\": 0.902, \"energy\": 0.582, \"key\": 5, \"loudness\": -5.902, \"mode\": 0, \"speechiness\": 0.109, \"acousticness\": 0.111, \"instrumentalness\": 3.18e-06, \"liveness\": 0.111, \"valence\": 0.332, \"tempo\": 107.005, \"year_playlist\": 2022, \"duration_ms\": 174.0}, {\"track_name\": \"Buenos Genes\", \"album\": \"Flakk Daniel's Lp\", \"track_id\": \"76NtMPMpA6fuUH4euMYZoD\", \"artist\": \"Rels B\", \"popularity\": 71, \"danceability\": 0.804, \"energy\": 0.535, \"key\": 4, \"loudness\": -8.603, \"mode\": 0, \"speechiness\": 0.143, \"acousticness\": 0.486, \"instrumentalness\": 0.0, \"liveness\": 0.108, \"valence\": 0.628, \"tempo\": 151.957, \"year_playlist\": 2022, \"duration_ms\": 245.0}, {\"track_name\": \"I Might Slip Away if I Don't Feel Nothing\", \"album\": \"Forest Green (Deluxe)\", \"track_id\": \"29kixq8kxaIuxN0TAZomaU\", \"artist\": \"Q\", \"popularity\": 53, \"danceability\": 0.615, \"energy\": 0.66, \"key\": 8, \"loudness\": -6.361, \"mode\": 1, \"speechiness\": 0.0874, \"acousticness\": 0.026, \"instrumentalness\": 4.51e-06, \"liveness\": 0.112, \"valence\": 0.632, \"tempo\": 151.246, \"year_playlist\": 2022, \"duration_ms\": 101.0}, {\"track_name\": \"DUCT TAPE\", \"album\": \"TM\", \"track_id\": \"3tpRumXI5wK0YxFw65y9zZ\", \"artist\": \"BROCKHAMPTON\", \"popularity\": 58, \"danceability\": 0.642, \"energy\": 0.818, \"key\": 7, \"loudness\": -8.689, \"mode\": 1, \"speechiness\": 0.108, \"acousticness\": 0.683, \"instrumentalness\": 0.114, \"liveness\": 0.157, \"valence\": 0.481, \"tempo\": 150.019, \"year_playlist\": 2022, \"duration_ms\": 285.0}, {\"track_name\": \"Homesick\", \"album\": \"The Balcony\", \"track_id\": \"7lnXzMcgaK7CnzaQ7wj6k0\", \"artist\": \"Catfish and the Bottlemen\", \"popularity\": 59, \"danceability\": 0.699, \"energy\": 0.6, \"key\": 1, \"loudness\": -6.328, \"mode\": 1, \"speechiness\": 0.134, \"acousticness\": 0.00231, \"instrumentalness\": 0.00963, \"liveness\": 0.114, \"valence\": 0.586, \"tempo\": 142.037, \"year_playlist\": 2022, \"duration_ms\": 148.0}, {\"track_name\": \"Quevedo: Bzrp Music Sessions, Vol. 52\", \"album\": \"Quevedo: Bzrp Music Sessions, Vol. 52\", \"track_id\": \"2tTmW7RDtMQtBk7m2rYeSw\", \"artist\": \"Bizarrap\", \"popularity\": 97, \"danceability\": 0.621, \"energy\": 0.782, \"key\": 2, \"loudness\": -5.548, \"mode\": 1, \"speechiness\": 0.044, \"acousticness\": 0.0125, \"instrumentalness\": 0.033, \"liveness\": 0.23, \"valence\": 0.55, \"tempo\": 128.033, \"year_playlist\": 2022, \"duration_ms\": 199.0}, {\"track_name\": \"Wheels\", \"album\": \"Greatest Hits\", \"track_id\": \"3KsatAMRt1a7iryhWt5I8U\", \"artist\": \"Foo Fighters\", \"popularity\": 63, \"danceability\": 0.426, \"energy\": 0.792, \"key\": 9, \"loudness\": -4.709, \"mode\": 1, \"speechiness\": 0.0374, \"acousticness\": 0.000495, \"instrumentalness\": 5.1e-06, \"liveness\": 0.142, \"valence\": 0.557, \"tempo\": 161.994, \"year_playlist\": 2022, \"duration_ms\": 278.0}, {\"track_name\": \"Livin It Up (with Post Malone & A$AP Rocky)\", \"album\": \"Punk\", \"track_id\": \"7zjEyeBsaw9gV0jofJLfOM\", \"artist\": \"Young Thug\", \"popularity\": 73, \"danceability\": 0.767, \"energy\": 0.313, \"key\": 7, \"loudness\": -12.059, \"mode\": 1, \"speechiness\": 0.0798, \"acousticness\": 0.838, \"instrumentalness\": 0.0, \"liveness\": 0.105, \"valence\": 0.765, \"tempo\": 82.582, \"year_playlist\": 2022, \"duration_ms\": 211.0}, {\"track_name\": \"Paprika\", \"album\": \"Halfway Off the Porch\", \"track_id\": \"147IEnHmRbR08vBVfwQpoP\", \"artist\": \"AG Club\", \"popularity\": 13, \"danceability\": 0.506, \"energy\": 0.449, \"key\": 9, \"loudness\": -8.553, \"mode\": 1, \"speechiness\": 0.138, \"acousticness\": 0.92, \"instrumentalness\": 0.0, \"liveness\": 0.123, \"valence\": 0.289, \"tempo\": 148.577, \"year_playlist\": 2022, \"duration_ms\": 168.0}, {\"track_name\": \"First Class\", \"album\": \"First Class\", \"track_id\": \"1rDQ4oMwGJI7B4tovsBOxc\", \"artist\": \"Jack Harlow\", \"popularity\": 72, \"danceability\": 0.905, \"energy\": 0.563, \"key\": 8, \"loudness\": -6.135, \"mode\": 1, \"speechiness\": 0.102, \"acousticness\": 0.0254, \"instrumentalness\": 9.71e-06, \"liveness\": 0.113, \"valence\": 0.324, \"tempo\": 106.998, \"year_playlist\": 2022, \"duration_ms\": 174.0}, {\"track_name\": \"Hngover\", \"album\": \"Halfway Off the Porch\", \"track_id\": \"6TieEd9BS8NdArngd4AvtA\", \"artist\": \"AG Club\", \"popularity\": 34, \"danceability\": 0.55, \"energy\": 0.665, \"key\": 1, \"loudness\": -8.688, \"mode\": 0, \"speechiness\": 0.269, \"acousticness\": 0.462, \"instrumentalness\": 2.63e-05, \"liveness\": 0.158, \"valence\": 0.146, \"tempo\": 79.845, \"year_playlist\": 2022, \"duration_ms\": 269.0}, {\"track_name\": \"Congratulations\", \"album\": \"Stoney (Deluxe)\", \"track_id\": \"3a1lNhkSLSkpJE4MSHpDu9\", \"artist\": \"Post Malone\", \"popularity\": 81, \"danceability\": 0.63, \"energy\": 0.804, \"key\": 6, \"loudness\": -4.183, \"mode\": 1, \"speechiness\": 0.0363, \"acousticness\": 0.215, \"instrumentalness\": 0.0, \"liveness\": 0.253, \"valence\": 0.492, \"tempo\": 123.146, \"year_playlist\": 2022, \"duration_ms\": 220.0}, {\"track_name\": \"Cay\\u00f3 La Noche (feat. Cruz Cafun\\u00e9, Abhir Hathi, Bejo, EL IMA) [Remix]\", \"album\": \"Cay\\u00f3 La Noche (feat. Cruz Cafun\\u00e9, Abhir Hathi, Bejo, EL IMA) [Remix]\", \"track_id\": \"0Bv7O6fmZk3GrNQFYJaXPn\", \"artist\": \"La Pantera\", \"popularity\": 76, \"danceability\": 0.672, \"energy\": 0.745, \"key\": 5, \"loudness\": -5.269, \"mode\": 0, \"speechiness\": 0.3, \"acousticness\": 0.438, \"instrumentalness\": 9.29e-06, \"liveness\": 0.0699, \"valence\": 0.739, \"tempo\": 173.974, \"year_playlist\": 2022, \"duration_ms\": 413.0}, {\"track_name\": \"HUMBLE.\", \"album\": \"DAMN.\", \"track_id\": \"7KXjTSCq5nL1LoYtL7XAwS\", \"artist\": \"Kendrick Lamar\", \"popularity\": 84, \"danceability\": 0.908, \"energy\": 0.621, \"key\": 1, \"loudness\": -6.638, \"mode\": 0, \"speechiness\": 0.102, \"acousticness\": 0.000282, \"instrumentalness\": 5.39e-05, \"liveness\": 0.0958, \"valence\": 0.421, \"tempo\": 150.011, \"year_playlist\": 2022, \"duration_ms\": 177.0}, {\"track_name\": \"F**kin' Problems (feat. Drake, 2 Chainz & Kendrick Lamar)\", \"album\": \"LONG.LIVE.A$AP (Deluxe Version)\", \"track_id\": \"4X5f3vT8MRuXF68pfjNte5\", \"artist\": \"A$AP Rocky\", \"popularity\": 75, \"danceability\": 0.853, \"energy\": 0.693, \"key\": 1, \"loudness\": -6.87, \"mode\": 1, \"speechiness\": 0.275, \"acousticness\": 0.0239, \"instrumentalness\": 0.0, \"liveness\": 0.11, \"valence\": 0.662, \"tempo\": 95.967, \"year_playlist\": 2022, \"duration_ms\": 234.0}, {\"track_name\": \"Lucy\", \"album\": \"Lucy\", \"track_id\": \"5RxpYHVbGJPOvSEATQyg9P\", \"artist\": \"Still Woozy\", \"popularity\": 68, \"danceability\": 0.647, \"energy\": 0.537, \"key\": 6, \"loudness\": -12.006, \"mode\": 0, \"speechiness\": 0.21, \"acousticness\": 0.43, \"instrumentalness\": 0.000258, \"liveness\": 0.119, \"valence\": 0.846, \"tempo\": 84.46, \"year_playlist\": 2022, \"duration_ms\": 142.0}, {\"track_name\": \"Arte y Paciencia\", \"album\": \"Arte y Paciencia\", \"track_id\": \"0IVVdkzsx9K0f5jtNRc7Po\", \"artist\": \"Chusterfield\", \"popularity\": 37, \"danceability\": 0.626, \"energy\": 0.471, \"key\": 4, \"loudness\": -13.863, \"mode\": 0, \"speechiness\": 0.266, \"acousticness\": 0.813, \"instrumentalness\": 0.0, \"liveness\": 0.119, \"valence\": 0.711, \"tempo\": 97.972, \"year_playlist\": 2022, \"duration_ms\": 242.0}, {\"track_name\": \"No Saben Como Vivo\", \"album\": \"No Saben Como Vivo\", \"track_id\": \"76Uh13sk4vhuVtQHq4VB3d\", \"artist\": \"Dollar Selmouni\", \"popularity\": 51, \"danceability\": 0.824, \"energy\": 0.436, \"key\": 2, \"loudness\": -8.59, \"mode\": 1, \"speechiness\": 0.125, \"acousticness\": 0.599, \"instrumentalness\": 0.0, \"liveness\": 0.162, \"valence\": 0.681, \"tempo\": 94.044, \"year_playlist\": 2022, \"duration_ms\": 169.0}, {\"track_name\": \"Nos Vamos a Comer el Mundo (feat. La Maravillosa Orquesta del Alcohol)\", \"album\": \"Blue Sundays\", \"track_id\": \"0OoKdDHrXXTWhxa5hwq3iG\", \"artist\": \"Juancho Marqu\\u00e9s\", \"popularity\": 47, \"danceability\": 0.557, \"energy\": 0.538, \"key\": 1, \"loudness\": -8.503, \"mode\": 0, \"speechiness\": 0.0984, \"acousticness\": 0.708, \"instrumentalness\": 0.0, \"liveness\": 0.109, \"valence\": 0.229, \"tempo\": 89.939, \"year_playlist\": 2022, \"duration_ms\": 246.0}, {\"track_name\": \"Get Along Better\", \"album\": \"Certified Lover Boy\", \"track_id\": \"5ScbulRnixQ2XAdvrPMFjz\", \"artist\": \"Drake\", \"popularity\": 71, \"danceability\": 0.32, \"energy\": 0.466, \"key\": 8, \"loudness\": -6.77, \"mode\": 1, \"speechiness\": 0.0374, \"acousticness\": 0.00645, \"instrumentalness\": 0.0, \"liveness\": 0.133, \"valence\": 0.338, \"tempo\": 177.693, \"year_playlist\": 2022, \"duration_ms\": 229.0}, {\"track_name\": \"PUFFIN ON ZOOTIEZ\", \"album\": \"I NEVER LIKED YOU\", \"track_id\": \"1qMMYpVatbRITKCfq1gasi\", \"artist\": \"Future\", \"popularity\": 80, \"danceability\": 0.883, \"energy\": 0.657, \"key\": 8, \"loudness\": -5.748, \"mode\": 1, \"speechiness\": 0.305, \"acousticness\": 0.0603, \"instrumentalness\": 0.0, \"liveness\": 0.128, \"valence\": 0.284, \"tempo\": 124.992, \"year_playlist\": 2022, \"duration_ms\": 173.0}, {\"track_name\": \"LOVE. FEAT. ZACARI.\", \"album\": \"DAMN.\", \"track_id\": \"6PGoSes0D9eUDeeAafB2As\", \"artist\": \"Kendrick Lamar\", \"popularity\": 82, \"danceability\": 0.8, \"energy\": 0.585, \"key\": 10, \"loudness\": -7.343, \"mode\": 1, \"speechiness\": 0.0924, \"acousticness\": 0.264, \"instrumentalness\": 0.0, \"liveness\": 0.153, \"valence\": 0.779, \"tempo\": 126.058, \"year_playlist\": 2022, \"duration_ms\": 213.0}, {\"track_name\": \"Mr. Put It On\", \"album\": \"Mr. Put It On\", \"track_id\": \"70EiV32gjM86o0XeTj5nq0\", \"artist\": \"AG Club\", \"popularity\": 44, \"danceability\": 0.753, \"energy\": 0.735, \"key\": 2, \"loudness\": -6.687, \"mode\": 1, \"speechiness\": 0.391, \"acousticness\": 0.101, \"instrumentalness\": 0.0, \"liveness\": 0.357, \"valence\": 0.714, \"tempo\": 141.982, \"year_playlist\": 2022, \"duration_ms\": 167.0}, {\"track_name\": \"Si Me Muero\", \"album\": \"38\\u00ba\", \"track_id\": \"1DYcAX38D2YMwZnCjWK9Jp\", \"artist\": \"Walls\", \"popularity\": 48, \"danceability\": 0.517, \"energy\": 0.617, \"key\": 0, \"loudness\": -7.529, \"mode\": 1, \"speechiness\": 0.0458, \"acousticness\": 0.615, \"instrumentalness\": 0.0, \"liveness\": 0.2, \"valence\": 0.507, \"tempo\": 164.233, \"year_playlist\": 2022, \"duration_ms\": 209.0}, {\"track_name\": \"Mercury\", \"album\": \"Mercury\", \"track_id\": \"4ieZaJ1d5lmei3GOZqtfv3\", \"artist\": \"Israel B\", \"popularity\": 51, \"danceability\": 0.586, \"energy\": 0.579, \"key\": 5, \"loudness\": -7.068, \"mode\": 0, \"speechiness\": 0.13, \"acousticness\": 0.447, \"instrumentalness\": 0.0, \"liveness\": 0.139, \"valence\": 0.669, \"tempo\": 122.363, \"year_playlist\": 2022, \"duration_ms\": 196.0}, {\"track_name\": \"Pianeti\", \"album\": \"Pianeti\", \"track_id\": \"2w5wtWq30yTkNSG9YjMFvW\", \"artist\": \"Ultimo\", \"popularity\": 65, \"danceability\": 0.55, \"energy\": 0.488, \"key\": 8, \"loudness\": -9.425, \"mode\": 1, \"speechiness\": 0.196, \"acousticness\": 0.281, \"instrumentalness\": 0.0, \"liveness\": 0.372, \"valence\": 0.108, \"tempo\": 80.112, \"year_playlist\": 2022, \"duration_ms\": 224.0}, {\"track_name\": \"Bandolero\", \"album\": \"Tirititando\", \"track_id\": \"19bLlTPpMZftaP0gwi5Zvv\", \"artist\": \"FERNANDOCOSTA\", \"popularity\": 50, \"danceability\": 0.525, \"energy\": 0.646, \"key\": 8, \"loudness\": -7.742, \"mode\": 0, \"speechiness\": 0.19, \"acousticness\": 0.527, \"instrumentalness\": 0.0, \"liveness\": 0.105, \"valence\": 0.723, \"tempo\": 126.113, \"year_playlist\": 2022, \"duration_ms\": 200.0}, {\"track_name\": \"Sundress\", \"album\": \"Sundress\", \"track_id\": \"2aPTvyE09vUCRwVvj0I8WK\", \"artist\": \"A$AP Rocky\", \"popularity\": 77, \"danceability\": 0.721, \"energy\": 0.707, \"key\": 6, \"loudness\": -6.364, \"mode\": 1, \"speechiness\": 0.0595, \"acousticness\": 0.181, \"instrumentalness\": 3.68e-06, \"liveness\": 0.143, \"valence\": 0.743, \"tempo\": 125.005, \"year_playlist\": 2022, \"duration_ms\": 158.0}, {\"track_name\": \"WAIT FOR U (feat. Drake & Tems)\", \"album\": \"I NEVER LIKED YOU\", \"track_id\": \"59nOXPmaKlBfGMDeOVGrIK\", \"artist\": \"Future\", \"popularity\": 88, \"danceability\": 0.463, \"energy\": 0.642, \"key\": 1, \"loudness\": -4.474, \"mode\": 1, \"speechiness\": 0.34, \"acousticness\": 0.314, \"instrumentalness\": 0.0, \"liveness\": 0.0686, \"valence\": 0.339, \"tempo\": 83.389, \"year_playlist\": 2022, \"duration_ms\": 190.0}, {\"track_name\": \"BODIES (feat. Damso)\", \"album\": \"KMT\", \"track_id\": \"3im90dPSC5z1PYJ305kgSy\", \"artist\": \"Gazo\", \"popularity\": 68, \"danceability\": 0.906, \"energy\": 0.518, \"key\": 1, \"loudness\": -7.104, \"mode\": 1, \"speechiness\": 0.18, \"acousticness\": 0.00864, \"instrumentalness\": 0.00174, \"liveness\": 0.0711, \"valence\": 0.259, \"tempo\": 146.06, \"year_playlist\": 2022, \"duration_ms\": 166.0}, {\"track_name\": \"Praise The Lord (Da Shine) (feat. Skepta)\", \"album\": \"TESTING\", \"track_id\": \"7ycWLEP1GsNjVvcjawXz3z\", \"artist\": \"A$AP Rocky\", \"popularity\": 81, \"danceability\": 0.854, \"energy\": 0.569, \"key\": 5, \"loudness\": -8.151, \"mode\": 0, \"speechiness\": 0.106, \"acousticness\": 0.0609, \"instrumentalness\": 0.0816, \"liveness\": 0.1, \"valence\": 0.294, \"tempo\": 80.015, \"year_playlist\": 2022, \"duration_ms\": 205.0}, {\"track_name\": \"ROCKSTAR (feat. Roddy Ricch)\", \"album\": \"BLAME IT ON BABY\", \"track_id\": \"7ytR5pFWmSjzHJIeQkgog4\", \"artist\": \"DaBaby\", \"popularity\": 79, \"danceability\": 0.746, \"energy\": 0.69, \"key\": 11, \"loudness\": -7.956, \"mode\": 1, \"speechiness\": 0.164, \"acousticness\": 0.247, \"instrumentalness\": 0.0, \"liveness\": 0.101, \"valence\": 0.497, \"tempo\": 89.977, \"year_playlist\": 2022, \"duration_ms\": 182.0}, {\"track_name\": \"Sin Prisa\", \"album\": \"Sin Prisa\", \"track_id\": \"1LuccEv4YdpWldk4B5SAUt\", \"artist\": \"Nikone\", \"popularity\": 44, \"danceability\": 0.652, \"energy\": 0.442, \"key\": 9, \"loudness\": -13.698, \"mode\": 1, \"speechiness\": 0.0861, \"acousticness\": 0.84, \"instrumentalness\": 5.39e-05, \"liveness\": 0.107, \"valence\": 0.146, \"tempo\": 99.863, \"year_playlist\": 2022, \"duration_ms\": 165.0}, {\"track_name\": \"En Privao (feat. J Dose)\", \"album\": \"Blue Sundays\", \"track_id\": \"5OdkOEgSMn7bgJZBOYxw72\", \"artist\": \"Juancho Marqu\\u00e9s\", \"popularity\": 44, \"danceability\": 0.647, \"energy\": 0.872, \"key\": 6, \"loudness\": -4.806, \"mode\": 1, \"speechiness\": 0.254, \"acousticness\": 0.622, \"instrumentalness\": 0.0, \"liveness\": 0.21, \"valence\": 0.962, \"tempo\": 86.021, \"year_playlist\": 2022, \"duration_ms\": 174.0}, {\"track_name\": \"She's Not Gone Yet But She's Leaving\", \"album\": \"We Need Medicine\", \"track_id\": \"1ZeohNjdYKY1AANYak6fau\", \"artist\": \"The Fratellis\", \"popularity\": 58, \"danceability\": 0.648, \"energy\": 0.842, \"key\": 11, \"loudness\": -6.138, \"mode\": 0, \"speechiness\": 0.0351, \"acousticness\": 0.0011, \"instrumentalness\": 6.5e-06, \"liveness\": 0.384, \"valence\": 0.841, \"tempo\": 120.083, \"year_playlist\": 2022, \"duration_ms\": 230.0}, {\"track_name\": \"Me Encanta(s)\", \"album\": \"Hensito\", \"track_id\": \"3S1lg0ytmvtPRV4qv4iWL4\", \"artist\": \"Hens\", \"popularity\": 58, \"danceability\": 0.503, \"energy\": 0.733, \"key\": 4, \"loudness\": -3.648, \"mode\": 1, \"speechiness\": 0.0547, \"acousticness\": 0.384, \"instrumentalness\": 0.0, \"liveness\": 0.189, \"valence\": 0.657, \"tempo\": 173.302, \"year_playlist\": 2022, \"duration_ms\": 156.0}, {\"track_name\": \"La Mujer de Verde\", \"album\": \"Magia & Efectos Especiales\", \"track_id\": \"72wNM7VYxTZ1PawCKzfTZx\", \"artist\": \"IZAL\", \"popularity\": 60, \"danceability\": 0.507, \"energy\": 0.73, \"key\": 7, \"loudness\": -5.66, \"mode\": 1, \"speechiness\": 0.0514, \"acousticness\": 0.187, \"instrumentalness\": 5.14e-06, \"liveness\": 0.0843, \"valence\": 0.244, \"tempo\": 151.965, \"year_playlist\": 2022, \"duration_ms\": 305.0}, {\"track_name\": \"\\u039b. Lov\\u00e9\", \"album\": \"Ips\\u00e9it\\u00e9\", \"track_id\": \"0YHVHL8qSEH5BqZPd1njUz\", \"artist\": \"Damso\", \"popularity\": 56, \"danceability\": 0.714, \"energy\": 0.769, \"key\": 2, \"loudness\": -6.603, \"mode\": 0, \"speechiness\": 0.117, \"acousticness\": 0.259, \"instrumentalness\": 0.0, \"liveness\": 0.495, \"valence\": 0.201, \"tempo\": 123.069, \"year_playlist\": 2022, \"duration_ms\": 210.0}, {\"track_name\": \"Benic\\u00e0ssim (feat. InnerCut)\", \"album\": \"Benic\\u00e0ssim (feat. InnerCut)\", \"track_id\": \"6dQ4XjdfaEodjTlvyn6g6A\", \"artist\": \"Juancho Marqu\\u00e9s\", \"popularity\": 46, \"danceability\": 0.748, \"energy\": 0.572, \"key\": 5, \"loudness\": -7.692, \"mode\": 0, \"speechiness\": 0.212, \"acousticness\": 0.183, \"instrumentalness\": 3.46e-06, \"liveness\": 0.0667, \"valence\": 0.357, \"tempo\": 97.723, \"year_playlist\": 2022, \"duration_ms\": 200.0}, {\"track_name\": \"Chispa y Ox\\u00edgeno\", \"album\": \"V\\u00e9rtigo\", \"track_id\": \"5SBqoQ1GNWw3SraFBAasbL\", \"artist\": \"L\\u00e1grimas De Sangre\", \"popularity\": 46, \"danceability\": 0.606, \"energy\": 0.663, \"key\": 7, \"loudness\": -7.037, \"mode\": 1, \"speechiness\": 0.317, \"acousticness\": 0.7, \"instrumentalness\": 0.0, \"liveness\": 0.306, \"valence\": 0.586, \"tempo\": 169.977, \"year_playlist\": 2022, \"duration_ms\": 344.0}, {\"track_name\": \"Feu de bois\", \"album\": \"Lithop\\u00e9dion\", \"track_id\": \"4L0Iwsk1s8cbdBcEgdm8K5\", \"artist\": \"Damso\", \"popularity\": 67, \"danceability\": 0.789, \"energy\": 0.633, \"key\": 2, \"loudness\": -6.269, \"mode\": 1, \"speechiness\": 0.0734, \"acousticness\": 0.256, \"instrumentalness\": 1.31e-06, \"liveness\": 0.092, \"valence\": 0.262, \"tempo\": 138.097, \"year_playlist\": 2022, \"duration_ms\": 183.0}, {\"track_name\": \"Ojitos Aguaos\", \"album\": \"Moonlight922\", \"track_id\": \"41N4CPnTx5JsTpupiZjKWH\", \"artist\": \"Cruz Cafun\\u00e9\", \"popularity\": 50, \"danceability\": 0.807, \"energy\": 0.489, \"key\": 3, \"loudness\": -10.848, \"mode\": 0, \"speechiness\": 0.15, \"acousticness\": 0.132, \"instrumentalness\": 0.0, \"liveness\": 0.0817, \"valence\": 0.608, \"tempo\": 160.912, \"year_playlist\": 2022, \"duration_ms\": 198.0}, {\"track_name\": \"Workin' man's Blues\", \"album\": \"So I Say\", \"track_id\": \"05zzG8GJPcvDKLRVjm37Gq\", \"artist\": \"Current Swell\", \"popularity\": 21, \"danceability\": 0.55, \"energy\": 0.656, \"key\": 9, \"loudness\": -9.189, \"mode\": 1, \"speechiness\": 0.169, \"acousticness\": 0.487, \"instrumentalness\": 0.0186, \"liveness\": 0.126, \"valence\": 0.539, \"tempo\": 103.544, \"year_playlist\": 2022, \"duration_ms\": 225.0}, {\"track_name\": \"Hero Of War\", \"album\": \"Appeal To Reason\", \"track_id\": \"00hVU6kDP67JHurfwG2dtq\", \"artist\": \"Rise Against\", \"popularity\": 63, \"danceability\": 0.645, \"energy\": 0.417, \"key\": 4, \"loudness\": -7.022, \"mode\": 1, \"speechiness\": 0.029, \"acousticness\": 0.543, \"instrumentalness\": 0.0, \"liveness\": 0.0982, \"valence\": 0.256, \"tempo\": 77.054, \"year_playlist\": 2022, \"duration_ms\": 253.0}, {\"track_name\": \"Bitch, Don\\u2019t Kill My Vibe - Remix\", \"album\": \"good kid, m.A.A.d city\", \"track_id\": \"3SImXx6qmobDK2q7MKeR1Z\", \"artist\": \"Kendrick Lamar\", \"popularity\": 57, \"danceability\": 0.616, \"energy\": 0.778, \"key\": 1, \"loudness\": -5.809, \"mode\": 1, \"speechiness\": 0.249, \"acousticness\": 0.0499, \"instrumentalness\": 0.0, \"liveness\": 0.204, \"valence\": 0.145, \"tempo\": 133.785, \"year_playlist\": 2022, \"duration_ms\": 279.0}, {\"track_name\": \"A las Cosas por Su Nombre\", \"album\": \"Vivir para Contarlo\", \"track_id\": \"0avEVorPMJyPPolMbeonBB\", \"artist\": \"Violadores Del Verso\", \"popularity\": 46, \"danceability\": 0.885, \"energy\": 0.877, \"key\": 2, \"loudness\": -5.269, \"mode\": 1, \"speechiness\": 0.171, \"acousticness\": 0.214, \"instrumentalness\": 1.44e-06, \"liveness\": 0.116, \"valence\": 0.89, \"tempo\": 91.985, \"year_playlist\": 2022, \"duration_ms\": 260.0}, {\"track_name\": \"El Gordo Que la Pisa Bien\", \"album\": \"Divertimentos (Vol.1)\", \"track_id\": \"3geFUUwPEbPsT6Tbj0lRb8\", \"artist\": \"Kase.O\", \"popularity\": 49, \"danceability\": 0.78, \"energy\": 0.803, \"key\": 11, \"loudness\": -4.472, \"mode\": 0, \"speechiness\": 0.368, \"acousticness\": 0.0584, \"instrumentalness\": 0.0, \"liveness\": 0.336, \"valence\": 0.737, \"tempo\": 82.267, \"year_playlist\": 2022, \"duration_ms\": 283.0}, {\"track_name\": \"Dani Ribba: Bzrp Freestyle Sessions, Vol. 7\", \"album\": \"Dani Ribba: Bzrp Freestyle Sessions, Vol. 7\", \"track_id\": \"1jKq6jcjPAd2awwuYiPswp\", \"artist\": \"Bizarrap\", \"popularity\": 54, \"danceability\": 0.924, \"energy\": 0.622, \"key\": 0, \"loudness\": -6.824, \"mode\": 1, \"speechiness\": 0.233, \"acousticness\": 0.0995, \"instrumentalness\": 0.0, \"liveness\": 0.0971, \"valence\": 0.74, \"tempo\": 130.063, \"year_playlist\": 2022, \"duration_ms\": 137.0}, {\"track_name\": \"Al filo\", \"album\": \"Al filo\", \"track_id\": \"1zEEcd2XToLY6WnbSATEYE\", \"artist\": \"FERNANDOCOSTA\", \"popularity\": 0, \"danceability\": 0.703, \"energy\": 0.721, \"key\": 2, \"loudness\": -7.802, \"mode\": 1, \"speechiness\": 0.362, \"acousticness\": 0.106, \"instrumentalness\": 0.0, \"liveness\": 0.0953, \"valence\": 0.484, \"tempo\": 90.899, \"year_playlist\": 2022, \"duration_ms\": 256.0}, {\"track_name\": \"Tranquil\\u00edsimo\", \"album\": \"Tranquil\\u00edsimo\", \"track_id\": \"3znlxKwQTRVrrerCcZPus2\", \"artist\": \"Israel B\", \"popularity\": 33, \"danceability\": 0.828, \"energy\": 0.714, \"key\": 10, \"loudness\": -6.852, \"mode\": 0, \"speechiness\": 0.108, \"acousticness\": 0.185, \"instrumentalness\": 3.15e-06, \"liveness\": 0.244, \"valence\": 0.407, \"tempo\": 95.967, \"year_playlist\": 2022, \"duration_ms\": 143.0}, {\"track_name\": \"En Bajo Perfil\", \"album\": \"Moonlight922\", \"track_id\": \"1f53Xa0KL3Fw1gEnuHnprI\", \"artist\": \"Cruz Cafun\\u00e9\", \"popularity\": 46, \"danceability\": 0.501, \"energy\": 0.461, \"key\": 11, \"loudness\": -10.381, \"mode\": 0, \"speechiness\": 0.337, \"acousticness\": 0.228, \"instrumentalness\": 0.0, \"liveness\": 0.153, \"valence\": 0.257, \"tempo\": 95.278, \"year_playlist\": 2022, \"duration_ms\": 253.0}, {\"track_name\": \"Para Quedarte\", \"album\": \"De Pana y Rub\\u00ed\", \"track_id\": \"4a4ixrdj73Zpan02jBrmn3\", \"artist\": \"El Kanka\", \"popularity\": 46, \"danceability\": 0.82, \"energy\": 0.339, \"key\": 0, \"loudness\": -10.739, \"mode\": 1, \"speechiness\": 0.0544, \"acousticness\": 0.848, \"instrumentalness\": 0.0, \"liveness\": 0.349, \"valence\": 0.744, \"tempo\": 124.42, \"year_playlist\": 2022, \"duration_ms\": 277.0}, {\"track_name\": \"Ringui Dingui (con SFDK)\", \"album\": \"Divertimentos (Vol.2)\", \"track_id\": \"7zrmKJCfEHluOWJy8LFnTs\", \"artist\": \"Kase.O\", \"popularity\": 57, \"danceability\": 0.877, \"energy\": 0.792, \"key\": 7, \"loudness\": -5.866, \"mode\": 1, \"speechiness\": 0.0888, \"acousticness\": 0.287, \"instrumentalness\": 0.0, \"liveness\": 0.0804, \"valence\": 0.899, \"tempo\": 119.933, \"year_playlist\": 2022, \"duration_ms\": 205.0}, {\"track_name\": \"Lost Stars\", \"album\": \"V (Deluxe)\", \"track_id\": \"1ejtHfSXQwvaAU7F82FXww\", \"artist\": \"Adam Levine\", \"popularity\": 58, \"danceability\": 0.494, \"energy\": 0.582, \"key\": 0, \"loudness\": -4.769, \"mode\": 1, \"speechiness\": 0.0266, \"acousticness\": 0.102, \"instrumentalness\": 0.0, \"liveness\": 0.0798, \"valence\": 0.416, \"tempo\": 82.025, \"year_playlist\": 2022, \"duration_ms\": 268.0}, {\"track_name\": \"Tiranosaurius Rex\", \"album\": \"Divertimentos (Vol.1)\", \"track_id\": \"6fKCqK8OB2MVnYCHD9moHj\", \"artist\": \"Kase.O\", \"popularity\": 53, \"danceability\": 0.842, \"energy\": 0.757, \"key\": 5, \"loudness\": -6.339, \"mode\": 0, \"speechiness\": 0.281, \"acousticness\": 0.06, \"instrumentalness\": 0.0, \"liveness\": 0.0628, \"valence\": 0.578, \"tempo\": 111.938, \"year_playlist\": 2022, \"duration_ms\": 184.0}, {\"track_name\": \"Solsticio de Invierno\", \"album\": \"Solsticio de Invierno\", \"track_id\": \"2W2NpGW58cqI1n8rNEEamO\", \"artist\": \"TribuTrip\", \"popularity\": 0, \"danceability\": 0.719, \"energy\": 0.602, \"key\": 9, \"loudness\": -13.107, \"mode\": 1, \"speechiness\": 0.0839, \"acousticness\": 0.554, \"instrumentalness\": 0.0, \"liveness\": 0.115, \"valence\": 0.663, \"tempo\": 95.02, \"year_playlist\": 2022, \"duration_ms\": 104.0}, {\"track_name\": \"Demasiadas Mujeres\", \"album\": \"El Madrile\\u00f1o\", \"track_id\": \"3GaGWoU1KfVqgl7vnRHP55\", \"artist\": \"C. Tangana\", \"popularity\": 80, \"danceability\": 0.658, \"energy\": 0.453, \"key\": 9, \"loudness\": -7.378, \"mode\": 0, \"speechiness\": 0.39, \"acousticness\": 0.131, \"instrumentalness\": 0.0002, \"liveness\": 0.0848, \"valence\": 0.358, \"tempo\": 126.043, \"year_playlist\": 2022, \"duration_ms\": 154.0}, {\"track_name\": \"High Today (feat. Logic)\", \"album\": \"The Saga of Wiz Khalifa\", \"track_id\": \"6TkwBmyNs21ihKTi8Bp0eo\", \"artist\": \"Wiz Khalifa\", \"popularity\": 57, \"danceability\": 0.775, \"energy\": 0.629, \"key\": 8, \"loudness\": -5.315, \"mode\": 1, \"speechiness\": 0.0669, \"acousticness\": 0.269, \"instrumentalness\": 0.0, \"liveness\": 0.111, \"valence\": 0.278, \"tempo\": 112.835, \"year_playlist\": 2022, \"duration_ms\": 200.0}, {\"track_name\": \"Bejo: Bzrp Music Sessions, Vol. 27\", \"album\": \"Bejo: Bzrp Music Sessions, Vol. 27\", \"track_id\": \"2e3WiB8E5tf96JObVIFqWB\", \"artist\": \"Bizarrap\", \"popularity\": 43, \"danceability\": 0.78, \"energy\": 0.695, \"key\": 0, \"loudness\": -6.716, \"mode\": 1, \"speechiness\": 0.474, \"acousticness\": 0.291, \"instrumentalness\": 0.0, \"liveness\": 0.089, \"valence\": 0.729, \"tempo\": 80.196, \"year_playlist\": 2022, \"duration_ms\": 175.0}, {\"track_name\": \"Cenizas\", \"album\": \"Cenizas\", \"track_id\": \"4PumtpAh2keqamD9wy2q3F\", \"artist\": \"Luisaker\", \"popularity\": 0, \"danceability\": 0.856, \"energy\": 0.65, \"key\": 7, \"loudness\": -7.545, \"mode\": 1, \"speechiness\": 0.157, \"acousticness\": 0.141, \"instrumentalness\": 0.0, \"liveness\": 0.105, \"valence\": 0.786, \"tempo\": 95.032, \"year_playlist\": 2022, \"duration_ms\": 170.0}, {\"track_name\": \"En tu agujero\", \"album\": \"Besos de Perro\", \"track_id\": \"2ncjn6hRXJvtWWKlmUuNmw\", \"artist\": \"Marea\", \"popularity\": 50, \"danceability\": 0.561, \"energy\": 0.861, \"key\": 5, \"loudness\": -4.791, \"mode\": 1, \"speechiness\": 0.0672, \"acousticness\": 0.212, \"instrumentalness\": 0.0088, \"liveness\": 0.0841, \"valence\": 0.346, \"tempo\": 92.894, \"year_playlist\": 2022, \"duration_ms\": 304.0}, {\"track_name\": \"Dani Ribba: Bzrp Music Sessions, Vol. 24\", \"album\": \"Dani Ribba: Bzrp Music Sessions, Vol. 24\", \"track_id\": \"6TNuRFdNazLbbVQTRE8pZg\", \"artist\": \"Bizarrap\", \"popularity\": 45, \"danceability\": 0.913, \"energy\": 0.689, \"key\": 11, \"loudness\": -7.74, \"mode\": 1, \"speechiness\": 0.349, \"acousticness\": 0.287, \"instrumentalness\": 0.0, \"liveness\": 0.104, \"valence\": 0.851, \"tempo\": 129.889, \"year_playlist\": 2022, \"duration_ms\": 173.0}, {\"track_name\": \"Tarde\", \"album\": \"Tarde\", \"track_id\": \"1E1y2OMo7uCdDR8CyctL9B\", \"artist\": \"Luisaker\", \"popularity\": 0, \"danceability\": 0.837, \"energy\": 0.659, \"key\": 4, \"loudness\": -8.202, \"mode\": 0, \"speechiness\": 0.141, \"acousticness\": 0.55, \"instrumentalness\": 0.0, \"liveness\": 0.107, \"valence\": 0.966, \"tempo\": 135.832, \"year_playlist\": 2022, \"duration_ms\": 226.0}, {\"track_name\": \"#RapSinCorte L\", \"album\": \"#RapSinCorte L\", \"track_id\": \"0cc5PVt7EoRiRCjGI98YJ3\", \"artist\": \"Foyone\", \"popularity\": 34, \"danceability\": 0.579, \"energy\": 0.784, \"key\": 11, \"loudness\": -6.991, \"mode\": 0, \"speechiness\": 0.273, \"acousticness\": 0.203, \"instrumentalness\": 0.0, \"liveness\": 0.34, \"valence\": 0.804, \"tempo\": 91.451, \"year_playlist\": 2022, \"duration_ms\": 509.0}, {\"track_name\": \"Este Verano\", \"album\": \"\\u2609c\\u00e1ncer \\u2191capricornio \\u263evirgo\", \"track_id\": \"5570VMVvXhONghMCBbzZZE\", \"artist\": \"Cruz Cafun\\u00e9\", \"popularity\": 46, \"danceability\": 0.736, \"energy\": 0.557, \"key\": 1, \"loudness\": -9.36, \"mode\": 1, \"speechiness\": 0.104, \"acousticness\": 0.112, \"instrumentalness\": 0.0966, \"liveness\": 0.0969, \"valence\": 0.475, \"tempo\": 85.998, \"year_playlist\": 2022, \"duration_ms\": 176.0}, {\"track_name\": \"El S\\u00edndrome Anuel\", \"album\": \"El S\\u00edndrome Anuel\", \"track_id\": \"6Io9NpbpcUli1GihajZTUy\", \"artist\": \"Foyone\", \"popularity\": 19, \"danceability\": 0.801, \"energy\": 0.933, \"key\": 11, \"loudness\": -6.335, \"mode\": 0, \"speechiness\": 0.408, \"acousticness\": 0.214, \"instrumentalness\": 0.0, \"liveness\": 0.282, \"valence\": 0.393, \"tempo\": 92.141, \"year_playlist\": 2022, \"duration_ms\": 365.0}, {\"track_name\": \"Ladders\", \"album\": \"Swimming\", \"track_id\": \"39NDBdU5Xkm5pCFGa5kZtI\", \"artist\": \"Mac Miller\", \"popularity\": 71, \"danceability\": 0.802, \"energy\": 0.463, \"key\": 8, \"loudness\": -8.379, \"mode\": 1, \"speechiness\": 0.162, \"acousticness\": 0.236, \"instrumentalness\": 0.00531, \"liveness\": 0.105, \"valence\": 0.291, \"tempo\": 103.961, \"year_playlist\": 2022, \"duration_ms\": 287.0}, {\"track_name\": \"Alitas de mar (feat. Juanito Makand\\u00e9)\", \"album\": \"Crema\", \"track_id\": \"7ikoui4eGrHzzcOEaXtdZQ\", \"artist\": \"Tu Otra Bonita\", \"popularity\": 52, \"danceability\": 0.653, \"energy\": 0.605, \"key\": 7, \"loudness\": -6.371, \"mode\": 1, \"speechiness\": 0.0368, \"acousticness\": 0.581, \"instrumentalness\": 0.0, \"liveness\": 0.101, \"valence\": 0.531, \"tempo\": 157.838, \"year_playlist\": 2022, \"duration_ms\": 194.0}, {\"track_name\": \"Mina el Hammani\", \"album\": \"Moonlight922\", \"track_id\": \"09Ae1id448lmrfETbExaRc\", \"artist\": \"Cruz Cafun\\u00e9\", \"popularity\": 51, \"danceability\": 0.851, \"energy\": 0.476, \"key\": 11, \"loudness\": -10.8, \"mode\": 0, \"speechiness\": 0.288, \"acousticness\": 0.162, \"instrumentalness\": 1.05e-05, \"liveness\": 0.168, \"valence\": 0.223, \"tempo\": 124.992, \"year_playlist\": 2022, \"duration_ms\": 197.0}, {\"track_name\": \"Si T\\u00fa Supieras\", \"album\": \"Hueso y Carne\", \"track_id\": \"7gJcw2AISLuYda00yodaoF\", \"artist\": \"Iratxo\", \"popularity\": 8, \"danceability\": 0.433, \"energy\": 0.579, \"key\": 2, \"loudness\": -4.333, \"mode\": 0, \"speechiness\": 0.0901, \"acousticness\": 0.857, \"instrumentalness\": 4.35e-06, \"liveness\": 0.102, \"valence\": 0.452, \"tempo\": 80.021, \"year_playlist\": 2022, \"duration_ms\": 295.0}, {\"track_name\": \"Qu\\u00e9date\", \"album\": \"Qu\\u00e9date\", \"track_id\": \"0Zk2R0TwYeOpYUePX7Nm6x\", \"artist\": \"Luisaker\", \"popularity\": 0, \"danceability\": 0.798, \"energy\": 0.572, \"key\": 0, \"loudness\": -10.863, \"mode\": 0, \"speechiness\": 0.225, \"acousticness\": 0.514, \"instrumentalness\": 0.0, \"liveness\": 0.0859, \"valence\": 0.543, \"tempo\": 140.05, \"year_playlist\": 2022, \"duration_ms\": 146.0}, {\"track_name\": \"Lose Yourself - From \\\"8 Mile\\\" Soundtrack\", \"album\": \"Just Lose It\", \"track_id\": \"1v7L65Lzy0j0vdpRjJewt1\", \"artist\": \"Eminem\", \"popularity\": 80, \"danceability\": 0.686, \"energy\": 0.735, \"key\": 2, \"loudness\": -4.616, \"mode\": 1, \"speechiness\": 0.264, \"acousticness\": 0.00921, \"instrumentalness\": 0.00066, \"liveness\": 0.342, \"valence\": 0.0596, \"tempo\": 171.355, \"year_playlist\": 2022, \"duration_ms\": 322.0}, {\"track_name\": \"Young and Able\", \"album\": \"Long Time Ago\", \"track_id\": \"5yQWk2KWtPa4p7p4rCMr2A\", \"artist\": \"Current Swell\", \"popularity\": 1, \"danceability\": 0.671, \"energy\": 0.504, \"key\": 5, \"loudness\": -10.827, \"mode\": 1, \"speechiness\": 0.0383, \"acousticness\": 0.788, \"instrumentalness\": 0.0, \"liveness\": 0.11, \"valence\": 0.671, \"tempo\": 144.215, \"year_playlist\": 2022, \"duration_ms\": 247.0}, {\"track_name\": \"Es \\u00c9pico\", \"album\": \"Muerte\", \"track_id\": \"2kd0T6zgABT8P0s2h9QU5O\", \"artist\": \"Canserbero\", \"popularity\": 71, \"danceability\": 0.665, \"energy\": 0.816, \"key\": 0, \"loudness\": -6.753, \"mode\": 1, \"speechiness\": 0.266, \"acousticness\": 0.448, \"instrumentalness\": 0.0, \"liveness\": 0.297, \"valence\": 0.745, \"tempo\": 93.37, \"year_playlist\": 2022, \"duration_ms\": 362.0}, {\"track_name\": \"CAMBIA!\", \"album\": \"El Madrile\\u00f1o\", \"track_id\": \"5cNJO43VKHxD0XGbkhboZu\", \"artist\": \"C. Tangana\", \"popularity\": 66, \"danceability\": 0.557, \"energy\": 0.687, \"key\": 2, \"loudness\": -4.721, \"mode\": 1, \"speechiness\": 0.0814, \"acousticness\": 0.551, \"instrumentalness\": 5.28e-05, \"liveness\": 0.0975, \"valence\": 0.638, \"tempo\": 105.508, \"year_playlist\": 2022, \"duration_ms\": 188.0}, {\"track_name\": \"Soy un pringao\", \"album\": \"Soy un pringao\", \"track_id\": \"1FeCQhO1BNOHOuwEnz1rCd\", \"artist\": \"Santiuve\", \"popularity\": 29, \"danceability\": 0.907, \"energy\": 0.244, \"key\": 5, \"loudness\": -9.178, \"mode\": 1, \"speechiness\": 0.292, \"acousticness\": 0.958, \"instrumentalness\": 4.25e-06, \"liveness\": 0.0981, \"valence\": 0.824, \"tempo\": 139.84, \"year_playlist\": 2022, \"duration_ms\": 181.0}, {\"track_name\": \"N\\u00edtido\", \"album\": \"N\\u00edtido\", \"track_id\": \"5gEcJjcrveT2gRuyPyPeDt\", \"artist\": \"Luisaker\", \"popularity\": 0, \"danceability\": 0.723, \"energy\": 0.539, \"key\": 6, \"loudness\": -10.094, \"mode\": 1, \"speechiness\": 0.417, \"acousticness\": 0.808, \"instrumentalness\": 0.0, \"liveness\": 0.283, \"valence\": 0.802, \"tempo\": 80.11, \"year_playlist\": 2022, \"duration_ms\": 246.0}, {\"track_name\": \"Nmout 3lik\", \"album\": \"\\u2609c\\u00e1ncer \\u2191capricornio \\u263evirgo\", \"track_id\": \"05ZKGe9Di06EQvEYkLJnbk\", \"artist\": \"Cruz Cafun\\u00e9\", \"popularity\": 52, \"danceability\": 0.79, \"energy\": 0.529, \"key\": 7, \"loudness\": -9.391, \"mode\": 1, \"speechiness\": 0.153, \"acousticness\": 0.157, \"instrumentalness\": 0.332, \"liveness\": 0.435, \"valence\": 0.555, \"tempo\": 129.029, \"year_playlist\": 2022, \"duration_ms\": 172.0}, {\"track_name\": \"Declaraci\\u00f3 De Principis\", \"album\": \"Les Ratlles Del Banyador\", \"track_id\": \"5Fyer3Bfi1oRz43IZ81atV\", \"artist\": \"La iaia\", \"popularity\": 34, \"danceability\": 0.741, \"energy\": 0.866, \"key\": 1, \"loudness\": -6.824, \"mode\": 1, \"speechiness\": 0.0526, \"acousticness\": 0.617, \"instrumentalness\": 0.127, \"liveness\": 0.131, \"valence\": 0.589, \"tempo\": 132.03, \"year_playlist\": 2022, \"duration_ms\": 281.0}, {\"track_name\": \"Lo Que en Silencio Guardo\", \"album\": \"Recopilatorio de Temas In\\u00e9ditos\", \"track_id\": \"5ZSHDuhxImgtzSglqEPWJ3\", \"artist\": \"Kaze\", \"popularity\": 50, \"danceability\": 0.778, \"energy\": 0.718, \"key\": 7, \"loudness\": -7.264, \"mode\": 0, \"speechiness\": 0.303, \"acousticness\": 0.58, \"instrumentalness\": 0.0, \"liveness\": 0.12, \"valence\": 0.965, \"tempo\": 93.207, \"year_playlist\": 2022, \"duration_ms\": 165.0}, {\"track_name\": \"Hong Kong\", \"album\": \"El Madrile\\u00f1o\", \"track_id\": \"4kD4ZzJ1rZIVfJ9qw85CVT\", \"artist\": \"C. Tangana\", \"popularity\": 59, \"danceability\": 0.649, \"energy\": 0.376, \"key\": 4, \"loudness\": -7.528, \"mode\": 1, \"speechiness\": 0.039, \"acousticness\": 0.0626, \"instrumentalness\": 2.72e-05, \"liveness\": 0.0911, \"valence\": 0.434, \"tempo\": 97.848, \"year_playlist\": 2022, \"duration_ms\": 204.0}, {\"track_name\": \"Foxy Eyes\", \"album\": \"\\u2609c\\u00e1ncer \\u2191capricornio \\u263evirgo\", \"track_id\": \"6N6q3sjuenff6vQpalPHuH\", \"artist\": \"Cruz Cafun\\u00e9\", \"popularity\": 43, \"danceability\": 0.751, \"energy\": 0.287, \"key\": 9, \"loudness\": -13.868, \"mode\": 1, \"speechiness\": 0.188, \"acousticness\": 0.143, \"instrumentalness\": 0.000983, \"liveness\": 0.0804, \"valence\": 0.349, \"tempo\": 135.958, \"year_playlist\": 2022, \"duration_ms\": 260.0}, {\"track_name\": \"Demons\", \"album\": \"Night Visions\", \"track_id\": \"5qaEfEh1AtSdrdrByCP7qR\", \"artist\": \"Imagine Dragons\", \"popularity\": 84, \"danceability\": 0.505, \"energy\": 0.71, \"key\": 3, \"loudness\": -3.015, \"mode\": 1, \"speechiness\": 0.0321, \"acousticness\": 0.19, \"instrumentalness\": 0.00025, \"liveness\": 0.269, \"valence\": 0.428, \"tempo\": 89.938, \"year_playlist\": 2022, \"duration_ms\": 178.0}, {\"track_name\": \"Me Maten - Live at NPR's Tiny Desk\", \"album\": \"El Madrile\\u00f1o (Live at NPR's Tiny Desk)\", \"track_id\": \"5py3FJrHEuR67BjR7wm8uj\", \"artist\": \"C. Tangana\", \"popularity\": 63, \"danceability\": 0.614, \"energy\": 0.583, \"key\": 7, \"loudness\": -10.012, \"mode\": 1, \"speechiness\": 0.523, \"acousticness\": 0.526, \"instrumentalness\": 0.0, \"liveness\": 0.718, \"valence\": 0.794, \"tempo\": 79.04, \"year_playlist\": 2022, \"duration_ms\": 242.0}, {\"track_name\": \"Pan duro (feat. Fito y Fitipaldis)\", \"album\": \"Fitograf\\u00eda\", \"track_id\": \"76ruU3fgd1IuX98ugW9PMZ\", \"artist\": \"Marea\", \"popularity\": 44, \"danceability\": 0.475, \"energy\": 0.561, \"key\": 4, \"loudness\": -9.24, \"mode\": 0, \"speechiness\": 0.0305, \"acousticness\": 0.545, \"instrumentalness\": 0.000179, \"liveness\": 0.104, \"valence\": 0.627, \"tempo\": 145.465, \"year_playlist\": 2022, \"duration_ms\": 222.0}, {\"track_name\": \"Zoo Funk\", \"album\": \"Funk Experience\", \"track_id\": \"1m57M3GAKCBkiyzXsrizeo\", \"artist\": \"R De Rumba\", \"popularity\": 34, \"danceability\": 0.848, \"energy\": 0.832, \"key\": 0, \"loudness\": -4.352, \"mode\": 1, \"speechiness\": 0.192, \"acousticness\": 0.287, \"instrumentalness\": 0.0, \"liveness\": 0.239, \"valence\": 0.832, \"tempo\": 101.984, \"year_playlist\": 2022, \"duration_ms\": 248.0}, {\"track_name\": \"Rockadown Subway Session\", \"album\": \"Rockadown Subway Session\", \"track_id\": \"3bdhZxL276JwNlNsQgu51s\", \"artist\": \"Vanupi\\u00e9\", \"popularity\": 0, \"danceability\": 0.65, \"energy\": 0.648, \"key\": 6, \"loudness\": -6.694, \"mode\": 0, \"speechiness\": 0.339, \"acousticness\": 0.525, \"instrumentalness\": 0.0, \"liveness\": 0.683, \"valence\": 0.792, \"tempo\": 140.607, \"year_playlist\": 2022, \"duration_ms\": 214.0}, {\"track_name\": \"Je veux\", \"album\": \"Zaz\", \"track_id\": \"734dz1YaFITwawPpM25fSt\", \"artist\": \"Zaz\", \"popularity\": 68, \"danceability\": 0.525, \"energy\": 0.807, \"key\": 2, \"loudness\": -6.366, \"mode\": 0, \"speechiness\": 0.0725, \"acousticness\": 0.251, \"instrumentalness\": 0.0, \"liveness\": 0.0504, \"valence\": 0.741, \"tempo\": 155.397, \"year_playlist\": 2022, \"duration_ms\": 216.0}, {\"track_name\": \"Redemption Song\", \"album\": \"Uprising\", \"track_id\": \"26PwuMotZqcczKLHi4Htz3\", \"artist\": \"Bob Marley & The Wailers\", \"popularity\": 69, \"danceability\": 0.671, \"energy\": 0.256, \"key\": 7, \"loudness\": -10.743, \"mode\": 1, \"speechiness\": 0.0387, \"acousticness\": 0.608, \"instrumentalness\": 0.0, \"liveness\": 0.0737, \"valence\": 0.694, \"tempo\": 115.871, \"year_playlist\": 2022, \"duration_ms\": 234.0}, {\"track_name\": \"Last Kiss\", \"album\": \"Last Kiss\", \"track_id\": \"0QnONzv3TvHAWk294h6DaQ\", \"artist\": \"Pearl Jam\", \"popularity\": 71, \"danceability\": 0.622, \"energy\": 0.692, \"key\": 7, \"loudness\": -6.97, \"mode\": 1, \"speechiness\": 0.0276, \"acousticness\": 0.363, \"instrumentalness\": 0.000158, \"liveness\": 0.193, \"valence\": 0.774, \"tempo\": 112.053, \"year_playlist\": 2022, \"duration_ms\": 195.0}, {\"track_name\": \"Zinedine\", \"album\": \"Zinedine\", \"track_id\": \"6DYrsZsQMqzA0ZaHmBKUjW\", \"artist\": \"Ayax y Prok\", \"popularity\": 0, \"danceability\": 0.818, \"energy\": 0.63, \"key\": 6, \"loudness\": -8.743, \"mode\": 0, \"speechiness\": 0.466, \"acousticness\": 0.0257, \"instrumentalness\": 0.0, \"liveness\": 0.125, \"valence\": 0.846, \"tempo\": 95.984, \"year_playlist\": 2022, \"duration_ms\": 127.0}]}}, {\"mode\": \"vega-lite\"});\n",
       "</script>"
      ],
      "text/plain": [
       "alt.Chart(...)"
      ]
     },
     "execution_count": 22,
     "metadata": {},
     "output_type": "execute_result"
    }
   ],
   "source": [
    "(alt.\n",
    "  Chart(df_historical).\n",
    "  mark_bar().\n",
    "  encode(alt.X('tempo:Q', bin=True), y='count()').\n",
    "  properties(height=300, width=400).configure_mark(\n",
    "    opacity=0.2,\n",
    "    color='green'))\n",
    "\n",
    "  #The arguments in the encode function indicates that the tempo column will be divided into \n",
    "  # bins and the number of observations in each bin will be counted.\n",
    "  "
   ]
  },
  {
   "cell_type": "code",
   "execution_count": 23,
   "metadata": {},
   "outputs": [
    {
     "data": {
      "text/plain": [
       "low       288\n",
       "medium    184\n",
       "high       62\n",
       "Name: tempo_str, dtype: int64"
      ]
     },
     "execution_count": 23,
     "metadata": {},
     "output_type": "execute_result"
    }
   ],
   "source": [
    "# It seems like the tempo variable can be converted to a categorical variable that contains 3 categories. \n",
    "# Pandas has the cut and qcut functions for such tasks.\n",
    "df_historical['tempo_str'] = pd.cut(df_historical['tempo'], bins=3, \n",
    "labels=['low','medium','high'])\n",
    "df_historical.tempo_str.value_counts()"
   ]
  },
  {
   "cell_type": "code",
   "execution_count": 24,
   "metadata": {},
   "outputs": [],
   "source": [
    "most_played_artists_by_count = df_historical.groupby(by='artist')['track_name'].count().sort_values(ascending=False)[:15]"
   ]
  },
  {
   "cell_type": "code",
   "execution_count": 25,
   "metadata": {},
   "outputs": [
    {
     "data": {
      "application/vnd.plotly.v1+json": {
       "config": {
        "plotlyServerURL": "https://plot.ly"
       },
       "data": [
        {
         "marker": {
          "color": [
           "RGB(103, 0, 31)",
           "RGB(178, 24, 43)",
           "RGB(214, 96, 77)",
           "RGB(244, 165, 130)",
           "RGB(253, 219, 199)",
           "RGB(247, 247, 247)",
           "RGB(209, 229, 240)",
           "RGB(146, 197, 222)",
           "RGB(67, 147, 195)",
           "RGB(33, 102, 172)",
           "RGB(5, 48, 97)"
          ]
         },
         "opacity": 1,
         "textposition": "auto",
         "type": "bar",
         "x": [
          "Ayax y Prok",
          "Cruz Cafuné",
          "C. Tangana",
          "FERNANDOCOSTA",
          "Kase.O",
          "Foo Fighters",
          "BROCKHAMPTON",
          "Luisaker",
          "Bejo",
          "Natos y Waor",
          "Foyone",
          "Imagine Dragons",
          "Marea",
          "Mac Miller",
          "Bizarrap"
         ],
         "y": [
          20,
          20,
          18,
          18,
          16,
          11,
          10,
          10,
          10,
          9,
          9,
          8,
          8,
          8,
          7
         ]
        }
       ],
       "layout": {
        "template": {
         "data": {
          "bar": [
           {
            "error_x": {
             "color": "#2a3f5f"
            },
            "error_y": {
             "color": "#2a3f5f"
            },
            "marker": {
             "line": {
              "color": "#E5ECF6",
              "width": 0.5
             },
             "pattern": {
              "fillmode": "overlay",
              "size": 10,
              "solidity": 0.2
             }
            },
            "type": "bar"
           }
          ],
          "barpolar": [
           {
            "marker": {
             "line": {
              "color": "#E5ECF6",
              "width": 0.5
             },
             "pattern": {
              "fillmode": "overlay",
              "size": 10,
              "solidity": 0.2
             }
            },
            "type": "barpolar"
           }
          ],
          "carpet": [
           {
            "aaxis": {
             "endlinecolor": "#2a3f5f",
             "gridcolor": "white",
             "linecolor": "white",
             "minorgridcolor": "white",
             "startlinecolor": "#2a3f5f"
            },
            "baxis": {
             "endlinecolor": "#2a3f5f",
             "gridcolor": "white",
             "linecolor": "white",
             "minorgridcolor": "white",
             "startlinecolor": "#2a3f5f"
            },
            "type": "carpet"
           }
          ],
          "choropleth": [
           {
            "colorbar": {
             "outlinewidth": 0,
             "ticks": ""
            },
            "type": "choropleth"
           }
          ],
          "contour": [
           {
            "colorbar": {
             "outlinewidth": 0,
             "ticks": ""
            },
            "colorscale": [
             [
              0,
              "#0d0887"
             ],
             [
              0.1111111111111111,
              "#46039f"
             ],
             [
              0.2222222222222222,
              "#7201a8"
             ],
             [
              0.3333333333333333,
              "#9c179e"
             ],
             [
              0.4444444444444444,
              "#bd3786"
             ],
             [
              0.5555555555555556,
              "#d8576b"
             ],
             [
              0.6666666666666666,
              "#ed7953"
             ],
             [
              0.7777777777777778,
              "#fb9f3a"
             ],
             [
              0.8888888888888888,
              "#fdca26"
             ],
             [
              1,
              "#f0f921"
             ]
            ],
            "type": "contour"
           }
          ],
          "contourcarpet": [
           {
            "colorbar": {
             "outlinewidth": 0,
             "ticks": ""
            },
            "type": "contourcarpet"
           }
          ],
          "heatmap": [
           {
            "colorbar": {
             "outlinewidth": 0,
             "ticks": ""
            },
            "colorscale": [
             [
              0,
              "#0d0887"
             ],
             [
              0.1111111111111111,
              "#46039f"
             ],
             [
              0.2222222222222222,
              "#7201a8"
             ],
             [
              0.3333333333333333,
              "#9c179e"
             ],
             [
              0.4444444444444444,
              "#bd3786"
             ],
             [
              0.5555555555555556,
              "#d8576b"
             ],
             [
              0.6666666666666666,
              "#ed7953"
             ],
             [
              0.7777777777777778,
              "#fb9f3a"
             ],
             [
              0.8888888888888888,
              "#fdca26"
             ],
             [
              1,
              "#f0f921"
             ]
            ],
            "type": "heatmap"
           }
          ],
          "heatmapgl": [
           {
            "colorbar": {
             "outlinewidth": 0,
             "ticks": ""
            },
            "colorscale": [
             [
              0,
              "#0d0887"
             ],
             [
              0.1111111111111111,
              "#46039f"
             ],
             [
              0.2222222222222222,
              "#7201a8"
             ],
             [
              0.3333333333333333,
              "#9c179e"
             ],
             [
              0.4444444444444444,
              "#bd3786"
             ],
             [
              0.5555555555555556,
              "#d8576b"
             ],
             [
              0.6666666666666666,
              "#ed7953"
             ],
             [
              0.7777777777777778,
              "#fb9f3a"
             ],
             [
              0.8888888888888888,
              "#fdca26"
             ],
             [
              1,
              "#f0f921"
             ]
            ],
            "type": "heatmapgl"
           }
          ],
          "histogram": [
           {
            "marker": {
             "pattern": {
              "fillmode": "overlay",
              "size": 10,
              "solidity": 0.2
             }
            },
            "type": "histogram"
           }
          ],
          "histogram2d": [
           {
            "colorbar": {
             "outlinewidth": 0,
             "ticks": ""
            },
            "colorscale": [
             [
              0,
              "#0d0887"
             ],
             [
              0.1111111111111111,
              "#46039f"
             ],
             [
              0.2222222222222222,
              "#7201a8"
             ],
             [
              0.3333333333333333,
              "#9c179e"
             ],
             [
              0.4444444444444444,
              "#bd3786"
             ],
             [
              0.5555555555555556,
              "#d8576b"
             ],
             [
              0.6666666666666666,
              "#ed7953"
             ],
             [
              0.7777777777777778,
              "#fb9f3a"
             ],
             [
              0.8888888888888888,
              "#fdca26"
             ],
             [
              1,
              "#f0f921"
             ]
            ],
            "type": "histogram2d"
           }
          ],
          "histogram2dcontour": [
           {
            "colorbar": {
             "outlinewidth": 0,
             "ticks": ""
            },
            "colorscale": [
             [
              0,
              "#0d0887"
             ],
             [
              0.1111111111111111,
              "#46039f"
             ],
             [
              0.2222222222222222,
              "#7201a8"
             ],
             [
              0.3333333333333333,
              "#9c179e"
             ],
             [
              0.4444444444444444,
              "#bd3786"
             ],
             [
              0.5555555555555556,
              "#d8576b"
             ],
             [
              0.6666666666666666,
              "#ed7953"
             ],
             [
              0.7777777777777778,
              "#fb9f3a"
             ],
             [
              0.8888888888888888,
              "#fdca26"
             ],
             [
              1,
              "#f0f921"
             ]
            ],
            "type": "histogram2dcontour"
           }
          ],
          "mesh3d": [
           {
            "colorbar": {
             "outlinewidth": 0,
             "ticks": ""
            },
            "type": "mesh3d"
           }
          ],
          "parcoords": [
           {
            "line": {
             "colorbar": {
              "outlinewidth": 0,
              "ticks": ""
             }
            },
            "type": "parcoords"
           }
          ],
          "pie": [
           {
            "automargin": true,
            "type": "pie"
           }
          ],
          "scatter": [
           {
            "marker": {
             "colorbar": {
              "outlinewidth": 0,
              "ticks": ""
             }
            },
            "type": "scatter"
           }
          ],
          "scatter3d": [
           {
            "line": {
             "colorbar": {
              "outlinewidth": 0,
              "ticks": ""
             }
            },
            "marker": {
             "colorbar": {
              "outlinewidth": 0,
              "ticks": ""
             }
            },
            "type": "scatter3d"
           }
          ],
          "scattercarpet": [
           {
            "marker": {
             "colorbar": {
              "outlinewidth": 0,
              "ticks": ""
             }
            },
            "type": "scattercarpet"
           }
          ],
          "scattergeo": [
           {
            "marker": {
             "colorbar": {
              "outlinewidth": 0,
              "ticks": ""
             }
            },
            "type": "scattergeo"
           }
          ],
          "scattergl": [
           {
            "marker": {
             "colorbar": {
              "outlinewidth": 0,
              "ticks": ""
             }
            },
            "type": "scattergl"
           }
          ],
          "scattermapbox": [
           {
            "marker": {
             "colorbar": {
              "outlinewidth": 0,
              "ticks": ""
             }
            },
            "type": "scattermapbox"
           }
          ],
          "scatterpolar": [
           {
            "marker": {
             "colorbar": {
              "outlinewidth": 0,
              "ticks": ""
             }
            },
            "type": "scatterpolar"
           }
          ],
          "scatterpolargl": [
           {
            "marker": {
             "colorbar": {
              "outlinewidth": 0,
              "ticks": ""
             }
            },
            "type": "scatterpolargl"
           }
          ],
          "scatterternary": [
           {
            "marker": {
             "colorbar": {
              "outlinewidth": 0,
              "ticks": ""
             }
            },
            "type": "scatterternary"
           }
          ],
          "surface": [
           {
            "colorbar": {
             "outlinewidth": 0,
             "ticks": ""
            },
            "colorscale": [
             [
              0,
              "#0d0887"
             ],
             [
              0.1111111111111111,
              "#46039f"
             ],
             [
              0.2222222222222222,
              "#7201a8"
             ],
             [
              0.3333333333333333,
              "#9c179e"
             ],
             [
              0.4444444444444444,
              "#bd3786"
             ],
             [
              0.5555555555555556,
              "#d8576b"
             ],
             [
              0.6666666666666666,
              "#ed7953"
             ],
             [
              0.7777777777777778,
              "#fb9f3a"
             ],
             [
              0.8888888888888888,
              "#fdca26"
             ],
             [
              1,
              "#f0f921"
             ]
            ],
            "type": "surface"
           }
          ],
          "table": [
           {
            "cells": {
             "fill": {
              "color": "#EBF0F8"
             },
             "line": {
              "color": "white"
             }
            },
            "header": {
             "fill": {
              "color": "#C8D4E3"
             },
             "line": {
              "color": "white"
             }
            },
            "type": "table"
           }
          ]
         },
         "layout": {
          "annotationdefaults": {
           "arrowcolor": "#2a3f5f",
           "arrowhead": 0,
           "arrowwidth": 1
          },
          "autotypenumbers": "strict",
          "coloraxis": {
           "colorbar": {
            "outlinewidth": 0,
            "ticks": ""
           }
          },
          "colorscale": {
           "diverging": [
            [
             0,
             "#8e0152"
            ],
            [
             0.1,
             "#c51b7d"
            ],
            [
             0.2,
             "#de77ae"
            ],
            [
             0.3,
             "#f1b6da"
            ],
            [
             0.4,
             "#fde0ef"
            ],
            [
             0.5,
             "#f7f7f7"
            ],
            [
             0.6,
             "#e6f5d0"
            ],
            [
             0.7,
             "#b8e186"
            ],
            [
             0.8,
             "#7fbc41"
            ],
            [
             0.9,
             "#4d9221"
            ],
            [
             1,
             "#276419"
            ]
           ],
           "sequential": [
            [
             0,
             "#0d0887"
            ],
            [
             0.1111111111111111,
             "#46039f"
            ],
            [
             0.2222222222222222,
             "#7201a8"
            ],
            [
             0.3333333333333333,
             "#9c179e"
            ],
            [
             0.4444444444444444,
             "#bd3786"
            ],
            [
             0.5555555555555556,
             "#d8576b"
            ],
            [
             0.6666666666666666,
             "#ed7953"
            ],
            [
             0.7777777777777778,
             "#fb9f3a"
            ],
            [
             0.8888888888888888,
             "#fdca26"
            ],
            [
             1,
             "#f0f921"
            ]
           ],
           "sequentialminus": [
            [
             0,
             "#0d0887"
            ],
            [
             0.1111111111111111,
             "#46039f"
            ],
            [
             0.2222222222222222,
             "#7201a8"
            ],
            [
             0.3333333333333333,
             "#9c179e"
            ],
            [
             0.4444444444444444,
             "#bd3786"
            ],
            [
             0.5555555555555556,
             "#d8576b"
            ],
            [
             0.6666666666666666,
             "#ed7953"
            ],
            [
             0.7777777777777778,
             "#fb9f3a"
            ],
            [
             0.8888888888888888,
             "#fdca26"
            ],
            [
             1,
             "#f0f921"
            ]
           ]
          },
          "colorway": [
           "#636efa",
           "#EF553B",
           "#00cc96",
           "#ab63fa",
           "#FFA15A",
           "#19d3f3",
           "#FF6692",
           "#B6E880",
           "#FF97FF",
           "#FECB52"
          ],
          "font": {
           "color": "#2a3f5f"
          },
          "geo": {
           "bgcolor": "white",
           "lakecolor": "white",
           "landcolor": "#E5ECF6",
           "showlakes": true,
           "showland": true,
           "subunitcolor": "white"
          },
          "hoverlabel": {
           "align": "left"
          },
          "hovermode": "closest",
          "mapbox": {
           "style": "light"
          },
          "paper_bgcolor": "white",
          "plot_bgcolor": "#E5ECF6",
          "polar": {
           "angularaxis": {
            "gridcolor": "white",
            "linecolor": "white",
            "ticks": ""
           },
           "bgcolor": "#E5ECF6",
           "radialaxis": {
            "gridcolor": "white",
            "linecolor": "white",
            "ticks": ""
           }
          },
          "scene": {
           "xaxis": {
            "backgroundcolor": "#E5ECF6",
            "gridcolor": "white",
            "gridwidth": 2,
            "linecolor": "white",
            "showbackground": true,
            "ticks": "",
            "zerolinecolor": "white"
           },
           "yaxis": {
            "backgroundcolor": "#E5ECF6",
            "gridcolor": "white",
            "gridwidth": 2,
            "linecolor": "white",
            "showbackground": true,
            "ticks": "",
            "zerolinecolor": "white"
           },
           "zaxis": {
            "backgroundcolor": "#E5ECF6",
            "gridcolor": "white",
            "gridwidth": 2,
            "linecolor": "white",
            "showbackground": true,
            "ticks": "",
            "zerolinecolor": "white"
           }
          },
          "shapedefaults": {
           "line": {
            "color": "#2a3f5f"
           }
          },
          "ternary": {
           "aaxis": {
            "gridcolor": "white",
            "linecolor": "white",
            "ticks": ""
           },
           "baxis": {
            "gridcolor": "white",
            "linecolor": "white",
            "ticks": ""
           },
           "bgcolor": "#E5ECF6",
           "caxis": {
            "gridcolor": "white",
            "linecolor": "white",
            "ticks": ""
           }
          },
          "title": {
           "x": 0.05
          },
          "xaxis": {
           "automargin": true,
           "gridcolor": "white",
           "linecolor": "white",
           "ticks": "",
           "title": {
            "standoff": 15
           },
           "zerolinecolor": "white",
           "zerolinewidth": 2
          },
          "yaxis": {
           "automargin": true,
           "gridcolor": "white",
           "linecolor": "white",
           "ticks": "",
           "title": {
            "standoff": 15
           },
           "zerolinecolor": "white",
           "zerolinewidth": 2
          }
         }
        }
       }
      }
     },
     "metadata": {},
     "output_type": "display_data"
    }
   ],
   "source": [
    "\n",
    "# Visualize the most popular artists with a standard bar chart\n",
    "\n",
    "colors = ['RGB(103, 0, 31)','RGB(178, 24, 43)','RGB(214, 96, 77)','RGB(244, 165, 130)','RGB(253, 219, 199)',\n",
    "          'RGB(247, 247, 247)','RGB(209, 229, 240)','RGB(146, 197, 222)','RGB(67, 147, 195)','RGB(33, 102, 172)',\n",
    "          'RGB(5, 48, 97)']\n",
    "\n",
    "\n",
    "layout = go.Layout(\n",
    "    title='Popularity Of Artists By Number Of Times Their Song Was Played',\n",
    "    yaxis= dict(\n",
    "        title=\"Number of Times Played\",\n",
    "        gridcolor='rgb(255, 255, 255)',\n",
    "        zerolinewidth=1,\n",
    "        ticklen=5,\n",
    "        gridwidth=2,\n",
    "        titlefont=dict(size=15)),\n",
    "    xaxis=dict(title=\"Artist Name\"))\n",
    "\n",
    "\n",
    "fig = go.Figure(data=[go.Bar(x=most_played_artists_by_count.index,\n",
    "                             y=most_played_artists_by_count,\n",
    "                             textposition='auto',\n",
    "                             opacity=1,\n",
    "                             marker_color=colors)])\n",
    "fig.show()\n"
   ]
  },
  {
   "cell_type": "code",
   "execution_count": 26,
   "metadata": {},
   "outputs": [
    {
     "data": {
      "text/html": [
       "<div>\n",
       "<style scoped>\n",
       "    .dataframe tbody tr th:only-of-type {\n",
       "        vertical-align: middle;\n",
       "    }\n",
       "\n",
       "    .dataframe tbody tr th {\n",
       "        vertical-align: top;\n",
       "    }\n",
       "\n",
       "    .dataframe thead th {\n",
       "        text-align: right;\n",
       "    }\n",
       "</style>\n",
       "<table border=\"1\" class=\"dataframe\">\n",
       "  <thead>\n",
       "    <tr style=\"text-align: right;\">\n",
       "      <th></th>\n",
       "      <th>popularity</th>\n",
       "      <th>danceability</th>\n",
       "      <th>energy</th>\n",
       "      <th>key</th>\n",
       "      <th>loudness</th>\n",
       "      <th>mode</th>\n",
       "      <th>speechiness</th>\n",
       "      <th>acousticness</th>\n",
       "      <th>instrumentalness</th>\n",
       "      <th>liveness</th>\n",
       "      <th>valence</th>\n",
       "      <th>tempo</th>\n",
       "      <th>year_playlist</th>\n",
       "      <th>duration_ms</th>\n",
       "    </tr>\n",
       "  </thead>\n",
       "  <tbody>\n",
       "    <tr>\n",
       "      <th>count</th>\n",
       "      <td>534.000000</td>\n",
       "      <td>534.000000</td>\n",
       "      <td>534.000000</td>\n",
       "      <td>534.000000</td>\n",
       "      <td>534.000000</td>\n",
       "      <td>534.000000</td>\n",
       "      <td>534.000000</td>\n",
       "      <td>534.000000</td>\n",
       "      <td>534.000000</td>\n",
       "      <td>534.000000</td>\n",
       "      <td>534.000000</td>\n",
       "      <td>534.000000</td>\n",
       "      <td>534.000000</td>\n",
       "      <td>534.000000</td>\n",
       "    </tr>\n",
       "    <tr>\n",
       "      <th>mean</th>\n",
       "      <td>37.951311</td>\n",
       "      <td>0.660124</td>\n",
       "      <td>0.662915</td>\n",
       "      <td>5.280899</td>\n",
       "      <td>-7.259657</td>\n",
       "      <td>0.614232</td>\n",
       "      <td>0.159924</td>\n",
       "      <td>0.307077</td>\n",
       "      <td>0.010549</td>\n",
       "      <td>0.179453</td>\n",
       "      <td>0.555013</td>\n",
       "      <td>116.765783</td>\n",
       "      <td>2020.127341</td>\n",
       "      <td>224.262172</td>\n",
       "    </tr>\n",
       "    <tr>\n",
       "      <th>std</th>\n",
       "      <td>27.201104</td>\n",
       "      <td>0.144443</td>\n",
       "      <td>0.176254</td>\n",
       "      <td>3.570744</td>\n",
       "      <td>2.785005</td>\n",
       "      <td>0.487233</td>\n",
       "      <td>0.133036</td>\n",
       "      <td>0.275053</td>\n",
       "      <td>0.063334</td>\n",
       "      <td>0.139773</td>\n",
       "      <td>0.225627</td>\n",
       "      <td>30.076027</td>\n",
       "      <td>1.454334</td>\n",
       "      <td>76.873441</td>\n",
       "    </tr>\n",
       "    <tr>\n",
       "      <th>min</th>\n",
       "      <td>0.000000</td>\n",
       "      <td>0.167000</td>\n",
       "      <td>0.043400</td>\n",
       "      <td>0.000000</td>\n",
       "      <td>-31.042000</td>\n",
       "      <td>0.000000</td>\n",
       "      <td>0.024200</td>\n",
       "      <td>0.000014</td>\n",
       "      <td>0.000000</td>\n",
       "      <td>0.028000</td>\n",
       "      <td>0.059600</td>\n",
       "      <td>70.554000</td>\n",
       "      <td>2018.000000</td>\n",
       "      <td>64.000000</td>\n",
       "    </tr>\n",
       "    <tr>\n",
       "      <th>25%</th>\n",
       "      <td>1.000000</td>\n",
       "      <td>0.559250</td>\n",
       "      <td>0.538250</td>\n",
       "      <td>2.000000</td>\n",
       "      <td>-8.624750</td>\n",
       "      <td>0.000000</td>\n",
       "      <td>0.048825</td>\n",
       "      <td>0.057575</td>\n",
       "      <td>0.000000</td>\n",
       "      <td>0.098100</td>\n",
       "      <td>0.359250</td>\n",
       "      <td>92.567000</td>\n",
       "      <td>2019.000000</td>\n",
       "      <td>178.250000</td>\n",
       "    </tr>\n",
       "    <tr>\n",
       "      <th>50%</th>\n",
       "      <td>43.500000</td>\n",
       "      <td>0.671000</td>\n",
       "      <td>0.674000</td>\n",
       "      <td>5.000000</td>\n",
       "      <td>-6.824000</td>\n",
       "      <td>1.000000</td>\n",
       "      <td>0.106000</td>\n",
       "      <td>0.228000</td>\n",
       "      <td>0.000000</td>\n",
       "      <td>0.120000</td>\n",
       "      <td>0.561000</td>\n",
       "      <td>108.134500</td>\n",
       "      <td>2020.000000</td>\n",
       "      <td>212.000000</td>\n",
       "    </tr>\n",
       "    <tr>\n",
       "      <th>75%</th>\n",
       "      <td>58.000000</td>\n",
       "      <td>0.766750</td>\n",
       "      <td>0.807000</td>\n",
       "      <td>9.000000</td>\n",
       "      <td>-5.315000</td>\n",
       "      <td>1.000000</td>\n",
       "      <td>0.253250</td>\n",
       "      <td>0.514000</td>\n",
       "      <td>0.000030</td>\n",
       "      <td>0.210000</td>\n",
       "      <td>0.741000</td>\n",
       "      <td>137.966000</td>\n",
       "      <td>2021.750000</td>\n",
       "      <td>252.000000</td>\n",
       "    </tr>\n",
       "    <tr>\n",
       "      <th>max</th>\n",
       "      <td>97.000000</td>\n",
       "      <td>0.937000</td>\n",
       "      <td>0.977000</td>\n",
       "      <td>11.000000</td>\n",
       "      <td>-1.460000</td>\n",
       "      <td>1.000000</td>\n",
       "      <td>0.877000</td>\n",
       "      <td>0.984000</td>\n",
       "      <td>0.697000</td>\n",
       "      <td>0.840000</td>\n",
       "      <td>0.966000</td>\n",
       "      <td>203.599000</td>\n",
       "      <td>2022.000000</td>\n",
       "      <td>891.000000</td>\n",
       "    </tr>\n",
       "  </tbody>\n",
       "</table>\n",
       "</div>"
      ],
      "text/plain": [
       "       popularity  danceability      energy         key    loudness  \\\n",
       "count  534.000000    534.000000  534.000000  534.000000  534.000000   \n",
       "mean    37.951311      0.660124    0.662915    5.280899   -7.259657   \n",
       "std     27.201104      0.144443    0.176254    3.570744    2.785005   \n",
       "min      0.000000      0.167000    0.043400    0.000000  -31.042000   \n",
       "25%      1.000000      0.559250    0.538250    2.000000   -8.624750   \n",
       "50%     43.500000      0.671000    0.674000    5.000000   -6.824000   \n",
       "75%     58.000000      0.766750    0.807000    9.000000   -5.315000   \n",
       "max     97.000000      0.937000    0.977000   11.000000   -1.460000   \n",
       "\n",
       "             mode  speechiness  acousticness  instrumentalness    liveness  \\\n",
       "count  534.000000   534.000000    534.000000        534.000000  534.000000   \n",
       "mean     0.614232     0.159924      0.307077          0.010549    0.179453   \n",
       "std      0.487233     0.133036      0.275053          0.063334    0.139773   \n",
       "min      0.000000     0.024200      0.000014          0.000000    0.028000   \n",
       "25%      0.000000     0.048825      0.057575          0.000000    0.098100   \n",
       "50%      1.000000     0.106000      0.228000          0.000000    0.120000   \n",
       "75%      1.000000     0.253250      0.514000          0.000030    0.210000   \n",
       "max      1.000000     0.877000      0.984000          0.697000    0.840000   \n",
       "\n",
       "          valence       tempo  year_playlist  duration_ms  \n",
       "count  534.000000  534.000000     534.000000   534.000000  \n",
       "mean     0.555013  116.765783    2020.127341   224.262172  \n",
       "std      0.225627   30.076027       1.454334    76.873441  \n",
       "min      0.059600   70.554000    2018.000000    64.000000  \n",
       "25%      0.359250   92.567000    2019.000000   178.250000  \n",
       "50%      0.561000  108.134500    2020.000000   212.000000  \n",
       "75%      0.741000  137.966000    2021.750000   252.000000  \n",
       "max      0.966000  203.599000    2022.000000   891.000000  "
      ]
     },
     "execution_count": 26,
     "metadata": {},
     "output_type": "execute_result"
    }
   ],
   "source": [
    "df_historical.describe()"
   ]
  },
  {
   "cell_type": "code",
   "execution_count": 27,
   "metadata": {},
   "outputs": [],
   "source": [
    "features = ['acousticness', 'danceability', 'energy', 'instrumentalness', 'liveness', 'speechiness', 'valence','loudness' ]\n",
    "df_mean = pd.DataFrame(df_historical[features].mean())"
   ]
  },
  {
   "cell_type": "code",
   "execution_count": 31,
   "metadata": {},
   "outputs": [
    {
     "data": {
      "text/html": [
       "<div>\n",
       "<style scoped>\n",
       "    .dataframe tbody tr th:only-of-type {\n",
       "        vertical-align: middle;\n",
       "    }\n",
       "\n",
       "    .dataframe tbody tr th {\n",
       "        vertical-align: top;\n",
       "    }\n",
       "\n",
       "    .dataframe thead th {\n",
       "        text-align: right;\n",
       "    }\n",
       "</style>\n",
       "<table border=\"1\" class=\"dataframe\">\n",
       "  <thead>\n",
       "    <tr style=\"text-align: right;\">\n",
       "      <th></th>\n",
       "      <th>index</th>\n",
       "      <th>0</th>\n",
       "    </tr>\n",
       "  </thead>\n",
       "  <tbody>\n",
       "    <tr>\n",
       "      <th>0</th>\n",
       "      <td>acousticness</td>\n",
       "      <td>0.307077</td>\n",
       "    </tr>\n",
       "    <tr>\n",
       "      <th>1</th>\n",
       "      <td>danceability</td>\n",
       "      <td>0.660124</td>\n",
       "    </tr>\n",
       "    <tr>\n",
       "      <th>2</th>\n",
       "      <td>energy</td>\n",
       "      <td>0.662915</td>\n",
       "    </tr>\n",
       "    <tr>\n",
       "      <th>3</th>\n",
       "      <td>instrumentalness</td>\n",
       "      <td>0.010549</td>\n",
       "    </tr>\n",
       "    <tr>\n",
       "      <th>4</th>\n",
       "      <td>liveness</td>\n",
       "      <td>0.179453</td>\n",
       "    </tr>\n",
       "    <tr>\n",
       "      <th>5</th>\n",
       "      <td>speechiness</td>\n",
       "      <td>0.159924</td>\n",
       "    </tr>\n",
       "    <tr>\n",
       "      <th>6</th>\n",
       "      <td>valence</td>\n",
       "      <td>0.555013</td>\n",
       "    </tr>\n",
       "    <tr>\n",
       "      <th>7</th>\n",
       "      <td>loudness</td>\n",
       "      <td>-7.259657</td>\n",
       "    </tr>\n",
       "  </tbody>\n",
       "</table>\n",
       "</div>"
      ],
      "text/plain": [
       "              index         0\n",
       "0      acousticness  0.307077\n",
       "1      danceability  0.660124\n",
       "2            energy  0.662915\n",
       "3  instrumentalness  0.010549\n",
       "4          liveness  0.179453\n",
       "5       speechiness  0.159924\n",
       "6           valence  0.555013\n",
       "7          loudness -7.259657"
      ]
     },
     "execution_count": 31,
     "metadata": {},
     "output_type": "execute_result"
    }
   ],
   "source": [
    "df_mean"
   ]
  },
  {
   "cell_type": "code",
   "execution_count": 32,
   "metadata": {},
   "outputs": [],
   "source": [
    "df_mean['mean'] = df_mean[0]"
   ]
  },
  {
   "cell_type": "code",
   "execution_count": 33,
   "metadata": {},
   "outputs": [],
   "source": [
    "del df_mean[0]"
   ]
  },
  {
   "cell_type": "code",
   "execution_count": 34,
   "metadata": {},
   "outputs": [
    {
     "data": {
      "text/plain": [
       "<seaborn.axisgrid.JointGrid at 0x7fb66309f070>"
      ]
     },
     "execution_count": 34,
     "metadata": {},
     "output_type": "execute_result"
    },
    {
     "data": {
      "image/png": "[encoded data removed]",
      "text/plain": [
       "<Figure size 600x600 with 3 Axes>"
      ]
     },
     "metadata": {},
     "output_type": "display_data"
    }
   ],
   "source": [
    "sns.set(rc = {'figure.figsize':(20,20)})\n",
    "sns.jointplot(data=df_historical, x=\"loudness\", y=\"energy\", kind=\"kde\")"
   ]
  },
  {
   "cell_type": "code",
   "execution_count": 38,
   "metadata": {},
   "outputs": [
    {
     "name": "stdout",
     "output_type": "stream",
     "text": [
      "[0.         0.78539816 1.57079633 2.35619449 3.14159265 3.92699082\n",
      " 4.71238898 5.49778714]\n"
     ]
    }
   ],
   "source": [
    "angles=np.linspace(0,2*np.pi,len(df_mean), endpoint=False)\n",
    "print(angles)"
   ]
  },
  {
   "cell_type": "code",
   "execution_count": 39,
   "metadata": {},
   "outputs": [
    {
     "name": "stdout",
     "output_type": "stream",
     "text": [
      "[0.         0.78539816 1.57079633 2.35619449 3.14159265 3.92699082\n",
      " 4.71238898 5.49778714 0.        ]\n"
     ]
    }
   ],
   "source": [
    "angles=np.concatenate((angles,[angles[0]]))\n",
    "print(angles)"
   ]
  },
  {
   "cell_type": "code",
   "execution_count": 41,
   "metadata": {},
   "outputs": [
    {
     "data": {
      "image/png": "[encoded data removed]",
      "text/plain": [
       "<Figure size 600x600 with 1 Axes>"
      ]
     },
     "metadata": {},
     "output_type": "display_data"
    }
   ],
   "source": [
    "fig=plt.figure(figsize=(6,6))\n",
    "ax=fig.add_subplot(polar=True)\n",
    "ax.plot(angles)\n",
    "plt.show()"
   ]
  },
  {
   "cell_type": "code",
   "execution_count": 48,
   "metadata": {},
   "outputs": [
    {
     "name": "stderr",
     "output_type": "stream",
     "text": [
      "/Users/jaimesastrecrespo/opt/anaconda3/lib/python3.9/site-packages/plotly/express/_core.py:271: FutureWarning:\n",
      "\n",
      "The frame.append method is deprecated and will be removed from pandas in a future version. Use pandas.concat instead.\n",
      "\n"
     ]
    },
    {
     "data": {
      "application/vnd.plotly.v1+json": {
       "config": {
        "plotlyServerURL": "https://plot.ly"
       },
       "data": [
        {
         "fill": "toself",
         "hovertemplate": "index=%{theta}<extra></extra>",
         "legendgroup": "",
         "line": {
          "color": "#636efa",
          "dash": "solid"
         },
         "marker": {
          "symbol": "circle"
         },
         "mode": "lines",
         "name": "",
         "r": [
          "acousticness",
          "danceability",
          "energy",
          "instrumentalness",
          "liveness",
          "speechiness",
          "valence",
          "loudness",
          "acousticness"
         ],
         "showlegend": false,
         "subplot": "polar",
         "theta": [
          "acousticness",
          "danceability",
          "energy",
          "instrumentalness",
          "liveness",
          "speechiness",
          "valence",
          "loudness",
          "acousticness"
         ],
         "type": "scatterpolar"
        }
       ],
       "layout": {
        "font": {
         "size": 15
        },
        "legend": {
         "tracegroupgap": 0
        },
        "margin": {
         "t": 60
        },
        "polar": {
         "angularaxis": {
          "direction": "clockwise",
          "rotation": 90
         },
         "domain": {
          "x": [
           0,
           1
          ],
          "y": [
           0,
           1
          ]
         }
        },
        "template": {
         "data": {
          "bar": [
           {
            "error_x": {
             "color": "#f2f5fa"
            },
            "error_y": {
             "color": "#f2f5fa"
            },
            "marker": {
             "line": {
              "color": "rgb(17,17,17)",
              "width": 0.5
             },
             "pattern": {
              "fillmode": "overlay",
              "size": 10,
              "solidity": 0.2
             }
            },
            "type": "bar"
           }
          ],
          "barpolar": [
           {
            "marker": {
             "line": {
              "color": "rgb(17,17,17)",
              "width": 0.5
             },
             "pattern": {
              "fillmode": "overlay",
              "size": 10,
              "solidity": 0.2
             }
            },
            "type": "barpolar"
           }
          ],
          "carpet": [
           {
            "aaxis": {
             "endlinecolor": "#A2B1C6",
             "gridcolor": "#506784",
             "linecolor": "#506784",
             "minorgridcolor": "#506784",
             "startlinecolor": "#A2B1C6"
            },
            "baxis": {
             "endlinecolor": "#A2B1C6",
             "gridcolor": "#506784",
             "linecolor": "#506784",
             "minorgridcolor": "#506784",
             "startlinecolor": "#A2B1C6"
            },
            "type": "carpet"
           }
          ],
          "choropleth": [
           {
            "colorbar": {
             "outlinewidth": 0,
             "ticks": ""
            },
            "type": "choropleth"
           }
          ],
          "contour": [
           {
            "colorbar": {
             "outlinewidth": 0,
             "ticks": ""
            },
            "colorscale": [
             [
              0,
              "#0d0887"
             ],
             [
              0.1111111111111111,
              "#46039f"
             ],
             [
              0.2222222222222222,
              "#7201a8"
             ],
             [
              0.3333333333333333,
              "#9c179e"
             ],
             [
              0.4444444444444444,
              "#bd3786"
             ],
             [
              0.5555555555555556,
              "#d8576b"
             ],
             [
              0.6666666666666666,
              "#ed7953"
             ],
             [
              0.7777777777777778,
              "#fb9f3a"
             ],
             [
              0.8888888888888888,
              "#fdca26"
             ],
             [
              1,
              "#f0f921"
             ]
            ],
            "type": "contour"
           }
          ],
          "contourcarpet": [
           {
            "colorbar": {
             "outlinewidth": 0,
             "ticks": ""
            },
            "type": "contourcarpet"
           }
          ],
          "heatmap": [
           {
            "colorbar": {
             "outlinewidth": 0,
             "ticks": ""
            },
            "colorscale": [
             [
              0,
              "#0d0887"
             ],
             [
              0.1111111111111111,
              "#46039f"
             ],
             [
              0.2222222222222222,
              "#7201a8"
             ],
             [
              0.3333333333333333,
              "#9c179e"
             ],
             [
              0.4444444444444444,
              "#bd3786"
             ],
             [
              0.5555555555555556,
              "#d8576b"
             ],
             [
              0.6666666666666666,
              "#ed7953"
             ],
             [
              0.7777777777777778,
              "#fb9f3a"
             ],
             [
              0.8888888888888888,
              "#fdca26"
             ],
             [
              1,
              "#f0f921"
             ]
            ],
            "type": "heatmap"
           }
          ],
          "heatmapgl": [
           {
            "colorbar": {
             "outlinewidth": 0,
             "ticks": ""
            },
            "colorscale": [
             [
              0,
              "#0d0887"
             ],
             [
              0.1111111111111111,
              "#46039f"
             ],
             [
              0.2222222222222222,
              "#7201a8"
             ],
             [
              0.3333333333333333,
              "#9c179e"
             ],
             [
              0.4444444444444444,
              "#bd3786"
             ],
             [
              0.5555555555555556,
              "#d8576b"
             ],
             [
              0.6666666666666666,
              "#ed7953"
             ],
             [
              0.7777777777777778,
              "#fb9f3a"
             ],
             [
              0.8888888888888888,
              "#fdca26"
             ],
             [
              1,
              "#f0f921"
             ]
            ],
            "type": "heatmapgl"
           }
          ],
          "histogram": [
           {
            "marker": {
             "pattern": {
              "fillmode": "overlay",
              "size": 10,
              "solidity": 0.2
             }
            },
            "type": "histogram"
           }
          ],
          "histogram2d": [
           {
            "colorbar": {
             "outlinewidth": 0,
             "ticks": ""
            },
            "colorscale": [
             [
              0,
              "#0d0887"
             ],
             [
              0.1111111111111111,
              "#46039f"
             ],
             [
              0.2222222222222222,
              "#7201a8"
             ],
             [
              0.3333333333333333,
              "#9c179e"
             ],
             [
              0.4444444444444444,
              "#bd3786"
             ],
             [
              0.5555555555555556,
              "#d8576b"
             ],
             [
              0.6666666666666666,
              "#ed7953"
             ],
             [
              0.7777777777777778,
              "#fb9f3a"
             ],
             [
              0.8888888888888888,
              "#fdca26"
             ],
             [
              1,
              "#f0f921"
             ]
            ],
            "type": "histogram2d"
           }
          ],
          "histogram2dcontour": [
           {
            "colorbar": {
             "outlinewidth": 0,
             "ticks": ""
            },
            "colorscale": [
             [
              0,
              "#0d0887"
             ],
             [
              0.1111111111111111,
              "#46039f"
             ],
             [
              0.2222222222222222,
              "#7201a8"
             ],
             [
              0.3333333333333333,
              "#9c179e"
             ],
             [
              0.4444444444444444,
              "#bd3786"
             ],
             [
              0.5555555555555556,
              "#d8576b"
             ],
             [
              0.6666666666666666,
              "#ed7953"
             ],
             [
              0.7777777777777778,
              "#fb9f3a"
             ],
             [
              0.8888888888888888,
              "#fdca26"
             ],
             [
              1,
              "#f0f921"
             ]
            ],
            "type": "histogram2dcontour"
           }
          ],
          "mesh3d": [
           {
            "colorbar": {
             "outlinewidth": 0,
             "ticks": ""
            },
            "type": "mesh3d"
           }
          ],
          "parcoords": [
           {
            "line": {
             "colorbar": {
              "outlinewidth": 0,
              "ticks": ""
             }
            },
            "type": "parcoords"
           }
          ],
          "pie": [
           {
            "automargin": true,
            "type": "pie"
           }
          ],
          "scatter": [
           {
            "marker": {
             "line": {
              "color": "#283442"
             }
            },
            "type": "scatter"
           }
          ],
          "scatter3d": [
           {
            "line": {
             "colorbar": {
              "outlinewidth": 0,
              "ticks": ""
             }
            },
            "marker": {
             "colorbar": {
              "outlinewidth": 0,
              "ticks": ""
             }
            },
            "type": "scatter3d"
           }
          ],
          "scattercarpet": [
           {
            "marker": {
             "colorbar": {
              "outlinewidth": 0,
              "ticks": ""
             }
            },
            "type": "scattercarpet"
           }
          ],
          "scattergeo": [
           {
            "marker": {
             "colorbar": {
              "outlinewidth": 0,
              "ticks": ""
             }
            },
            "type": "scattergeo"
           }
          ],
          "scattergl": [
           {
            "marker": {
             "line": {
              "color": "#283442"
             }
            },
            "type": "scattergl"
           }
          ],
          "scattermapbox": [
           {
            "marker": {
             "colorbar": {
              "outlinewidth": 0,
              "ticks": ""
             }
            },
            "type": "scattermapbox"
           }
          ],
          "scatterpolar": [
           {
            "marker": {
             "colorbar": {
              "outlinewidth": 0,
              "ticks": ""
             }
            },
            "type": "scatterpolar"
           }
          ],
          "scatterpolargl": [
           {
            "marker": {
             "colorbar": {
              "outlinewidth": 0,
              "ticks": ""
             }
            },
            "type": "scatterpolargl"
           }
          ],
          "scatterternary": [
           {
            "marker": {
             "colorbar": {
              "outlinewidth": 0,
              "ticks": ""
             }
            },
            "type": "scatterternary"
           }
          ],
          "surface": [
           {
            "colorbar": {
             "outlinewidth": 0,
             "ticks": ""
            },
            "colorscale": [
             [
              0,
              "#0d0887"
             ],
             [
              0.1111111111111111,
              "#46039f"
             ],
             [
              0.2222222222222222,
              "#7201a8"
             ],
             [
              0.3333333333333333,
              "#9c179e"
             ],
             [
              0.4444444444444444,
              "#bd3786"
             ],
             [
              0.5555555555555556,
              "#d8576b"
             ],
             [
              0.6666666666666666,
              "#ed7953"
             ],
             [
              0.7777777777777778,
              "#fb9f3a"
             ],
             [
              0.8888888888888888,
              "#fdca26"
             ],
             [
              1,
              "#f0f921"
             ]
            ],
            "type": "surface"
           }
          ],
          "table": [
           {
            "cells": {
             "fill": {
              "color": "#506784"
             },
             "line": {
              "color": "rgb(17,17,17)"
             }
            },
            "header": {
             "fill": {
              "color": "#2a3f5f"
             },
             "line": {
              "color": "rgb(17,17,17)"
             }
            },
            "type": "table"
           }
          ]
         },
         "layout": {
          "annotationdefaults": {
           "arrowcolor": "#f2f5fa",
           "arrowhead": 0,
           "arrowwidth": 1
          },
          "autotypenumbers": "strict",
          "coloraxis": {
           "colorbar": {
            "outlinewidth": 0,
            "ticks": ""
           }
          },
          "colorscale": {
           "diverging": [
            [
             0,
             "#8e0152"
            ],
            [
             0.1,
             "#c51b7d"
            ],
            [
             0.2,
             "#de77ae"
            ],
            [
             0.3,
             "#f1b6da"
            ],
            [
             0.4,
             "#fde0ef"
            ],
            [
             0.5,
             "#f7f7f7"
            ],
            [
             0.6,
             "#e6f5d0"
            ],
            [
             0.7,
             "#b8e186"
            ],
            [
             0.8,
             "#7fbc41"
            ],
            [
             0.9,
             "#4d9221"
            ],
            [
             1,
             "#276419"
            ]
           ],
           "sequential": [
            [
             0,
             "#0d0887"
            ],
            [
             0.1111111111111111,
             "#46039f"
            ],
            [
             0.2222222222222222,
             "#7201a8"
            ],
            [
             0.3333333333333333,
             "#9c179e"
            ],
            [
             0.4444444444444444,
             "#bd3786"
            ],
            [
             0.5555555555555556,
             "#d8576b"
            ],
            [
             0.6666666666666666,
             "#ed7953"
            ],
            [
             0.7777777777777778,
             "#fb9f3a"
            ],
            [
             0.8888888888888888,
             "#fdca26"
            ],
            [
             1,
             "#f0f921"
            ]
           ],
           "sequentialminus": [
            [
             0,
             "#0d0887"
            ],
            [
             0.1111111111111111,
             "#46039f"
            ],
            [
             0.2222222222222222,
             "#7201a8"
            ],
            [
             0.3333333333333333,
             "#9c179e"
            ],
            [
             0.4444444444444444,
             "#bd3786"
            ],
            [
             0.5555555555555556,
             "#d8576b"
            ],
            [
             0.6666666666666666,
             "#ed7953"
            ],
            [
             0.7777777777777778,
             "#fb9f3a"
            ],
            [
             0.8888888888888888,
             "#fdca26"
            ],
            [
             1,
             "#f0f921"
            ]
           ]
          },
          "colorway": [
           "#636efa",
           "#EF553B",
           "#00cc96",
           "#ab63fa",
           "#FFA15A",
           "#19d3f3",
           "#FF6692",
           "#B6E880",
           "#FF97FF",
           "#FECB52"
          ],
          "font": {
           "color": "#f2f5fa"
          },
          "geo": {
           "bgcolor": "rgb(17,17,17)",
           "lakecolor": "rgb(17,17,17)",
           "landcolor": "rgb(17,17,17)",
           "showlakes": true,
           "showland": true,
           "subunitcolor": "#506784"
          },
          "hoverlabel": {
           "align": "left"
          },
          "hovermode": "closest",
          "mapbox": {
           "style": "dark"
          },
          "paper_bgcolor": "rgb(17,17,17)",
          "plot_bgcolor": "rgb(17,17,17)",
          "polar": {
           "angularaxis": {
            "gridcolor": "#506784",
            "linecolor": "#506784",
            "ticks": ""
           },
           "bgcolor": "rgb(17,17,17)",
           "radialaxis": {
            "gridcolor": "#506784",
            "linecolor": "#506784",
            "ticks": ""
           }
          },
          "scene": {
           "xaxis": {
            "backgroundcolor": "rgb(17,17,17)",
            "gridcolor": "#506784",
            "gridwidth": 2,
            "linecolor": "#506784",
            "showbackground": true,
            "ticks": "",
            "zerolinecolor": "#C8D4E3"
           },
           "yaxis": {
            "backgroundcolor": "rgb(17,17,17)",
            "gridcolor": "#506784",
            "gridwidth": 2,
            "linecolor": "#506784",
            "showbackground": true,
            "ticks": "",
            "zerolinecolor": "#C8D4E3"
           },
           "zaxis": {
            "backgroundcolor": "rgb(17,17,17)",
            "gridcolor": "#506784",
            "gridwidth": 2,
            "linecolor": "#506784",
            "showbackground": true,
            "ticks": "",
            "zerolinecolor": "#C8D4E3"
           }
          },
          "shapedefaults": {
           "line": {
            "color": "#f2f5fa"
           }
          },
          "sliderdefaults": {
           "bgcolor": "#C8D4E3",
           "bordercolor": "rgb(17,17,17)",
           "borderwidth": 1,
           "tickwidth": 0
          },
          "ternary": {
           "aaxis": {
            "gridcolor": "#506784",
            "linecolor": "#506784",
            "ticks": ""
           },
           "baxis": {
            "gridcolor": "#506784",
            "linecolor": "#506784",
            "ticks": ""
           },
           "bgcolor": "rgb(17,17,17)",
           "caxis": {
            "gridcolor": "#506784",
            "linecolor": "#506784",
            "ticks": ""
           }
          },
          "title": {
           "x": 0.05
          },
          "updatemenudefaults": {
           "bgcolor": "#506784",
           "borderwidth": 0
          },
          "xaxis": {
           "automargin": true,
           "gridcolor": "#283442",
           "linecolor": "#506784",
           "ticks": "",
           "title": {
            "standoff": 15
           },
           "zerolinecolor": "#283442",
           "zerolinewidth": 2
          },
          "yaxis": {
           "automargin": true,
           "gridcolor": "#283442",
           "linecolor": "#506784",
           "ticks": "",
           "title": {
            "standoff": 15
           },
           "zerolinecolor": "#283442",
           "zerolinewidth": 2
          }
         }
        }
       }
      }
     },
     "metadata": {},
     "output_type": "display_data"
    }
   ],
   "source": [
    "\n",
    "\n",
    "fig = px.line_polar(df_mean, r=\"index\",theta=\"index\",line_close=True,template=\"plotly_dark\")\n",
    "fig.update_traces(fill='toself')\n",
    "fig.update_layout(font_size=15)\n",
    "fig.show()"
   ]
  },
  {
   "cell_type": "code",
   "execution_count": 51,
   "metadata": {},
   "outputs": [
    {
     "data": {
      "text/html": [
       "<div>\n",
       "<style scoped>\n",
       "    .dataframe tbody tr th:only-of-type {\n",
       "        vertical-align: middle;\n",
       "    }\n",
       "\n",
       "    .dataframe tbody tr th {\n",
       "        vertical-align: top;\n",
       "    }\n",
       "\n",
       "    .dataframe thead th {\n",
       "        text-align: right;\n",
       "    }\n",
       "</style>\n",
       "<table border=\"1\" class=\"dataframe\">\n",
       "  <thead>\n",
       "    <tr style=\"text-align: right;\">\n",
       "      <th></th>\n",
       "      <th>track_name</th>\n",
       "      <th>album</th>\n",
       "      <th>track_id</th>\n",
       "      <th>artist</th>\n",
       "      <th>popularity</th>\n",
       "      <th>danceability</th>\n",
       "      <th>energy</th>\n",
       "      <th>key</th>\n",
       "      <th>loudness</th>\n",
       "      <th>mode</th>\n",
       "      <th>speechiness</th>\n",
       "      <th>acousticness</th>\n",
       "      <th>instrumentalness</th>\n",
       "      <th>liveness</th>\n",
       "      <th>valence</th>\n",
       "      <th>tempo</th>\n",
       "      <th>year_playlist</th>\n",
       "      <th>duration_ms</th>\n",
       "      <th>tempo_str</th>\n",
       "    </tr>\n",
       "  </thead>\n",
       "  <tbody>\n",
       "    <tr>\n",
       "      <th>0</th>\n",
       "      <td>Fresas con nata</td>\n",
       "      <td>Fresas con nata</td>\n",
       "      <td>48sq0JdNEbXhQTdAorTzC9</td>\n",
       "      <td>Ayax y Prok</td>\n",
       "      <td>0</td>\n",
       "      <td>0.824</td>\n",
       "      <td>0.617</td>\n",
       "      <td>8</td>\n",
       "      <td>-10.429</td>\n",
       "      <td>1</td>\n",
       "      <td>0.4370</td>\n",
       "      <td>0.126000</td>\n",
       "      <td>0.000000</td>\n",
       "      <td>0.1050</td>\n",
       "      <td>0.814</td>\n",
       "      <td>115.899</td>\n",
       "      <td>2018</td>\n",
       "      <td>210.0</td>\n",
       "      <td>medium</td>\n",
       "    </tr>\n",
       "    <tr>\n",
       "      <th>1</th>\n",
       "      <td>Amén</td>\n",
       "      <td>Pa'l Coche</td>\n",
       "      <td>1PLxoOKyLKqicE5ErhrzkF</td>\n",
       "      <td>Cruz Cafuné</td>\n",
       "      <td>42</td>\n",
       "      <td>0.685</td>\n",
       "      <td>0.480</td>\n",
       "      <td>2</td>\n",
       "      <td>-10.174</td>\n",
       "      <td>0</td>\n",
       "      <td>0.3350</td>\n",
       "      <td>0.130000</td>\n",
       "      <td>0.000000</td>\n",
       "      <td>0.1190</td>\n",
       "      <td>0.440</td>\n",
       "      <td>183.973</td>\n",
       "      <td>2018</td>\n",
       "      <td>191.0</td>\n",
       "      <td>high</td>\n",
       "    </tr>\n",
       "    <tr>\n",
       "      <th>2</th>\n",
       "      <td>Llórame - Acústico</td>\n",
       "      <td>Llórame (Acústico)</td>\n",
       "      <td>1eFx4b7oW6VGtxGBz6aTrW</td>\n",
       "      <td>Zetazen</td>\n",
       "      <td>45</td>\n",
       "      <td>0.537</td>\n",
       "      <td>0.468</td>\n",
       "      <td>6</td>\n",
       "      <td>-8.551</td>\n",
       "      <td>1</td>\n",
       "      <td>0.0606</td>\n",
       "      <td>0.946000</td>\n",
       "      <td>0.000000</td>\n",
       "      <td>0.0980</td>\n",
       "      <td>0.306</td>\n",
       "      <td>102.725</td>\n",
       "      <td>2018</td>\n",
       "      <td>233.0</td>\n",
       "      <td>low</td>\n",
       "    </tr>\n",
       "    <tr>\n",
       "      <th>3</th>\n",
       "      <td>Nit salvatge</td>\n",
       "      <td>Nit salvatge</td>\n",
       "      <td>3TwSlfvFPPoz0K1yL1Ujxn</td>\n",
       "      <td>Smoking Souls</td>\n",
       "      <td>40</td>\n",
       "      <td>0.587</td>\n",
       "      <td>0.675</td>\n",
       "      <td>10</td>\n",
       "      <td>-6.734</td>\n",
       "      <td>1</td>\n",
       "      <td>0.0313</td>\n",
       "      <td>0.000089</td>\n",
       "      <td>0.000030</td>\n",
       "      <td>0.0984</td>\n",
       "      <td>0.382</td>\n",
       "      <td>109.978</td>\n",
       "      <td>2018</td>\n",
       "      <td>260.0</td>\n",
       "      <td>low</td>\n",
       "    </tr>\n",
       "    <tr>\n",
       "      <th>4</th>\n",
       "      <td>Amorfoda</td>\n",
       "      <td>Amorfoda</td>\n",
       "      <td>3ITvHA9zhZZdBJsOsAUegF</td>\n",
       "      <td>Bad Bunny</td>\n",
       "      <td>0</td>\n",
       "      <td>0.742</td>\n",
       "      <td>0.432</td>\n",
       "      <td>9</td>\n",
       "      <td>-7.539</td>\n",
       "      <td>0</td>\n",
       "      <td>0.0615</td>\n",
       "      <td>0.984000</td>\n",
       "      <td>0.000058</td>\n",
       "      <td>0.0796</td>\n",
       "      <td>0.252</td>\n",
       "      <td>148.005</td>\n",
       "      <td>2018</td>\n",
       "      <td>156.0</td>\n",
       "      <td>medium</td>\n",
       "    </tr>\n",
       "    <tr>\n",
       "      <th>...</th>\n",
       "      <td>...</td>\n",
       "      <td>...</td>\n",
       "      <td>...</td>\n",
       "      <td>...</td>\n",
       "      <td>...</td>\n",
       "      <td>...</td>\n",
       "      <td>...</td>\n",
       "      <td>...</td>\n",
       "      <td>...</td>\n",
       "      <td>...</td>\n",
       "      <td>...</td>\n",
       "      <td>...</td>\n",
       "      <td>...</td>\n",
       "      <td>...</td>\n",
       "      <td>...</td>\n",
       "      <td>...</td>\n",
       "      <td>...</td>\n",
       "      <td>...</td>\n",
       "      <td>...</td>\n",
       "    </tr>\n",
       "    <tr>\n",
       "      <th>545</th>\n",
       "      <td>Rockadown Subway Session</td>\n",
       "      <td>Rockadown Subway Session</td>\n",
       "      <td>3bdhZxL276JwNlNsQgu51s</td>\n",
       "      <td>Vanupié</td>\n",
       "      <td>0</td>\n",
       "      <td>0.650</td>\n",
       "      <td>0.648</td>\n",
       "      <td>6</td>\n",
       "      <td>-6.694</td>\n",
       "      <td>0</td>\n",
       "      <td>0.3390</td>\n",
       "      <td>0.525000</td>\n",
       "      <td>0.000000</td>\n",
       "      <td>0.6830</td>\n",
       "      <td>0.792</td>\n",
       "      <td>140.607</td>\n",
       "      <td>2022</td>\n",
       "      <td>214.0</td>\n",
       "      <td>medium</td>\n",
       "    </tr>\n",
       "    <tr>\n",
       "      <th>546</th>\n",
       "      <td>Je veux</td>\n",
       "      <td>Zaz</td>\n",
       "      <td>734dz1YaFITwawPpM25fSt</td>\n",
       "      <td>Zaz</td>\n",
       "      <td>68</td>\n",
       "      <td>0.525</td>\n",
       "      <td>0.807</td>\n",
       "      <td>2</td>\n",
       "      <td>-6.366</td>\n",
       "      <td>0</td>\n",
       "      <td>0.0725</td>\n",
       "      <td>0.251000</td>\n",
       "      <td>0.000000</td>\n",
       "      <td>0.0504</td>\n",
       "      <td>0.741</td>\n",
       "      <td>155.397</td>\n",
       "      <td>2022</td>\n",
       "      <td>216.0</td>\n",
       "      <td>medium</td>\n",
       "    </tr>\n",
       "    <tr>\n",
       "      <th>547</th>\n",
       "      <td>Redemption Song</td>\n",
       "      <td>Uprising</td>\n",
       "      <td>26PwuMotZqcczKLHi4Htz3</td>\n",
       "      <td>Bob Marley &amp; The Wailers</td>\n",
       "      <td>69</td>\n",
       "      <td>0.671</td>\n",
       "      <td>0.256</td>\n",
       "      <td>7</td>\n",
       "      <td>-10.743</td>\n",
       "      <td>1</td>\n",
       "      <td>0.0387</td>\n",
       "      <td>0.608000</td>\n",
       "      <td>0.000000</td>\n",
       "      <td>0.0737</td>\n",
       "      <td>0.694</td>\n",
       "      <td>115.871</td>\n",
       "      <td>2022</td>\n",
       "      <td>234.0</td>\n",
       "      <td>medium</td>\n",
       "    </tr>\n",
       "    <tr>\n",
       "      <th>548</th>\n",
       "      <td>Last Kiss</td>\n",
       "      <td>Last Kiss</td>\n",
       "      <td>0QnONzv3TvHAWk294h6DaQ</td>\n",
       "      <td>Pearl Jam</td>\n",
       "      <td>71</td>\n",
       "      <td>0.622</td>\n",
       "      <td>0.692</td>\n",
       "      <td>7</td>\n",
       "      <td>-6.970</td>\n",
       "      <td>1</td>\n",
       "      <td>0.0276</td>\n",
       "      <td>0.363000</td>\n",
       "      <td>0.000158</td>\n",
       "      <td>0.1930</td>\n",
       "      <td>0.774</td>\n",
       "      <td>112.053</td>\n",
       "      <td>2022</td>\n",
       "      <td>195.0</td>\n",
       "      <td>low</td>\n",
       "    </tr>\n",
       "    <tr>\n",
       "      <th>549</th>\n",
       "      <td>Zinedine</td>\n",
       "      <td>Zinedine</td>\n",
       "      <td>6DYrsZsQMqzA0ZaHmBKUjW</td>\n",
       "      <td>Ayax y Prok</td>\n",
       "      <td>0</td>\n",
       "      <td>0.818</td>\n",
       "      <td>0.630</td>\n",
       "      <td>6</td>\n",
       "      <td>-8.743</td>\n",
       "      <td>0</td>\n",
       "      <td>0.4660</td>\n",
       "      <td>0.025700</td>\n",
       "      <td>0.000000</td>\n",
       "      <td>0.1250</td>\n",
       "      <td>0.846</td>\n",
       "      <td>95.984</td>\n",
       "      <td>2022</td>\n",
       "      <td>127.0</td>\n",
       "      <td>low</td>\n",
       "    </tr>\n",
       "  </tbody>\n",
       "</table>\n",
       "<p>534 rows × 19 columns</p>\n",
       "</div>"
      ],
      "text/plain": [
       "                   track_name                     album  \\\n",
       "0             Fresas con nata           Fresas con nata   \n",
       "1                        Amén                Pa'l Coche   \n",
       "2          Llórame - Acústico        Llórame (Acústico)   \n",
       "3                Nit salvatge              Nit salvatge   \n",
       "4                    Amorfoda                  Amorfoda   \n",
       "..                        ...                       ...   \n",
       "545  Rockadown Subway Session  Rockadown Subway Session   \n",
       "546                   Je veux                       Zaz   \n",
       "547           Redemption Song                  Uprising   \n",
       "548                 Last Kiss                 Last Kiss   \n",
       "549                  Zinedine                  Zinedine   \n",
       "\n",
       "                   track_id                    artist  popularity  \\\n",
       "0    48sq0JdNEbXhQTdAorTzC9               Ayax y Prok           0   \n",
       "1    1PLxoOKyLKqicE5ErhrzkF               Cruz Cafuné          42   \n",
       "2    1eFx4b7oW6VGtxGBz6aTrW                   Zetazen          45   \n",
       "3    3TwSlfvFPPoz0K1yL1Ujxn             Smoking Souls          40   \n",
       "4    3ITvHA9zhZZdBJsOsAUegF                 Bad Bunny           0   \n",
       "..                      ...                       ...         ...   \n",
       "545  3bdhZxL276JwNlNsQgu51s                   Vanupié           0   \n",
       "546  734dz1YaFITwawPpM25fSt                       Zaz          68   \n",
       "547  26PwuMotZqcczKLHi4Htz3  Bob Marley & The Wailers          69   \n",
       "548  0QnONzv3TvHAWk294h6DaQ                 Pearl Jam          71   \n",
       "549  6DYrsZsQMqzA0ZaHmBKUjW               Ayax y Prok           0   \n",
       "\n",
       "     danceability  energy  key  loudness  mode  speechiness  acousticness  \\\n",
       "0           0.824   0.617    8   -10.429     1       0.4370      0.126000   \n",
       "1           0.685   0.480    2   -10.174     0       0.3350      0.130000   \n",
       "2           0.537   0.468    6    -8.551     1       0.0606      0.946000   \n",
       "3           0.587   0.675   10    -6.734     1       0.0313      0.000089   \n",
       "4           0.742   0.432    9    -7.539     0       0.0615      0.984000   \n",
       "..            ...     ...  ...       ...   ...          ...           ...   \n",
       "545         0.650   0.648    6    -6.694     0       0.3390      0.525000   \n",
       "546         0.525   0.807    2    -6.366     0       0.0725      0.251000   \n",
       "547         0.671   0.256    7   -10.743     1       0.0387      0.608000   \n",
       "548         0.622   0.692    7    -6.970     1       0.0276      0.363000   \n",
       "549         0.818   0.630    6    -8.743     0       0.4660      0.025700   \n",
       "\n",
       "     instrumentalness  liveness  valence    tempo  year_playlist  duration_ms  \\\n",
       "0            0.000000    0.1050    0.814  115.899           2018        210.0   \n",
       "1            0.000000    0.1190    0.440  183.973           2018        191.0   \n",
       "2            0.000000    0.0980    0.306  102.725           2018        233.0   \n",
       "3            0.000030    0.0984    0.382  109.978           2018        260.0   \n",
       "4            0.000058    0.0796    0.252  148.005           2018        156.0   \n",
       "..                ...       ...      ...      ...            ...          ...   \n",
       "545          0.000000    0.6830    0.792  140.607           2022        214.0   \n",
       "546          0.000000    0.0504    0.741  155.397           2022        216.0   \n",
       "547          0.000000    0.0737    0.694  115.871           2022        234.0   \n",
       "548          0.000158    0.1930    0.774  112.053           2022        195.0   \n",
       "549          0.000000    0.1250    0.846   95.984           2022        127.0   \n",
       "\n",
       "    tempo_str  \n",
       "0      medium  \n",
       "1        high  \n",
       "2         low  \n",
       "3         low  \n",
       "4      medium  \n",
       "..        ...  \n",
       "545    medium  \n",
       "546    medium  \n",
       "547    medium  \n",
       "548       low  \n",
       "549       low  \n",
       "\n",
       "[534 rows x 19 columns]"
      ]
     },
     "execution_count": 51,
     "metadata": {},
     "output_type": "execute_result"
    }
   ],
   "source": [
    "df_historical"
   ]
  },
  {
   "cell_type": "code",
   "execution_count": 54,
   "metadata": {},
   "outputs": [
    {
     "data": {
      "text/html": [
       "<div>\n",
       "<style scoped>\n",
       "    .dataframe tbody tr th:only-of-type {\n",
       "        vertical-align: middle;\n",
       "    }\n",
       "\n",
       "    .dataframe tbody tr th {\n",
       "        vertical-align: top;\n",
       "    }\n",
       "\n",
       "    .dataframe thead th {\n",
       "        text-align: right;\n",
       "    }\n",
       "</style>\n",
       "<table border=\"1\" class=\"dataframe\">\n",
       "  <thead>\n",
       "    <tr style=\"text-align: right;\">\n",
       "      <th></th>\n",
       "      <th>popularity</th>\n",
       "      <th>danceability</th>\n",
       "      <th>energy</th>\n",
       "      <th>key</th>\n",
       "      <th>loudness</th>\n",
       "      <th>mode</th>\n",
       "      <th>speechiness</th>\n",
       "      <th>acousticness</th>\n",
       "      <th>instrumentalness</th>\n",
       "      <th>liveness</th>\n",
       "      <th>valence</th>\n",
       "      <th>tempo</th>\n",
       "      <th>duration_ms</th>\n",
       "    </tr>\n",
       "  </thead>\n",
       "  <tbody>\n",
       "    <tr>\n",
       "      <th>count</th>\n",
       "      <td>534.000000</td>\n",
       "      <td>534.000000</td>\n",
       "      <td>534.000000</td>\n",
       "      <td>534.000000</td>\n",
       "      <td>534.000000</td>\n",
       "      <td>534.000000</td>\n",
       "      <td>534.000000</td>\n",
       "      <td>534.000000</td>\n",
       "      <td>534.000000</td>\n",
       "      <td>534.000000</td>\n",
       "      <td>534.000000</td>\n",
       "      <td>534.000000</td>\n",
       "      <td>534.000000</td>\n",
       "    </tr>\n",
       "    <tr>\n",
       "      <th>mean</th>\n",
       "      <td>0.391251</td>\n",
       "      <td>0.704508</td>\n",
       "      <td>0.678521</td>\n",
       "      <td>5.280899</td>\n",
       "      <td>4.972368</td>\n",
       "      <td>0.614232</td>\n",
       "      <td>0.182353</td>\n",
       "      <td>0.312070</td>\n",
       "      <td>0.015134</td>\n",
       "      <td>0.213634</td>\n",
       "      <td>0.574547</td>\n",
       "      <td>0.573509</td>\n",
       "      <td>0.251697</td>\n",
       "    </tr>\n",
       "    <tr>\n",
       "      <th>std</th>\n",
       "      <td>0.280424</td>\n",
       "      <td>0.154155</td>\n",
       "      <td>0.180404</td>\n",
       "      <td>3.570744</td>\n",
       "      <td>1.907538</td>\n",
       "      <td>0.487233</td>\n",
       "      <td>0.151694</td>\n",
       "      <td>0.279526</td>\n",
       "      <td>0.090867</td>\n",
       "      <td>0.166396</td>\n",
       "      <td>0.233568</td>\n",
       "      <td>0.147722</td>\n",
       "      <td>0.086278</td>\n",
       "    </tr>\n",
       "    <tr>\n",
       "      <th>min</th>\n",
       "      <td>0.000000</td>\n",
       "      <td>0.178228</td>\n",
       "      <td>0.044422</td>\n",
       "      <td>0.000000</td>\n",
       "      <td>1.000000</td>\n",
       "      <td>0.000000</td>\n",
       "      <td>0.027594</td>\n",
       "      <td>0.000014</td>\n",
       "      <td>0.000000</td>\n",
       "      <td>0.033333</td>\n",
       "      <td>0.061698</td>\n",
       "      <td>0.346534</td>\n",
       "      <td>0.071829</td>\n",
       "    </tr>\n",
       "    <tr>\n",
       "      <th>25%</th>\n",
       "      <td>0.010309</td>\n",
       "      <td>0.596852</td>\n",
       "      <td>0.550921</td>\n",
       "      <td>2.000000</td>\n",
       "      <td>3.640411</td>\n",
       "      <td>0.000000</td>\n",
       "      <td>0.055673</td>\n",
       "      <td>0.058511</td>\n",
       "      <td>0.000000</td>\n",
       "      <td>0.116786</td>\n",
       "      <td>0.371894</td>\n",
       "      <td>0.454654</td>\n",
       "      <td>0.200056</td>\n",
       "    </tr>\n",
       "    <tr>\n",
       "      <th>50%</th>\n",
       "      <td>0.448454</td>\n",
       "      <td>0.716115</td>\n",
       "      <td>0.689867</td>\n",
       "      <td>5.000000</td>\n",
       "      <td>4.673973</td>\n",
       "      <td>1.000000</td>\n",
       "      <td>0.120867</td>\n",
       "      <td>0.231707</td>\n",
       "      <td>0.000000</td>\n",
       "      <td>0.142857</td>\n",
       "      <td>0.580745</td>\n",
       "      <td>0.531115</td>\n",
       "      <td>0.237935</td>\n",
       "    </tr>\n",
       "    <tr>\n",
       "      <th>75%</th>\n",
       "      <td>0.597938</td>\n",
       "      <td>0.818303</td>\n",
       "      <td>0.825998</td>\n",
       "      <td>9.000000</td>\n",
       "      <td>5.907363</td>\n",
       "      <td>1.000000</td>\n",
       "      <td>0.288769</td>\n",
       "      <td>0.522358</td>\n",
       "      <td>0.000044</td>\n",
       "      <td>0.250000</td>\n",
       "      <td>0.767081</td>\n",
       "      <td>0.677636</td>\n",
       "      <td>0.282828</td>\n",
       "    </tr>\n",
       "    <tr>\n",
       "      <th>max</th>\n",
       "      <td>1.000000</td>\n",
       "      <td>1.000000</td>\n",
       "      <td>1.000000</td>\n",
       "      <td>11.000000</td>\n",
       "      <td>21.261644</td>\n",
       "      <td>1.000000</td>\n",
       "      <td>1.000000</td>\n",
       "      <td>1.000000</td>\n",
       "      <td>1.000000</td>\n",
       "      <td>1.000000</td>\n",
       "      <td>1.000000</td>\n",
       "      <td>1.000000</td>\n",
       "      <td>1.000000</td>\n",
       "    </tr>\n",
       "  </tbody>\n",
       "</table>\n",
       "</div>"
      ],
      "text/plain": [
       "       popularity  danceability      energy         key    loudness  \\\n",
       "count  534.000000    534.000000  534.000000  534.000000  534.000000   \n",
       "mean     0.391251      0.704508    0.678521    5.280899    4.972368   \n",
       "std      0.280424      0.154155    0.180404    3.570744    1.907538   \n",
       "min      0.000000      0.178228    0.044422    0.000000    1.000000   \n",
       "25%      0.010309      0.596852    0.550921    2.000000    3.640411   \n",
       "50%      0.448454      0.716115    0.689867    5.000000    4.673973   \n",
       "75%      0.597938      0.818303    0.825998    9.000000    5.907363   \n",
       "max      1.000000      1.000000    1.000000   11.000000   21.261644   \n",
       "\n",
       "             mode  speechiness  acousticness  instrumentalness    liveness  \\\n",
       "count  534.000000   534.000000    534.000000        534.000000  534.000000   \n",
       "mean     0.614232     0.182353      0.312070          0.015134    0.213634   \n",
       "std      0.487233     0.151694      0.279526          0.090867    0.166396   \n",
       "min      0.000000     0.027594      0.000014          0.000000    0.033333   \n",
       "25%      0.000000     0.055673      0.058511          0.000000    0.116786   \n",
       "50%      1.000000     0.120867      0.231707          0.000000    0.142857   \n",
       "75%      1.000000     0.288769      0.522358          0.000044    0.250000   \n",
       "max      1.000000     1.000000      1.000000          1.000000    1.000000   \n",
       "\n",
       "          valence       tempo  duration_ms  \n",
       "count  534.000000  534.000000   534.000000  \n",
       "mean     0.574547    0.573509     0.251697  \n",
       "std      0.233568    0.147722     0.086278  \n",
       "min      0.061698    0.346534     0.071829  \n",
       "25%      0.371894    0.454654     0.200056  \n",
       "50%      0.580745    0.531115     0.237935  \n",
       "75%      0.767081    0.677636     0.282828  \n",
       "max      1.000000    1.000000     1.000000  "
      ]
     },
     "execution_count": 54,
     "metadata": {},
     "output_type": "execute_result"
    }
   ],
   "source": [
    "df_mean\n",
    "df_historical['acousticness'] = df_historical['acousticness'] / df_historical['acousticness'].max()\n",
    "df_historical['danceability'] = df_historical['danceability'] / df_historical['danceability'].max()\n",
    "df_historical['duration_ms'] = df_historical['duration_ms'] / df_historical['duration_ms'].max()\n",
    "df_historical['energy'] = df_historical['energy'] / df_historical['energy'].max()\n",
    "df_historical['instrumentalness'] = df_historical['instrumentalness'] / df_historical['instrumentalness'].max()\n",
    "df_historical['liveness'] = df_historical['liveness'] / df_historical['liveness'].max()\n",
    "df_historical['speechiness'] = df_historical['speechiness'] / df_historical['speechiness'].max()\n",
    "df_historical['tempo'] = df_historical['tempo'] / df_historical['tempo'].max()\n",
    "df_historical['valence'] = df_historical['valence'] / df_historical['valence'].max()\n",
    "df_historical['popularity'] = df_historical['popularity'] / df_historical['popularity'].max()\n",
    "df_historical['loudness'] = df_historical['loudness'] / df_historical['loudness'].min()   #min because it is a negative value\n",
    "df_historical['year_playlist'] = df_historical['year_playlist'].astype(str)\n",
    "df_historical.describe()"
   ]
  },
  {
   "cell_type": "code",
   "execution_count": null,
   "metadata": {},
   "outputs": [],
   "source": []
  }
 ],
 "metadata": {
  "kernelspec": {
   "display_name": "Python 3.9.12 ('base')",
   "language": "python",
   "name": "python3"
  },
  "language_info": {
   "codemirror_mode": {
    "name": "ipython",
    "version": 3
   },
   "file_extension": ".py",
   "mimetype": "text/x-python",
   "name": "python",
   "nbconvert_exporter": "python",
   "pygments_lexer": "ipython3",
   "version": "3.9.12"
  },
  "orig_nbformat": 4,
  "vscode": {
   "interpreter": {
    "hash": "a3f3c9539b2b0d529c07b7548750098ae30aba30b940b3b3dd0f70005c5624b6"
   }
  }
 },
 "nbformat": 4,
 "nbformat_minor": 2
}
